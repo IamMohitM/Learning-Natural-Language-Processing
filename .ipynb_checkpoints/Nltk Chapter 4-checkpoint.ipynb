{
 "cells": [
  {
   "cell_type": "code",
   "execution_count": 5,
   "metadata": {},
   "outputs": [
    {
     "data": {
      "text/plain": [
       "['Monty', 'lala']"
      ]
     },
     "execution_count": 5,
     "metadata": {},
     "output_type": "execute_result"
    }
   ],
   "source": [
    "foo = ['Monty', 'Python']\n",
    "bar = foo\n",
    "foo[1] = 'lala'\n",
    "bar"
   ]
  },
  {
   "cell_type": "code",
   "execution_count": 6,
   "metadata": {},
   "outputs": [
    {
     "data": {
      "text/plain": [
       "['dskfkdljf', 'lala']"
      ]
     },
     "execution_count": 6,
     "metadata": {},
     "output_type": "execute_result"
    }
   ],
   "source": [
    "foo[0]='dskfkdljf'\n",
    "bar"
   ]
  },
  {
   "cell_type": "code",
   "execution_count": 7,
   "metadata": {},
   "outputs": [
    {
     "data": {
      "text/plain": [
       "[[], [], []]"
      ]
     },
     "execution_count": 7,
     "metadata": {},
     "output_type": "execute_result"
    }
   ],
   "source": [
    "empty=[]\n",
    "nested=[empty, empty, empty]\n",
    "nested"
   ]
  },
  {
   "cell_type": "code",
   "execution_count": 8,
   "metadata": {},
   "outputs": [
    {
     "data": {
      "text/plain": [
       "[['Python'], ['Python'], ['Python']]"
      ]
     },
     "execution_count": 8,
     "metadata": {},
     "output_type": "execute_result"
    }
   ],
   "source": [
    "nested[1].append('Python')\n",
    "nested"
   ]
  },
  {
   "cell_type": "markdown",
   "metadata": {},
   "source": [
    "Observe that changing one of the items inside our nested list of lists changed them all.\n",
    "This is because each of the three elements is actually just a reference to one and the\n",
    "same list in memory"
   ]
  },
  {
   "cell_type": "code",
   "execution_count": 48,
   "metadata": {},
   "outputs": [
    {
     "data": {
      "text/plain": [
       "[[], [], [], []]"
      ]
     },
     "execution_count": 48,
     "metadata": {},
     "output_type": "execute_result"
    }
   ],
   "source": [
    "empty =[[]]\n",
    "nest = empty * 4\n",
    "nest"
   ]
  },
  {
   "cell_type": "code",
   "execution_count": 49,
   "metadata": {},
   "outputs": [
    {
     "name": "stdout",
     "output_type": "stream",
     "text": [
      "1767649937544\n",
      "1767649937544\n",
      "1767649937544\n",
      "1767649937544\n"
     ]
    }
   ],
   "source": [
    "nest[1].append('test')\n",
    "for i in nest:\n",
    "    print(id(i))"
   ]
  },
  {
   "cell_type": "code",
   "execution_count": 50,
   "metadata": {},
   "outputs": [
    {
     "data": {
      "text/plain": [
       "[['test'], ['test'], ['test'], ['test']]"
      ]
     },
     "execution_count": 50,
     "metadata": {},
     "output_type": "execute_result"
    }
   ],
   "source": [
    "nest"
   ]
  },
  {
   "cell_type": "code",
   "execution_count": 51,
   "metadata": {
    "collapsed": true
   },
   "outputs": [],
   "source": [
    "nest[1]=['hello']"
   ]
  },
  {
   "cell_type": "code",
   "execution_count": 52,
   "metadata": {},
   "outputs": [
    {
     "data": {
      "text/plain": [
       "[['test'], ['hello'], ['test'], ['test']]"
      ]
     },
     "execution_count": 52,
     "metadata": {},
     "output_type": "execute_result"
    }
   ],
   "source": [
    "nest"
   ]
  },
  {
   "cell_type": "code",
   "execution_count": 53,
   "metadata": {},
   "outputs": [
    {
     "data": {
      "text/plain": [
       "['test']"
      ]
     },
     "execution_count": 53,
     "metadata": {},
     "output_type": "execute_result"
    }
   ],
   "source": [
    "empty[0]"
   ]
  },
  {
   "cell_type": "code",
   "execution_count": 56,
   "metadata": {},
   "outputs": [
    {
     "data": {
      "text/plain": [
       "[['lala']]"
      ]
     },
     "execution_count": 56,
     "metadata": {},
     "output_type": "execute_result"
    }
   ],
   "source": [
    "empty[0]=['lala']\n",
    "empty"
   ]
  },
  {
   "cell_type": "code",
   "execution_count": 55,
   "metadata": {},
   "outputs": [
    {
     "data": {
      "text/plain": [
       "[['test'], ['hello'], ['test'], ['test']]"
      ]
     },
     "execution_count": 55,
     "metadata": {},
     "output_type": "execute_result"
    }
   ],
   "source": [
    "nest"
   ]
  },
  {
   "cell_type": "code",
   "execution_count": 57,
   "metadata": {},
   "outputs": [
    {
     "data": {
      "text/plain": [
       "['dskfkdljf', 'lala']"
      ]
     },
     "execution_count": 57,
     "metadata": {},
     "output_type": "execute_result"
    }
   ],
   "source": [
    "bar"
   ]
  },
  {
   "cell_type": "code",
   "execution_count": 58,
   "metadata": {},
   "outputs": [
    {
     "data": {
      "text/plain": [
       "['dskfkdljf', 'lala']"
      ]
     },
     "execution_count": 58,
     "metadata": {},
     "output_type": "execute_result"
    }
   ],
   "source": [
    "foo"
   ]
  },
  {
   "cell_type": "code",
   "execution_count": 59,
   "metadata": {
    "collapsed": true
   },
   "outputs": [],
   "source": [
    "b=foo[:]"
   ]
  },
  {
   "cell_type": "code",
   "execution_count": 60,
   "metadata": {
    "collapsed": true
   },
   "outputs": [],
   "source": [
    "foo[1]='sfsdfh'"
   ]
  },
  {
   "cell_type": "code",
   "execution_count": 61,
   "metadata": {},
   "outputs": [
    {
     "data": {
      "text/plain": [
       "['dskfkdljf', 'lala']"
      ]
     },
     "execution_count": 61,
     "metadata": {},
     "output_type": "execute_result"
    }
   ],
   "source": [
    "b"
   ]
  },
  {
   "cell_type": "code",
   "execution_count": 62,
   "metadata": {},
   "outputs": [
    {
     "data": {
      "text/plain": [
       "['dskfkdljf', 'sfsdfh']"
      ]
     },
     "execution_count": 62,
     "metadata": {},
     "output_type": "execute_result"
    }
   ],
   "source": [
    "bar"
   ]
  },
  {
   "cell_type": "markdown",
   "metadata": {},
   "source": [
    "zip() takes the items of two or more sequences and “zips” them together into a single list of pairs."
   ]
  },
  {
   "cell_type": "code",
   "execution_count": 68,
   "metadata": {},
   "outputs": [
    {
     "name": "stdout",
     "output_type": "stream",
     "text": [
      "('I', 'Noun', (0, 'I'))\n",
      "('turned', 'Verb', (1, 'turned'))\n",
      "('off', 'prep', (2, 'off'))\n",
      "('the', 'det', (3, 'the'))\n",
      "('TV', 'noun', (4, 'TV'))\n"
     ]
    }
   ],
   "source": [
    "words = ['I', 'turned', 'off', 'the', 'TV']\n",
    "tags= ['Noun', 'Verb', 'prep', 'det', 'noun']\n",
    "for i in zip(words, tags, enumerate(words)):\n",
    "    print(i)"
   ]
  },
  {
   "cell_type": "code",
   "execution_count": 71,
   "metadata": {},
   "outputs": [
    {
     "data": {
      "text/plain": [
       "[(1, 'I'), (2, 'TV'), (3, 'off'), (3, 'the'), (6, 'turned')]"
      ]
     },
     "execution_count": 71,
     "metadata": {},
     "output_type": "execute_result"
    }
   ],
   "source": [
    "wordlens = [(len(word), word) for word in words]\n",
    "wordlens.sort()\n",
    "wordlens"
   ]
  },
  {
   "cell_type": "code",
   "execution_count": 80,
   "metadata": {},
   "outputs": [
    {
     "name": "stdout",
     "output_type": "stream",
     "text": [
      "['I', 'TV', 'off', 'the', 'turned']\n"
     ]
    }
   ],
   "source": [
    "print([w for (_, w) in wordlens])"
   ]
  },
  {
   "cell_type": "markdown",
   "metadata": {},
   "source": [
    "**First, strings appear at the beginning\n",
    "and the end: this is typical in the context where our program is reading in some text\n",
    "and producing output for us to read. Lists and tuples are used in the middle, but for\n",
    "different purposes. A list is typically a sequence of objects all having the same type, of\n",
    "arbitrary length. We often use lists to hold sequences of words. In contrast, a tuple is\n",
    "typically a collection of objects of different types, of fixed length. We often use a tuple\n",
    "to hold a record, a collection of different fields relating to some entity**"
   ]
  },
  {
   "cell_type": "markdown",
   "metadata": {},
   "source": [
    "**A good way to decide when to use tuples versus lists is to ask whether\n",
    "the interpretation of an item depends on its position. For example, a\n",
    "tagged token combines two strings having different interpretations, and\n",
    "we choose to interpret the first item as the token and the second item\n",
    "as the tag. Thus we use tuples like this: ('grail', 'noun'). A tuple of\n",
    "the form ('noun', 'grail') would be non-sensical since it would be a\n",
    "word noun tagged grail. In contrast, the elements of a text are all tokens,\n",
    "and position is not significant. Thus we use lists like this: ['venetian',\n",
    "'blind']. A list of the form ['blind', 'venetian'] would be equally\n",
    "valid. The linguistic meaning of the words might be different, but the\n",
    "interpretation of list items as tokens is unchanged.**"
   ]
  },
  {
   "cell_type": "code",
   "execution_count": 93,
   "metadata": {
    "collapsed": true
   },
   "outputs": [],
   "source": [
    "tup = [(1,\"mohit\"), (2, 'Sid')]\n",
    "tup[1]=(2,'dfjslskdj')"
   ]
  },
  {
   "cell_type": "code",
   "execution_count": 94,
   "metadata": {},
   "outputs": [
    {
     "data": {
      "text/plain": [
       "[(1, 'mohit'), (2, 'dfjslskdj')]"
      ]
     },
     "execution_count": 94,
     "metadata": {},
     "output_type": "execute_result"
    }
   ],
   "source": [
    "tup"
   ]
  },
  {
   "cell_type": "code",
   "execution_count": 95,
   "metadata": {},
   "outputs": [
    {
     "data": {
      "text/plain": [
       "[(1, 'mohit'), 'dfjslskdj']"
      ]
     },
     "execution_count": 95,
     "metadata": {},
     "output_type": "execute_result"
    }
   ],
   "source": [
    "tup[1]=('dfjslskdj')\n",
    "tup"
   ]
  },
  {
   "cell_type": "code",
   "execution_count": 96,
   "metadata": {},
   "outputs": [
    {
     "data": {
      "text/plain": [
       "'sdkjsd'"
      ]
     },
     "execution_count": 96,
     "metadata": {},
     "output_type": "execute_result"
    }
   ],
   "source": [
    "tup[1]= (2, 'Sid')\n",
    "a = tup[1]\n",
    "a = 'sdkjsd'\n",
    "a"
   ]
  },
  {
   "cell_type": "code",
   "execution_count": 97,
   "metadata": {},
   "outputs": [],
   "source": [
    "b =a"
   ]
  },
  {
   "cell_type": "code",
   "execution_count": 98,
   "metadata": {},
   "outputs": [
    {
     "data": {
      "text/plain": [
       "'sdkjsd'"
      ]
     },
     "execution_count": 98,
     "metadata": {},
     "output_type": "execute_result"
    }
   ],
   "source": [
    "a ='sdklfsjd'\n",
    "b"
   ]
  },
  {
   "cell_type": "code",
   "execution_count": 99,
   "metadata": {},
   "outputs": [
    {
     "data": {
      "text/plain": [
       "[(1, 'mohit')]"
      ]
     },
     "execution_count": 99,
     "metadata": {},
     "output_type": "execute_result"
    }
   ],
   "source": [
    "del tup[1]\n",
    "tup"
   ]
  },
  {
   "cell_type": "code",
   "execution_count": 108,
   "metadata": {},
   "outputs": [
    {
     "ename": "AssertionError",
     "evalue": "Should be String",
     "output_type": "error",
     "traceback": [
      "\u001b[1;31m---------------------------------------------------------------------------\u001b[0m",
      "\u001b[1;31mAssertionError\u001b[0m                            Traceback (most recent call last)",
      "\u001b[1;32m<ipython-input-108-10d6babfc92f>\u001b[0m in \u001b[0;36m<module>\u001b[1;34m()\u001b[0m\n\u001b[1;32m----> 1\u001b[1;33m \u001b[1;32massert\u001b[0m \u001b[0misinstance\u001b[0m\u001b[1;33m(\u001b[0m\u001b[1;36m1\u001b[0m\u001b[1;33m,\u001b[0m \u001b[0mstr\u001b[0m\u001b[1;33m)\u001b[0m\u001b[1;33m,\u001b[0m \u001b[1;34m\"Should be String\"\u001b[0m\u001b[1;33m\u001b[0m\u001b[0m\n\u001b[0m",
      "\u001b[1;31mAssertionError\u001b[0m: Should be String"
     ]
    }
   ],
   "source": [
    "assert isinstance(1, str), \"Should be String\""
   ]
  },
  {
   "cell_type": "markdown",
   "metadata": {},
   "source": [
    "**If the assert statement fails, it will produce an error that cannot be ignored, since it\n",
    "halts program execution. Additionally, the error message is easy to interpret. Adding assertions to a program helps you find logical errors, and is a kind of defensive programming.\n",
    "A more fundamental approach is to document the parameters to each\n",
    "function using docstrings**"
   ]
  },
  {
   "cell_type": "code",
   "execution_count": 109,
   "metadata": {
    "collapsed": true
   },
   "outputs": [],
   "source": [
    "sent = ['Take', 'care', 'of', 'the', 'sense', ',', 'and', 'the',\n",
    "        'sounds', 'will', 'take', 'care', 'of', 'themselves', '.']"
   ]
  },
  {
   "cell_type": "code",
   "execution_count": 110,
   "metadata": {},
   "outputs": [
    {
     "ename": "TypeError",
     "evalue": "must use keyword argument for key function",
     "output_type": "error",
     "traceback": [
      "\u001b[1;31m---------------------------------------------------------------------------\u001b[0m",
      "\u001b[1;31mTypeError\u001b[0m                                 Traceback (most recent call last)",
      "\u001b[1;32m<ipython-input-110-6f12be28eea9>\u001b[0m in \u001b[0;36m<module>\u001b[1;34m()\u001b[0m\n\u001b[1;32m----> 1\u001b[1;33m \u001b[0msorted\u001b[0m\u001b[1;33m(\u001b[0m\u001b[0msent\u001b[0m\u001b[1;33m,\u001b[0m \u001b[1;32mlambda\u001b[0m \u001b[0mx\u001b[0m\u001b[1;33m,\u001b[0m \u001b[0my\u001b[0m\u001b[1;33m:\u001b[0m \u001b[0mcmp\u001b[0m\u001b[1;33m(\u001b[0m\u001b[0mlen\u001b[0m\u001b[1;33m(\u001b[0m\u001b[0my\u001b[0m\u001b[1;33m)\u001b[0m\u001b[1;33m,\u001b[0m \u001b[0mlen\u001b[0m\u001b[1;33m(\u001b[0m\u001b[0mx\u001b[0m\u001b[1;33m)\u001b[0m\u001b[1;33m)\u001b[0m\u001b[1;33m)\u001b[0m\u001b[1;33m\u001b[0m\u001b[0m\n\u001b[0m",
      "\u001b[1;31mTypeError\u001b[0m: must use keyword argument for key function"
     ]
    }
   ],
   "source": [
    "sorted(sent, lambda x, y: cmp(len(y), len(x)))"
   ]
  },
  {
   "cell_type": "code",
   "execution_count": 114,
   "metadata": {
    "collapsed": true
   },
   "outputs": [],
   "source": [
    "import nltk\n",
    "\n",
    "def search2(sub, words):\n",
    "    for word in words:\n",
    "        if sub in word:\n",
    "            yield word#returns one word at a time. Better than appending to a list and returning"
   ]
  },
  {
   "cell_type": "code",
   "execution_count": 115,
   "metadata": {},
   "outputs": [
    {
     "name": "stdout",
     "output_type": "stream",
     "text": [
      "['Isaacson', 'Haaek', 'Haase', 'Isaac', 'Isaacs', 'Richter-Haaser', 'Isaac', 'Isaac', 'bazaar', 'Gaafer', 'bazaar', 'bazaar', 'Saadi', 'bazaar', 'Schaack', 'Schaack', 'Schaack', 'bazaars', 'Isaacs', 'Isaac', 'Isaac', 'Saabye', 'Isaac', \"Waal's\", 'Varlaam', 'Varlaam', 'Varlaam', \"Varlaam's\", \"Varlaam's\", 'Varlaam', 'Isaac', 'Isaac', 'Isaac', 'Isaac', 'Izaak', 'Izaak', \"Izaak's\", \"Izaak's\", \"Izaak's\", 'Izaak', 'Bazaar', 'Aaa-ee', 'Aaawww', 'Bazaar', 'bazaar', 'MacIsaacs']\n"
     ]
    }
   ],
   "source": [
    "print(list(search2('aa', nltk.corpus.brown.words())))"
   ]
  },
  {
   "cell_type": "markdown",
   "metadata": {},
   "source": [
    "### Higher Order Functions"
   ]
  },
  {
   "cell_type": "code",
   "execution_count": 116,
   "metadata": {
    "collapsed": true
   },
   "outputs": [],
   "source": [
    "def is_content_word(word):\n",
    "    return word.lower() not in ['a', 'the', 'an', ',', '.','of', 'and', 'will']\n",
    "sent = ['Take', 'care', 'of', 'the', 'sense', ',', 'and', 'the',\n",
    " 'sounds', 'will', 'take', 'care', 'of', 'themselves', '.']"
   ]
  },
  {
   "cell_type": "code",
   "execution_count": 118,
   "metadata": {},
   "outputs": [
    {
     "data": {
      "text/plain": [
       "['Take', 'care', 'sense', 'sounds', 'take', 'care', 'themselves']"
      ]
     },
     "execution_count": 118,
     "metadata": {},
     "output_type": "execute_result"
    }
   ],
   "source": [
    "list(filter(is_content_word, sent))"
   ]
  },
  {
   "cell_type": "markdown",
   "metadata": {},
   "source": [
    "We use this function as the first parameter of\n",
    "filter(), which applies the function to each item in the sequence contained in its\n",
    "second parameter, and retains only the items for which the function returns True"
   ]
  },
  {
   "cell_type": "markdown",
   "metadata": {},
   "source": [
    "Another higher-order function is map(), which applies a function to every item in a\n",
    "sequence."
   ]
  },
  {
   "cell_type": "code",
   "execution_count": 119,
   "metadata": {},
   "outputs": [
    {
     "data": {
      "text/plain": [
       "'Mo'"
      ]
     },
     "execution_count": 119,
     "metadata": {},
     "output_type": "execute_result"
    }
   ],
   "source": [
    "n='Mohit'\n",
    "n[:-3]"
   ]
  },
  {
   "cell_type": "code",
   "execution_count": 120,
   "metadata": {},
   "outputs": [
    {
     "data": {
      "text/plain": [
       "'hit'"
      ]
     },
     "execution_count": 120,
     "metadata": {},
     "output_type": "execute_result"
    }
   ],
   "source": [
    "n[-3:]"
   ]
  },
  {
   "cell_type": "markdown",
   "metadata": {},
   "source": [
    "### Named Arguments"
   ]
  },
  {
   "cell_type": "markdown",
   "metadata": {},
   "source": [
    "When there are a lot of parameters it is easy to get confused about the correct order.\n",
    "Instead we can refer to parameters by name, and even assign them a default value just\n",
    "in case one was not provided by the calling program. Now the parameters can be specified\n",
    "in any order, and can be omitted."
   ]
  },
  {
   "cell_type": "code",
   "execution_count": 122,
   "metadata": {
    "collapsed": true
   },
   "outputs": [],
   "source": [
    "def repeat(msg='<empty>', num=1):\n",
    "    return msg * num"
   ]
  },
  {
   "cell_type": "code",
   "execution_count": 123,
   "metadata": {},
   "outputs": [
    {
     "data": {
      "text/plain": [
       "'lallallallallal'"
      ]
     },
     "execution_count": 123,
     "metadata": {},
     "output_type": "execute_result"
    }
   ],
   "source": [
    "repeat(num=5, msg='lal')"
   ]
  },
  {
   "cell_type": "code",
   "execution_count": 125,
   "metadata": {},
   "outputs": [
    {
     "data": {
      "text/plain": [
       "'dkszdkszdksz'"
      ]
     },
     "execution_count": 125,
     "metadata": {},
     "output_type": "execute_result"
    }
   ],
   "source": [
    "repeat('dksz', 3)"
   ]
  },
  {
   "cell_type": "code",
   "execution_count": 126,
   "metadata": {},
   "outputs": [
    {
     "data": {
      "text/plain": [
       "'dskldskldskl'"
      ]
     },
     "execution_count": 126,
     "metadata": {},
     "output_type": "execute_result"
    }
   ],
   "source": [
    "repeat(3,'dskl')"
   ]
  },
  {
   "cell_type": "markdown",
   "metadata": {},
   "source": [
    "These are called keyword arguments. If we mix these two kinds of parameters, then\n",
    "we must ensure that the unnamed parameters precede the named ones."
   ]
  },
  {
   "cell_type": "markdown",
   "metadata": {},
   "source": [
    "**We can define a function that\n",
    "takes an arbitrary number of unnamed and named parameters, and access them via an\n",
    "in-place list of arguments \\*args and an in-place dictionary of keyword arguments\n",
    "\\*\\*kwargs.**"
   ]
  },
  {
   "cell_type": "markdown",
   "metadata": {},
   "source": [
    "A side effect of having named arguments is that they permit optionality. Thus we can\n",
    "leave out any arguments where we are happy with the default value:\n",
    "freq_words('ch01.rst', min=4), freq_words('ch01.rst', 4). Another common use of\n",
    "optional arguments is to permit a flag."
   ]
  },
  {
   "cell_type": "code",
   "execution_count": 132,
   "metadata": {},
   "outputs": [],
   "source": [
    "from nltk import FreqDist"
   ]
  },
  {
   "cell_type": "code",
   "execution_count": 145,
   "metadata": {},
   "outputs": [],
   "source": [
    "def freq_words(file, min=1, num=10, verbose=False):\n",
    "    freqdist = FreqDist()\n",
    "    if verbose: print(\"Opening\", file)\n",
    "    text = open(file).read()\n",
    "    print(text)\n",
    "    if verbose: print(\"Read in %d characters\" % len(file))\n",
    "    for word in nltk.word_tokenize(text):\n",
    "        if len(word) >= min:\n",
    "            freqdist.inc(word)\n",
    "    if verbose and freqdist.N() % 100 == 0: print(\".\")\n",
    "    if verbose: print()\n",
    "    return freqdist.keys()[:num]"
   ]
  },
  {
   "cell_type": "code",
   "execution_count": 146,
   "metadata": {},
   "outputs": [
    {
     "name": "stdout",
     "output_type": "stream",
     "text": [
      "Opening test.txt\n",
      "Programming is a skill that is acquired over several years of experience with a variety\n",
      "of programming languages and tasks. Key high-level abilities are algorithm design and\n",
      "its manifestation in structured programming. Key low-level abilities include familiarity\n",
      "with the syntactic constructs of the language, and knowledge of a variety of diagnostic\n",
      "methods for trouble-shooting a program which does not exhibit the expected behavior.\n",
      "This section describes the internal structure of a program module and how to organize\n",
      "a multi-module program. Then it describes various kinds of error that arise during\n",
      "program development, what you can do to fix them and, better still, to avoid them in\n",
      "the first place.\n",
      "Read in 8 charactersRead in 8 charactersRead in 8 charactersRead in 8 charactersRead in 8 charactersRead in 8 charactersRead in 8 charactersRead in 8 charactersRead in 8 charactersRead in 8 characters\n"
     ]
    },
    {
     "ename": "AttributeError",
     "evalue": "'FreqDist' object has no attribute 'inc'",
     "output_type": "error",
     "traceback": [
      "\u001b[1;31m---------------------------------------------------------------------------\u001b[0m",
      "\u001b[1;31mAttributeError\u001b[0m                            Traceback (most recent call last)",
      "\u001b[1;32m<ipython-input-146-27aa358c7f26>\u001b[0m in \u001b[0;36m<module>\u001b[1;34m()\u001b[0m\n\u001b[1;32m----> 1\u001b[1;33m \u001b[0mfreq_words\u001b[0m\u001b[1;33m(\u001b[0m\u001b[1;34m'test.txt'\u001b[0m\u001b[1;33m,\u001b[0m \u001b[0mverbose\u001b[0m\u001b[1;33m=\u001b[0m\u001b[1;32mTrue\u001b[0m\u001b[1;33m)\u001b[0m\u001b[1;33m\u001b[0m\u001b[0m\n\u001b[0m",
      "\u001b[1;32m<ipython-input-145-0d97ede814d7>\u001b[0m in \u001b[0;36mfreq_words\u001b[1;34m(file, min, num, verbose)\u001b[0m\n\u001b[0;32m      7\u001b[0m     \u001b[1;32mfor\u001b[0m \u001b[0mword\u001b[0m \u001b[1;32min\u001b[0m \u001b[0mnltk\u001b[0m\u001b[1;33m.\u001b[0m\u001b[0mword_tokenize\u001b[0m\u001b[1;33m(\u001b[0m\u001b[0mtext\u001b[0m\u001b[1;33m)\u001b[0m\u001b[1;33m:\u001b[0m\u001b[1;33m\u001b[0m\u001b[0m\n\u001b[0;32m      8\u001b[0m         \u001b[1;32mif\u001b[0m \u001b[0mlen\u001b[0m\u001b[1;33m(\u001b[0m\u001b[0mword\u001b[0m\u001b[1;33m)\u001b[0m \u001b[1;33m>=\u001b[0m \u001b[0mmin\u001b[0m\u001b[1;33m:\u001b[0m\u001b[1;33m\u001b[0m\u001b[0m\n\u001b[1;32m----> 9\u001b[1;33m             \u001b[0mfreqdist\u001b[0m\u001b[1;33m.\u001b[0m\u001b[0minc\u001b[0m\u001b[1;33m(\u001b[0m\u001b[0mword\u001b[0m\u001b[1;33m)\u001b[0m\u001b[1;33m\u001b[0m\u001b[0m\n\u001b[0m\u001b[0;32m     10\u001b[0m     \u001b[1;32mif\u001b[0m \u001b[0mverbose\u001b[0m \u001b[1;32mand\u001b[0m \u001b[0mfreqdist\u001b[0m\u001b[1;33m.\u001b[0m\u001b[0mN\u001b[0m\u001b[1;33m(\u001b[0m\u001b[1;33m)\u001b[0m \u001b[1;33m%\u001b[0m \u001b[1;36m100\u001b[0m \u001b[1;33m==\u001b[0m \u001b[1;36m0\u001b[0m\u001b[1;33m:\u001b[0m \u001b[0mprint\u001b[0m\u001b[1;33m(\u001b[0m\u001b[1;34m\".\"\u001b[0m\u001b[1;33m)\u001b[0m\u001b[1;33m\u001b[0m\u001b[0m\n\u001b[0;32m     11\u001b[0m     \u001b[1;32mif\u001b[0m \u001b[0mverbose\u001b[0m\u001b[1;33m:\u001b[0m \u001b[0mprint\u001b[0m\u001b[1;33m(\u001b[0m\u001b[1;33m)\u001b[0m\u001b[1;33m\u001b[0m\u001b[0m\n",
      "\u001b[1;31mAttributeError\u001b[0m: 'FreqDist' object has no attribute 'inc'"
     ]
    }
   ],
   "source": [
    "freq_words('test.txt', verbose=True)"
   ]
  },
  {
   "cell_type": "code",
   "execution_count": 135,
   "metadata": {},
   "outputs": [
    {
     "ename": "AttributeError",
     "evalue": "module 'nltk.translate.metrics' has no attribute 'distance'",
     "output_type": "error",
     "traceback": [
      "\u001b[1;31m---------------------------------------------------------------------------\u001b[0m",
      "\u001b[1;31mAttributeError\u001b[0m                            Traceback (most recent call last)",
      "\u001b[1;32m<ipython-input-135-7484a03067e0>\u001b[0m in \u001b[0;36m<module>\u001b[1;34m()\u001b[0m\n\u001b[1;32m----> 1\u001b[1;33m \u001b[0mnltk\u001b[0m\u001b[1;33m.\u001b[0m\u001b[0mmetrics\u001b[0m\u001b[1;33m.\u001b[0m\u001b[0mdistance\u001b[0m\u001b[1;33m.\u001b[0m\u001b[0m__file__\u001b[0m\u001b[1;33m\u001b[0m\u001b[0m\n\u001b[0m",
      "\u001b[1;31mAttributeError\u001b[0m: module 'nltk.translate.metrics' has no attribute 'distance'"
     ]
    }
   ],
   "source": [
    "nltk.metrics.distance.__file__"
   ]
  },
  {
   "cell_type": "code",
   "execution_count": 147,
   "metadata": {},
   "outputs": [
    {
     "name": "stdout",
     "output_type": "stream",
     "text": [
      "Help on module nltk.translate.metrics in nltk.translate:\n",
      "\n",
      "NAME\n",
      "    nltk.translate.metrics\n",
      "\n",
      "DESCRIPTION\n",
      "    # Natural Language Toolkit: Translation metrics\n",
      "    #\n",
      "    # Copyright (C) 2001-2017 NLTK Project\n",
      "    # Author: Will Zhang <wilzzha@gmail.com>\n",
      "    #         Guan Gui <ggui@student.unimelb.edu.au>\n",
      "    #         Steven Bird <stevenbird1@gmail.com>\n",
      "    # URL: <http://nltk.org/>\n",
      "    # For license information, see LICENSE.TXT\n",
      "\n",
      "FUNCTIONS\n",
      "    alignment_error_rate(reference, hypothesis, possible=None)\n",
      "        Return the Alignment Error Rate (AER) of an alignment\n",
      "        with respect to a \"gold standard\" reference alignment.\n",
      "        Return an error rate between 0.0 (perfect alignment) and 1.0 (no\n",
      "        alignment).\n",
      "        \n",
      "            >>> from nltk.translate import Alignment\n",
      "            >>> ref = Alignment([(0, 0), (1, 1), (2, 2)])\n",
      "            >>> test = Alignment([(0, 0), (1, 2), (2, 1)])\n",
      "            >>> alignment_error_rate(ref, test) # doctest: +ELLIPSIS\n",
      "            0.6666666666666667\n",
      "        \n",
      "        :type reference: Alignment\n",
      "        :param reference: A gold standard alignment (sure alignments)\n",
      "        :type hypothesis: Alignment\n",
      "        :param hypothesis: A hypothesis alignment (aka. candidate alignments)\n",
      "        :type possible: Alignment or None\n",
      "        :param possible: A gold standard reference of possible alignments\n",
      "            (defaults to *reference* if None)\n",
      "        :rtype: float or None\n",
      "\n",
      "DATA\n",
      "    division = _Feature((2, 2, 0, 'alpha', 2), (3, 0, 0, 'alpha', 0), 8192...\n",
      "\n",
      "FILE\n",
      "    c:\\users\\mohit\\anaconda3\\lib\\site-packages\\nltk\\translate\\metrics.py\n",
      "\n",
      "\n"
     ]
    }
   ],
   "source": [
    "help(nltk.metrics)"
   ]
  },
  {
   "cell_type": "markdown",
   "metadata": {},
   "source": [
    "**Some module variables and functions are only used within the module.\n",
    "These should have names beginning with an underscore, e.g.,\n",
    "_helper(), since this will hide the name. If another module imports this\n",
    "one, using the idiom: from module import *, these names will not be\n",
    "imported. You can optionally list the externally accessible names of a\n",
    "module using a special built-in variable like this: __all__ = ['edit_dis\n",
    "tance', 'jaccard_distance'].**"
   ]
  },
  {
   "cell_type": "code",
   "execution_count": 148,
   "metadata": {},
   "outputs": [
    {
     "data": {
      "text/plain": [
       "['ph.d.', 'n', '01']"
      ]
     },
     "execution_count": 148,
     "metadata": {},
     "output_type": "execute_result"
    }
   ],
   "source": [
    "test='ph.d..n.01'\n",
    "test.rsplit('.', 2)#Tp do at most two splits from the right"
   ]
  },
  {
   "cell_type": "markdown",
   "metadata": {},
   "source": [
    "### Debugging"
   ]
  },
  {
   "cell_type": "markdown",
   "metadata": {},
   "source": [
    "Python provides a debugger which allows you to monitor the execution of your program,\n",
    "specify line numbers where execution will stop (i.e., breakpoints), and step\n",
    "through sections of code and inspect the value of variables"
   ]
  },
  {
   "cell_type": "markdown",
   "metadata": {},
   "source": [
    ">import pdb<br>\n",
    "> import mymodule<br>\n",
    "> pdb.run('mymodule.myfunction()')<br>"
   ]
  },
  {
   "cell_type": "code",
   "execution_count": 155,
   "metadata": {},
   "outputs": [],
   "source": [
    "def find_words(text, wordlength, result=[]):\n",
    "    for word in text:\n",
    "        if len(word) == wordlength:\n",
    "            result.append(word)\n",
    "    return result"
   ]
  },
  {
   "cell_type": "code",
   "execution_count": 156,
   "metadata": {},
   "outputs": [
    {
     "data": {
      "text/plain": [
       "['omg', 'teh', 'teh', 'mat']"
      ]
     },
     "execution_count": 156,
     "metadata": {},
     "output_type": "execute_result"
    }
   ],
   "source": [
    "find_words(['omg', 'teh', 'lolcat', 'sitted', 'on', 'teh', 'mat'], 3)"
   ]
  },
  {
   "cell_type": "code",
   "execution_count": 157,
   "metadata": {},
   "outputs": [
    {
     "data": {
      "text/plain": [
       "['ur', 'on']"
      ]
     },
     "execution_count": 157,
     "metadata": {},
     "output_type": "execute_result"
    }
   ],
   "source": [
    "find_words(['omg', 'teh', 'lolcat', 'sitted', 'on', 'teh', 'mat'], 2, ['ur'])"
   ]
  },
  {
   "cell_type": "markdown",
   "metadata": {},
   "source": [
    "##### Notice the idfference. Result parameter is only initiated empty when it is loaded by the interpreter the first time. So when during the ext execution it is not empty/"
   ]
  },
  {
   "cell_type": "code",
   "execution_count": 158,
   "metadata": {},
   "outputs": [
    {
     "data": {
      "text/plain": [
       "['omg', 'teh', 'teh', 'mat', 'omg', 'teh', 'teh', 'mat']"
      ]
     },
     "execution_count": 158,
     "metadata": {},
     "output_type": "execute_result"
    }
   ],
   "source": [
    "find_words(['omg', 'teh', 'lolcat', 'sitted', 'on', 'teh', 'mat'], 3)"
   ]
  },
  {
   "cell_type": "code",
   "execution_count": 152,
   "metadata": {},
   "outputs": [
    {
     "name": "stdout",
     "output_type": "stream",
     "text": [
      "Help on module pdb:\n",
      "\n",
      "NAME\n",
      "    pdb\n",
      "\n",
      "DESCRIPTION\n",
      "    The Python Debugger Pdb\n",
      "    =======================\n",
      "    \n",
      "    To use the debugger in its simplest form:\n",
      "    \n",
      "            >>> import pdb\n",
      "            >>> pdb.run('<a statement>')\n",
      "    \n",
      "    The debugger's prompt is '(Pdb) '.  This will stop in the first\n",
      "    function call in <a statement>.\n",
      "    \n",
      "    Alternatively, if a statement terminated with an unhandled exception,\n",
      "    you can use pdb's post-mortem facility to inspect the contents of the\n",
      "    traceback:\n",
      "    \n",
      "            >>> <a statement>\n",
      "            <exception traceback>\n",
      "            >>> import pdb\n",
      "            >>> pdb.pm()\n",
      "    \n",
      "    The commands recognized by the debugger are listed in the next\n",
      "    section.  Most can be abbreviated as indicated; e.g., h(elp) means\n",
      "    that 'help' can be typed as 'h' or 'help' (but not as 'he' or 'hel',\n",
      "    nor as 'H' or 'Help' or 'HELP').  Optional arguments are enclosed in\n",
      "    square brackets.  Alternatives in the command syntax are separated\n",
      "    by a vertical bar (|).\n",
      "    \n",
      "    A blank line repeats the previous command literally, except for\n",
      "    'list', where it lists the next 11 lines.\n",
      "    \n",
      "    Commands that the debugger doesn't recognize are assumed to be Python\n",
      "    statements and are executed in the context of the program being\n",
      "    debugged.  Python statements can also be prefixed with an exclamation\n",
      "    point ('!').  This is a powerful way to inspect the program being\n",
      "    debugged; it is even possible to change variables or call functions.\n",
      "    When an exception occurs in such a statement, the exception name is\n",
      "    printed but the debugger's state is not changed.\n",
      "    \n",
      "    The debugger supports aliases, which can save typing.  And aliases can\n",
      "    have parameters (see the alias help entry) which allows one a certain\n",
      "    level of adaptability to the context under examination.\n",
      "    \n",
      "    Multiple commands may be entered on a single line, separated by the\n",
      "    pair ';;'.  No intelligence is applied to separating the commands; the\n",
      "    input is split at the first ';;', even if it is in the middle of a\n",
      "    quoted string.\n",
      "    \n",
      "    If a file \".pdbrc\" exists in your home directory or in the current\n",
      "    directory, it is read in and executed as if it had been typed at the\n",
      "    debugger prompt.  This is particularly useful for aliases.  If both\n",
      "    files exist, the one in the home directory is read first and aliases\n",
      "    defined there can be overridden by the local file.  This behavior can be\n",
      "    disabled by passing the \"readrc=False\" argument to the Pdb constructor.\n",
      "    \n",
      "    Aside from aliases, the debugger is not directly programmable; but it\n",
      "    is implemented as a class from which you can derive your own debugger\n",
      "    class, which you can make as fancy as you like.\n",
      "    \n",
      "    \n",
      "    Debugger commands\n",
      "    =================\n",
      "    \n",
      "    h(elp)\n",
      "            Without argument, print the list of available commands.\n",
      "            With a command name as argument, print help about that command.\n",
      "            \"help pdb\" shows the full pdb documentation.\n",
      "            \"help exec\" gives help on the ! command.\n",
      "    \n",
      "    w(here)\n",
      "            Print a stack trace, with the most recent frame at the bottom.\n",
      "            An arrow indicates the \"current frame\", which determines the\n",
      "            context of most commands.  'bt' is an alias for this command.\n",
      "    \n",
      "    d(own) [count]\n",
      "            Move the current frame count (default one) levels down in the\n",
      "            stack trace (to a newer frame).\n",
      "    \n",
      "    u(p) [count]\n",
      "            Move the current frame count (default one) levels up in the\n",
      "            stack trace (to an older frame).\n",
      "    \n",
      "    b(reak) [ ([filename:]lineno | function) [, condition] ]\n",
      "            Without argument, list all breaks.\n",
      "    \n",
      "            With a line number argument, set a break at this line in the\n",
      "            current file.  With a function name, set a break at the first\n",
      "            executable line of that function.  If a second argument is\n",
      "            present, it is a string specifying an expression which must\n",
      "            evaluate to true before the breakpoint is honored.\n",
      "    \n",
      "            The line number may be prefixed with a filename and a colon,\n",
      "            to specify a breakpoint in another file (probably one that\n",
      "            hasn't been loaded yet).  The file is searched for on\n",
      "            sys.path; the .py suffix may be omitted.\n",
      "    \n",
      "    tbreak [ ([filename:]lineno | function) [, condition] ]\n",
      "            Same arguments as break, but sets a temporary breakpoint: it\n",
      "            is automatically deleted when first hit.\n",
      "    \n",
      "    cl(ear) filename:lineno\n",
      "    cl(ear) [bpnumber [bpnumber...]]\n",
      "            With a space separated list of breakpoint numbers, clear\n",
      "            those breakpoints.  Without argument, clear all breaks (but\n",
      "            first ask confirmation).  With a filename:lineno argument,\n",
      "            clear all breaks at that line in that file.\n",
      "    \n",
      "    disable bpnumber [bpnumber ...]\n",
      "            Disables the breakpoints given as a space separated list of\n",
      "            breakpoint numbers.  Disabling a breakpoint means it cannot\n",
      "            cause the program to stop execution, but unlike clearing a\n",
      "            breakpoint, it remains in the list of breakpoints and can be\n",
      "            (re-)enabled.\n",
      "    \n",
      "    enable bpnumber [bpnumber ...]\n",
      "            Enables the breakpoints given as a space separated list of\n",
      "            breakpoint numbers.\n",
      "    \n",
      "    ignore bpnumber [count]\n",
      "            Set the ignore count for the given breakpoint number.  If\n",
      "            count is omitted, the ignore count is set to 0.  A breakpoint\n",
      "            becomes active when the ignore count is zero.  When non-zero,\n",
      "            the count is decremented each time the breakpoint is reached\n",
      "            and the breakpoint is not disabled and any associated\n",
      "            condition evaluates to true.\n",
      "    \n",
      "    condition bpnumber [condition]\n",
      "            Set a new condition for the breakpoint, an expression which\n",
      "            must evaluate to true before the breakpoint is honored.  If\n",
      "            condition is absent, any existing condition is removed; i.e.,\n",
      "            the breakpoint is made unconditional.\n",
      "    \n",
      "    commands [bpnumber]\n",
      "            (com) ...\n",
      "            (com) end\n",
      "            (Pdb)\n",
      "    \n",
      "            Specify a list of commands for breakpoint number bpnumber.\n",
      "            The commands themselves are entered on the following lines.\n",
      "            Type a line containing just 'end' to terminate the commands.\n",
      "            The commands are executed when the breakpoint is hit.\n",
      "    \n",
      "            To remove all commands from a breakpoint, type commands and\n",
      "            follow it immediately with end; that is, give no commands.\n",
      "    \n",
      "            With no bpnumber argument, commands refers to the last\n",
      "            breakpoint set.\n",
      "    \n",
      "            You can use breakpoint commands to start your program up\n",
      "            again.  Simply use the continue command, or step, or any other\n",
      "            command that resumes execution.\n",
      "    \n",
      "            Specifying any command resuming execution (currently continue,\n",
      "            step, next, return, jump, quit and their abbreviations)\n",
      "            terminates the command list (as if that command was\n",
      "            immediately followed by end).  This is because any time you\n",
      "            resume execution (even with a simple next or step), you may\n",
      "            encounter another breakpoint -- which could have its own\n",
      "            command list, leading to ambiguities about which list to\n",
      "            execute.\n",
      "    \n",
      "            If you use the 'silent' command in the command list, the usual\n",
      "            message about stopping at a breakpoint is not printed.  This\n",
      "            may be desirable for breakpoints that are to print a specific\n",
      "            message and then continue.  If none of the other commands\n",
      "            print anything, you will see no sign that the breakpoint was\n",
      "            reached.\n",
      "    \n",
      "    s(tep)\n",
      "            Execute the current line, stop at the first possible occasion\n",
      "            (either in a function that is called or in the current\n",
      "            function).\n",
      "    \n",
      "    n(ext)\n",
      "            Continue execution until the next line in the current function\n",
      "            is reached or it returns.\n",
      "    \n",
      "    unt(il) [lineno]\n",
      "            Without argument, continue execution until the line with a\n",
      "            number greater than the current one is reached.  With a line\n",
      "            number, continue execution until a line with a number greater\n",
      "            or equal to that is reached.  In both cases, also stop when\n",
      "            the current frame returns.\n",
      "    \n",
      "    j(ump) lineno\n",
      "            Set the next line that will be executed.  Only available in\n",
      "            the bottom-most frame.  This lets you jump back and execute\n",
      "            code again, or jump forward to skip code that you don't want\n",
      "            to run.\n",
      "    \n",
      "            It should be noted that not all jumps are allowed -- for\n",
      "            instance it is not possible to jump into the middle of a\n",
      "            for loop or out of a finally clause.\n",
      "    \n",
      "    r(eturn)\n",
      "            Continue execution until the current function returns.\n",
      "    \n",
      "    retval\n",
      "            Print the return value for the last return of a function.\n",
      "    \n",
      "    run [args...]\n",
      "            Restart the debugged python program. If a string is supplied\n",
      "            it is split with \"shlex\", and the result is used as the new\n",
      "            sys.argv.  History, breakpoints, actions and debugger options\n",
      "            are preserved.  \"restart\" is an alias for \"run\".\n",
      "    \n",
      "    c(ont(inue))\n",
      "            Continue execution, only stop when a breakpoint is encountered.\n",
      "    \n",
      "    l(ist) [first [,last] | .]\n",
      "    \n",
      "            List source code for the current file.  Without arguments,\n",
      "            list 11 lines around the current line or continue the previous\n",
      "            listing.  With . as argument, list 11 lines around the current\n",
      "            line.  With one argument, list 11 lines starting at that line.\n",
      "            With two arguments, list the given range; if the second\n",
      "            argument is less than the first, it is a count.\n",
      "    \n",
      "            The current line in the current frame is indicated by \"->\".\n",
      "            If an exception is being debugged, the line where the\n",
      "            exception was originally raised or propagated is indicated by\n",
      "            \">>\", if it differs from the current line.\n",
      "    \n",
      "    longlist | ll\n",
      "            List the whole source code for the current function or frame.\n",
      "    \n",
      "    a(rgs)\n",
      "            Print the argument list of the current function.\n",
      "    \n",
      "    p expression\n",
      "            Print the value of the expression.\n",
      "    \n",
      "    pp expression\n",
      "            Pretty-print the value of the expression.\n",
      "    \n",
      "    whatis arg\n",
      "            Print the type of the argument.\n",
      "    \n",
      "    source expression\n",
      "            Try to get source code for the given object and display it.\n",
      "    \n",
      "    display [expression]\n",
      "    \n",
      "            Display the value of the expression if it changed, each time execution\n",
      "            stops in the current frame.\n",
      "    \n",
      "            Without expression, list all display expressions for the current frame.\n",
      "    \n",
      "    undisplay [expression]\n",
      "    \n",
      "            Do not display the expression any more in the current frame.\n",
      "    \n",
      "            Without expression, clear all display expressions for the current frame.\n",
      "    \n",
      "    interact\n",
      "    \n",
      "            Start an interactive interpreter whose global namespace\n",
      "            contains all the (global and local) names found in the current scope.\n",
      "    \n",
      "    alias [name [command [parameter parameter ...] ]]\n",
      "            Create an alias called 'name' that executes 'command'.  The\n",
      "            command must *not* be enclosed in quotes.  Replaceable\n",
      "            parameters can be indicated by %1, %2, and so on, while %* is\n",
      "            replaced by all the parameters.  If no command is given, the\n",
      "            current alias for name is shown. If no name is given, all\n",
      "            aliases are listed.\n",
      "    \n",
      "            Aliases may be nested and can contain anything that can be\n",
      "            legally typed at the pdb prompt.  Note!  You *can* override\n",
      "            internal pdb commands with aliases!  Those internal commands\n",
      "            are then hidden until the alias is removed.  Aliasing is\n",
      "            recursively applied to the first word of the command line; all\n",
      "            other words in the line are left alone.\n",
      "    \n",
      "            As an example, here are two useful aliases (especially when\n",
      "            placed in the .pdbrc file):\n",
      "    \n",
      "            # Print instance variables (usage \"pi classInst\")\n",
      "            alias pi for k in %1.__dict__.keys(): print(\"%1.\",k,\"=\",%1.__dict__[k])\n",
      "            # Print instance variables in self\n",
      "            alias ps pi self\n",
      "    \n",
      "    unalias name\n",
      "            Delete the specified alias.\n",
      "    \n",
      "    debug code\n",
      "            Enter a recursive debugger that steps through the code\n",
      "            argument (which is an arbitrary expression or statement to be\n",
      "            executed in the current environment).\n",
      "    \n",
      "    q(uit)\n",
      "    exit\n",
      "            Quit from the debugger. The program being executed is aborted.\n",
      "    \n",
      "    (!) statement\n",
      "            Execute the (one-line) statement in the context of the current\n",
      "            stack frame.  The exclamation point can be omitted unless the\n",
      "            first word of the statement resembles a debugger command.  To\n",
      "            assign to a global variable you must always prefix the command\n",
      "            with a 'global' command, e.g.:\n",
      "            (Pdb) global list_options; list_options = ['-l']\n",
      "            (Pdb)\n",
      "\n",
      "CLASSES\n",
      "    bdb.Bdb(builtins.object)\n",
      "        Pdb(bdb.Bdb, cmd.Cmd)\n",
      "    cmd.Cmd(builtins.object)\n",
      "        Pdb(bdb.Bdb, cmd.Cmd)\n",
      "    \n",
      "    class Pdb(bdb.Bdb, cmd.Cmd)\n",
      "     |  Generic Python debugger base class.\n",
      "     |  \n",
      "     |  This class takes care of details of the trace facility;\n",
      "     |  a derived class should implement user interaction.\n",
      "     |  The standard debugger class (pdb.Pdb) is an example.\n",
      "     |  \n",
      "     |  Method resolution order:\n",
      "     |      Pdb\n",
      "     |      bdb.Bdb\n",
      "     |      cmd.Cmd\n",
      "     |      builtins.object\n",
      "     |  \n",
      "     |  Methods defined here:\n",
      "     |  \n",
      "     |  __init__(self, completekey='tab', stdin=None, stdout=None, skip=None, nosigint=False, readrc=True)\n",
      "     |      Instantiate a line-oriented interpreter framework.\n",
      "     |      \n",
      "     |      The optional argument 'completekey' is the readline name of a\n",
      "     |      completion key; it defaults to the Tab key. If completekey is\n",
      "     |      not None and the readline module is available, command completion\n",
      "     |      is done automatically. The optional arguments stdin and stdout\n",
      "     |      specify alternate input and output file objects; if not specified,\n",
      "     |      sys.stdin and sys.stdout are used.\n",
      "     |  \n",
      "     |  bp_commands(self, frame)\n",
      "     |      Call every command that was set for the current active breakpoint\n",
      "     |      (if there is one).\n",
      "     |      \n",
      "     |      Returns True if the normal interaction function must be called,\n",
      "     |      False otherwise.\n",
      "     |  \n",
      "     |  checkline(self, filename, lineno)\n",
      "     |      Check whether specified line seems to be executable.\n",
      "     |      \n",
      "     |      Return `lineno` if it is, 0 if not (e.g. a docstring, comment, blank\n",
      "     |      line or EOF). Warning: testing is not comprehensive.\n",
      "     |  \n",
      "     |  complete_b = _complete_location(self, text, line, begidx, endidx)\n",
      "     |  \n",
      "     |  complete_break = _complete_location(self, text, line, begidx, endidx)\n",
      "     |  \n",
      "     |  complete_cl = _complete_location(self, text, line, begidx, endidx)\n",
      "     |  \n",
      "     |  complete_clear = _complete_location(self, text, line, begidx, endidx)\n",
      "     |  \n",
      "     |  complete_commands = _complete_bpnumber(self, text, line, begidx, endidx)\n",
      "     |  \n",
      "     |  complete_condition = _complete_bpnumber(self, text, line, begidx, endidx)\n",
      "     |  \n",
      "     |  complete_debug = _complete_expression(self, text, line, begidx, endidx)\n",
      "     |  \n",
      "     |  complete_disable = _complete_bpnumber(self, text, line, begidx, endidx)\n",
      "     |  \n",
      "     |  complete_display = _complete_expression(self, text, line, begidx, endidx)\n",
      "     |  \n",
      "     |  complete_enable = _complete_bpnumber(self, text, line, begidx, endidx)\n",
      "     |  \n",
      "     |  complete_ignore = _complete_bpnumber(self, text, line, begidx, endidx)\n",
      "     |  \n",
      "     |  complete_p = _complete_expression(self, text, line, begidx, endidx)\n",
      "     |  \n",
      "     |  complete_pp = _complete_expression(self, text, line, begidx, endidx)\n",
      "     |  \n",
      "     |  complete_print = _complete_expression(self, text, line, begidx, endidx)\n",
      "     |  \n",
      "     |  complete_source = _complete_expression(self, text, line, begidx, endidx)\n",
      "     |  \n",
      "     |  complete_tbreak = _complete_location(self, text, line, begidx, endidx)\n",
      "     |  \n",
      "     |  complete_unalias(self, text, line, begidx, endidx)\n",
      "     |  \n",
      "     |  complete_undisplay(self, text, line, begidx, endidx)\n",
      "     |  \n",
      "     |  complete_whatis = _complete_expression(self, text, line, begidx, endidx)\n",
      "     |  \n",
      "     |  default(self, line)\n",
      "     |      Called on an input line when the command prefix is not recognized.\n",
      "     |      \n",
      "     |      If this method is not overridden, it prints an error message and\n",
      "     |      returns.\n",
      "     |  \n",
      "     |  defaultFile(self)\n",
      "     |      Produce a reasonable default.\n",
      "     |  \n",
      "     |  displayhook(self, obj)\n",
      "     |      Custom displayhook for the exec in default(), which prevents\n",
      "     |      assignment of the _ variable in the builtins.\n",
      "     |  \n",
      "     |  do_EOF(self, arg)\n",
      "     |      EOF\n",
      "     |      Handles the receipt of EOF as a command.\n",
      "     |  \n",
      "     |  do_a = do_args(self, arg)\n",
      "     |  \n",
      "     |  do_alias(self, arg)\n",
      "     |      alias [name [command [parameter parameter ...] ]]\n",
      "     |      Create an alias called 'name' that executes 'command'.  The\n",
      "     |      command must *not* be enclosed in quotes.  Replaceable\n",
      "     |      parameters can be indicated by %1, %2, and so on, while %* is\n",
      "     |      replaced by all the parameters.  If no command is given, the\n",
      "     |      current alias for name is shown. If no name is given, all\n",
      "     |      aliases are listed.\n",
      "     |      \n",
      "     |      Aliases may be nested and can contain anything that can be\n",
      "     |      legally typed at the pdb prompt.  Note!  You *can* override\n",
      "     |      internal pdb commands with aliases!  Those internal commands\n",
      "     |      are then hidden until the alias is removed.  Aliasing is\n",
      "     |      recursively applied to the first word of the command line; all\n",
      "     |      other words in the line are left alone.\n",
      "     |      \n",
      "     |      As an example, here are two useful aliases (especially when\n",
      "     |      placed in the .pdbrc file):\n",
      "     |      \n",
      "     |      # Print instance variables (usage \"pi classInst\")\n",
      "     |      alias pi for k in %1.__dict__.keys(): print(\"%1.\",k,\"=\",%1.__dict__[k])\n",
      "     |      # Print instance variables in self\n",
      "     |      alias ps pi self\n",
      "     |  \n",
      "     |  do_args(self, arg)\n",
      "     |      a(rgs)\n",
      "     |      Print the argument list of the current function.\n",
      "     |  \n",
      "     |  do_b = do_break(self, arg, temporary=0)\n",
      "     |  \n",
      "     |  do_break(self, arg, temporary=0)\n",
      "     |      b(reak) [ ([filename:]lineno | function) [, condition] ]\n",
      "     |      Without argument, list all breaks.\n",
      "     |      \n",
      "     |      With a line number argument, set a break at this line in the\n",
      "     |      current file.  With a function name, set a break at the first\n",
      "     |      executable line of that function.  If a second argument is\n",
      "     |      present, it is a string specifying an expression which must\n",
      "     |      evaluate to true before the breakpoint is honored.\n",
      "     |      \n",
      "     |      The line number may be prefixed with a filename and a colon,\n",
      "     |      to specify a breakpoint in another file (probably one that\n",
      "     |      hasn't been loaded yet).  The file is searched for on\n",
      "     |      sys.path; the .py suffix may be omitted.\n",
      "     |  \n",
      "     |  do_bt = do_where(self, arg)\n",
      "     |  \n",
      "     |  do_c = do_continue(self, arg)\n",
      "     |  \n",
      "     |  do_cl = do_clear(self, arg)\n",
      "     |  \n",
      "     |  do_clear(self, arg)\n",
      "     |      cl(ear) filename:lineno\n",
      "     |      cl(ear) [bpnumber [bpnumber...]]\n",
      "     |              With a space separated list of breakpoint numbers, clear\n",
      "     |              those breakpoints.  Without argument, clear all breaks (but\n",
      "     |              first ask confirmation).  With a filename:lineno argument,\n",
      "     |              clear all breaks at that line in that file.\n",
      "     |  \n",
      "     |  do_commands(self, arg)\n",
      "     |      commands [bpnumber]\n",
      "     |      (com) ...\n",
      "     |      (com) end\n",
      "     |      (Pdb)\n",
      "     |      \n",
      "     |      Specify a list of commands for breakpoint number bpnumber.\n",
      "     |      The commands themselves are entered on the following lines.\n",
      "     |      Type a line containing just 'end' to terminate the commands.\n",
      "     |      The commands are executed when the breakpoint is hit.\n",
      "     |      \n",
      "     |      To remove all commands from a breakpoint, type commands and\n",
      "     |      follow it immediately with end; that is, give no commands.\n",
      "     |      \n",
      "     |      With no bpnumber argument, commands refers to the last\n",
      "     |      breakpoint set.\n",
      "     |      \n",
      "     |      You can use breakpoint commands to start your program up\n",
      "     |      again.  Simply use the continue command, or step, or any other\n",
      "     |      command that resumes execution.\n",
      "     |      \n",
      "     |      Specifying any command resuming execution (currently continue,\n",
      "     |      step, next, return, jump, quit and their abbreviations)\n",
      "     |      terminates the command list (as if that command was\n",
      "     |      immediately followed by end).  This is because any time you\n",
      "     |      resume execution (even with a simple next or step), you may\n",
      "     |      encounter another breakpoint -- which could have its own\n",
      "     |      command list, leading to ambiguities about which list to\n",
      "     |      execute.\n",
      "     |      \n",
      "     |      If you use the 'silent' command in the command list, the usual\n",
      "     |      message about stopping at a breakpoint is not printed.  This\n",
      "     |      may be desirable for breakpoints that are to print a specific\n",
      "     |      message and then continue.  If none of the other commands\n",
      "     |      print anything, you will see no sign that the breakpoint was\n",
      "     |      reached.\n",
      "     |  \n",
      "     |  do_condition(self, arg)\n",
      "     |      condition bpnumber [condition]\n",
      "     |      Set a new condition for the breakpoint, an expression which\n",
      "     |      must evaluate to true before the breakpoint is honored.  If\n",
      "     |      condition is absent, any existing condition is removed; i.e.,\n",
      "     |      the breakpoint is made unconditional.\n",
      "     |  \n",
      "     |  do_cont = do_continue(self, arg)\n",
      "     |  \n",
      "     |  do_continue(self, arg)\n",
      "     |      c(ont(inue))\n",
      "     |      Continue execution, only stop when a breakpoint is encountered.\n",
      "     |  \n",
      "     |  do_d = do_down(self, arg)\n",
      "     |  \n",
      "     |  do_debug(self, arg)\n",
      "     |      debug code\n",
      "     |      Enter a recursive debugger that steps through the code\n",
      "     |      argument (which is an arbitrary expression or statement to be\n",
      "     |      executed in the current environment).\n",
      "     |  \n",
      "     |  do_disable(self, arg)\n",
      "     |      disable bpnumber [bpnumber ...]\n",
      "     |      Disables the breakpoints given as a space separated list of\n",
      "     |      breakpoint numbers.  Disabling a breakpoint means it cannot\n",
      "     |      cause the program to stop execution, but unlike clearing a\n",
      "     |      breakpoint, it remains in the list of breakpoints and can be\n",
      "     |      (re-)enabled.\n",
      "     |  \n",
      "     |  do_display(self, arg)\n",
      "     |      display [expression]\n",
      "     |      \n",
      "     |      Display the value of the expression if it changed, each time execution\n",
      "     |      stops in the current frame.\n",
      "     |      \n",
      "     |      Without expression, list all display expressions for the current frame.\n",
      "     |  \n",
      "     |  do_down(self, arg)\n",
      "     |      d(own) [count]\n",
      "     |      Move the current frame count (default one) levels down in the\n",
      "     |      stack trace (to a newer frame).\n",
      "     |  \n",
      "     |  do_enable(self, arg)\n",
      "     |      enable bpnumber [bpnumber ...]\n",
      "     |      Enables the breakpoints given as a space separated list of\n",
      "     |      breakpoint numbers.\n",
      "     |  \n",
      "     |  do_exit = do_quit(self, arg)\n",
      "     |  \n",
      "     |  do_h = do_help(self, arg)\n",
      "     |  \n",
      "     |  do_help(self, arg)\n",
      "     |      h(elp)\n",
      "     |      Without argument, print the list of available commands.\n",
      "     |      With a command name as argument, print help about that command.\n",
      "     |      \"help pdb\" shows the full pdb documentation.\n",
      "     |      \"help exec\" gives help on the ! command.\n",
      "     |  \n",
      "     |  do_ignore(self, arg)\n",
      "     |      ignore bpnumber [count]\n",
      "     |      Set the ignore count for the given breakpoint number.  If\n",
      "     |      count is omitted, the ignore count is set to 0.  A breakpoint\n",
      "     |      becomes active when the ignore count is zero.  When non-zero,\n",
      "     |      the count is decremented each time the breakpoint is reached\n",
      "     |      and the breakpoint is not disabled and any associated\n",
      "     |      condition evaluates to true.\n",
      "     |  \n",
      "     |  do_interact(self, arg)\n",
      "     |      interact\n",
      "     |      \n",
      "     |      Start an interactive interpreter whose global namespace\n",
      "     |      contains all the (global and local) names found in the current scope.\n",
      "     |  \n",
      "     |  do_j = do_jump(self, arg)\n",
      "     |  \n",
      "     |  do_jump(self, arg)\n",
      "     |      j(ump) lineno\n",
      "     |      Set the next line that will be executed.  Only available in\n",
      "     |      the bottom-most frame.  This lets you jump back and execute\n",
      "     |      code again, or jump forward to skip code that you don't want\n",
      "     |      to run.\n",
      "     |      \n",
      "     |      It should be noted that not all jumps are allowed -- for\n",
      "     |      instance it is not possible to jump into the middle of a\n",
      "     |      for loop or out of a finally clause.\n",
      "     |  \n",
      "     |  do_l = do_list(self, arg)\n",
      "     |  \n",
      "     |  do_list(self, arg)\n",
      "     |      l(ist) [first [,last] | .]\n",
      "     |      \n",
      "     |      List source code for the current file.  Without arguments,\n",
      "     |      list 11 lines around the current line or continue the previous\n",
      "     |      listing.  With . as argument, list 11 lines around the current\n",
      "     |      line.  With one argument, list 11 lines starting at that line.\n",
      "     |      With two arguments, list the given range; if the second\n",
      "     |      argument is less than the first, it is a count.\n",
      "     |      \n",
      "     |      The current line in the current frame is indicated by \"->\".\n",
      "     |      If an exception is being debugged, the line where the\n",
      "     |      exception was originally raised or propagated is indicated by\n",
      "     |      \">>\", if it differs from the current line.\n",
      "     |  \n",
      "     |  do_ll = do_longlist(self, arg)\n",
      "     |  \n",
      "     |  do_longlist(self, arg)\n",
      "     |      longlist | ll\n",
      "     |      List the whole source code for the current function or frame.\n",
      "     |  \n",
      "     |  do_n = do_next(self, arg)\n",
      "     |  \n",
      "     |  do_next(self, arg)\n",
      "     |      n(ext)\n",
      "     |      Continue execution until the next line in the current function\n",
      "     |      is reached or it returns.\n",
      "     |  \n",
      "     |  do_p(self, arg)\n",
      "     |      p expression\n",
      "     |      Print the value of the expression.\n",
      "     |  \n",
      "     |  do_pp(self, arg)\n",
      "     |      pp expression\n",
      "     |      Pretty-print the value of the expression.\n",
      "     |  \n",
      "     |  do_q = do_quit(self, arg)\n",
      "     |  \n",
      "     |  do_quit(self, arg)\n",
      "     |      q(uit)\n",
      "     |      exit\n",
      "     |              Quit from the debugger. The program being executed is aborted.\n",
      "     |  \n",
      "     |  do_r = do_return(self, arg)\n",
      "     |  \n",
      "     |  do_restart = do_run(self, arg)\n",
      "     |  \n",
      "     |  do_return(self, arg)\n",
      "     |      r(eturn)\n",
      "     |      Continue execution until the current function returns.\n",
      "     |  \n",
      "     |  do_retval(self, arg)\n",
      "     |      retval\n",
      "     |      Print the return value for the last return of a function.\n",
      "     |  \n",
      "     |  do_run(self, arg)\n",
      "     |      run [args...]\n",
      "     |      Restart the debugged python program. If a string is supplied\n",
      "     |      it is split with \"shlex\", and the result is used as the new\n",
      "     |      sys.argv.  History, breakpoints, actions and debugger options\n",
      "     |      are preserved.  \"restart\" is an alias for \"run\".\n",
      "     |  \n",
      "     |  do_rv = do_retval(self, arg)\n",
      "     |  \n",
      "     |  do_s = do_step(self, arg)\n",
      "     |  \n",
      "     |  do_source(self, arg)\n",
      "     |      source expression\n",
      "     |      Try to get source code for the given object and display it.\n",
      "     |  \n",
      "     |  do_step(self, arg)\n",
      "     |      s(tep)\n",
      "     |      Execute the current line, stop at the first possible occasion\n",
      "     |      (either in a function that is called or in the current\n",
      "     |      function).\n",
      "     |  \n",
      "     |  do_tbreak(self, arg)\n",
      "     |      tbreak [ ([filename:]lineno | function) [, condition] ]\n",
      "     |      Same arguments as break, but sets a temporary breakpoint: it\n",
      "     |      is automatically deleted when first hit.\n",
      "     |  \n",
      "     |  do_u = do_up(self, arg)\n",
      "     |  \n",
      "     |  do_unalias(self, arg)\n",
      "     |      unalias name\n",
      "     |      Delete the specified alias.\n",
      "     |  \n",
      "     |  do_undisplay(self, arg)\n",
      "     |      undisplay [expression]\n",
      "     |      \n",
      "     |      Do not display the expression any more in the current frame.\n",
      "     |      \n",
      "     |      Without expression, clear all display expressions for the current frame.\n",
      "     |  \n",
      "     |  do_unt = do_until(self, arg)\n",
      "     |  \n",
      "     |  do_until(self, arg)\n",
      "     |      unt(il) [lineno]\n",
      "     |      Without argument, continue execution until the line with a\n",
      "     |      number greater than the current one is reached.  With a line\n",
      "     |      number, continue execution until a line with a number greater\n",
      "     |      or equal to that is reached.  In both cases, also stop when\n",
      "     |      the current frame returns.\n",
      "     |  \n",
      "     |  do_up(self, arg)\n",
      "     |      u(p) [count]\n",
      "     |      Move the current frame count (default one) levels up in the\n",
      "     |      stack trace (to an older frame).\n",
      "     |  \n",
      "     |  do_w = do_where(self, arg)\n",
      "     |  \n",
      "     |  do_whatis(self, arg)\n",
      "     |      whatis arg\n",
      "     |      Print the type of the argument.\n",
      "     |  \n",
      "     |  do_where(self, arg)\n",
      "     |      w(here)\n",
      "     |      Print a stack trace, with the most recent frame at the bottom.\n",
      "     |      An arrow indicates the \"current frame\", which determines the\n",
      "     |      context of most commands.  'bt' is an alias for this command.\n",
      "     |  \n",
      "     |  error(self, msg)\n",
      "     |  \n",
      "     |  execRcLines(self)\n",
      "     |      # Can be executed earlier than 'setup' if desired\n",
      "     |  \n",
      "     |  forget(self)\n",
      "     |  \n",
      "     |  handle_command_def(self, line)\n",
      "     |      Handles one command line during command list definition.\n",
      "     |  \n",
      "     |  help_exec(self)\n",
      "     |      (!) statement\n",
      "     |      Execute the (one-line) statement in the context of the current\n",
      "     |      stack frame.  The exclamation point can be omitted unless the\n",
      "     |      first word of the statement resembles a debugger command.  To\n",
      "     |      assign to a global variable you must always prefix the command\n",
      "     |      with a 'global' command, e.g.:\n",
      "     |      (Pdb) global list_options; list_options = ['-l']\n",
      "     |      (Pdb)\n",
      "     |  \n",
      "     |  help_pdb(self)\n",
      "     |  \n",
      "     |  interaction(self, frame, traceback)\n",
      "     |  \n",
      "     |  lineinfo(self, identifier)\n",
      "     |  \n",
      "     |  lookupmodule(self, filename)\n",
      "     |      Helper function for break/clear parsing -- may be overridden.\n",
      "     |      \n",
      "     |      lookupmodule() translates (possibly incomplete) file or module name\n",
      "     |      into an absolute file name.\n",
      "     |  \n",
      "     |  message(self, msg)\n",
      "     |  \n",
      "     |  onecmd(self, line)\n",
      "     |      Interpret the argument as though it had been typed in response\n",
      "     |      to the prompt.\n",
      "     |      \n",
      "     |      Checks whether this line is typed at the normal prompt or in\n",
      "     |      a breakpoint command list definition.\n",
      "     |  \n",
      "     |  precmd(self, line)\n",
      "     |      Handle alias expansion and ';;' separator.\n",
      "     |  \n",
      "     |  preloop(self)\n",
      "     |      Hook method executed once when the cmdloop() method is called.\n",
      "     |  \n",
      "     |  print_stack_entry(self, frame_lineno, prompt_prefix='\\n-> ')\n",
      "     |  \n",
      "     |  print_stack_trace(self)\n",
      "     |  \n",
      "     |  reset(self)\n",
      "     |  \n",
      "     |  setup(self, f, tb)\n",
      "     |  \n",
      "     |  sigint_handler(self, signum, frame)\n",
      "     |  \n",
      "     |  user_call(self, frame, argument_list)\n",
      "     |      This method is called when there is the remote possibility\n",
      "     |      that we ever need to stop in this function.\n",
      "     |  \n",
      "     |  user_exception(self, frame, exc_info)\n",
      "     |      This function is called if an exception occurs,\n",
      "     |      but only if we are to stop at or just below this level.\n",
      "     |  \n",
      "     |  user_line(self, frame)\n",
      "     |      This function is called when we stop or break at this line.\n",
      "     |  \n",
      "     |  user_return(self, frame, return_value)\n",
      "     |      This function is called when a return trap is set here.\n",
      "     |  \n",
      "     |  ----------------------------------------------------------------------\n",
      "     |  Data and other attributes defined here:\n",
      "     |  \n",
      "     |  commands_resuming = ['do_continue', 'do_step', 'do_next', 'do_return',...\n",
      "     |  \n",
      "     |  ----------------------------------------------------------------------\n",
      "     |  Methods inherited from bdb.Bdb:\n",
      "     |  \n",
      "     |  break_anywhere(self, frame)\n",
      "     |  \n",
      "     |  break_here(self, frame)\n",
      "     |  \n",
      "     |  canonic(self, filename)\n",
      "     |  \n",
      "     |  clear_all_breaks(self)\n",
      "     |  \n",
      "     |  clear_all_file_breaks(self, filename)\n",
      "     |  \n",
      "     |  clear_bpbynumber(self, arg)\n",
      "     |  \n",
      "     |  clear_break(self, filename, lineno)\n",
      "     |  \n",
      "     |  dispatch_call(self, frame, arg)\n",
      "     |  \n",
      "     |  dispatch_exception(self, frame, arg)\n",
      "     |  \n",
      "     |  dispatch_line(self, frame)\n",
      "     |  \n",
      "     |  dispatch_return(self, frame, arg)\n",
      "     |  \n",
      "     |  format_stack_entry(self, frame_lineno, lprefix=': ')\n",
      "     |  \n",
      "     |  get_all_breaks(self)\n",
      "     |  \n",
      "     |  get_bpbynumber(self, arg)\n",
      "     |  \n",
      "     |  get_break(self, filename, lineno)\n",
      "     |  \n",
      "     |  get_breaks(self, filename, lineno)\n",
      "     |  \n",
      "     |  get_file_breaks(self, filename)\n",
      "     |  \n",
      "     |  get_stack(self, f, t)\n",
      "     |  \n",
      "     |  is_skipped_module(self, module_name)\n",
      "     |  \n",
      "     |  run(self, cmd, globals=None, locals=None)\n",
      "     |  \n",
      "     |  runcall(self, func, *args, **kwds)\n",
      "     |  \n",
      "     |  runctx(self, cmd, globals, locals)\n",
      "     |  \n",
      "     |  runeval(self, expr, globals=None, locals=None)\n",
      "     |  \n",
      "     |  set_break(self, filename, lineno, temporary=False, cond=None, funcname=None)\n",
      "     |  \n",
      "     |  set_continue(self)\n",
      "     |  \n",
      "     |  set_next(self, frame)\n",
      "     |      Stop on the next line in or below the given frame.\n",
      "     |  \n",
      "     |  set_quit(self)\n",
      "     |  \n",
      "     |  set_return(self, frame)\n",
      "     |      Stop when returning from the given frame.\n",
      "     |  \n",
      "     |  set_step(self)\n",
      "     |      Stop after one line of code.\n",
      "     |  \n",
      "     |  set_trace(self, frame=None)\n",
      "     |      Start debugging from `frame`.\n",
      "     |      \n",
      "     |      If frame is not specified, debugging starts from caller's frame.\n",
      "     |  \n",
      "     |  set_until(self, frame, lineno=None)\n",
      "     |      Stop when the line with the line no greater than the current one is\n",
      "     |      reached or when returning from current frame\n",
      "     |  \n",
      "     |  stop_here(self, frame)\n",
      "     |  \n",
      "     |  trace_dispatch(self, frame, event, arg)\n",
      "     |  \n",
      "     |  ----------------------------------------------------------------------\n",
      "     |  Data descriptors inherited from bdb.Bdb:\n",
      "     |  \n",
      "     |  __dict__\n",
      "     |      dictionary for instance variables (if defined)\n",
      "     |  \n",
      "     |  __weakref__\n",
      "     |      list of weak references to the object (if defined)\n",
      "     |  \n",
      "     |  ----------------------------------------------------------------------\n",
      "     |  Methods inherited from cmd.Cmd:\n",
      "     |  \n",
      "     |  cmdloop(self, intro=None)\n",
      "     |      Repeatedly issue a prompt, accept input, parse an initial prefix\n",
      "     |      off the received input, and dispatch to action methods, passing them\n",
      "     |      the remainder of the line as argument.\n",
      "     |  \n",
      "     |  columnize(self, list, displaywidth=80)\n",
      "     |      Display a list of strings as a compact set of columns.\n",
      "     |      \n",
      "     |      Each column is only as wide as necessary.\n",
      "     |      Columns are separated by two spaces (one was not legible enough).\n",
      "     |  \n",
      "     |  complete(self, text, state)\n",
      "     |      Return the next possible completion for 'text'.\n",
      "     |      \n",
      "     |      If a command has not been entered, then complete against command list.\n",
      "     |      Otherwise try to call complete_<command> to get list of completions.\n",
      "     |  \n",
      "     |  complete_help(self, *args)\n",
      "     |  \n",
      "     |  completedefault(self, *ignored)\n",
      "     |      Method called to complete an input line when no command-specific\n",
      "     |      complete_*() method is available.\n",
      "     |      \n",
      "     |      By default, it returns an empty list.\n",
      "     |  \n",
      "     |  completenames(self, text, *ignored)\n",
      "     |  \n",
      "     |  emptyline(self)\n",
      "     |      Called when an empty line is entered in response to the prompt.\n",
      "     |      \n",
      "     |      If this method is not overridden, it repeats the last nonempty\n",
      "     |      command entered.\n",
      "     |  \n",
      "     |  get_names(self)\n",
      "     |  \n",
      "     |  parseline(self, line)\n",
      "     |      Parse the line into a command name and a string containing\n",
      "     |      the arguments.  Returns a tuple containing (command, args, line).\n",
      "     |      'command' and 'args' may be None if the line couldn't be parsed.\n",
      "     |  \n",
      "     |  postcmd(self, stop, line)\n",
      "     |      Hook method executed just after a command dispatch is finished.\n",
      "     |  \n",
      "     |  postloop(self)\n",
      "     |      Hook method executed once when the cmdloop() method is about to\n",
      "     |      return.\n",
      "     |  \n",
      "     |  print_topics(self, header, cmds, cmdlen, maxcol)\n",
      "     |  \n",
      "     |  ----------------------------------------------------------------------\n",
      "     |  Data and other attributes inherited from cmd.Cmd:\n",
      "     |  \n",
      "     |  doc_header = 'Documented commands (type help <topic>):'\n",
      "     |  \n",
      "     |  doc_leader = ''\n",
      "     |  \n",
      "     |  identchars = 'abcdefghijklmnopqrstuvwxyzABCDEFGHIJKLMNOPQRSTUVWXYZ0123...\n",
      "     |  \n",
      "     |  intro = None\n",
      "     |  \n",
      "     |  lastcmd = ''\n",
      "     |  \n",
      "     |  misc_header = 'Miscellaneous help topics:'\n",
      "     |  \n",
      "     |  nohelp = '*** No help on %s'\n",
      "     |  \n",
      "     |  prompt = '(Cmd) '\n",
      "     |  \n",
      "     |  ruler = '='\n",
      "     |  \n",
      "     |  undoc_header = 'Undocumented commands:'\n",
      "     |  \n",
      "     |  use_rawinput = 1\n",
      "\n",
      "FUNCTIONS\n",
      "    help()\n",
      "        # print help\n",
      "    \n",
      "    pm()\n",
      "    \n",
      "    post_mortem(t=None)\n",
      "    \n",
      "    run(statement, globals=None, locals=None)\n",
      "    \n",
      "    runcall(*args, **kwds)\n",
      "    \n",
      "    runctx(statement, globals, locals)\n",
      "    \n",
      "    runeval(expression, globals=None, locals=None)\n",
      "    \n",
      "    set_trace()\n",
      "\n",
      "DATA\n",
      "    __all__ = ['run', 'pm', 'Pdb', 'runeval', 'runctx', 'runcall', 'set_tr...\n",
      "\n",
      "FILE\n",
      "    c:\\users\\mohit\\anaconda3\\lib\\pdb.py\n",
      "\n",
      "\n"
     ]
    }
   ],
   "source": [
    "import pdb\n",
    "help(pdb)"
   ]
  },
  {
   "cell_type": "code",
   "execution_count": 160,
   "metadata": {},
   "outputs": [
    {
     "data": {
      "text/plain": [
       "['omg', 'teh', 'teh', 'mat', 'omg', 'teh', 'teh', 'mat', 'cat']"
      ]
     },
     "execution_count": 160,
     "metadata": {},
     "output_type": "execute_result"
    }
   ],
   "source": [
    "find_words(['cat'], 3)"
   ]
  },
  {
   "cell_type": "code",
   "execution_count": 161,
   "metadata": {},
   "outputs": [
    {
     "data": {
      "text/plain": [
       "['cat']"
      ]
     },
     "execution_count": 161,
     "metadata": {},
     "output_type": "execute_result"
    }
   ],
   "source": [
    "find_words(['cat'], 3, result=[])"
   ]
  },
  {
   "cell_type": "code",
   "execution_count": 164,
   "metadata": {},
   "outputs": [
    {
     "name": "stdout",
     "output_type": "stream",
     "text": [
      "> <string>(1)<module>()\n",
      "(Pdb) s\n",
      "--Call--\n",
      "> <ipython-input-155-c8bbf12fcbb5>(1)find_words()\n",
      "-> def find_words(text, wordlength, result=[]):\n",
      "(Pdb) s\n",
      "> <ipython-input-155-c8bbf12fcbb5>(2)find_words()\n",
      "-> for word in text:\n",
      "(Pdb) s\n",
      "> <ipython-input-155-c8bbf12fcbb5>(3)find_words()\n",
      "-> if len(word) == wordlength:\n",
      "(Pdb) args\n",
      "text = ['dog']\n",
      "wordlength = 3\n",
      "result = ['omg', 'teh', 'teh', 'mat', 'omg', 'teh', 'teh', 'mat', 'cat', 'dog']\n",
      "(Pdb) b\n",
      "(Pdb) c\n"
     ]
    }
   ],
   "source": [
    "pdb.run('find_words([\"dog\"], 3)')"
   ]
  },
  {
   "cell_type": "markdown",
   "metadata": {},
   "source": [
    "**That's how you debug. It will present you with a prompt (Pdb) where you can type instructions to the debugger.\n",
    "Type help to see the full list of commands. Typing step (or just s) will execute the\n",
    "current line and stop. If the current line calls a function, it will enter the function and\n",
    "stop at the first line. Typing next (or just n) is similar, but it stops execution at the next\n",
    "line in the current function. The break (or b) command can be used to create or list\n",
    "breakpoints. Type continue (or c) to continue execution as far as the next breakpoint.\n",
    "Type the name of any variable to inspect its value.**"
   ]
  },
  {
   "cell_type": "markdown",
   "metadata": {},
   "source": [
    "**Here we typed just two commands into the debugger: step took us inside the function,\n",
    "and args showed the values of its arguments (or parameters). We see immediately that\n",
    "result has an initial value of ['cat'], and not the empty list as expected.**"
   ]
  },
  {
   "cell_type": "code",
   "execution_count": 165,
   "metadata": {},
   "outputs": [
    {
     "data": {
      "text/plain": [
       "['Mohit', 'motwani', 'Sujay', 'Patel']"
      ]
     },
     "execution_count": 165,
     "metadata": {},
     "output_type": "execute_result"
    }
   ],
   "source": [
    "['Mohit', \"motwani\"]+['Sujay','Patel']"
   ]
  },
  {
   "cell_type": "code",
   "execution_count": 166,
   "metadata": {},
   "outputs": [
    {
     "ename": "TypeError",
     "evalue": "can only concatenate list (not \"str\") to list",
     "output_type": "error",
     "traceback": [
      "\u001b[1;31m---------------------------------------------------------------------------\u001b[0m",
      "\u001b[1;31mTypeError\u001b[0m                                 Traceback (most recent call last)",
      "\u001b[1;32m<ipython-input-166-66dc5dfb0868>\u001b[0m in \u001b[0;36m<module>\u001b[1;34m()\u001b[0m\n\u001b[1;32m----> 1\u001b[1;33m \u001b[1;33m[\u001b[0m\u001b[1;34m'Mohit'\u001b[0m\u001b[1;33m,\u001b[0m \u001b[1;34m\"motwani\"\u001b[0m\u001b[1;33m]\u001b[0m\u001b[1;33m+\u001b[0m\u001b[1;34m\"S\"\u001b[0m\u001b[1;33m\u001b[0m\u001b[0m\n\u001b[0m",
      "\u001b[1;31mTypeError\u001b[0m: can only concatenate list (not \"str\") to list"
     ]
    }
   ],
   "source": [
    "['Mohit', \"motwani\"]+\"S\""
   ]
  },
  {
   "cell_type": "code",
   "execution_count": 167,
   "metadata": {
    "collapsed": true
   },
   "outputs": [],
   "source": [
    "def virahanka2(n):\n",
    "    lookup = [[\"\"], [\"S\"]]\n",
    "    for i in range(n-1):\n",
    "        s = [\"S\" + prosody for prosody in lookup[i+1]]\n",
    "        l = [\"L\" + prosody for prosody in lookup[i]]\n",
    "        lookup.append(s + l)\n",
    "    return lookup[n]"
   ]
  },
  {
   "cell_type": "code",
   "execution_count": 170,
   "metadata": {},
   "outputs": [
    {
     "name": "stdout",
     "output_type": "stream",
     "text": [
      "> <string>(1)<module>()\n",
      "(Pdb) s\n",
      "--Call--\n",
      "> <ipython-input-167-5b63a4c33a2f>(1)virahanka2()\n",
      "-> def virahanka2(n):\n",
      "(Pdb) s\n",
      "> <ipython-input-167-5b63a4c33a2f>(2)virahanka2()\n",
      "-> lookup = [[\"\"], [\"S\"]]\n",
      "(Pdb) s\n",
      "> <ipython-input-167-5b63a4c33a2f>(3)virahanka2()\n",
      "-> for i in range(n-1):\n",
      "(Pdb) s\n",
      "> <ipython-input-167-5b63a4c33a2f>(4)virahanka2()\n",
      "-> s = [\"S\" + prosody for prosody in lookup[i+1]]\n",
      "(Pdb) s\n",
      "--Call--\n",
      "> <ipython-input-167-5b63a4c33a2f>(4)<listcomp>()\n",
      "-> s = [\"S\" + prosody for prosody in lookup[i+1]]\n",
      "(Pdb) s\n",
      "> <ipython-input-167-5b63a4c33a2f>(4)<listcomp>()\n",
      "-> s = [\"S\" + prosody for prosody in lookup[i+1]]\n",
      "(Pdb) s\n",
      "> <ipython-input-167-5b63a4c33a2f>(4)<listcomp>()\n",
      "-> s = [\"S\" + prosody for prosody in lookup[i+1]]\n",
      "(Pdb) s\n",
      "--Return--\n",
      "> <ipython-input-167-5b63a4c33a2f>(4)<listcomp>()->['SS']\n",
      "-> s = [\"S\" + prosody for prosody in lookup[i+1]]\n",
      "(Pdb) s\n",
      "> <ipython-input-167-5b63a4c33a2f>(5)virahanka2()\n",
      "-> l = [\"L\" + prosody for prosody in lookup[i]]\n",
      "(Pdb) s\n",
      "--Call--\n",
      "> <ipython-input-167-5b63a4c33a2f>(5)<listcomp>()\n",
      "-> l = [\"L\" + prosody for prosody in lookup[i]]\n",
      "(Pdb) s\n",
      "> <ipython-input-167-5b63a4c33a2f>(5)<listcomp>()\n",
      "-> l = [\"L\" + prosody for prosody in lookup[i]]\n",
      "(Pdb) s\n",
      "> <ipython-input-167-5b63a4c33a2f>(5)<listcomp>()\n",
      "-> l = [\"L\" + prosody for prosody in lookup[i]]\n",
      "(Pdb) s\n",
      "--Return--\n",
      "> <ipython-input-167-5b63a4c33a2f>(5)<listcomp>()->['L']\n",
      "-> l = [\"L\" + prosody for prosody in lookup[i]]\n",
      "(Pdb) args\n",
      ".0 = <list_iterator object at 0x0000019B91F11FD0>\n",
      "(Pdb) s\n",
      "> <ipython-input-167-5b63a4c33a2f>(6)virahanka2()\n",
      "-> lookup.append(s + l)\n",
      "(Pdb) args\n",
      "n = 3\n",
      "(Pdb) s\n",
      "> <ipython-input-167-5b63a4c33a2f>(3)virahanka2()\n",
      "-> for i in range(n-1):\n",
      "(Pdb) s\n",
      "> <ipython-input-167-5b63a4c33a2f>(4)virahanka2()\n",
      "-> s = [\"S\" + prosody for prosody in lookup[i+1]]\n",
      "(Pdb) args\n",
      "n = 3\n",
      "(Pdb) b\n",
      "(Pdb) b\n",
      "(Pdb) args\n",
      "n = 3\n",
      "(Pdb) s\n",
      "--Call--\n",
      "> <ipython-input-167-5b63a4c33a2f>(4)<listcomp>()\n",
      "-> s = [\"S\" + prosody for prosody in lookup[i+1]]\n",
      "(Pdb) s\n",
      "> <ipython-input-167-5b63a4c33a2f>(4)<listcomp>()\n",
      "-> s = [\"S\" + prosody for prosody in lookup[i+1]]\n",
      "(Pdb) s\n",
      "> <ipython-input-167-5b63a4c33a2f>(4)<listcomp>()\n",
      "-> s = [\"S\" + prosody for prosody in lookup[i+1]]\n",
      "(Pdb) lookup\n",
      "*** NameError: name 'lookup' is not defined\n",
      "(Pdb) s\n",
      "> <ipython-input-167-5b63a4c33a2f>(4)<listcomp>()\n",
      "-> s = [\"S\" + prosody for prosody in lookup[i+1]]\n",
      "(Pdb) b\n",
      "(Pdb) *args\n",
      "*** SyntaxError: can't use starred expression here\n",
      "(Pdb) args*\n",
      ".0 = <list_iterator object at 0x0000019B91FF0710>\n",
      "(Pdb) s\n",
      "--Return--\n",
      "> <ipython-input-167-5b63a4c33a2f>(4)<listcomp>()->['SSS', 'SL']\n",
      "-> s = [\"S\" + prosody for prosody in lookup[i+1]]\n",
      "(Pdb) s\n",
      "> <ipython-input-167-5b63a4c33a2f>(5)virahanka2()\n",
      "-> l = [\"L\" + prosody for prosody in lookup[i]]\n",
      "(Pdb) s\n",
      "--Call--\n",
      "> <ipython-input-167-5b63a4c33a2f>(5)<listcomp>()\n",
      "-> l = [\"L\" + prosody for prosody in lookup[i]]\n",
      "(Pdb) s\n",
      "> <ipython-input-167-5b63a4c33a2f>(5)<listcomp>()\n",
      "-> l = [\"L\" + prosody for prosody in lookup[i]]\n",
      "(Pdb) s\n",
      "> <ipython-input-167-5b63a4c33a2f>(5)<listcomp>()\n",
      "-> l = [\"L\" + prosody for prosody in lookup[i]]\n",
      "(Pdb) s\n",
      "--Return--\n",
      "> <ipython-input-167-5b63a4c33a2f>(5)<listcomp>()->['LS']\n",
      "-> l = [\"L\" + prosody for prosody in lookup[i]]\n",
      "(Pdb) s\n",
      "> <ipython-input-167-5b63a4c33a2f>(6)virahanka2()\n",
      "-> lookup.append(s + l)\n",
      "(Pdb) s\n",
      "> <ipython-input-167-5b63a4c33a2f>(3)virahanka2()\n",
      "-> for i in range(n-1):\n",
      "(Pdb) s\n",
      "> <ipython-input-167-5b63a4c33a2f>(7)virahanka2()\n",
      "-> return lookup[n]\n",
      "(Pdb) s\n",
      "--Return--\n",
      "> <ipython-input-167-5b63a4c33a2f>(7)virahanka2()->['SSS', 'SL', 'LS']\n",
      "-> return lookup[n]\n",
      "(Pdb) s\n",
      "--Return--\n",
      "> <string>(1)<module>()->None\n",
      "(Pdb) s\n",
      "> c:\\users\\mohit\\anaconda3\\lib\\bdb.py(435)run()\n",
      "-> self.quitting = True\n",
      "(Pdb) s\n"
     ]
    }
   ],
   "source": [
    "pdb.run('virahanka2(3)')"
   ]
  },
  {
   "cell_type": "code",
   "execution_count": 169,
   "metadata": {},
   "outputs": [
    {
     "data": {
      "text/plain": [
       "['SSS', 'SL', 'LS']"
      ]
     },
     "execution_count": 169,
     "metadata": {},
     "output_type": "execute_result"
    }
   ],
   "source": [
    "virahanka2(3)"
   ]
  },
  {
   "cell_type": "code",
   "execution_count": null,
   "metadata": {
    "collapsed": true
   },
   "outputs": [],
   "source": []
  }
 ],
 "metadata": {
  "kernelspec": {
   "display_name": "Python 3",
   "language": "python",
   "name": "python3"
  },
  "language_info": {
   "codemirror_mode": {
    "name": "ipython",
    "version": 3
   },
   "file_extension": ".py",
   "mimetype": "text/x-python",
   "name": "python",
   "nbconvert_exporter": "python",
   "pygments_lexer": "ipython3",
   "version": "3.6.3"
  }
 },
 "nbformat": 4,
 "nbformat_minor": 2
}

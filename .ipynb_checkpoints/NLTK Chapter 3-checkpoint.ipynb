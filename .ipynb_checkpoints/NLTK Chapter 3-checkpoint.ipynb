{
 "cells": [
  {
   "cell_type": "code",
   "execution_count": 59,
   "metadata": {},
   "outputs": [],
   "source": [
    "from __future__ import division\n",
    "import nltk, re, pprint\n",
    "from bs4 import BeautifulSoup"
   ]
  },
  {
   "cell_type": "code",
   "execution_count": 60,
   "metadata": {},
   "outputs": [
    {
     "data": {
      "text/plain": [
       "str"
      ]
     },
     "execution_count": 60,
     "metadata": {},
     "output_type": "execute_result"
    }
   ],
   "source": [
    "from urllib.request import urlopen\n",
    "url=\"http://www.gutenberg.org/files/2554/2554-0.txt\"\n",
    "raw = urlopen(url).read()\n",
    "raw=str(raw)\n",
    "type(raw)\n"
   ]
  },
  {
   "cell_type": "code",
   "execution_count": 61,
   "metadata": {},
   "outputs": [
    {
     "data": {
      "text/plain": [
       "1358496"
      ]
     },
     "execution_count": 61,
     "metadata": {},
     "output_type": "execute_result"
    }
   ],
   "source": [
    "len(raw)"
   ]
  },
  {
   "cell_type": "code",
   "execution_count": 62,
   "metadata": {},
   "outputs": [
    {
     "data": {
      "text/plain": [
       "\"b'\\\\xef\\\\xbb\\\\xbfThe Project Gutenberg EBook of Crime and Punishment, by Fyodo\""
      ]
     },
     "execution_count": 62,
     "metadata": {},
     "output_type": "execute_result"
    }
   ],
   "source": [
    "raw[:75]"
   ]
  },
  {
   "cell_type": "markdown",
   "metadata": {},
   "source": [
    "Break up the string into words and punctuation - Tokenization"
   ]
  },
  {
   "cell_type": "code",
   "execution_count": null,
   "metadata": {
    "collapsed": true
   },
   "outputs": [],
   "source": []
  },
  {
   "cell_type": "code",
   "execution_count": 63,
   "metadata": {},
   "outputs": [
    {
     "data": {
      "text/plain": [
       "225596"
      ]
     },
     "execution_count": 63,
     "metadata": {},
     "output_type": "execute_result"
    }
   ],
   "source": [
    "tokens = nltk.word_tokenize(raw)\n",
    "len(tokens)"
   ]
  },
  {
   "cell_type": "code",
   "execution_count": 64,
   "metadata": {},
   "outputs": [
    {
     "data": {
      "text/plain": [
       "[\"b'\\\\xef\\\\xbb\\\\xbfThe\",\n",
       " 'Project',\n",
       " 'Gutenberg',\n",
       " 'EBook',\n",
       " 'of',\n",
       " 'Crime',\n",
       " 'and',\n",
       " 'Punishment',\n",
       " ',',\n",
       " 'by']"
      ]
     },
     "execution_count": 64,
     "metadata": {},
     "output_type": "execute_result"
    }
   ],
   "source": [
    "tokens[:10]"
   ]
  },
  {
   "cell_type": "markdown",
   "metadata": {},
   "source": [
    "To carry out all the nltk operations we just need to convert it to nltk text"
   ]
  },
  {
   "cell_type": "code",
   "execution_count": 65,
   "metadata": {},
   "outputs": [
    {
     "data": {
      "text/plain": [
       "nltk.text.Text"
      ]
     },
     "execution_count": 65,
     "metadata": {},
     "output_type": "execute_result"
    }
   ],
   "source": [
    "text=nltk.Text(tokens)\n",
    "type(text)"
   ]
  },
  {
   "cell_type": "code",
   "execution_count": 66,
   "metadata": {},
   "outputs": [
    {
     "name": "stdout",
     "output_type": "stream",
     "text": [
      "Katerina Ivanovna; Pyotr Petrovitch; Avdotya Romanovna; Pulcheria\n",
      "Alexandrovna; Rodion Romanovitch; Marfa Petrovna; \\xe2\\x80\\x9d cried;\n",
      "Sofya Semyonovna; \\xe2\\x80\\x9d said; old woman; \\xe2\\x80\\x9d\n",
      "Raskolnikov; Porfiry Petrovitch; Project Gutenberg-tm;\n",
      "don\\xe2\\x80\\x99t know; great deal; Amalia Ivanovna; young man; Hay\n",
      "Market; police station; Nikodim Fomitch\n"
     ]
    }
   ],
   "source": [
    "text.collocations()"
   ]
  },
  {
   "cell_type": "code",
   "execution_count": 67,
   "metadata": {},
   "outputs": [
    {
     "data": {
      "text/plain": [
       "1338288"
      ]
     },
     "execution_count": 67,
     "metadata": {},
     "output_type": "execute_result"
    }
   ],
   "source": [
    "raw.rfind(\"End of Project\")"
   ]
  },
  {
   "cell_type": "markdown",
   "metadata": {},
   "source": [
    "Text found on Web may contain unwanted material and there may not be an automatic way. Hence, we deal with HTML."
   ]
  },
  {
   "cell_type": "markdown",
   "metadata": {},
   "source": [
    "### Dealing with HTML"
   ]
  },
  {
   "cell_type": "code",
   "execution_count": 68,
   "metadata": {},
   "outputs": [
    {
     "data": {
      "text/plain": [
       "b'<!doctype html public \"-//W3C//DTD HTML 4.0 Transitional//EN'"
      ]
     },
     "execution_count": 68,
     "metadata": {},
     "output_type": "execute_result"
    }
   ],
   "source": [
    "url=\"http://news.bbc.co.uk/2/hi/health/2284783.stm\" #BBC News Story 'Blondies to die out in 200 years\n",
    "html=urlopen(url).read()\n",
    "html[:60]"
   ]
  },
  {
   "cell_type": "code",
   "execution_count": 71,
   "metadata": {},
   "outputs": [
    {
     "name": "stdout",
     "output_type": "stream",
     "text": [
      "['BBC', 'NEWS', '|', 'Health', '|', 'Blondes', \"'to\", 'die', 'out', 'in', '200', \"years'\", 'NEWS', 'SPORT', 'WEATHER', 'WORLD', 'SERVICE', 'A-Z', 'INDEX', 'SEARCH', 'You', 'are', 'in', ':', 'Health', 'News', 'Front', 'Page', 'Africa', 'Americas', 'Asia-Pacific', 'Europe', 'Middle', 'East', 'South', 'Asia', 'UK', 'Business', 'Entertainment', 'Science/Nature', 'Technology', 'Health', 'Medical', 'notes', '--', '--', '--', '--', '--', '--', '-', 'Talking', 'Point', '--', '--', '--', '--', '--', '--', '-', 'Country', 'Profiles', 'In', 'Depth', '--', '--', '--', '--', '--', '--', '-', 'Programmes', '--', '--', '--', '--', '--', '--', '-', 'SERVICES', 'Daily', 'E-mail', 'News', 'Ticker', 'Mobile/PDAs', '--', '--', '--', '--', '--', '--', '-', 'Text', 'Only', 'Feedback', 'Help', 'EDITIONS', 'Change', 'to', 'UK', 'Friday', ',', '27', 'September', ',', '2002', ',', '11:51', 'GMT', '12:51', 'UK', 'Blondes', \"'to\", 'die', 'out', 'in', '200', \"years'\", 'Scientists', 'believe', 'the', 'last', 'blondes', 'will', 'be', 'in', 'Finland', 'The', 'last', 'natural', 'blondes', 'will', 'die', 'out', 'within', '200', 'years', ',', 'scientists', 'believe', '.', 'A', 'study', 'by', 'experts', 'in', 'Germany', 'suggests', 'people', 'with', 'blonde', 'hair', 'are', 'an', 'endangered', 'species', 'and', 'will', 'become', 'extinct', 'by', '2202', '.', 'Researchers', 'predict', 'the', 'last', 'truly', 'natural', 'blonde', 'will', 'be', 'born', 'in', 'Finland', '-', 'the', 'country', 'with', 'the', 'highest', 'proportion', 'of', 'blondes', '.', 'The', 'frequency', 'of', 'blondes', 'may', 'drop', 'but', 'they', 'wo', \"n't\", 'disappear', 'Prof', 'Jonathan', 'Rees', ',', 'University', 'of', 'Edinburgh', 'But', 'they', 'say', 'too', 'few', 'people', 'now', 'carry', 'the', 'gene', 'for', 'blondes', 'to', 'last', 'beyond', 'the', 'next', 'two', 'centuries', '.', 'The', 'problem', 'is', 'that', 'blonde', 'hair', 'is', 'caused', 'by', 'a', 'recessive', 'gene', '.', 'In', 'order', 'for', 'a', 'child', 'to', 'have', 'blonde', 'hair', ',', 'it', 'must', 'have', 'the', 'gene', 'on', 'both', 'sides', 'of', 'the', 'family', 'in', 'the', 'grandparents', \"'\", 'generation', '.', 'Dyed', 'rivals', 'The', 'researchers', 'also', 'believe', 'that', 'so-called', 'bottle', 'blondes', 'may', 'be', 'to', 'blame', 'for', 'the', 'demise', 'of', 'their', 'natural', 'rivals', '.', 'They', 'suggest', 'that', 'dyed-blondes', 'are', 'more', 'attractive', 'to', 'men', 'who', 'choose', 'them', 'as', 'partners', 'over', 'true', 'blondes', '.', 'Bottle-blondes', 'like', 'Ann', 'Widdecombe', 'may', 'be', 'to', 'blame', 'But', 'Jonathan', 'Rees', ',', 'professor', 'of', 'dermatology', 'at', 'the', 'University', 'of', 'Edinburgh', 'said', 'it', 'was', 'unlikely', 'blondes', 'would', 'die', 'out', 'completely', '.', '``', 'Genes', 'do', \"n't\", 'die', 'out', 'unless', 'there', 'is', 'a', 'disadvantage', 'of', 'having', 'that', 'gene', 'or', 'by', 'chance', '.', 'They', 'do', \"n't\", 'disappear', ',', \"''\", 'he', 'told', 'BBC', 'News', 'Online', '.', '``', 'The', 'only', 'reason', 'blondes', 'would', 'disappear', 'is', 'if', 'having', 'the', 'gene', 'was', 'a', 'disadvantage', 'and', 'I', 'do', 'not', 'think', 'that', 'is', 'the', 'case', '.', '``', 'The', 'frequency', 'of', 'blondes', 'may', 'drop', 'but', 'they', 'wo', \"n't\", 'disappear', '.', \"''\", 'See', 'also', ':', '28', 'Mar', '01', '|', 'Education', 'What', 'is', 'it', 'about', 'blondes', '?', '09', 'Apr', '99', '|', 'Health', 'Platinum', 'blondes', 'are', 'labelled', 'as', 'dumb', '17', 'Apr', '02', '|', 'Health', 'Hair', 'dye', 'cancer', 'alert', 'Internet', 'links', ':', 'University', 'of', 'Edinburgh', 'The', 'BBC', 'is', 'not', 'responsible', 'for', 'the', 'content', 'of', 'external', 'internet', 'sites', 'Top', 'Health', 'stories', 'now', ':', 'Heart', 'risk', 'link', 'to', 'big', 'families', 'Back', 'pain', 'drug', \"'may\", 'aid', \"diabetics'\", 'Congo', 'Ebola', 'outbreak', 'confirmed', 'Vegetables', 'ward', 'off', \"Alzheimer's\", 'Polio', 'campaign', 'launched', 'in', 'Iraq', 'Gene', 'defect', 'explains', 'high', 'blood', 'pressure', 'Botox', \"'may\", 'cause', 'new', \"wrinkles'\", 'Alien', \"'abductees\", \"'\", 'show', 'real', 'symptoms', 'Links', 'to', 'more', 'Health', 'stories', 'are', 'at', 'the', 'foot', 'of', 'the', 'page', '.', 'E-mail', 'this', 'story', 'to', 'a', 'friend', 'Links', 'to', 'more', 'Health', 'stories', 'In', 'This', 'Section', 'Heart', 'risk', 'link', 'to', 'big', 'families', 'Back', 'pain', 'drug', \"'may\", 'aid', \"diabetics'\", 'Congo', 'Ebola', 'outbreak', 'confirmed', 'Vegetables', 'ward', 'off', \"Alzheimer's\", 'Polio', 'campaign', 'launched', 'in', 'Iraq', 'Gene', 'defect', 'explains', 'high', 'blood', 'pressure', 'Botox', \"'may\", 'cause', 'new', \"wrinkles'\", 'Alien', \"'abductees\", \"'\", 'show', 'real', 'symptoms', 'How', 'sperm', 'wriggle', 'Bollywood', 'told', 'to', 'stub', 'it', 'out', 'Fears', 'over', 'tuna', 'health', 'risk', 'to', 'babies', 'Public', 'can', 'be', 'taught', 'to', 'spot', 'strokes', '^^', 'Back', 'to', 'top', 'News', 'Front', 'Page', '|', 'Africa', '|', 'Americas', '|', 'Asia-Pacific', '|', 'Europe', '|', 'Middle', 'East', '|', 'South', 'Asia', '|', 'UK', '|', 'Business', '|', 'Entertainment', '|', 'Science/Nature', '|', 'Technology', '|', 'Health', '|', 'Talking', 'Point', '|', 'Country', 'Profiles', '|', 'In', 'Depth', '|', 'Programmes', '--', '--', '--', '--', '--', '--', '--', '--', '--', '--', '--', '--', '--', '--', '--', '--', '--', '--', '--', '--', '--', '--', '--', '--', '--', '--', '--', '--', '--', '--', '--', '--', '--', '--', '--', '--', '--', '--', '--', '--', '--', 'To', 'BBC', 'Sport', '>', '>', '|', 'To', 'BBC', 'Weather', '>', '>', '|', 'To', 'BBC', 'World', 'Service', '>', '>', '--', '--', '--', '--', '--', '--', '--', '--', '--', '--', '--', '--', '--', '--', '--', '--', '--', '--', '--', '--', '--', '--', '--', '--', '--', '--', '--', '--', '--', '--', '--', '--', '--', '--', '--', '--', '--', '--', '--', '--', '--', '©', 'MMIII', '|', 'News', 'Sources', '|', 'Privacy', '<', '!', '--', 'var', 'pCid=', \"''\", 'uk_bbc_0', \"''\", ';', 'var', 'w0=1', ';', 'var', 'refR=escape', '(', 'document.referrer', ')', ';', 'if', '(', 'refR.length', '>', '=252', ')', 'refR=refR.substring', '(', '0,252', ')', '+', \"''\", '...', \"''\", ';', '//', '--', '>', '<', '!', '--', 'var', 'w0=0', ';', '//', '--', '>', '<', '!', '--', 'if', '(', 'w0', ')', '{', 'var', 'imgN=', \"'\", '<', 'img', 'src=', \"''\", 'http', ':', '//server-uk.imrworldwide.com/cgi-bin/count', '?', \"ref='+\", 'refR+', \"'\", '&', \"cid='+pCid+\", \"'\", \"''\", 'width=1', 'height=1', '>', \"'\", ';', 'if', '(', 'navigator.userAgent.indexOf', '(', \"'Mac\", \"'\", ')', '!', '=-1', ')', '{', 'document.write', '(', 'imgN', ')', ';', '}', 'else', '{', 'document.write', '(', \"'\", '<', 'applet', 'code=', \"''\", 'Measure.class', \"''\", \"'+\", \"'codebase=\", \"''\", 'http', ':', '//server-uk.imrworldwide.com/', \"''\", \"'+'width=1\", 'height=2', '>', \"'+\", \"'\", '<', 'param', 'name=', \"''\", 'ref', \"''\", 'value=', \"''\", \"'+refR+\", \"'\", \"''\", '>', \"'+\", \"'\", '<', 'param', 'name=', \"''\", 'cid', \"''\", 'value=', \"''\", \"'+pCid+\", \"'\", \"''\", '>', '<', 'textflow', '>', \"'+imgN+\", \"'\", '<', '/textflow', '>', '<', '/applet', '>', \"'\", ')', ';', '}', '}', 'document.write', '(', '``', '<', 'COMMENT', '>', \"''\", ')', ';', '//', '--', '>', 'var', 'si', '=', 'document.location+', \"''\", \"''\", ';', 'var', 'tsi', '=', 'si.replace', '(', '``', '.stm', \"''\", ',', \"''\", \"''\", ')', '.substr', '(', 'si.length-11', ',', 'si.length', ')', ';', 'if', '(', '!', 'tsi.match', '(', '/\\\\d\\\\d\\\\d\\\\d\\\\d\\\\d\\\\d/', ')', ')', '{', 'tsi', '=', '0', ';', '}', 'document.write', '(', \"'\", '<', 'img', 'src=', \"''\", 'http', ':', '//stats.bbc.co.uk/o.gif', '?', '~RS~s~RS~News~RS~t~RS~HighWeb_Legacy~RS~i~RS~', \"'\", '+', 'tsi', '+', \"'~RS~p~RS~0~RS~u~RS~/2/hi/health/2284783.stm~RS~r~RS~\", '(', 'none', ')', '~RS~a~RS~International~RS~q~RS~~RS~z~RS~07~RS~', \"''\", '>', \"'\", ')', ';']\n"
     ]
    }
   ],
   "source": [
    "raw=BeautifulSoup(html,'html.parser').get_text()\n",
    "tokens=nltk.word_tokenize(raw)\n",
    "print(tokens)"
   ]
  },
  {
   "cell_type": "code",
   "execution_count": 74,
   "metadata": {},
   "outputs": [
    {
     "name": "stdout",
     "output_type": "stream",
     "text": [
      "['are', 'more', 'attractive', 'to', 'men', 'who', 'choose', 'them', 'as', 'partners', 'over', 'true', 'blondes', '.', 'Bottle-blondes', 'like', 'Ann', 'Widdecombe', 'may', 'be', 'to', 'blame', 'But', 'Jonathan', 'Rees', ',', 'professor', 'of', 'dermatology', 'at', 'the', 'University', 'of', 'Edinburgh', 'said', 'it', 'was', 'unlikely', 'blondes', 'would', 'die', 'out', 'completely', '.', '``', 'Genes', 'do', \"n't\", 'die', 'out', 'unless', 'there', 'is', 'a', 'disadvantage', 'of', 'having', 'that', 'gene', 'or', 'by', 'chance', '.', 'They', 'do', \"n't\", 'disappear', ',', \"''\", 'he', 'told', 'BBC', 'News', 'Online', '.', '``', 'The', 'only', 'reason', 'blondes', 'would', 'disappear', 'is', 'if', 'having', 'the', 'gene', 'was', 'a', 'disadvantage', 'and', 'I', 'do', 'not', 'think', 'that', 'is', 'the', 'case', '.', '``', 'The', 'frequency', 'of', 'blondes', 'may', 'drop', 'but', 'they', 'wo']\n"
     ]
    }
   ],
   "source": [
    "tokens=tokens[96:399]\n",
    "print(tokens)"
   ]
  },
  {
   "cell_type": "code",
   "execution_count": 76,
   "metadata": {},
   "outputs": [
    {
     "name": "stdout",
     "output_type": "stream",
     "text": [
      "Displaying 2 of 2 matches:\n",
      "ere is a disadvantage of having that gene or by chance . They do n't disappear\n",
      "des would disappear is if having the gene was a disadvantage and I do not thin\n"
     ]
    }
   ],
   "source": [
    "text = nltk.Text(tokens)\n",
    "text.concordance('gene')"
   ]
  },
  {
   "cell_type": "markdown",
   "metadata": {},
   "source": [
    "### Processing Search Engine Results`"
   ]
  },
  {
   "cell_type": "markdown",
   "metadata": {},
   "source": [
    "The Web can be thought of as a huge corpus of unannotated text. Web search engines\n",
    "provide an efficient means of searching this large quantity of text for relevant linguistic\n",
    "examples. The main advantage of search engines is size: since you are searching such\n",
    "a large set of documents, you are more likely to find any linguistic pattern you are\n",
    "interested in. Furthermore, you can make use of very specific patterns, which would\n",
    "match only one or two examples on a smaller example, but which might match tens of\n",
    "thousands of examples when run on the Web. A second advantage of web search engines\n",
    "is that they are very easy to use. Thus, they provide a very convenient tool for\n",
    "quickly checking a theory, to see if it is reasonable."
   ]
  },
  {
   "cell_type": "markdown",
   "metadata": {},
   "source": [
    "### Processing RSS Feeds "
   ]
  },
  {
   "cell_type": "code",
   "execution_count": 77,
   "metadata": {
    "collapsed": true
   },
   "outputs": [],
   "source": [
    "import feedparser"
   ]
  },
  {
   "cell_type": "code",
   "execution_count": 78,
   "metadata": {},
   "outputs": [
    {
     "data": {
      "text/plain": [
       "'Language Log'"
      ]
     },
     "execution_count": 78,
     "metadata": {},
     "output_type": "execute_result"
    }
   ],
   "source": [
    "llog=feedparser.parse(\"http://languagelog.ldc.upenn.edu/nll/?feed=atom\")\n",
    "llog['feed']['title']"
   ]
  },
  {
   "cell_type": "code",
   "execution_count": 81,
   "metadata": {},
   "outputs": [
    {
     "data": {
      "text/plain": [
       "13"
      ]
     },
     "execution_count": 81,
     "metadata": {},
     "output_type": "execute_result"
    }
   ],
   "source": [
    "len(llog.entries)"
   ]
  },
  {
   "cell_type": "code",
   "execution_count": 82,
   "metadata": {},
   "outputs": [
    {
     "data": {
      "text/plain": [
       "[{'author': 'Mark Liberman',\n",
       "  'author_detail': {'href': 'http://ling.upenn.edu/~myl',\n",
       "   'name': 'Mark Liberman'},\n",
       "  'authors': [{'href': 'http://ling.upenn.edu/~myl', 'name': 'Mark Liberman'}],\n",
       "  'content': [{'base': 'http://languagelog.ldc.upenn.edu/nll/?p=36395',\n",
       "    'language': 'en-US',\n",
       "    'type': 'text/html',\n",
       "    'value': '<p>Is it my imagination, or has there been a drop in GNP (Gross National Peeving) across the Anglophone world? I\\'m not seeing nearly the volume of \"<a href=\"http://languagelog.ldc.upenn.edu/nll/?p=45\" target=\"_blank\" rel=\"noopener\">Angry linguistic mobs with torches</a>\" that I (think I) did a decade ago.</p>\\n<p>So the <a href=\"https://news.google.com/news/search/section/q/continental%20literally?ned=us&amp;gl=US&amp;hl=en\" target=\"_blank\" rel=\"noopener\">recently viral story</a> about this sign on the door of the <a href=\"http://www.continentalnyc.com/\" target=\"_blank\" rel=\"noopener\">Continental bar</a> makes me kind of nostalgic:</p>\\n<blockquote class=\"twitter-tweet\" data-width=\"500\" data-dnt=\"true\">\\n<p lang=\"en\" dir=\"ltr\">East Village bar the Continental expounds on their (tongue-in-cheek) ban on the word literally. Their stated goal now is to stop “Kardashianism.” cc: <a href=\"https://twitter.com/edenbrower?ref_src=twsrc%5Etfw\">@edenbrower</a> <a href=\"https://t.co/iI0N41qCgt\">pic.twitter.com/iI0N41qCgt</a></p>\\n<p>&mdash; evgrieve (@evgrieve) <a href=\"https://twitter.com/evgrieve/status/956160126804688896?ref_src=twsrc%5Etfw\">January 24, 2018</a></p></blockquote>\\n<p><script async src=\"https://platform.twitter.com/widgets.js\" charset=\"utf-8\"></script></p>\\n<p><span id=\"more-36395\"></span></p>\\n<p>It\\'s also interesting that the bar owner, Trigger Smith, has eighty sixed all uses of <em>literally</em>, not just the ones that are stigmatized as contrary to the word\\'s etymology.</p>\\n<p>Of course the stigmatized usage has a long and semi-distinguished history &#8212; the OED lists it this way:</p>\\n<p style=\"padding-left: 30px;\"><strong>1.c.</strong> <em>colloq.</em> Used to indicate that some (frequently conventional) metaphorical or hyperbolical expression is to be taken in the strongest admissible sense: ‘virtually, as good as’; (also) ‘completely, utterly, absolutely’. Now one of the most common uses, although often considered irregular in standard English since it reverses the original sense of <em>literally</em> (‘not figuratively or metaphorically’).</p>\\n<p style=\"padding-left: 30px;\"><strong> 1769</strong> F. Brooke <em>Hist. Emily Montague</em> IV. ccxvii. 83 He is a fortunate man to be introduced to such a party of fine women at his arrival; it is literally to feed among the lilies.<br />\\n<strong>1801</strong> <em>Spirit of Farmers\\' Museum</em> 262 He is, literally, made up of marechal powder, cravat, and bootees.<br />\\n<strong>1825</strong> J. Denniston<em> Legends Galloway</em> 99 Lady Kirkclaugh, who, literally worn to a shadow, died of a broken heart.<br />\\n<strong>1863</strong> F. A. Kemble <em>Jrnl. Resid. Georgian Plantation</em> 105 For the last four years..I literally coined money.<br />\\n<strong>1876</strong> ‘M. Twain’ <em>Adventures Tom Sawyer</em> ii. 20 And when the middle of the afternoon came, from being a poor poverty-stricken boy in the morning, Tom was literally rolling in wealth.</p>\\n<p>And of course <em>very</em> and <em>really</em> have trod literally the same path from truth to intensification &#8212; but they apparently made the journey early enough not to run afoul of the semantic immigration authorities.</p>\\n<p>The sign\\'s gratuitous \"Kardashianism\" dig has sparked claims of sexism &#8212; see Clint Rainey, \"<a href=\"http://www.grubstreet.com/2018/01/continental-literally-ban-online-backlash.html\" target=\"_blank\" rel=\"noopener\">Bar That Banned ‘Literally’ Now Being Trashed Figuratively by Online Critics</a>\", <em>Grub Street</em> 1/26/2018. FWIW, my guess is that the association between <em>literally</em> and gender is driven more by prejudice and confirmation bias than by any literal differences in usage frequency.</p>\\n<p>Update &#8212; I should note that GNP is apparently on the rise in France &#8212; see \"<a href=\"http://languagelog.ldc.upenn.edu/nll/?p=34912\" target=\"_blank\" rel=\"noopener\">Écriture inclusive</a>\", 10/9/2017. And perhaps also in China &#8212; \"<a href=\"http://languagelog.ldc.upenn.edu/nll/?p=36350\" target=\"_blank\" rel=\"noopener\">Language vigilantism</a>\", 1/24/2018.</p>\\n<p>&nbsp;</p>'}],\n",
       "  'guidislink': False,\n",
       "  'href': 'http://ling.upenn.edu/~myl',\n",
       "  'id': 'http://languagelog.ldc.upenn.edu/nll/?p=36395',\n",
       "  'link': 'http://languagelog.ldc.upenn.edu/nll/?p=36395',\n",
       "  'links': [{'href': 'http://languagelog.ldc.upenn.edu/nll/?p=36395',\n",
       "    'rel': 'alternate',\n",
       "    'type': 'text/html'},\n",
       "   {'count': '6',\n",
       "    'href': 'http://languagelog.ldc.upenn.edu/nll/?p=36395#comments',\n",
       "    'rel': 'replies',\n",
       "    'thr:count': '6',\n",
       "    'type': 'text/html'},\n",
       "   {'count': '6',\n",
       "    'href': 'http://languagelog.ldc.upenn.edu/nll/?feed=atom&p=36395',\n",
       "    'rel': 'replies',\n",
       "    'thr:count': '6',\n",
       "    'type': 'application/atom+xml'}],\n",
       "  'published': '2018-01-27T00:57:23Z',\n",
       "  'published_parsed': time.struct_time(tm_year=2018, tm_mon=1, tm_mday=27, tm_hour=0, tm_min=57, tm_sec=23, tm_wday=5, tm_yday=27, tm_isdst=0),\n",
       "  'summary': 'Is it my imagination, or has there been a drop in GNP (Gross National Peeving) across the Anglophone world? I\\'m not seeing nearly the volume of \"Angry linguistic mobs with torches\" that I (think I) did a decade ago. So the recently viral story about this sign on the door of the Continental bar makes [&#8230;]',\n",
       "  'summary_detail': {'base': 'http://languagelog.ldc.upenn.edu/nll/wp-atom.php',\n",
       "   'language': 'en-US',\n",
       "   'type': 'text/html',\n",
       "   'value': 'Is it my imagination, or has there been a drop in GNP (Gross National Peeving) across the Anglophone world? I\\'m not seeing nearly the volume of \"Angry linguistic mobs with torches\" that I (think I) did a decade ago. So the recently viral story about this sign on the door of the Continental bar makes [&#8230;]'},\n",
       "  'tags': [{'label': None,\n",
       "    'scheme': 'http://languagelog.ldc.upenn.edu/nll',\n",
       "    'term': 'Peeving'}],\n",
       "  'thr_total': '6',\n",
       "  'title': 'Global drop in GNP?',\n",
       "  'title_detail': {'base': 'http://languagelog.ldc.upenn.edu/nll/wp-atom.php',\n",
       "   'language': 'en-US',\n",
       "   'type': 'text/html',\n",
       "   'value': 'Global drop in GNP?'},\n",
       "  'updated': '2018-01-27T10:19:19Z',\n",
       "  'updated_parsed': time.struct_time(tm_year=2018, tm_mon=1, tm_mday=27, tm_hour=10, tm_min=19, tm_sec=19, tm_wday=5, tm_yday=27, tm_isdst=0)},\n",
       " {'author': 'Victor Mair',\n",
       "  'author_detail': {'href': 'https://www.sas.upenn.edu/ealc/mair',\n",
       "   'name': 'Victor Mair'},\n",
       "  'authors': [{'href': 'https://www.sas.upenn.edu/ealc/mair',\n",
       "    'name': 'Victor Mair'}],\n",
       "  'content': [{'base': 'http://languagelog.ldc.upenn.edu/nll/?p=36354',\n",
       "    'language': 'en-US',\n",
       "    'type': 'text/html',\n",
       "    'value': '<p>Screenshot from Nikita Kuzmin\\'s WeChat:</p>\\n<p align=\"center\"><a href=\"http://languagelog.ldc.upenn.edu/~bgzimmer/chihuo.jpg\"><img title=\"Click to embiggen\" src=\"http://languagelog.ldc.upenn.edu/~bgzimmer/chihuo.jpg\" alt=\"\" width=\"300\" /></a><span id=\"more-36354\"></span></p>\\n<p>The sentence ending in a smiley face, just above the huge broiled trotter (I think that\\'s what it is) on a chair, reads thus:</p>\\n<p style=\"padding-left: 30px;\">Shìwèn nǎge shào(chi)nǚ(huo) bù xiǎng yǒngyǒu yī zhǐ zhèyàng de bàozhěn ne\\xa0<span class=\"m_-3800088303203109760moz-smiley-s1\">:-)</span></p>\\n<p style=\"padding-left: 30px;\">试问哪个少(chi)女(huo)不想拥有一只这样的抱枕呢<span class=\"m_-3800088303203109760moz-smiley-s1\">:-<wbr />)</span></p>\\n<p style=\"padding-left: 30px;\">\"Let me ask, \\'Which foodie girl would not want to have a pillow / bolster like this?\\'\"<span class=\"m_-3800088303203109760moz-smiley-s1\">:-)</span></p>\\n<p>It recent years, it has become very popular in internet language to combine two ideas into one term by glossing the individual syllables of a word in characters with the alternated syllables of another word in parenthetical pinyin.\\xa0 Thus, shào(chi)nǚ(huo) 少(chi)女(huo) = shàonǚ chīhuò 少女吃货 (\"girl who is a foodie / chowhound\")</p>\\n<p>We have examined this technique of lexical formation in several earlier posts:</p>\\n<ul>\\n<li>\"<a href=\"http://languagelog.ldc.upenn.edu/nll/?p=14054\" target=\"_blank\" rel=\"noopener\" data-saferedirecturl=\"https://www.google.com/url?hl=en&amp;q=http://languagelog.ldc.upenn.edu/nll/?p%3D14054&amp;source=gmail&amp;ust=1517068743309000&amp;usg=AFQjCNEhHh44a0xTCdB0qvRzdip5JrdOsw\">Biscriptal juxtaposition in Chinese</a>\" (8/17/14)</li>\\n<li>\"<a href=\"http://languagelog.ldc.upenn.edu/nll/?p=15171\" target=\"_blank\" rel=\"noopener\" data-saferedirecturl=\"https://www.google.com/url?hl=en&amp;q=http://languagelog.ldc.upenn.edu/nll/?p%3D15171&amp;source=gmail&amp;ust=1517068743309000&amp;usg=AFQjCNHGr3U-gcWGRmmrVNO4Dr2t6jFNKw\">Biscriptal juxtaposition in Chinese, part 2</a>\" (10/15/14)</li>\\n<li>\"<a title=\"Permanent link to Biscriptal juxtaposition in Chinese, part 3\" href=\"http://languagelog.ldc.upenn.edu/nll/?p=32317\" target=\"_blank\" rel=\"bookmark noopener\" data-saferedirecturl=\"https://www.google.com/url?hl=en&amp;q=http://languagelog.ldc.upenn.edu/nll/?p%3D32317&amp;source=gmail&amp;ust=1517068743309000&amp;usg=AFQjCNFYG0HBwB6s6rCH8g_NZKw0fymPfw\">Biscriptal juxtaposition in Chinese, part 3</a>\" (4/24/17)</li>\\n</ul>\\n<p>Some other posts on related biscriptal usage:</p>\\n<ul>\\n<li><a href=\"http://languagelog.ldc.upenn.edu/nll/?p=1188\" target=\"_blank\" rel=\"noopener\" data-saferedirecturl=\"https://www.google.com/url?hl=en&amp;q=http://languagelog.ldc.upenn.edu/nll/?p%3D1188&amp;source=gmail&amp;ust=1517068743309000&amp;usg=AFQjCNE8i9vBrDbf_VjgnFYEBXWim3OJYw\">\"</a><a href=\"http://itre.cis.upenn.edu/~myl/languagelog/archives/005318.html\" target=\"_blank\" rel=\"noopener\" data-saferedirecturl=\"https://www.google.com/url?hl=en&amp;q=http://itre.cis.upenn.edu/%257Emyl/languagelog/archives/005318.html&amp;source=gmail&amp;ust=1517068743309000&amp;usg=AFQjCNH36xg-4gkFHRjNJ8ess7OJw9dnjQ\">A new way of 寫ing Mandarin</a>\" (1/13/08)</li>\\n<li><a href=\"http://languagelog.ldc.upenn.edu/nll/?p=1188\" target=\"_blank\" rel=\"noopener\" data-saferedirecturl=\"https://www.google.com/url?hl=en&amp;q=http://languagelog.ldc.upenn.edu/nll/?p%3D1188&amp;source=gmail&amp;ust=1517068743309000&amp;usg=AFQjCNE8i9vBrDbf_VjgnFYEBXWim3OJYw\">\"Zhao C: a Man Who Lost His Name</a>\" (2/27/09)</li>\\n<li><a href=\"http://languagelog.ldc.upenn.edu/nll/?p=3111\" target=\"_blank\" rel=\"noopener\" data-saferedirecturl=\"https://www.google.com/url?hl=en&amp;q=http://languagelog.ldc.upenn.edu/nll/?p%3D3111&amp;source=gmail&amp;ust=1517068743309000&amp;usg=AFQjCNEe1uE-vr8F-NRg79SEg1ozzZGViA\">\"A New Morpheme in Mandarin</a>\" (4/26/11)</li>\\n<li><a href=\"http://languagelog.ldc.upenn.edu/nll/?p=4157\" target=\"_blank\" rel=\"noopener\" data-saferedirecturl=\"https://www.google.com/url?hl=en&amp;q=http://languagelog.ldc.upenn.edu/nll/?p%3D4157&amp;source=gmail&amp;ust=1517068743309000&amp;usg=AFQjCNEBQY5NTey37pxZfOszIn_y5XjS8A\">\"Creeping Romanization in Chinese</a>\" (8/30/12)</li>\\n<li>\"<a href=\"http://languagelog.ldc.upenn.edu/nll/?p=7142\" target=\"_blank\" rel=\"noopener\" data-saferedirecturl=\"https://www.google.com/url?hl=en&amp;q=http://languagelog.ldc.upenn.edu/nll/?p%3D7142&amp;source=gmail&amp;ust=1517068743309000&amp;usg=AFQjCNH5P86kRi6XQoxd20SRkNv-ChiusQ\">Character amnesia and the emergence of digraphia</a>\" (9/25/13)</li>\\n<li>\"<a title=\"Permanent link to Dumpling ingredients and character amnesia\" href=\"http://languagelog.ldc.upenn.edu/nll/?p=15217\" rel=\"bookmark\">Dumpling ingredients and character amnesia</a>\" (10/18/14)</li>\\n<li>\"<a href=\"http://languagelog.ldc.upenn.edu/nll/?p=18115\" target=\"_blank\" rel=\"noopener\" data-saferedirecturl=\"https://www.google.com/url?hl=en&amp;q=http://languagelog.ldc.upenn.edu/nll/?p%3D18115&amp;source=gmail&amp;ust=1517068743309000&amp;usg=AFQjCNEFYNFIvE6TOQ5mm37Agz5y16qQMw\">Digraphia and intentional miswriting</a>\" (3/12/15)</li>\\n<li>\"<a href=\"http://languagelog.ldc.upenn.edu/nll/?p=30847\" target=\"_blank\" rel=\"noopener\" data-saferedirecturl=\"https://www.google.com/url?hl=en&amp;q=http://languagelog.ldc.upenn.edu/nll/?p%3D30847&amp;source=gmail&amp;ust=1517068743309000&amp;usg=AFQjCNHzgztgmrqb1QSnoRsSm7_Uf-Bhew\">A trilingual, biscriptal note (with emoji)</a>\" (2/5/17)</li>\\n<li>\"<a title=\"Permanent link to Impromptu biscriptalism on a Starbucks cup\" href=\"http://languagelog.ldc.upenn.edu/nll/?p=34373\" target=\"_blank\" rel=\"bookmark noopener\" data-saferedirecturl=\"https://www.google.com/url?hl=en&amp;q=http://languagelog.ldc.upenn.edu/nll/?p%3D34373&amp;source=gmail&amp;ust=1517068743309000&amp;usg=AFQjCNHPvXNMnrHwMjThekWbAb6Sa7enCA\">Impromptu biscriptalism on a Starbucks cup</a>\" (9/8/17)</li>\\n<li>\"<a title=\"Permanent link to Biscriptalism on Starbucks cups, part 2\" href=\"http://languagelog.ldc.upenn.edu/nll/?p=34495\" target=\"_blank\" rel=\"bookmark noopener\" data-saferedirecturl=\"https://www.google.com/url?hl=en&amp;q=http://languagelog.ldc.upenn.edu/nll/?p%3D34495&amp;source=gmail&amp;ust=1517068743309000&amp;usg=AFQjCNFkLzdndErYpuTwVJGHkKYkR1ebhw\">Biscriptalism on Starbucks cups, part 2</a>\" (9/16/17)</li>\\n<li>\"<a title=\"Permanent link to Further evidence of mixed script writing in Chinese\" href=\"http://languagelog.ldc.upenn.edu/nll/?p=36248\" target=\"_blank\" rel=\"bookmark noopener\" data-saferedirecturl=\"https://www.google.com/url?hl=en&amp;q=http://languagelog.ldc.upenn.edu/nll/?p%3D36248&amp;source=gmail&amp;ust=1517068743309000&amp;usg=AFQjCNHkOA15XKN2m2kxKOghuiq1t05SSg\">Further evidence of mixed script writing in Chinese</a>\" (1/19/1*)</li>\\n</ul>\\n<p>The script she is a-changin.</p>'}],\n",
       "  'guidislink': False,\n",
       "  'href': 'https://www.sas.upenn.edu/ealc/mair',\n",
       "  'id': 'http://languagelog.ldc.upenn.edu/nll/?p=36354',\n",
       "  'link': 'http://languagelog.ldc.upenn.edu/nll/?p=36354',\n",
       "  'links': [{'href': 'http://languagelog.ldc.upenn.edu/nll/?p=36354',\n",
       "    'rel': 'alternate',\n",
       "    'type': 'text/html'},\n",
       "   {'count': '1',\n",
       "    'href': 'http://languagelog.ldc.upenn.edu/nll/?p=36354#comments',\n",
       "    'rel': 'replies',\n",
       "    'thr:count': '1',\n",
       "    'type': 'text/html'},\n",
       "   {'count': '1',\n",
       "    'href': 'http://languagelog.ldc.upenn.edu/nll/?feed=atom&p=36354',\n",
       "    'rel': 'replies',\n",
       "    'thr:count': '1',\n",
       "    'type': 'application/atom+xml'}],\n",
       "  'published': '2018-01-26T20:36:06Z',\n",
       "  'published_parsed': time.struct_time(tm_year=2018, tm_mon=1, tm_mday=26, tm_hour=20, tm_min=36, tm_sec=6, tm_wday=4, tm_yday=26, tm_isdst=0),\n",
       "  'summary': 'Screenshot from Nikita Kuzmin\\'s WeChat: The sentence ending in a smiley face, just above the huge broiled trotter (I think that\\'s what it is) on a chair, reads thus: Shìwèn nǎge shào(chi)nǚ(huo) bù xiǎng yǒngyǒu yī zhǐ zhèyàng de bàozhěn ne\\xa0:-) 试问哪个少(chi)女(huo)不想拥有一只这样的抱枕呢:-) \"Let me ask, \\'Which foodie girl would not want to have a pillow [&#8230;]',\n",
       "  'summary_detail': {'base': 'http://languagelog.ldc.upenn.edu/nll/wp-atom.php',\n",
       "   'language': 'en-US',\n",
       "   'type': 'text/html',\n",
       "   'value': 'Screenshot from Nikita Kuzmin\\'s WeChat: The sentence ending in a smiley face, just above the huge broiled trotter (I think that\\'s what it is) on a chair, reads thus: Shìwèn nǎge shào(chi)nǚ(huo) bù xiǎng yǒngyǒu yī zhǐ zhèyàng de bàozhěn ne\\xa0:-) 试问哪个少(chi)女(huo)不想拥有一只这样的抱枕呢:-) \"Let me ask, \\'Which foodie girl would not want to have a pillow [&#8230;]'},\n",
       "  'tags': [{'label': None,\n",
       "    'scheme': 'http://languagelog.ldc.upenn.edu/nll',\n",
       "    'term': 'Diglossia and digraphia'},\n",
       "   {'label': None,\n",
       "    'scheme': 'http://languagelog.ldc.upenn.edu/nll',\n",
       "    'term': 'Language on the internets'},\n",
       "   {'label': None,\n",
       "    'scheme': 'http://languagelog.ldc.upenn.edu/nll',\n",
       "    'term': 'Writing systems'}],\n",
       "  'thr_total': '1',\n",
       "  'title': 'Biscriptal juxtaposition in Chinese, part 4',\n",
       "  'title_detail': {'base': 'http://languagelog.ldc.upenn.edu/nll/wp-atom.php',\n",
       "   'language': 'en-US',\n",
       "   'type': 'text/html',\n",
       "   'value': 'Biscriptal juxtaposition in Chinese, part 4'},\n",
       "  'updated': '2018-01-26T20:45:42Z',\n",
       "  'updated_parsed': time.struct_time(tm_year=2018, tm_mon=1, tm_mday=26, tm_hour=20, tm_min=45, tm_sec=42, tm_wday=4, tm_yday=26, tm_isdst=0)},\n",
       " {'author': 'Mark Liberman',\n",
       "  'author_detail': {'href': 'http://ling.upenn.edu/~myl',\n",
       "   'name': 'Mark Liberman'},\n",
       "  'authors': [{'href': 'http://ling.upenn.edu/~myl', 'name': 'Mark Liberman'}],\n",
       "  'content': [{'base': 'http://languagelog.ldc.upenn.edu/nll/?p=36384',\n",
       "    'language': 'en-US',\n",
       "    'type': 'text/html',\n",
       "    'value': '<p>Jay Livingston sends a compendium of tautologies from <em>The Wire</em>:</p>\\n<p><iframe width=\"500\" height=\"281\" src=\"https://www.youtube.com/embed/qoyq88niVEU?feature=oembed\" frameborder=\"0\" allow=\"autoplay; encrypted-media\" allowfullscreen></iframe></p>\\n<p><span id=\"more-36384\"></span></p>\\n<p>Jay comments:</p>\\n<p style=\"padding-left: 30px;\"><span style=\"color: #000080;\">They seem to have at least two different senses. The most obvious is the impossibility of change. \"It is what it is,\"\\xa0 \"What\\'s done is done\"\\xa0 (and cannot be undone &#8212; there may be other similarities between The Wire and MacBeth).\\xa0</span></p>\\n<p style=\"padding-left: 30px;\"><span style=\"color: #000080;\">But some of the tautologies suggest a different meaning &#8212; that this particular instance of X is (or should be) like the Platonic ideal X. \"Men should be men, and women should be women.\" \"Let Keeley be Keeley\" (cf. \"Let Nixon be Nixon.\") \"If you with us, you with us.\"</span></p>\\n<p>Sometimes the interpretation of such phrases seems to be that you shouldn\\'t make things unnecessarily complicated. For example, the song \"<a href=\"https://genius.com/Edie-brickell-and-new-bohemians-what-i-am-lyrics\" target=\"_blank\" rel=\"noopener\">What I am</a>\":</p>\\n<p style=\"padding-left: 30px;\"><span style=\"color: #800000;\">What I am is what I am</span><br />\\n<span style=\"color: #800000;\"> You what you are, or what?</span></p>\\n<p style=\"padding-left: 30px;\"><span style=\"color: #800000;\">I\\'m not aware of too many things</span><br />\\n<span style=\"color: #800000;\"> I know what I know, if you know what I mean</span></p>\\n<p><iframe width=\"500\" height=\"375\" src=\"https://www.youtube.com/embed/tDl3bdE3YQA?feature=oembed\" frameborder=\"0\" allow=\"autoplay; encrypted-media\" allowfullscreen></iframe></p>\\n<p>And maybe Gertrude Stein\\'s \"<a href=\"https://en.wikipedia.org/wiki/Rose_is_a_rose_is_a_rose_is_a_rose\" target=\"_blank\" rel=\"noopener\">(a) rose is a rose is a rose is a rose</a>\". Or the semi-tautological remark <a href=\"https://quoteinvestigator.com/2011/08/12/just-a-cigar/\" target=\"_blank\" rel=\"noopener\">attributed to Sigmund Freud</a>, \"Sometimes a cigar is just a cigar\".</p>\\n<p>Elsewhere on LLOG we\\'ve discussed the CD case that \"<a href=\"http://itre.cis.upenn.edu/~myl/languagelog/archives/005426.html\" target=\"_blank\" rel=\"noopener\">automatically becomes portable when carried</a>\", which seems to be a different sort of case entirely.</p>'}],\n",
       "  'guidislink': False,\n",
       "  'href': 'http://ling.upenn.edu/~myl',\n",
       "  'id': 'http://languagelog.ldc.upenn.edu/nll/?p=36384',\n",
       "  'link': 'http://languagelog.ldc.upenn.edu/nll/?p=36384',\n",
       "  'links': [{'href': 'http://languagelog.ldc.upenn.edu/nll/?p=36384',\n",
       "    'rel': 'alternate',\n",
       "    'type': 'text/html'},\n",
       "   {'count': '9',\n",
       "    'href': 'http://languagelog.ldc.upenn.edu/nll/?p=36384#comments',\n",
       "    'rel': 'replies',\n",
       "    'thr:count': '9',\n",
       "    'type': 'text/html'},\n",
       "   {'count': '9',\n",
       "    'href': 'http://languagelog.ldc.upenn.edu/nll/?feed=atom&p=36384',\n",
       "    'rel': 'replies',\n",
       "    'thr:count': '9',\n",
       "    'type': 'application/atom+xml'}],\n",
       "  'published': '2018-01-26T19:42:37Z',\n",
       "  'published_parsed': time.struct_time(tm_year=2018, tm_mon=1, tm_mday=26, tm_hour=19, tm_min=42, tm_sec=37, tm_wday=4, tm_yday=26, tm_isdst=0),\n",
       "  'summary': 'Jay Livingston sends a compendium of tautologies from The Wire: Jay comments: They seem to have at least two different senses. The most obvious is the impossibility of change. \"It is what it is,\"\\xa0 \"What\\'s done is done\"\\xa0 (and cannot be undone &#8212; there may be other similarities between The Wire and MacBeth).\\xa0 But some [&#8230;]',\n",
       "  'summary_detail': {'base': 'http://languagelog.ldc.upenn.edu/nll/wp-atom.php',\n",
       "   'language': 'en-US',\n",
       "   'type': 'text/html',\n",
       "   'value': 'Jay Livingston sends a compendium of tautologies from The Wire: Jay comments: They seem to have at least two different senses. The most obvious is the impossibility of change. \"It is what it is,\"\\xa0 \"What\\'s done is done\"\\xa0 (and cannot be undone &#8212; there may be other similarities between The Wire and MacBeth).\\xa0 But some [&#8230;]'},\n",
       "  'tags': [{'label': None,\n",
       "    'scheme': 'http://languagelog.ldc.upenn.edu/nll',\n",
       "    'term': 'Semantics'}],\n",
       "  'thr_total': '9',\n",
       "  'title': 'What it is is what it is',\n",
       "  'title_detail': {'base': 'http://languagelog.ldc.upenn.edu/nll/wp-atom.php',\n",
       "   'language': 'en-US',\n",
       "   'type': 'text/html',\n",
       "   'value': 'What it is is what it is'},\n",
       "  'updated': '2018-01-26T19:51:16Z',\n",
       "  'updated_parsed': time.struct_time(tm_year=2018, tm_mon=1, tm_mday=26, tm_hour=19, tm_min=51, tm_sec=16, tm_wday=4, tm_yday=26, tm_isdst=0)},\n",
       " {'author': 'Mark Liberman',\n",
       "  'author_detail': {'href': 'http://ling.upenn.edu/~myl',\n",
       "   'name': 'Mark Liberman'},\n",
       "  'authors': [{'href': 'http://ling.upenn.edu/~myl', 'name': 'Mark Liberman'}],\n",
       "  'content': [{'base': 'http://languagelog.ldc.upenn.edu/nll/?p=36376',\n",
       "    'language': 'en-US',\n",
       "    'type': 'text/html',\n",
       "    'value': '<p><a href=\"http://languagelog.ldc.upenn.edu/myl/LearnNotToAvoid.png\"><img title=\"Click to embiggen\" src=\"http://languagelog.ldc.upenn.edu/myl/LearnNotToAvoid0.png\" width=\"180\" align=\"right\" /></a>Joanna Klein, \"<a href=\"https://www.nytimes.com/2018/01/25/science/swatting-mosquitoes.html\" target=\"_blank\" rel=\"noopener\">Swatting at Mosquitoes May Help You Avoid Bites, Even if you Miss</a>\", NYT 1/25/2018:</p>\\n<p style=\"padding-left: 30px;\"><span style=\"color: #000080;\">If you keep swatting at a mosquito, will it leave you alone? </span></p>\\n<p style=\"padding-left: 30px;\"><span style=\"color: #000080;\">Some scientists think so. But it depends. </span></p>\\n<p style=\"padding-left: 30px;\"><span style=\"color: #000080;\">Some blood meals are worth a mosquito risking its life. But if there’s a more attractive or accepting alternative to feed from, a mosquito may move on to that someone or something instead.\\xa0</span></p>\\n<p>An interesting story. But this is Language Log, not Insect Learning Log, so let\\'s focus on the prominently-displayed picture caption, which reads:</p>\\n<p style=\"padding-left: 30px;\"><span style=\"color: #000080;\">A new study suggests that mosquitoes might learn not to avoid people who swat at them, by recognizing their smell.</span></p>\\n<p><span id=\"more-36376\"></span></p>\\n<p>So I wondered, is \"learn not to avoid\" one of those phrases that is often used to mean the opposite of what the speaker or writer intended, like \"<a href=\"http://itre.cis.upenn.edu/~myl/languagelog/archives/000500.html\" target=\"_blank\" rel=\"noopener\">fail to miss</a>\"?</p>\\n<p>Maybe this reversal sometimes happens, though it can be hard to tell:</p>\\n<p style=\"padding-left: 30px;\">[<a href=\"http://psycnet.apa.org/record/1961-06034-001\" target=\"_blank\" rel=\"noopener\">link</a>] <span style=\"color: #800000;\">The data suggested 3 selection pressures were operative in improving the resemblances: (a) the combination of different components of the model\\'s pattern (color) may increase protection against an individual predator, (b) an improved resemblance may protect the mimic from a greater variety of predators, and (c) an improved resemblance may decrease the chance that a predator will learn not to avoid the mimic.</span></p>\\n<p>But mostly things seem to come out right:</p>\\n<p style=\"padding-left: 30px;\">[<a href=\"http://www.nccoastalpines.org/en/our-council/news/2017/girl_scouts_provides.html\" target=\"_blank\" rel=\"noopener\">link</a>] <span style=\"color: #800000;\">The Girl Scout Leadership Experience helps girls learn not to avoid things that are hard for them, therefore helping them overcome fears, face challenges, and build resilience.</span><br />\\n[<a href=\"https://www.nucalm.com/hopefully-people-learn-from-viral-teeth-cleaning-videos/\" target=\"_blank\" rel=\"noopener\">link</a>]\\xa0<span style=\"color: #800000;\">With some dental cleaning videos starting to rise in popularity, we can only hope that people take the right lessons from watching them. They need to learn not to avoid dental visits.</span><br />\\n[<a href=\"http://www.gracechurchyorktown.org/article441303.htm\" target=\"_blank\" rel=\"noopener\">link</a>]\\xa0<span style=\"color: #800000;\">Yet we might learn not to avoid the dark,. not to race hurriedly from one patch of light to the next. For there is much the darkness can teach us.</span></p>\\n<p>Still, \"might learn not to avoid people who swat at them\" has several of the classic <a href=\"http://languagelog.ldc.upenn.edu/nll/?p=1925\" target=\"_blank\" rel=\"noopener\">misnegation</a> ingredients, including a modal, an explicit negation, and an implicit one.</p>\\n<p>Obligatory screenshot:</p>\\n<p><a href=\"http://languagelog.ldc.upenn.edu/myl/LearnNotToAvoid.png\"><img title=\"Click to embiggen\" src=\"http://languagelog.ldc.upenn.edu/myl/LearnNotToAvoid.png\" width=\"490\" /></a></p>\\n<p>[h/t John Barenberg]</p>'}],\n",
       "  'guidislink': False,\n",
       "  'href': 'http://ling.upenn.edu/~myl',\n",
       "  'id': 'http://languagelog.ldc.upenn.edu/nll/?p=36376',\n",
       "  'link': 'http://languagelog.ldc.upenn.edu/nll/?p=36376',\n",
       "  'links': [{'href': 'http://languagelog.ldc.upenn.edu/nll/?p=36376',\n",
       "    'rel': 'alternate',\n",
       "    'type': 'text/html'},\n",
       "   {'count': '11',\n",
       "    'href': 'http://languagelog.ldc.upenn.edu/nll/?p=36376#comments',\n",
       "    'rel': 'replies',\n",
       "    'thr:count': '11',\n",
       "    'type': 'text/html'},\n",
       "   {'count': '11',\n",
       "    'href': 'http://languagelog.ldc.upenn.edu/nll/?feed=atom&p=36376',\n",
       "    'rel': 'replies',\n",
       "    'thr:count': '11',\n",
       "    'type': 'application/atom+xml'}],\n",
       "  'published': '2018-01-26T13:12:58Z',\n",
       "  'published_parsed': time.struct_time(tm_year=2018, tm_mon=1, tm_mday=26, tm_hour=13, tm_min=12, tm_sec=58, tm_wday=4, tm_yday=26, tm_isdst=0),\n",
       "  'summary': 'Joanna Klein, \"Swatting at Mosquitoes May Help You Avoid Bites, Even if you Miss\", NYT 1/25/2018: If you keep swatting at a mosquito, will it leave you alone? Some scientists think so. But it depends. Some blood meals are worth a mosquito risking its life. But if there’s a more attractive or accepting alternative to [&#8230;]',\n",
       "  'summary_detail': {'base': 'http://languagelog.ldc.upenn.edu/nll/wp-atom.php',\n",
       "   'language': 'en-US',\n",
       "   'type': 'text/html',\n",
       "   'value': 'Joanna Klein, \"Swatting at Mosquitoes May Help You Avoid Bites, Even if you Miss\", NYT 1/25/2018: If you keep swatting at a mosquito, will it leave you alone? Some scientists think so. But it depends. Some blood meals are worth a mosquito risking its life. But if there’s a more attractive or accepting alternative to [&#8230;]'},\n",
       "  'tags': [{'label': None,\n",
       "    'scheme': 'http://languagelog.ldc.upenn.edu/nll',\n",
       "    'term': 'Misnegation'}],\n",
       "  'thr_total': '11',\n",
       "  'title': 'Learning not to avoid',\n",
       "  'title_detail': {'base': 'http://languagelog.ldc.upenn.edu/nll/wp-atom.php',\n",
       "   'language': 'en-US',\n",
       "   'type': 'text/html',\n",
       "   'value': 'Learning not to avoid'},\n",
       "  'updated': '2018-01-26T13:12:58Z',\n",
       "  'updated_parsed': time.struct_time(tm_year=2018, tm_mon=1, tm_mday=26, tm_hour=13, tm_min=12, tm_sec=58, tm_wday=4, tm_yday=26, tm_isdst=0)},\n",
       " {'author': 'Mark Liberman',\n",
       "  'author_detail': {'href': 'http://ling.upenn.edu/~myl',\n",
       "   'name': 'Mark Liberman'},\n",
       "  'authors': [{'href': 'http://ling.upenn.edu/~myl', 'name': 'Mark Liberman'}],\n",
       "  'content': [{'base': 'http://languagelog.ldc.upenn.edu/nll/?p=36361',\n",
       "    'language': 'en-US',\n",
       "    'type': 'text/html',\n",
       "    'value': '<p>Well, the dynamic range of the amplitude of syllables in poetry readings, anyhow:</p>\\n<p><a href=\"http://languagelog.ldc.upenn.edu/myl/BernsteinAshberyAmplitude2.png\"><img title=\"Click to embiggen\" src=\"http://languagelog.ldc.upenn.edu/myl/BernsteinAshberyAmplitude2.png\" width=\"490\" /></a></p>\\n<p>What IS that?</p>\\n<p><span id=\"more-36361\"></span></p>\\n<p>In the course of a discussion of other matters, <a href=\"https://www.english.upenn.edu/people/charles-bernstein\" target=\"_blank\" rel=\"noopener\">Charles Bernstein</a> asked about measuring and visualizing a poetry reader\\'s variation in amplitude. As I understand it, he has the intuition that some readers are relatively uniform in their presentation, while others are more varied. He mentioned <a href=\"https://en.wikipedia.org/wiki/John_Ashbery\" target=\"_blank\" rel=\"noopener\">John Ashbery</a> as someone whose readings are on the stable side.</p>\\n<p>I expressed my usual skepticism about amplitude as a feature. The absolute amplitude of a recording depends on microphone distance and orientation, room acoustics, gain and possible AGC in the recording and later processing, etc. Even within a single recording with no intervention by a sound engineer, a speaker\\'s changes of position and orientation during the performance can have a significant effect. And anyhow, what we perceive as amplitude variations are in most cases really variations in vocal effort, which no one knows how to measure.</p>\\n<p>But Charles countered that in the circumstances of most poetry readings, there are variations in simple acoustic amplitude that correlate both with the reader\\'s production and the audience\\'s perception. And it ought to be possible to calculate some sort of dynamic range that could be compared across readers and readings.</p>\\n<p>He\\'s right, and so I thought I\\'d try it.</p>\\n<p>What I did:</p>\\n<ul>\\n<li>I took two readings from <a href=\"http://writing.upenn.edu/pennsound/\" target=\"_blank\" rel=\"noopener\">PennSound</a>: <a href=\"https://media.sas.upenn.edu/pennsound/authors/Ashbery/Ashbery-John_Europe_NYC_11-19-2015.mp3\" target=\"_blank\" rel=\"noopener\">John Ashbery reading \"Europe\"</a> from <em>The Tennis Court Oath</em>, Sections 1-25, 11/19/2015; and <a href=\"https://media.sas.upenn.edu/pennsound/groups/Dia/9-21-2017/Bernstein-Charles_Our-United-Fates_DIA-192-Books_04_9-21-2017.mp3\" target=\"_blank\" rel=\"noopener\">Charles Bernstein reading \"Our United Fates\"</a>, 9/21/2017.</li>\\n<li>I trimmed the intro and the outro, leaving just the poems themselves.</li>\\n<li>I filtered the audio to roughly the frequency region of vowel sounds, 200-2500 Hz; calculated the RMS amplitude every 5 msec, and smoothed the result with a time constant of about half a syllable; and took all the local maxima above an empirically-estimated noise threshold. The result is a decent syllable-detector, following a simplified version of the recipe in <a href=\"http://asa.scitation.org/doi/abs/10.1121/1.380738\" target=\"_blank\" rel=\"noopener\">Mermelstein 1975</a>. The result was\\xa01142 pseudo-syllables in the Ashbery reading and 819 in the Bernstein reading and</li>\\n<li>To get a normalized version of the \"dynamic range\" in each recording, I transformed the set of peak amplitude values from that recording to differences on a log scale relative to the set\\'s mean value (log10 of the ratio to the mean value).</li>\\n<li>I then graphed kernel density estimates (basically smoothed histograms) of those distributions, as <a href=\"http://languagelog.ldc.upenn.edu/myl/BernsteinAshberyAmplitude1.png\" target=\"_blank\" rel=\"noopener\">shown above.</a></li>\\n</ul>\\n<p>(This may not be a great case for contrast; Charles didn\\'t present himself as an especially dynamic reader, but &#8230;)</p>\\n<p>The results:</p>\\n<p><a href=\"http://languagelog.ldc.upenn.edu/myl/BernsteinAshberyAmplitude1.png\"><img title=\"Click to embiggen\" src=\"http://languagelog.ldc.upenn.edu/myl/BernsteinAshberyAmplitude1.png\" width=\"490\" /></a></p>\\n<p>Or we could focus on the contrast, by plotting the difference between the density estimates:</p>\\n<p><a href=\"http://languagelog.ldc.upenn.edu/myl/BernsteinAshberyAmplitude2.png\"><img title=\"Click to embiggen\" src=\"http://languagelog.ldc.upenn.edu/myl/BernsteinAshberyAmplitude2.png\" width=\"490\" /></a></p>\\n<p>Interpretation:</p>\\n<ul>\\n<li>Ashbery\\'s syllable amplitudes are more concentrated around the average value, though there are a few lower-amplitude syllables, probably his section numbers</li>\\n<li>Bernstein in comparison has a larger number of both softer and louder syllables, relative to his average value</li>\\n</ul>\\n<p>We could also look at the quantiles of the syllable-peak amplitudes, normalized in the same (questionable) way:</p>\\n<p><a href=\"http://languagelog.ldc.upenn.edu/myl/BernsteinAshberyAmplitude3.png\"><img title=\"Click to embiggen\" src=\"http://languagelog.ldc.upenn.edu/myl/BernsteinAshberyAmplitude3.png\" width=\"490\" /></a></p>\\n<p>There\\'s an analogous (but more striking) difference in pitch range:</p>\\n<p><a href=\"http://languagelog.ldc.upenn.edu/myl/BernsteinAshberyPitch2.png\"><img title=\"Click to embiggen\" src=\"http://languagelog.ldc.upenn.edu/myl/BernsteinAshberyPitch2.png\" width=\"490\" /></a></p>\\n<p>Bernstein\\'s reading has a range (95th percentile &#8211; 5th percentile) of 11.4 semitones (across 27726 f0 estimates) &#8212; just under an octave. Ashbery\\'s reading has a range of 7.7 semitones (across 47327 f0 estimates) &#8212; a bit more than a fifth.</p>'}],\n",
       "  'guidislink': False,\n",
       "  'href': 'http://ling.upenn.edu/~myl',\n",
       "  'id': 'http://languagelog.ldc.upenn.edu/nll/?p=36361',\n",
       "  'link': 'http://languagelog.ldc.upenn.edu/nll/?p=36361',\n",
       "  'links': [{'href': 'http://languagelog.ldc.upenn.edu/nll/?p=36361',\n",
       "    'rel': 'alternate',\n",
       "    'type': 'text/html'},\n",
       "   {'href': 'https://media.sas.upenn.edu/pennsound/authors/Ashbery/Ashbery-John_Europe_NYC_11-19-2015.mp3',\n",
       "    'length': '3964830',\n",
       "    'rel': 'enclosure',\n",
       "    'type': 'audio/mpeg'},\n",
       "   {'href': 'https://media.sas.upenn.edu/pennsound/groups/Dia/9-21-2017/Bernstein-Charles_Our-United-Fates_DIA-192-Books_04_9-21-2017.mp3',\n",
       "    'length': '12683907',\n",
       "    'rel': 'enclosure',\n",
       "    'type': 'audio/mpeg'},\n",
       "   {'count': '2',\n",
       "    'href': 'http://languagelog.ldc.upenn.edu/nll/?p=36361#comments',\n",
       "    'rel': 'replies',\n",
       "    'thr:count': '2',\n",
       "    'type': 'text/html'},\n",
       "   {'count': '2',\n",
       "    'href': 'http://languagelog.ldc.upenn.edu/nll/?feed=atom&p=36361',\n",
       "    'rel': 'replies',\n",
       "    'thr:count': '2',\n",
       "    'type': 'application/atom+xml'}],\n",
       "  'published': '2018-01-25T09:41:10Z',\n",
       "  'published_parsed': time.struct_time(tm_year=2018, tm_mon=1, tm_mday=25, tm_hour=9, tm_min=41, tm_sec=10, tm_wday=3, tm_yday=25, tm_isdst=0),\n",
       "  'summary': \"Well, the dynamic range of the amplitude of syllables in poetry readings, anyhow: What IS that? In the course of a discussion of other matters, Charles Bernstein asked about measuring and visualizing a poetry reader's variation in amplitude. As I understand it, he has the intuition that some readers are relatively uniform in their presentation, [&#8230;]\",\n",
       "  'summary_detail': {'base': 'http://languagelog.ldc.upenn.edu/nll/wp-atom.php',\n",
       "   'language': 'en-US',\n",
       "   'type': 'text/html',\n",
       "   'value': \"Well, the dynamic range of the amplitude of syllables in poetry readings, anyhow: What IS that? In the course of a discussion of other matters, Charles Bernstein asked about measuring and visualizing a poetry reader's variation in amplitude. As I understand it, he has the intuition that some readers are relatively uniform in their presentation, [&#8230;]\"},\n",
       "  'tags': [{'label': None,\n",
       "    'scheme': 'http://languagelog.ldc.upenn.edu/nll',\n",
       "    'term': 'Language and literature'}],\n",
       "  'thr_total': '2',\n",
       "  'title': 'Poetic dynamism',\n",
       "  'title_detail': {'base': 'http://languagelog.ldc.upenn.edu/nll/wp-atom.php',\n",
       "   'language': 'en-US',\n",
       "   'type': 'text/html',\n",
       "   'value': 'Poetic dynamism'},\n",
       "  'updated': '2018-01-26T02:44:37Z',\n",
       "  'updated_parsed': time.struct_time(tm_year=2018, tm_mon=1, tm_mday=26, tm_hour=2, tm_min=44, tm_sec=37, tm_wday=4, tm_yday=26, tm_isdst=0)},\n",
       " {'author': 'Victor Mair',\n",
       "  'author_detail': {'href': 'https://www.sas.upenn.edu/ealc/mair',\n",
       "   'name': 'Victor Mair'},\n",
       "  'authors': [{'href': 'https://www.sas.upenn.edu/ealc/mair',\n",
       "    'name': 'Victor Mair'}],\n",
       "  'content': [{'base': 'http://languagelog.ldc.upenn.edu/nll/?p=36350',\n",
       "    'language': 'en-US',\n",
       "    'type': 'text/html',\n",
       "    'value': '<p>In \"<a href=\"http://www.sixthtone.com/news/1001582/the-eagle-eyed-vigilantes-defending-the-chinese-language\">The Eagle-Eyed Vigilantes Defending the Chinese Language</a>:\\xa0 As new lingo springs up and grammatical errors persist, one magazine is battling to maintain linguistic standards\", Yin Yijun (<i>Sixth Tone</i> [1/19/18]) describes an unusual PRC journal:</p>\\n<p style=\"padding-left: 30px;\">Shanghai-based Yaowen Jiaozi — whose name literally translates as “biting phrases and chewing characters” — was established in 1995 and operates under the slogan: “Bite every mistake that deserves to be bitten, and chew every article worth chewing.” The monthly magazine’s mission is to attack every grammatical error it encounters — and the staff take the job seriously. Over the past 20 years, the magazine has amassed a long list of mistakes, from a nearly unnoticeable Chinese character error on a chopstick wrapper, to a series of mistakes author and Nobel laureate Mo Yan made in his award-winning works.</p>\\n<p><span id=\"more-36350\"></span></p>\\n<p>Joel Martinsen had already written an insightful article about this magazine back in 2006:\\xa0 \"<a href=\"http://www.danwei.org/media_and_advertising/gnawing_at_language_biting_the_1.php\">Gnawing at language, biting the ankles of Chinese media</a>\" (<i>Danwei</i> [5/4/06]) &#8212; via <a href=\"via%20http://languagehat.com/gnawing-at-language/\">Language Hat</a>.\\xa0 Martinsen\\'s article begins thus:</p>\\n<p style=\"padding-left: 30px;\">Among all of the copycat urban lifestyle magazines, the paparazzi rags, and the ever-changing array of undistinguished special-interest publications that make up China\\'s periodicals market, <i>Yaowen-Jiaozi</i> (咬文嚼字) stands out as one of the most delightfully peculiar magazines available. With a title variously translated as \"Correct Wording,\" \"Verbalism,\" and \"Chewing Words,\" it turns a critical eye to the misuse and abuse of language in Chinese society.</p>\\n<p>Now I\\'m going to do a bit of yǎowénjiáozì 咬文嚼字 of my own.\\xa0 What does that jarring expression really mean?\\xa0 Yin Yijun says that it \"literally translates as \\'biting phrases and chewing characters\\'” and Joel Martinsen tells us that it is \"variously translated as \\'Correct Wording,\\' \\'Verbalism,\\' and \\'Chewing Words\\'\".</p>\\n<p>This is an expression that I learned long ago, but pronounced as \"yǎowén<span class=\"dicpy\">jué</span>zì\" (it was spoken that way by my teachers and Chinese friends).\\xa0 It usually conveyed a lightly pejorative, satirical implication in the sense of being overly concerned with the individual words of a text or composition and not grasping the substance and meaning of what is written, often thereby showing off one\\'s scholastic abilities.</p>\\n<p>The way I understood yǎowénjiáozì 咬文嚼字 (henceforth I will use the current, \"correct\" pronunciation) in those days was more or less as it is defined in <span class=\"diczx4\"><a href=\"http://www.zdic.net/c/c/13f/309190.htm\">zdic</a>:<br />\\n</span></p>\\n<p style=\"padding-left: 30px;\"><span class=\"diczx4\">literarism (= literaryism); chop logic (where \"chop\" is being used in the 16th-century sense of \"bandy words\", hence \"<a href=\"https://idioms.thefreedictionary.com/chop+logic\">argue in a tiresomely pedantic way; quibble</a>\"); pay excessive attention to wording</span></p>\\n<p><span class=\"diczx4\">One of the definitions provided by <a href=\"https://en.wiktionary.org/wiki/%E5%92%AC%E6%96%87%E5%9A%BC%E5%AD%97\">Wiktionary</a> captures the negative spirit in which the phrase is sometimes used:\\xa0 \"to nitpick like a grammar Nazi\".<br />\\n</span></p>\\n<p>The <em>ABC Chinese-English Comprehensive Dictionary</em> has an interesting definition:\\xa0 \"hypercorrection\".</p>\\n<p>\"Yǎowénjiáozì 咬文嚼字\" goes back to the Yuan period (1271-1368).\\xa0 Its usage is from the vernacular realm, in fiction, drama, and popular verse.</p>\\n<p>Let\\'s take a closer look at the morphology and semantics of this colorful expression.\\xa0 Basically, it is constructed from two words:\\xa0 yǎojué 咬嚼 (\"chew; masticate\") and wénzì 文字 (\"script; writing; characters\"), hence \"to chew / masticate script / writing / characters\").</p>\\n<p>Now, it is very common to take two disyllabic words, divide their syllables, and intermix them into a single quadrisyllabic fixed phrase, thus:</p>\\n<p style=\"padding-left: 30px;\">yǎojué 咬嚼 + wénzì 文字 &#8211;&gt; yǎowénjiáozì 咬文嚼字</p>\\n<p>Ah, but there\\'s the rub!\\xa0 Dictionaries (e.g., <a href=\"http://www.zdic.net/c/c/38/87965.htm\">here</a> and <a href=\"https://en.wiktionary.org/wiki/%E5%92%AC%E5%9A%BC\">here</a>) customarily annotate 咬嚼 as yǎojué, not yǎojiáo.\\xa0 By all rights, 咬文嚼字 should be read yǎowén<span class=\"dicpy\">jué</span>zì, not yǎowénjiáozì.</p>\\n<p>Incidentally, the derivation of yǎowénjiáozì 咬文嚼字 from yǎojué 咬嚼 + wénzì 文字 is reminiscent of the construction of the title of the first Chinese character dictionary:</p>\\n<p style=\"padding-left: 30px;\">shuōjiě 説解 (\"explain\") + wénzì 文字 (\"characters\") &#8211;&gt; Shuōwén Jiězì <span lang=\"zh-Hant\">說文解字 (\"Explanation of Characters\")*<br />\\n</span></p>\\n<p>*N.B.:\\xa0 Completed<span lang=\"zh-Hant\"> in 100 AD, t</span>his is the fountainhead of traditional Chinese character studies.\\xa0 There is an excellent <a href=\"https://en.wikipedia.org/wiki/Shuowen_Jiezi\">Wikipedia article</a> on it.<span lang=\"zh-Hant\">\\xa0 In the \"References\", note especially the publications<cite></cite> </span><cite id=\"CITEREFBottéroHarbsmeier2008\" class=\"citation\"></cite> by Françoise Bottéro, who is doing pathbreaking work on the classification scheme of this monument of Chinese lexicography.</p>\\n<p>Narrowing in on the problematic, ornery / refractory, 20-stroke character 嚼, it actually has three pronunciations:</p>\\n<p style=\"padding-left: 30px;\"><span class=\"dicpy\">jiáo\\xa0\\xa0\\xa0 \"chew; masticate\"<br />\\n</span></p>\\n<p style=\"padding-left: 30px;\"><span class=\"dicpy\">jué\\xa0\\xa0\\xa0 used in polysyllabic expressions such as </span><span class=\"dicpy\">jǔjué </span>咀嚼 (\"chew; masticate\")</p>\\n<p style=\"padding-left: 30px;\"><span class=\"dicpy\">jiào\\xa0\\xa0\\xa0 chew the cud, as ruminants do after reverse peristalsis</span></p>\\n<p><span class=\"dicpy\">Going back to the discussion of the journal with which we began this post, perhaps the editors need to do a bit of introspection.\\xa0 In the spirit of genuine, earnest </span>咬文嚼字, I suggest that the title of their journal should be pronounced \"yǎowén<span class=\"dicpy\">jué</span>zì\", not \"yǎowénjiáozì\".</p>\\n<p>If what I say is true, it wouldn\\'t be the first time the editors of a famous Chinese journal mispronounced the title of their publication.\\xa0 Starting in the mid-1980s, there was a Chinese poetry magazine whose contributors and readers (at least some of them whom I knew) used to refer to as \"Yī xíng 一行\" (\"First Line\"), but I thought (and told them so) it should be read as \"Yī háng\", since 行 has these pronunciations and meanings:</p>\\n<p style=\"padding-left: 30px;\">xíng &#8212; \"walk; go\"</p>\\n<p style=\"padding-left: 30px;\">háng &#8212; \"row; line\"</p>\\n<p>Judging from <a href=\"http://u.osu.edu/mclc/online-series/yan_li/\">this interview with its founder</a>, it seems that it later did come to be referred to as \"Yī háng\".</p>\\n<p><span class=\"dicpy\">Be that as it may, this is all the stuff of language nerds and pedants.<br />\\n</span></p>\\n<p>[h.t. Ben Zimmer]</p>'}],\n",
       "  'guidislink': False,\n",
       "  'href': 'https://www.sas.upenn.edu/ealc/mair',\n",
       "  'id': 'http://languagelog.ldc.upenn.edu/nll/?p=36350',\n",
       "  'link': 'http://languagelog.ldc.upenn.edu/nll/?p=36350',\n",
       "  'links': [{'href': 'http://languagelog.ldc.upenn.edu/nll/?p=36350',\n",
       "    'rel': 'alternate',\n",
       "    'type': 'text/html'},\n",
       "   {'count': '13',\n",
       "    'href': 'http://languagelog.ldc.upenn.edu/nll/?p=36350#comments',\n",
       "    'rel': 'replies',\n",
       "    'thr:count': '13',\n",
       "    'type': 'text/html'},\n",
       "   {'count': '13',\n",
       "    'href': 'http://languagelog.ldc.upenn.edu/nll/?feed=atom&p=36350',\n",
       "    'rel': 'replies',\n",
       "    'thr:count': '13',\n",
       "    'type': 'application/atom+xml'}],\n",
       "  'published': '2018-01-24T16:26:46Z',\n",
       "  'published_parsed': time.struct_time(tm_year=2018, tm_mon=1, tm_mday=24, tm_hour=16, tm_min=26, tm_sec=46, tm_wday=2, tm_yday=24, tm_isdst=0),\n",
       "  'summary': 'In \"The Eagle-Eyed Vigilantes Defending the Chinese Language:\\xa0 As new lingo springs up and grammatical errors persist, one magazine is battling to maintain linguistic standards\", Yin Yijun (Sixth Tone [1/19/18]) describes an unusual PRC journal: Shanghai-based Yaowen Jiaozi — whose name literally translates as “biting phrases and chewing characters” — was established in 1995 and [&#8230;]',\n",
       "  'summary_detail': {'base': 'http://languagelog.ldc.upenn.edu/nll/wp-atom.php',\n",
       "   'language': 'en-US',\n",
       "   'type': 'text/html',\n",
       "   'value': 'In \"The Eagle-Eyed Vigilantes Defending the Chinese Language:\\xa0 As new lingo springs up and grammatical errors persist, one magazine is battling to maintain linguistic standards\", Yin Yijun (Sixth Tone [1/19/18]) describes an unusual PRC journal: Shanghai-based Yaowen Jiaozi — whose name literally translates as “biting phrases and chewing characters” — was established in 1995 and [&#8230;]'},\n",
       "  'tags': [{'label': None,\n",
       "    'scheme': 'http://languagelog.ldc.upenn.edu/nll',\n",
       "    'term': 'Errors'},\n",
       "   {'label': None,\n",
       "    'scheme': 'http://languagelog.ldc.upenn.edu/nll',\n",
       "    'term': 'Lexicon and lexicography'},\n",
       "   {'label': None,\n",
       "    'scheme': 'http://languagelog.ldc.upenn.edu/nll',\n",
       "    'term': 'Morphology'},\n",
       "   {'label': None,\n",
       "    'scheme': 'http://languagelog.ldc.upenn.edu/nll',\n",
       "    'term': 'Words words words'},\n",
       "   {'label': None,\n",
       "    'scheme': 'http://languagelog.ldc.upenn.edu/nll',\n",
       "    'term': 'Writing systems'}],\n",
       "  'thr_total': '13',\n",
       "  'title': 'Language vigilantism',\n",
       "  'title_detail': {'base': 'http://languagelog.ldc.upenn.edu/nll/wp-atom.php',\n",
       "   'language': 'en-US',\n",
       "   'type': 'text/html',\n",
       "   'value': 'Language vigilantism'},\n",
       "  'updated': '2018-01-24T16:45:01Z',\n",
       "  'updated_parsed': time.struct_time(tm_year=2018, tm_mon=1, tm_mday=24, tm_hour=16, tm_min=45, tm_sec=1, tm_wday=2, tm_yday=24, tm_isdst=0)},\n",
       " {'author': 'Victor Mair',\n",
       "  'author_detail': {'href': 'https://www.sas.upenn.edu/ealc/mair',\n",
       "   'name': 'Victor Mair'},\n",
       "  'authors': [{'href': 'https://www.sas.upenn.edu/ealc/mair',\n",
       "    'name': 'Victor Mair'}],\n",
       "  'content': [{'base': 'http://languagelog.ldc.upenn.edu/nll/?p=36344',\n",
       "    'language': 'en-US',\n",
       "    'type': 'text/html',\n",
       "    'value': '<p>Valerie Hansen gave me the following package:</p>\\n<p align=\"center\"><a href=\"http://languagelog.ldc.upenn.edu/~bgzimmer/indispensable.jpg\"><img title=\"Click to embiggen\" src=\"http://languagelog.ldc.upenn.edu/~bgzimmer/indispensable.jpg\" alt=\"\" width=\"300\" /></a><span id=\"more-36344\"></span></p>\\n<p>I was pleased that I could read the cursive script without hesitation:</p>\\n<p style=\"padding-left: 30px;\">shuàn bùlí 涮不离</p>\\n<p>Figuring out exactly what this expression means is another matter altogether.</p>\\n<p>The last two characters are relatively easy:\\xa0 \"[can]not separate / be apart (from)\".</p>\\n<p>The first character is harder; it basically means \"rinse; swill\", but &#8212; in a more specialized sense &#8212; it also means \"scald thin slices of meat (especially mutton) and vegetables in boiling water\".\\xa0 It\\'s the Northern Chinese variant of\\xa0<a href=\"https://en.wikipedia.org/wiki/Hot_pot\">huǒguō 火鍋 (\"hot pot\")</a>\\xa0, which was well established under the Mongols and then elaborated under the Manchus, but is now best known by its Sichuanese and Chongqing exemplars.</p>\\n<p>Shuàn yángròu 涮羊肉 (\"instant-boiled mutton\") may be thought of as the Chinese equivalent or parallel to Japanese\\xa0<a href=\"https://en.wikipedia.org/wiki/Shabu-shabu\">shabu-shabu</a>\\xa0(that\\'s an onomatopoeic term describing the sounds of the ingredients being swirled in the boiling water; shuàn 涮 itself might also be onomatopoeic).</p>\\n<p>Now that we know what shuàn 涮 means as a cooking technique (\"scald thinly sliced meat, vegetables, etc.\"), let\\'s proceed to try to make sense of the whole expression, shuàn bùlí 涮不离:</p>\\n<p style=\"padding-left: 30px;\">\"scald not leave / separate / part\"</p>\\n<p>Even some native speakers of Chinese to whom I showed this expression didn\\'t know quite what to make of all three character together.\\xa0 After giving it some thought and pondering the package as a whole, it begins to dawn on you:\\xa0 as a dipping sauce for shuàn yángròu 涮羊肉 (\"instant-boiled mutton [and other thinly sliced meat or vegetables]\"), you can\\'t be without it.</p>\\n<p style=\"padding-left: 30px;\">\"[when you] scald [meat, etc.] [you] cannot be separated / apart from it\"</p>\\n<p>In other words, it\\'s an indispensable dipping sauce for this style of hot pot.</p>\\n<p>[Thanks to Yixue Yang]</p>'}],\n",
       "  'guidislink': False,\n",
       "  'href': 'https://www.sas.upenn.edu/ealc/mair',\n",
       "  'id': 'http://languagelog.ldc.upenn.edu/nll/?p=36344',\n",
       "  'link': 'http://languagelog.ldc.upenn.edu/nll/?p=36344',\n",
       "  'links': [{'href': 'http://languagelog.ldc.upenn.edu/nll/?p=36344',\n",
       "    'rel': 'alternate',\n",
       "    'type': 'text/html'},\n",
       "   {'count': '7',\n",
       "    'href': 'http://languagelog.ldc.upenn.edu/nll/?p=36344#comments',\n",
       "    'rel': 'replies',\n",
       "    'thr:count': '7',\n",
       "    'type': 'text/html'},\n",
       "   {'count': '7',\n",
       "    'href': 'http://languagelog.ldc.upenn.edu/nll/?feed=atom&p=36344',\n",
       "    'rel': 'replies',\n",
       "    'thr:count': '7',\n",
       "    'type': 'application/atom+xml'}],\n",
       "  'published': '2018-01-22T23:35:34Z',\n",
       "  'published_parsed': time.struct_time(tm_year=2018, tm_mon=1, tm_mday=22, tm_hour=23, tm_min=35, tm_sec=34, tm_wday=0, tm_yday=22, tm_isdst=0),\n",
       "  'summary': 'Valerie Hansen gave me the following package: I was pleased that I could read the cursive script without hesitation: shuàn bùlí 涮不离 Figuring out exactly what this expression means is another matter altogether. The last two characters are relatively easy:\\xa0 \"[can]not separate / be apart (from)\". The first character is harder; it basically means \"rinse; [&#8230;]',\n",
       "  'summary_detail': {'base': 'http://languagelog.ldc.upenn.edu/nll/wp-atom.php',\n",
       "   'language': 'en-US',\n",
       "   'type': 'text/html',\n",
       "   'value': 'Valerie Hansen gave me the following package: I was pleased that I could read the cursive script without hesitation: shuàn bùlí 涮不离 Figuring out exactly what this expression means is another matter altogether. The last two characters are relatively easy:\\xa0 \"[can]not separate / be apart (from)\". The first character is harder; it basically means \"rinse; [&#8230;]'},\n",
       "  'tags': [{'label': None,\n",
       "    'scheme': 'http://languagelog.ldc.upenn.edu/nll',\n",
       "    'term': 'Found in translation'},\n",
       "   {'label': None,\n",
       "    'scheme': 'http://languagelog.ldc.upenn.edu/nll',\n",
       "    'term': 'Language and food'}],\n",
       "  'thr_total': '7',\n",
       "  'title': 'Indispensable condiment',\n",
       "  'title_detail': {'base': 'http://languagelog.ldc.upenn.edu/nll/wp-atom.php',\n",
       "   'language': 'en-US',\n",
       "   'type': 'text/html',\n",
       "   'value': 'Indispensable condiment'},\n",
       "  'updated': '2018-01-23T13:02:04Z',\n",
       "  'updated_parsed': time.struct_time(tm_year=2018, tm_mon=1, tm_mday=23, tm_hour=13, tm_min=2, tm_sec=4, tm_wday=1, tm_yday=23, tm_isdst=0)},\n",
       " {'author': 'Victor Mair',\n",
       "  'author_detail': {'href': 'https://www.sas.upenn.edu/ealc/mair',\n",
       "   'name': 'Victor Mair'},\n",
       "  'authors': [{'href': 'https://www.sas.upenn.edu/ealc/mair',\n",
       "    'name': 'Victor Mair'}],\n",
       "  'content': [{'base': 'http://languagelog.ldc.upenn.edu/nll/?p=36331',\n",
       "    'language': 'en-US',\n",
       "    'type': 'text/html',\n",
       "    'value': '<p>I\\'m at Yale University attending a workshop on Tangut.\\xa0 So you ask, \"What is \\'Tangut\\'?\"\\xa0 Relevant Wikipedia articles:</p>\\n<ul>\\n<li><a title=\"Tangut people\" href=\"https://en.wikipedia.org/wiki/Tangut_people\">Tangut people</a>, an ancient ethnic group in Northwest China, not Tibetan people.</li>\\n<li><a title=\"Tangut language\" href=\"https://en.wikipedia.org/wiki/Tangut_language\">Tangut language</a>, the extinct language spoken by the Tangut people, not Tibetan language.</li>\\n<li><a title=\"Tangut script\" href=\"https://en.wikipedia.org/wiki/Tangut_script\">Tangut script</a>, the writing system used to write the Tangut language</li>\\n<li><a title=\"Western Xia\" href=\"https://en.wikipedia.org/wiki/Western_Xia\">Western Xia</a> (1038–1227), also known as the Tangut Empire, a state founded by the Tangut people</li>\\n</ul>\\n<p>Enough of Tangut for now.\\xa0 I will write a separate post on Tangut language and script later on.\\xa0 Meanwhile, since the majority of specialists on Tangut are Russian, and several Russians are participating in this workshop, I\\'ve heard them refer to the president of their country with a pronunciation that is rather different from what we say it in English, but more nearly resembles the way his surname is spoken in Mandarin.</p>\\n<p><span id=\"more-36331\"></span></p>\\n<p>The <a href=\"https://en.wikipedia.org/wiki/Vladimir_Putin\">Wikipedia article on Putin</a> gives the following IPA renditions of Putin\\'s surname:</p>\\n<p style=\"padding-left: 30px;\"><span class=\"nowrap\"><span class=\"IPA nopopups noexcerpt\"><a title=\"Help:IPA/English\" href=\"https://en.wikipedia.org/wiki/Help:IPA/English\">/<span title=\"/ˈ/: primary stress follows\">ˈ</span><span title=\"\\'p\\' in \\'pie\\'\">p</span><span title=\"/uː/: \\'oo\\' in \\'goose\\'\">uː</span><span title=\"\\'t\\' in \\'tie\\'\">t</span><span title=\"/ɪ/: \\'i\\' in \\'kit\\'\">ɪ</span><span title=\"\\'n\\' in \\'nigh\\'\">n</span>/</a></span></span></p>\\n<p style=\"padding-left: 30px;\"><span class=\"IPA\" title=\"Representation in the International Phonetic Alphabet (IPA)\"><a title=\"Help:IPA/Russian\" href=\"https://en.wikipedia.org/wiki/Help:IPA/Russian\">ˈputʲɪn</a></span></p>\\n<p style=\"padding-left: 30px;\"><small class=\"nowrap\">\\xa0(<span class=\"unicode haudio\"><span class=\"fn\">\\xa0<a class=\"internal\" title=\"Ru-Vladimir Vladimirovich Putin.ogg\" href=\"https://upload.wikimedia.org/wikipedia/commons/2/23/Ru-Vladimir_Vladimirovich_Putin.ogg\">listen</a></span></span>)</small></p>\\n<p>When I hear Russians pronounce \"Putin\", I immediately think of how Chinese say it &#8212;<span id=\"result_box\" class=\"short_text\" lang=\"zh-CN\"><span class=\"\">\\xa0 Pǔjīng 普京</span></span>.\\xa0 There\\'s not much else they could do with the first syllable, but &#8212; though the second syllable sounds closer to the Russian than the way we say it in English &#8212; I still have questions about why the Chinese chose jing <span id=\"result_box\" class=\"short_text\" lang=\"zh-CN\"><span class=\"\">京 (</span></span><span id=\"result_box\" class=\"short_text\" lang=\"zh-CN\"><span class=\"\"><span class=\"IPA\">tɕíŋ</span>) to represent the second syllable.</span></span></p>\\n<p><span id=\"result_box\" class=\"short_text\" lang=\"zh-CN\"><span class=\"\">In Taiwan, they say </span></span>Pǔdīng 普丁, which has the same issue with the final sound of the second syllable as does mainland <span id=\"result_box\" class=\"short_text\" lang=\"zh-CN\"><span class=\"\">Pǔjīng 普京.</span></span></p>\\n<p>There\\'s no \"tin\" syllable in Mandarin, so that wasn\\'t an option, but it would have been a bad choice anyway, since it would be mimicking the English way of how we say the \"tin\" of \"Putin\" rather than the way the Russians say it.\\xa0 But why the velar nasal ending rather than just a dental nasal?</p>\\n<p>At first I thought they could have picked a \"qin\" syllable to more nearly approximate the Russian, but quickly realized that the Russian doesn\\'t have aspiration.\\xa0 So why not a \"jin\" syllable?\\xa0 To my ear, that would sound better than the <span id=\"result_box\" class=\"short_text\" lang=\"zh-CN\"><span class=\"\">jīng 京 or </span></span><span id=\"result_box\" class=\"short_text\" lang=\"zh-CN\"><span class=\"\">dīng 丁 </span></span>of the common Mandarin transcriptions of the second syllable.\\xa0 There may, however, be other subtle phonological considerations that I have not taken into account that led to the choice of a velar nasal final instead of a dental nasal.</p>\\n<p>For those who are curious, the Hanyu Pinyin transcription of Vladimir Vladimirovich Putin\\'s full name is Fúlājīmǐ\\'ěr·Fúlājīmǐluówéiqí·Pǔjīng 弗拉基米尔·弗拉基米罗维奇·普京.</p>'}],\n",
       "  'guidislink': False,\n",
       "  'href': 'https://www.sas.upenn.edu/ealc/mair',\n",
       "  'id': 'http://languagelog.ldc.upenn.edu/nll/?p=36331',\n",
       "  'link': 'http://languagelog.ldc.upenn.edu/nll/?p=36331',\n",
       "  'links': [{'href': 'http://languagelog.ldc.upenn.edu/nll/?p=36331',\n",
       "    'rel': 'alternate',\n",
       "    'type': 'text/html'},\n",
       "   {'href': 'https://upload.wikimedia.org/wikipedia/commons/2/23/Ru-Vladimir_Vladimirovich_Putin.ogg',\n",
       "    'length': '110357',\n",
       "    'rel': 'enclosure',\n",
       "    'type': 'audio/ogg'},\n",
       "   {'count': '10',\n",
       "    'href': 'http://languagelog.ldc.upenn.edu/nll/?p=36331#comments',\n",
       "    'rel': 'replies',\n",
       "    'thr:count': '10',\n",
       "    'type': 'text/html'},\n",
       "   {'count': '10',\n",
       "    'href': 'http://languagelog.ldc.upenn.edu/nll/?feed=atom&p=36331',\n",
       "    'rel': 'replies',\n",
       "    'thr:count': '10',\n",
       "    'type': 'application/atom+xml'}],\n",
       "  'published': '2018-01-22T01:12:13Z',\n",
       "  'published_parsed': time.struct_time(tm_year=2018, tm_mon=1, tm_mday=22, tm_hour=1, tm_min=12, tm_sec=13, tm_wday=0, tm_yday=22, tm_isdst=0),\n",
       "  'summary': 'I\\'m at Yale University attending a workshop on Tangut.\\xa0 So you ask, \"What is \\'Tangut\\'?\"\\xa0 Relevant Wikipedia articles: Tangut people, an ancient ethnic group in Northwest China, not Tibetan people. Tangut language, the extinct language spoken by the Tangut people, not Tibetan language. Tangut script, the writing system used to write the Tangut language Western [&#8230;]',\n",
       "  'summary_detail': {'base': 'http://languagelog.ldc.upenn.edu/nll/wp-atom.php',\n",
       "   'language': 'en-US',\n",
       "   'type': 'text/html',\n",
       "   'value': 'I\\'m at Yale University attending a workshop on Tangut.\\xa0 So you ask, \"What is \\'Tangut\\'?\"\\xa0 Relevant Wikipedia articles: Tangut people, an ancient ethnic group in Northwest China, not Tibetan people. Tangut language, the extinct language spoken by the Tangut people, not Tibetan language. Tangut script, the writing system used to write the Tangut language Western [&#8230;]'},\n",
       "  'tags': [{'label': None,\n",
       "    'scheme': 'http://languagelog.ldc.upenn.edu/nll',\n",
       "    'term': 'Names'},\n",
       "   {'label': None,\n",
       "    'scheme': 'http://languagelog.ldc.upenn.edu/nll',\n",
       "    'term': 'Transcription'}],\n",
       "  'thr_total': '10',\n",
       "  'title': 'Putin in Russian, Mandarin, and English',\n",
       "  'title_detail': {'base': 'http://languagelog.ldc.upenn.edu/nll/wp-atom.php',\n",
       "   'language': 'en-US',\n",
       "   'type': 'text/html',\n",
       "   'value': 'Putin in Russian, Mandarin, and English'},\n",
       "  'updated': '2018-01-22T01:12:13Z',\n",
       "  'updated_parsed': time.struct_time(tm_year=2018, tm_mon=1, tm_mday=22, tm_hour=1, tm_min=12, tm_sec=13, tm_wday=0, tm_yday=22, tm_isdst=0)},\n",
       " {'author': 'Mark Liberman',\n",
       "  'author_detail': {'href': 'http://ling.upenn.edu/~myl',\n",
       "   'name': 'Mark Liberman'},\n",
       "  'authors': [{'href': 'http://ling.upenn.edu/~myl', 'name': 'Mark Liberman'}],\n",
       "  'content': [{'base': 'http://languagelog.ldc.upenn.edu/nll/?p=36337',\n",
       "    'language': 'en-US',\n",
       "    'type': 'text/html',\n",
       "    'value': '<p>In a series of posts over the last few years, I\\'ve documented gradual declines in the frequency of the English definite determiner \"the\" in a wide variety of text sources: <a href=\"http://languagelog.ldc.upenn.edu/myl/TheSOTU1.png\" target=\"_blank\" rel=\"noopener\">State of the Union addresses</a>, <a href=\"http://languagelog.ldc.upenn.edu/myl/MedlineB9.png\" target=\"_blank\" rel=\"noopener\">Medline abstracts</a>, the <a href=\"http://languagelog.ldc.upenn.edu/myl/COHA_THE1.png\" target=\"_blank\" rel=\"noopener\">Corpus of Historical American English</a>, <a href=\"http://languagelog.ldc.upenn.edu/myl/EuroDefinites4.png\" target=\"_blank\" rel=\"noopener\">Google Books</a>\\xa0(from both <a href=\"http://languagelog.ldc.upenn.edu/myl/AmericanBritishLoveHate1.png\" target=\"_blank\" rel=\"noopener\">American and British sources</a>), and so on. Both in <a href=\"http://languagelog.ldc.upenn.edu/myl/FisherTheResults.png\" target=\"_blank\" rel=\"noopener\">conversational speech</a> and in <a href=\"http://languagelog.ldc.upenn.edu/myl/WordsBySexAge2_8.png\" target=\"_blank\" rel=\"noopener\">informal writing</a>, we see the kind of correlation with sex and age that we expect for a language change in progress; and there are <a href=\"http://languagelog.ldc.upenn.edu/myl/THE_Geography.png\" target=\"_blank\" rel=\"noopener\">surprisingly systematic geographical differences</a>. (See the links below for details.)</p>\\n<p>For reasons discussed in a couple of recent posts (\"<a href=\"http://languagelog.ldc.upenn.edu/nll/?p=35968\" target=\"_blank\" rel=\"noopener\">Proportion of dialogue in novels</a>\", 12/29/2017; \"<a href=\"http://languagelog.ldc.upenn.edu/nll/?p=36233\" target=\"_blank\" rel=\"noopener\">Ross Macdonald: lexical diversity over the lifespan</a>\", 1/13/2018), Yves Schabes and I have been analyzing variation over time in the writing of some prolific 20th-century authors, so this morning I thought I\\'d take the opportunity to look at longitudinal changes in \"the\" usage in the two authors whose books I\\'ve processed so far, Agatha Christie and Ross Macdonald.</p>\\n<p><span id=\"more-36337\"></span></p>\\n<p>Given previous work on\\xa0<a href=\"http://www.annualreviews.org/doi/abs/10.1146/annurev-linguistics-011817-045438\" target=\"_blank\" rel=\"noopener\">language change across the lifespan</a>, we might see several different patterns:</p>\\n<p style=\"padding-left: 30px;\"><span style=\"color: #000080;\">Longitudinal studies of individuals and groups reveal three trajectory types postadolescence: stability (the most common), adopting (to some degree) a change led by younger people (the next most common trajectory), or swimming against the community current by reverting to an older pattern in later life (the least common trajectory).</span></p>\\n<p>What we do see:</p>\\n<p><a href=\"http://languagelog.ldc.upenn.edu/myl/CriminalThe1.png\"><img title=\"Click to embiggen\" src=\"http://languagelog.ldc.upenn.edu/myl/CriminalThe1.png\" width=\"490\" /></a></p>\\n<p>So</p>\\n<ul>\\n<li>Both authors show some evidence of adaptation to the on-going change;</li>\\n<li>Ross Macdonald\\'s rates of \"the\" usage are well above Agatha Christie\\'s, which is consistent with the previously-mentioned gender difference;</li>\\n<li>Ross Macdonald seems to have stabilized or even reverted a bit in the last ten years of his writing career, from 1965 to 1975.</li>\\n</ul>\\n<p>Previous LLOG posts on the general topic of decreases in definiteness:</p>\\n<p>\"<a href=\"http://languagelog.ldc.upenn.edu/nll/?p=9998\" target=\"_blank\" rel=\"noopener\">SOTU evolution</a>\", 1/26/2014<br />\\n\"<a href=\"http://languagelog.ldc.upenn.edu/nll/?p=16938\" target=\"_blank\" rel=\"noopener\">Decreasing definiteness</a>\", 1/8/2015<br />\\n\"<a href=\"http://languagelog.ldc.upenn.edu/nll/?p=16991\" target=\"_blank\" rel=\"noopener\">Why definiteness is decreasing, part 1</a>\", 1/9/2015<br />\\n\"<a href=\"http://languagelog.ldc.upenn.edu/nll/?p=17006\" target=\"_blank\" rel=\"noopener\">Why definiteness is decreasing, part 2</a>\", 1/10/2015<br />\\n\"<a href=\"http://languagelog.ldc.upenn.edu/nll/?p=17215\" target=\"_blank\" rel=\"noopener\">Why definiteness is decreasing, part 3</a>\", 1/18/2015<br />\\n\"<a href=\"http://languagelog.ldc.upenn.edu/nll/?p=22893\" target=\"_blank\" rel=\"noopener\">Positivity?</a>\", 12/21/2015<br />\\n\"<a href=\"http://languagelog.ldc.upenn.edu/nll/?p=23210\" target=\"_blank\" rel=\"noopener\">Normalizing</a>\", 12/31/2015<br />\\n\"<a href=\"http://languagelog.ldc.upenn.edu/nll/?p=23277\" target=\"_blank\" rel=\"noopener\">The case of the disappearing determiners</a>\", 1/3/2016<br />\\n\"<a href=\"http://languagelog.ldc.upenn.edu/nll/?p=23348\" target=\"_blank\" rel=\"noopener\">Dutch\\xa0<em>DE</em></a>\", 1/4/2016<br />\\n\"<a href=\"http://languagelog.ldc.upenn.edu/nll/?p=23396\" target=\"_blank\" rel=\"noopener\">The determiner of the turtle is heard in our land</a>\", 1/7/2016<br />\\n\"<a href=\"http://languagelog.ldc.upenn.edu/nll/?p=23416\" target=\"_blank\" rel=\"noopener\">Correlated lexicometrical decay</a>\", 1/9/2016<br />\\n\"<a href=\"http://languagelog.ldc.upenn.edu/nll/?p=23456\" target=\"_blank\" rel=\"noopener\">Style or artefact or both?</a>\", 1/12/2016<br />\\n\"<a href=\"http://languagelog.ldc.upenn.edu/nll/?p=23780\" target=\"_blank\" rel=\"noopener\">Geolexicography</a>\", 1/27/2016</p>\\n<p>&nbsp;</p>'}],\n",
       "  'guidislink': False,\n",
       "  'href': 'http://ling.upenn.edu/~myl',\n",
       "  'id': 'http://languagelog.ldc.upenn.edu/nll/?p=36337',\n",
       "  'link': 'http://languagelog.ldc.upenn.edu/nll/?p=36337',\n",
       "  'links': [{'href': 'http://languagelog.ldc.upenn.edu/nll/?p=36337',\n",
       "    'rel': 'alternate',\n",
       "    'type': 'text/html'},\n",
       "   {'count': '4',\n",
       "    'href': 'http://languagelog.ldc.upenn.edu/nll/?p=36337#comments',\n",
       "    'rel': 'replies',\n",
       "    'thr:count': '4',\n",
       "    'type': 'text/html'},\n",
       "   {'count': '4',\n",
       "    'href': 'http://languagelog.ldc.upenn.edu/nll/?feed=atom&p=36337',\n",
       "    'rel': 'replies',\n",
       "    'thr:count': '4',\n",
       "    'type': 'application/atom+xml'}],\n",
       "  'published': '2018-01-21T16:36:12Z',\n",
       "  'published_parsed': time.struct_time(tm_year=2018, tm_mon=1, tm_mday=21, tm_hour=16, tm_min=36, tm_sec=12, tm_wday=6, tm_yday=21, tm_isdst=0),\n",
       "  'summary': 'In a series of posts over the last few years, I\\'ve documented gradual declines in the frequency of the English definite determiner \"the\" in a wide variety of text sources: State of the Union addresses, Medline abstracts, the Corpus of Historical American English, Google Books\\xa0(from both American and British sources), and so on. Both in [&#8230;]',\n",
       "  'summary_detail': {'base': 'http://languagelog.ldc.upenn.edu/nll/wp-atom.php',\n",
       "   'language': 'en-US',\n",
       "   'type': 'text/html',\n",
       "   'value': 'In a series of posts over the last few years, I\\'ve documented gradual declines in the frequency of the English definite determiner \"the\" in a wide variety of text sources: State of the Union addresses, Medline abstracts, the Corpus of Historical American English, Google Books\\xa0(from both American and British sources), and so on. Both in [&#8230;]'},\n",
       "  'tags': [{'label': None,\n",
       "    'scheme': 'http://languagelog.ldc.upenn.edu/nll',\n",
       "    'term': 'Language change'},\n",
       "   {'label': None,\n",
       "    'scheme': 'http://languagelog.ldc.upenn.edu/nll',\n",
       "    'term': 'WTF'}],\n",
       "  'thr_total': '4',\n",
       "  'title': 'Decreasing definiteness in crime novels',\n",
       "  'title_detail': {'base': 'http://languagelog.ldc.upenn.edu/nll/wp-atom.php',\n",
       "   'language': 'en-US',\n",
       "   'type': 'text/html',\n",
       "   'value': 'Decreasing definiteness in crime novels'},\n",
       "  'updated': '2018-01-22T20:03:24Z',\n",
       "  'updated_parsed': time.struct_time(tm_year=2018, tm_mon=1, tm_mday=22, tm_hour=20, tm_min=3, tm_sec=24, tm_wday=0, tm_yday=22, tm_isdst=0)},\n",
       " {'author': 'Victor Mair',\n",
       "  'author_detail': {'href': 'https://www.sas.upenn.edu/ealc/mair',\n",
       "   'name': 'Victor Mair'},\n",
       "  'authors': [{'href': 'https://www.sas.upenn.edu/ealc/mair',\n",
       "    'name': 'Victor Mair'}],\n",
       "  'content': [{'base': 'http://languagelog.ldc.upenn.edu/nll/?p=36309',\n",
       "    'language': 'en-US',\n",
       "    'type': 'text/html',\n",
       "    'value': '<div>Nikita Kuzmin told me about a trend among young Chinese to exchange certain characters with other phonetically close characters in their Internet writings, so that the words sound more \"cute\".</div>\\n<div>\\n<p>Here are some examples of such substitutions:</p>\\n</div>\\n<div style=\"padding-left: 30px;\">jiègè 介個 &#8212;\\xa0 zhège 這個 (\"this\")</div>\\n<div style=\"padding-left: 30px;\">pényǒu 盆友 &#8212; péngyǒu 朋友 (\"friend\")</div>\\n<div style=\"padding-left: 30px;\">nánpiào 男票 &#8212; nán péngyǒu 男朋友 (\"boyfriend\")</div>\\n<div style=\"padding-left: 30px;\">xièxiè 蟹蟹 &#8212; xièxiè 謝謝 (\"thanks\")</div>\\n<div style=\"padding-left: 30px;\">kāisēn 開森 &#8212; kāixīn 開心 (\"happy\")</div>\\n<div style=\"padding-left: 30px;\">suìjué/jiào 碎觉 &#8212; shuìjiào 睡覺 (\"sleep\")</div>\\n<div>\\n<p><span id=\"more-36309\"></span></p>\\n</div>\\n<div>Don\\'t worry overmuch about the meanings of the characters in the first half of each pair, because they are being used for their sound.\\xa0 Still, in this kind of word play, the latent meanings of the substituted characters often add another level of levity.</div>\\n<div></div>\\n<p style=\"padding-left: 30px;\">jiègè 介個 (\"interpose piece\")<br />\\npényǒu 盆友 (\"basin friend\")<br />\\nnánpiào 男票 (\"male ticket\")<br />\\nxièxiè 蟹蟹 (\"crab crab\")<br />\\nkāisēn 開森 (\"open forest\")<br />\\nsuìjué/jiào 碎觉 (\"shattered awake/asleep\")</p>\\n<div></div>\\n<div>One of Nikita\\'s Chinese friends told him that this type of word play is due to the influence of Taiwanese guoyu (Mandarin) pronunciation, as well as to the influence of the topolects.</div>\\n<p>This is but one way in which netizens today are playing with the characters to achieve all sorts of special effects, both phonetic and semantic.\\xa0 Taiwan is an especially fertile place for this kind of linguistic legerdemain, e.g.:</p>\\n<p style=\"padding-left: 30px;\">\"<a title=\"Permanent link to Further evidence of mixed script writing in Chinese\" href=\"http://languagelog.ldc.upenn.edu/nll/?p=36248\" rel=\"bookmark\">Further evidence of mixed script writing in Chinese</a>\" (1/19/18)</p>\\n<p style=\"padding-left: 30px;\">\"<a title=\"Permanent link to The Westernization of Chinese\" href=\"http://languagelog.ldc.upenn.edu/nll/?p=4168\" rel=\"bookmark\">The Westernization of Chinese</a>\" (9/6/12)</p>\\n<p><iframe width=\"500\" height=\"375\" src=\"https://www.youtube.com/embed/aqNsaEL-wM4?feature=oembed\" frameborder=\"0\" allow=\"autoplay; encrypted-media\" allowfullscreen></iframe></p>'}],\n",
       "  'guidislink': False,\n",
       "  'href': 'https://www.sas.upenn.edu/ealc/mair',\n",
       "  'id': 'http://languagelog.ldc.upenn.edu/nll/?p=36309',\n",
       "  'link': 'http://languagelog.ldc.upenn.edu/nll/?p=36309',\n",
       "  'links': [{'href': 'http://languagelog.ldc.upenn.edu/nll/?p=36309',\n",
       "    'rel': 'alternate',\n",
       "    'type': 'text/html'},\n",
       "   {'count': '8',\n",
       "    'href': 'http://languagelog.ldc.upenn.edu/nll/?p=36309#comments',\n",
       "    'rel': 'replies',\n",
       "    'thr:count': '8',\n",
       "    'type': 'text/html'},\n",
       "   {'count': '8',\n",
       "    'href': 'http://languagelog.ldc.upenn.edu/nll/?feed=atom&p=36309',\n",
       "    'rel': 'replies',\n",
       "    'thr:count': '8',\n",
       "    'type': 'application/atom+xml'}],\n",
       "  'published': '2018-01-21T13:20:00Z',\n",
       "  'published_parsed': time.struct_time(tm_year=2018, tm_mon=1, tm_mday=21, tm_hour=13, tm_min=20, tm_sec=0, tm_wday=6, tm_yday=21, tm_isdst=0),\n",
       "  'summary': 'Nikita Kuzmin told me about a trend among young Chinese to exchange certain characters with other phonetically close characters in their Internet writings, so that the words sound more \"cute\". Here are some examples of such substitutions: jiègè 介個 &#8212;\\xa0 zhège 這個 (\"this\") pényǒu 盆友 &#8212; péngyǒu 朋友 (\"friend\") nánpiào 男票 &#8212; nán péngyǒu 男朋友 [&#8230;]',\n",
       "  'summary_detail': {'base': 'http://languagelog.ldc.upenn.edu/nll/wp-atom.php',\n",
       "   'language': 'en-US',\n",
       "   'type': 'text/html',\n",
       "   'value': 'Nikita Kuzmin told me about a trend among young Chinese to exchange certain characters with other phonetically close characters in their Internet writings, so that the words sound more \"cute\". Here are some examples of such substitutions: jiègè 介個 &#8212;\\xa0 zhège 這個 (\"this\") pényǒu 盆友 &#8212; péngyǒu 朋友 (\"friend\") nánpiào 男票 &#8212; nán péngyǒu 男朋友 [&#8230;]'},\n",
       "  'tags': [{'label': None,\n",
       "    'scheme': 'http://languagelog.ldc.upenn.edu/nll',\n",
       "    'term': 'Humor'},\n",
       "   {'label': None,\n",
       "    'scheme': 'http://languagelog.ldc.upenn.edu/nll',\n",
       "    'term': 'Pronunciation'},\n",
       "   {'label': None,\n",
       "    'scheme': 'http://languagelog.ldc.upenn.edu/nll',\n",
       "    'term': 'Topolects'},\n",
       "   {'label': None,\n",
       "    'scheme': 'http://languagelog.ldc.upenn.edu/nll',\n",
       "    'term': 'Uncategorized'}],\n",
       "  'thr_total': '8',\n",
       "  'title': 'Using Chinese nonstandard characters to talk cute',\n",
       "  'title_detail': {'base': 'http://languagelog.ldc.upenn.edu/nll/wp-atom.php',\n",
       "   'language': 'en-US',\n",
       "   'type': 'text/html',\n",
       "   'value': 'Using Chinese nonstandard characters to talk cute'},\n",
       "  'updated': '2018-01-21T13:20:00Z',\n",
       "  'updated_parsed': time.struct_time(tm_year=2018, tm_mon=1, tm_mday=21, tm_hour=13, tm_min=20, tm_sec=0, tm_wday=6, tm_yday=21, tm_isdst=0)},\n",
       " {'author': 'Mark Liberman',\n",
       "  'author_detail': {'href': 'http://ling.upenn.edu/~myl',\n",
       "   'name': 'Mark Liberman'},\n",
       "  'authors': [{'href': 'http://ling.upenn.edu/~myl', 'name': 'Mark Liberman'}],\n",
       "  'content': [{'base': 'http://languagelog.ldc.upenn.edu/nll/?p=36321',\n",
       "    'language': 'en-US',\n",
       "    'type': 'text/html',\n",
       "    'value': '<p>Today\\'s <a href=\"http://www.gocomics.com/frazz/2018/01/20\" target=\"_blank\" rel=\"noopener\">Frazz</a>:</p>\\n<p><a href=\"http://languagelog.ldc.upenn.edu/myl/SnowPants.gif\"><img title=\"Click to embiggen\" src=\"http://languagelog.ldc.upenn.edu/myl/SnowPants.gif\" width=\"490\" /></a></p>\\n<p><span id=\"more-36321\"></span></p>\\n<p><em>Snowpants </em>exemplifies a common case, where both elements of the compound retain their basic meaning, but the combination has an idiomatic aspect &#8212; the meaning is not entirely compositional, in that the reference is not to pants composed of snow (as in <em>snowdrift, snow shower, snow bridge</em>), and the morpheme choice is conventionalized, so that the first element is\\xa0<em>snow</em> rather than <em>blizzard, ice, </em>etc., and the second element is<em> pants </em>rather than<em> trousers, britches,</em> etc.</p>\\n<p>For other examples of the quasi-compositional meaning, compare <em>olive oil</em> and <em>hair oil</em>, or <em>fog bank</em> and <em>fog horn </em>&#8212; really almost any English noun compounds at all.</p>\\n<p>And for the lexicalization, you could refer to \"blizzard britches\" and hope to be understood, even though your listeners probably never heard that sequence before, but they\\'ve probably already got <em>snowpants</em> in their mental lexicon, at least if they grew up in the northern parts of the U.S.</p>\\n<p><em>Peacoat</em> is another common case, where both elements are recognizable English words, but the first one is used in a way that is mostly unconnected with its normal meaning. The OED\\'s etymology and citations for <em>pea-jacket:</em></p>\\n<p style=\"padding-left: 30px;\">Origin uncertain; apparently &lt; <span style=\"font-variant: small-caps;\">pee</span> n.1 (although this apparently did not survive after the 17th cent.) + <span style=\"font-variant: small-caps;\">jacket</span> n. It has been suggested that this word may be borrowed from, or formed after, Dutch <em>pijjakker, pijjekker</em> ( &lt; <em>pij</em> (see pee n.1) + <em>jakker , jekker</em> , diminutive of <em>jak</em> (Middle Dutch <em>jacke</em> ; &lt; French <em>jacque</em> : see <span style=\"font-variant: small-caps;\">jacket</span> n.)), with the second element assimilated to <span style=\"font-variant: small-caps;\">jacket</span> n., but this is apparently only attested much later (1843), as are corresponding formations in other Germanic languages. The alternative etymology proposed in quot. 1840 is not supported by the evidence (compare later <span style=\"font-variant: small-caps;\">pilot cloth</span> n.).</p>\\n<p style=\"padding-left: 30px;\"><strong>1717</strong>\\xa0\\xa0 <em>Inventory</em> in M. Spufford <em>Great Reclothing of Rural Eng.</em> (1984) 218\\xa0\\xa0 2 Pea Jacquetts 10s.<br />\\n<strong>1757</strong>\\xa0\\xa0 <em>Mem. Princ. Trans. Last War</em> 8\\xa0\\xa0 The Consumption..made of their coarse Woollens by the Men employed in the Fishery, reckoning for each a Blanket, Watch Coat, Rug, Pea-Jacket, etc.<br />\\n[&#8230;]<br />\\n<strong>1840</strong>\\xa0\\xa0 F. Marryat <em>Poor Jack</em> xxii. 153\\xa0\\xa0 A short P-jacket (so called from the abbreviation of pilot\\'s jacket) reached down to just above his knees.</p>\\n<p>The earliest OED citation for <em>pea-coat</em> is from 1790:</p>\\n<p style=\"padding-left: 30px;\"><strong>1790</strong>\\xa0\\xa0 <em>Pennsylvania Packet</em> 4 Jan. 2/2\\xa0\\xa0 There are now lodged in the said Office..1 pea coat;..1 coatee [etc.].</p>\\n<p>So we don\\'t know where <em>pea</em> in <em>peacoat</em> comes from, except it\\'s not any current meaning of the regular word <em>pea</em>.\\xa0 Similar developments are common, sometimes by retention of an otherwise obsolete measning, and sometimes in the form of a folk etymology or the more sporadic case that we\\'ve named <a href=\"http://itre.cis.upenn.edu/~myl/languagelog/archives/000018.html\" target=\"_blank\" rel=\"noopener\">eggcorns</a>.</p>\\n<p>For more on the quasi-compositionality of English compound nominals, see Liberman &amp; Sproat, \"<a href=\"http://languagelog.ldc.upenn.edu/myl/LibermanSproat1992a.pdf\">The Stress and Structure of Modified Noun Phrases in English\"</a>, in\\xa0Sag and Szabolsci, eds.,\\xa0<em>Lexical Matters </em>1992.</p>\\n<p>&nbsp;</p>'}],\n",
       "  'guidislink': False,\n",
       "  'href': 'http://ling.upenn.edu/~myl',\n",
       "  'id': 'http://languagelog.ldc.upenn.edu/nll/?p=36321',\n",
       "  'link': 'http://languagelog.ldc.upenn.edu/nll/?p=36321',\n",
       "  'links': [{'href': 'http://languagelog.ldc.upenn.edu/nll/?p=36321',\n",
       "    'rel': 'alternate',\n",
       "    'type': 'text/html'},\n",
       "   {'count': '19',\n",
       "    'href': 'http://languagelog.ldc.upenn.edu/nll/?p=36321#comments',\n",
       "    'rel': 'replies',\n",
       "    'thr:count': '19',\n",
       "    'type': 'text/html'},\n",
       "   {'count': '19',\n",
       "    'href': 'http://languagelog.ldc.upenn.edu/nll/?feed=atom&p=36321',\n",
       "    'rel': 'replies',\n",
       "    'thr:count': '19',\n",
       "    'type': 'application/atom+xml'}],\n",
       "  'published': '2018-01-20T13:20:52Z',\n",
       "  'published_parsed': time.struct_time(tm_year=2018, tm_mon=1, tm_mday=20, tm_hour=13, tm_min=20, tm_sec=52, tm_wday=5, tm_yday=20, tm_isdst=0),\n",
       "  'summary': \"Today's Frazz: Snowpants exemplifies a common case, where both elements of the compound retain their basic meaning, but the combination has an idiomatic aspect &#8212; the meaning is not entirely compositional, in that the reference is not to pants composed of snow (as in snowdrift, snow shower, snow bridge), and the morpheme choice is conventionalized, [&#8230;]\",\n",
       "  'summary_detail': {'base': 'http://languagelog.ldc.upenn.edu/nll/wp-atom.php',\n",
       "   'language': 'en-US',\n",
       "   'type': 'text/html',\n",
       "   'value': \"Today's Frazz: Snowpants exemplifies a common case, where both elements of the compound retain their basic meaning, but the combination has an idiomatic aspect &#8212; the meaning is not entirely compositional, in that the reference is not to pants composed of snow (as in snowdrift, snow shower, snow bridge), and the morpheme choice is conventionalized, [&#8230;]\"},\n",
       "  'tags': [{'label': None,\n",
       "    'scheme': 'http://languagelog.ldc.upenn.edu/nll',\n",
       "    'term': 'Linguistics in the comics'}],\n",
       "  'thr_total': '19',\n",
       "  'title': 'The quasi-compositionality of English compounds',\n",
       "  'title_detail': {'base': 'http://languagelog.ldc.upenn.edu/nll/wp-atom.php',\n",
       "   'language': 'en-US',\n",
       "   'type': 'text/html',\n",
       "   'value': 'The quasi-compositionality of English compounds'},\n",
       "  'updated': '2018-01-20T13:24:05Z',\n",
       "  'updated_parsed': time.struct_time(tm_year=2018, tm_mon=1, tm_mday=20, tm_hour=13, tm_min=24, tm_sec=5, tm_wday=5, tm_yday=20, tm_isdst=0)},\n",
       " {'author': 'Victor Mair',\n",
       "  'author_detail': {'href': 'https://www.sas.upenn.edu/ealc/mair',\n",
       "   'name': 'Victor Mair'},\n",
       "  'authors': [{'href': 'https://www.sas.upenn.edu/ealc/mair',\n",
       "    'name': 'Victor Mair'}],\n",
       "  'content': [{'base': 'http://languagelog.ldc.upenn.edu/nll/?p=36248',\n",
       "    'language': 'en-US',\n",
       "    'type': 'text/html',\n",
       "    'value': '<p>Michael Cannings relayed this <a href=\"https://twitter.com/DaveFlynn/status/953954230305357824\">tweet by Dave Flynn</a>:</p>\\n<blockquote class=\"twitter-tweet\" data-width=\"500\" data-dnt=\"true\">\\n<p lang=\"en\" dir=\"ltr\">When did replacing 很 with &quot;hen&quot; become a thing in Taiwan? <a href=\"https://t.co/IHX8b5EWLZ\">pic.twitter.com/IHX8b5EWLZ</a></p>\\n<p>&mdash; Dave Flynn 茶米 (@DaveFlynn) <a href=\"https://twitter.com/DaveFlynn/status/953954230305357824?ref_src=twsrc%5Etfw\">January 18, 2018</a></p></blockquote>\\n<p><script async src=\"https://platform.twitter.com/widgets.js\" charset=\"utf-8\"></script></p>\\n<p><span id=\"more-36248\"></span></p>\\n<p>The writing in the bottom right corner says:</p>\\n<p style=\"padding-left: 30px;\">yóuxì zhēn de HEN hǎowán 遊戲真的HEN好玩</p>\\n<p style=\"padding-left: 30px;\">\"the game is really fun\"</p>\\n<p>On the grammatical function of hěn 很 (\"very\") in such sentences:</p>\\n<ul>\\n<li>\"<a title=\"Permanent link to He\\'s (very) good / well / fine in Mandarin and Cantonese\" href=\"http://languagelog.ldc.upenn.edu/nll/?p=19478\" target=\"_blank\" rel=\"bookmark noopener\" data-saferedirecturl=\"https://www.google.com/url?hl=en&amp;q=http://languagelog.ldc.upenn.edu/nll/?p%3D19478&amp;source=gmail&amp;ust=1516508569540000&amp;usg=AFQjCNFekAEqaualAKJnk6ESjQAwmj8rzA\">He\\'s (very) good / well / fine in Mandarin and Cantonese</a>\" (6 /15/15)</li>\\n<li>\"<a title=\"Permanent link to \" href=\"http://languagelog.ldc.upenn.edu/nll/?p=32784\" target=\"_blank\" rel=\"bookmark noopener\" data-saferedirecturl=\"https://www.google.com/url?hl=en&amp;q=http://languagelog.ldc.upenn.edu/nll/?p%3D32784&amp;source=gmail&amp;ust=1516508569540000&amp;usg=AFQjCNH2pjCNkAtaB1qpzV72S8LMosNlVg\">\\'Little Man\\' the eating machine</a>\" (5/22/17)</li>\\n</ul>\\n<p>We have had many posts on biscriptalism, multiscriptalism, and mixed script writing in diverse languages on Language Log.\\xa0 Here are just a few for Chinese:</p>\\n<ul>\\n<li>\"<a href=\"http://itre.cis.upenn.edu/~myl/languagelog/archives/005318.html\" target=\"_blank\" rel=\"noopener\" data-saferedirecturl=\"https://www.google.com/url?hl=en&amp;q=http://itre.cis.upenn.edu/%257Emyl/languagelog/archives/005318.html&amp;source=gmail&amp;ust=1516508569540000&amp;usg=AFQjCNHU9XpEnwk1_y66u_nJkgctwrtpZg\">A new way of 寫ing Mandarin</a>\" (1/13/08)</li>\\n<li>\"<a href=\"http://languagelog.ldc.upenn.edu/nll/?p=3111\" target=\"_blank\" rel=\"noopener\" data-saferedirecturl=\"https://www.google.com/url?hl=en&amp;q=http://languagelog.ldc.upenn.edu/nll/?p%3D3111&amp;source=gmail&amp;ust=1516508569540000&amp;usg=AFQjCNHnXxJEqSoAyAVIKoOzRC0ZShJ9sg\">A New Morpheme in Mandarin</a>\" (6/26/11)</li>\\n<li>\"<a title=\"Permanent link to Biscriptalism on Starbucks cups, part 2\" href=\"http://languagelog.ldc.upenn.edu/nll/?p=34495\" target=\"_blank\" rel=\"bookmark noopener\" data-saferedirecturl=\"https://www.google.com/url?hl=en&amp;q=http://languagelog.ldc.upenn.edu/nll/?p%3D34495&amp;source=gmail&amp;ust=1516508569540000&amp;usg=AFQjCNHrZVZQPi_4uBaTp4QzRcGbbIdPTg\">Biscriptalism on Starbucks cups, part 2</a>\" (9/16/17)</li>\\n<li>\"<a title=\"Permanent link to Impromptu biscriptalism on a Starbucks cup\" href=\"http://languagelog.ldc.upenn.edu/nll/?p=34373\" target=\"_blank\" rel=\"bookmark noopener\" data-saferedirecturl=\"https://www.google.com/url?hl=en&amp;q=http://languagelog.ldc.upenn.edu/nll/?p%3D34373&amp;source=gmail&amp;ust=1516508569540000&amp;usg=AFQjCNHy5OvLi9ayjAqUwLCvJ8klsWKAdQ\">Impromptu biscriptalism on a Starbucks cup</a>\" (9/8/17)</li>\\n</ul>'}],\n",
       "  'guidislink': False,\n",
       "  'href': 'https://www.sas.upenn.edu/ealc/mair',\n",
       "  'id': 'http://languagelog.ldc.upenn.edu/nll/?p=36248',\n",
       "  'link': 'http://languagelog.ldc.upenn.edu/nll/?p=36248',\n",
       "  'links': [{'href': 'http://languagelog.ldc.upenn.edu/nll/?p=36248',\n",
       "    'rel': 'alternate',\n",
       "    'type': 'text/html'},\n",
       "   {'count': '7',\n",
       "    'href': 'http://languagelog.ldc.upenn.edu/nll/?p=36248#comments',\n",
       "    'rel': 'replies',\n",
       "    'thr:count': '7',\n",
       "    'type': 'text/html'},\n",
       "   {'count': '7',\n",
       "    'href': 'http://languagelog.ldc.upenn.edu/nll/?feed=atom&p=36248',\n",
       "    'rel': 'replies',\n",
       "    'thr:count': '7',\n",
       "    'type': 'application/atom+xml'}],\n",
       "  'published': '2018-01-20T04:27:53Z',\n",
       "  'published_parsed': time.struct_time(tm_year=2018, tm_mon=1, tm_mday=20, tm_hour=4, tm_min=27, tm_sec=53, tm_wday=5, tm_yday=20, tm_isdst=0),\n",
       "  'summary': 'Michael Cannings relayed this tweet by Dave Flynn: When did replacing 很 with &#34;hen&#34; become a thing in Taiwan? pic.twitter.com/IHX8b5EWLZ &#8212; Dave Flynn 茶米 (@DaveFlynn) January 18, 2018 The writing in the bottom right corner says: yóuxì zhēn de HEN hǎowán 遊戲真的HEN好玩 \"the game is really fun\" On the grammatical function of hěn 很 (\"very\") [&#8230;]',\n",
       "  'summary_detail': {'base': 'http://languagelog.ldc.upenn.edu/nll/wp-atom.php',\n",
       "   'language': 'en-US',\n",
       "   'type': 'text/html',\n",
       "   'value': 'Michael Cannings relayed this tweet by Dave Flynn: When did replacing 很 with &#34;hen&#34; become a thing in Taiwan? pic.twitter.com/IHX8b5EWLZ &#8212; Dave Flynn 茶米 (@DaveFlynn) January 18, 2018 The writing in the bottom right corner says: yóuxì zhēn de HEN hǎowán 遊戲真的HEN好玩 \"the game is really fun\" On the grammatical function of hěn 很 (\"very\") [&#8230;]'},\n",
       "  'tags': [{'label': None,\n",
       "    'scheme': 'http://languagelog.ldc.upenn.edu/nll',\n",
       "    'term': 'Diglossia and digraphia'},\n",
       "   {'label': None,\n",
       "    'scheme': 'http://languagelog.ldc.upenn.edu/nll',\n",
       "    'term': 'Writing systems'}],\n",
       "  'thr_total': '7',\n",
       "  'title': 'Further evidence of mixed script writing in Chinese',\n",
       "  'title_detail': {'base': 'http://languagelog.ldc.upenn.edu/nll/wp-atom.php',\n",
       "   'language': 'en-US',\n",
       "   'type': 'text/html',\n",
       "   'value': 'Further evidence of mixed script writing in Chinese'},\n",
       "  'updated': '2018-01-20T11:25:24Z',\n",
       "  'updated_parsed': time.struct_time(tm_year=2018, tm_mon=1, tm_mday=20, tm_hour=11, tm_min=25, tm_sec=24, tm_wday=5, tm_yday=20, tm_isdst=0)},\n",
       " {'author': 'Victor Mair',\n",
       "  'author_detail': {'href': 'https://www.sas.upenn.edu/ealc/mair',\n",
       "   'name': 'Victor Mair'},\n",
       "  'authors': [{'href': 'https://www.sas.upenn.edu/ealc/mair',\n",
       "    'name': 'Victor Mair'}],\n",
       "  'content': [{'base': 'http://languagelog.ldc.upenn.edu/nll/?p=36296',\n",
       "    'language': 'en-US',\n",
       "    'type': 'text/html',\n",
       "    'value': '<p>News article from Xinhua (1/16/18, by Quan Xiaoshu, Qu Ting, Cao Pengyuan):</p>\\n<p style=\"padding-left: 30px;\">\"<a href=\"http://www.xinhuanet.com/english/2018-01/16/c_136900293.htm\">Ancient tripartite-city of Xiongnu a special religious and meeting site: archaeologists</a>\"</p>\\n<div>\\n<p>It starts:</p>\\n</div>\\n<div style=\"padding-left: 30px;\">The ruins of an ancient tripartite-city, known as Sanlian City, in midwest Mongolia\\'s Khermental City, demonstrates that the Xiongnu tribe used to perform religious ceremonies and hold alliance meetings there.</div>\\n<div>\\n<p>Bathrobe comments:</p>\\n<p style=\"padding-left: 30px;\">Now, it may be due to my poor web research skills, but I\\'m having considerable difficulty finding any Sanlian city or even a Khermental city in Mongolia outside of the Xinhua news article.</p>\\n</div>\\n<div style=\"padding-left: 30px;\"></div>\\n<div style=\"padding-left: 30px;\">Is this another mangled news story where Chinese news reporters are too incompetent (or maybe arrogant) to check the names of geographical places outside of China? I\\'m also wondering at the thickskinned-ness of calling the archaeological site of a non-Chinese culture in a foreign country by a name so transparently Chinese as \"Sanlian\".</div>\\n<p><span id=\"more-36296\"></span></p>\\n<p>Comment by Jichang Lulu:</p>\\n<p style=\"padding-left: 30px;\">As usual, the Xinhua article is horribly mangled up. Of course \\'Sanlian\\' is not a Mongolian word, and there is no such a \\'city\\' in Mongolia. This is just Xinhua translators and editors not bothering to understand what they write about.</p>\\n<div style=\"padding-left: 30px;\">Here\\'s <a href=\"http://www.xinhuanet.com/local/2018-01/17/c_1122274130.htm\">the original article in Chinese</a>.</div>\\n<div></div>\\n<div style=\"padding-left: 30px;\">\\n<p>\\'Sanlian City\\' is actually Sānliánchéng 三连城, a name archaeologists have given to \\'three continuous/connected fortresses\\' at a site in Mongolia. The location is known as Khermen/Kheremt Tal Хэрмэн/Хэрэмт Тал in Mongolian. Kherem can mean \\'city wall\\', just like chéng 城 in Chinese (the Great Wall is called Цагаан хэрэм Tsagaan kherem – the \\'white wall\\'). Kheremt is an adjectival form. Tal means field or valley.</p>\\n<p>The site is located in Ögiinuur sum (district), Arkhangai aymag. Google \"Uginuur, Mongolia\" to see it on Google Maps.</p>\\n<p>The site has been excavated by a joint team since \\'14 (report <a href=\"http://gb.oversea.cnki.net/kcms/detail/detail.aspx?filename=NMWC201502004&amp;DBName=cjfqtotal&amp;dbcode=cjfq\">here</a>).</p>\\n<p>This was in the news a couple of months ago when a Henan team departed for Arkhangai (news article <a href=\"http://www.sohu.com/a/158655698_612401\">here</a>).</p>\\n</div>\\n<div style=\"padding-left: 30px;\">\\n<p>As I <a href=\"https://twitter.com/jichanglulu/status/888141996371714053\">noticed on Twitter</a> back then:</p>\\n</div>\\n<div style=\"padding-left: 60px;\">Curious bit (mistake?) in EN version: \"Xiongnu and China\" clashed during Han. Official-ish view is that Xiongnu were a \\'Chinese minority\\'</div>\\n<div style=\"padding-left: 30px;\">\\n<p>The new Xinhua article in Chinese is also quite cautious in referring to the Xiongnu\\'s importance to the history of both countries. In purely internal propaganda, you can find references to the Xiongnu as somehow helping build a \\'Chinese nation\\' and merging into it; we\\'ve discussed this on LL, e.g., <a href=\"http://languagelog.ldc.upenn.edu/nll/?p=34088#comment-1537047\">this comment.</a></p>\\n<p>The Xinhua article avoids this nonsense, possibly due to (a) receiving input from actual serious historians and archaeologists who don\\'t see their work as an aspect of propaganda and (b) the fact that this is joint research carried out abroad with Mongolians scientists. Any Chinese construal of the research results as supporting Chinese retroactive claims to the Xiongnu in today\\'s Mongolia would certainly backfire over there.</p>\\n<p>Xinhua aside, this is certainly very interesting research.</p>\\n</div>\\n<p>For challenges in the Chinese transcription of Mongolic, Tibetan, and Turkic names, cf.:</p>\\n<p style=\"padding-left: 30px;\">\"<a title=\"Permanent link to The Last Lesson — in Mongolian\" href=\"http://languagelog.ldc.upenn.edu/nll/?p=36199\" rel=\"bookmark\">The Last Lesson — in Mongolian</a>\" (1/11/18)</p>\\n<p style=\"padding-left: 30px;\">\"<a title=\"Permanent link to A confusion of languages and names\" href=\"http://languagelog.ldc.upenn.edu/nll/?p=26693\" rel=\"bookmark\">A confusion of languages and names</a>\" (7/8/16) &#8212; mostly about transcriptional practice for names in Xinjiang</p>\\n<p style=\"padding-left: 30px;\">\"<a title=\"Permanent link to Weaponized Tibetan Pinyin\" href=\"http://languagelog.ldc.upenn.edu/nll/?p=32613\" rel=\"bookmark\">Weaponized Tibetan Pinyin</a>\" (5/12/17) &#8212; citing other posts dealing with Chinese transcriptions of Tibetan names</p>\\n<p>For interesting comments on the relationships between Xiongnu ( || Hun) and Mongolic, see:</p>\\n<p style=\"padding-left: 30px;\">\"<a title=\"Permanent link to \" href=\"http://languagelog.ldc.upenn.edu/nll/?p=3910\" rel=\"bookmark\">\\'Lie Fallow Small And Pave</a>\" (4/19/12)</p>\\n<p>When I began the study of Chinese history and culture in the mid-60s, everything that I learned about the Xiongnu and the Han (Chinese) is that they were mortal enemies, and there was plenty of historical, literary, and archeological evidence to support such a view.\\xa0 By the time I started to travel to China in the early 80s, it had become politically convenient (actually de rigeur) in the PRC to speak of the Xiongnu as brothers of the Han who together forged the Chinese nation, as mentioned by Jichang Lulu above.</p>'}],\n",
       "  'guidislink': False,\n",
       "  'href': 'https://www.sas.upenn.edu/ealc/mair',\n",
       "  'id': 'http://languagelog.ldc.upenn.edu/nll/?p=36296',\n",
       "  'link': 'http://languagelog.ldc.upenn.edu/nll/?p=36296',\n",
       "  'links': [{'href': 'http://languagelog.ldc.upenn.edu/nll/?p=36296',\n",
       "    'rel': 'alternate',\n",
       "    'type': 'text/html'},\n",
       "   {'count': '9',\n",
       "    'href': 'http://languagelog.ldc.upenn.edu/nll/?p=36296#comments',\n",
       "    'rel': 'replies',\n",
       "    'thr:count': '9',\n",
       "    'type': 'text/html'},\n",
       "   {'count': '9',\n",
       "    'href': 'http://languagelog.ldc.upenn.edu/nll/?feed=atom&p=36296',\n",
       "    'rel': 'replies',\n",
       "    'thr:count': '9',\n",
       "    'type': 'application/atom+xml'}],\n",
       "  'published': '2018-01-19T01:51:27Z',\n",
       "  'published_parsed': time.struct_time(tm_year=2018, tm_mon=1, tm_mday=19, tm_hour=1, tm_min=51, tm_sec=27, tm_wday=4, tm_yday=19, tm_isdst=0),\n",
       "  'summary': 'News article from Xinhua (1/16/18, by Quan Xiaoshu, Qu Ting, Cao Pengyuan): \"Ancient tripartite-city of Xiongnu a special religious and meeting site: archaeologists\" It starts: The ruins of an ancient tripartite-city, known as Sanlian City, in midwest Mongolia\\'s Khermental City, demonstrates that the Xiongnu tribe used to perform religious ceremonies and hold alliance meetings there. [&#8230;]',\n",
       "  'summary_detail': {'base': 'http://languagelog.ldc.upenn.edu/nll/wp-atom.php',\n",
       "   'language': 'en-US',\n",
       "   'type': 'text/html',\n",
       "   'value': 'News article from Xinhua (1/16/18, by Quan Xiaoshu, Qu Ting, Cao Pengyuan): \"Ancient tripartite-city of Xiongnu a special religious and meeting site: archaeologists\" It starts: The ruins of an ancient tripartite-city, known as Sanlian City, in midwest Mongolia\\'s Khermental City, demonstrates that the Xiongnu tribe used to perform religious ceremonies and hold alliance meetings there. [&#8230;]'},\n",
       "  'tags': [{'label': None,\n",
       "    'scheme': 'http://languagelog.ldc.upenn.edu/nll',\n",
       "    'term': 'Names'},\n",
       "   {'label': None,\n",
       "    'scheme': 'http://languagelog.ldc.upenn.edu/nll',\n",
       "    'term': 'Transcription'}],\n",
       "  'thr_total': '9',\n",
       "  'title': 'Questionable Sino-Mongolian toponymy',\n",
       "  'title_detail': {'base': 'http://languagelog.ldc.upenn.edu/nll/wp-atom.php',\n",
       "   'language': 'en-US',\n",
       "   'type': 'text/html',\n",
       "   'value': 'Questionable Sino-Mongolian toponymy'},\n",
       "  'updated': '2018-01-19T01:51:27Z',\n",
       "  'updated_parsed': time.struct_time(tm_year=2018, tm_mon=1, tm_mday=19, tm_hour=1, tm_min=51, tm_sec=27, tm_wday=4, tm_yday=19, tm_isdst=0)}]"
      ]
     },
     "execution_count": 82,
     "metadata": {},
     "output_type": "execute_result"
    }
   ],
   "source": [
    "llog.entries"
   ]
  },
  {
   "cell_type": "code",
   "execution_count": 87,
   "metadata": {},
   "outputs": [
    {
     "name": "stdout",
     "output_type": "stream",
     "text": [
      "Global drop in GNP?\n",
      "Biscriptal juxtaposition in Chinese, part 4\n",
      "What it is is what it is\n",
      "Learning not to avoid\n",
      "Poetic dynamism\n",
      "Language vigilantism\n",
      "Indispensable condiment\n",
      "Putin in Russian, Mandarin, and English\n",
      "Decreasing definiteness in crime novels\n",
      "Using Chinese nonstandard characters to talk cute\n",
      "The quasi-compositionality of English compounds\n",
      "Further evidence of mixed script writing in Chinese\n",
      "Questionable Sino-Mongolian toponymy\n"
     ]
    }
   ],
   "source": [
    "for post in llog.entries:\n",
    "    print(post.title)"
   ]
  },
  {
   "cell_type": "code",
   "execution_count": 88,
   "metadata": {},
   "outputs": [
    {
     "data": {
      "text/plain": [
       "'What it is is what it is'"
      ]
     },
     "execution_count": 88,
     "metadata": {},
     "output_type": "execute_result"
    }
   ],
   "source": [
    "post=llog.entries[2]\n",
    "post.title"
   ]
  },
  {
   "cell_type": "code",
   "execution_count": 90,
   "metadata": {},
   "outputs": [
    {
     "data": {
      "text/plain": [
       "'<p>Jay Livingston sends a compendium of tautologies from <em>The Wire<'"
      ]
     },
     "execution_count": 90,
     "metadata": {},
     "output_type": "execute_result"
    }
   ],
   "source": [
    "content=post.content[0].value\n",
    "content[:70]"
   ]
  },
  {
   "cell_type": "code",
   "execution_count": 94,
   "metadata": {},
   "outputs": [
    {
     "data": {
      "text/plain": [
       "{'base': 'http://languagelog.ldc.upenn.edu/nll/?p=36384',\n",
       " 'language': 'en-US',\n",
       " 'type': 'text/html',\n",
       " 'value': '<p>Jay Livingston sends a compendium of tautologies from <em>The Wire</em>:</p>\\n<p><iframe width=\"500\" height=\"281\" src=\"https://www.youtube.com/embed/qoyq88niVEU?feature=oembed\" frameborder=\"0\" allow=\"autoplay; encrypted-media\" allowfullscreen></iframe></p>\\n<p><span id=\"more-36384\"></span></p>\\n<p>Jay comments:</p>\\n<p style=\"padding-left: 30px;\"><span style=\"color: #000080;\">They seem to have at least two different senses. The most obvious is the impossibility of change. \"It is what it is,\"\\xa0 \"What\\'s done is done\"\\xa0 (and cannot be undone &#8212; there may be other similarities between The Wire and MacBeth).\\xa0</span></p>\\n<p style=\"padding-left: 30px;\"><span style=\"color: #000080;\">But some of the tautologies suggest a different meaning &#8212; that this particular instance of X is (or should be) like the Platonic ideal X. \"Men should be men, and women should be women.\" \"Let Keeley be Keeley\" (cf. \"Let Nixon be Nixon.\") \"If you with us, you with us.\"</span></p>\\n<p>Sometimes the interpretation of such phrases seems to be that you shouldn\\'t make things unnecessarily complicated. For example, the song \"<a href=\"https://genius.com/Edie-brickell-and-new-bohemians-what-i-am-lyrics\" target=\"_blank\" rel=\"noopener\">What I am</a>\":</p>\\n<p style=\"padding-left: 30px;\"><span style=\"color: #800000;\">What I am is what I am</span><br />\\n<span style=\"color: #800000;\"> You what you are, or what?</span></p>\\n<p style=\"padding-left: 30px;\"><span style=\"color: #800000;\">I\\'m not aware of too many things</span><br />\\n<span style=\"color: #800000;\"> I know what I know, if you know what I mean</span></p>\\n<p><iframe width=\"500\" height=\"375\" src=\"https://www.youtube.com/embed/tDl3bdE3YQA?feature=oembed\" frameborder=\"0\" allow=\"autoplay; encrypted-media\" allowfullscreen></iframe></p>\\n<p>And maybe Gertrude Stein\\'s \"<a href=\"https://en.wikipedia.org/wiki/Rose_is_a_rose_is_a_rose_is_a_rose\" target=\"_blank\" rel=\"noopener\">(a) rose is a rose is a rose is a rose</a>\". Or the semi-tautological remark <a href=\"https://quoteinvestigator.com/2011/08/12/just-a-cigar/\" target=\"_blank\" rel=\"noopener\">attributed to Sigmund Freud</a>, \"Sometimes a cigar is just a cigar\".</p>\\n<p>Elsewhere on LLOG we\\'ve discussed the CD case that \"<a href=\"http://itre.cis.upenn.edu/~myl/languagelog/archives/005426.html\" target=\"_blank\" rel=\"noopener\">automatically becomes portable when carried</a>\", which seems to be a different sort of case entirely.</p>'}"
      ]
     },
     "execution_count": 94,
     "metadata": {},
     "output_type": "execute_result"
    }
   ],
   "source": [
    "post.content[0]"
   ]
  },
  {
   "cell_type": "code",
   "execution_count": 96,
   "metadata": {},
   "outputs": [],
   "source": [
    "raw=BeautifulSoup(content, 'html.parser').get_text()\n",
    "tokens=nltk.word_tokenize(raw)"
   ]
  },
  {
   "cell_type": "code",
   "execution_count": 99,
   "metadata": {},
   "outputs": [
    {
     "data": {
      "text/plain": [
       "['Jay',\n",
       " 'Livingston',\n",
       " 'sends',\n",
       " 'a',\n",
       " 'compendium',\n",
       " 'of',\n",
       " 'tautologies',\n",
       " 'from',\n",
       " 'The',\n",
       " 'Wire',\n",
       " ':',\n",
       " 'Jay',\n",
       " 'comments',\n",
       " ':',\n",
       " 'They',\n",
       " 'seem',\n",
       " 'to',\n",
       " 'have',\n",
       " 'at',\n",
       " 'least',\n",
       " 'two',\n",
       " 'different',\n",
       " 'senses',\n",
       " '.',\n",
       " 'The',\n",
       " 'most',\n",
       " 'obvious',\n",
       " 'is',\n",
       " 'the',\n",
       " 'impossibility',\n",
       " 'of',\n",
       " 'change',\n",
       " '.',\n",
       " '``',\n",
       " 'It',\n",
       " 'is',\n",
       " 'what',\n",
       " 'it',\n",
       " 'is',\n",
       " ',',\n",
       " \"''\",\n",
       " '``',\n",
       " 'What',\n",
       " \"'s\",\n",
       " 'done',\n",
       " 'is',\n",
       " 'done',\n",
       " \"''\",\n",
       " '(',\n",
       " 'and',\n",
       " 'can',\n",
       " 'not',\n",
       " 'be',\n",
       " 'undone',\n",
       " '—',\n",
       " 'there',\n",
       " 'may',\n",
       " 'be',\n",
       " 'other',\n",
       " 'similarities',\n",
       " 'between',\n",
       " 'The',\n",
       " 'Wire',\n",
       " 'and',\n",
       " 'MacBeth',\n",
       " ')',\n",
       " '.',\n",
       " 'But',\n",
       " 'some',\n",
       " 'of',\n",
       " 'the',\n",
       " 'tautologies',\n",
       " 'suggest',\n",
       " 'a',\n",
       " 'different',\n",
       " 'meaning',\n",
       " '—',\n",
       " 'that',\n",
       " 'this',\n",
       " 'particular',\n",
       " 'instance',\n",
       " 'of',\n",
       " 'X',\n",
       " 'is',\n",
       " '(',\n",
       " 'or',\n",
       " 'should',\n",
       " 'be',\n",
       " ')',\n",
       " 'like',\n",
       " 'the',\n",
       " 'Platonic',\n",
       " 'ideal',\n",
       " 'X',\n",
       " '.',\n",
       " '``',\n",
       " 'Men',\n",
       " 'should',\n",
       " 'be',\n",
       " 'men',\n",
       " ',',\n",
       " 'and',\n",
       " 'women',\n",
       " 'should',\n",
       " 'be',\n",
       " 'women',\n",
       " '.',\n",
       " \"''\",\n",
       " '``',\n",
       " 'Let',\n",
       " 'Keeley',\n",
       " 'be',\n",
       " 'Keeley',\n",
       " \"''\",\n",
       " '(',\n",
       " 'cf',\n",
       " '.',\n",
       " '``',\n",
       " 'Let',\n",
       " 'Nixon',\n",
       " 'be',\n",
       " 'Nixon',\n",
       " '.',\n",
       " \"''\",\n",
       " ')',\n",
       " '``',\n",
       " 'If',\n",
       " 'you',\n",
       " 'with',\n",
       " 'us',\n",
       " ',',\n",
       " 'you',\n",
       " 'with',\n",
       " 'us',\n",
       " '.',\n",
       " \"''\",\n",
       " 'Sometimes',\n",
       " 'the',\n",
       " 'interpretation',\n",
       " 'of',\n",
       " 'such',\n",
       " 'phrases',\n",
       " 'seems',\n",
       " 'to',\n",
       " 'be',\n",
       " 'that',\n",
       " 'you',\n",
       " 'should',\n",
       " \"n't\",\n",
       " 'make',\n",
       " 'things',\n",
       " 'unnecessarily',\n",
       " 'complicated',\n",
       " '.',\n",
       " 'For',\n",
       " 'example',\n",
       " ',',\n",
       " 'the',\n",
       " 'song',\n",
       " '``',\n",
       " 'What',\n",
       " 'I',\n",
       " 'am',\n",
       " \"''\",\n",
       " ':',\n",
       " 'What',\n",
       " 'I',\n",
       " 'am',\n",
       " 'is',\n",
       " 'what',\n",
       " 'I',\n",
       " 'am',\n",
       " 'You',\n",
       " 'what',\n",
       " 'you',\n",
       " 'are',\n",
       " ',',\n",
       " 'or',\n",
       " 'what',\n",
       " '?',\n",
       " 'I',\n",
       " \"'m\",\n",
       " 'not',\n",
       " 'aware',\n",
       " 'of',\n",
       " 'too',\n",
       " 'many',\n",
       " 'things',\n",
       " 'I',\n",
       " 'know',\n",
       " 'what',\n",
       " 'I',\n",
       " 'know',\n",
       " ',',\n",
       " 'if',\n",
       " 'you',\n",
       " 'know',\n",
       " 'what',\n",
       " 'I',\n",
       " 'mean',\n",
       " 'And',\n",
       " 'maybe',\n",
       " 'Gertrude',\n",
       " 'Stein',\n",
       " \"'s\",\n",
       " '``',\n",
       " '(',\n",
       " 'a',\n",
       " ')',\n",
       " 'rose',\n",
       " 'is',\n",
       " 'a',\n",
       " 'rose',\n",
       " 'is',\n",
       " 'a',\n",
       " 'rose',\n",
       " 'is',\n",
       " 'a',\n",
       " 'rose',\n",
       " \"''\",\n",
       " '.',\n",
       " 'Or',\n",
       " 'the',\n",
       " 'semi-tautological',\n",
       " 'remark',\n",
       " 'attributed',\n",
       " 'to',\n",
       " 'Sigmund',\n",
       " 'Freud',\n",
       " ',',\n",
       " '``',\n",
       " 'Sometimes',\n",
       " 'a',\n",
       " 'cigar',\n",
       " 'is',\n",
       " 'just',\n",
       " 'a',\n",
       " 'cigar',\n",
       " \"''\",\n",
       " '.',\n",
       " 'Elsewhere',\n",
       " 'on',\n",
       " 'LLOG',\n",
       " 'we',\n",
       " \"'ve\",\n",
       " 'discussed',\n",
       " 'the',\n",
       " 'CD',\n",
       " 'case',\n",
       " 'that',\n",
       " '``',\n",
       " 'automatically',\n",
       " 'becomes',\n",
       " 'portable',\n",
       " 'when',\n",
       " 'carried',\n",
       " \"''\",\n",
       " ',',\n",
       " 'which',\n",
       " 'seems',\n",
       " 'to',\n",
       " 'be',\n",
       " 'a',\n",
       " 'different',\n",
       " 'sort',\n",
       " 'of',\n",
       " 'case',\n",
       " 'entirely',\n",
       " '.']"
      ]
     },
     "execution_count": 99,
     "metadata": {},
     "output_type": "execute_result"
    }
   ],
   "source": [
    "tokens"
   ]
  },
  {
   "cell_type": "markdown",
   "metadata": {},
   "source": [
    "### Reading Local Files"
   ]
  },
  {
   "cell_type": "code",
   "execution_count": 100,
   "metadata": {},
   "outputs": [
    {
     "data": {
      "text/plain": [
       "['.git',\n",
       " '.ipynb_checkpoints',\n",
       " 'Helpful Codes.ipynb',\n",
       " 'NLTK Chapter 1.ipynb',\n",
       " 'NLTK Chapter 3.ipynb',\n",
       " 'NLTK Chapter2.ipynb']"
      ]
     },
     "execution_count": 100,
     "metadata": {},
     "output_type": "execute_result"
    }
   ],
   "source": [
    "import os\n",
    "os.listdir('.')"
   ]
  },
  {
   "cell_type": "code",
   "execution_count": 106,
   "metadata": {},
   "outputs": [
    {
     "name": "stderr",
     "output_type": "stream",
     "text": [
      "C:\\Users\\mohit\\Anaconda3\\lib\\site-packages\\ipykernel_launcher.py:1: DeprecationWarning: 'U' mode is deprecated\n",
      "  \"\"\"Entry point for launching an IPython kernel.\n"
     ]
    }
   ],
   "source": [
    "f=open('C:/Users/mohit/Documents/doc.txt','rU')\n",
    "raw=f.read()"
   ]
  },
  {
   "cell_type": "code",
   "execution_count": 107,
   "metadata": {},
   "outputs": [
    {
     "data": {
      "text/plain": [
       "\"Another possible problem you might have encountered when accessing a text file is the\\nnewline conventions, which are different for different operating systems. The built-in\\nopen() function has a second parameter for controlling how the file is opened: open('do\\ncument.txt', 'rU'). 'r' means to open the file for reading (the default), and 'U' stands\\nfor “Universal”, which lets us ignore the different conventions used for marking newlines.\""
      ]
     },
     "execution_count": 107,
     "metadata": {},
     "output_type": "execute_result"
    }
   ],
   "source": [
    "raw"
   ]
  },
  {
   "cell_type": "code",
   "execution_count": 112,
   "metadata": {},
   "outputs": [
    {
     "data": {
      "text/plain": [
       "_io.TextIOWrapper"
      ]
     },
     "execution_count": 112,
     "metadata": {},
     "output_type": "execute_result"
    }
   ],
   "source": [
    "type(f)"
   ]
  },
  {
   "cell_type": "code",
   "execution_count": 114,
   "metadata": {},
   "outputs": [
    {
     "name": "stdout",
     "output_type": "stream",
     "text": [
      "enter: hello\n"
     ]
    }
   ],
   "source": [
    "s=input('enter: ')"
   ]
  },
  {
   "cell_type": "code",
   "execution_count": null,
   "metadata": {
    "collapsed": true
   },
   "outputs": [],
   "source": []
  }
 ],
 "metadata": {
  "kernelspec": {
   "display_name": "Python 3",
   "language": "python",
   "name": "python3"
  },
  "language_info": {
   "codemirror_mode": {
    "name": "ipython",
    "version": 3
   },
   "file_extension": ".py",
   "mimetype": "text/x-python",
   "name": "python",
   "nbconvert_exporter": "python",
   "pygments_lexer": "ipython3",
   "version": "3.6.3"
  }
 },
 "nbformat": 4,
 "nbformat_minor": 2
}

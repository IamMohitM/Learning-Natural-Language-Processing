{
 "cells": [
  {
   "cell_type": "code",
   "execution_count": 1,
   "metadata": {
    "collapsed": true
   },
   "outputs": [],
   "source": [
    "import nltk, random\n",
    "from nltk.corpus import brown, nps_chat\n",
    "from pickle import dump, load"
   ]
  },
  {
   "cell_type": "code",
   "execution_count": 2,
   "metadata": {
    "collapsed": true
   },
   "outputs": [],
   "source": [
    "brown_sents = brown.sents()\n",
    "brown_words = brown.words()\n",
    "brown_tagged_sents = brown.tagged_sents(tagset = 'universal');"
   ]
  },
  {
   "cell_type": "code",
   "execution_count": 3,
   "metadata": {
    "collapsed": true
   },
   "outputs": [],
   "source": [
    "extra_sents = [[('Open', 'VERB'), ('Youtube', 'NOUN'), ('.', '.')], [('Close', 'VERB'), ('Youtube', 'NOUN'), ('.', '.')],\n",
    "              [('Minimize', 'VERB'), ('the', 'DET'), ('window', 'NOUN'), ('.','.')],\n",
    "              [('Close', 'VERB'), ('all', 'DET'), ('the', 'DET'), ('open', 'ADJ'), ('windows', 'NOUN'), ('.','.')],\n",
    "              [('Shutdown', 'VERB'), ('the', 'DET'), ('system', 'NOUN'),('.','.')],\n",
    "              [('shutdown', 'VERB'), ('the', 'DET'), ('system', 'NOUN'),('.','.')],\n",
    "              [('shutdown', 'VERB'), ('the', 'DET'), ('tabs', 'NOUN'),('.','.')],\n",
    "              [('Shutdown', 'VERB'), ('the', 'DET'), ('tabs', 'NOUN'),('.','.')],\n",
    "              [('shutdown', 'VERB'), ('my', 'PRON'), ('PC', 'NOUN'),('.','.')], \n",
    "              [('Shutdown', 'VERB'), ('my', 'PRON'), ('PC', 'NOUN'),('.','.')],\n",
    "              [('Open', 'VERB'), ('Gmail', 'NOUN'), ('.', '.')], [('Close', 'VERB'), ('Gmail', 'NOUN'), ('.', '.')],\n",
    "              [('Open', 'VERB'), ('Email', 'NOUN'), ('.', '.')], [('Close', 'VERB'), ('Email', 'NOUN'), ('.', '.')],\n",
    "              [('Login', 'VERB'), ('to', 'NOUN'), ('.', '.')], [('Close', 'VERB'), ('Email', 'NOUN'), ('.', '.')],\n",
    "              [('Zoom', 'VERB'), ('in','ADP'), ('.', '.')], [('zoom', 'VERB'), ('in','ADP'), ('.', '.')],\n",
    "              [('Restart', 'VERB'), ('the','ADP'), ('application','NOUN'),  ('.', '.')],\n",
    "              [('restart', 'VERB'), ('the','ADP'), ('application','NOUN'),  ('.', '.')],\n",
    "              [('reboot', 'VERB'), ('the','ADP'), ('system', 'NOUN'), ('.', '.')],\n",
    "              [('Reboot', 'VERB'), ('the','ADP'), ('laptop','NOUN'),  ('.', '.')]]"
   ]
  },
  {
   "cell_type": "code",
   "execution_count": 4,
   "metadata": {},
   "outputs": [
    {
     "data": {
      "text/plain": [
       "51606"
      ]
     },
     "execution_count": 4,
     "metadata": {},
     "output_type": "execute_result"
    }
   ],
   "source": [
    "size = int(len(brown_tagged_sents) * 0.9)\n",
    "size"
   ]
  },
  {
   "cell_type": "code",
   "execution_count": 5,
   "metadata": {
    "collapsed": true
   },
   "outputs": [],
   "source": [
    "patterns = [\n",
    "     (r'^open|^close|^shutdown|^Open|^Close|^Shutdown', 'VERB'),\n",
    "     (r'.*ing$', 'VERB'),               # gerunds\n",
    "     (r'.*in$', 'VERB'), \n",
    "     (r'.*ed$', 'VERB'),                # simple past\n",
    "     (r'.*es$', 'VERB'),                # 3rd singular present\n",
    "     (r'.*ould$', 'MD'),               # modals\n",
    "     (r'.*\\'s$', 'NOUN'),               # possessive nouns\n",
    "     (r'.*s$', 'NOUN'),                 # plural nouns\n",
    "     (r'^-?[0-9]+(.[0-9]+)?$', 'CD'),  # cardinal numbers\n",
    "                          # nouns (default)\n",
    " ]\n"
   ]
  },
  {
   "cell_type": "code",
   "execution_count": 6,
   "metadata": {},
   "outputs": [
    {
     "name": "stdout",
     "output_type": "stream",
     "text": [
      "Wall time: 1 ms\n"
     ]
    }
   ],
   "source": [
    "%%time\n",
    "default_tagger = nltk.DefaultTagger('NOUN')\n",
    "regexp_tagger= nltk.RegexpTagger(patterns, backoff = default_tagger)\n",
    "train_sents = brown_tagged_sents[:size] \n",
    "test_sents = brown_tagged_sents[size:]\n",
    "train_sents = train_sents + extra_sents"
   ]
  },
  {
   "cell_type": "code",
   "execution_count": 7,
   "metadata": {},
   "outputs": [
    {
     "name": "stdout",
     "output_type": "stream",
     "text": [
      "Wall time: 1min 2s\n"
     ]
    }
   ],
   "source": [
    "%%time\n",
    "unigram_tagger = nltk.UnigramTagger(train_sents, backoff = regexp_tagger)\n",
    "bigram_tagger = nltk.BigramTagger(train_sents, backoff = unigram_tagger)\n",
    "t3 = nltk.TrigramTagger(train_sents, backoff = bigram_tagger)\n"
   ]
  },
  {
   "cell_type": "code",
   "execution_count": 8,
   "metadata": {},
   "outputs": [
    {
     "data": {
      "text/plain": [
       "0.9487437396534021"
      ]
     },
     "execution_count": 8,
     "metadata": {},
     "output_type": "execute_result"
    }
   ],
   "source": [
    "t3.evaluate(test_sents)"
   ]
  },
  {
   "cell_type": "code",
   "execution_count": 22,
   "metadata": {},
   "outputs": [
    {
     "data": {
      "text/plain": [
       "[('Close', 'ADV'),\n",
       " ('all', 'DET'),\n",
       " ('the', 'DET'),\n",
       " ('open', 'ADJ'),\n",
       " ('tabs', 'NOUN')]"
      ]
     },
     "execution_count": 22,
     "metadata": {},
     "output_type": "execute_result"
    }
   ],
   "source": [
    "sent = 'Close all the open tabs'\n",
    "tokens = nltk.word_tokenize(sent)\n",
    "nltk.pos_tag(tokens, tagset = 'universal')"
   ]
  },
  {
   "cell_type": "code",
   "execution_count": 30,
   "metadata": {},
   "outputs": [
    {
     "data": {
      "text/plain": [
       "[('Close', 'VERB'),\n",
       " ('all', 'PRT'),\n",
       " ('the', 'DET'),\n",
       " ('open', 'ADJ'),\n",
       " ('tabs', 'NOUN')]"
      ]
     },
     "execution_count": 30,
     "metadata": {},
     "output_type": "execute_result"
    }
   ],
   "source": [
    "t3.tag(tokens)"
   ]
  },
  {
   "cell_type": "code",
   "execution_count": 33,
   "metadata": {},
   "outputs": [
    {
     "data": {
      "text/plain": [
       "[('Close', 'VERB'), ('Youtube', 'NOUN')]"
      ]
     },
     "execution_count": 33,
     "metadata": {},
     "output_type": "execute_result"
    }
   ],
   "source": [
    "sent = 'Close Youtube'\n",
    "tokens = nltk.word_tokenize(sent)\n",
    "t3.tag(tokens)"
   ]
  },
  {
   "cell_type": "code",
   "execution_count": 34,
   "metadata": {},
   "outputs": [
    {
     "data": {
      "text/plain": [
       "[('Open', 'VERB'), ('Youtube', 'NOUN')]"
      ]
     },
     "execution_count": 34,
     "metadata": {},
     "output_type": "execute_result"
    }
   ],
   "source": [
    "sent = 'Open Youtube'\n",
    "tokens = nltk.word_tokenize(sent)\n",
    "t3.tag(tokens)"
   ]
  },
  {
   "cell_type": "code",
   "execution_count": 37,
   "metadata": {},
   "outputs": [
    {
     "data": {
      "text/plain": [
       "[('Please', 'VERB'), ('close', 'VERB'), ('Youtube', 'NOUN')]"
      ]
     },
     "execution_count": 37,
     "metadata": {},
     "output_type": "execute_result"
    }
   ],
   "source": [
    "sent = 'Please close Youtube'\n",
    "tokens = nltk.word_tokenize(sent)\n",
    "t3.tag(tokens)"
   ]
  },
  {
   "cell_type": "code",
   "execution_count": 5,
   "metadata": {
    "collapsed": true
   },
   "outputs": [],
   "source": [
    "freqDist = nltk.FreqDist(brown_words)\n",
    "freq_keys = freqDist.keys()\n"
   ]
  },
  {
   "cell_type": "code",
   "execution_count": 172,
   "metadata": {
    "collapsed": true
   },
   "outputs": [],
   "source": [
    "def in_brown(word, keys):\n",
    "    if word in list(keys):\n",
    "        return True\n",
    "    else:\n",
    "        return False"
   ]
  },
  {
   "cell_type": "code",
   "execution_count": 18,
   "metadata": {
    "collapsed": true
   },
   "outputs": [],
   "source": [
    "def find_tag(word):\n",
    "    return nltk.pos_tag([word], tagset = 'universal')"
   ]
  },
  {
   "cell_type": "code",
   "execution_count": 9,
   "metadata": {
    "collapsed": true
   },
   "outputs": [],
   "source": [
    "cond_freq = nltk.ConditionalFreqDist(tuples for lists in brown_tagged_sents+extra_sents for tuples in lists)"
   ]
  },
  {
   "cell_type": "code",
   "execution_count": 11,
   "metadata": {},
   "outputs": [
    {
     "name": "stdout",
     "output_type": "stream",
     "text": [
      "close: {'NOUN': 15, 'ADJ': 80, 'ADV': 96, 'VERB': 39}\n",
      "open: {'ADJ': 239, 'ADV': 8, 'VERB': 55, 'NOUN': 4}\n",
      "Close: {'ADV': 3, 'NOUN': 1, 'VERB': 5}\n",
      "Open: {'NOUN': 8, 'ADJ': 4, 'VERB': 4}\n",
      "minimize: {'VERB': 16}\n",
      "shutdown: {'NOUN': 3, 'VERB': 3}\n",
      "Shutdown: {'VERB': 3}\n",
      "Minimize: {'VERB': 1}\n",
      "satisfying: {'ADJ': 5, 'VERB': 8}\n",
      "Login: {'VERB': 1}\n",
      "zoom: {'VERB': 1}\n",
      "Zoom: {'VERB': 1}\n",
      "please: {'VERB': 37, 'PRT': 8}\n",
      "Please: {'VERB': 10, 'PRT': 7}\n"
     ]
    }
   ],
   "source": [
    "testing_words = ['close', 'open', 'Close', 'Open', 'minimize', 'shutdown', 'Shutdown', 'Minimize', 'satisfying', 'Login', 'zoom', 'Zoom', 'please', 'Please']\n",
    "for word in testing_words:\n",
    "    print(word +': {}'.format(dict(cond_freq[word])))"
   ]
  },
  {
   "cell_type": "code",
   "execution_count": 16,
   "metadata": {},
   "outputs": [
    {
     "data": {
      "text/plain": [
       "[('turn', 'VERB'), ('in', 'ADP'), ('my', 'DET'), ('PC', 'NOUN')]"
      ]
     },
     "execution_count": 16,
     "metadata": {},
     "output_type": "execute_result"
    }
   ],
   "source": [
    "sent = 'turn in my PC'\n",
    "tokens = nltk.word_tokenize(sent)\n",
    "t3.tag(tokens)"
   ]
  },
  {
   "cell_type": "code",
   "execution_count": null,
   "metadata": {
    "collapsed": true
   },
   "outputs": [],
   "source": [
    "nltk.pos_tag(tokens, tagset = 'universal')"
   ]
  },
  {
   "cell_type": "code",
   "execution_count": 171,
   "metadata": {
    "collapsed": true
   },
   "outputs": [],
   "source": []
  },
  {
   "cell_type": "code",
   "execution_count": 173,
   "metadata": {},
   "outputs": [
    {
     "data": {
      "text/plain": [
       "True"
      ]
     },
     "execution_count": 173,
     "metadata": {},
     "output_type": "execute_result"
    }
   ],
   "source": [
    "in_brown('Close', freq_keys)"
   ]
  },
  {
   "cell_type": "code",
   "execution_count": 174,
   "metadata": {},
   "outputs": [
    {
     "data": {
      "text/plain": [
       "230"
      ]
     },
     "execution_count": 174,
     "metadata": {},
     "output_type": "execute_result"
    }
   ],
   "source": [
    "freqDist['close']"
   ]
  },
  {
   "cell_type": "code",
   "execution_count": 178,
   "metadata": {},
   "outputs": [
    {
     "data": {
      "text/plain": [
       "[('my', 'PRON')]"
      ]
     },
     "execution_count": 178,
     "metadata": {},
     "output_type": "execute_result"
    }
   ],
   "source": [
    "find_tag('my')"
   ]
  },
  {
   "cell_type": "code",
   "execution_count": 31,
   "metadata": {
    "collapsed": true
   },
   "outputs": [],
   "source": [
    "from pickle import dump, load\n",
    "output = open('tagger.pkl', 'wb')\n",
    "dump(t3, output, -1)\n",
    "output.close()"
   ]
  },
  {
   "cell_type": "code",
   "execution_count": null,
   "metadata": {
    "collapsed": true
   },
   "outputs": [],
   "source": []
  }
 ],
 "metadata": {
  "kernelspec": {
   "display_name": "Python 3",
   "language": "python",
   "name": "python3"
  },
  "language_info": {
   "codemirror_mode": {
    "name": "ipython",
    "version": 3
   },
   "file_extension": ".py",
   "mimetype": "text/x-python",
   "name": "python",
   "nbconvert_exporter": "python",
   "pygments_lexer": "ipython3",
   "version": "3.6.3"
  }
 },
 "nbformat": 4,
 "nbformat_minor": 2
}

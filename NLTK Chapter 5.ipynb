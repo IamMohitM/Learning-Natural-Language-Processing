{
 "cells": [
  {
   "cell_type": "markdown",
   "metadata": {},
   "source": [
    "### Using a Tagger"
   ]
  },
  {
   "cell_type": "code",
   "execution_count": 9,
   "metadata": {
    "collapsed": true
   },
   "outputs": [],
   "source": [
    "import nltk\n",
    "import matplotlib.pyplot as plt\n",
    "from collections import defaultdict\n",
    "from nltk.corpus import brown\n",
    "%matplotlib inline"
   ]
  },
  {
   "cell_type": "code",
   "execution_count": 2,
   "metadata": {},
   "outputs": [
    {
     "data": {
      "text/plain": [
       "[('And', 'CC'),\n",
       " ('now', 'RB'),\n",
       " ('for', 'IN'),\n",
       " ('something', 'NN'),\n",
       " ('completely', 'RB'),\n",
       " ('different', 'JJ')]"
      ]
     },
     "execution_count": 2,
     "metadata": {},
     "output_type": "execute_result"
    }
   ],
   "source": [
    "text = nltk.word_tokenize(\"And now for something completely different\")\n",
    "nltk.pos_tag(text)"
   ]
  },
  {
   "cell_type": "markdown",
   "metadata": {},
   "source": [
    "CC - Coordinative Conjuction<br>\n",
    "RB - adverbs<br>\n",
    "IN - Preposition<br>\n",
    "NN - Noun<br>\n",
    "VBP - Present tense Verb<br>\n",
    "JJ - Adjective<br>\n",
    "NLTK provides documentation for each tag, which can be queried using\n",
    "the tag, e.g., nltk.help.upenn_tagset('RB'), or a regular expression,\n",
    "e.g., nltk.help.upenn_brown_tagset('NN.*'). Some corpora have README\n",
    "files with tagset documentation; see nltk.name.readme(), substituting\n",
    "in the name of the corpus."
   ]
  },
  {
   "cell_type": "code",
   "execution_count": 3,
   "metadata": {},
   "outputs": [
    {
     "name": "stdout",
     "output_type": "stream",
     "text": [
      "NN: noun, common, singular or mass\n",
      "    common-carrier cabbage knuckle-duster Casino afghan shed thermostat\n",
      "    investment slide humour falloff slick wind hyena override subhumanity\n",
      "    machinist ...\n",
      "None\n"
     ]
    }
   ],
   "source": [
    "print(nltk.help.upenn_tagset(\"NN\"))"
   ]
  },
  {
   "cell_type": "code",
   "execution_count": 4,
   "metadata": {},
   "outputs": [
    {
     "data": {
      "text/plain": [
       "[('They', 'PRP'),\n",
       " ('refuse', 'VBP'),\n",
       " ('to', 'TO'),\n",
       " ('permit', 'VB'),\n",
       " ('us', 'PRP'),\n",
       " ('to', 'TO'),\n",
       " ('refuse', 'VB'),\n",
       " ('the', 'DT'),\n",
       " ('refuse', 'NN'),\n",
       " ('permit', 'NN')]"
      ]
     },
     "execution_count": 4,
     "metadata": {},
     "output_type": "execute_result"
    }
   ],
   "source": [
    "text = nltk.word_tokenize('They refuse to permit us to refuse the refuse permit')\n",
    "nltk.pos_tag(text)"
   ]
  },
  {
   "cell_type": "markdown",
   "metadata": {},
   "source": [
    "refUSE is a verb meaning “deny,” while REFuse is a noun meaning “trash”\n",
    "(i.e., they are not homophones). Thus, we need to know which word is being used in\n",
    "order to pronounce the text correctly. (For this reason, text-to-speech systems usually\n",
    "perform POS tagging.)"
   ]
  },
  {
   "cell_type": "markdown",
   "metadata": {},
   "source": [
    "The text.similar() method takes a word w, finds all contexts w1w w2,\n",
    "then finds all words w' that appear in the same context, i.e. w1w'w2."
   ]
  },
  {
   "cell_type": "code",
   "execution_count": 5,
   "metadata": {},
   "outputs": [
    {
     "name": "stdout",
     "output_type": "stream",
     "text": [
      "man time day year car moment world house family child country boy\n",
      "state job place way war girl work word\n"
     ]
    }
   ],
   "source": [
    "text = nltk.Text(word.lower() for word in nltk.corpus.brown.words())\n",
    "text.similar('woman')"
   ]
  },
  {
   "cell_type": "markdown",
   "metadata": {},
   "source": [
    "### Tagged Corpora"
   ]
  },
  {
   "cell_type": "markdown",
   "metadata": {},
   "source": [
    "##### Representing Tagged Tokens"
   ]
  },
  {
   "cell_type": "markdown",
   "metadata": {},
   "source": [
    "Usually a tuple consisting of a token and its tag"
   ]
  },
  {
   "cell_type": "code",
   "execution_count": 6,
   "metadata": {},
   "outputs": [
    {
     "data": {
      "text/plain": [
       "('fly', 'NN')"
      ]
     },
     "execution_count": 6,
     "metadata": {},
     "output_type": "execute_result"
    }
   ],
   "source": [
    "tagged_token = nltk.tag.str2tuple('fly/NN')\n",
    "tagged_token"
   ]
  },
  {
   "cell_type": "markdown",
   "metadata": {},
   "source": [
    "Can do this for a string to. Tokenize and iterate. Make a list comprehesion"
   ]
  },
  {
   "cell_type": "markdown",
   "metadata": {},
   "source": [
    "##### Reading Tagged Corpora\n",
    "Whenever a corpus contains tagged text, the NLTK corpus interface will have a\n",
    "tagged_words() method"
   ]
  },
  {
   "cell_type": "code",
   "execution_count": 7,
   "metadata": {},
   "outputs": [
    {
     "data": {
      "text/plain": [
       "[('The', 'AT'), ('Fulton', 'NP-TL'), ...]"
      ]
     },
     "execution_count": 7,
     "metadata": {},
     "output_type": "execute_result"
    }
   ],
   "source": [
    "nltk.corpus.brown.tagged_words() #Taggs with Upper case letters is a standard."
   ]
  },
  {
   "cell_type": "code",
   "execution_count": 5,
   "metadata": {},
   "outputs": [
    {
     "data": {
      "text/plain": [
       "1161192"
      ]
     },
     "execution_count": 5,
     "metadata": {},
     "output_type": "execute_result"
    }
   ],
   "source": [
    "len(nltk.corpus.brown.tagged_words())"
   ]
  },
  {
   "cell_type": "code",
   "execution_count": 8,
   "metadata": {},
   "outputs": [
    {
     "data": {
      "text/plain": [
       "[('El', 'da0ms0'), ('Tribunal_Suprem', 'np0000o'), ...]"
      ]
     },
     "execution_count": 8,
     "metadata": {},
     "output_type": "execute_result"
    }
   ],
   "source": [
    "nltk.corpus.cess_cat.tagged_words()"
   ]
  },
  {
   "cell_type": "code",
   "execution_count": 9,
   "metadata": {},
   "outputs": [
    {
     "data": {
      "text/plain": [
       "'BROWN CORPUS\\n\\nA Standard Corpus of Present-Day Edited American\\nEnglish, for use with Digital Computers.\\n\\nby W. N. Francis and H. Kucera (1964)\\nDepartment of Linguistics, Brown University\\nProvidence, Rhode Island, USA\\n\\nRevised 1971, Revised and Amplified 1979\\n\\nhttp://www.hit.uib.no/icame/brown/bcm.html\\n\\nDistributed with the permission of the copyright holder,\\nredistribution permitted.\\n'"
      ]
     },
     "execution_count": 9,
     "metadata": {},
     "output_type": "execute_result"
    }
   ],
   "source": [
    "nltk.corpus.brown.readme()"
   ]
  },
  {
   "cell_type": "code",
   "execution_count": 10,
   "metadata": {},
   "outputs": [
    {
     "data": {
      "text/plain": [
       "[('মহিষের', 'NN'), ('সন্তান', 'NN'), (':', 'SYM'), ...]"
      ]
     },
     "execution_count": 10,
     "metadata": {},
     "output_type": "execute_result"
    }
   ],
   "source": [
    "nltk.corpus.indian.tagged_words()"
   ]
  },
  {
   "cell_type": "markdown",
   "metadata": {},
   "source": [
    "If the corpus is also segmented into sentences, it will have a tagged_sents() method\n",
    "that divides up the tagged words into sentences rather than presenting them as one big\n",
    "list. This will be useful when we come to developing automatic taggers, as they are\n",
    "trained and tested on lists of sentences, not words."
   ]
  },
  {
   "cell_type": "code",
   "execution_count": 45,
   "metadata": {},
   "outputs": [
    {
     "data": {
      "text/plain": [
       "[[('The', 'AT'), ('Fulton', 'NP-TL'), ('County', 'NN-TL'), ('Grand', 'JJ-TL'), ('Jury', 'NN-TL'), ('said', 'VBD'), ('Friday', 'NR'), ('an', 'AT'), ('investigation', 'NN'), ('of', 'IN'), (\"Atlanta's\", 'NP$'), ('recent', 'JJ'), ('primary', 'NN'), ('election', 'NN'), ('produced', 'VBD'), ('``', '``'), ('no', 'AT'), ('evidence', 'NN'), (\"''\", \"''\"), ('that', 'CS'), ('any', 'DTI'), ('irregularities', 'NNS'), ('took', 'VBD'), ('place', 'NN'), ('.', '.')], [('The', 'AT'), ('jury', 'NN'), ('further', 'RBR'), ('said', 'VBD'), ('in', 'IN'), ('term-end', 'NN'), ('presentments', 'NNS'), ('that', 'CS'), ('the', 'AT'), ('City', 'NN-TL'), ('Executive', 'JJ-TL'), ('Committee', 'NN-TL'), (',', ','), ('which', 'WDT'), ('had', 'HVD'), ('over-all', 'JJ'), ('charge', 'NN'), ('of', 'IN'), ('the', 'AT'), ('election', 'NN'), (',', ','), ('``', '``'), ('deserves', 'VBZ'), ('the', 'AT'), ('praise', 'NN'), ('and', 'CC'), ('thanks', 'NNS'), ('of', 'IN'), ('the', 'AT'), ('City', 'NN-TL'), ('of', 'IN-TL'), ('Atlanta', 'NP-TL'), (\"''\", \"''\"), ('for', 'IN'), ('the', 'AT'), ('manner', 'NN'), ('in', 'IN'), ('which', 'WDT'), ('the', 'AT'), ('election', 'NN'), ('was', 'BEDZ'), ('conducted', 'VBN'), ('.', '.')], ...]"
      ]
     },
     "execution_count": 45,
     "metadata": {},
     "output_type": "execute_result"
    }
   ],
   "source": [
    "nltk.corpus.brown.tagged_sents()"
   ]
  },
  {
   "cell_type": "markdown",
   "metadata": {},
   "source": [
    "Tagged corpora use many different conventions for tagging words"
   ]
  },
  {
   "cell_type": "markdown",
   "metadata": {},
   "source": [
    "ADJ adjective new, good, high, special, big, local<br>\n",
    "ADV adverb really, already, still, early, now<br>\n",
    "CNJ conjunction and, or, but, if, while, although<br>\n",
    "DET determiner the, a, some, most, every, no<br>\n",
    "EX  existential there, there’s<br>\n",
    "FW  foreign word dolce, ersatz, esprit, quo, maitre<br>\n",
    "MOD modal verb will, can, would, may, must, should<br>\n",
    "N   noun year, home, costs, time, education<br>\n",
    "NP  proper noun Alison, Africa, April, Washington<br>\n",
    "NUM number twenty-four, fourth, 1991, 14:24<br>\n",
    "PRO pronoun he, their, her, its, my, I, us<br>\n",
    "P   preposition on, of, at, with, by, into, under<br>\n",
    "TO  the word to to<br>\n",
    "UH  interjection ah, bang, ha, whee, hmpf, oops<br>\n",
    "V   verb is, has, get, do, make, see, run<br>\n",
    "VD  past tense said, took, told, made, asked<br>\n",
    "VG  present participle making, going, playing, working<br>\n",
    "VN  past participle    given, taken, begun, sung<br>\n",
    "WH  wh determiner who, which, when, what, where, how<br>\n",
    "5.2"
   ]
  },
  {
   "cell_type": "code",
   "execution_count": 11,
   "metadata": {},
   "outputs": [
    {
     "data": {
      "text/plain": [
       "dict_keys(['AT', 'NP-TL', 'NN-TL', 'JJ-TL', 'VBD', 'NR', 'NN', 'IN', 'NP$', 'JJ', '``', \"''\", 'CS', 'DTI', 'NNS', '.', 'RBR', ',', 'WDT', 'HVD', 'VBZ', 'CC', 'IN-TL', 'BEDZ', 'VBN', 'NP', 'BEN', 'TO', 'VB', 'RB', 'DT', 'PPS', 'DOD', 'AP', 'BER', 'HV', 'DTS', 'VBG', 'PPO', 'QL', 'JJT', 'ABX', 'NN-HL', 'VBN-HL', 'WRB', 'CD', 'MD', 'BE', 'JJR', 'VBG-TL', 'BEZ', 'NN$-TL', 'HVZ', 'ABN', 'PN', 'PPSS', 'PP$', 'DO', 'NN$', 'NNS-HL', 'WPS', '*', 'EX', 'VB-HL', ':', '(', ')', 'NNS-TL', 'NPS', 'JJS', 'RP', '--', 'BED', 'OD', 'BEG', 'AT-HL', 'VBG-HL', 'AT-TL', 'PPL', 'DOZ', 'NP-HL', 'NR$', 'DOD*', 'BEDZ*', ',-HL', 'CC-TL', 'MD*', 'NNS$', 'PPSS+BER', \"'\", 'PPSS+BEM', 'CD-TL', 'RBT', '(-HL', ')-HL', 'MD-HL', 'VBZ-HL', 'IN-HL', 'JJ-HL', 'PPLS', 'CD-HL', 'WPO', 'JJS-TL', 'ABL', 'BER-HL', 'PPS+HVZ', 'VBD-HL', 'RP-HL', 'MD*-HL', 'AP-HL', 'CS-HL', 'DT$', 'HVN', 'FW-IN', 'FW-DT', 'VBN-TL', 'NR-TL', 'NNS$-TL', 'FW-NN', 'HVG', 'DTX', 'OD-TL', 'BEM', 'RB-HL', 'PPSS+MD', 'NPS-HL', 'NPS$', 'WP$', 'NN-TL-HL', 'CC-HL', 'PPS+BEZ', 'AP-TL', 'UH-TL', 'BEZ-HL', 'TO-HL', 'DO*', 'VBN-TL-HL', 'NNS-TL-HL', 'DT-HL', 'BE-HL', 'DOZ*', 'QLP', 'JJR-HL', 'PPSS+HVD', 'FW-IN+NN', 'PP$$', 'JJT-HL', 'NP-TL-HL', 'NPS-TL', 'MD+HV', 'NP$-TL', 'OD-HL', 'JJR-TL', 'VBD-TL', 'DT+BEZ', 'EX+BEZ', 'PPSS+HV', ':-HL', 'PPS+MD', 'UH', 'FW-CC', 'FW-NNS', 'BEDZ-HL', 'NN$-HL', '.-HL', 'HVD*', 'BEZ*', 'AP$', 'NP+BEZ', 'FW-AT-TL', 'VB-TL', 'RB-TL', 'MD-TL', 'PN+HVZ', 'FW-JJ-TL', 'FW-NN-TL', 'ABN-HL', 'PPS+BEZ-HL', 'NR-HL', 'HVD-HL', 'RB$', 'FW-AT-HL', 'DO-HL', 'PP$-TL', 'FW-IN-TL', 'WPS+BEZ', '*-HL', 'DTI-HL', 'PN-HL', 'CD$', 'BER*', 'NNS$-HL', 'PN$', 'BER-TL', 'TO-TL', 'FW-JJ', 'BED*', 'RB+BEZ', 'VB+PPO', 'PPSS-HL', 'HVZ*', 'FW-IN+NN-TL', 'FW-IN+AT-TL', 'NN-NC', 'JJ-NC', 'NR$-TL', 'FW-PP$-NC', 'FW-VB', 'FW-VB-NC', 'JJR-NC', 'NPS$-TL', 'QL-TL', 'FW-AT', 'FW-*', 'FW-CD', 'WQL', 'FW-WDT', 'WDT+BEZ'])"
      ]
     },
     "execution_count": 11,
     "metadata": {},
     "output_type": "execute_result"
    }
   ],
   "source": [
    "brown_news_tagged = nltk.corpus.brown.tagged_words(categories='news')\n",
    "tag_fd = nltk.FreqDist(tag for (word, tag) in brown_news_tagged)\n",
    "tag_fd.keys()"
   ]
  },
  {
   "cell_type": "code",
   "execution_count": 12,
   "metadata": {},
   "outputs": [
    {
     "data": {
      "image/png": "[encoded data removed]",
      "text/plain": [
       "<matplotlib.figure.Figure at 0x1e8388e7128>"
      ]
     },
     "metadata": {},
     "output_type": "display_data"
    }
   ],
   "source": [
    "tag_fd.plot(5, cumulative=True)"
   ]
  },
  {
   "cell_type": "markdown",
   "metadata": {},
   "source": [
    "##### Nouns\n",
    "Nouns generally refer to people, places, things, or concepts, e.g., woman, Scotland,\n",
    "book, intelligence. Nouns can appear after determiners and adjectives, and can be the\n",
    "subject or object of the verb,"
   ]
  },
  {
   "cell_type": "markdown",
   "metadata": {},
   "source": [
    "The simplified noun tags are N for common nouns like book, and NP for proper nouns\n",
    "like Scotland."
   ]
  },
  {
   "cell_type": "code",
   "execution_count": 13,
   "metadata": {},
   "outputs": [
    {
     "data": {
      "text/plain": [
       "[]"
      ]
     },
     "execution_count": 13,
     "metadata": {},
     "output_type": "execute_result"
    }
   ],
   "source": [
    "word_biagrams=nltk.bigrams(brown_news_tagged)\n",
    "list(nltk.FreqDist(a[1] for (a, b) in word_biagrams if b[1] == 'N'))"
   ]
  },
  {
   "cell_type": "markdown",
   "metadata": {},
   "source": [
    "##### Verbs "
   ]
  },
  {
   "cell_type": "markdown",
   "metadata": {},
   "source": [
    "Verbs are words that describe events and actions, e.g., fall and eat. In the context of a sentence, verbs typically express a relation involving the\n",
    "referents of one or more noun phrases."
   ]
  },
  {
   "cell_type": "code",
   "execution_count": 3,
   "metadata": {},
   "outputs": [
    {
     "data": {
      "text/plain": [
       "['will/VERB',\n",
       " 'join/VERB',\n",
       " 'is/VERB',\n",
       " 'publishing/VERB',\n",
       " 'was/VERB',\n",
       " 'named/VERB',\n",
       " 'used/VERB',\n",
       " 'make/VERB',\n",
       " 'has/VERB',\n",
       " 'caused/VERB',\n",
       " 'exposed/VERB',\n",
       " 'reported/VERB',\n",
       " 'enters/VERB',\n",
       " 'causing/VERB',\n",
       " 'show/VERB',\n",
       " 'said/VERB',\n",
       " 'makes/VERB',\n",
       " 'stopped/VERB',\n",
       " 'using/VERB',\n",
       " 'were/VERB',\n",
       " 'appear/VERB',\n",
       " 'bring/VERB',\n",
       " \"'re/VERB\",\n",
       " 'talking/VERB',\n",
       " 'heard/VERB',\n",
       " 'having/VERB',\n",
       " 'studied/VERB',\n",
       " 'have/VERB',\n",
       " 'are/VERB',\n",
       " 'led/VERB',\n",
       " 'making/VERB',\n",
       " 'replaced/VERB',\n",
       " 'sold/VERB',\n",
       " 'worked/VERB',\n",
       " 'died/VERB',\n",
       " 'expected/VERB',\n",
       " 'surviving/VERB',\n",
       " 'including/VERB',\n",
       " 'diagnosed/VERB',\n",
       " 'study/VERB',\n",
       " 'appears/VERB',\n",
       " 'be/VERB',\n",
       " 'industrialized/VERB',\n",
       " 'owned/VERB',\n",
       " 'support/VERB',\n",
       " 'argue/VERB',\n",
       " 'should/VERB',\n",
       " 'regulate/VERB',\n",
       " 'found/VERB',\n",
       " 'does/VERB',\n",
       " 'classified/VERB',\n",
       " 'according/VERB',\n",
       " 'rejected/VERB',\n",
       " 'explained/VERB',\n",
       " 'imposed/VERB',\n",
       " 'remaining/VERB',\n",
       " 'outlawed/VERB',\n",
       " 'made/VERB',\n",
       " 'dumped/VERB',\n",
       " 'imported/VERB',\n",
       " 'poured/VERB',\n",
       " 'mixed/VERB',\n",
       " 'described/VERB',\n",
       " 'hung/VERB',\n",
       " 'ventilated/VERB',\n",
       " \"'s/VERB\",\n",
       " 'contracted/VERB',\n",
       " 'recognize/VERB',\n",
       " 'took/VERB',\n",
       " 'continued/VERB',\n",
       " 'slide/VERB',\n",
       " 'expect/VERB',\n",
       " 'tracked/VERB',\n",
       " 'eased/VERB',\n",
       " 'ended/VERB',\n",
       " 'assume/VERB',\n",
       " 'continues/VERB',\n",
       " 'lengthened/VERB',\n",
       " 'thought/VERB',\n",
       " 'indicate/VERB',\n",
       " 'declining/VERB',\n",
       " 'permit/VERB',\n",
       " 'retain/VERB',\n",
       " 'considered/VERB',\n",
       " 'rising/VERB',\n",
       " 'can/VERB',\n",
       " 'capture/VERB',\n",
       " 'watch/VERB',\n",
       " 'reached/VERB',\n",
       " 'may/VERB',\n",
       " 'blip/VERB',\n",
       " 'rose/VERB',\n",
       " 'continue/VERB',\n",
       " 'pour/VERB',\n",
       " 'grew/VERB',\n",
       " 'beat/VERB',\n",
       " 'vary/VERB',\n",
       " 'go/VERB',\n",
       " 'yielding/VERB',\n",
       " 'had/VERB',\n",
       " 'invests/VERB',\n",
       " 'waiving/VERB',\n",
       " 'boosts/VERB',\n",
       " 'fell/VERB',\n",
       " 'slid/VERB',\n",
       " 'holds/VERB',\n",
       " 'elected/VERB',\n",
       " 'succeeds/VERB',\n",
       " 'resigned/VERB',\n",
       " 'approved/VERB',\n",
       " 'holding/VERB',\n",
       " 'expects/VERB',\n",
       " 'obtain/VERB',\n",
       " 'complete/VERB',\n",
       " 'completed/VERB',\n",
       " 'based/VERB',\n",
       " 'employs/VERB',\n",
       " 'suspended/VERB',\n",
       " 'lifted/VERB',\n",
       " 'acts/VERB',\n",
       " 'issue/VERB',\n",
       " 'dropped/VERB',\n",
       " 'lift/VERB',\n",
       " 'ensnarled/VERB',\n",
       " 'cutting/VERB',\n",
       " 'voted/VERB',\n",
       " 'raise/VERB',\n",
       " 'act/VERB',\n",
       " 'default/VERB',\n",
       " 'oversee/VERB',\n",
       " 'been/VERB',\n",
       " 'manufacturing/VERB',\n",
       " 'jet/VERB',\n",
       " 'settled/VERB',\n",
       " 'decided/VERB',\n",
       " 'treat/VERB',\n",
       " 'prove/VERB',\n",
       " 'expand/VERB',\n",
       " 'receiving/VERB',\n",
       " 'joined/VERB',\n",
       " 'followed/VERB',\n",
       " 'raced/VERB',\n",
       " 'could/VERB',\n",
       " 'welcomed/VERB',\n",
       " 'held/VERB',\n",
       " 'banned/VERB',\n",
       " 'hauled/VERB',\n",
       " 'drooled/VERB',\n",
       " 'pointed/VERB',\n",
       " 'squeezed/VERB',\n",
       " 'boarding/VERB',\n",
       " 'renovated/VERB',\n",
       " 'fed/VERB',\n",
       " 'Knowing/VERB',\n",
       " 'eat/VERB',\n",
       " 'gave/VERB',\n",
       " 'say/VERB',\n",
       " 'tempts/VERB',\n",
       " 'return/VERB',\n",
       " 'looking/VERB',\n",
       " 'registered/VERB',\n",
       " 'reflecting/VERB',\n",
       " 'released/VERB',\n",
       " 'showed/VERB',\n",
       " 'casting/VERB',\n",
       " 'stood/VERB',\n",
       " 'increased/VERB',\n",
       " 'began/VERB',\n",
       " 'prolonged/VERB',\n",
       " 'would/VERB',\n",
       " 'remain/VERB',\n",
       " 'recorded/VERB',\n",
       " 'accumulated/VERB',\n",
       " 'trying/VERB',\n",
       " 'keep/VERB',\n",
       " 'announced/VERB',\n",
       " 'introduce/VERB',\n",
       " 'offered/VERB',\n",
       " 'give/VERB',\n",
       " 'maintaining/VERB',\n",
       " 'increasing/VERB',\n",
       " 'become/VERB',\n",
       " 'underscore/VERB',\n",
       " 'increase/VERB',\n",
       " 'cost/VERB',\n",
       " 'lowered/VERB',\n",
       " 'guaranteed/VERB',\n",
       " 'costs/VERB',\n",
       " 'announce/VERB',\n",
       " 'awards/VERB',\n",
       " 'reward/VERB',\n",
       " 'meet/VERB',\n",
       " 'exceed/VERB',\n",
       " 'spent/VERB',\n",
       " 'shore/VERB',\n",
       " 'totaled/VERB',\n",
       " 'matters/VERB',\n",
       " 'paying/VERB',\n",
       " 'doing/VERB',\n",
       " 'gaining/VERB',\n",
       " 'According/VERB',\n",
       " 'bowed/VERB',\n",
       " 'saying/VERB',\n",
       " 'justify/VERB',\n",
       " 'leaves/VERB',\n",
       " 'proposed/VERB',\n",
       " 'acquire/VERB',\n",
       " 'says/VERB',\n",
       " 'values/VERB',\n",
       " 'suffer/VERB',\n",
       " 'related/VERB',\n",
       " 'improved/VERB',\n",
       " 'did/VERB',\n",
       " 'come/VERB',\n",
       " 'evaluated/VERB',\n",
       " 'raising/VERB',\n",
       " 'seemed/VERB',\n",
       " 'got/VERB',\n",
       " 'take/VERB',\n",
       " 'added/VERB',\n",
       " 'noted/VERB',\n",
       " 'worried/VERB',\n",
       " 'owns/VERB',\n",
       " 'emerges/VERB',\n",
       " 'attracts/VERB',\n",
       " 'withdraw/VERB',\n",
       " 'might/VERB',\n",
       " 'speed/VERB',\n",
       " 'asserted/VERB',\n",
       " 'cluttered/VERB',\n",
       " 'turned/VERB',\n",
       " 'seeking/VERB',\n",
       " 'refile/VERB',\n",
       " 'hopes/VERB',\n",
       " 'expedited/VERB',\n",
       " 'closed/VERB',\n",
       " 'operating/VERB',\n",
       " 'succeed/VERB',\n",
       " 'retired/VERB',\n",
       " 'ordered/VERB',\n",
       " 'refund/VERB',\n",
       " 'collected/VERB',\n",
       " 'required/VERB',\n",
       " 'received/VERB',\n",
       " 'moved/VERB',\n",
       " 'begin/VERB',\n",
       " 'entertain/VERB',\n",
       " 'block/VERB',\n",
       " 'appealing/VERB',\n",
       " 'underlying/VERB',\n",
       " 'considering/VERB',\n",
       " 'determined/VERB',\n",
       " 'force/VERB',\n",
       " 'slash/VERB',\n",
       " 'tracking/VERB',\n",
       " 'changed/VERB',\n",
       " 'disputed/VERB',\n",
       " 'pay/VERB',\n",
       " 'upheld/VERB',\n",
       " 'audit/VERB',\n",
       " 'collecting/VERB',\n",
       " 'ruled/VERB',\n",
       " 'refunded/VERB',\n",
       " 'set/VERB',\n",
       " 'faces/VERB',\n",
       " 'estimated/VERB',\n",
       " 'hope/VERB',\n",
       " 'involving/VERB',\n",
       " 'rule/VERB',\n",
       " 'setting/VERB',\n",
       " 'compared/VERB',\n",
       " 'inched/VERB',\n",
       " 'benefited/VERB',\n",
       " 'arising/VERB',\n",
       " 'doubled/VERB',\n",
       " 'opened/VERB',\n",
       " 'manufacture/VERB',\n",
       " 'located/VERB',\n",
       " 'help/VERB',\n",
       " 'diversifying/VERB',\n",
       " 'produce/VERB',\n",
       " 'depend/VERB',\n",
       " 'tied/VERB',\n",
       " 'filed/VERB',\n",
       " 'pending/VERB',\n",
       " 'disclosed/VERB',\n",
       " 'providing/VERB',\n",
       " 'heads/VERB',\n",
       " 'scrapped/VERB',\n",
       " 'working/VERB',\n",
       " 'anticipated/VERB',\n",
       " 'attached/VERB',\n",
       " 'want/VERB',\n",
       " 'fund/VERB',\n",
       " 'include/VERB',\n",
       " 'anticipates/VERB',\n",
       " 'needing/VERB',\n",
       " 'beginning/VERB',\n",
       " 'called/VERB',\n",
       " 'jump/VERB',\n",
       " 'close/VERB',\n",
       " 'link/VERB',\n",
       " 'complicate/VERB',\n",
       " 'believe/VERB',\n",
       " 'do/VERB',\n",
       " 'describe/VERB',\n",
       " 'being/VERB',\n",
       " 'require/VERB',\n",
       " 'contain/VERB',\n",
       " 'face/VERB',\n",
       " 'roll/VERB',\n",
       " 'compete/VERB',\n",
       " 'believes/VERB',\n",
       " 'priced/VERB',\n",
       " 'receive/VERB',\n",
       " 'own/VERB',\n",
       " 'occur/VERB',\n",
       " 'leave/VERB',\n",
       " 'decide/VERB',\n",
       " 'applied/VERB',\n",
       " 'trade/VERB',\n",
       " 'calculate/VERB',\n",
       " 'transferring/VERB',\n",
       " 'favored/VERB',\n",
       " 'report/VERB',\n",
       " 'posted/VERB',\n",
       " 'existed/VERB',\n",
       " 'incurred/VERB',\n",
       " 'work/VERB',\n",
       " 'Regarded/VERB',\n",
       " 'paid/VERB',\n",
       " 'includes/VERB',\n",
       " 'came/VERB',\n",
       " 'claiming/VERB',\n",
       " 'removed/VERB',\n",
       " 'watching/VERB',\n",
       " 'failing/VERB',\n",
       " 'honor/VERB',\n",
       " 'improve/VERB',\n",
       " 'placed/VERB',\n",
       " 'varying/VERB',\n",
       " 'growing/VERB',\n",
       " 'harms/VERB',\n",
       " 'trading/VERB',\n",
       " 'offending/VERB',\n",
       " 'hurting/VERB',\n",
       " 'discouraging/VERB',\n",
       " 'deterring/VERB',\n",
       " 'investing/VERB',\n",
       " 'marketing/VERB',\n",
       " 'lauded/VERB',\n",
       " 'creating/VERB',\n",
       " 'trained/VERB',\n",
       " 'pursue/VERB',\n",
       " 'instituted/VERB',\n",
       " 'aid/VERB',\n",
       " 'initialing/VERB',\n",
       " 'amending/VERB',\n",
       " 'introducing/VERB',\n",
       " 'protect/VERB',\n",
       " 'compel/VERB',\n",
       " 'showing/VERB',\n",
       " 'vowed/VERB',\n",
       " 'enact/VERB',\n",
       " 'apply/VERB',\n",
       " 'deemed/VERB',\n",
       " 'pose/VERB',\n",
       " 'specializing/VERB',\n",
       " 'combined/VERB',\n",
       " 'protecting/VERB',\n",
       " 'prompted/VERB',\n",
       " 'tells/VERB',\n",
       " 'craft/VERB',\n",
       " 'concerned/VERB',\n",
       " 'continuing/VERB',\n",
       " 'complained/VERB',\n",
       " 'requires/VERB',\n",
       " 'merit/VERB',\n",
       " 'accelerated/VERB',\n",
       " 'ask/VERB',\n",
       " 'halve/VERB',\n",
       " 'developing/VERB',\n",
       " 'believed/VERB',\n",
       " 'aspires/VERB',\n",
       " 'reach/VERB',\n",
       " 'met/VERB',\n",
       " 'feels/VERB',\n",
       " 'solved/VERB',\n",
       " 'wants/VERB',\n",
       " 'forgiven/VERB',\n",
       " 'stand/VERB',\n",
       " 'CHANGED/VERB',\n",
       " 'launched/VERB',\n",
       " 'use/VERB',\n",
       " 'stored/VERB',\n",
       " 'built/VERB',\n",
       " 'triggered/VERB',\n",
       " 'store/VERB',\n",
       " 'developed/VERB',\n",
       " 'became/VERB',\n",
       " 'adapted/VERB',\n",
       " 'allow/VERB',\n",
       " 'share/VERB',\n",
       " 'offer/VERB',\n",
       " 'entered/VERB',\n",
       " 'total/VERB',\n",
       " 'acquired/VERB',\n",
       " 'sells/VERB',\n",
       " 'preferred/VERB',\n",
       " 'gives/VERB',\n",
       " 'raised/VERB',\n",
       " 'scheduled/VERB',\n",
       " 'brought/VERB',\n",
       " 'operate/VERB',\n",
       " 'started/VERB',\n",
       " 'reaches/VERB',\n",
       " 'start/VERB',\n",
       " 'producing/VERB',\n",
       " 'Following/VERB',\n",
       " 'divest/VERB',\n",
       " 'produced/VERB',\n",
       " 'denied/VERB',\n",
       " 'requested/VERB',\n",
       " 'covered/VERB',\n",
       " 'grant/VERB',\n",
       " 'assembled/VERB',\n",
       " 'stepping/VERB',\n",
       " 'turn/VERB',\n",
       " 'direct/VERB',\n",
       " 'reduce/VERB',\n",
       " 'curb/VERB',\n",
       " 'achieved/VERB',\n",
       " 'maintained/VERB',\n",
       " 'left/VERB',\n",
       " 'cut/VERB',\n",
       " 'wallowing/VERB',\n",
       " 'controlling/VERB',\n",
       " 'seek/VERB',\n",
       " 'resume/VERB',\n",
       " 'running/VERB',\n",
       " 'assisted/VERB',\n",
       " 'bought/VERB',\n",
       " 'totaling/VERB',\n",
       " 'went/VERB',\n",
       " 'snapped/VERB',\n",
       " 'put/VERB',\n",
       " 'offering/VERB',\n",
       " 'linked/VERB',\n",
       " 'designed/VERB',\n",
       " 'eliminate/VERB',\n",
       " 'decline/VERB',\n",
       " 'forces/VERB',\n",
       " 'redeploy/VERB',\n",
       " 'channel/VERB',\n",
       " 'reducing/VERB',\n",
       " 'addressing/VERB',\n",
       " 'boosted/VERB',\n",
       " 'buying/VERB',\n",
       " 'issued/VERB',\n",
       " 'expanding/VERB',\n",
       " 'agreed/VERB',\n",
       " 'extend/VERB',\n",
       " 'file/VERB',\n",
       " 'giving/VERB',\n",
       " 'attempts/VERB',\n",
       " 'incorporated/VERB',\n",
       " 'advertised/VERB',\n",
       " 'expire/VERB',\n",
       " 'marks/VERB',\n",
       " 'reflects/VERB',\n",
       " 'surged/VERB',\n",
       " 'follows/VERB',\n",
       " 'Pick/VERB',\n",
       " 'sweeping/VERB',\n",
       " 'traded/VERB',\n",
       " 'invest/VERB',\n",
       " 'ranged/VERB',\n",
       " 'capped/VERB',\n",
       " 'kicked/VERB',\n",
       " 'quips/VERB',\n",
       " 'managing/VERB',\n",
       " 'mirrors/VERB',\n",
       " 'focused/VERB',\n",
       " 'issuing/VERB',\n",
       " 'fixed/VERB',\n",
       " 'brings/VERB',\n",
       " 'listed/VERB',\n",
       " 'account/VERB',\n",
       " 'stake/VERB',\n",
       " 'runs/VERB',\n",
       " 'scrambled/VERB',\n",
       " 'find/VERB',\n",
       " 'sell/VERB',\n",
       " 'stretching/VERB',\n",
       " 'urge/VERB',\n",
       " 'diversify/VERB',\n",
       " 'hold/VERB',\n",
       " 'emerging/VERB',\n",
       " 'outpaced/VERB',\n",
       " 'get/VERB',\n",
       " 'burned/VERB',\n",
       " 'whipsaw/VERB',\n",
       " 'tend/VERB',\n",
       " 'swing/VERB',\n",
       " 'plunged/VERB',\n",
       " 'clobbered/VERB',\n",
       " 'climbed/VERB',\n",
       " 'skyrocketed/VERB',\n",
       " 'targeted/VERB',\n",
       " 'invested/VERB',\n",
       " 'jumped/VERB',\n",
       " \"'m/VERB\",\n",
       " 'alarmed/VERB',\n",
       " 'see/VERB',\n",
       " 'fattened/VERB',\n",
       " 'reflect/VERB',\n",
       " 'suggests/VERB',\n",
       " 'cast/VERB',\n",
       " 'buy/VERB',\n",
       " 'represent/VERB',\n",
       " 'insist/VERB',\n",
       " 'jumping/VERB',\n",
       " 'owed/VERB',\n",
       " 'repaid/VERB',\n",
       " 'clear/VERB',\n",
       " 'happen/VERB',\n",
       " 'permitted/VERB',\n",
       " 'open/VERB',\n",
       " 'crippled/VERB',\n",
       " 'settle/VERB',\n",
       " 'lent/VERB',\n",
       " 'seized/VERB',\n",
       " 'amended/VERB',\n",
       " 'belongs/VERB',\n",
       " 'stressed/VERB',\n",
       " 'satisfying/VERB',\n",
       " 'leveling/VERB',\n",
       " 'manufactured/VERB',\n",
       " 'failed/VERB',\n",
       " 'rise/VERB',\n",
       " 'indicated/VERB',\n",
       " 'purchasing/VERB',\n",
       " 'booked/VERB',\n",
       " 'fallen/VERB',\n",
       " 'ran/VERB',\n",
       " 'adjusted/VERB',\n",
       " 'remove/VERB',\n",
       " 'taper/VERB',\n",
       " 'revive/VERB',\n",
       " 'pick/VERB',\n",
       " 'asked/VERB',\n",
       " 'draw/VERB',\n",
       " 'predicting/VERB',\n",
       " 'slip/VERB',\n",
       " 'cite/VERB',\n",
       " 'provide/VERB',\n",
       " 'watched/VERB',\n",
       " 'provoke/VERB',\n",
       " 'lead/VERB',\n",
       " 'conforms/VERB',\n",
       " 'eases/VERB',\n",
       " 'leading/VERB',\n",
       " 'intended/VERB',\n",
       " 'last/VERB',\n",
       " 'climbing/VERB',\n",
       " 'helped/VERB',\n",
       " 'Excluding/VERB',\n",
       " 'declined/VERB',\n",
       " 'accounts/VERB',\n",
       " 'predicted/VERB',\n",
       " 'boost/VERB',\n",
       " 'adjusting/VERB',\n",
       " 'change/VERB',\n",
       " 'contrast/VERB',\n",
       " 'awarded/VERB',\n",
       " 'counts/VERB',\n",
       " 'slowing/VERB',\n",
       " 'signaling/VERB',\n",
       " 'purchased/VERB',\n",
       " 'delivering/VERB',\n",
       " 'consider/VERB',\n",
       " 'abating/VERB',\n",
       " 'handle/VERB',\n",
       " 'lengthen/VERB',\n",
       " 'provided/VERB',\n",
       " 'gauges/VERB',\n",
       " 'reporting/VERB',\n",
       " 'polled/VERB',\n",
       " 'import/VERB',\n",
       " 'acknowledging/VERB',\n",
       " 'suspect/VERB',\n",
       " 'going/VERB',\n",
       " 'numbered/VERB',\n",
       " 'included/VERB',\n",
       " 'blamed/VERB',\n",
       " 'coupled/VERB',\n",
       " 'contributed/VERB',\n",
       " 'Judging/VERB',\n",
       " 'drink/VERB',\n",
       " 'whistle/VERB',\n",
       " 'read/VERB',\n",
       " 'talk/VERB',\n",
       " 'worry/VERB',\n",
       " 'broken/VERB',\n",
       " 'recognizing/VERB',\n",
       " 'refreshing/VERB',\n",
       " 'belong/VERB',\n",
       " 'perpetuate/VERB',\n",
       " 'carries/VERB',\n",
       " 'think/VERB',\n",
       " 'rooted/VERB',\n",
       " 'sets/VERB',\n",
       " 'mark/VERB',\n",
       " 'meets/VERB',\n",
       " 'offers/VERB',\n",
       " 'wears/VERB',\n",
       " 'seems/VERB',\n",
       " 'published/VERB',\n",
       " 'dominating/VERB',\n",
       " 'written/VERB',\n",
       " 'carry/VERB',\n",
       " 'call/VERB',\n",
       " 'describes/VERB',\n",
       " 'played/VERB',\n",
       " 'expands/VERB',\n",
       " 'depending/VERB',\n",
       " 'sidestep/VERB',\n",
       " 'must/VERB',\n",
       " 'abide/VERB',\n",
       " 'wear/VERB',\n",
       " 'rationed/VERB',\n",
       " 'fare/VERB',\n",
       " 'run/VERB',\n",
       " 'hosted/VERB',\n",
       " 'invades/VERB',\n",
       " 'assigned/VERB',\n",
       " 'letting/VERB',\n",
       " 'frustrating/VERB',\n",
       " 'invent/VERB',\n",
       " 'fired/VERB',\n",
       " 'committed/VERB',\n",
       " 'learned/VERB',\n",
       " 'becoming/VERB',\n",
       " 'entering/VERB',\n",
       " 'bans/VERB',\n",
       " 'urged/VERB',\n",
       " 'ban/VERB',\n",
       " 'visiting/VERB',\n",
       " 'advertising/VERB',\n",
       " 'restricts/VERB',\n",
       " 'designated/VERB',\n",
       " 'indicates/VERB',\n",
       " 'carried/VERB',\n",
       " 'feel/VERB',\n",
       " 'surveyed/VERB',\n",
       " 'espouse/VERB',\n",
       " 'identified/VERB',\n",
       " 'endorsed/VERB',\n",
       " 'build/VERB',\n",
       " 'balked/VERB',\n",
       " 'undertaking/VERB',\n",
       " 'asking/VERB',\n",
       " 'back/VERB',\n",
       " 'renewed/VERB',\n",
       " 'win/VERB',\n",
       " 'name/VERB',\n",
       " 'confirmed/VERB',\n",
       " 'tested/VERB',\n",
       " 'compensate/VERB',\n",
       " 'establishing/VERB',\n",
       " 'strapped/VERB',\n",
       " 'terminated/VERB',\n",
       " 'twinned/VERB',\n",
       " 'ending/VERB',\n",
       " 'authorized/VERB',\n",
       " 'modify/VERB',\n",
       " 'planned/VERB',\n",
       " 'ca/VERB',\n",
       " 'operated/VERB',\n",
       " 'painted/VERB',\n",
       " 'exchanging/VERB',\n",
       " 'entitles/VERB',\n",
       " 'accrued/VERB',\n",
       " 'swapped/VERB',\n",
       " 'elaborate/VERB',\n",
       " 'laid/VERB',\n",
       " 'obsessed/VERB',\n",
       " 'refitting/VERB',\n",
       " 'shot/VERB',\n",
       " 'revived/VERB',\n",
       " 'contained/VERB',\n",
       " 'earns/VERB',\n",
       " 'playing/VERB',\n",
       " 'prepared/VERB',\n",
       " 'thinking/VERB',\n",
       " 'feeling/VERB',\n",
       " 'takes/VERB',\n",
       " 'romanticized/VERB',\n",
       " 'Filmed/VERB',\n",
       " 'seem/VERB',\n",
       " 'walk/VERB',\n",
       " 'noticing/VERB',\n",
       " 'jostle/VERB',\n",
       " 'hangs/VERB',\n",
       " 'populated/VERB',\n",
       " 'selling/VERB',\n",
       " 'curled/VERB',\n",
       " 'spends/VERB',\n",
       " 'sketching/VERB',\n",
       " 'returns/VERB',\n",
       " 'condemned/VERB',\n",
       " 'calls/VERB',\n",
       " 'competing/VERB',\n",
       " 'given/VERB',\n",
       " 'cure/VERB',\n",
       " 'returning/VERB',\n",
       " 'murdered/VERB',\n",
       " 'turns/VERB',\n",
       " 'alerts/VERB',\n",
       " 'tuck/VERB',\n",
       " 'load/VERB',\n",
       " 'dreamed/VERB',\n",
       " 'lives/VERB',\n",
       " 'resonate/VERB',\n",
       " 'glamorize/VERB',\n",
       " 'ends/VERB',\n",
       " 'managed/VERB',\n",
       " 'viewed/VERB',\n",
       " 'executed/VERB',\n",
       " 'collaborated/VERB',\n",
       " 'needed/VERB',\n",
       " 'enabled/VERB',\n",
       " 'killed/VERB',\n",
       " 'presented/VERB',\n",
       " 'deserve/VERB',\n",
       " 'chopped/VERB',\n",
       " 'recommend/VERB',\n",
       " 'taken/VERB',\n",
       " 'fighting/VERB',\n",
       " 'eating/VERB',\n",
       " 'drinking/VERB',\n",
       " 'celebrate/VERB',\n",
       " 'mention/VERB',\n",
       " 'die/VERB',\n",
       " 'seeing/VERB',\n",
       " 'discussing/VERB',\n",
       " 'accounting/VERB',\n",
       " 'speculated/VERB',\n",
       " 'goes/VERB',\n",
       " 'hit/VERB',\n",
       " 'getting/VERB',\n",
       " 'scattered/VERB',\n",
       " 'ushering/VERB',\n",
       " 'attack/VERB',\n",
       " 'needs/VERB',\n",
       " 'means/VERB',\n",
       " 'Take/VERB',\n",
       " 'fills/VERB',\n",
       " 'gets/VERB',\n",
       " 'charges/VERB',\n",
       " 'hid/VERB',\n",
       " 'convicted/VERB',\n",
       " 'wait/VERB',\n",
       " 'caught/VERB',\n",
       " 'prosecute/VERB',\n",
       " 'exist/VERB',\n",
       " 'Stung/VERB',\n",
       " 'unleashed/VERB',\n",
       " 'shows/VERB',\n",
       " 'Compare/VERB',\n",
       " 'banning/VERB',\n",
       " 'opposed/VERB',\n",
       " 'claims/VERB',\n",
       " 'choose/VERB',\n",
       " 'telling/VERB',\n",
       " 'fail/VERB',\n",
       " 'insists/VERB',\n",
       " 'admitted/VERB',\n",
       " 'refused/VERB',\n",
       " 'know/VERB',\n",
       " 'argues/VERB',\n",
       " 'knows/VERB',\n",
       " 'agree/VERB',\n",
       " 'superimposed/VERB',\n",
       " 'talks/VERB',\n",
       " 'nurtured/VERB',\n",
       " 'dissolves/VERB',\n",
       " 'wanted/VERB',\n",
       " 'denies/VERB',\n",
       " 'transforming/VERB',\n",
       " 'launch/VERB',\n",
       " 'created/VERB',\n",
       " 'shake/VERB',\n",
       " 'attracted/VERB',\n",
       " 'featured/VERB',\n",
       " 'suggested/VERB',\n",
       " 'recalling/VERB',\n",
       " \"C'mon/VERB\",\n",
       " 'interjects/VERB',\n",
       " 'introduced/VERB',\n",
       " 'interrogated/VERB',\n",
       " 'accused/VERB',\n",
       " 'tried/VERB',\n",
       " 'pass/VERB',\n",
       " 'grown/VERB',\n",
       " 'gotten/VERB',\n",
       " 'devote/VERB',\n",
       " 'lasted/VERB',\n",
       " 'carrying/VERB',\n",
       " 'featuring/VERB',\n",
       " 'aired/VERB',\n",
       " 'Remember/VERB',\n",
       " 'Consider/VERB',\n",
       " 'rusted/VERB',\n",
       " 'swim/VERB',\n",
       " 'purrs/VERB',\n",
       " 'suing/VERB',\n",
       " 'grows/VERB',\n",
       " 'involved/VERB',\n",
       " 'cry/VERB',\n",
       " 'responded/VERB',\n",
       " 'lying/VERB',\n",
       " 'asks/VERB',\n",
       " 'cleaned/VERB',\n",
       " 'shrinks/VERB',\n",
       " 'devastating/VERB',\n",
       " 'building/VERB',\n",
       " 'appeared/VERB',\n",
       " 'quoted/VERB',\n",
       " 'propelling/VERB',\n",
       " 'suggest/VERB',\n",
       " 'pursued/VERB',\n",
       " 'sparking/VERB',\n",
       " 'posing/VERB',\n",
       " 'knitted/VERB',\n",
       " 'tripled/VERB',\n",
       " 'following/VERB',\n",
       " 'pumping/VERB',\n",
       " 'forcing/VERB',\n",
       " 'known/VERB',\n",
       " 'contributing/VERB',\n",
       " 'spur/VERB',\n",
       " 'falling/VERB',\n",
       " 'encourages/VERB',\n",
       " 'resists/VERB',\n",
       " 'coming/VERB',\n",
       " 'comes/VERB',\n",
       " 'swelling/VERB',\n",
       " 'concentrated/VERB',\n",
       " 'spurred/VERB',\n",
       " 'move/VERB',\n",
       " 'accommodate/VERB',\n",
       " 'offend/VERB',\n",
       " 'parallel/VERB',\n",
       " 'assemble/VERB',\n",
       " 'export/VERB',\n",
       " 'pull/VERB',\n",
       " 'discuss/VERB',\n",
       " 'reasserts/VERB',\n",
       " 'taking/VERB',\n",
       " 'play/VERB',\n",
       " 'designing/VERB',\n",
       " 'outstrips/VERB',\n",
       " 'outranks/VERB',\n",
       " 'remains/VERB',\n",
       " 'voice/VERB',\n",
       " 'convey/VERB',\n",
       " 'approach/VERB',\n",
       " 'step/VERB',\n",
       " 'ease/VERB',\n",
       " 'regard/VERB',\n",
       " 'try/VERB',\n",
       " 'slow/VERB',\n",
       " 'monopolize/VERB',\n",
       " 'sew/VERB',\n",
       " 'spotted/VERB',\n",
       " 'seen/VERB',\n",
       " 'surrendered/VERB',\n",
       " 'passed/VERB',\n",
       " 'matched/VERB',\n",
       " 'Confronted/VERB',\n",
       " 'answers/VERB',\n",
       " 'gone/VERB',\n",
       " 'display/VERB',\n",
       " 'underline/VERB',\n",
       " 'prosecuted/VERB',\n",
       " 'breach/VERB',\n",
       " 'pleaded/VERB',\n",
       " 'won/VERB',\n",
       " 'inspired/VERB',\n",
       " 'teach/VERB',\n",
       " 'defended/VERB',\n",
       " 'treated/VERB',\n",
       " 'casts/VERB',\n",
       " 'enhanced/VERB',\n",
       " 'cheat/VERB',\n",
       " 'violated/VERB',\n",
       " 'enforce/VERB',\n",
       " 'alleged/VERB',\n",
       " 'bolster/VERB',\n",
       " 'depended/VERB',\n",
       " 'concluded/VERB',\n",
       " 'inflated/VERB',\n",
       " 'surfaced/VERB',\n",
       " 'suspects/VERB',\n",
       " 'revising/VERB',\n",
       " 'booming/VERB',\n",
       " 'telegraph/VERB',\n",
       " 'concentrate/VERB',\n",
       " 'mean/VERB',\n",
       " 'posts/VERB',\n",
       " 'stressing/VERB',\n",
       " 'rates/VERB',\n",
       " 'Says/VERB',\n",
       " 'prosecuting/VERB',\n",
       " 'look/VERB',\n",
       " 'keeping/VERB',\n",
       " 'Standing/VERB',\n",
       " 'educated/VERB',\n",
       " 'faded/VERB',\n",
       " 'suffered/VERB',\n",
       " 'bled/VERB',\n",
       " 'stabbed/VERB',\n",
       " 'serving/VERB',\n",
       " 'resolved/VERB',\n",
       " 'clean/VERB',\n",
       " 'restore/VERB',\n",
       " 'ushered/VERB',\n",
       " 'Being/VERB',\n",
       " 'loved/VERB',\n",
       " 'dreamt/VERB',\n",
       " 'restructured/VERB',\n",
       " 'struggled/VERB',\n",
       " 'taught/VERB',\n",
       " 'encourage/VERB',\n",
       " 'advised/VERB',\n",
       " 'chosen/VERB',\n",
       " 'studying/VERB',\n",
       " \"'ve/VERB\",\n",
       " 'distinguished/VERB',\n",
       " 'pair/VERB',\n",
       " 'prepare/VERB',\n",
       " 'polish/VERB',\n",
       " \"'d/VERB\",\n",
       " 'correcting/VERB',\n",
       " 'told/VERB',\n",
       " 'pushing/VERB',\n",
       " 'deteriorating/VERB',\n",
       " 'feared/VERB',\n",
       " 'helping/VERB',\n",
       " 'earn/VERB',\n",
       " 'meant/VERB',\n",
       " 'Winning/VERB',\n",
       " 'demand/VERB',\n",
       " 'attending/VERB',\n",
       " 'returned/VERB',\n",
       " 'copied/VERB',\n",
       " 'admits/VERB',\n",
       " 'prevent/VERB',\n",
       " 'broke/VERB',\n",
       " 'cared/VERB',\n",
       " 'defeats/VERB',\n",
       " 'concedes/VERB',\n",
       " 'adding/VERB',\n",
       " 'Do/VERB',\n",
       " 'discovered/VERB',\n",
       " 'avoid/VERB',\n",
       " 'save/VERB',\n",
       " 'recalls/VERB',\n",
       " 'dismissed/VERB',\n",
       " 'crowded/VERB',\n",
       " 'testify/VERB',\n",
       " 'decried/VERB',\n",
       " 'allowed/VERB',\n",
       " 'overused/VERB',\n",
       " 'enraged/VERB',\n",
       " 'expunged/VERB',\n",
       " 'cranked/VERB',\n",
       " 'interviewed/VERB',\n",
       " 'explain/VERB',\n",
       " 'like/VERB',\n",
       " 'evaluating/VERB',\n",
       " 'realized/VERB',\n",
       " 'touched/VERB',\n",
       " 'add/VERB',\n",
       " 'justifying/VERB',\n",
       " 'defeat/VERB',\n",
       " 'gauge/VERB',\n",
       " 'aces/VERB',\n",
       " 'publishes/VERB',\n",
       " 'aimed/VERB',\n",
       " 'improving/VERB',\n",
       " 'replicated/VERB',\n",
       " 'referred/VERB',\n",
       " 'devised/VERB',\n",
       " 'awarding/VERB',\n",
       " 'measured/VERB',\n",
       " 'rate/VERB',\n",
       " 'replicate/VERB',\n",
       " 'contains/VERB',\n",
       " ...]"
      ]
     },
     "execution_count": 3,
     "metadata": {},
     "output_type": "execute_result"
    }
   ],
   "source": [
    "wsj = nltk.corpus.treebank.tagged_words(tagset= 'universal') #instead of simplify tags = True\n",
    "word_tag_fd = nltk.FreqDist(wsj)\n",
    "[word + \"/\" +tag for (word, tag) in word_tag_fd if tag.startswith('V')]"
   ]
  },
  {
   "cell_type": "code",
   "execution_count": 4,
   "metadata": {},
   "outputs": [
    {
     "data": {
      "text/plain": [
       "[('Pierre', 'NOUN'), ('Vinken', 'NOUN'), (',', '.'), ...]"
      ]
     },
     "execution_count": 4,
     "metadata": {},
     "output_type": "execute_result"
    }
   ],
   "source": [
    "wsj"
   ]
  },
  {
   "cell_type": "code",
   "execution_count": 5,
   "metadata": {},
   "outputs": [
    {
     "ename": "TypeError",
     "evalue": "unhashable type: 'slice'",
     "output_type": "error",
     "traceback": [
      "\u001b[1;31m---------------------------------------------------------------------------\u001b[0m",
      "\u001b[1;31mTypeError\u001b[0m                                 Traceback (most recent call last)",
      "\u001b[1;32m<ipython-input-5-49d558d3e7fc>\u001b[0m in \u001b[0;36m<module>\u001b[1;34m()\u001b[0m\n\u001b[1;32m----> 1\u001b[1;33m \u001b[0mword_tag_fd\u001b[0m\u001b[1;33m[\u001b[0m\u001b[1;33m:\u001b[0m\u001b[1;36m20\u001b[0m\u001b[1;33m]\u001b[0m\u001b[1;33m\u001b[0m\u001b[0m\n\u001b[0m",
      "\u001b[1;31mTypeError\u001b[0m: unhashable type: 'slice'"
     ]
    }
   ],
   "source": [
    "word_tag_fd[:20]"
   ]
  },
  {
   "cell_type": "markdown",
   "metadata": {},
   "source": [
    "Note that the items being counted in the frequency distribution are word-tag pairs.\n",
    "Since words and tags are paired, we can treat the word as a condition and the tag as an\n",
    "event, and initialize a conditional frequency distribution with a list of condition-event\n",
    "pairs. This lets us see a frequency-ordered list of tags given a word"
   ]
  },
  {
   "cell_type": "code",
   "execution_count": 21,
   "metadata": {},
   "outputs": [
    {
     "data": {
      "text/plain": [
       "dict_keys(['NOUN', 'VERB'])"
      ]
     },
     "execution_count": 21,
     "metadata": {},
     "output_type": "execute_result"
    }
   ],
   "source": [
    "cfd1 = nltk.ConditionalFreqDist(wsj)\n",
    "cfd1['yield'].keys()"
   ]
  },
  {
   "cell_type": "code",
   "execution_count": 22,
   "metadata": {},
   "outputs": [
    {
     "data": {
      "text/plain": [
       "dict_keys(['VERB', 'NOUN'])"
      ]
     },
     "execution_count": 22,
     "metadata": {},
     "output_type": "execute_result"
    }
   ],
   "source": [
    "cfd1['cut'].keys()"
   ]
  },
  {
   "cell_type": "code",
   "execution_count": 23,
   "metadata": {},
   "outputs": [
    {
     "data": {
      "text/plain": [
       "[]"
      ]
     },
     "execution_count": 23,
     "metadata": {},
     "output_type": "execute_result"
    }
   ],
   "source": [
    "[w for w in cfd1.conditions() if 'VBD' in cfd1[w] and 'VBN' in cfd1[w]]#VBD past tense and VBN past participle"
   ]
  },
  {
   "cell_type": "code",
   "execution_count": 24,
   "metadata": {},
   "outputs": [
    {
     "data": {
      "text/plain": [
       "[('show', 'VB'),\n",
       " ('me', 'PRP'),\n",
       " ('Basketball', 'NNP'),\n",
       " ('videos', 'NNS'),\n",
       " ('on', 'IN'),\n",
       " ('Youtube', 'NN')]"
      ]
     },
     "execution_count": 24,
     "metadata": {},
     "output_type": "execute_result"
    }
   ],
   "source": [
    "text = nltk.word_tokenize('show me Basketball videos on Youtube')\n",
    "nltk.pos_tag(text)"
   ]
  },
  {
   "cell_type": "markdown",
   "metadata": {
    "collapsed": true
   },
   "source": [
    "##### Unsimplified Tags"
   ]
  },
  {
   "cell_type": "code",
   "execution_count": 25,
   "metadata": {
    "collapsed": true
   },
   "outputs": [],
   "source": [
    "def findtags(tag_prefix, tagged_text):\n",
    "    cfd=nltk.ConditionalFreqDist((tag, word) for (word, tag) in tagged_text if tag.startswith(tag_prefix))\n",
    "    return dict((tag, list(cfd[tag].keys())[:5]) for tag in cfd.conditions())\n"
   ]
  },
  {
   "cell_type": "code",
   "execution_count": 26,
   "metadata": {},
   "outputs": [
    {
     "name": "stdout",
     "output_type": "stream",
     "text": [
      "NN ['investigation', 'primary', 'election', 'evidence', 'place']\n",
      "NN$ [\"ordinary's\", \"court's\", \"mayor's\", \"wife's\", \"governor's\"]\n",
      "NN$-HL [\"Golf's\", \"Navy's\"]\n",
      "NN$-TL [\"Department's\", \"Commissioner's\", \"President's\", \"Party's\", \"Mayor's\"]\n",
      "NN-HL ['Merger', 'jail', 'Construction', 'fund', 'sp.']\n",
      "NN-NC ['ova', 'eva', 'aya']\n",
      "NN-TL ['County', 'Jury', 'City', 'Committee', 'Court']\n",
      "NN-TL-HL ['Mayor', 'Commissioner', 'City', 'Oak', 'Grove']\n",
      "NNS ['irregularities', 'presentments', 'thanks', 'reports', 'voters']\n",
      "NNS$ [\"taxpayers'\", \"children's\", \"members'\", \"women's\", \"years'\"]\n",
      "NNS$-HL [\"Dealers'\", \"Idols'\"]\n",
      "NNS$-TL [\"States'\", \"Women's\", \"Princes'\", \"Bombers'\", \"Falcons'\"]\n",
      "NNS-HL ['Wards', 'deputies', 'bonds', 'aspects', 'Decisions']\n",
      "NNS-TL ['Police', 'Roads', 'Legislatures', 'Bankers', 'Reps.']\n",
      "NNS-TL-HL ['Nations']\n"
     ]
    }
   ],
   "source": [
    "tagdict = findtags('NN', nltk.corpus.brown.tagged_words(categories = 'news'))\n",
    "for tag in sorted(tagdict):\n",
    "    print(tag, tagdict[tag])"
   ]
  },
  {
   "cell_type": "markdown",
   "metadata": {},
   "source": [
    "##### Exploring Tagged Corpora"
   ]
  },
  {
   "cell_type": "markdown",
   "metadata": {},
   "source": [
    "Suppose we’re studying the word 'often' and want to see how it is used in text. We could\n",
    "ask to see the words that follow 'often'"
   ]
  },
  {
   "cell_type": "code",
   "execution_count": 27,
   "metadata": {},
   "outputs": [
    {
     "name": "stdout",
     "output_type": "stream",
     "text": [
      "[',', '.', 'accomplished', 'analytically', 'appear', 'apt', 'associated', 'assuming', 'became', 'become', 'been', 'began', 'call', 'called', 'carefully', 'chose', 'classified', 'colorful', 'composed', 'contain', 'differed', 'difficult', 'encountered', 'enough', 'equate', 'extremely', 'found', 'happens', 'have', 'ignored', 'in', 'involved', 'more', 'needed', 'nightly', 'observed', 'of', 'on', 'out', 'quite', 'represent', 'responsible', 'revamped', 'seclude', 'set', 'shortened', 'sing', 'sounded', 'stated', 'still', 'sung', 'supported', 'than', 'to', 'when', 'work']\n"
     ]
    }
   ],
   "source": [
    "brown_learned_text = nltk.corpus.brown.words(categories = 'learned')\n",
    "print(sorted(set(b for (a, b) in nltk.bigrams(brown_learned_text) if a == 'often')))"
   ]
  },
  {
   "cell_type": "code",
   "execution_count": 59,
   "metadata": {},
   "outputs": [
    {
     "name": "stdout",
     "output_type": "stream",
     "text": [
      "['ADJ', 'ADV', 'VERB', 'VERB', 'ADJ', '.', 'VERB', 'VERB', 'VERB', 'VERB', '.', 'VERB', 'ADP', 'VERB', 'VERB', 'VERB', 'VERB', 'ADP', 'ADV', 'PRT', 'VERB', 'VERB', 'ADV', 'VERB', 'VERB', 'VERB', 'VERB', 'ADP', '.', 'ADP', 'VERB', 'VERB', 'ADV', 'VERB', 'ADV', 'ADJ', 'ADP', 'ADV', 'VERB', 'ADJ', 'VERB', 'VERB', 'VERB', 'VERB', 'VERB', 'ADV', 'VERB', 'VERB', 'ADJ', 'VERB', 'ADP', 'ADP', 'ADV', 'VERB', '.', 'PRT', 'VERB', 'VERB', 'VERB', 'VERB', 'ADJ', 'VERB', 'VERB', 'VERB']\n"
     ]
    }
   ],
   "source": [
    "brown_learn_tagged = nltk.corpus.brown.tagged_words(categories = 'learned', tagset = 'universal')\n",
    "tags = [b[1] for (a,b) in nltk.bigrams(brown_learn_tagged) if a[0] == 'often']\n",
    "print(tags)"
   ]
  },
  {
   "cell_type": "code",
   "execution_count": 60,
   "metadata": {
    "scrolled": true
   },
   "outputs": [
    {
     "name": "stdout",
     "output_type": "stream",
     "text": [
      "VERB  ADV  ADP  ADJ    .  PRT \n",
      "  37    8    7    6    4    2 \n"
     ]
    }
   ],
   "source": [
    "fd = nltk.FreqDist(tags)\n",
    "fd.tabulate()"
   ]
  },
  {
   "cell_type": "markdown",
   "metadata": {},
   "source": [
    "**Notice that most high frequency parts-of-speech following 'often' are verbs**"
   ]
  },
  {
   "cell_type": "code",
   "execution_count": 61,
   "metadata": {
    "collapsed": true
   },
   "outputs": [],
   "source": [
    "from nltk.corpus import brown\n",
    "def sent_process(sent):\n",
    "    for (w1, t1), (w2, t2), (w3, t3) in nltk.trigrams(sent):\n",
    "        if t1.startswith('V') and t2==\"TO\" and t3.startswith('V'):\n",
    "            print(w1, w2, w3)"
   ]
  },
  {
   "cell_type": "markdown",
   "metadata": {},
   "source": [
    "Next, let’s look at some larger context, and find words involving particular sequences\n",
    "of tags and words (in this case \" 'verb' to 'verb'\")."
   ]
  },
  {
   "cell_type": "code",
   "execution_count": 62,
   "metadata": {},
   "outputs": [
    {
     "name": "stdout",
     "output_type": "stream",
     "text": [
      "combined to achieve\n",
      "continue to place\n",
      "serve to protect\n",
      "wanted to wait\n",
      "allowed to place\n",
      "expected to become\n",
      "expected to approve\n",
      "expected to make\n",
      "intends to make\n",
      "seek to set\n",
      "like to see\n"
     ]
    }
   ],
   "source": [
    "for tagged_sent in brown.tagged_sents()[:100]:\n",
    "    sent_process(tagged_sent)"
   ]
  },
  {
   "cell_type": "markdown",
   "metadata": {},
   "source": [
    "Finally, let’s look for words that are highly ambiguous as to their part-of-speech tag.\n",
    "Understanding why such words are tagged as they are in each context can help us clarify\n",
    "the distinctions between the tags."
   ]
  },
  {
   "cell_type": "code",
   "execution_count": 63,
   "metadata": {},
   "outputs": [
    {
     "name": "stdout",
     "output_type": "stream",
     "text": [
      "<FreqDist with 4 samples and 31 outcomes>\n",
      "that ADP PRON DET ADV\n",
      "best ADJ ADV VERB NOUN\n",
      "present ADJ ADV NOUN VERB\n",
      "close NOUN ADJ ADV VERB\n",
      "open ADJ ADV VERB NOUN\n"
     ]
    }
   ],
   "source": [
    "brown_news_tagged = brown.tagged_words(categories = 'news', tagset = 'universal')\n",
    "data = nltk.ConditionalFreqDist((word.lower(), tag) for (word, tag) in brown_news_tagged)\n",
    "print(data['best'])\n",
    "for word in data.conditions():\n",
    "    if len(data[word]) > 3:\n",
    "        tags=data[word].keys()\n",
    "        print(word, \" \".join(tags))"
   ]
  },
  {
   "cell_type": "code",
   "execution_count": 64,
   "metadata": {},
   "outputs": [
    {
     "ename": "TypeError",
     "evalue": "app() takes 0 positional arguments but 1 was given",
     "output_type": "error",
     "traceback": [
      "\u001b[1;31m---------------------------------------------------------------------------\u001b[0m",
      "\u001b[1;31mTypeError\u001b[0m                                 Traceback (most recent call last)",
      "\u001b[1;32m<ipython-input-64-c81cac2ec10d>\u001b[0m in \u001b[0;36m<module>\u001b[1;34m()\u001b[0m\n\u001b[1;32m----> 1\u001b[1;33m \u001b[0mnltk\u001b[0m\u001b[1;33m.\u001b[0m\u001b[0mapp\u001b[0m\u001b[1;33m.\u001b[0m\u001b[0mconcordance\u001b[0m\u001b[1;33m(\u001b[0m\u001b[0mbrown\u001b[0m\u001b[1;33m.\u001b[0m\u001b[0mtagged_words\u001b[0m\u001b[1;33m(\u001b[0m\u001b[0mcategories\u001b[0m\u001b[1;33m=\u001b[0m\u001b[1;34m'news'\u001b[0m\u001b[1;33m,\u001b[0m \u001b[0mtagset\u001b[0m \u001b[1;33m=\u001b[0m \u001b[1;34m'universal'\u001b[0m\u001b[1;33m)\u001b[0m\u001b[1;33m)\u001b[0m\u001b[1;33m\u001b[0m\u001b[0m\n\u001b[0m",
      "\u001b[1;31mTypeError\u001b[0m: app() takes 0 positional arguments but 1 was given"
     ]
    }
   ],
   "source": [
    "nltk.app.concordance(brown.tagged_words(categories='news', tagset = 'universal'))"
   ]
  },
  {
   "cell_type": "code",
   "execution_count": null,
   "metadata": {
    "collapsed": true
   },
   "outputs": [],
   "source": [
    "alice_words = nltk.corpus.gutenberg.words('carroll-alice.txt')\n",
    "print(alice_words[:150])"
   ]
  },
  {
   "cell_type": "code",
   "execution_count": null,
   "metadata": {
    "collapsed": true
   },
   "outputs": [],
   "source": [
    "a ={1: 'asaklda', 2:'dsksdfj'}\n",
    "a.items()"
   ]
  },
  {
   "cell_type": "code",
   "execution_count": null,
   "metadata": {
    "collapsed": true
   },
   "outputs": [],
   "source": [
    "fd = nltk.FreqDist(alice_words)\n",
    "fd"
   ]
  },
  {
   "cell_type": "code",
   "execution_count": null,
   "metadata": {
    "collapsed": true
   },
   "outputs": [],
   "source": [
    "list(fd)"
   ]
  },
  {
   "cell_type": "code",
   "execution_count": null,
   "metadata": {
    "collapsed": true
   },
   "outputs": [],
   "source": [
    "v1000 = [word for (word,_) in fd.most_common(1000)]\n",
    "mapping = nltk.defaultdict(lambda : 'UNK')"
   ]
  },
  {
   "cell_type": "code",
   "execution_count": null,
   "metadata": {
    "collapsed": true
   },
   "outputs": [],
   "source": [
    "for v in v1000:\n",
    "    mapping[v] = v; "
   ]
  },
  {
   "cell_type": "code",
   "execution_count": null,
   "metadata": {
    "collapsed": true
   },
   "outputs": [],
   "source": [
    "alice2 = [mapping[v] for v in alice_words]\n",
    "print(alice2[:100])"
   ]
  },
  {
   "cell_type": "code",
   "execution_count": null,
   "metadata": {
    "collapsed": true
   },
   "outputs": [],
   "source": [
    "fd.most_common(1000)"
   ]
  },
  {
   "cell_type": "code",
   "execution_count": null,
   "metadata": {
    "collapsed": true
   },
   "outputs": [],
   "source": [
    "from collections import defaultdict\n",
    "counts = defaultdict(int)\n",
    "for (word, tag) in brown.tagged_words(categories = 'news', tagset = 'universal'):\n",
    "    counts[tag] += 1\n",
    "counts['NOUN']"
   ]
  },
  {
   "cell_type": "code",
   "execution_count": null,
   "metadata": {
    "collapsed": true
   },
   "outputs": [],
   "source": [
    "print(sorted(counts))"
   ]
  },
  {
   "cell_type": "code",
   "execution_count": null,
   "metadata": {
    "collapsed": true
   },
   "outputs": [],
   "source": [
    "from operator import itemgetter\n",
    "sorted(counts.items(), key = itemgetter(1), reverse = True)\n"
   ]
  },
  {
   "cell_type": "code",
   "execution_count": null,
   "metadata": {
    "collapsed": true
   },
   "outputs": [],
   "source": [
    "#index words according to their last two letters\n",
    "last_letters = defaultdict(list)\n",
    "words = nltk.corpus.words.words('en')\n",
    "for word in words:\n",
    "    key = word[-2:]\n",
    "    last_letters[key].append(word)\n",
    "print(last_letters['ly'][:50])"
   ]
  },
  {
   "cell_type": "code",
   "execution_count": null,
   "metadata": {
    "collapsed": true
   },
   "outputs": [],
   "source": [
    "print(last_letters['zy'])"
   ]
  },
  {
   "cell_type": "code",
   "execution_count": null,
   "metadata": {
    "collapsed": true
   },
   "outputs": [],
   "source": [
    "sorted('mohit')"
   ]
  },
  {
   "cell_type": "code",
   "execution_count": null,
   "metadata": {
    "collapsed": true
   },
   "outputs": [],
   "source": [
    "#making a dictionary anagram 'words' with same letters\n",
    "anagram = defaultdict(list)\n",
    "for word in words:\n",
    "    key = ''.join(sorted(word))\n",
    "    anagram[key].append(word)\n",
    "anagram['aeilnrt']"
   ]
  },
  {
   "cell_type": "markdown",
   "metadata": {},
   "source": [
    "**Since accumulating words like this is such a common task, NLTK provides a more convenient way of creating a defaultdict(list), in the form of nltk.Index().**"
   ]
  },
  {
   "cell_type": "code",
   "execution_count": null,
   "metadata": {
    "collapsed": true
   },
   "outputs": [],
   "source": [
    "anagrams = nltk.Index((''.join(sorted(w)), w) for w in words)\n",
    "anagrams['aeilnrt']"
   ]
  },
  {
   "cell_type": "markdown",
   "metadata": {},
   "source": [
    "**nltk.Index is a defaultdict(list) with extra support for initialization. Similarly, nltk.FreqDist is essentially a defaultdict(int) with extra support for initialization (along with sorting and plotting methods).**"
   ]
  },
  {
   "cell_type": "markdown",
   "metadata": {},
   "source": [
    "##### Complex Keys and Values"
   ]
  },
  {
   "cell_type": "code",
   "execution_count": 10,
   "metadata": {},
   "outputs": [
    {
     "data": {
      "text/plain": [
       "defaultdict(int, {'ADJ': 11, 'NOUN': 5})"
      ]
     },
     "execution_count": 10,
     "metadata": {},
     "output_type": "execute_result"
    }
   ],
   "source": [
    "pos = defaultdict(lambda : defaultdict(int))\n",
    "brown_news_tagged = brown.tagged_words(categories = 'news', tagset = 'universal')\n",
    "for ((w1, t1), (w2, t2)) in nltk.bigrams(brown_news_tagged):\n",
    "    pos[(t1, w2)][t2] +=1\n",
    "pos['DET', 'right']"
   ]
  },
  {
   "cell_type": "markdown",
   "metadata": {},
   "source": [
    "This example uses a dictionary whose default value for an entry is a dictionary (whose default value is int(), i.e. zero). Notice how we iterated over the bigrams of the tagged corpus, processing a pair of word-tag pairs for each iteration [1]. Each time through the loop we updated our pos dictionary's entry for (t1, w2), a tag and its following word [2]. When we look up an item in pos we must specify a compound key [3], and we get back a dictionary object. A POS tagger could use such information to decide that the word right, when preceded by a determiner, should be tagged as ADJ."
   ]
  },
  {
   "cell_type": "markdown",
   "metadata": {},
   "source": [
    "##### Inverting a Dictionary"
   ]
  },
  {
   "cell_type": "markdown",
   "metadata": {},
   "source": [
    "Dictionaries are efficient if using a key to find its values. Finding a key given a value is slower and more cumbersome:\n",
    "\n"
   ]
  },
  {
   "cell_type": "code",
   "execution_count": null,
   "metadata": {
    "collapsed": true
   },
   "outputs": [],
   "source": [
    "counts = defaultdict(int)\n",
    "for word in nltk.corpus.gutenberg.words('milton-paradise.txt'):\n",
    "    counts[word] += 1\n",
    "print([key for (key, value) in counts.items() if value == 32])"
   ]
  },
  {
   "cell_type": "markdown",
   "metadata": {},
   "source": [
    "If we expect to do this kind of \"reverse lookup\" often, it helps to construct a dictionary that maps values to keys. In the case that no two keys have the same value, this is an easy thing to do. We just get all the key-value pairs in the dictionary, and create a new dictionary of value-key pairs. The next example also illustrates another way of initializing a dictionary pos with key-value pairs."
   ]
  },
  {
   "cell_type": "code",
   "execution_count": null,
   "metadata": {
    "collapsed": true
   },
   "outputs": [],
   "source": [
    "pos = {'colorless': 'ADJ', 'ideas': 'N', 'sleep': 'V', 'furiously': 'ADV'}\n",
    "pos2 = dict((value, key) for (key, value) in pos.items())\n",
    "pos2"
   ]
  },
  {
   "cell_type": "code",
   "execution_count": null,
   "metadata": {
    "collapsed": true
   },
   "outputs": [],
   "source": [
    "pos.update({'cats': 'N', 'scratch': 'V', 'peacefully': 'ADV', 'old': 'ADJ'})\n",
    "pos"
   ]
  },
  {
   "cell_type": "code",
   "execution_count": null,
   "metadata": {
    "collapsed": true
   },
   "outputs": [],
   "source": [
    "pos2 = defaultdict(list)\n",
    "for key, value in pos.items():\n",
    "    pos2[value].append(key)\n",
    "pos2['ADV']"
   ]
  },
  {
   "cell_type": "code",
   "execution_count": null,
   "metadata": {
    "collapsed": true
   },
   "outputs": [],
   "source": [
    "pos2 = nltk.Index((value, key) for key, value in pos.items())\n",
    "pos2['ADV']"
   ]
  },
  {
   "cell_type": "markdown",
   "metadata": {},
   "source": [
    "### Automatic Tagging"
   ]
  },
  {
   "cell_type": "markdown",
   "metadata": {},
   "source": [
    "**Tag of a word depends on the word and its context within a sentence**"
   ]
  },
  {
   "cell_type": "code",
   "execution_count": 12,
   "metadata": {
    "collapsed": true
   },
   "outputs": [],
   "source": [
    "brown_tagged_sents = brown.tagged_sents(categories = 'news')\n",
    "brown_sents = brown.sents(categories = 'news')"
   ]
  },
  {
   "cell_type": "code",
   "execution_count": 70,
   "metadata": {},
   "outputs": [
    {
     "name": "stdout",
     "output_type": "stream",
     "text": [
      "[[('The', 'AT'), ('Fulton', 'NP-TL'), ('County', 'NN-TL'), ('Grand', 'JJ-TL'), ('Jury', 'NN-TL'), ('said', 'VBD'), ('Friday', 'NR'), ('an', 'AT'), ('investigation', 'NN'), ('of', 'IN'), (\"Atlanta's\", 'NP$'), ('recent', 'JJ'), ('primary', 'NN'), ('election', 'NN'), ('produced', 'VBD'), ('``', '``'), ('no', 'AT'), ('evidence', 'NN'), (\"''\", \"''\"), ('that', 'CS'), ('any', 'DTI'), ('irregularities', 'NNS'), ('took', 'VBD'), ('place', 'NN'), ('.', '.')], [('The', 'AT'), ('jury', 'NN'), ('further', 'RBR'), ('said', 'VBD'), ('in', 'IN'), ('term-end', 'NN'), ('presentments', 'NNS'), ('that', 'CS'), ('the', 'AT'), ('City', 'NN-TL'), ('Executive', 'JJ-TL'), ('Committee', 'NN-TL'), (',', ','), ('which', 'WDT'), ('had', 'HVD'), ('over-all', 'JJ'), ('charge', 'NN'), ('of', 'IN'), ('the', 'AT'), ('election', 'NN'), (',', ','), ('``', '``'), ('deserves', 'VBZ'), ('the', 'AT'), ('praise', 'NN'), ('and', 'CC'), ('thanks', 'NNS'), ('of', 'IN'), ('the', 'AT'), ('City', 'NN-TL'), ('of', 'IN-TL'), ('Atlanta', 'NP-TL'), (\"''\", \"''\"), ('for', 'IN'), ('the', 'AT'), ('manner', 'NN'), ('in', 'IN'), ('which', 'WDT'), ('the', 'AT'), ('election', 'NN'), ('was', 'BEDZ'), ('conducted', 'VBN'), ('.', '.')], ...]\n"
     ]
    }
   ],
   "source": [
    "print(brown_tagged_sents)"
   ]
  },
  {
   "cell_type": "markdown",
   "metadata": {},
   "source": [
    "##### The Default Trigger"
   ]
  },
  {
   "cell_type": "markdown",
   "metadata": {},
   "source": [
    "The simplest possible tagger assigns the same tag to each token"
   ]
  },
  {
   "cell_type": "code",
   "execution_count": 71,
   "metadata": {},
   "outputs": [
    {
     "data": {
      "text/plain": [
       "'NN'"
      ]
     },
     "execution_count": 71,
     "metadata": {},
     "output_type": "execute_result"
    }
   ],
   "source": [
    "tags = [tag for word, tag in brown.tagged_words(categories = 'news')]\n",
    "fd = nltk.FreqDist(tags)\n",
    "fd.max()"
   ]
  },
  {
   "cell_type": "code",
   "execution_count": 72,
   "metadata": {},
   "outputs": [
    {
     "data": {
      "text/plain": [
       "[('I', 'NN'),\n",
       " ('do', 'NN'),\n",
       " ('not', 'NN'),\n",
       " ('like', 'NN'),\n",
       " ('green', 'NN'),\n",
       " ('eggs', 'NN'),\n",
       " ('and', 'NN'),\n",
       " ('ham', 'NN'),\n",
       " (',', 'NN'),\n",
       " ('I', 'NN'),\n",
       " ('do', 'NN'),\n",
       " ('not', 'NN'),\n",
       " ('like', 'NN'),\n",
       " ('them', 'NN'),\n",
       " ('Sam', 'NN'),\n",
       " ('I', 'NN'),\n",
       " ('am', 'NN'),\n",
       " ('!', 'NN')]"
      ]
     },
     "execution_count": 72,
     "metadata": {},
     "output_type": "execute_result"
    }
   ],
   "source": [
    "raw = 'I do not like green eggs and ham, I do not like them Sam I am!'\n",
    "tokens = nltk.word_tokenize(raw)\n",
    "default_tagger = nltk.DefaultTagger('NN')\n",
    "default_tagger.tag(tokens)"
   ]
  },
  {
   "cell_type": "markdown",
   "metadata": {},
   "source": [
    "##### the Regular Expression Tagger"
   ]
  },
  {
   "cell_type": "markdown",
   "metadata": {},
   "source": [
    "The regular expression tagger assigns tags to tokens on the basis of matching patterns. For instance, we might guess that any word ending in ed is the past participle of a verb, and any word ending with 's is a possessive noun."
   ]
  },
  {
   "cell_type": "code",
   "execution_count": 73,
   "metadata": {
    "collapsed": true
   },
   "outputs": [],
   "source": [
    "patterns = [\n",
    "     (r'.*ing$', 'VBG'),               # gerunds\n",
    "     (r'.*ed$', 'VBD'),                # simple past\n",
    "     (r'.*es$', 'VBZ'),                # 3rd singular present\n",
    "     (r'.*ould$', 'MD'),               # modals\n",
    "     (r'.*\\'s$', 'NN$'),               # possessive nouns\n",
    "     (r'.*s$', 'NNS'),                 # plural nouns\n",
    "     (r'^-?[0-9]+(.[0-9]+)?$', 'CD'),  # cardinal numbers\n",
    "     (r'.*', 'NN')                     # nouns (default)\n",
    " ]"
   ]
  },
  {
   "cell_type": "code",
   "execution_count": 74,
   "metadata": {},
   "outputs": [
    {
     "data": {
      "text/plain": [
       "[('``', 'NN'),\n",
       " ('Only', 'NN'),\n",
       " ('a', 'NN'),\n",
       " ('relative', 'NN'),\n",
       " ('handful', 'NN'),\n",
       " ('of', 'NN'),\n",
       " ('such', 'NN'),\n",
       " ('reports', 'NNS'),\n",
       " ('was', 'NNS'),\n",
       " ('received', 'VBD'),\n",
       " (\"''\", 'NN'),\n",
       " (',', 'NN'),\n",
       " ('the', 'NN'),\n",
       " ('jury', 'NN'),\n",
       " ('said', 'NN'),\n",
       " (',', 'NN'),\n",
       " ('``', 'NN'),\n",
       " ('considering', 'VBG'),\n",
       " ('the', 'NN'),\n",
       " ('widespread', 'NN'),\n",
       " ('interest', 'NN'),\n",
       " ('in', 'NN'),\n",
       " ('the', 'NN'),\n",
       " ('election', 'NN'),\n",
       " (',', 'NN'),\n",
       " ('the', 'NN'),\n",
       " ('number', 'NN'),\n",
       " ('of', 'NN'),\n",
       " ('voters', 'NNS'),\n",
       " ('and', 'NN'),\n",
       " ('the', 'NN'),\n",
       " ('size', 'NN'),\n",
       " ('of', 'NN'),\n",
       " ('this', 'NNS'),\n",
       " ('city', 'NN'),\n",
       " (\"''\", 'NN'),\n",
       " ('.', 'NN')]"
      ]
     },
     "execution_count": 74,
     "metadata": {},
     "output_type": "execute_result"
    }
   ],
   "source": [
    "regexp_tagger= nltk.RegexpTagger(patterns)\n",
    "regexp_tagger.tag(brown_sents[3])"
   ]
  },
  {
   "cell_type": "code",
   "execution_count": 75,
   "metadata": {},
   "outputs": [
    {
     "data": {
      "text/plain": [
       "0.20326391789486245"
      ]
     },
     "execution_count": 75,
     "metadata": {},
     "output_type": "execute_result"
    }
   ],
   "source": [
    "regexp_tagger.evaluate(brown_tagged_sents)"
   ]
  },
  {
   "cell_type": "markdown",
   "metadata": {},
   "source": [
    "##### The Lookup Tagger"
   ]
  },
  {
   "cell_type": "code",
   "execution_count": 76,
   "metadata": {},
   "outputs": [
    {
     "data": {
      "text/plain": [
       "0.45578495136941344"
      ]
     },
     "execution_count": 76,
     "metadata": {},
     "output_type": "execute_result"
    }
   ],
   "source": [
    "fd = nltk.FreqDist(brown.words(categories = 'news'))\n",
    "cfd = nltk.ConditionalFreqDist(brown.tagged_words(categories = 'news'))\n",
    "most_freq_words = fd.most_common(100)\n",
    "likely_tags = dict((word, cfd[word].max()) for (word, _) in most_freq_words)\n",
    "baseline_tagger = nltk.UnigramTagger(model = likely_tags)\n",
    "baseline_tagger.evaluate(brown_tagged_sents)"
   ]
  },
  {
   "cell_type": "code",
   "execution_count": 77,
   "metadata": {},
   "outputs": [
    {
     "name": "stdout",
     "output_type": "stream",
     "text": [
      "dict_keys(['The', 'Fulton', 'County', 'Grand', 'Jury', 'said', 'Friday', 'an', 'investigation', 'of', \"Atlanta's\", 'recent', 'primary', 'election', 'produced', '``', 'no', 'evidence', \"''\", 'that', 'any', 'irregularities', 'took', 'place', '.', 'jury', 'further', 'in', 'term-end', 'presentments', 'the', 'City', 'Executive', 'Committee', ',', 'which', 'had', 'over-all', 'charge', 'deserves', 'praise', 'and', 'thanks', 'Atlanta', 'for', 'manner', 'was', 'conducted', 'September-October', 'term', 'been', 'charged', 'by', 'Superior', 'Court', 'Judge', 'Durwood', 'Pye', 'to', 'investigate', 'reports', 'possible', 'hard-fought', 'won', 'Mayor-nominate', 'Ivan', 'Allen', 'Jr.', 'Only', 'a', 'relative', 'handful', 'such', 'received', 'considering', 'widespread', 'interest', 'number', 'voters', 'size', 'this', 'city', 'it', 'did', 'find', 'many', \"Georgia's\", 'registration', 'laws', 'are', 'outmoded', 'or', 'inadequate', 'often', 'ambiguous', 'It', 'recommended', 'legislators', 'act', 'have', 'these', 'studied', 'revised', 'end', 'modernizing', 'improving', 'them', 'grand', 'commented', 'on', 'other', 'topics', 'among', 'purchasing', 'departments', 'well', 'operated', 'follow', 'generally', 'accepted', 'practices', 'inure', 'best', 'both', 'governments', 'Merger', 'proposed', 'However', 'believes', 'two', 'offices', 'should', 'be', 'combined', 'achieve', 'greater', 'efficiency', 'reduce', 'cost', 'administration', 'Purchasing', 'Department', 'is', 'lacking', 'experienced', 'clerical', 'personnel', 'as', 'result', 'policies', 'urged', 'take', 'steps', 'remedy', 'problem', 'Implementation', 'automobile', 'title', 'law', 'also', 'outgoing', 'next', 'Legislature', 'provide', 'enabling', 'funds', 're-set', 'effective', 'date', 'so', 'orderly', 'implementation', 'may', 'effected', 'swipe', 'at', 'State', 'Welfare', \"Department's\", 'handling', 'federal', 'granted', 'child', 'welfare', 'services', 'foster', 'homes', 'This', 'one', 'major', 'items', 'general', 'assistance', 'program', 'but', 'has', 'seen', 'fit', 'distribute', 'through', 'all', 'counties', 'state', 'with', 'exception', 'receives', 'none', 'money', 'jurors', 'they', 'realize', 'proportionate', 'distribution', 'might', 'disable', 'our', 'less', 'populous', 'Nevertheless', 'we', 'feel', 'future', 'receive', 'some', 'portion', 'available', 'Failure', 'do', 'will', 'continue', 'disproportionate', 'burden', 'taxpayers', \"ordinary's\", 'court', 'under', 'fire', 'its', 'appointment', 'appraisers', 'guardians', 'administrators', 'awarding', 'fees', 'compensation', 'Wards', 'protected', 'found', 'incorporated', 'into', 'operating', 'procedures', 'recommendations', 'previous', 'juries', 'Bar', 'Association', 'interim', 'citizens', 'committee', 'These', 'actions', 'serve', 'protect', 'fact', 'effect', \"court's\", 'wards', 'from', 'undue', 'costs', 'appointed', 'elected', 'servants', 'unmeritorious', 'criticisms', 'Regarding', 'new', 'multi-million-dollar', 'airport', 'when', 'management', 'takes', 'Jan.', '1', 'eliminate', 'political', 'influences', 'not', 'elaborate', 'added', 'there', 'periodic', 'surveillance', 'pricing', 'concessionaires', 'purpose', 'keeping', 'prices', 'reasonable', 'Ask', 'jail', 'deputies', 'On', 'matters', ':', '(', ')', 'Four', 'additional', 'employed', 'Jail', 'doctor', 'medical', 'intern', 'extern', 'night', 'weekend', 'duty', '2', 'work', 'officials', 'pass', 'legislation', 'permit', 'establishment', 'fair', 'equitable', 'pension', 'plan', 'employes', 'praised', 'operation', 'Police', 'Tax', \"Commissioner's\", 'Office', 'Bellwood', 'Alpharetta', 'prison', 'farms', 'Grady', 'Hospital', 'Health', 'Mayor', 'William', 'B.', 'Hartsfield', 'filed', 'suit', 'divorce', 'his', 'wife', 'Pearl', 'Williams', 'His', 'petition', 'mental', 'cruelty', 'couple', 'married', 'Aug.', '1913', 'They', 'son', 'Berry', 'daughter', 'Mrs.', 'J.', 'M.', 'Cheshire', 'Griffin', 'Attorneys', 'mayor', 'amicable', 'property', 'settlement', 'agreed', 'upon', 'listed', \"mayor's\", 'occupation', 'attorney', 'age', '71', \"wife's\", '74', 'birth', 'Opelika', 'Ala.', 'lived', 'together', 'man', 'more', 'than', 'year', 'home', '637', 'E.', 'Pelham', 'Rd.', 'Aj', 'Henry', 'L.', 'Bowden', 'brief', 'interlude', 'since', '1937', 'career', 'goes', 'back', 'council', '1923', 'present', 'office', 'expires', 'He', 'succeeded', 'who', 'became', 'candidate', 'Sept.', '13', 'after', 'announced', 'he', 'would', 'run', 'reelection', 'Georgia', 'Republicans', 'getting', 'strong', 'encouragement', 'enter', '1962', \"governor's\", 'race', 'top', 'official', 'Wednesday', 'Robert', 'Snodgrass', 'GOP', 'chairman', 'meeting', 'held', 'Tuesday', 'Blue', 'Ridge', 'brought', 'enthusiastic', 'responses', 'audience', 'Party', 'Chairman', 'James', 'W.', 'Dorsey', 'enthusiasm', 'picking', 'up', 'rally', '8', 'Savannah', 'newly', 'Texas', 'Sen.', 'John', 'Tower', 'featured', 'speaker', 'In', 'warned', 'entering', 'governor', 'force', 'petitions', 'out', 'voting', 'precincts', 'obtain', 'signatures', 'registered', 'Despite', 'warning', 'unanimous', 'vote', 'according', 'attended', 'When', 'crowd', 'asked', 'whether', 'wanted', 'wait', 'make', 'voted', '--', 'were', 'dissents', 'largest', 'hurdle', 'face', 'says', 'before', 'making', 'first', 'alternative', 'courses', 'must', 'taken', 'Five', 'per', 'cent', 'each', 'county', 'sign', 'requesting', 'allowed', 'names', 'candidates', 'ballot', 'hold', 'unit', 'system', 'party', 'opposes', 'platform', 'Sam', 'Caldwell', 'Highway', 'public', 'relations', 'director', 'resigned', 'Lt.', 'Gov.', 'Garland', \"Byrd's\", 'campaign', \"Caldwell's\", 'resignation', 'expected', 'time', 'Rob', 'Ledford', 'Gainesville', 'assistant', 'three', 'years', 'gubernatorial', 'starts', 'become', 'coordinator', 'Byrd', 'wind', '1961', 'session', 'Monday', 'head', 'where', 'highway', 'bond', 'approved', 'shortly', 'Before', 'adjournment', 'afternoon', 'Senate', 'approve', 'study', 'allotted', 'rural', 'urban', 'areas', 'determine', 'what', 'adjustments', 'made', 'Vandiver', 'traditional', 'visit', 'chambers', 'toward', 'likely', 'mention', '$100', 'million', 'issue', 'earlier', 'priority', 'item', 'Construction', 'bonds', 'Meanwhile', 'learned', 'very', 'near', 'being', 'ready', '$30', 'worth', 'reconstruction', 'go', 'courts', 'friendly', 'test', 'validity', 'then', 'sales', 'begin', 'contracts', 'let', 'repair', 'most', 'heavily', 'traveled', 'highways', 'A', 'source', '$3', '$4', 'Rural', 'Roads', 'Authority', 'road', 'construction', 'revolving', 'fund', 'department', 'apparently', 'intends', 'issued', 'every', 'old', 'ones', 'paid', 'off', 'tax', 'authorities', 'opened', '1958', 'battle', 'against', 'issuance', '$50', 'roads', 'Marvin', 'told', 'Constitution', 'however', 'consulted', 'yet', 'about', 'plans', 'Schley', 'Rep.', 'D.', 'offer', 'resolution', 'House', 'rescind', \"body's\", 'action', 'itself', '$10', 'day', 'increase', 'expense', 'allowances', 'Sunday', 'research', 'done', 'quickie', 'can', 'repealed', 'outright', 'notice', 'given', 'reconsideration', 'sought', 'While', 'emphasizing', 'technical', 'details', 'fully', 'worked', 'seek', 'set', 'aside', 'privilege', '87-31', 'similar', 'passed', '29-5', 'As', 'word', 'offered', 'pointed', 'last', 'November', 'rejected', 'constitutional', 'amendment', 'allow', 'pay', 'raises', 'sessions', 'veteran', 'Jackson', 'legislator', 'ask', 'aid', 'education', 'something', 'consistently', 'opposed', 'past', 'Mac', 'Barber', 'Commerce', 'asking', 'endorse', 'increased', 'support', 'provided', 'expended', '13th', 'members', 'congressional', 'delegation', 'Washington', 'like', 'see', 'But', 'congressmen', 'specifically', 'him', 'tossed', 'hopper', 'formally', 'read', 'event', 'Congress', 'does', 'Board', 'Education', 'directed', 'give', 'teacher', 'Colquitt', 'After', 'long', 'hot', 'controversy', 'Miller', 'school', 'superintendent', 'policeman', 'put', 'coolest', 'I', 'ever', 'saw', 'Harry', 'Davis', 'agriculture', 'defeated', 'Felix', 'Bush', 'principal', 'Democratic', '1,119', 'votes', \"Saturday's\", 'got', '402', 'Ordinary', 'Carey', 'armed', 'pistol', 'stood', 'polls', 'insure', 'order', 'calmest', 'Policeman', 'Tom', 'Being', 'just', 'church', \"didn't\", 'smell', 'drop', 'liquor', 'bit', 'trouble', 'leading', 'quiet', 'marked', 'anonymous', 'midnight', 'phone', 'calls', 'veiled', 'threats', 'violence', 'former', 'George', 'P.', 'Callan', 'shot', 'himself', 'death', 'March', '18', 'four', 'days', 'post', 'dispute', 'board', 'During', 'reportedly', 'telephone', 'too', 'subjected', 'soon', 'scheduled', 'Many', 'local', 'feared', 'carry', 'gun', 'promised', 'Sheriff', 'Tabb', 'ordinary', 'good', 'promise', 'Everything', 'went', 'real', 'smooth', 'sheriff', 'There', \"wasn't\", 'Austin', 'approval', 'Price', \"Daniel's\", 'abandoned', 'seemed', 'certain', 'Thursday', 'despite', 'adamant', 'protests', 'bankers', 'Daniel', 'personally', 'led', 'fight', 'measure', 'watered', 'down', 'considerably', 'rejection', 'Legislatures', 'hearing', 'Revenue', 'Taxation', 'Under', 'rules', 'automatically', 'subcommittee', 'week', 'questions', 'taunted', 'appearing', 'witnesses', 'left', 'little', 'doubt', 'recommend', 'passage', 'termed', 'extremely', 'conservative', 'estimate', 'produce', '17', 'dollars', 'help', 'erase', 'anticipated', 'deficit', '63', 'current', 'fiscal', '31', 'merely', 'means', 'enforcing', 'escheat', 'books', 'republic', 'permits', 'over', 'bank', 'accounts', 'stocks', 'personal', 'persons', 'missing', 'seven', 'bill', 'drafted', 'banks', 'insurance', 'firms', 'pipeline', 'companies', 'corporations', 'report', 'treasurer', 'cannot', 'enforced', 'now', 'because', 'almost', 'impossible', 'locate', 'declared', 'Dewey', 'Lawrence', 'Tyler', 'lawyer', 'representing', 'Bankers', 'sounded', 'opposition', 'keynote', 'violate', 'their', 'contractual', 'obligations', 'depositors', 'undermine', 'confidence', 'customers', 'If', 'you', 'destroy', 'economy', 'You', 'circulation', 'millions', 'Charles', 'Hughes', 'Sherman', 'sponsor', 'failure', 'enact', 'amount', 'gift', \"taxpayers'\", 'pockets', 'contention', 'denied', 'several', 'including', 'Scott', 'Hudson', 'Gaynor', 'Jones', 'Houston', 'Brady', 'Harlingen', 'Howard', 'Cox', 'argued', 'probably', 'unconstitutional', 'impair', 'complained', 'enough', 'introduced', 'only', 'Senators', 'unanimously', 'Parkhouse', 'Dallas', 'authorizing', 'schools', 'deaf', 'designed', 'special', 'schooling', 'students', 'scholastic', 'reduced', 'debate', 'authorize', 'Agency', 'establish', 'county-wide', '300,000', 'population', 'require', 'children', 'between', '6', 'attend', 'permitting', 'older', 'residential', 'School', 'Deaf', 'here', 'Operating', 'budget', 'five', 'Harris', 'Bexar', 'Tarrant', 'El', 'Paso', '$451,500', 'savings', '$157,460', 'yearly', \"year's\", 'capital', 'outlay', '$88,000', 'absorbed', 'TEA', 'estimated', '182', 'scholastics', 'saving', 'coming', 'live', 'get', 'hear', 'horse', 'parimutuels', 'Reps.', 'V.', 'Red', 'Joe', 'Ratcliff', 'still', 'expects', 'tell', 'folks', 'why', 'thinks', \"Berry's\", \"We're\", \"'\", 'pro', 'letters', 'con', 'betting', 'believe', 'if', 'people', 'better', 'informed', 'question', 'oppose', \"I'm\", 'willing', 'stake', 'my', 'ex-gambler', 'San', 'Antonio', 'advocacy', 'ponies', 'heard', 'option', 'proposal', 'favorable', 'although', 'faces', 'hard', 'sledding', 'later', 'house', 'finally', 'sent', 'extending', 'authority', 'planning', 'cities', 'senate', 'quickly', 'whipped', 'meager', 'fare', 'bills', 'committees', 'passing', 'calendar', 'One', 'validated', 'acts', 'districts', 'Another', 'enlarged', 'Beaumont', 'Navigation', 'District', 'third', 'amended', 'creation', 'Lamar', 'previously', 'adopted', 'Without', 'dissent', 'senators', 'A.', 'R.', 'Schwartz', 'Galveston', 'mentally', 'retarded', 'Gulf', 'Coast', 'district', 'Money', 'meantime', 'accept', 'gifts', 'donations', 'site', 'Two', 'revision', 'Louis', 'Crump', 'Saba', '17,000', 'retailers', 'group', 'miscellaneous', 'excise', 'taxes', 'eliminating', 'requirement', 'return', 'notarized', 'Instead', 'certificate', 'correctness', 'violation', 'penalty', 'plus', '$1,000', 'fine', 'series', 'Research', 'League', 'Aikin', 'Paris', 'relieve', 'estate', 'brokers', 'own', 'annual', 'licensing', 'fee', '$12', 'license', 'Natural', 'gas', 'utility', 'right', 'eminent', 'domain', 'Frank', 'Owen', '3', 'acquire', 'sites', 'underground', 'storage', 'reservoirs', 'Marshall', 'Formby', 'Plainview', 'Commission', 'suggested', 'fill', 'vacancies', 'need', 'costly', 'elections', \"Formby's\", 'appointee', 'selected', 'composed', 'lieutenant', 'chief', 'justice', 'Supreme', 'representatives', 'decided', 'taking', 'poll', 'kind', 'Texans', 'prefer', 'An', 'adverse', '81', '65', 'kept', 'Affairs', 'referendum', 'April', '4', 'U.S.', 'senator', 'Wesley', 'Roberts', 'Seminole', 'idea', 'delay', 'kill', 'West', 'Texan', 'reported', 'gotten', 'Bill', 'Hollowell', 'Feb.', '22', 'final', 'legislative', 'two-thirds', 'majorities', 'printed', 'Opponents', \"couldn't\", 'information', 'proposals', 'intelligent', 'choice', 'All', 'except', 'absent', 'Paradise', 'lost', 'alleged', 'water', 'needs', \"Texas'\", 'big', 'Cotten', 'Weatherford', 'insisted', 'development', 'Representatives', 'effort', 'Fort', 'Worth', 'cover', 'places', 'Wise', 'hamlet', '250', 'shouting', 'ended', '114', 'sending', 'sponsored', 'Most', '$5,000,000', '$15,000,000', 'maximum', 'loan', 'could', 'project', 'construed', 'large', 'felt', 'spent', 'providing', 'Statements', 'paying', 'benefit', 'pending', 'sway', \"Cotten's\", 'attack', \"bill's\", 'defenders', 'mostly', 'small-town', 'Buchanan', 'Dumas', 'Eligio', 'Kika', 'De', 'La', 'Garza', 'Mission', 'F.', 'Collins', 'Newton', 'Chapman', 'Sulphur', 'Springs', 'poor', \"boy's\", 'peanut', 'serving', 'reducing', 'learning', 'educational', 'methods', 'C.', 'Grover', 'teaches', 'history', '24', '12', 'semester', 'hours', 'so-called', 'teaching', 'required', 'junior', 'senior', 'high', 'normal', 'college', '30', 'junior-senior', 'teachers', 'least', 'credit', 'subject', 'remainder', '4-year', 'subjects', 'person', \"master's\", 'degree', 'physics', 'chemistry', 'math', 'English', 'permitted', 'teach', 'College', 'Fifty-three', '150', 'immediately', 'joined', 'co-signers', 'sp.', 'regents', 'Junior', 'named', 'Dr.', 'Clarence', 'Clark', 'Hays', 'Kan.', \"school's\", 'president', 'succeed', 'McLemore', 'retire', 'close', 'holds', 'earned', 'Doctor', 'University', 'Oklahoma', 'Master', 'Science', '&', 'Bachelor', 'Southwestern', 'Okla.', 'addition', 'Rhode', 'Island', 'Massachusetts', 'Institute', 'Technology', 'captain', 'basketball', 'team', 'football', 'letterman', 'served', 'athletic', 'Raymondville', 'High', 'instructor', 'associate', 'professor', 'border', 'patrolman', 'Signal', 'Corps', 'Army', 'Denton', 'Principals', 'Independent', 're-elected', '1961-62', 'recommendation', 'Supt.', 'Chester', 'O.', 'Strickland', 'racial', 'discrimination', 'employment', 'called', 'yesterday', 'blue', 'ribbon', 'dependent', 'culminating', 'ADC', 'Cook', 'New', 'York', 'consulting', 'firm', '10', 'range', 'soaring', 'case', 'load', 'serious', 'causes', 'family', 'breakdown', 'desertion', 'dependency', 'Must', 'solve', 'monthly', '100,000', 'recipients', '4.4', 'Virgil', 'Martin', 'Carson', 'Pirie', 'Co.', 'We', 'problems', 'forced', 'depend', 'subsistence', 'volume', 'cases', 'decrease', 'community', 'able', 'deal', 'effectively', 'Relatively', 'limited', 'skills', 'color', 'underlying', 'breakups', 'Calls', 'extension', 'Other', 'Extension', 'living', 'relatives', 'parents', 'preserving', 'unity', 'projects', 'prevention', 'illegitimacy', 'Several', 'defendants', 'Summerdale', 'police', 'burglary', 'trial', 'statements', 'indicating', 'guilt', 'arrest', 'Parsons', 'Criminal', 'disclosure', 'Bellows', 'defense', 'counsel', 'startled', 'observers', 'viewed', 'prelude', 'quarrel', 'six', 'attorneys', 'eight', 'policemen', 'grant', 'client', 'Alan', 'Clements', 'separate', 'request', 'while', 'all-woman', 'courtroom', 'Fears', 'prejudicial', 'aspects', 'highly', 'Some', 'strongly', 'indicated', 'knew', 'receiving', 'stolen', 'involving', 'themselves', 'others', 'leaned', 'bench', 'inquired', 'mean', 'admitting', '?', 'Yes', 'your', 'honor', 'replied', 'What', 'amounts', 'true', 'free-for-all', 'conflict', 'July', 'President', 'Kennedy', 'today', 'pushed', 'White', 'business', 'devote', 'attention', 'working', 'Berlin', 'crisis', 'address', 'deliver', 'tomorrow', 'American', 'nationwide', 'television', 'radio', 'much', 'week-end', 'summer', 'Cape', 'Cod', 'writing', 'drafts', 'portions', 'aids', 'whom', 'talked', 'Shortly', 'Chief', 'returned', 'midmorning', 'Hyannis', 'Port', 'Mass.', 'spokesman', 'text', 'quite', 'way', 'completion', 'Decisions', 'Asked', 'Pierre', 'Salinger', 'press', 'secretary', 'say', \"it's\", 'thru', 'advisers', 'staff', 'doing', 'involved', 'composition', 'wording', 'rather', 'minute', 'decisions', 'meet', 'latest', 'precipitated', \"Russia's\", 'demands', 'Nov.', 'dismissed', 'Acting', 'Karns', 'prosecution', 'obtained', 'unfair', 'fundamentally', 'illegal', 'matter', 'even', 'significance', 'innocence', '50', 'legal', 'rights', \"Karns'\", 'ruling', 'pertained', 'ruled', 'unable', 'Contempt', 'proceedings', 'originally', '677', '133', 'Morris', 'Wexler', 'prosecutor', 'Issue', 'subpoenas', 'admitted', 'hearings', 'subpenas', '200', 'questioned', 'individuals', 'building', 'Mayer', 'Goldberg', 'judges', '58th', 'precinct', '23d', 'ward', 'procedure', 'constituted', 'intimidation', 'repeatedly', 'coercion', 'used', 'questioning', 'wrongful', 'privately', 'outside', 'room', 'misuse', 'processes', 'Actually', 'abuse', 'process', 'contempt', 'altho', 'vindication', 'function', 'judge', 'East', 'St.', 'sitting', 'Faced', '35', 'complementary', 'miscount', 'another', '33d', '24th', '42d', '31st', '21st', '28th', '29th', '18th', '4th', '9th', 'advisement', 'Claims', 'precedent', 'reading', 'statement', 'discharging', 'subpenaed', 'dismiss', '9', 'mammoth', 'care', 'whereby', 'social', 'security', '70', 'workers', 'raised', 'hospital', '14.2', 'Americans', 'covered', 'railroad', 'retirement', 'programs', 'message', 'tied', 'aged', 'requests', 'grants', 'finance', 'dental', 'scholarships', 'build', '20', 'expand', 'health', 'Capitol', 'hill', 'Cost', '$37', 'financed', 'boosting', 'payroll', 'worker', 'employer', '$4,800', 'alone', 'boost', 'base', '$5,000', '6.5', '3.25', 'Similar', 'boosts', 'imposed', 'those', 'actually', 'rise', '7.5', 'starting', '1963', 'levy', 'already', 'Outlays', 'Officials', '1.5', 'billion', 'benefits', 'Both', 'figures', 'higher', 'parts', 'entail', '750', 'Nursing', 'carries', 'systems', 'Full', 'payment', 'stays', '90', 'illness', 'patient', 'nine', 'nursing', '180', 'following', 'discharge', '300', 'paid-for', 'formula', 'allowing', 'use', 'part', 'hospital-care', 'outpatient', 'clinic', 'diagnostic', 'service', 'excess', '$20', 'Community', 'visiting', 'nurse', '240', 'noted', 'states', 'needy', 'modest', 'wish', 'nevertheless', 'staggered', 'drain', 'caused', 'extended', 'stay', 'cut', 'absolutely', 'essential', 'sufficient', 'deductible', 'requirements', 'discourage', 'malingering', 'unnecessary', 'overcrowding', 'hospitals', 'socialized', 'medicine', 'prepayment', 'absolute', 'freedom', 'guaranteed', 'Every', 'choose', \"Wouldn't\", 'doctors', 'Apart', \"President's\", 'ambitious', 'enlarge', \"nation's\", '92', '47', 'handle', 'student', 'needed', 'rising', 'Moreover', 'qualified', 'young', 'going', 'dentistry', \"can't\", 'afford', 'Contributions', 'scholarship', 'contributions', 'equal', '$1,500', 'one-fourth', 'based', '$2,000', 'government', '5.1', '21', '1966', 'matching', 'totaling', '700', 'constructing', 'enlarging', 'capacity', 'existing', 'More', 'area', 'doubling', 'dollar', 'initial', 'appropriation', 'stimulatory', 'improve', 'unspecified', 'sum', 'experimental', 'field', \"children's\", 'bureau', 'national', 'institute', 'Asks', 'vocational', 'rehabilitation', 'how', 'For', 'facilities', 'propose', 'increasing', '540', 'direct', 'combine', 'indispensable', 'elements', 'sound', 'knowledge', 'Reaction', 'Congressional', 'reaction', 'along', 'lines', 'Legislators', 'placing', 'aged-care', 'criticized', 'Those', 'backed', 'hailed', 'Republican', 'Leader', 'Dirksen', 'Ill.', 'Halleck', 'Ind.', 'persuade', 'change', 'compulsory', 'voluntary', 'enacted', 'Speaker', 'Rayburn', 'Tex.', 'mighty', 'thing', 'prediction', 'fate', 'hastily', 'pressure', 'tonight', 'confirmed', 'Weaver', 'housing', '11', 'floor', 'record', 'scattered', 'ayes', 'noes', 'Customary', 'ignored', 'speed', 'Negro', 'leader', 'administrator', 'agency', 'Presidential', 'appointments', 'cabinet', 'rank', 'immediate', 'rule', 'requiring', 'hour', 'Enforce', 'demand', 'Wayne', 'Morse', 'Ore.', 'connection', \"Eisenhower's\", 'selections', '1953', \"Kennedy's\", 'Oslo', 'positive', 'element', 'emerge', 'North', 'Atlantic', 'Treaty', 'Organization', 'Foreign', 'Ministers', 'freer', 'franker', 'wider', 'discussions', 'animated', 'mutual', 'understanding', 'meetings', 'organization', 'nature', 'proceed', 'route', 'step', 'without', 'dramatic', 'changes', 'ministers', 'met', 'climate', 'candor', 'genuine', 'attempt', \"another's\", 'atmosphere', 'particularly', 'noticeable', 'concerned', 'colonialist', 'powers', 'never', 'nightmare', 'clash', 'Africa', 'exacerbated', 'difficulties', 'tragedies', 'facing', 'allies', 'intellectually', 'emotionally', 'disapprove', 'circumstances', 'troubles', 'conspicuous', 'absence', 'Explosion', 'avoided', 'Portugal', 'few', 'weeks', 'ago', 'rumored', 'walk', 'NATO', 'Council', 'critics', 'Angola', 'policy', 'prove', 'harsh', 'relaxation', 'tension', 'remarkably', 'courteous', 'explanation', 'basic', 'positions', 'unchanged', 'explosion', 'bitter', 'surprises', 'UN', 'General', 'Assembly', \"members'\", 'ad', 'hoc', 'discussed', 'advance', 'Canada', 'somewhat', 'allied', 'cars', 'track', 'behind', 'locomotive', 'Even', 'Norway', 'daily', 'manifestations', 'atomic', 'arms', 'heart', 'northernmost', 'alliance', 'closer', 'line', 'negative', 'side', 'balance', 'sheet', 'disappointment', 'United', 'States', 'leadership', 'hoped', 'diplomat', 'described', 'tenor', 'Secretary', 'Dean', \"Rusk's\", 'speeches', 'inconclusive', 'hastened', 'add', 'always', 'clear', 'Mr.', 'analysis', 'various', 'global', 'danger', 'points', 'setbacks', 'firmly', 'fixed', 'Exploratory', 'mood', 'vagueness', 'tactical', 'appreciation', 'semipublic', 'affair', 'fewer', 'Soviet', 'correspondents', 'accredited', 'impression', 'during', 'popularity', 'came', 'tentative', 'exploratory', 'frame', 'mind', 'listen', 'learn', 'enunciate', 'scale', 'detailed', 'application', 'individual', 'spots', 'speech', 'gave', 'tremendous', 'march', 'events', 'inside', 'preoccupied', 'months', 'core', 'reiterated', \"States'\", 'profound', 'attachment', 'cornerstone', 'foreign', 'nuclear', 'submarines', 'eventually', \"NATO's\", 'disposal', 'European', 'waters', 'solemnly', 'repeated', 'Union', 'stand', 'setback', 'affirmation', 'once', 'again', 'whole', 'Conflict', 'surveyed', \"secretary's\", 'greatest', 'achievement', 'perhaps', 'rekindling', 'realization', 'East-West', 'friction', 'wherever', 'around', 'globe', 'essence', 'entirely', 'different', 'societies', 'treated', 'regard', 'geographical', 'distance', 'lack', 'apparent', 'spring', 'impetus', 'main', 'directions', 'deeper', 'timely', 'consultation', 'within', 'Economic', 'Cooperation', 'Development', 'ratified', 'method', 'coordinating', 'underdeveloped', 'countries', 'strengthening', 'conventional', 'forces', 'maintenance', 'deterrent', 'threshold', \"alliance's\", 'difficult', 'come', 'Each', 'ally', 'laid', 'completely', 'fulfilled', 'moves', 'haltingly', 'Geneva', 'conference', 'Laos', 'erupts', 'optimism', 'Communists', 'docile', 'table', 'military', 'ground', 'explain', 'mainly', 'interested', 'setting', 'international', 'inspection', 'prevent', 'Communist', 'attacks', 'neighboring', 'Thailand', 'South', 'Viet', 'Nam', 'count', 'neutral', 'attending', 'hopes', 'Lao', 'Cabinet', 'dominated', 'acceptable', 'possibility', 'Policies', 'modified', 'inclination', 'de', 'facto', 'cease-fire', 'insist', 'verification', 'control', 'commission', 'participating', 'modifications', 'compelled', 'excuses', 'chain', 'errors', 'Its', 'spokesmen', 'reforms', 'economic', 'critical', 'moving', 'confrontations', 'showing', 'gain', 'free', 'world', 'arises', 'How', 'dealing', 'aggression', 'Former', 'Vice-President', 'Richard', 'Nixon', 'Detroit', 'firmer', 'tougher', 'feels', 'tendency', 'conciliatory', 'restrained', 'Gallup', 'understates', 'situation', 'hardly', 'restrain', 'raising', 'power', 'amateurish', 'monumental', 'blunders', 'Cuba', 'correspondent', 'constantly', 'score', 'reply', 'country', 'politics', 'wisdom', 'Senator', 'Thruston', 'Morton', 'R', 'Kentucky', 'National', 'responsible', 'outcome', 'coalition', 'susceptible', 'domination', 'assailed', 'direction', 'Harvard', 'Boston', 'Brandeis', 'educators', 'Detente', 'pleads', 'invasion', 'exile', 'groups', 'recommends', 'instead', 'detach', 'Castro', 'regime', 'bloc', 'diplomatic', 'detente', 'resumption', 'trade', ';', 'concentrate', 'constructive', 'efforts', 'Latin', 'America', 'conditions', 'totalitarian', 'nationalism', 'feeds', 'intervention', 'specific', 'provocation', 'clearly', 'shipped', 'tolerated', 'Until', 'Cuban', 'fiasco', 'victories', 'observer', 'blended', 'respected', 'opinions', 'voiced', 'professors', 'Aid', 'revamped', 'Very', 'early', 'Kremlin', 'channels', 'disclosed', 'react', 'Eisenhower', 'formative', 'period', 'Strenuous', 'remove', 'pin', 'pricking', 'ban', 'negotiations', 'reviewed', 'changed', 'thus', 'far', 'response', 'emphasis', 'encourage', 'reform', 'recipient', 'nations', 'looked', 'show', 'determination', 'sailing', 'naval', 'fleet', 'Southeast', 'Asian', 'useless', 'gesture', 'Again', 'freeze', 'aided', 'Pathet', 'faster', 'rate', 'And', 'territory', 'exposed', 'huge', 'build-up', 'acclaimed', 'performing', 'great', 'Asia', 'SEATO', 'steamed', 'prepared', 'contingency', 'coping', 'losses', 'want', 'risk', 'all-out', 'war', 'disagreed', 'complication', 'concluded', 'ill', 'suited', 'unlike', 'determined', 'neighbors', 'favor', 'neutralized', 'pro-Western', 'helped', 'revolt', 'Souvanna', 'Phouma', 'neutralist', 'appear', 'spark', 'fighting', 'spirit', 'Royal', 'certainly', 'energy', 'displayed', 'hilt', 'ideas', 'Prince', 'trusting', 'gradually', 'relinquish', 'factor', 'Fulbright', 'D', 'Arkansas', 'Relations', '25', 'erred', 'half', 'encouraging', 'removal', 'extraordinary', 'check', 'rapid', 'growth', 'juvenile', 'delinquency', 'deeply', 'vitality', 'nation', 'important', 'assertion', 'executive', 'establishing', 'Juvenile', 'Delinquency', 'Crime', 'supported', 'assisted', 'Citizens', 'Advisory', 'recognized', 'asks', 'cooperation', 'enactment', 'specified', 'combating', 'disturbing', 'crime', 'trend', 'Offenses', 'multiply', 'Attorney', 'Labor', 'coordinate', 'assist', 'communities', 'cope', 'Simultaneously', 'David', 'Hackett', 'Youth', 'sense', 'urgency', 'stems', 'arrests', 'doubled', '1948', 'offenders', 'Among', 'Federal', 'Bureau', 'Investigation', '1959', 'larceny', 'Providence', 'organize', 'civil', 'setup', 'appointing', 'full-time', 'Raymond', 'H.', 'Hawksley', 'CD', 'anyone', 'else', 'locally', 'outline', 'earliest', \"state's\", 'part-time', 'Noting', 'handed', 'Defense', 'responsibility', 'salary', 'expressed', 'opinion', 'hire', '$3,500', 'basis', 'defray', 'believed', 'residents', 'job', 'men', 'Fire', 'Laughlin', 'Along', 'headquarters', 'pertinent', 'centralized', 'advantage', 'having', 'eligible', 'apply', 'financial', 'equipment', 'Matching', 'procurement', 'radios', 'sirens', 'rescue', 'trucks', 'vehicle', 'Central', 'Station', 'assign', 'Riverside', 'section', 'Rumford', 'Speaking', 'status', 'bet', 'hundred', 'know', 'enemy', 'Narragansett', 'Race', 'Track', 'grounds', 'assembly', 'point', 'drive-in', 'theater', 'Seekonk', 'knowing', 'assemble', 'air', 'Such', 'vital', 'frequently', 'regular', 'intervals', 'fails', 'consider', 'call', 'September', 'developed', 'things', 'classes', 'drifts', 'level', 'examine', 'revisions', 'Governor', 'Notte', 'name', 'move', 'form', 'letter', 'Miss', 'Mary', 'Grant', 'deputy', 'clerk', 'Falls', 'copy', 'released', 'responding', 'urges', 'complete', 'eye', 'legislature', 'Legislative', 'perform', 'review', 'Atty.', 'Gen.', 'Joseph', 'Nugent', 'views', 'appoint', \"Nugent's\", 'expect', 'religious', 'labor', 'special-interest', 'affected', 'wrote', 'continuous', 'confronts', 'enforcement', 'officers', 'regulating', 'advised', 'enforce', 'Should', 'shirking', 'activity', 'across', 'statutes', 'Bay', 'dating', 'instances', 'colonial', 'times', 'severely', 'limit', 'types', 'merchandise', 'sold', 'Sabbath', 'concern', 'especially', 'foods', 'placed', 'list', 'neighborhood', 'grocery', 'variety', 'stores', 'chance', 'compete', 'supermarkets', \"council's\", 'small', 'shops', 'retained', 'livelihood', 'thousands', 'declares', 'licenses', 'revenue', 'factory', 'outlets', 'operate', 'contended', 'shopping', 'Liberals', 'conservatives', 'parties', 'independent', 'Reama', 'nationally', 'known', 'labor-management', 'expert', 'Rotary', 'Club', 'luncheon', 'Sheraton-Biltmore', 'Hotel', 'type', 'enterprise', 'regrouping', 'average', 'voter', 'pull', 'lever', 'confessing', 'member', 'Socialist', '1910', 'That', 'machinist', 'toolmaker', 'fellow', 'grooming', 'me', 'steered', 'utilities', 'pooling', 'resources', 'gaining', 'victory', 'original', 'retired', 'vice', 'Screw', '1955', 'us', 'gross', 'product', 'neither', 'favors', 'wage', 'increases', 'manufacturers', 'caught', 'profit', 'squeeze', 'conditioned', 'Indicating', 'turned', 'philosophy', 'dividing', 'everything', 'really', 'engaged', 'industrial', 'counseling', 'bearing', '1,700', 'Johnston', 'presented', 'town', 'obtaining', 'charter', 'Martinelli', 'Group', 'transferred', 'hand', 'suggestion', 'Fortin', 'Sr.', 'governs', 'referred', 'canvassers', 'happens', 'explained', 'assure', 'scheduling', '60', 'completes', 'difference', 'arose', 'Bourcier', 'solicitor', 'exact', 'handled', 'justices', 'favoring', 'assured', 'correct', 'strategy', 'movement', 'undoubtedly', 'comes', 'inspiring', 'think', 'hope', 'spearhead', 'surprised', 'running', 'non-partisan', 'posts', 'Our', 'goal', 'awareness', 'timetable', 'followed', 'started', \"town's\", 'insurgent', 'speaking', 'model', 'municipal', 'league', 'Increasing', 'Misunderstanding', 'meaning', 'cited', 'false', 'pretenses', 'signers', 'affixed', 'consent', 'provision', 'included', 'Sanitary', 'sewer', 'Action', 'ordinance', 'motorists', 'plead', 'guilty', 'minor', 'traffic', 'offenses', 'fines', 'station', \"Monday's\", 'Town', 'SanAntonio', 'Solicitor', 'Michael', 'Abatuno', 'draft', 'At', 'authorized', 'adopt', 'Nothing', 'Sixth', 'disposition', 'Local', 'hesitated', 'prosecute', 'heavy', 'simplest', 'offense', 'Plainfield', 'Mitchell', 'Walter', 'R-Bergen', 'value', 'using', 'remark', 'Campaigning', 'carcass', 'Republicanism', 'Dumont', 'R-Warren', 'spoke', '100', 'Park', 'controversial', 'Westfield', 'Young', 'cocktail', 'Scotch', 'Plains', 'Country', 'greeted', 'chorus', 'boos', '500', 'women', 'Trenton', 'forum', 'Federation', \"Women's\", 'Clubs', 'intention', 'stopped', 'beating', 'lifeblood', 'congealed', 'Now', \"he's\", 'gone', 'sell', 'tattered', 'remains', 'love', 'considered', 'mediocre', 'nothing', 'fall', 'common', 'decency', 'proud', 'adminstration', 'closeness', \"fall's\", 'dead', 'Regrets', 'regretted', 'wrong', 'inject', 'waged', 'issues', 're-arguing', 'respond', 'either', 'applause', \"Hughes'\", 'merit', 'open', 'launched', 'continuance', 'passenger', 'proper', 'uses', 'surplus', 'Jersey', 'attractive', 'industry', 'Decries', 'joblessness', 'decried', 'unemployment', 'Meyner', 'Republican-controlled', 'share', 'blame', 'Mack', 'Truck', 'plant', 'until', 'am', 'income', 'unhappy', 'minutes', 'saved', 'barbs', 'centralization', 'looks', 'Administration', 'transportation', 'crises', 'saying', 'ways', 'faced', 'motor', 'vehicles', 'challenge', 'stands', 'Defends', 'Ike', 'Earlier', 'resent', 'reference', 'discredited', \"president's\", 'insult', 'twice', 'overwhelmingly', 'symbol', 'peace-loving', 'intentions', 'understand', 'seeking', 'position', 'life', 'demonstrate', 'judgment', 'bad', 'taste', 'vicious', 'origin', 'desire', 'try', 'condemning', 'stature', 'rebound', 'discredit', 'Sees', 'ahead', 'Sandman', 'R-Cape', 'May', 'opponents', 'nomination', 'addressing', 'Military', 'Newark', 'Essex', 'leaders', 'managers', 'gathering', 'indicate', 'chosen', \"Party's\", 'nominee', 'majority', 'announcement', 'Clifford', 'Case', 'spend', 'campaigning', 'giveaway', 'desperate', 'prop', 'sagging', 'proven', 'answer', \"Jersey's\", 'witnessed', 'image', 'failed', 'witnessing', 'transfer', 'glow', \"Case's\", 'candidacy', 'fail', 'Harriet', 'Copeland', 'Greenfield', '330', 'Woodland', 'Ave.', 'Women', 'committeewoman', 'Supervisor', 'Weldon', 'Sheets', 'paper', 'ballots', 'represents', 'necessary', 'democracy', 'lip', 'financing', 'purchase', 'machines', 'repay', '10-year', 'exclusive', 'January', '1964', 'Although', 'mandatory', 'impinging', 'basically', 'distasteful', 'results', 'transcended', 'Sheeran', 'Orange', 'Edward', 'Roos', 'safety', 'commissioner', 'FBI', \"organization's\", 'Freeholder', 'MacDonald', 'vacancy', 'Neil', 'Duffy', 'Appeals', 'My', 'experience', 'shown', 'filled', 'preferably', 'Jim', 'fits', 'description', 'Seidel', 'warden', 'Conservation', '36', 'citation', 'Commissioner', 'Salvatore', 'Bontempo', 'credits', 'supervision', 'reduction', 'forest', 'fires', '1925', 'division', 'graduation', '1921', 'Michigan', 'forestry', 'private', 'lumber', 'October', '1944', 'Forest', 'Section', 'fire-fighting', 'techniques', 'plowing', 'established', 'tractor', 'plows', 'units', 'expanded', 'modernized', 'central', 'briefing', 'wardens', 'training', 'credited', 'co-operative', 'co-operation', 'Cross', 'Boonton', 'debut', 'bid', 'pledge', 'corner', 'nearly', 'Puddingstone', 'Inn', \"you'll\", \"You're\", \"you're\", \"we're\", 'glad', 'Democrats', 'resolve', 'expedient', 'Attacks', 'tripping', 'feet', 'popular', 'slogans', 'win', \"we'll\", 'liberal', 'planned', 'forward', 'looking', 'honest', \"We'll\", 'talk', 'mouth', 'truth', 'elect', 'signs', \"Republicans'\", 'feeble', 'shall', 'full', 'partner', 'courageous', 'attraction', 'stop', 'piracy', 'Southern', 'keep', 'bloodstream', 'clean', 'To', 'hoodlums', 'infiltrating', '1940s', 'Calling', 'lives', 'breathes', 'representative', 'springboard', \"Meyner's\", 'Green', 'Acres', 'tracts', 'land', 'onrush', '$60', 'underwrite', '$45', '$15', 'alloted', 'municipalities', 'conquer', 'space', 'conserve', 'pointing', '125,000', '1950', 'rapidly', 'changing', 'unless', 'preserve', 'green', 'comment', 'misconstrued', 'sympathetic', \"I'll\", 'explicit', 'bring', 'dynamic', 'afraid', 'tangle', 'Fifteen', 'retiring', 'voluntarily', 'honored', 'colleagues', 'whose', 'four-year', 'terms', 'expire', 'carved', 'wooden', 'elephants', 'ivory', 'tusks', 'remember', 'retirements', 'leaving', 'presentation', 'Geraldine', 'Thompson', 'Bank', 'stepping', 'She', '1920s', 'adoption', \"women's\", 'suffrage', 'Resentment', 'welled', 'Wagner', 'Paul', 'Screvane', 'Abraham', 'Beame', 'mates', 'same', 'anti-organization', 'Liberal', \"Mayor's\", 'opportunity', 'internal', 'resentment', 'regarded', 'bigger', 'Opposition', 'trying', 'induce', 'Controller', 'Arthur', 'Levitt', 'Brooklyn', 'Mayoral', '7', 'contend', 'file', 'Their', 'view', 'last-minute', 'proposing', 'ticket', 'emphasize', 'weakness', 'performance', 'rival', 'slate', 'Representative', 'Buckley', 'Bronx', 'T.', 'Sharkey', 'visits', 'usual', 'touch', 'Carmine', 'G.', 'Sapio', 'Manhattan', 'publicly', 'believing', 'replaced', 'Last', 'visited', \"leader's\", 'discussion', 'Apparently', 'key', 'acceptance', 'choices', 'struggle', 'talks', 'assent', 'dropping', 'Gerosa', 'seems', 'assumed', 'pick', \"Gerosa's\", 'successor', 'declined', 'interviews', 'reporters', 'confirm', 'deny', 'Queens', 'replace', 'Abe', 'Stark', 'incumbent', 'Irish', 'Counties', 'Feis', 'Hunter', 'Campus', 'published', \"yesterday's\", 'Times', 'announce', 'definite', 'June', '16', 'wave', 'corruption', 'tangible', 'feeling', 'revulsion', 'taxi', 'driver', 'visitor', 'remarks', 'politicians', \"It's\", 'See', 'scientist', 'writes', 'alienated', 'influence', 'corrupt', 'selfish', 'beyond', 'secret', 'conspiracy', 'object', 'plunder', 'Corruption', 'widely', 'identified', 'locale', 'Edwin', \"O'Connor's\", 'novel', 'Hurrah', 'reasons', 'spotlight', 'succession', 'publicized', 'scandals', 'aroused', 'Graft', 'works', 'investigations', 'attracted', 'ethical', 'reader', 'newspapers', 'escape', 'petty', 'chicanery', 'worse', 'norm', 'Day', 'episode', 'Public', 'Works', 'accused', '$8,555', 'beach', 'waterfront', 'sharply', 'contrasting', 'forecasts', 'Southern-Republican', \"Administration's\", 'jockeying', 'aid-to-education', 'Rules', 'uncertain', \"panel's\", 'depends', 'Trimble', 'Democrat', 'siding', \"Rayburn's\", 'Leadership', 'hopeful', 'encounter', 'sometime', '$6,100,000,000', 'provides', 'forty-year', 'mortgages', 'low', 'down-payments', 'moderate-income', 'families', 'slums', 'colleges', 'dormitories', 'appears', 'temporarily', 'stalled', 'Northern', 'usually', 'balking', 'Delaney', 'Thomas', \"O'Neill\", 'Three', 'quick', 'progress', 'amending', 'Act', 'long-term', 'loans', 'parochial', 'private-school', 'science', 'languages', 'mathematics', 'public-school', 'clears', 'About', 'Peace', 'assigned', 'agencies', 'carried', 'corps', '$40,000,000', 'submitted', '$26,000,000', 'universities', 'Twelve', 'contract-negotiation', 'stage', 'Gordon', 'Boyce', 'interview', 'Six', 'Middle', 'Question', 'Interviews', 'confusion', 'goals', 'happen', 'churchmen', 'example', 'month', 'Ghana', 'missionary', 'discovered', 'hotel', 'protested', 'owner', 'Why', 'worry', 'U.', 'S.', 'Government', 'pays', 'overseas', 'Missionary', 'explains', \"don't\", 'shrugged', 'Same', 'remarked', 'classical', 'church-state', 'Can', 'separation', 'Sargent', 'Shriver', 'No', 'forswears', 'proselytizing', 'proposes', 'Moscow', 'gay', 'Sukarno', 'Indonesia', 'Premier', 'Khrushchev', 'pulled', 'beaming', 'Look', '!', 'jesting', 'expansive', 'successful', 'banker', 'twenty', 'under-developed', 'expanding', 'uncommitted', 'allocated', '$1,000,000,000', 'Western', 'estimates', 'biggest', 'beginning', '1954', '1960', '6,000', 'technicians', 'Nations', 'N.', 'Y.', 'experts', \"country's\", 'professional', 'amid', 'intensified', 'role', 'puts', 'premium', 'strength', 'jobs', 'India', '400,000,000', 'inhabitants', 'filling', 'Secretariat', 'panel', 'completed', 'eighteen', 'Formula', 'due', 'Administrative', 'Budgetary', 'Questions', 'understood', 'ninety-nine', 'affairs', 'officer', 'economist', 'start', '10,000,000', '150,000,000', 'fifteen', 'above', '30,000,000', 'cut-off', 'forming', 'unite', 'war-ridden', 'kingdom', 'decision', 'Zurich', 'Boun', 'Oum', 'royal', 'neutralists', 'Souphanouvong', 'pro-Communist', 'latter', 'half-brothers', 'joint', 'welcomed', 'delegations', 'nineteenth', 'plenary', 'fourteen-nation', 'agreement', 'Princes', 'ease', 'task', 'diplomats', 'conceded', 'overly', 'optimistic', 'Tactics', 'Averell', 'Harriman', 'Malcolm', 'Britain', 'Maurice', 'Couve', 'Murville', \"France's\", 'Minister', \"Canada's\", 'External', 'meanwhile', 'round', 'consultations', 'tactics', 'pace', 'slowed', 'Princess', 'Moune', \"Phouma's\", \"Princes'\", 'two-hour', 'cordial', 'she', 'Laotians', 'six-point', 'agenda', 'reached', 'principles', 'guide', 'factors', 'search', 'Appointment', 'Pfaff', '41', 'promotion', 'manager', 'Times-Picayune', 'Publishing', 'Company', 'Saturday', 'Tims', 'company', 'succeeds', 'Burke', '1946', 'commercial', 'artist', 'advertising', 'native', 'Orleans', 'Elementary', 'Fortier', 'Soule', 'From', '1942', 'December', '1945', 'Air', 'Field', 'Belleville', 'merchandising', 'wholesale', 'Audrey', 'Knecht', 'Karol', 'reside', '4911', 'Miles', 'Thousands', 'bleacher-type', 'seats', 'erected', 'Pennsylvania', 'Avenue', 'inaugural', 'parade', 'Assuming', 'weather', 'halfway', 'decent', 'hundreds', 'mass', 'thoroughfare', 'Dwight', 'leave', 'Hill', 'oath-taking', 'ceremonies', 'ride', 'historic', 'ceremonial', 'impressive', 'street', 'Columbia', 'standpoint', 'viewpoint', 'approach', 'buildings', 'Within', 'avenue', \"government's\", 'shrines', 'monuments', 'Of', 'course', '1600', 'famous', 'easy', 'begins', 'block', 'seven-stories', 'Great', 'chapters', 'recorded', '169', 'thousand', 'watch', '5000', 'suffragettes', '1920', 'presidential', 'Seats', 'square', 'marching', 'soldiers', 'War', 'Between', 'returning', '1865', 'Archives', 'valuable', 'records', 'Also', 'located', 'Edgar', 'Hoover', 'presides', 'Street', 'car', 'tracks', 'center', 'powered', 'spectators', 'occupying', 'vantage', 'bordering', 'Lafayette', 'Square', 'opposite', 'statues', 'Andrew', 'hero', 'Battle', 'Moving', 'viewing', '40', '16,000', 'branches', 'Division', 'academies', 'include', 'representations', 'respective', 'Johnson', 'Then', 'admission', 'union', 'headed', 'Marines', 'Navy', 'Force', 'Guard', 'reserve', 'Puerto', 'Rico', 'Virgin', 'Islands', 'Guam', 'Samoa', 'trust', 'territories', 'Canal', 'Zone', 'Miss.', 'governmental', 'developments', 'Mississippi', 'observing', 'scene', 'script', 'gazing', 'largely', 'unpredictability', 'operates', 'helm', 'Ross', 'Barnett', 'surrounded', 'keeps', 'foes', 'guessing', 'friends', 'Consequently', 'Could', 'scramble', 'predict', 'settle', 'iron', 'rough', 'edges', 'builtin', 'headache', 'steady', 'stream', 'job-seekers', 'commitments', 'eight-year', 'quest', 'decide', 'throw', 'Certainly', 'nobody', 'lawmakers', 'enjoy', 're-enactment', 'strange', 'honeymoon', \"doesn't\", 'decade', 'odds', 'Districts', 'restless', 'companionship', '$22.50', 'diem', 'agitating', 'withstand', 'sensitive', 'cutting', 'seat', 'With', 'eyes', 'focused', 'Delta', 'Congressman', 'Smith', 'redistricting', 'longstanding', \"Mississippi's\", 'crossroads', 'Split', 'badly', 'equally', 'divided', 'camps', 'loyalists', 'independents', 'currently', 'wreck', 'Future', 'clouded', 'titular', 'reestablish', 'loyalist', 'ranks', 'bypass', 'functionary', 'patronage', 'normally', 'flow', 'solidarity', 'picture', 'US', 'Sens.', 'Eastland', 'Stennis', 'remained', 'loyal', 'Reports', 'probable', 'stripped', 'flows', 'Baton', 'Rouge', 'La.', 'Jimmie', 'theme', 'peace', 'harmony', 'severe', 'stresses', 'segregation', 'troublesome', 'vexing', 'finances', 'transition', 'hike', 'revenues', 'dedicated', 'tardiness', 'dedication', 'suspect', 'related', 'directly', 'shortage', 'cash', 'weary', 'Indeed', \"administration's\", 'curious', 'contributing', 'defeat', '$28', 'grant-in-aid', 'effectiveness', 'clearing', 'inconsistencies', 'play', 'determining', 'muster', 'reconvenes', 'normalcy', 'hands', 'integration', 'terminate', 'toss', 'towel', 'anyway', 'frustrated', 'so-far', 'losing', 'token', 'sort', 'politicos', 'acknowledge', 'convey', 'notion', 'though', 'ineffectual', 'Underlying', 'Passage', 'continued', 'extra', 'unlikely', 'conclusion', 'purposes', 'perfect', 'consonance', 'acute', 'interesting', 'dilemma', 'Since', 'constitution', 'forbids', 'introduction', 'expenses', 'inflate', 'Constant', 'stab', 'raiser', 'prospect', 'spending', 'unpleasant', 'avoid', 'alternatives', 'blocked', 'trim', 'arouse', 'squeezed', 'trims', 'exert', 'receptive', 'constant', 'confronting', 'tried', 'economize', 'Any', 'revive', 'allegations', 'followers', 'affiliations', 'imprudently', 'house-cleaning', 'depending', 'combat', 'Alexander', 'Hemphill', 'bids', 'Frankford', 'Elevated', 'rigged', 'contracting', 'Estimates', \"city's\", 'loss', '$344,000', 'ranged', '$200,000', 'Shortcuts', 'unnoticed', 'Steel', 'Erection', 'contracted', 'impossibly', 'legitimate', 'competing', 'contractors', 'shortcuts', \"Controller's\", 'rigging', 'disclosures', 'sued', '$172,400', 'covering', 'contract', 'Philadelphia', 'Transportation', 'investigating', 'played', 'reviewing', 'signature', 'Harold', 'Varani', 'architecture', 'engineering', 'Property', 'appeared', 'vouchers', 'certifying', 'fired', 'charges', 'accepting', 'contractor', 'Managing', 'Director', 'Donald', 'cooperate', 'sharp', 'disagreement', 'sue', 'recovery', 'Berger', 'morning', 'PTC', 'Concern', 'bankrupt', 'Consolidated', 'Industries', 'Inc.', '3646', '2d', 'reorganization', 'bankruptcy', 'directors', 'draw', 'Business', 'Crumlish', 'Intervenes', 'Common', 'Pleas', 'bonding', 'Travelers', 'Indemnity', 'Continental', 'Casualty', \"Berger's\", 'intervened', 'preliminary', 'filing', 'claim', 'violated', 'violations', 'involve', 'expansion', 'joints', 'overhauling', '102', '75', 'repaired', 'Wide', 'repairs', '$500', 'Belanger', 'Sons', 'Cambridge', '$600', '$2400', '$3100', '$37,500', \"won't\", \"Can't\", 'headline', 'Hooked', '$172,000', 'Douglas', 'Pratt', 'transit', 'Certain', 'Samuel', 'Goodis', 'objected', 'occupancy', 'rates', 'hotels', '48', 'percent', 'objection', \"Council's\", 'Finance', '1000', 'rooms', '$5000', 'Testifies', 'testimony', 'wide', 'raise', '$740,000', '$2,330,000', 'rooming', 'houses', 'multi-family', 'dwellings', '$5', '$2', 'renewal', '$1', 'single', 'account', '95', 'accomodations', 'apartment', '$457,000', 'Leonard', 'Kaplan', 'Home', 'Builders', 'behalf', 'association', 'dog', 'drew', 'Councilwoman', 'Virginia', 'Knauer', 'formerly', 'pedigreed', 'dogs', 'males', 'females', 'flat', 'replies', 'owners', 'penalized', 'animal', 'Deputy', 'Leary', 'spends', '$115,000', 'annually', 'regulate', 'collects', '$43,000', '$67,000', 'S.P.C.A.', '$15,000', 'catchers', 'bites', 'Backs', 'McConnell', 'indorsed', 'adequately', 'compensated', 'schedule', 'Licenses', 'Inspections', 'Barnet', 'Lieberman', 'Eugene', 'Gillis', 'Petitions', 'Norristown', 'Julian', 'Barnard', 'Montgomery', 'Horace', 'Davenport', 'widow', 'killed', \"Barnard's\", 'hit-run', 'Dannehower', 'pleaded', 'manslaughter', 'fined', 'Warren', 'K.', 'Hess', \"years'\", 'probation', 'drive', 'driving', 'sentence', 'pronounced', 'Victim', 'accident', 'Lee', 'Stansbery', '39', 'reprimanded', 'violating', 'Planning', 'agreements', 'redevelopers', 'Redevelopment', '$300,000,000', 'Eastwick', 'Area', 'hazards', 'pedestrians', 'Corp.', '1311', 'acre', 'tract', '$12,192,865', 'bounded', 'Dicks', '61st', 'parks', 'designated', 'Stage', 'Residential', \"Authority's\", 'master', 'feature', 'row', 'garden', 'apartments', 'churches', 'clusters', 'corporation', 'formed', 'Reynolds', 'Metal', 'builder', 'second', '520-acre', 'west', 'builders', 'developing', 'Would', 'bar', 'Constantinos', 'Doxiadis', 'Reconstruction', 'Greece', 'planner', 'sectors', 'barred', 'vehicular', 'landscaped', 'walkways', 'esplanade', 'entire', 'two-and-a-half-mile', 'length', 'eliminates', 'Grovers', 'ran', 'pedestrian', 'bridges', 'Kansas', 'Mo.', 'UPI', 'International', 'Fighters', 'severly', 'injured', 'bomb', 'tore', 'apart', 'Battalion', 'Stanton', 'Gladden', '42', 'figure', 'representation', 'fighters', 'teamsters', 'suffered', 'multiple', 'fractures', 'ankles', 'Baptist', 'Memorial', 'Ignition', 'sets', 'blast', 'battalion', 'driveway', \"I'd\", 'ignition', 'flash', 'lying', \"Gladden's\", 'sons', 'younger', 'boy', 'knocked', 'bed', 'wall', 'Hood', 'flies', 'hood', 'flying', 'roof', 'front', 'wheel', 'landed', 'away', 'laboratory', 'explosive', 'device', 'containing', 'TNT', 'nitroglycerine', \"car's\", 'starter', 'target', 'threatening', 'torn', 'dissension', 'Led', 'outspoken', 'critic', \"union's\", 'began', 'organizing', 'firemen', 'reward', 'bombing', \"association's\", 'Kas.', 'guards', 'Mining', 'Shiflett', 'secretary-treasurer', 'active', 'Ankara', 'Turkey', 'Oct.', 'AP', 'Turkish', 'bowed', 'emergency', 'Cemal', 'Gursel', 'contested', 'indecisive', '15', 'bargaining', 'threat', 'army', 'coup', \"d'etat\", 'By-passing', 'junta', 'overthrow', 'Adnan', 'Menderes', 'Cedvet', 'Sunay', 'deadline', 'join', 'threatened', 'protocol', 'agreeing', 'demanded', 'pledges', 'pardoned', 'satisfied', 'stated', 'solution', 'created', 'Vincent', 'Ierulli', 'temporary', 'Desmond', 'Connall', '29', 'practicing', 'Portland', 'graduate', 'Northwestern', 'Law', 'father', 'Helping', 'structure', 'aiding', 'economically', 'World', 'Multnomah', '350', 'paths', 'identical', 'congenial', 'ours', 'adding', 'develop', 'society', 'ritiuality', 'loyalty', 'Patience', 'Insuring', 'detriment', 'Germany', 'rebel', 'patience', 'century', 'By', 'doors', 'gives', 'peoples', 'compare', 'Individual', 'reason', 'fear', 'extraordinarily', 'Economically', 'helping', 'Private', 'absorb', 'exported', 'goods', 'products', 'total', 'towards', \"Portland's\", 'advice', 'coordination', 'plea', 'Ralph', 'Molvar', '1409', 'SW', 'Maplecrest', 'thought', 'cooperating', 'Mears', 'strictly', 'Melvin', 'Barnes', 'waiting', 'sure', 'whatever', 'fruitful', 'Los', 'Angeles', 'send', 'disaster', 'Nobody', 'evacuate', 'everybody', 'voice', 'reiterating', 'her', 'please', 'faith', 'somebody', \"wouldn't\", 'everyone', 'rush', 'evacuation', 'lots', 'realistic', 'Jack', \"Lowe's\", 'instructed', 'Salem', 'statewide', 'mothers', 'greeting', 'Mark', 'Hatfield', 'reception', 'capitol', 'noon', 'Emerald', 'Empire', 'Kiwanis', 'speak', 'Willamette', 'swearing', 'Bryson', 'Circuit', 'Washington-Oregon', 'game', 'Beaverton', 'No.', 'examined', 'blueprints', 'specifications', 'workshop', '$3.5', '900-student', '6-3-3', '8-4', 'advisory', '$581,000', 'elementary', 'Masonic', 'Temple', '$25-a-plate', 'dinner', 'honoring', 'organized', 'p.m.', 'Roosevelt', '4:30', 'Blaine', 'Whipple', 'Oregon', 'speakers', 'fund-raising', 'Edith', 'Al', 'Ullman', 'Norman', 'Nilsen', 'Terry', 'Schrunk', 'Oak', 'Grove', 'Lodge', 'Water', 'Dec.', 'a.m.', 'Polls', 'Incumbent', 'Salter', 'seeks', 're-election', 'Huffman', 'five-year', 'Brod', 'Barbara', 'Njust', 'Bubenik', 'vacated', 'Hugh', 'Stout', 'Seeking', 'two-year', 'Culbertson', 'Steeves', 'Piersee', 'W.M.', 'Sexton', 'Theodore', 'Heitschmidt', 'stronger', 'beliefs', 'grasp', 'delegates', 'Assemblies', 'God', 'Coliseum', 'strengthen', \"denomination's\", 'modern', 'trends', 'Bible', 'belief', 'dependence', 'Rev.', 'Zimmerman', 'bulwark', 'fundamentalism', 'compromise', 'truths', 'editing', 'clarification', 'denomination', 'reads', 'scriptures', 'Old', 'Testament', 'verbally', 'inspired', 'revelation', 'infallible', 'authoritative', 'conduct', 'emphasizes', 'Diety', 'Lord', 'Jesus', 'Christ', 'sinless', 'miracles', 'substitutionary', 'cross', 'bodily', 'resurrection', 'exaltation', 'Super', 'reelected', 'consecutive', 'Springfield', 'Election', 'nominating', 'forthcoming', 'Breakthrough', 'opening', 'Brandt', 'missions', 'stressed', 'Surveys', 'contact', 'Church', 'loses', 'Talking', 'upwards', '12,000', 'babies', 'born', 'immigrant', '1-1/2', '7,000', '10,000', 'light', '1,000', 'Illinois', '800', 'England', 'vision', '8,000', 'accomplish', 'necessitate', 'meets', \"church's\", 'ability', 'capsule', 'includes', 'Encouraging', 'Engaging', 'mature', 'pioneer', 'strategic', 'centers', 'Surrounding', 'pastors', 'volunteers', 'laymen', 'lending', 'Arranging', 'ministerial', 'graduates', '6-12', 'apprentices', 'well-established', 'Dist.', 'Powell', 'motions', 'fraud', 'Denials', 'dismissal', 'mistrial', 'acquittal', 'striking', 'verdict', 'denying', 'trials', 'upheld', 'conspirators', 'Schwab', 'defendant', 'Philip', 'Weinstein', 'linking', 'Proof', 'proof', \"Weinstein's\", 'mails', 'defraud', 'Burbank', 'conpired', 'deferred', 'Miami', 'Fla.', 'Orioles', 'distinction', 'winless', 'Major-League', 'clubs', 'dropped', 'sixth', 'straight', 'exhibition', 'Athletics', '5', 'Indications', 'late', 'Birds', 'draught', 'coasted', '3-to-o', 'Siebern', 'hits', 'homer', 'Over', 'frames', 'Fisher', 'righthander', 'middle', 'Oriole', 'pennant', \"A's\", 'scoreless', 'yielding', 'Dick', 'Hyde', 'submarine-ball', 'hurler', 'entered', 'contest', 'batters', 'existed', '3-to-3', 'deadlock', 'two-run', 'Norm', 'solo', 'Tuttle', 'runs', 'eighth', 'ninth', 'fifth', 'throws', 'wild', 'Marv', 'Throneberry', 'stole', 'fanned', 'Catcher', \"House's\", 'nab', 'dirt', 'Heywood', 'Sullivan', 'catcher', 'singled', 'proved', 'winning', 'Rookie', 'southpaw', 'Stepanovich', 'relieved', 'tally', 'baseman', 'Howser', 'pitch', \"Cipriani's\", 'Shortstop', 'Jerry', \"Adair's\", 'glove', 'performed', 'plate', 'powderpuff', 'fashion', 'blows', 'offerings', 'pitchers', 'doubles', 'Brooks', 'Robinson', 'pair', 'Breeding', 'Hartman', 'Kunkel', 'Bob', 'Ed', 'Keegan', 'mound', 'chores', 'club', 'Palm', 'Beach', '767', 'Stadium', 'fourth', 'purchased', 'Milwaukee', 'Braves', 'three-inning', 'appearance', 'merited', 'triumph', '6-foot-3-inch', '158-pounder', \"Orioles'\", 'safeties', 'escaping', 'double', 'fence', '375', 'deep', 'Whitey', 'Herzog', 'fielded', 'possibly', 'strongest', 'balls', 'pinch-hitters', 'Pete', 'Ward', 'failing', 'bunt', 'popped', 'grass', 'short', 'batting', 'Adair', 'fouling', '2-and-2', 'pitches', 'Buddy', 'Barker', 'bounced', 'Lumpe', '2-hour-and-27-minute', 'inning', 'moved', 'Russ', \"Snyder's\", 'crossed', \"Kunkel's\", 'Flock', 'tallies', 'Jackie', 'hole', 'errs', 'Gentile', 'beat', 'grabbed', 'ball', 'threw', \"Throneberry's\", 'error', 'slammed', 'runners', 'stretch', 'blow', 'triple', 'Andy', 'rundown', 'scoring', 'batter', 'romped', 'blasted', \"Hyde's\", '415', 'scoreboard', 'Singles', 'slow-bouncing', 'hit', 'rapped', 'fast', \"Tuttle's\", '390-foot', 'break', 'streak', 'champion', 'Yankees', 'flavor', \"Baltimore's\", 'Florida', 'Grapefruit', 'news', 'ripened', 'Ron', 'Hansen', \"Army's\", 'belated', 'slugged', 'homers', 'drove', '86', 'freshman', \"Birds'\", 'squad', '49', 'players', '22-year-old', 'shortstop', 'rookie-of-the-year', 'flew', 'Baltimore', 'signed', 'spectator', \"tonight's\", '5-to-3', 'pounds', 'lighter', '6-foot', '3-inch', 'checked', 'reporting', 'weight', 'melt', 'breaks', 'camp', 'hence', 'inducted', 'Knox', 'Ky.', \"Hansen's\", 'physically', 'carrying', 'Seeks', 'improved', 'fielding', 'rangy', 'Albany', 'Cal.', 'surprise', 'slugging', 'sensation', 'defensive', 'whiz', 'hitters', 'engage', 'workout', 'prior', 'two-game', 'Skinny', 'Brown', 'Hoyt', 'Wilhelm', \"Flock's\", 'knuckleball', 'specialists', 'slated', 'champions', \"tomorrow's\", 'P.M.', 'Duren', 'Sheldon', 'Ryne', 'Roland', 'rookie', 'posted', '15-1', \"Yanks'\", 'Auburn', 'N.Y.', 'farm', 'Class-D', 'York-Pennsylvania', 'Twenty-one-year-old', 'Milt', 'Pappas', 'Walker', \"Bombers'\", 'Art', 'Ditmar', \"Sunday's\", 'Houk', 'Casey', 'Stengel', 'Yankee', 'Petersburg', 'Dimaggio', 'crowds', 'games', 'famed', 'Clipper', 'assisting', 'coach', 'Squad', 'Pitcher', 'Steve', 'completing', 'hitch', 'accelerated', 'wintertime', 'enlisted', 'bulky', 'spring-training', 'contingent', 'Manager', 'Richards', 'coaches', 'streamlined', 'workable', 'Take', 'Bird', 'sacker', 'bat', 'third-inning', 'left-centerfield', 'celebrate', 'Just', \"Robinson's\", 'pretty', 'Connie', 'Unfortunately', \"Brooks's\", 'teammates', 'festive', 'expired', 'seven-hit', 'pitching', 'hurlers', 'arrived', 'nightfall', 'MacPhail', 'Iglehart', 'Dunn', 'flight', 'delayed', 'boarding', 'ramp', 'inflicted', 'damage', 'wing', 'plane', 'Ex-Oriole', 'Clint', 'Courtney', 'catching', \"League's\", 'shouldda', 'Tokyo', 'Scrapiron', \"we'd\", 'someplace', 'Bowie', 'Md.', 'Gaining', 'Small', \"Jr.'s\", 'Garden', 'Fresh', '3-year-old', 'filly', 'downed', 'promising', 'colts', '$4,500', \"Patrick's\", 'Purse', 'seventh', '$7.20', 'Toying', 'stages', 'Jockey', 'Grimm', '1.24', '3-5', 'furlongs', '8,280', 'races', \"Forbes's\", 'Paget', 'substantial', 'lead', 'tired', 'nearing', 'wire', 'save', 'Glen', \"Hallowell's\", 'Milties', 'bright', 'sun', 'brisk', 'condition', 'Patty', 'celebrants', '$842,617', 'well-prepared', 'Prior', 'stewards', 'apprentice', 'Verrone', 'suspended', 'ten', 'crowding', 'horses', 'crossing', 'Culmone', 'gets', 'mating', 'Better', 'Self', 'Rosy', 'Fingered', 'allowance', '$10,000', 'claiming', 'Cleveland', 'Kerr', 'swift-striding', 'Jamaican', '600-yard', 'Knights', 'Columbus', \"Purdue's\", 'Dave', 'Mills', 'duel', '1.10.1', 'clocking', '1.09.3', 'wiped', \"Mills's\", 'Big', 'quarter-mile', 'king', 'yards', 'mark', '1.10.8', 'Mal', 'Whitfield', 'thirds', 'straightaway', 'turn', 'timed', '1.10.4', 'twenty-first', 'Games', 'indoor', 'season', 'thrill', 'slender', 'bespectacled', 'woman', 'broke', 'one-week-old', 'half-mile', 'Grace', 'Butcher', 'nearby', 'Chardon', '27-year-old', 'housewife', 'finished', '2.21.6', 'snapped', 'tenths', 'Helen', 'Shipley', 'Wellsley', 'A.A.U.', 'Ohio', 'Francisco', 'Bobby', 'Waters', 'Sylvania', 'Ga.', 'relief', 'quarterback', '49ers', 'Football', 'undergo', 'knee', 'Franklin', 'swelling', 'consult', 'physician', 'Tony', 'Kubek', 'eleventh', 'donated', 'unearned', '5-to-2', 'Chicago', 'Sox', 'halfback', \"team's\", 'plays', 'Eldon', 'Moritz', 'Southwest', 'Conference', 'Time', '26-year-old', 'clock', 'kick', 'nose', 'guard', 'hip', 'pads', 'Longhorn', 'favored', 'Cotton', 'Bowl', \"That's\", 'kicked', '14', 'tries', 'string', 'conversions', 'astray', '41-8', 'slaughter', 'roster', 'lettered', '1956', 'Darrell', 'place-kicker', '208-pound', '1-inch', 'Stamford', 'place-kicking', 'So', 'bothered', 'muscle', 'thigh', 'kicking', 'leg', 'barely', 'playing', 'Anson', '3-0', '110', '135', '26', 'miss', 'playoff', 'hampered', 'injury', 'missed', 'ailing', '77', 'statistical', 'net', 'punted', '1957', 'scholastically', 'ineligible', 'Place', 'timing', 'Once', \"there's\", \"I've\", 'boys', 'seem', 'Practice', 'helps', 'golf', 'swing', 'kicks', 'practice', 'kinda', 'Footnotes', 'Longhorns', 'scored', 'yardage', '447', 'completions', '56', 'attempts', '469', '37', 'Tailback', 'Saxton', 'surpassed', 'rushing', 'brilliant', 'sophomore', 'netted', '271', '55', '273', 'second-half', 'kickoff', 'gained', 'uncorked', '56-yard', 'touchdown', 'Wingback', 'insists', \"he'll\", \"conference's\", 'prevailed', 'SMU', 'coaching', \"week's\", 'Rice', 'Mustangs', 'happy', 'Coach', 'Meek', '9-7', 'Academy', 'kids', 'stayed', \"we've\", 'Richey', 'Assistant', 'Cudmore', 'particular', 'gratification', 'performances', 'Happy', 'Nelson', 'Billy', 'Gannon', 'magnificent', 'interference', 'stops', 'fumble', 'fullback', 'Nick', 'Arshinkoff', 'loose', 'contributed', \"Falcons'\", 'aerial', 'thrusts', 'fourth-down', 'screen', 'Mustang', 'incomplete', \"Gannon's\", 'spotted', 'Isaacson', 'crucified', 'nailed', 'yard', \"Force's\", \"game's\", 'McNaughton', 'intercepted', '44', 'lay', 'waited', 'Except', 'Mike', 'Kelsey', 'doubtful', \"He'll\", 'blind', 'split', 'definitely', 'ligament', 'injuring', 'opener', 'Maryland', \"He's\", 'lot', 'film', 'reserves', 'scrimmaged', '45', 'scrimmage', 'taper', 'Owls', 'Huddle', 'hearsay', 'Held', \"Tech's\", 'sweat-suits', 'drill', 'Lubbock', 'tackle', 'Stafford', 'undergoing', 'treatment', \"Raiders'\", '38-7', 'M', 'Because', 'Baylor', 'rain', 'mud', 'End', 'Gene', 'Raesz', \"Owl's\", 'LSU', 'Nichols', 'idleness', 'ankle', 'Aggies', 'Myers', 'Hargett', 'shaken', 'Tech', 'Trinity', 'Halfback', 'Bud', 'Priddy', 'slowly-mending', 'sprained', \"TCU's\", '19-12', 'Denver', 'Broncos', 'Buffalo', 'Hank', \"Stram's\", 'Bills', 'pre-season', 'reckonings', 'Buster', 'Ramsey', 'collectors', 'quarterbacks', 'productive', 'ex-National', 'Leaguers', 'Rabb', 'Louisiana', '22-12', 'upset', 'Oilers', 'defending', 'luck', 'Exclaimed', 'Stram', 'mutter', 'splendid', 'whip', 'dangerous', 'Broncs', 'fullbacking', 'star', 'Spikes', 'interior', 'linebackers', 'exceptionally', 'movies', 'Quarterback', 'Davidson', 'throwing', 'passes', 'bang', 'touchdowns', 'strikes', 'tactic', 'controlling', 'giving', 'Abner', 'Haynes', 'flashy', 'ball-carriers', 'delivered', '145', 'comforting', \"Denver's\", 'Carmichael', 'jarred', 'Grayson', 'speedy', 'claimed', 'resulted', 'quipping', 'book', 'dent', 'statistics', '545-yard', 'spree', '3-game', '1,512', '1,065', 'SWC', '280', '64', 'tosses', 'tough', 'TCU', '38-point', 'bulge', 'loop', 'Completing', '174', '361', 'leads', 'per-game', 'averages', '355', '149', \"Baylor's\", '126', 'idle', '187.5', '189', '34.7', 'Not', 'unofficial', 'checks', 'liveliness', 'baseballs', 'leagues', 'ordered', 'tests', 'Nischwitz', 'pinpoint', 'Bears', 'Indianapolis', '5-3', 'husky', '6-3', '205-pound', 'lefthander', 'command', 'on-the-scene', '949', 'countless', 'viewers', \"Nischwitz'\", \"Grizzlies'\", 'Louisville', 'pack', 'walked', 'Charley', 'Hinton', '27', 'innings', 'unusual', 'characteristic', 'lagged', 'McAuliffe', 'cracked', 'Lefty', 'Don', 'Rudolph', \"Bear's\", 'Paschal', 'gruonded', 'Jay', 'Cooke', 'McDaniel', 'Alusik', 'Porter', 'bases', \"Wert's\", 'smash', 'putout', 'leftfield', 'rightfield', 'Phil', \"Shartzer's\", '3-hitter', 'Indians', 'bunched', 'Chuck', 'tripled', 'Cliff', 'Dan', 'Pavletich', \"Gaines'\", 'infield', 'roller', 'accounted', \"Alusik's\", 'outfield', 'Wert', 'Gaines', 'hammered', '45-degree', 'clicked', '1:48', 'Chico', 'Ruiz', 'spectacular', 'grounder', 'showed', 'arm', 'Bingles', 'bobbles', \"Tribe's\", \"season's\", 'obvious', 'refocusing', 'lights', 'flooded', 'dark', 'Dobbs', 'organ', 'exotic', 'dancer', 'Patti', 'Waggin', 'Wyman', 'Tsitouris', \"o'clock\", 'Donnelly', 'Kenny', 'Lane', 'Muskegon', 'Mich.', \"world's\", 'ranked', 'lightweight', 'Rip', 'Randall', 'Paul-Minneapolis', \"Gardner's\", 'eluded', 'diving', 'Minnie', 'Minoso', 'Lemon', 'Minnesota', 'Twins', '6-5', 'liner', '5777', 'fans', 'batted', 'Turk', 'Lown', 'tagged', 'Ray', 'Moore', 'Reno', 'Bertoia', 'chopper', 'Lenny', \"Green's\", '5-4', 'pop', 'fly', 'Roy', 'Sievers', 'Camilo', 'Carreon', 'sacrifice', \"Landis'\", '380-foot', '1-0', 'Harmon', 'Killebrew', 'bottom', 'walking', 'Allison', 'aboard', \"Smith's\", '340-blast', \"Carreon's\", \"Allison's\", 'run-scoring', '2-baser', 'solid', 'Ogden', 'Utah', 'Outfielder', 'Jensen', 'baseball', 'newsman', 'reflexes', '25th', 'sudden', 'walkout', '46', 'at-bats', 'train', 'anybody', 'newsmen', 'trip', 'Nev.', 'Olympic', 'Diving', 'Champion', 'Zoe', 'Ann', 'Olsen', 'awaited', 'heading', 'speculating', 'hurting', \"Boston's\", 'chances', 'Pacific', 'Railroad', 'streamliner', 'Sports', 'Writer', 'Ensign', 'Ritchie', 'Standard', 'Examiner', 'compartment', 'conductor', \"You'll\", 'mad', 'magazine', 'cold', 'warmed', 'Liston', 'double-crosser', 'anything', 'keyhole', 'writer', 'Traveler', 'quoted', 'anymore', 'Suddenly', 'grip', 'masses', 'pops', 'heroics', 'tongues', 'wagging', '40-year-old', 'Spahn', 'no-hit', 'masterpiece', 'Giants', \"Giants'\", 'Willie', 'Mays', 'retaliating', 'record-tying', '4-homer', 'remarkable', 'feats', 'embossed', 'rightfully', 'pastime', 'cherished', 'achievements', 'elderly', \"Spahn's\", 'hitless', 'hearts', 'stimulant', 'guys', '2-score-year', 'milestone', 'rookies', 'sighed', 'Wish', 'top-grade', 'leaguer', 'waved', 'laurels', 'surely', 'belonging', 'all-time', 'lefthanders', 'Carl', 'Hubbell', 'Herb', 'Pennock', 'Nehf', 'Vernon', 'Gomez', 'et', 'al', 'superior', 'pitcher', 'gentlemanly', \"player's\", 'player', 'beardown', 'meaningless', '1951', '18,792', 'Spahnie', 'Enos', 'Slaughter', 'guy', 'clubhouse', 'reaches', 'sluggers', 'walloped', 'span', 'Incidentally', 'Lowe', 'Gil', 'Hodges', 'trick', \"Brooklyn's\", 'Ebbetts', 'Delahanty', 'Klein', 'Phillies', \"Braves'\", 'Adcock', 'Lou', 'Gehrig', 'Pat', 'Seerey', 'Rocky', 'Colavito', \"Willie's\", 'revived', 'argument', 'merits', 'Mickey', 'Mantle', 'boils', 'fan', 'anti', 'pro-Yankee', 'ace', 'seasons', '30-30', 'lifetime', \"Mickey's\", 'anemic', 'windy', 'Candlestick', 'suddenly', \"Milwaukee's\", 'park', 'forever', 'mystery', 'hitting', 'distressing', 'slump', 'Denver-area', 'TV', 'privileged', \"Mays'\", 'arrangement', 'Howsam', 'blacked', 'blackout', 'televised', 'rulers', 'Living', 'Room', 'Athletic', 'helpless', 'CBS', 'network', 'abide', 'NBC', 'afternoons', 'arise', 'irritable', 'harm', 'purposely', 'dissatisfaction', \"Howsam's\", 'video', 'terminated', 'Cincinnati', 'powerful', '19th', '5-game', 'romp', 'outclassed', 'crushing', 'Reds', 'humiliating', '13-5', 'barrage', 'loosely', 'finale', 'Yogi', 'Berra', 'injuries', 'champs', 'mounted', '15-hit', 'Johnny', 'Blanchard', \"Mantle's\", 'replacement', '2-run', 'routed', 'loser', 'Joey', '5-run', 'Hector', 'Lopez', 'subbing', 'smashed', '3-run', 'Yanks', '32,589', 'applaud', 'bleachers', '400', 'Momentarily', 'trailing', 'fizzled', 'Edwards', 'fouled', 'Wally', 'Post', 'slashed', 'Daley', '11-5', 'Series', 'Bucky', 'boy-manager', '1924', 'Eddie', 'Dyer', 'Cardinals', 'accomplished', 'feat', '23', 'Skorich', 'Eagles', 'elevated', 'three-year', '$20,000', '$25,000', 'Buck', 'Shaw', 'retain', \"Shaw's\", 'Charlie', 'Gauer', 'ends', 'Choice', 'selection', 'logical', 'Van', 'Brocklin', 'permission', 'Vikings', 'newest', 'entry', 'refused', 'reconsider', 'depended', \"Brocklin's\", 'aerials', 'advocate', 'balanced', 'lineman', 'Jock', 'Sutherland', 'Pittsburgh', 'Steelers', 'quit', 'Catholic', '1949', 'Rensselaer', 'Polytechnic', 'Troy', 'rejoining', 'Packers', 'auspiciously', 'ceremony', 'Richardson', 'Dilworth', 'championship', 'engrossed', 'silver', 'cufflinks', 'shaped', 'award', 'Shea', 'awards', \"night's\", 'thirty-eighth', 'Chapter', 'Baseball', \"Writers'\", 'Waldorf-Astoria', \"Wagner's\", 'dais', 'Graham', 'Journal-American', 'sports', 'columnist', 'Mazeroski', 'Pirates', 'Ben', 'Epstein', 'Good', 'Guy', 'Award', 'Babe', 'Ruth', 'outstanding', 'meritorious', 'Slocum', 'Sid', 'Mercer', \"chapter's\", 'Show', 'follows', '1,400', 'writers', 'lampoon', 'personalities', 'skit', 'dance', 'song', '53-year-old', 'prominent', 'background', 'imminent', 'Named', 'Farley', 'Bernard', 'Gimbel', 'Blume', 'relentlessly', 'departure', 'Dodgers', 'California', 'barriers', 'disappointments', 'convince', 'Branch', \"Rickey's\", 'formation', 'franchise', 'majors', 'Flushing', 'stadium', 'Shipman', 'Payson', 'big-league', 'Meadow', 'lease', 'Ford', 'Frick', \"Shea's\", 'prominently', 'Nori', 'Sands', 'Point', 'I.', 'Kathy', 'Patricia', 'switching', 'Georgetown', 'Later', 'owned', 'Long', 'Ted', \"Collins'\", 'Roger', 'Maris', 'outfielder', 'winner', 'most-valuable-player', 'Hamey', 'Arnold', 'Palmer', 'Snead', 'Metropolitan', 'Golf', 'Writers', \"golf's\", 'money-winner', 'saluted', 'Cup', 'matches', 'Dublin', 'Deane', 'Beman', 'Amateur', 'metropolitan', 'Gardner', 'amateur', 'title-holder', \"writers'\", 'Gold', 'Tee', 'sponsorship', 'charity', 'tournaments', 'Horton', 'Professional', 'Golfers', 'Hogan', 'Trophy', 'comeback', 'Stuart', 'Symington', 'Missouri', \"Golf's\", 'golden', 'blazing', 'twelve', 'Masters', 'Open', '$80,738', 'prize', 'heralded', 'Sportsman', 'Year', 'Illustrated', 'Rochester', 'Athlete', 'diamond-studded', 'Hickok', 'Belt', 'achieved', 'endeared', 'duffer', 'flubbed', 'monstrous', 'par-5', 'human', 'brooding', 'incompetents', 'meditating', 'abandonment', 'sport', 'frustrations', 'despair', 'paragon', 'perfection', 'commit', 'sacrilege', 'self-sacrifice', 'nor', 'yen', 'downtrodden', 'motivated', 'victimized', 'athletics', 'respects', 'aggravates', 'golfer', 'shooting', 'below', 'par', 'delivering', 'crusher', 'boomed', '280-yard', 'pixies', 'zombies', 'banshees', 'wailed', 'margin', 'narrow', 'fairway', '508-yard', 'majestic', 'arc', 'out-of-bounds', 'slice', 'sliced', 'bounds', 'hooked', 'over-corrected', 'ruefully', 'wayward', 'shots', 'strokes', 'wound', 'dozen', 'nice', 'perturbed', 'duffers', 'easily', 'heartening', 'fell', 'evil', 'heyday', 'idol', 'hackers', 'Ainsley', '19', 'secondary', 'Chisholm', 'drank', 'lunch', 'rock-strewn', 'gully', 'Stickler', 'excavation', 'Thirteen', 'Nae', 'ye', \"countin'\", 'echoes', \"Palmer's\", 'honestly', 'Nor', 'loophole', 'knows', 'code', 'thoroughly', 'handy', 'brook', 'flowed', 'floated', 'downstream', 'picked', 'potato', 'playable', 'lie', 'Dey', 'naturally', 'alongside', 'spot', 'confessed', 'grin', 'happened', 'nicer', 'intensity', 'inherent', 'humor', 'relieves', 'strain', 'nerves', 'jangling', 'banjo', 'strings', 'Yet', 'fiercest', 'competitors', 'bull', 'head-on', 'twelfth', '155-yarder', \"Arnold's\", 'tee', 'burrowed', 'bunker', 'guarding', 'embankment', 'soft', 'spongy', 'rains', 'thereby', 'bringing', 'Ruling', 'lies', 'provisional', 'embedded', 'golfing', 'fathers', 'stroke', 'tournament', 'god-like', 'creature', 'supply', 'Minneapolis', 'fourteen', 'Warwick', \"football's\", 'hall', 'fame', \"players'\", 'amendments', 'fourteen-team', 'home-and-home', 'teams', 'lengthening', 'thirteen', 'Rozelle', 'Nine', \"league's\", 'therefore', 'early-season', 'dates', 'heed', 'Mauch', 'misled', \"Pirates'\", 'slower', 'outclass', 'Vinegar', 'Bend', 'Mizell', 'Shantz', 'Tonight', 'breaking', \"baseball's\", '9-6', 'Redbirds', '7-9', 'Change', 'Solly', 'Hemus', 'switch', 'Gibson', 'Ernie', 'Broglio', \"Broglio's\", '4-0', 'won-lost', 'earned-run', \"Redbirds'\", 'disheartening', '11-7', 'collapse', 'eager', 'assignment', \"Thursday's\", 'Larry', 'Cubs', 'Harvey', 'Haddix', 'flu', 'Cardinal', 'Boyer', 'Busch', 'suffering', 'stiff', 'neck', '13-8', '1-3', 'Pirate', 'Danny', 'Murtaugh', \"hadn't\", 'Vern', \"Wednesday's\", 'Nieman', 'lineup', 'lengthy', 'Stan', 'Musial', 'anniversary', 'five-home', 'sore', 'Taussig', 'Lindy', 'groove', 'Bucks', \"Bucs'\", 'bats', 'quieted', 'recession', 'imposing', 'Smoky', 'Burgess', 'Gino', 'Cimoli', 'Virdon', 'Clemente', 'Groat', 'Hoak', 'Skinner', 'Hal', 'dragging', 'Perhaps', 'unhappiest', 'sit', 'Friend', 'beaten', 'Man', \"isn't\", 'blasting', 'plunkers', 'Bucs', 'jumped', '11-3', '7-6', 'ending', 'two-season', 'fall-off', '3-10', '4-13', \"'49\", 'so-so', '5-5', '12-17', 'finishing', '96', \"'52\", 'Cards', '6-7', '88', 'triumphs', \"club's\", 'tumbled', '11-18', 'recovering', 'runaway', \"'55\", 'Dodger', '21-2', 'nine-game', 'overcame', 'worst', 'comparable', \"York's\", \"'51\", 'battling', 'Billikens', 'Speakers', 'Tipoff', 'dealt', 'lavish', 'words', 'Benington', 'Mankowski', 'Hartweger', 'Kieffer', 'Bevo', 'Nordmann', '6-foot-10', 'conversation', 'respect', \"other's\", 'pepping', 'supposed', \"We'd\", 'halftime', \"Don't\", \"'em\", 'trio', 'shared', 'most-valuable', 'honors', 'Broeg', 'editor', 'Post-Dispatch', 'commended', 'clutch', 'all-round', 'excellent', 'ball-hawking', 'Bradley', \"U.'s\", 'recalled', 'doubted', 'faults', 'admired', \"Gordon's\", 'husband', 'bowl', 'thank', \"coach's\", 'talking', 'letting', 'Burnes', 'Globe-Democrat', 'congratulated', 'shape', 'healed', \"Louis's\", \"Bill's\", 'inscription', 'Outstanding', 'Contribution', 'Billiken', 'Basketball', '1960-61', 'lettermen', 'compiled', '21-9', 'runner-up', 'Invitation', 'Tournament', 'Hambric', 'Donnell', 'Reid', 'Luechtefeld', 'Latinovich', 'Notre', 'Dame', \"teams'\", 'overcome', 'anywhere', 'super', 'Scherer', 'pitched', '5-1', 'Crystal', 'defeats', 'tie', 'trips', 'Len', 'Boehmer', '4-for-5', 'Ligget', 'busy', 'Teachers', '3:30', 'doubleheader', 'Quincy', 'contented', 'cows', 'milk', \"shouldn't\", 'talents', 'harder', 'successfully', 'careers', 'frank', 'expectations', \"that's\", 'meant', 'knock', 'agree', \"they've\", 'heights', 'bull-necked', 'blond', 'switch-hitter', 'sensational', 'triple-crown', '52', \"rbi's\", '130', 'Like', \"Yankees'\", 'slugger', 'terror', 'ultimate', 'belted', '51', '127', 'happier', 'behaving', \"they're\", 'peaks', 'professionals', 'spelled', 'correctly', 'fifteenth', 'differently', 'rare', 'possessing', 'enabled', 'reserving', 'resented', \"Stengel's\", 'push', 'prod', 'thrilling', 'possessive', 'inherited', 'DiMaggio', 'Rizzuto', 'Class', 'C', 'Joplin', 'body', 'beautiful', \"Ol'\", 'homerun', 'hitter', 'bunter', 'base-runner', 'preached', 'kid', 'bubble', 'gum', 'sow', 'oats', 'Inheriting', 'sights', 'Broadway', 'quietly', 'bestowed', 'pun', 'intended', 'mantle', 'Major', 'continues', '162-game', 'spread', 'thin', '10-team', 'inviting', \"Angeles'\", 'Wrigley', 'glamorous', \"Ruth's\", '1927', 'Alvin', 'Commies', 'wonderful', 'walloping', 'Dark', 'Next', 'Leo', 'Durocher', 'taught', 'grass-green', 'rushed', 'Polo', 'Grounds', 'Romantic', 'concerns', 'Joan', 'Monroe', 'Armour', 'Wendell', 'Lake', 'brother', 'Hampton', \"bride's\", 'marriage', \"bridegroom's\", 'Barrett', 'Wendells', 'winter', 'holiday', 'Sarasota', 'occasion', 'arrive', 'Kirkland', 'Christmas', 'holidays', 'Peter', 'Westminster', 'measles', 'sister', 'Missoula', 'Mont.', 'baby', 'mother', 'Camilla', 'Alsop', 'bride', 'wedding', 'Met', 'bulletins', 'Sims', 'Cancer', 'Foundation', 'Opera', 'Turandot', 'Birgit', 'Nilsson', 'starred', 'Housed', 'McCormick', 'exciting', 'evening', 'adds', \"board's\", 'Belafonte', 'off-beat', 'Sulcer', 'Winnetka', 'publicity', 'Her', 'recently', 'university', 'east', 'Parichy-Hamm', 'Frederick', 'Hamm', 'Bruce', 'Parichy', \"Bernadine's\", 'Arms', 'Vero', \"Beadles'\", 'Beadles', 'Stevens', 'Kenilworth', 'niece', 'uncles', 'aunts', 'Rush', 'Butlers', 'Homer', 'Robertsons', 'Q.', 'Porters', 'bridal', \"Stevenses'\", 'Here', 'Press', 'fete', 'Lawn', 'Tennis', 'buffet', 'supper', '5:30', 'bus', \"Kramer's\", 'tennis', 'loud', 'huzzahs', 'artistic', 'success', 'Presbyterian-St.', \"Luke's\", 'Fashion', 'ringing', 'ears', 'Tieken', 'Geraghty', 'earn', 'acclaim', 'entertainment', \"summer's\", 'Trade', 'Armed', 'embassies', 'bushes', 'oriental', 'talent', 'Industry', 'cultural', 'activities', 'instance', 'Djakarta', 'dancers', 'whirling', 'dervishes', 'Damascus', 'obstacle', \"Geraghty's\", 'globe-girdling', 'smoothed', 'Syria', 'separated', 'Egypt', 'Arab', 'Republic', 'visa', 'First', 'Honolulu', 'Japan', 'Hong', 'Kong', 'Manila', 'Pakistan', 'Beirut', 'Rome', 'London', 'look', \"Geraghtys'\", 'youngest', 'Molly', 'bows', 'Passavant', 'Debutante', 'Cotillion', 'cotillion', 'gown', 'fitted', 'invitations', 'addressed', \"Molly's\", 'tea', 'Arts', 'folk', 'festival', 'singers', \"Chicago's\", 'sing', 'songs', 'Balkan', 'Byron', 'Harveys', 'Racquet', 'Abra', \"Prentice's\", 'Casino', 'Burke-Rostagno', \"Burkes'\", 'Lambert', 'Italian', 'studying', 'Florence', 'Aldo', 'Rostagno', 'Guglielmo', 'Rostagnos', 'Burkes', 'Europe', 'Kankakee', 'telling', 'engagement', \"Hall's\", 'girl', 'fiance', 'publishing', 'translates', 'farewell', 'Sethness', 'Consul', 'Giacomo', 'Profili', 'canceled', 'surgery', 'Odell', 'Clinton', 'King', 'Holabird', 'Boothby', 'Actress', 'Maureen', \"O'Sullivan\", 'costumes', 'Affaire', 'Towne', 'Bal', 'Masque', 'Germania', 'crabapple', 'trees', 'streets', 'Lyon', 'Columnist', 'Winchell', 'rat-a-tat-tatty', 'wheeled', 'trains', 'en', 'Phoenix', 'Ariz.', 'rancho', 'portable', 'typewriter', \"W.'s\", 'hinted', \"ain't\", 'Pretty', 'Sunny', 'Ainsworth', 'ex-Mrs.', 'Tommy', 'Manville', 'Arvey', 'Playboy-Show-Biz', 'promotional', \"She's\", 'fallout', 'shelters', 'beer', 'stein', 'pubs', 'nights', 'Everybody', 'ethics', 'morals', 'Comic', 'Gary', 'Lucille', 'Ball', 'scoop', 'Jane', 'Russell', 'singing', 'appearances', \"Russell's\", 'Skylark', 'debuting', 'Drury', 'sellout', 'cry', 'warbling', 'pain', \"medico's\", 'injection', 'inflamed', 'nerve', 'Simonelli', 'Universal-International', 'studio', 'exec', 'makes', 'column', \"bulletin'd\", 'wed', 'Rosemary', 'Strafaci', 'Mag', 'Handsome', 'bachelor', 'favorite', \"Hollywood's\", 'glamor', 'gals', 'Simon', 'Aiding', 'Leukemia', 'Stricken', 'Children', 'low-down', 'phonies', 'phones', 'solicit', \"Danny's\", 'Jude', 'Memphis', 'staging', 'entertain', 'underprivileged', 'mail', 'contribs', 'Box', '7599', 'solicits', 'dough', 'Olivia', 'Havilland', 'Garson', 'Kanin', 'Gift', \"She'll\", 'Gotham', 'Gorgeous', 'Doris', 'producer-hubby', 'Marty', 'Melcher', 'tour', 'U-I', 'Rackmil', 'Carnegie', 'toast', 'movie', 'exhibitors', \"It'll\", 'screenings', \"Doris'\", 'Lover', 'Come', 'Back', 'Flower', 'Drum', 'Song', 'Whee', 'People', 'Lovely', 'Thrush', 'Annamorena', 'biz', 'touches', 'hubby', \"Lenobel's\", 'fur', 'Typical', 'mink', 'Freddie', 'Wacker', 'frau', 'Jana', 'Mason', 'ex-singer', \"Wackers'\", 'Fur', 'goodness', 'sake', 'Emcee', 'Herbert', \"Nixon's\", 'slogan', 'Knight', 'Fall', 'Give', 'generously', 'buy', 'candy', 'Brain', 'worthiest', 'charities', 'Best', 'Bet', \"darlin'\", 'dazzler', 'Paree', 'Genevieve', 'Trager', 'showman', 'boss', 'holders', 'Stock', 'Yards', 'Jump', 'Packs', \"Nobody's\", 'mentioned', \"ol'\", 'Mets', 'baseballight', 'wear', 'uniform', 'Bernie', 'Kriss', 'bayonet', 'clashes', \"Berlin's\", 'Brandenburg', 'Gate', 'Sentry', 'jotted', 'dept.', 'Khrush', 'confident', \"They're\", 'contaminating', \"earth's\", 'via', 'megaton', 'bombs', 'peasants', 'Albert', 'Luthuli', 'awarded', 'Nobel', 'African', 'struggles', 'collect', 'Hmpf', 'frothier', 'Weissmuller', 'Tarzan', 'telephoned', 'muttered', 'Me', 'Snapped', 'glib', 'garrulous', 'Everywhere', 'sidled', 'guttural', 'frightening', 'yodel', 'roles', 'Dolce', 'Vita', 'dynamite', 'flicker', 'opens', 'Loop', 'masterful', \"Veeck's\", 'dynamo', 'medics', 'rest', 'swim', 'doings', 'Tribune', 'tells', 'misses', 'Ticker', 'Jean', \"Fardulli's\", 'Angel', 'import', 'crazy', 'Twist', \"They'll\", 'lessons', 'pronto', 'cheer', 'Francis', 'Lorenz', 'probate', 'suggestions', 'deposit', 'boxes', 'dies', 'closed', 'Gods', 'gala', 'Music', 'dancing', 'furnished', 'Uhles', 'orchestra', 'Members', 'guests', 'suites', 'patio', 'genial', 'Beginning', 'nightly', 'Hackstaff', 'Luette', 'Bowman', 'celebrates', 'birthday', 'Chase', 'Sheila', 'Mercy', 'Grandparents', 'Mullenax', 'Kittredge', 'w.', 'coast', 'McIntosh', 'Buell', 'Santa', 'Calif.', 'Vroman', 'Manzanola', 'Plaza', 'Merrill', 'Shoup', 'Colorado', 'Palace', 'Brig.', 'McDermott', 'black', \"Officers'\", 'Cocktail', 'Piero', 'Luise', 'Emilio', 'Bassi', 'Bassis', 'stag', 'precede', 'Cocktails', 'dining', 'Betsy', 'Parker', 'Eastern', 'Security', 'Life', 'Bldg.', 'Guests', 'juniors', 'staged', 'Neusteters', 'preceded', 'Teter', 'Mead', 'decorations', 'Stanley', 'Wright', 'Pate', 'Milton', 'Bernet', 'Rollie', 'Bradford', 'Butler', 'Carr', 'Campbell', 'Carruthers', 'Cris', 'Dobbins', 'Glass', 'Alfred', 'Hicks', 'Magarrell', 'Willett', 'Myron', 'Neusteter', 'Sudier', 'Welborn', 'D.C.', 'Kira', 'R.L.', 'Rickenbaugh', 'E.O.', 'Scarsdale', 'cheery', 'smile', 'compassionate', 'practical', 'down-to-earth', 'qualities', 'Esther', 'Marr', 'asset', 'Salvation', 'Social', 'Center', '1200', 'Larimer', 'pert', 'gray-haired', 'civilian', 'covers', 'tasks', 'Mom', '80', 'link', 'bridge', 'gulf', 'alcoholics', 'parolees', 'pressing', 'written', 'Week', 'plenty', 'schedules', 'solved', \"Marr's\", 'welcome', 'mat', 'Skid', 'Row', 'decides', 'wants', 'sees', 'cup', 'steaming', 'coffee', 'awaiting', 'chat', 'informally', 'presents', 'Usually', 'withdrawn', 'relearns', 'mingle', 'Denverite', 'bum', 'tickets', 'beggar', 'sporting', 'concerts', 'cookies', 'sweets', 'sugar', 'watching', 'parole', 'readjust', 'mid-June', 'vacation', 'forth', 'vast', 'lovely', 'all-American', 'safari', 'motel-keepers', 'bleak', 'Vacancy', 'abroad', 'suitcases', 'comic', 'magic', 'Ah', 'simple', 'reared', 'grandma', 'summertime', 'onslaught', '7-day', 'journey', '2809', 'miles', 'Tucson', 'influx', 'testify', 'motels', 'comfort', 'stations', 'Scots', 'heather', 'wagons', 'roadside', 'restaurants', 'souvenir', 'snake', 'braced', 'boasting', 'offers', 'vacationing', 'beauty', 'far-flung', 'over-night', 'accommodations', 'Maybe', 'motel-keeping', 'tastes', 'peculiarities', 'Shamrock', 'Motel', 'advertises', 'vented', 'heat', 'carpeted', 'storm', 'cellar', 'pools', 'Innumerable', 'boast', 'swimming', 'hospitable', 'poised', 'brink', 'adults', 'Motorists', 'myself', 'tourists', 'accommodated', 'village', 'marvel', 'luxury', 'relatively', 'fast-grossing', 'motel', '$14', 'Boxwood', 'Winchester', 'Va.', 'accidentally', 'suite', 'elegant', 'wall-to-wall', 'carpeting', 'gold', 'white', 'furniture', 'pink', 'satin', 'brocade', 'chairs', '24-inch', 'tile', 'bath', 'towels', 'proprietor', '$8.50', 'tab', 'ants', 'pressed-paper', 'Oxnard', 'Judith', 'Ellen', 'Gay', 'Munger', 'Methodist', 'Parents', 'Ferris', '7034', 'Coronado', 'bridegroom', 'Baines', 'Monica', 'UCLA', 'Perkins', 'Theology', 'officiated', 'Honor', 'attendants', 'Sandra', 'Branum', 'McRoberts', 'Sequoia', 'Frances', 'Baker', 'Elvis', 'chapel', 'Presbyterian', 'Rhodes', 'Semmes', 'Kappa', 'Gamma', 'Mortar', 'Alton', 'Shreveport', 'Cater', 'Parmer', 'Alpha', 'Tau', 'Omega', 'Sigma', 'Pi', 'Grahamstown', 'Fellowship', 'Freeman', 'Pabor', 'Hand', 'music', 'wore', 'court-length', 'organdy', 'bateau', 'neckline', 'princesse', 'skirt', 'accented', 'lace', 'appliques', 'veil', 'crown', 'gardenias', 'stephanotis', 'Baird', 'maid', 'bridesmaids', 'Dawson', 'Hinsdale', 'Reeder', 'Cecil', 'Hartford', 'Conn.', 'groomsmen', 'Carter', 'Conrad', 'McEachern', 'Ken', 'Neumann', 'seated', 'Mayfair', 'newlyweds', 'Corpus', 'Christi', 'Shirley', 'Meredith', 'Arlington', '2705', 'Fitzhugh', 'Hardy', 'Floresville', 'Chapel', 'Beam', 'featuring', 'flared', 'jacket', 'pearl', 'headdress', 'orchids', 'Glenda', 'Kay', \"sister's\", 'Lewelleyn', 'Angelo', 'Lovelace', 'Cedric', 'Burgher', 'Christian', 'Pampa', 'Marcile', 'Marie', 'Glison', 'Earl', 'Loving', '8861', 'Gaston', 'Ervin', \"Woman's\", 'studies', 'Night', 'gayety', 'Thrift', 'Shop', 'Philmont', 'reputation', 'fun', 'promises', 'tradition', 'Grinsfelder', 'food', 'colorful', 'hospitality', 'exactly', \"We've\", 'prospects', 'hats', 'excitement', 'Basin', 'Beat', 'festivities', 'jazz', 'combo', 'Lester', \"Lanin's\", 'Louchheim', 'phase', 'globetrotter', \"R's\", 'oysters', 'specialties', 'chef', 'Scenic', 'effects', 'scenic', 'flowers', 'reproductions', 'handsome', 'grillwork', 'typical', 'Cohen', 'Hollander', 'display', 'Brothers', \"Shop's\", 'bundle', 'clothing', 'household', 'bric-a-brac', 'stock', 'shelves', \"shop's\", '1213', 'Walnut', 'Bundle', 'convenience', 'throughout', 'suburbs', 'deposited', 'bundles', 'dinners', 'Bernhard', 'Blumenthal', 'fund-raisers', 'Jewish', 'Agencies', 'competence', 'contribution', 'totals', '$840,000', 'feminine', 'husbands', 'Glazer', \"men's\", 'staffing', 'shop', 'Kapnek', 'Newburger', 'hostesses', 'Loeb', 'arrangements', 'Lichtenstein', 'Rose', 'secretarial', 'duties', 'aides', 'Lewis', 'Kaufnabb', 'Weinberg', 'Allan', 'Goodman', 'controllers', 'Stone', 'Quell', 'admittance', 'P.m.', 'Besides', \"David's\", 'pre-Fair', 'dessert', 'Spurdle', 'Moody', 'Wilkinson', 'Ethel', 'Coles', 'Lacy', 'Chance', 'Harcourt', 'Moller', 'Zeising', 'Kilhour', 'Cauffman', 'Baringer', 'Clyde', 'Newman', 'Natalie', 'Collett', 'Newbold', 'commentator', 'Models', 'Meyle', 'Hole', 'Harrity', 'Kloman', 'Wolcott', 'Wheeler', 'Boyd', 'Mrs', 'Putt', 'Col.', 'Clifton', 'Lisle', 'Troop', 'decades', 'honorary', 'invites', 'camping-out', 'year-round', 'sub-zero', 'temperatures', 'Cotty', 'Felske', 'Smythe', 'posters', 'Meet', 'Artist', 'invitation', 'Greater', 'arrange', 'exhibit', 'sale', 'paintings', 'sculpture', 'preview', 'sponsors', 'artists', 'Proceeds', 'levels', 'Noted', 'Monte', 'Tyson', 'Delaware', 'Valley', 'Marc', 'Shoettle', 'Shahn', 'Nicholas', 'Marsicano', 'Loen', 'Avery', 'portrait', 'wins', 'door', 'originated', 'Wissahickon', 'continuing', 'fund-raiser', 'Others', 'Jerome', 'Blum', 'Meyer', 'Schultz', 'co-chairmen', 'Assisting', 'chairmen', 'Malmud', 'Fernberger', 'Cushman', 'Berton', 'Korman', 'Rosen', 'Jacques', 'Zinman', 'Evelyn', 'Kamens', 'Langsdorf', 'Liss', 'Blumberg', 'Oscar', 'Bregman', 'Kershbaum', 'Sabol', 'Volney', 'Ludwick', 'Evans', 'Kimbolton', 'Rockhall', 'App', 'Book', 'Voorhees', 'Anderson', 'entertained', 'Coulson', 'Fairless', 'Hills', 'son-in-law', 'Glennon', 'Brigantine', 'Janssen', 'Lynn', 'Marella', 'Orcutt', 'Drexel', 'Eileen', 'Heinze', 'entertaining', 'Lehner', 'Vienna', 'Ingo', 'Dussa', 'Dusseldorf', 'Bietnar', 'Haaek', 'Brelin', 'Hoaps', 'Delray', 'Anne', 'Clearwater', 'Cmdr.', 'Taylor', 'USN.', 'Greenwich', 'Easter', \"latter's\", 'Walbridge', 'DeForest', 'Emmert', 'Newtown', 'Ashman', 'Pa.', 'Merner', 'Bermuda', 'Godwin', 'Vieth', 'Susan', 'Wall', 'Nell', 'celebrated', 'February', 'graduated', 'Louise', 'McGehee', 'Wellesley', 'Stella', 'Hayward', 'Tulane', 'Epsilon', 'fraternity', 'Majesties', 'Queen', 'Carnival', 'Comus', 'jointly', 'Shrove', 'ballroom', 'downtown', 'Rex', 'hosts', 'Walkers', \"McConnell's\", 'debutante', 'Lady', 'feted', 'hostess', 'Socola', 'Waveland', 'Vieux', 'Carre', 'restaurant', 'Richmond', 'honoree', 'Dane', 'Katherine', 'Vickery', 'attends', 'Sweet', 'Briar', 'rejoin', 'pl.', 'Achaeans', 'masquerade', 'Margaret', 'Pierson', 'Muncipal', 'Auditorium', 'ladies', 'Misses', 'Clayton', 'Nairne', 'Eleanor', 'Eustis', 'Irwin', 'Leatherman', 'Robinsonville', 'Helene', 'Rowley', 'ablaze', 'array', 'chic', 'ballgowns', 'worn', \"maskers'\", 'dances', 'queen', 'chose', 'slim', 'panels', 'tomato-red', 'Jordan', 'taffeta', 'frock', 'fringed', 'tiers', 'crimson', 'silk', 'slippers', 'maids', 'greenish', 'Fenwick', 'ashes', 'roses', 'slipper', 'Feringa', \"Achaeans'\", 'eggshell', 'filmy', 'dress', 'decolletage', 'trimmed', 'edging', 'tulle', \"Reily's\", 'olive-green', 'embroidered', 'bodice', 'threads', 'sequins', 'beads', 'cuts', 'lay-offs', '12:01', 'A.M.', 'Simpson', \"railroad's\", 'drastic', 'decline', 'freight', 'loading', 'principally', 'necessitated', 'regrettable', 'affect', 'employees', 'Salary', 'supervisors', 'unions', '3,325', 'class', 'Sufficient', 'furlough', 'wages', 'furloughed', 'thug', 'struck', 'cab', 'robbing', '$18', 'Mount', 'Streets', 'victim', 'Wiley', '38', '900', 'robbery', 'attempted', 'bandit', 'assailant', 'automatic', 'Verstandig', 'store', '2100', 'Aiken', 'Negroes', 'assaulted', '$150', 'register', 'choking', 'burned', 'seriously', 'damaged', 'one-room', 'Arundel', 'Darnell', 'Somerville', 'arrival', 'Annapolis', 'burns', 'Boy', 'second-degree', 'occurred', 'mile', 'south', 'Severna', 'recording', 'mechanically', 'Jenkins', 'Ellwood', 'long-time', 'Cites', 'discrepancies', 'contained', 'memory', \"Jenkins's\", 'hate', 'write', 'machine', 'permanent', 'Pullen', 'Commissioners', 'Zoning', 'bodies', 'suits', 'misunderstandings', 'notes', 'boards', 'Bertorelli', 'ambulance', 'Doctors', 'partially', 'paralyzed', 'parked', 'barber', '229', 'summoned', 'Piraro', 'deficiencies', 'snow', 'corrected', 'Councilman', 'Schaefer', 'Fifth', 'salting', 'crews', 'dispatched', 'storms', 'longer', 'Werner', 'Conceding', 'north', 'improvements', 'slowly', 'Equipment', 'snowfall', 'halting', 'operations', 'Sent', 'manual', 'laborers', 'Work', 'resumed', 'parking', 'banned', 'tires', 'chains', 'Admitting', 'overlooked', 'merchants', 'survive', 'Recounting', 'observations', 'clearance', 'inefficient', 'supplies', 'poorly', 'trained', 'plow', 'blades', 'layer', 'freezes', '15-year-old', 'murdered', 'Chesapeake', 'Bay-front', 'Spring', 'detention', 'victims', 'Malone', 'Dresbach', 'rifle', 'Capt.', 'Elmer', 'Hagner', 'detectives', 'Benjamin', 'Michaelson', 'remanding', 'jurist', 'Younger', 'Soon', '1-1/2-story', 'brick', 'Manor', 'bay', \"Dresbach's\", 'first-floor', 'bedroom', 'kitchen', 'shootings', 'driven', \"mother's\", 'broadcast', 'brothers', 'natural', 'Dresbachs', 'Trooper', 'Grzesiak', 'Route', \"Dresbachs'\", 'Edgewater', 'Tawes', 'Lloyd', 'Simpkins', 'administrative', \"Maryland's\", 'Finan', 'Ferdinand', 'Sybert', 'judgeship', 'swearing-in', 'Somerset', 'resident', 'countian', 'Agriculture', '1947', \"university's\", 'Delegates', 'outset', 'guiding', 'spirits', 'totaled', '$77,389,000', 'compared', 'Dodge', 'Corporation', 'Nonresidential', '$20,447,000', '28', '$47,101,000', '$9,841,000', 'cumulative', 'amounted', '$634,517,000', 'corresponding', 'ten-month', '$253,355,000', '$278,877,000', '$102,285,000', '33', 'consists', 'shelter', 'market', 'enjoyed', 'availability', 'mortgage', 'prosperity', 'consumer', 'encouraged', 'apartment-building', 'vary', 'choosing', 'Pantas', 'hardware', 'manufacturing', 'seekers', 'maintaining', 'Convenience', 'Trouble-free', 'long-life', 'quality', 'components', 'increasingly', 'predicted', 'Sixty-seven', '165-unit', 'Harbor', 'View', 'Apartments', 'Cherry', 'Ultimately', 'comprise', 'two-story', 'three-story', 'structures', 'Various', 'terrace', 'entrance', 'stairs', 'balconies', 'masonry', 'Heating', 'gas-fired', 'warm', 'Johns-Manville', 'Vital', 'secrets', \"Britain's\", 'submarine', 'Dreadnought', 'implication', \"navy's\", 'still-building', 'sub', 'London-based', 'soviet', 'spy', 'ring', 'agents', 'testified', 'built', 'designs', 'supplied', 'killer', 'hunter', 'subs', 'hull', 'patterned', 'Nautilus', 'derived', 'reactor', 'Skipjack', 'Bow', 'British', 'Gee', 'devoted', 'friend', 'Houghton', 'divorced', 'whisking', 'strongrooms', 'Lonsdale', 'presumed', 'Russian', 'Canadian', 'passport', 'arrested', 'roll', 'candid', 'camera', 'anti-submarine', 'wrapping', 'Flashed', 'shadowy', 'Kroger', 'bookseller', 'Joyce', 'Krogers', 'Lola', 'suburban', 'cottage', 'transmitter', 'buried', 'dots', 'marks', 'dot', 'magnification', 'drawing', 'page', 'manuscript', 'innocent', 'bail', 'Dunlop', 'sorely', 'widowed', 'maiden', 'aunt', 'bedridden', 'uncle', '76', 'Refuses', 'magistrate', 'K.J.P.', 'Baraclough', 'Bailey', 'criminal', 'Klaus', 'Fuchs', 'naturalized', 'German', 'Russia', '1950s', 'sentenced', 'Fourteen', 'altered', '1960s', 'behavior', 'promptly', 'communist', '$29,000', 'currency', 'Mervin', 'Griffith-Jones', \"general's\", 'asserted', 'paymaster', 'selling', 'highest', 'undersea', 'grimly', 'adviser', 'underwater', 'warfare', 'Symonds', 'drawings', 'ship', 'reproduced', 'undeveloped', 'Vic', 'potential', 'cleared', 'watched', 'broken', 'untold', 'lawyers', 'clients', 'Almost', 'reveal', 'designing', 'nowhere', 'sharing', 'blabbed', 'propelling', 'machinery', 'design', 'generation', 'advanced', \"Navy's\", 'Much', \"Skipjack's\", 'August', 'teardrop', 'potent', 'Polaris', 'missile', 'atom', 'cooled', 'reactors', 'branch', 'Westinghouse', 'Electric', 'Thru', 'steam', 'turbines', 'greatly', 'complexity', 'propeller', 'navy', 'Albacore', 'fastest', 'Reputedly', 'outrun', 'destroyers', 'reputedly', '70,000', 'refueling', 'hunter-killer', 'ships', 'gear', 'torpedoes', \"Gee's\", 'purse', 'Interested', 'detector', 'ASDIC', 'detecting', 'Range', 'detail', 'Designs', 'radiomen', 'nabbed', 'calling', 'signals', 'wavelengths', 'codes', 'hidden', 'cigaret', 'lighters', \"Lonsdale's\", \"Krogers'\", 'fastened', 'lid', 'Oddly', 'indictment', 'narcotics', 'rumor', 'malice', 'enmity', 'Perry', 'Cooperman', 'Teller', 'indictments', 'narcotic', 'Sokol', 'peddlers', 'racket', 'posed', 'addicts', 'sometimes', 'rivalries', 'aiming', 'criminals', 'jealousies', 'grievances', 'creditable', 'mentions', 'compensations', 'nominated', 'Tree', 'medal', 'comments', 'Connelly', \"clients'\", '$4,700', 'heroin', 'convicted', 'peddler', 'Otis', 'Sears', '6934', 'Indiana', 'Av.', '$800', 'witness', 'Moses', 'Winston', 'Mardis', '5835', 'agent', 'bondsman', 'adjourned', 'Jeremiah', 'Hope', 'Pullings', 'Jessy', 'Maroy', 'indicted', 'Buaford', '7026', 'Stewart', 'CTA', 'robbed', 'youths', '51st', 'Way', \"physician's\", 'eyebrow', 'bag', '$40', '$214', 'paycheck', 'Policemen', 'Morgan', 'Wabash', 'boarded', 'bound', 'express', 'Dunbar', 'Vocational', '30th', 'skylarking', 'supervisor', 'youth', 'accosted', 'ensued', 'fled', 'Blanche', 'Dunkel', 'reformatory', 'murder', '1935', 'Lang', 'appealed', 'pardon', 'Bookwalter', 'Carpentier', 'Stratton', 'commuted', 'slaying', 'lover', '1934', 'relationship', 'wealthy', 'Evanston', 'forbidden', 'chase', 'icy', 'Wilmette', 'Stickney', '3211', 'reckless', 'Corcoran', 'salesman', 'Plee-Zing', '2544', 'brokerage', 'Patrolman', 'Simms', 'pursuit', 'speeding', 'Jenks', 'skidded', 'sped', 'spun', 'Prairie', 'Johns', '21-year-old', 'Pohl', 'bludgeon', 'Anna', 'Hengesbach', 'visible', 'emotion', 'cell', 'court-appointed', 'Stepson', 'vindicated', \"woman's\", 'stepson', '54', 'reach', 'cloud', 'neighbor', 'pleased', 'suspicion', 'removed', 'Still', \"else's\", 'misfortune', 'Lives', 'rebuild', 'settled', 'grandfather', 'Westphalia', 'southwest', 'Ledge', 'barn', 'release', 'arson', 'killing', 'confession', 'retracted', 'Charges', 'Prosecutor', 'Fred', 'Cash', 'sentencing', 'motion', 'Locked', '4:05', '13-1/2', 'deliberation', 'locked', 'overnight', 'canvassed', 'foreman', 'Olive', 'Heideman', 'Elsie', \"Pohl's\", 'valid', 'definition', 'packed', 'Sterling', 'Township', 'surviving', 'died', 'aftermath', 'homeowners', 'hard-hit', 'Kowalski', '34220', 'Viceroy', 'Holy', 'bottled', 'Pankowski', 'adjoining', 'suburb', 'Services', 'Funeral', 'Christine', \"Anne's\", '31978', 'Mound', 'Mt.', 'Olivet', 'Cemetery', 'rested', 'caskets', 'Lyle', 'Elliott', '31730', '61', 'fueled', 'cook', 'stove', \"grandmother's\", 'upstairs', '2274', 'Eight', 'Mile', 'Road', 'candle', 'Cornell', 'fumes', 'ignited', 'girls', 'lacked', 'electricity', \"Christine's\", 'twin', 'Darlene', 'escaped', 'Vicky', 'Dennis', 'Bernardine', 'Mother', 'roofer', 'seldom', 'arrears', 'split-level', 'tragedy', 'funeral', 'A135', 'Neighbor', 'Sidney', '2269', 'Serra', 'supplying', 'meals', \"Kowalski's\", 'sister-in-law', '22111', '2731', 'Pall', 'Mall', '$135', 'collected', '$400', 'Tareytown', 'Homeowners', 'announcing', 'door-to-door', 'subdivision', 'Students', 'canvass', '480', 'northeast', 'Dequindre', 'mailed', '553', 'Village', '$25', 'Fuhrmann', '5155', 'Principal', 'Pohly', 'collection', 'revealed', 'Y-Teen', 'surpluses', 'Funds', 'Student', 'proceeds', \"Fuhrmann's\", '770', \"Furhmann's\", 'faculty', 'spontaneous', 'fondness', 'sympathy', 'Line', '3505o', 'Expresses', 'spoken', 'properly', 'alert', '10-year-old', 'patrol', 'conviction', 'youthful', 'motorist', 'Kimmell', 'McClellan', 'Sisk', '9230', 'Vernor', 'grader', 'Scripps', 'Belvidere', 'Kercheval', 'belatedly', 'crosswalk', 'Gets', 'safely', 'approaching', 'narrowly', 'Commandeering', 'pursued', 'fleeing', 'Returning', 'Sarkees', '2433', 'Given', 'Traffic', 'Murphy', 'no-driving', 'Correction', 'showdown', 'Help', 'Vientiane', 'Laotian', 'offensive', 'southeast', 'truce', 'reconvened', 'Delhi', 'verify', '14-power', 'Plea', 'Tiao', 'Sopsaisana', 'thinking', 'troops', 'worsens', 'full-fledged', 'note', 'Ambassador', 'Winthrop', 'Heavy', 'minister', 'describing', 'appeal', '60,000', 'Vietnamese', 'Thakhek', 'southern-central', 'confirmation', 'massive', 'assaults', 'sources', 'claims', 'exaggerated', 'Havana', 'Cubans', 'executed', 'firing', 'squads', 'tribunals', 'decreeing', 'captured', 'suspected', 'collaborators', 'McNair', 'executions', 'dawn', 'revolutionary', 'tribunal', 'Pinar', 'Del', 'Rio', 'plot', 'Seattle', 'ex-marine', 'businessman', 'condemned', 'smuggling', 'rebels', 'commander', 'Legion', 'disbanded', 'Fidel', \"Castro's\", \"Anderson's\", 'seized', 'boatload', 'rifles', 'Report', 'roundup', 'Raymont', 'Berrellez', 'Associated', 'swept', 'dragnet', 'auditorium', 'converted', 'makeshift', 'jails', 'Roman', 'priests', 'concentration', 'Siberia', 'prisoners', 'Kegham', 'pseudynom', 'Bucharest', 'Armenian', 'Revolutionary', 'ARF', 'Today', 'Emory', \"University's\", 'Trustees', 'by-laws', '33-man', 'taxing', 'roadblock', 'tax-exempt', 'institutions', 'segregated', 'standards', 'institution', 'grade', 'tax-exemption', 'privileges', 'conforms', 'aforementioned', 'statutory', 'provisions', 'obstacles', 'desegregation', 'intend', 'exempt', 'taxation', 'criteria', 'endowments', 'colored', 'integrated', 'challenged', 'affiliated', 'Urged', 'newspaper', 'Wheel', \"trustees'\", 'commitment', 'excellence', 'Teaching', 'paramount', 'generous', 'recognize', 'obligation', 'promote', 'creed', 'Insofar', 'governing', 'documents', 'applications', 'prospective', 'irrespective', 'Corporate', 'existence', 'derives', 'corporate', 'jeopardizing', 'desiring', 'intellectual', 'moral', 'fulfillment', 'mission', 'riding', 'slid', 'pole', 'Waddell', 'NE', '1688', 'Knoll', 'Cir.', 'Hammons', 'evidently', 'rain-slick', 'occupants', 'Willard', 'Olvey', '963', 'Ponce', 'Leon', 'Coleman', '704', 'SE', 'lacerations', 'bruises', 'renewed', 'picketing', 'stand-ins', 'first-run', 'theaters', 'Appeal', 'Human', 'Rights', 'identically', 'worded', 'Downtown', 'art', 'contacted', 'COAHR', 'Gather', 'eve', 'operators', 'likelihood', 'three-day', 'sporadic', 'negotiate', 'Black', \"Friday's\", 'inability', 'indifference', 'integrate', 'pledged', 'nonviolent', 'extensive', 'presence', 'picket', 'profits', 'uptown', 'Buckhead', 'Killingsworth', '72', '357', 'Venable', 'Kililngsworth', 'S', 'W', 'Cafeteria', 'Pittsboro', 'Survivors', 'sisters', 'Bessie', 'Bloom', 'Gettysburg', '68', 'Marietta', 'NW', 'Apartment', '101b', 'painter', 'Oakland', \"Blanchard's\", 'Hearn', 'officiating', 'Emma', 'Odom', 'Fergeson', 'Tenn.', 'daughters', 'Stoll', 'Nancy', 'Greenville', 'S.C.', 'Little', 'Wansley', 'Wallace', 'Wilmington', 'N.C.', '24-year-old', 'rock', 'assaulting', 'subdue', 'Patrolmen', 'Slate', 'Crawford', 'Ronald', '1671', 'Nakoma', '511', '11-month-old', 'ripped', 'latch', 'scratching', 'melee', 'scratches', 'violent', 'attacked', 'subdued', 'uniforms', 'counts', 'assault', 'battery', 'resisting', 'disturbance', 'cursing', '5,000', 'desk', 'guest', 'Hall', 'disability', 'entries', 'ranging', 'transfers', 'employments', 'pensions', 'wistfully', 'tribute', 'intensifying', 'ant', 'eradication', 'fast-spreading', 'pest', 'Troup', 'Pierce', 'Bryan', 'Bulloch', 'treat', '132,000', 'acres', 'infested', 'Blasingame', 'entomologist', 'Low-flying', 'planes', 'granular-type', 'chemical', 'heptachlor', '30,000', '37,000', '65,000', 'Bibb', '37,679', 'treating', '20,000', 'Macon', 'Bleckley', 'Tift', 'Turner', 'infest', 'approximately', 'attacking', 'crops', 'wildlife', 'livestock', 'menace', 'humans', 'allergic', 'venom', 'north-bound', 'Expressway', '14th', 'survey', 'electric', 'computers', 'cameras', 'engineers', 'congestion', 'suggest', 'intersection', 'daylight', 'Cain', 'Piedmont', 'junction', 'Northeast', 'Northwest', 'Expressways', 'crashes', 'fiery', 'crash', 'Snellville', 'Patrol', '4-year-old', 'Claude', 'Maynor', 'Calvary', 'Troopers', 'path', '111', 'Bursts', 'flames', 'auto', 'overturned', 'skidding', 'tractor-trailer', 'burst', 'Bester', 'Hammett', 'Rte.', 'Lawrenceville', 'Herrington', 'flaming', 'unusually', \"month's\", 'GA', 'category', 'allotment', 'commissioners', '$58,918', 'budgeted', '$66,000', '$7,082', '$17,000', 'slackening', 'oks', 'pact', 'newly-appointed', 'Webster', 'River', 'Ennis', 'Keizer', 'consultant', 'data', 'processing', 'considerable', 'converting', 'electronic', 'magnetic', 'tape', 'renew', '$8', 'adapting', 'Administrator', 'Juras', \"Field's\", 'unique', 'handicapped', 'emphasized', 'employ', 'fulfill', 'handles', 'regrets', 'literally', 'wheels', 'directing', 'answerable', \"man's\", 'conversion', 'familiarity', 'Do', 'defend', 'Peck', 'moment', 'arguments', \"commission's\", 'vice-chairman', 'Patterson', 'Physicians', 'Service', 'crippling', 'weaknesses', 'communications', 'F', 'objective', 'create', 'robber', 'Huntley', 'Lavaughn', 'getaway', 'Woodyard', \"Bros.'\", 'Grocery', '2825', 'Burnside', 'McNeil', 'Hillsdale', 'holdup', 'Secret', 'Detective', 'Murray', 'Logan', 'culminates', 'robberies', 'papers', '12-year-old', 'Elaine', '9329', 'Schuyler', 'Bess', 'Kaiser', 'bicycle-auto', 'collision', 'Gateway', 'Shopping', 'Forsyth', 'Brett', '1926', '50th', 'Riverview', 'Abbey', '1886', 'logging', '1928', 'Macwhyte', 'Alice', 'Wash.', 'Horstman', 'Lucy', 'Beatrice', 'Kiefferm', 'grandchildren', 'Employes', 'Dalles', 'decertify', '1565', 'Retail', 'Clerks', 'AFL-CIO', 'collective', 'NLRB', 'potentially', '67', 'theatrical', 'producer', 'band', 'collapsed', '6124', 'Blvd.', 'functions', 'Fair', 'booked', 'collaborated', 'entertainers', 'Jimmy', 'Durante', 'Silvers', '20-piece', 'profession', 'Harmony', 'lodge', 'AF', 'AM', 'Scottish', 'Rite', 'Kader', 'Shrine', 'Order', 'Elks', '142', 'Voiture', \"Musician's\", '99', 'Heights', 'Nevah', 'Sholom', 'Congregation', 'Tearle', 'Stein', 'Dorenzo', 'Birdie', 'Gevurtz', 'Aaron', 'Cohn', 'Holman', 'Son', 'interment', 'Neveh', 'Zebek', 'cemetery', 'omitted', '16-year-old', 'Achievement', 'judged', 'competition', 'Tim', 'Larson', 'Wilson', 'Spice-Nice', 'guided', 'top-ranking', '4,500', '11-year', 'JA', 'Scolatti', 'counseled', 'Georgia-Pacific', 'first-place', 'regional', 'pocket-size', '$2,170', 'barbecue', 'spices', 'stockholders', 'dividend', 'investment', 'Youngsters', 'teenagers', 'guidance', 'youngsters', 'full-scale', 'businesses', 'culmination', 'Participants', 'adult', 'advisors', 'drawn', 'Savings', 'Bond', '$250', 'distributed', 'g-p', 'Advisors', 'Breuer', 'Stephenson', '5847', 'Nevada', 'Ct.', 'Kathleen', 'Jefferson', 'Reifenrath', 'Madison', 'Wegener', 'Karen', 'Kolb', 'Shelby', 'Carlson', 'Hillsboro', \"County's\", '36th', '4-H', 'FFA', '8:30', \"day's\", 'flower', 'horsemanship', 'clown', 'shows', 'Attendance', 'five-day', 'skies', 'attract', 'fairgoers', 'Exhibition', 'Wick', 'Walters', 'all-county', 'quartet', 'baton', 'twirler', 'Sue', 'Nuttall', 'Reedville', 'Finalists', \"county's\", 'Results', 'Janet', 'Jossy', 'sheep', 'ribbons', 'Stephanie', 'Zurcher', 'Phyllis', 'Carol', 'Lorlyn', 'exhibited', 'hog', 'Traxel', 'Hutchins', 'Banks', 'Swine', 'showmanship', 'blues', 'Pumpkin', 'rabbit', 'poultry', 'judging', 'Nyberg', 'Tualatin', 'Batchelder', 'Tigard', 'eggs', 'Wacklin', 'Sherwood', 'male', 'female', 'bird', 'Haase', 'Corneilus', 'entrant', 'swine', 'championships', 'Strong', 'Cedar', 'Mill', 'cooked', 'Millie', 'Jansen', 'Verboort', 'Jody', 'Jaross', 'Borland', 'economics', 'demonstration', 'filbert', 'appeals', 'assessors', 'assessments', 'Centredale', 'Grenier', 'assessment', 'properties', 'quarterly', 'Pezza', '69', '734', 'shoulder', 'pains', 'collided', 'Giorgio', 'DeSoto', 'onto', 'slightly', 'DiSimone', 'uninjured', 'Thieves', 'ransacked', 'Cranston', '$3,675', 'furs', 'jewels', 'coins', 'Stephen', 'Kochanek', 'theft', 'Drive', 'intruders', 'coat', '$700', 'Persian', 'lamb', '$450', 'wallet', 'French', 'valued', 'rings', 'earrings', 'diamond', '$900', '$325', '$75', '$65', '$125', '$85', 'Kochaneks', 'Nunes', 'investigated', 'thieves', 'Drawers', 'cabinets', 'bedrooms', 'sewing', 'stoppage', 'Eddy', 'Elm', 'dumping', 'raw', 'sewage', 'acid', 'jewelry', 'plants', 'flowing', 'tide', 'two-family', '255', 'Brook', 'deed', 'Cochran', 'bought', 'rental', \"Pawtucket's\", 'garbage', 'rubbish', 'picketed', \"firm's\", 'incinerator', 'strike', 'Rotelli', 'Incinerator', \"company's\", 'collections', 'hired', 'Sydney', 'Workers', '62-year-old', 'Smithfield', 'Beverly', 'Circle', 'satisfactory', 'Fatima', 'Woonasquatucket', 'fractured', 'ribs', 'chest', \"Stone's\", 'brushed', 'Alva', 'Vernava', 'Maple', 'tearing', 'rear', 'bumper', 'denting', 'fender', 'impact', 'Fruit', \"Committee's\", 'audio-visual', 'Democratic-endorsed', 'acted', 'improperly', 'Nolan', '3rd', 'Walsh', 'Tougas', 'finding', \"superintendent's\", 'suitable', 'Vermeersch', 'Rosella', 'Lovett', '$55,000', 'damages', '83', 'Atwells', 'Interstate', 'valuation', '$57,500', \"owners'\", '$52,500', 'one-story', '8,293', 'Saul', 'Hodosh', 'represented', \"Santa's\", 'lieutenants', 'Journal-Bulletin', 'Claus', 'Fund', 'Persons', 'convenient', \"Journal-Bulletin's\", '823', 'acknowledged', \"fund's\", 'quota', '$8,250', 'Scores', 'remembered', 'contributors', 'pennies', 'nickels', 'dimes', 'quarters', 'Parrillo', 'Fletcher', '11:30', 'hunting', 'shotgun', 'discharged', 'heel', 'Hose', 'Thornton', 'companion', 'Simmonsville', '$4,177.37', '$50,000', 'Oliver', 'alterations', 'beds', '646', 'Sorrentino', 'founder', 'Uncas', 'Mfg.', 'Cavaliere', 'Merit', 'Italy', 'decoration', 'Trichieri', 'consul', 'celebrating', 'bestowal', 'Aurora', 'Newport-based', 'destroyer', 'escort', 'Kretchmer', 'Newport', \"months'\", 'mercy', 'afloat', 'ashore', 'rescued', 'crew', 'trawler', 'drifting', 'raft', 'sinking', 'stopping', 'Greenock', 'Scotland', 'liberty', 'rendered', \"girl's\", 'Birmingham', 'perjury', 'Freedom', 'Rider', 'burning', 'complaint', 'juror', 'Ku', 'Klux', 'Klan', 'membership', '59', 'farmer', 'Hartselle', 'Anniston', 'interfering', 'interstate', 'growing', \"mob's\", 'Greyhound', 'Riders', 'freed', 'wrongdoing', 'incident', 'Hobart', 'Grooms', 'jury-tampering', 'expressing', 'Neither', 'excused', 'masked', 'lenient', 'alternate', 'formal', 'incidents', 'connections', 'KKK', 'imprisonment', '130-year', 'NYU', '37-year-old', 'McN.', 'Hester', 'dean', 'Graduate', 'Sciences', 'Carroll', 'Newsom', 'Prentice-Hall', 'Princeton', 'N.J.', 'associated', 'Asilomar', 'Vast', 'spraying', 'endangering', 'Buchheister', 'Audubon', 'Society', 'handing', 'loaded', '8-year-old', 'Convention', 'controls', 'borer', 'plague', 'wrecked', 'cane', 'crop', 'conservation', 'mistakes', 'Wyoming', 'pride', 'scientific', 'experiments', 'farmers', 'forgetting', 'birds', 'efficient', 'enemies', 'insects', 'rodents', 'rid', 'occasionally', 'peck', 'grapes', 'blueberries', 'urging', 'restrictions', 'Wilderness', 'seashore', 'Reyes', 'preservation', 'wetlands', 'breed', 'pesticides', 'co-ordination', 'pollution', 'ratification', 'convention', 'halt', 'sea', 'oil', 'Reed', 'Rogers', 'Da', 'Fonta', 'Wild', 'Sanctuary', 'Marin', 'officially', 'Livermore', '645-acre', 'tidelands', 'Greenwood', 'Olney', 'Kentfield', 'inviolate', 'sanctuary', 'animals', 'Seventeen', 'Willy', 'Fiedler', 'climbed', 'cockpit', 'installed', 'V-1', 'rocket-bomb', 'attached', 'underbelly', 'Heinkel', 'bomber', 'rolled', 'runway', 'earth', 'alive', 'pulse', 'jet', 'airstrip', 'quiet-spoken', 'middle-aged', 'aeronautical', 'engineer', \"Lockheed's\", 'Missiles', 'Space', 'Sunnyvale', 'sat', 'pilots', 'crashed', \"Hitler's\", 'super-secret', 'Reichenberg', 'unknown', 'Allies', 'rocket-bombs', 'manned', 'warhead', 'Allied', 'shipping', 'stave', \"Fiedler's\", 'Squeezed', 'cubic', \"rocket's\", 'mechanism', 'altitude', 'signaled', 'roaring', 'pulse-jet', 'engine', 'streaked', 'beneath', 'pilot', 'rocket', 'faint', 'speck', 'hurtling', 'sky', 'incredible', '420', 'm.p.h.', 'beautifully', 'valve', 'adjust', 'fuel', 'strip', 'Using', 'steering', 'controlled', 'tail', 'surfaces', 'wings', 'equipped', 'ailerons', 'skid', 'bolted', 'fuselage', 'managed', 'maneuver', 'landing', 'banked', 'airfield', 'Moments', 'skimmed', 'streamer', 'dust', 'flights', 'missiles', 'Pilots', 'steer', 'suicide', 'dive', 'waterline', 'crack', 'halted', 'Lockheed', 'spare', 'gliders', 'slow', 'serene', 'challenging', 'Di', 'Massimo', 'Celebration', 'Scampini', 'Arata', 'Casassa', 'Molinari', 'Elected', 'Elios', 'Anderlini', 'Attilio', 'Beronio', 'Bianco', 'Frederic', 'Campagnoli', 'Cervetto', 'Armond', 'Martini', 'Duhagon', 'Figone', 'Mana', 'Moscone', 'Calude', 'Perasso', 'Petrini', 'Ratto', 'Reilly', 'Schweitzer', 'world-famous', 'theologian', 'endorsed', 'Disarmament', 'Friends', 'Quaker', 'Leading', 'newer', 'weapons', 'otherwise', 'dread', 'imply', 'grisly', 'abolish', 'Governments', 'obligated', 'aware', 'ghastly', 'stupidity', 'jolt', 'complacency', 'operator', \"janitors'\", '3300', 'Shore', 'acquaintance', 'syndicate', 'Glimco', 'buddy', 'gangland', 'buddies', 'mob', 'racketeer', 'gang', 'gambling', 'chiefs', 'Gus', 'Slim', 'Alex', 'Caesar', 'DiVarco', 'Monk', 'Allegretti', 'hoodlum', 'Arger', '$39,000', \"Stein's\", 'janitor', 'Maintenance', 'stevedore', 'pier', 'Connection', 'probing', 'prosecutors', 'attempting', 'connect', 'gangsters', 'tracing', 'scrutiny', 'payments', '543', 'janitors', 'workmen', 'factories', 'Leavitt', 'Liquor', '3247', 'Kedzie', 'Dominic', 'Senese', 'teamster', 'cousin', 'Accardo', 'onetime', 'Pesce', 'deodorant', 'Sanitation', 'Supply', '1215', 'supervise', '$1,600', '$12,500', \"Leavitt's\", \"warehouseman's\", \"salesman's\", 'bottling', \"workers'\", 'closely', '$40,000', 'repaid', \"Glimco's\", \"drivers'\", '1213-15', 'radiation', 'micro-microcurie', 'meter', 'detonation', 'radioactive', 'occur', 'Curtis', 'Huff', '1630', 'suppressed', 'warrant', 'charging', 'embezzling', 'undetermined', 'Loan', 'Dearborn', 'Lien', \"Huff's\", 'Antone', 'Gregorio', 'embezzlement', 'satisfaction', \"mechanic's\", 'liens', '$109', 'lucrative', 'Charge', 'lists', 'Blaber', '1020', 'cashed', 'card', 'Bonn', '$28,700,000', 'Greek', 'Nazi', 'persecution', 'Probably', 'hottest', 'Foods', 'shares', 'Dallas-headquartered', 'allotting', 'explaining', 'Investors', 'counted', 'lucky', 'trading', 'underwriting', 'price', '$12.50', 'over-the-counter', 'Eppler', 'Guerin', 'managing', 'underwriter', '$17', '$22', 'circulating', 'inquiries', 'Letters', 'reams', 'wanting', '185,000', 'reserved', '$11.50', 'cable', 'Switzerland', 'somehow', 'offering', 'subscribe', 'Cable', 'translated', 'E.G.T.', 'Swiss', 'underwriters', 'qualify', 'regularly', 'combination', 'boiling', 'upward', 'kinds', 'priced', 'roughly', 'earnings', 'yield', '64-cent', 'Second', 'chip', 'fancy', 'investors', 'lately', 'Frito', 'Lay', 'run-ups', 'price-earnings', 'run-up', 'resistant', 'acting', 'ratios', 'merger', \"today's\", 'depression', 'remain', 'executives', 'abilities', 'competitive', 'survival', 'fittest', 'reaching', 'realizing', 'second-echelon', 'mergers', 'pound', \"Morton's\", 'corn', \"Chip-o's\", 'turns', 'avid', 'buyers', 'world-wide', 'cotton', 'gin', 'maintain', 'manufacturer', 'coincidence', \"Ginner's\", '46th', '52-year', 'ginning', 'weighs', 'tons', 'proximity', '$250,000', 'safe', 'assumption', 'percentage', 'gins', 'contain', '1896', \"They've\", 'occupied', '22-acre', \"1900's\", 'grown', 'driers', 'cleaners', 'Dallas-based', 'Gin', '1899', 'smaller', '1834', 'Headquarters', 'Factories', 'Prattville', 'sells', 'cotton-growing', 'Hardwicke-Etter', 'domestic', 'Southeastern', 'Cen-Tennial', 'export', '1900', 'mill', '1930', 'Presently', 'employs', '300-450', 'Lummus', '1912', 'Factory', 'Moss', 'Gordin', 'Lint', 'Cleaner', 'Unit', 'System', 'Ginning', 'cleaner', 'cleaning', 'seed', 'heaters', 'maker', 'boil', 'extraction', 'mechanical', 'harvesting', 'drying', 'Hinckley', 'overhead', 'burr', 'extractors', 'separators', 'piping', 'belt', 'saws', 'Stacy', 'belting', 'bearings', 'etc.', 'sizable', 'segment', 'slight', 'doldrums', 'characterized', 'Registrations', '3,000', 'Totaling', '3,399', \"February's\", '2,963', '4,441', 'quarter-to-quarter', 'comparison', 'quarter', '9,273', '3-month', '11,744', 'year-to-year', '1,212,000', 'pickup', 'dealers', 'April-June', 'prompt', 'makers', 'production', 'compacts', 'grab', 'larger', 'lower-priced', 'standard', 'models', 'Buick', 'Chrysler', 'Mercury', 'gains', 'Sales', 'Executives', 'banquet', 'Sheraton-Dallas', 'winds', 'Distributive', 'marketing', 'salesmanship', 'supplement', 'classroom', 'instruction', 'fields', 'seniors', 'Gerald', 'Owens', 'Isodine', 'Pharmical', 'Trigg', 'Arrington', 'Kaminsky', 'Adams', 'Janice', 'Whitney', 'Fil', 'Terral', 'Page', 'Adamson', 'Tommie', 'Paschall', 'Crozier', 'Tech.', 'Paulah', 'Kestner', 'Hillcrest', 'Hayes', 'Shay', 'Satterfield', 'Cluck', 'Deloris', 'Carrel', 'Carty', 'Edna', 'Eaton', 'Neal', 'McLauchlin', 'Rylie', 'Seagoville', 'Wolverton', 'Sharon', 'Flanagan', 'Samuels', 'Hammond', 'Ronnie', 'Carolyn', 'Bert', 'Sunset', 'Potter', 'Woodrow', 'Housing', 'complex', 'sweeping', 'fringe', 'Caron', 'Stallard', 'vice-president', 'Mortgage', 'gather', 'momentum', 'lift', 'peak', 'autumn', 'Beryl', 'Sprinkel', 'Trust', 'closing', 'Investment', 'Assn.', 'Draper', 'Palo', 'Alto', 'venture', 'Gaither', 'gauntlet', 'communism', 'bluntly', 'appropriations', 'pan', 'conferees', 'improvement', 'cyclical', 'pattern', 'abrupt', 'Thesis', 'refuted', 'neo-stagnationist', 'thesis', 'declaring', 'pessimism', 'questionable', 'Rather', 'abortive', '1959-60', 'lesson', 'probability', 'Danger', 'cautioned', 'excessive', 'stimulation', 'moderate', 'inflation', 'Reserve', 'aggressively', 'tighten', 'monetary', 'phases', 'upturn', 'unsatisfactory', '1958-60', 'inappropriate', 'retrenching', 'resulting', 'steel', 'Sacrifices', 'dangers', 'threaten', 'justify', 'heritage', 'Clay', 'presently', 'blackmail', 'yourself', 'sooner', 'liable', 'situations', 'hemisphere', 'erasing', 'Analysts', 'continuation', 'sank', 'hoped-for', '675', 'Dow', 'standing', 'sidelines', 'pivotal', 'routine', 'snapback', 'Streeters', 'accompanied', 'orders', 'durable', 'Treasury', 'Dillon', 'whopping', '8%', 'paving', 'lower', '7.19', '687.87', '1,253', 'traded', '695', '354', 'highs', 'lows', 'Trading', 'comparatively', 'dull', 'Volume', 'dipped', '3.28', '3.98', 'envisioned', '1970s', 'Peterson', 'Marketing', 'Bell', 'Howell', 'belong', 'industrialist', 'creative', 'unconventional', 'Creations', '1970', '40%', 'expenditures', 'marketed', 'log-jam', 'obviously', 'geometrically', 'technology', 'tend', 'equalizers', 'fairly', 'short-term', 'dares', 'Japanese', 'know-how', 'all-automatic', 'Exchange', 'Phelan', 'exchange', 'stockholder', 'securities', 'Oil', '$120', 'debentures', 'Read', \"Gulf's\", 'holdings', '2,700,877', 'surrender', 'convertible', '923,076', 'Due', '1986', 'consisted', '4-7/8', '100%', '4-1/2%', 'subordinated', '1991', '$70', '1971', '1976', '$80', '1981', '$90', 'thereafter', 'dwindled', '1.23', '1.58', 'Gains', '2-3/4', 'Teleprompter', 'Foil', 'Fairchild', 'Camera', 'Kawecki', 'Chemical', '2-1/2', 'Diversified', 'Growth', 'Something', 'dividends', 'Answer', 'Write', 'custodian', 'Fundamental', 'Television-Electronics', 'brain', 'programmed', 'irate', 'shareholders', 'story', '60-day', 'complaining', 'squared', 'shareholder', 'finds', 'mistake', 'Doyle', 'undertake', 'selects', 'queries', 'far-reaching', 'alter', 'movements', 'satisfactorily', 'foreseeable', 'Perlman', 'Railroads', 'merge', 'Round', \"O's\", 'B', 'weaken', 'Bad', 'O', 'consolidation', 'precarious', '1930s', 'Tuohy', 'cross-examination', 'examiner', 'ICC', 'rebuffed', 'railroads', 'three-way', 'O-B', \"hemisphere's\", 'borrowing', 'rose', \"Tuesday's\", 'weekly', '$1.1', '90-day', '2.325%', '2.295%', 'Consumer', 'outlook', 'polled', 'one-third', 'resistance', 'buying', 'renting', 'narrowed', 'saturation', 'Increase', \"Center's\", \"builders'\", 'Expect', 'presumably', 'jump', \"1960's\", '1,257,700', 'non-farm', 'Starts', 'discrepancy', 'Leaders', 'invited', 'businessmen', 'Elburn', 'Farm', 'dealer', 'Houtz', 'tilts', 'battered', 'chair', 'pickers', 'Ehlers', 'competitor', '50%', '20%', 'Though', 'experiencing', 'climbing', 'Paradoxically', 'slash', 'output', 'acreage', 'lowest', 'fertilizer', 'yields', 'Fields', 'dense', 'efficiently', 'supports', 'pushing', 'Seven', 'averaging', '10%', '13%', 'retail', '14%', 'Keeler', 'Harvester', 'lag', '5%', 'sections', 'upswing', 'drought-seared', 'notable', 'exceptions', 'uptrend', 'extends', 'yardstick', 'Farmers', 'tractors', 'implements', 'gasoline', 'appliances', 'chemicals', 'haggling', \"aren't\", 'conscious', 'Sioux', 'Iowa', 'picker', '$2,700', \"Dealers'\", '25%', 'affects', 'shipments', 'Tractor', 'Massey-Ferguson', 'Ltd.', 'Toronto', '2,418', '869', 'Staiger', 'inventories', 'stepped-up', 'shortages', 'Merritt', 'Motor', 'demanding', 'delivery', 'trailed', 'year-earlier', \"Government's\", 'feed', 'grain', 'cutback', 'planted', 'Nearly', 'chiefly', 'Total', 'forecast', '129%', '1947-49', \"farmers'\", 'economists', '$1.4', 'subsidies', 'incentive', '$639', 'receipts', 'marketings', '$39.5', '$1.5', 'Net', '$12.7', 'index', 'mid-September', '242%', '1910-14', '237%', 'mid-July', 'depletion', 'mid-1960', 'pipe', 'clay', 'mined', 'figuring', 'taxable', 'deducted', 'percentages', 'materials', 'producers', 'assets', 'adjourning', 'softened', \"ruling's\", 'prior-year', 'returns', 'clay-mining', 'allows', 'mineral', 'signing', 'industries', 'Charitable', 'deductions', 'I.R.S.', 'furnish', 'particulars', 'Requests', 'substantiation', 'suspects', 'donor', 'material', 'revenuers', 'deduction', 'deductibility', 'realty', 'owed', 'disposed', 'liquidation', 'disallowed', 'invoking', 'bars', 'incurred', 'tax-freedom', 'stemmed', 'liquidations', 'Ninth', 'challenges', 'year-old', 'creating', '$1,800', 'termination', 'cadet', 'taxed', 'entirety', 'taxpayer', 'pad', 'invoices', \"taxpayer's\", 'kickbacks', 'commenting', 'province', 'morality', 'transaction', 'kerosene', 'boats', 'railing', 'vessel', \"manufacturers'\", 'household-type', 'Hiring', \"one's\", 'tax-aided', 'spouse', 'entitled', 'distributions', 'coverage', 'tax-free', 'frequent', 'pitfall', 'warn', 'declare', 'discriminatory', 'Possible', 'upshots', 'briefs', 'Voters', 'imposition', '2%', '1%', 'supreme', 'applied', 'wholly-owned', 'subsidiary', 'divulging', 'identity', 'parent', 'computed', 'non-profit', 'realized', 'entities', 'edged', 'seasonally', 'adjusted', '$18.2', '$18.9', 'chart', 'seasonal', 'adjustment', 'pre-Easter', 'inclined', 'surge', 'Adjusted', 'steep', '2.5%', '$17.8', 'Greer', 'tasteful', 'sophisticated', 'Neiman-Marcus', 'titian-haired', 'personification', 'Exposition', 'Ballroom', 'Ferdinando', 'Sarmi', 'creator', 'fashions', 'Rolnick', 'Byer-Rolnick', 'Hat', 'designer', 'Wragge', 'casuals', 'Vivier', 'Dior', 'shoes', 'France', 'toes', 'lowered', 'heels', 'revolutionized', 'shoe', 'ebony', 'plaques', 'luncheons', 'Marcus', 'Beneficiary', 'showings', 'Crippled', 'Cerebral', 'Palsy', 'Treatment', 'loves', 'clothes', 'carefully', 'prefers', 'timeless', 'Occasionally', 'deserts', 'piece', 'simply', 'Fogelson', 'commuting', 'Bel-Air', 'ranch', 'Pecos', 'Mexico', 'Therefore', 'wardrobe', 'mobile', \"moment's\", 'shake', 'wrinkle', 'creations', 'designers', 'pictures', 'Norell', 'likes', 'classic', 'chemise', 'jersey', 'Irene', 'long-bodied', 'silhouette', 'femininity', 'charm', 'Ceil', 'Balenciaga', 'struggling', 'actress', 'reminisces', 'drama', 'simplicity', 'appreciate', 'lively', 'glowing', 'pinks', 'reds', 'greens', 'Scotch-Irish-Scandinavian', 'descent', 'Down', 'Ireland', \"father's\", 'Orkney', 'Isles', 'Reared', 'postgraduate', 'Grenoble', 'Repertory', 'starring', 'Golden', 'Arrow', 'Noel', 'Coward', 'Theater', 'motion-picture', 'Goodbye', 'Chips', 'Random', 'Harvest', 'Madame', 'Curie', 'Pride', 'Prejudice', 'Forsythe', 'Saga', 'Miniver', '1943', 'Honors', 'portrayal', 'Sunrise', 'Campobello', 'Auntie', 'Mame', 'Captain', \"Brassbound's\", 'Conversion', 'Camille', \"Tussard's\", 'Waxworks', 'princess', 'Kiowa', 'tribe', 'colonel', 'adept', 'skeet', 'trout', 'fishing', 'Afro-Cuban', 'Oriental', 'archaeology', 'serves', 'Symphony', 'Orchestra', 'trustees', 'Museum', 'Fine', 'Tuberculosis', 'Associations', 'oilman-rancher', 'supporters', 'Boys', 'patrons', 'vivid', 'opera', 'colony', 'flourishes', 'Gander', 'coeds', 'ogled', 'dutifully', 'gravy', 'Are', 'Stay', \"SMU's\", 'craven', 'women-trodden', 'apt', 'wrangler', 'buys', 'groceries', '32,000', 'Tell', 'moans', 'dishes', 'snacks', 'cafeterias', 'McElvaney', 'Dining', \"athlete's\", 'tables', '195', 'ruggedly', 'pester', 'Hockaday', 'charming', 'spice', 'chow', 'mastodons', 'Mostly', 'meat', 'potatoes', 'go-go-go', 'fat', 'hides', 'mayonnaise', \"athletes'\", 'stomachs', 'jumpy', 'physical', 'duress', 'bans', 'flavored', 'condiments', 'plates', 'hamburger', 'hotdogs', 'steak', 'maybe', 'pizza', 'broccoli', 'cauliflower', 'stoked', 'Truman', 'Cabot', 'Morocco', 'Clement', 'Atlee', 'shiny', 'characters', 'Tibetan', 'monks', 'saffron', 'robes', 'cafeteria', 'Chicken', 'Cadillac', 'Use', '6-ounce', 'chicken', 'breast', 'Salt', 'pepper', 'Dip', 'melted', 'butter', 'flour', '2-inch', 'baking', 'Bake', '250-275', 'lightly', 'brown', 'Add', 'cream', 'seasoned', 'onion', 'juice', 'breasts', 'one-half', 'saute', 'mushrooms', 'fresh', 'canned', 'Sprinkle', 'Serve', 'slow-baked', 'ham', 'sprinkle', 'seedless', 'Leave', 'Pontiac', 'Contemporary', 'Danish', 'straight-line', 'sculptured', 'facets', 'warmth', 'dignity', 'utter', 'livability', 'avant', 'garde', 'indication', 'contemporary', 'boxy', \"'20's\", \"'40's\", 'Heritage', 'correlated', 'Sanger-Harris', 'Studio', 'woods', 'assembled', 'Called', 'Perennian', 'lasting', 'truly', 'avoids', 'monotony', 'pieces', 'wormy', 'chestnut', 'pecan', 'varieties', 'burl', 'hand-woven', 'Philippine', 'ceramic', 'tiles', 'marble', 'texture', 'permanence', 'tiled', 'floors', 'paneled', 'walls', 'windows', 'outdoors', 'custom-design', 'Composite', \"Titche's\", 'decorating', 'variation', 'Rounded', 'decorative', 'insets', 'softening', 'arches', 'tops', 'inlaid', 'Macassar', 'acacia', 'high-legged', 'easy-to-reach', 'snack', 'tucked', 'recessed', 'arched', 'decorate', '60-inch', 'functional', 'chests', 'dressers', 'canted', 'headboard', 'heavier', 'styling', 'door-fronted', 'poster', 'mirror', 'Colorful', 'Eastman', 'Chromspun', 'fabrics', 'magenta', 'tones', 'predominating', 'shades', 'Scotchgard', 'finish', 'resist', 'soil', 'wrinkles', 'Design', 'rooted', 'forms', 'wearing', 'label', \"Drexel's\", 'spider-leg', 'pedestal', 'lustrous', 'walnut', 'See-through', 'combines', 'nostalgic', 'ladder', 'shoji', 'orange', 'Dignity', 'reflecting', 'substance', 'maturity', 'hand-screened', 'wood', 'tall', 'bookcases', 'Mellow', 'bronzy-green-gold', 'gleam', 'copper', 'hand-crafted', 'accessories', 'reiterate', 'carpet', 'wool', 'pile', 'Vagabonds', 'Saledo', 'air-conditioned', 'Stagecoach', 'Invitations', 'dignitaries', 'Days', 'Trail', 'get-together', 'pool', 'Ginghams', 'calico', 'western', 'attire', 'Stetsons', 'vests', 'Decorating', 'yellow', 'bluebonnets', 'stagecoach', 'silhouettes', 'sunbonnet', 'Abell', 'Messrs', 'Mmes', 'McKee', 'McElyee', 'Fanning', 'Roquemore', 'Darrow', 'travel', 'comprised', 'fun-loving', 'couples', 'motto', 'Go', 'Somewhere', 'Anywhere', 'climaxed', 'chartered', 'Las', 'Vegas', 'Jamaica', 'buses', 'Mineral', 'Wells', 'Kerrville', 'railway', 'vicinity', 'Serving', 'Schmalzried', 'yearbook', 'scrapbook', 'cookie', 'caramel', 'chocolate', 'frosting', 'Pillsbury', 'Bake-Off', 'Reese', '23-year-old', 'Hilton', 'bake-offs', 'finals', 'Clara', 'Hawaiian', 'rich', 'yeast', 'bread', 'coconut', 'vanilla', 'glaze', 'Wellsville', 'baked', 'Bake-off', 'dreamed', 'recipe', 'liked', 'photographing', 'finalist', 'Bolker', 'Chandler', 'Building', 'heads', 'arts', 'Welton', 'Becket', 'architect', 'slides', 'renderings', 'three-building', 'Foliage', 'foliage', 'matched', 'reservations', 'Messrs.', 'Mmes.', 'Cott', 'Niven', 'Bricker', 'Stetson', 'Drs.', 'Robbins', 'Lafe', 'Ludwig', 'Leroy', 'Watson', 'Swim', '75th', 'Wilshire', 'originating', 'Midwest', 'passengers', 'practiced', '1917', 'Medical', 'Examiners', 'Giving', 'violin', 'Ilona', 'Schmidl-Seeberg', 'tiny', 'Hungarian', 'Fritz', 'Kreisler', 'concert', '10-hour', 'linen', 'needles', 'yarn', 'Budapest', 'tapestries', 'continents', 'uprisings', 'tapestry', \"There's\", '90%', 'logistical', 'rainy', 'raincoats', 'finger-paint', 'grammar', 'Getting', 'Generally', 'Gloriana', 'entails', 'Did', 'grow', 'hardship', 'pilgrimage', 'streetcar', 'Sometimes', \"weren't\", 'ocean', 'dismal', 'herself', \"they'd\", 'rides', 'logic', 'impeccable', 'fool', 'capable', 'legs', 'walks', 'crackpots', 'Advance', 'notices', 'Register', 'Published', 'Hord', 'edition', 'subtitled', \"morning's\", 'postman', 'Publisher', 'updated', 'compact', 'ever-changing', 'numbers', 'addresses', 'residences', 'marriages', 'Stars', 'denote', 'Cooper', 'Coopers', 'Worrell', 'Ghormley', 'Pen', 'Tudor', 'Carla', 'Craig', 'McFarland', 'Joanne', 'Curry', 'Ellsworth', 'Currys', 'Hartley', 'Gregg', 'Valerie', 'McAlister', 'Duque', 'Elizabeth', 'Browning', 'Brownings', 'Cynthia', 'Ludlow', 'Flowers', 'Todd', 'Huntington', 'Huntingtons', 'Pasadena', 'listings', 'Listed', 'Haskins', 'Judy', 'McAlester', 'Pfau', 'Changes', 'Pauleys', 'Chantilly', 'Arden', 'Moulton', 'Moultons', 'Windsor', 'Beesemyers', 'Connecticut', 'residing', 'Raoul', 'Esnards', 'exchanged', 'residence', 'Hazard', 'Laguna', 'Wangemans', 'Ransom', 'Chases', 'Oxford', 'Eng.', 'Olerichs', 'Aderholds', 'Henri', 'Chapelles', 'Berteros', 'Egerton', 'Crispin', 'Armisteads', 'Lockies', 'Anthony', 'Longinotti', 'Newcomers', 'Carbones', 'Panama', 'Geddes', 'MacGregors', 'Althaus', \"Here's\", \"child's\", 'execute', 'puppets', 'lamp', 'puppet', 'flexible', 'Displayed', 'lamps', 'delight', 'accent', 'wired', 'Measure', 'height', 'socket', 'inches', \"puppet's\", 'Make', 'metal', 'tube', 'inverted', 'L', 'foot', 'hang', 'Pulling', 'manipulate', 'suspend', 'fixture', 'tying', 'desired', 'resting', 'accord', 'whims', 'drum', 'shade', 'adequate', 'sufficiently', 'disharmony', 'playtime', 'illustrated', 'reminiscent', 'circus', 'merry-go-round', 'scalloped', 'edge', 'appealing', \"Today's\", \"America's\", 'home-owners', 'decorators', 'shrewd', 'cabinetmakers', 'Colonial', 'era', 'appreciated', 'antiques', 'lurked', 'utilitarian', \"junior's\", 'tricked', 'nondescript', 'supposedly', 'knocks', 'relegated', 'parlor', 'homemakers', 'decorator', 'Leland', 'Alden', 'Housewives', 'craftsmen', 'innate', 'Solid', 'Eighteenth', 'Century', \"Escape's\", 'Bonanza', 'bonanza', 'versatile', 'Kings', 'Plus', 'outfit', 'specializing', 'skits', 'vocals', 'comedy', 'instrumentals', 'distinctly', 'displaying', 'spotlights', 'Ciciulla', 'flanked', 'Grossman', 'drums', 'guitar', 'batch', 'instruments', 'tuba', 'tambourine', 'augment', 'imagination', 'props', 'crazy-wonderful', 'nonsense', 'classed', 'pure', 'slapstick', 'rated', 'nightclubs', 'chalk', \"let's\", 'noise', 'stick', 'elsewhere', 'Bartha', 'Oceania', 'Lounge', 'Cumbancheros', \"O'Clock\", 'Flip', 'Phillips', 'Fireside', 'Steak', 'Ranch', 'LaSalle', 'Jolly', 'accordion', 'refer', 'Freida', 'Bahia', 'Cabana', 'Sir', 'Judson', 'brings', 'calypso', 'capers', 'Leighton', 'springing', 'ringsiders', 'Rum', 'Galt', 'Ocean', 'Skip', 'Hovarter', 'Reno-Lake', 'Tahoe', 'Rusty', 'Marskmen', 'Tune', 'Toppers', 'pulling', 'Fike', 'ex-schoolteacher', 'pursuing', 'rhythm', 'reminiscence', 'repartee', 'Winds', 'sidemen', 'smoother', 'substantially', 'format', 'Kemm', 'piano', 'Wes', 'bass', 'trumpet', 'Kelly', 'keyboarding', \"Al's\", \"Maestro's\", 'personality', 'rapport', 'skips', 'boogie', 'accompanying', 'bouncy', 'frantic', 'appraisal', 'Cafe', 'ownership', 'Kissak', 'bossman', 'Spot', 'retains', 'decor', 'crystal', 'chandeliers', 'undergone', 'remodeling', 'Latter', 'Chef', 'Yokel', 'specialize', 'steaks', 'chops', 'prime', 'beef', \"Tom's\", 'dish', 'stuffed', 'shrimp', 'Bandstand', 'features', 'DeCicco', 'pianist', 'Tic-Tac-Toe', 'Heilman', \"Hubie's\", 'Lorain', 'preclude', 'reopening', 'Restaurant', 'Sunman', 'cornering', 'Lauderdale', 'Vivacious', 'redhead', 'debuts', \"Governor's\", 'brunches', 'buffets', 'Mackey', \"Airline's\", 'Sunshine', 'Bimini', 'plotting', 'month-long', 'Drinkhouse', \"Pal's\", 'reunion', 'Playboy', \"Club's\", 'Gould', \"hasn't\", 'chum', 'wash', 'Mexican', 'Tex', 'Which', 'understandable', \"you've\", 'sampled', 'peppery', 'Pualani', 'Randy', 'Avon', 'Searles', 'Papa', 'Gill', 'Bandish', 'Morgart', 'Mouse', 'Trap', 'Moffett', 'Rickshaw', 'Bea', 'Morley', 'Fazio', \"O'Hare\", 'Michaels', 'Escape', \"John's\", 'Newfoundland', 'distinguished', 'island', 'Placentia', 'Smallwood', 'productions', 'Le', 'Theatre', \"D'Art\", 'Du', 'Ballet', 'Carlo', 'ballets', 'Francesca', 'Rimini', 'Performers', 'symphony', 'Milenoff', 'foundation', 'Coral', 'Gables', 'Ximenez-Vargas', 'Espagnol', 'Jorge', 'Bolet', 'Dancers', 'Bali', 'Hollywood', 'Library', 'Workshop', 'Gretchen', 'Schenk', 'author', 'lecturer', 'library', '$2.50', 'Anyone', 'Whelan', 'discuss', 'librarian-board', 'relationships', 'librarian', 'workshops', 'Tallahassee', 'Jacksonville', 'Orlando', 'Plant', 'assemblies', 'acquaint', 'Aquinas', 'Subsequent', 'Stranahan', 'Pompano', 'Is', \"Communism's\", 'doorstep', 'Kern', 'Crusade', 'Communism', 'brainwashing', 'Anti-Communist', 'convinced', 'ideological', 'figured', 'schoolers', 'careful', 'antidote', 'Biblically', 'Christianity', 'Communisn', 'enthralled', 'four-hour', 'lecture', 'Slack', 'Jon', 'Braun', 'Map', 'Operation', 'Abolition', 'Response', 'city-wide', 'Dade', 'marking', 'Family', 'MacWhorter', '3181', 'Ter.', 'Dedication', '10:50', 'twice-a-year', 'vows', 'strive', 'fundamentals', 'uphold', 'Lois', 'Rae', 'Pamela', 'Shari', 'grace', 'bedtime', 'prayers', 'stories', 'two-year-old', 'miffed', 'prayer-time', \"Dade's\", 'Blanton', '7:30', 'Lutheran', 'Treadwell', 'sexton', 'worship', '7:45', 'Nazarene', '10:45', 'Riviera', 'pray', 'participate', 'Henderson', 'preach', 'Successful', 'Marriage', '9:40', 'ordained', \"Men's\", '6:15', 'picnic', 'preaching', 'Altar', 'Densmore', 'headmaster', \"Stephen's\", 'Episcopal', 'Coconut', 'becomes', 'Enrique', 'Jorda', 'musical', 'conducting', 'engagements', \"symphony's\", 'Anniversary', 'assignments', 'Sinfonica', 'Siciliana', 'Palermo', 'Radio', 'Cologne', 'Gala', 'Concert', 'five-month', 'Orchestre', 'Philharmonique', 'Bordeau', 'Cecilia', \"Jorda's\", 'box', 'Guest', 'performers', 'conductors', 'renowned', 'violinists', 'Yehudi', 'Menuhin', 'Isaac', 'Stern', 'Ruggiero', 'Ricci', 'Abel', 'pianists', 'Fleisher', 'Slenczynka', 'Bishop', 'Leningrad', 'Kirov', 'finest', 'ballet', 'Petipa-Tschaikowsky', 'Sleeping', 'Beauty', 'incomparably', 'pleasure', 'mine', 'anytime', 'Imperial', 'vulgar', 'infantile', 'reactionary', 'aspect', 'persistent', 'indicates', 'stultifying', 'capitalist', 'boobify', 'choreography', 'undistinguished', 'shapeless', 'assemblage', 'self-plagiarisms', 'totally', \"Kirov's\", 'utterly', 'captivating', 'Precise', 'enchantment', 'numerous', 'ova', 'eva', 'aya', 'exclusively', 'winners', 'contests', 'Omsk', 'Pinsk', 'Stalingr', 'oops', 'skip', 'discover', 'crowning', 'virtue', 'friendliness', 'frankness', 'peculiar', 'Oh-the-pain-of-it', 'impoverished', 'Dukes', 'filial', 'piety', 'Goldwater', 'Irina', 'Kolpakova', 'suavity', 'lightness', 'sparkle', 'refinement', 'incomparable', 'Hit', 'Alla', 'Sizova', 'delightful', 'lady', 'Bluebird', 'Yuri', 'Soloviev', 'wonderfully', 'virile', 'acrobatic', 'poetic', 'Nijinsky', 'Vladilen', 'Semenov', 'danseur', 'noble', 'Konstantin', 'Shatilov', 'character', 'Inna', 'Zubkovskaya', 'Lilac', 'Fairy', 'cast', 'Virsaladze', 'spacious', 'sumptuous', 'dreams', 'peasant', 'courtly', 'muted', 'pastel-like', 'style', 'harmonies', 'scenery', 'Evegeni', 'Dubovskoi', 'soloists', 'solos', 'concertmaster', 'Lumia', 'traveling', 'Mail', 'auspices', 'Chamber', 'Players', 'Sustaining', 'ten-concert', '$16', 'Participating', '$9', 'erroneously', 'Chronicle', '1044', 'Chestnut', 'busied', 'fixing', 'toys', '798', 'sponsoring', 'toy', '12th', 'Franciscans', 'discarded', 'off-duty', 'Toys', 'firehouses', 'Stonestown', 'mall', '16th', 'warehouse', '198', '676', 'listing', \"parent's\", 'sex', 'ages', 'Famed', 'cellist', 'Pablo', 'Casals', 'instrument', 'charmed', 'rehearsal', 'Luis', 'Munoz', 'Spanish-born', 'lend', 'naughty', 'stuff', 'ought', 'immorality', 'billed', 'towering', 'monument', 'sins', 'ancient', 'three-hour', 'Romans', 'harmless', 'Gray', 'imagine', 'naughtier', 'watchers', 'bored', 'senseless', 'brutality', 'sadism', 'Adventures', 'Ozzie', 'decadence', 'Strip', 'nymphomaniacs', 'private-eye', 'actors', 'unknowns', 'Lex', 'Anita', 'Ekberg', 'unfamiliar', 'Herridge', 'seaside', 'villa', 'Producer', 'Fellini', 'silent', 'films', 'boasted', 'tease', 'slip', 'drunk', 'knees', 'pillow', 'feathers', 'frigid', 'silly', 'fairies', 'Put', 'spell', 'four-letter', 'begun', 'pall', 'swinging', 'shocker', 'dud', 'detract', \"Chronicle's\", 'Paine', 'Knickerbocker', 'summed', 'neatly', 'enthralling', 'heartbreaking', 'unlinked', 'glories', 'Monthly', 'Weeks', 'moderates', 'literature', 'poets', 'USSR', 'Channel', '9:30', 'Person', 'ventilates', '10:30', 'KQED', 'Summer', 'Festival', 'Capello', 'Musica', 'exploring', 'titled', 'Threshold', \"Francisco's\", 'venerable', 'Mandarin', 'Cantonese', 'Chiuchow', 'tip', 'language', 'briskly', 'austere', 'racy', 'cap', 'leather', 'expensive', 'Where', 'fluid', 'ha', 'enriching', 'Gas', 'debonair', 'fins', 'wind-and-water', 'oases', 'gulped', 'gallons', 'wiping', 'headlights', 'chrome', 'Tires', 'OK', 'Check', 'sir', 'polished', 'windshield', 'loving', 'stuck', 'nozzle', 'tank', 'gloomily', 'smallest', 'Get', 'mileage', 'unhappily', 'clobbers', 'Crunch', 'die', '$1.80', 'fair-weather', 'yesteryear', 'finned', 'fore', 'aft', 'darling', 'doormen', 'Dollar', 'tipped', 'caps', 'politely', 'tuck', 'Cadillacs', 'doorman', 'calm', 'blood', 'much-copied', 'craftsman', 'Duncan', 'Phyfe', 'snubbed', 'Presidents', 'furnishings', 'Decorators', 'acquired', 'sofas', \"Mansion's\", \"1800's\", 'heirs', 'descendants', 'Rutherford', 'Tranquility', 'Andover', 'Authenticated', 'uncommon', 'acquisition', 'consisting', 'sidechairs', 'armchairs', 'AID', 'undertaken', 'redecoration', 'Jacqueline', 'secure', \"AID's\", 'miniature', 'museum', 'Americana', 'refurbishing', 'unveiled', 'rarity', 'antiquarians', 'mantlepiece', 'attributed', 'McIntyre', 'woodcarver', 'competed', '1792', 'mantel', 'demolished', 'fireplace', 'painted', 'match', 'paneling', \"committee's\", 'Lenygon', \"Lenygon's\", 'associates', 'Lehman', 'McCluskey', 'Jussel', 'wellknown', 'Regional', '75-minute', \"people's\", 'lawn', '85-piece', 'Transylvania', 'Brevard', 'musicians', 'greet', '325', 'crippled', 'cardiac', 'Concerts', 'delighted', 'welcoming', 'approached', 'bandstand', 'Mansion', 'Star', 'Spangled', 'Banner', 'Hail', 'Marine', 'Band', 'grateful', 'mounting', 'shaking', 'Pfohl', 'white-clad', 'dozens', 'stretching', 'horizon', 'Displaying', 'England-born', 'chamber', 'Vermont', 'duplicated', 'sun-tanned', 'paused', 'tent', 'blonde', 'Holbrook', 'Rainier', 'Handicapped', 'nuns', 'Sharpe', 'tag', 'red', 'lemonade', 'teenage', 'music-loving', 'gathered', 'listening', 'rapt', 'liaison', 'Sousa', 'Stripes', 'Forever', 'Conductor', 'Letitia', 'Baldrige', 'correspondence', '85-student', 'Carolina', 'Gallery', 'Bouton', \"Gallery's\", 'curator', 'simultaneous', 'tours', '85', 'remaining', 'visitors', \"Rembrandt's\", 'self-portrait', 'sad', 'noticed', \"Raphael's\", 'Alba', 'Madonna', 'Monet', 'painting', 'Rheims', 'Cathedral', 'Gogh', 'impressionist', 'benches', 'downstairs', 'lobby', 'Bales', 'Confederacy', 'gallery', 'aide', 'sculptures', 'blue-uniformed', 'Renaissance', 'preferred', 'Boucher', 'Courbet', 'Fra', 'Angelico', 'impressed', 'rotunda', 'fountain', 'seemingly', 'remote', 'collonaded', 'sphynxes', 'perched', '1733', 'nw.', 'bustling', 'Masons', 'Pike', '1859', '1891', 'high-ceilinged', 'eulogized', 'historian', 'poet', 'journalist', 'soldier', 'musician', 'laying', 'wreath', 'crypt', '1500', 'biennial', 'Ancient', 'Accepted', 'Jurisdiction', '5-day', '2:30', 'tomb', \"Nation's\", 'Washington-Alexandria', 'Alexandria', 'monotonous', 'discouraged', 'chatting', 'Hurt', 'ignoring', 'disgusted', 'miserable', 'listened', 'poured', 'discussing', 'UGF', 'nearest', 'separately', 'antagonisms', 'solving', 'evenings', 'bed-time', 'preceeded', 'rough-housing', 'outsiders', 'Blacks', 'measured', 'Givers', 'Anticipated', 'Skyline', 'materialize', 'rangers', 'leisurely', 'colors', 'haze', 'crucial', 'attitude', 'exchanges', 'confrontation', 'inevitable', 'desirable', 'realities', 'decisive', 'define', 'implement', 'Nikita', 'deterioration', 'heightened', 'announcements', 'catastrophe', 'stakes', 'encounters', 'Churchill', 'diplomacy', 'summit', 'full-dress', 'lull', 'inroads', 'informal', 'Camp', 'misunderstanding', 'illusory', 'denunciation', 'U-2', 'tended', 'propaganda', 'one-sided', 'concessions', 'negotiation', 'aims', 'summitry', 'Pre-inaugural', 'Thus', 'intimated', 'inauguration', 'confronted', 'delicate', 'shifting', 'smiles', 'toughness', 'debates', 'compel', 'awakening', 'shift', 'weakened', 'illusion', 'formulating', 'Above', 'hat', \"Khrushchev's\", 'Attitude', 'eventual', 'Ideally', 'concrete', 'adversary', 'probe', 'satisfy', 'inflexible', 'sparing', 'tensions', 'caution', 'willingness', 'reflected', 'Llewellyn', 'dated', 'Novosibirsk', 'broad', 'briefly', 'Developments', 'intense', 'inner', 'councils', 'advisability', 'precisely', 'deteriorating', 'alarmingly', 'Deadlock', \"Russians'\", 'three-man', 'directorate', 'veto', 'pressures', 'Russians', 'secretly', 'testing', 'troubled', 'stalemate', 'unchecked', 'fatal', 'disarmament', 'China', 'urgent', 'tripartite', 'principle', 'organs', 'Control', 'insistence', 'Initially', 'dampened', 'lest', 'episodes', 'dangerously', 'erroneous', \"West's\", 'blundered', 'impotency', 'penetration', 'Beyond', 'warnings', 'impunity', 'strengthened', 'Vietnam', 'overreach', 'cocky', 'aggressive', 'grave', 'miscalculation', 'Iran', 'turning', 'midst', 'deliberations', 'Embassy', 'Firm', 'negotiating', '67-year-old', 'vigorous', 'well-informed', '44-year-old', 'demonstrated', 'reactions', 'disapproval', 'expectation', 'salutary', 'rely', 'instincts', 'adversaries', 'plain', 'pause', 'equation', 'dragged', 'reluctantly', 'initiative', 'conversations', 'disabuse', 'notions', 'disunity', 'Finally', 'feelings', 'onus', 'belongs', 'Disapproval', 'interpret', 'panic', 'exploit', 'scope', 'biologist', 'mechanisms', 'adaptation', 'Mollusks', 'shell', 'evolutionary', 'scheme', 'cancel', 'biology', 'aptly', 'illustrate', 'accomplishment', 'brethren', 'cease', 'wonder', 'miracle', 'centuries', 'minorities', 'ourselves', 'prone', 'zeal', 'generosity', 'flattering', 'Viewing', 'retrospect', 'indeed', 'unified', 'Official', 'allocation', 'diocesan', 'Catholics', 'responded', \"bishops'\", \"pastors'\", 'Diocesan', 'owe', 'resourcefulness', 'sacrifices', 'esprit', 'protective', 'arithmetical', 'detachment', 'achieves', 'orientation', 'identification', 'founded', 'supernatural', 'nourished', 'well-springs', 'devotion', 'satisfying', 'dimension', 'uniquely', 'comradeship', 'sparks', 'blunts', 'Had', 'goaded', 'subsidized', 'parish', 'staffed', 'produces', 'family-community', 'anomalies', 'wasteful', 'duplication', 'pitifully', 'enrollments', 'clustered', 'co-educational', 'isolated', 'represent', 'riot', 'collegiate', 'temper', 'tone', 'resembled', 'resembles', 'pre-academic', 'intra-mural', 'qualifications', 'specialized', 'brand', 'Commenting', 'Professors', 'participation', 'decision-making', 'teacher-employee', 'e.g.', 'employee', 'inapt', 'outsider', 'hiring', 'acclimatized', 'democratic', 'secular', 'academic', 'scholar', 'citizenship', 'emerges', 'loath', 'delegate', 'inhomogeneous', 'mortal', 'varying', 'temperament', 'interests', 'capabilities', 'select', 'owns', 'oft-repeated', 'phrase', 'attainment', 'pictured', 'paradox', 'framed', 'clerical-lay', 'Outside', 'partners', 'grips', 'recruiting', 'caliber', 'Word', 'spreads', 'tightly', 'knit', 'conferences', 'Expressions', 'low-key', 'confirming', 'stereotype', 'boycott', 'declines', 'gamble', 'Civil', 'guarantee', 'tenure', 'significant', 'invests', 'coveted', 'depreciation', 'exaggerate', 'salaries', 'Adequate', 'substitute', 'intangibles', 'cause', 'earning', 'Broadly', 'intangible', 'Religious', 'derive', 'underestimate', \"layman's\", 'reservoir', 'idealism', 'stimulus', 'communication', 'actual', 'dichotomy', 'in-group', 'baneful', 'envision', 'definitive', 'high-sounding', 'titles', 'faked', 'Competent', 'versed', 'technique', 'pre-set', 'conclusions', 'destroying', \"students'\", 'familiar', 'useful', 'artificial', 'busy-work', 'ersatz', 'structured', 'luncheon-table', 'difficulty', 'campus', 'i.e.', 'administers', 'eating', 'Nebraska', 'anti-monopoly', 'fallacious', 'argue', 'restricted', 'restriction', 'Or', 'Anatole', 'equality', 'forbid', 'begging', 'sleeping', 'generated', 'disrepute', 'fallen', \"McClellan's\", 'jurisdictional', 'squabbles', 'plagued', 'shocked', 'stoppages', 'allegedly', 'trivial', 'disputes', 'sums', 'equivalent', 'provoked', 'indignation', 'footing', \"employers'\", 'undertakes', 'Aircraft', 'Machinists', 'attributable', 'overtime', 'defective', '$7,500,000', 'regulation', \"contractor's\", 'unresponsive', 'abuses', 'electrical', 'evoked', 'anti-trust', 'justified', 'rationale', 'inform', 'undefined', 'Hypocrisy', 'foolish', 'Let', 'heavy-electrical-goods', 'engaging', 'rig', 'allocate', 'price-setting', 'multi-product', 'marginal', 'manufacture', 'Accounting', 'varied', 'Naturally', 'enterprises', 'giants', 'flex', 'muscles', 'survivors', 'Uncle', 'accuse', 'monopoly', 'self-restraint', 'protection', 'implicit', 'wide-open', 'decree', 'fellows', 'tool', 'theory', 'govern', 'enforcers', 'managements', 'facts', 'flood', 'mea', 'culpas', 'scapegoats', 'usefulness', 'Thurman', 'Folklore', 'Capitalism', '211', 'unconsciously', 'organizations', 'ideology', '214', 'uncontrolled', 'dictatorship', '215', 'penalties', 'invoked', 'Pp.', '228-229', 'empires', 'fantastic', 'fundamental', \"management's\", 'evaluating', 'occasional', 'irrational', 'nolo', 'contendere', 'nominal', 'untrammeled', 'sentences', 'unprecedented', 'prosecutions', 'ineptness', 'fictitious', 'impersonal', 'devised', 'pretends', 'rational', 'Quite', 'advocating', '1933', '7A', 'Industrial', 'Recovery', 'impolitic', 'Taft-Hartley', 'Landrum-Griffin', 'collective-bargaining', 'palmed', 'organizers', 'gigantic', 'tortured', 'reasoning', 'ambition', 'exercise', 'squarely', 'commodities', 'bags', 'wheat', 'unsupported', 'agricultural', 'subsidy', 'reacting', 'antagonism', 'imposes', 'commodity', 'eighteenth-', 'nineteenth-century', '1776', 'Adam', 'Wealth', 'Parliament', 'combining', 'Eighteenth-century', 'customs', 'outlawed', 'monopolies', 'conspiracies', '1825', \"carpenters'\", 'ten-hour', 'denounced', 'employers', 'combinations', 'convert', 'pious', 'hypocrisies', 'vs.', 'Justice', 'Savage', 'officious', 'improper', 'mechanics', 'regulated', 'manufactured', 'article', 'exist', 'mechanic', 'Compare', 'Daily', 'defends', 'necessity', 'enacting', 'monopolistic', 'measures', 'aimed', 'Hoffa', 'amend', 'Norris-LaGuardia', 'injunctions', 'extend', 'Aeronautics', 'assuring', 'airlines', 'deemed', 'exemption', 'steamship', 'irrationality', 'guise', 'giant', 'Danbury', 'Hatters', 'Loewe', 'consumers', '1914', 'stating', 'immunization', 'interpretation', 'emasculated', '1922', 'Mine', 'Coal', 'alleging', 'interfered', 'commerce', 'interrupt', 'indirect', 'three-front', 'closed-door', 'Herter', 'Afterward', \"Tennessee's\", 'Gore', 'understatement', 'erupted', 'fronts', 'undermining', 'Congo', 'chaos', 'offensives', 'stirred', 'Hours', 'tanks', 'artillery', 'Dictator', 'blunt', 'embassy', 'consulate', 'staffs', 'eleven', '87', '120', 'foreign-policy', 'self-respect', 'endure', 'Through', 'President-elect', 'breakoff', 'Secretary-designate', 'Rusk', 'huddle', 'reacted', 'battalions', 'invaded', \"Pentagon's\", 'precautionary', 'readiness', 'Cutting', 'aircraft', 'carriers', 'Lexington', 'Bennington', 'Sea', 'swarm', 'troopships', 'marines', \"U.S.'s\", 'Okinawa', 'Task', '116', 'southward', 'signal', 'exaggeration', 'cautious', 'sorts', 'cold-war', 'Political', 'chaotic', 'mountainous', 'Indian', 'battleground', 'Indo-China', 'Chinese', 'predictably', 'Foster', 'Dulles', 'specimen', 'appeasement', 'becoming', 'calamity', 'mourn', 'seize', 'northern', 'parading', 'intrigue', 'drops', 'Ilyushin', 'transports', \"Year's\", 'cool', 'acknowledgment', 'Considering', \"war's\", 'terribly', 'ominous', \"Gore's\", 'confront', 'Inauguration', 'turmoil', '87th', 'sluice', 'gates', 'coyly', 'masquerades', 'Study', 'fought', 'unspoken', 'menaced', 'bottleneck', 'counting', 'noses', 'Deadly', 'breaching', 'liberals', 'conservative-liberal', 'namely', '14-term', 'Meyers', 'Colmer', 'Calmer', 'Caucusing', 'seniority', 'godliness', 'dour', 'gangling', 'choppy', 'gait', 'swung', 'internationalist', 'diehard', 'initially', 'suspicious', 'constituents', 'segregationist', 'anti-Negro', '6-6', 'far-out', 'Democratic-sponsored', 'Rayburn-Johnson', 'embarrassing', 'Equal', 'pretext', \"Colmer's\", 'ouster', 'lukewarm', 'anti-Kennedy', 'electors', 'Reprisals', 'unheard', 'forgive', 'prodigal', 'Dixiecrats', 'unscathed', 'rebellion', 'campaigned', 'anti-Colmer', 'reprisal', 'Said', 'whites', 'huddling', 'tense', 'Southerner', 'flatly', 'Mister', 'thereupon', 'oust', 'inferior', 'News', 'leaked', \"Missouri's\", 'Cannon', 'purple', 'Unconscionable', 'shouted', \"Speaker's\", 'Smith-Colmer', 'Appropriations', 'dreadful', 'excluding', 'pork-barrel', 'Sitting', 'pork', 'barrel', 'Vinson', 'Threat', 'raged', 'cloakrooms', 'caucuses', 'lose', 'numbered', '260-member', 'caucus', 'smelling', 'Committees', 'purged', 'Mississippians', 'maverick', 'arenas', 'applying', 'whiplash', 'loomed', 'specter', 'costlier', 'Southerners', 'chairmanships', 'truncated', 'unworkable', \"Arkansas'\", 'Wilbur', 'deliberately', 'coolheaded', 'face-saving', 'version', 'liberal-conservative', 'contrast', 'guerrilla', 'forma', \"guide's\", 'restrict', 'legislation-delaying', 'filibusters', 'wide-ranging', 'bipartisan', \"Minnesota's\", 'Hubert', 'Humphrey', \"Massachusetts'\", 'Leverett', 'Saltonstall', 'phalanx', 'traditionally', 'filibuster', \"Mexico's\", \"Senate's\", 'notorious', 'Rule', 'three-fifths', 'hard-to-get', 'Dealer', 'upped', 'ante', 'cloture', 'mere', 'Privately', 'modification', 'Congresses', 'binding', 'rounded', 'choke', 'Hopefully', 'perennial', 'Vice', 'virtually', 'convening', 'presiding', 'painful', 'chore', 'officiate', 'Electoral', 'declaration', 'tight', 'presidency', 'staunchest', 'Player', 'harrowing', 'lap', '72nd', 'pros', 'gaping', 'disbelief', 'licked', 'bite', 'midway', 'holes', 'Augusta', 'Course', 'teeth', '34', 'washed', 'rainstorm', \"Player's\", 'bogeyed', '10th', 'double-bogeyed', '15th', 'putt', 'scrambled', 'mishap', '2-over-par', '72-hole', 'scorecard', 'tears', 'trophy', 'seven-iron', 'strayed', 'lodged', 'sand', 'wedge', 'slope', 'tower', 'Afterwards', 'Coe', 'last-round', 'hasty', 'agonizing', 'graciously', 'putted', 'recover', 'composure', 'visibly', 'overshot', 'putting', 'beside', \"Roberts'\", 'stared', 'amazement', '281', 'rounds', 'comfortable', 'closest', 'second-place', 'lean', 'leathery', 'topnotch', 'jitters', 'overtake', 'disappointing', 'one-over-par', '73', 'intact', 'three-round', '210', '213', 'deliberate', 'Baltimorean', 'Half', 'holed', '206', 'erratic', 'washed-out', 'meteorological', 'footnotes', 'mano', 'Unlike', 'spontaneously', 'sight', 'prestige', 'Pensacola', 'winnings', 'somewhere', 'paired', 'threesome', 'chapter', 'duels', 'whichever', 'undisputed', 'awed', 'outplayed', 'Thereafter', 'Instant', 'rivalry', 'instantly', 'drizzly', 'skiddy', 'moist', 'golfers', 'boldly', 'flag-stick', 'consequences', '4-under-par', 'Rosburg', 'enormous', 'horde', 'unquestionably', 'essentially', 'Nicklaus', 'Venturi', 'shaky', 'accurate', 'supersensitive', 'putter', \"Augusta's\", 'treacheries', 'geriatric', 'cloudless', 'gray', 'ugly', 'focus', 'destined', 'scoreboards', 'twosome', 'Hyndman', 'conspicuously', 'contender', 'birdie', 'pars', 'tidal', 'birdied', 'birdies', 'bogey', 'Starting', 'Kel', 'Nagle', '2nd', 'roar', 'parklike', 'landscape', 'answered', 'moments', 'lining', '25-foot', 'thunderous', 'unmistakably', 'grimace', 'proceeded', 'sink', '25-footer', 'vocalization', 'rolling', 'intervening', 'fairways', 'boldness', 'gifted', 'axiomatic', 'dominate', 'vehemence', 'mar', 'well-played', 'overpowered', 'obliterated', 'contemptuous', 'earnest', 'aggressiveness', 'stepped', '6th', '8th', 'downhill', 'dogleg', 'measuring', 'pine', 'separating', 'Having', '160', 'punching', 'settling', 'four-wood', 'hoping', 'bunkered', \"you'd\", 'forget', 'chipped', '220-yard', 'par-3', 'switched', '180-degrees', 'northwest', 'one-iron', 'three-wood', 'subsequent', 'bogeys', 'drives', '450', 'sublime', 'muscular', 'teammate', 'double-header', 'awe', '145-pound', 'Gregory', 'Pearson', 'Angels', 'borders', 'ridiculous', 'amiable', 'ambled', 'grand-slam', 'borrowed', \"teammate's\", 'major-league', 'successive', 'pinch-hitter', 'Pitchers', 'grumble', 'shrinking', 'zone', 'knock-down', 'Experts', 'thinning', 'Whatever', 'home-run', 'peril', 'endurance', 'doubly', 'jeopardy', 'incorrigible', 'epicure', 'athlete', 'Herman', 'thwarted', 'ultimately', 'challenger', 'amazing', 'seventeen', 'spurt', 'Double', 'Always', 'Foxx', '58', '1932', 'Greenberg', '1938', 'Hack', 'spurred', 'zeroed', '108', '43', 'Extend', \"Maris's\", 'paces', '162', 'mathematically', 'flourish', '154', 'ideal', 'easier', 'Roommates', 'understandably', 'concede', 'primarily', 'quote', 'Valuable', 'MVP', 'enjoys', 'seeing', 'Cerv', 'Airport', '$251', 'air-conditioning', 'sleeps', 'couch', 'divide', 'cooking', 'breakfast', 'sandwich', 'Oldsmobile', '25-minute', 'roommates', 'strikingly', 'backgrounds', 'stars', 'Fargo', 'N.D.', 'halfbacks', 'minors', 'recalls', 'wished', 'extent', 'alike', 'hair', 'weigh', 'incredibly', '17-1/2-inch', 'backs', 'overdeveloped', 'shoulders', 'purchases', \"Simpson's\", 'Light', 'classified', 'opus', \"Miller's\", 'Tropic', 'literary', 'broadened', \"teammates'\", 'minds', 'passages', 'aloud', 'reporter', 'surprising', 'trait', 'ballplayer', 'pleasant', 'photographers', 'cooperative', 'locker', 'volunteered', 'anecdote', 'dark-haired', '11-year-old', \"Berra's\", 'stunk', 'candidly', 'occasions', 'shuns', 'dumb', 'angry', 'Benched', 'Tulsa', 'Dutch', 'Send', 'Reading', 'Kerby', 'Farrell', 'Play', 'gentlemen', \"Idols'\", 'idols', 'heroes', 'sportswriter', 'kidding', 'idolize', 'ex-Yankee', 'aching', 'crushed', 'vowed', 'vow', 'ties', 'zinc', '87-1/2', 'cents', 'railroading', 'mining', 'head-and-shoulders', 'Hitting', 'left-handed', 'right-handed', 'possess', 'stances', 'dug', 'fierce', 'swings', 'bunters', 'nineteen', '3.1', 'seconds', '100-yard', 'dash', 'Aparicio', 'swift', 'base-stealing', 'daring', 'fielders', 'weapon', 'dullest', 'inevitably', 'weaker', 'Appropriately', 'startling', '1919', 'conspired', 'grew', 'disillusioned', 'disinterested', 'Into', 'Convair', 'Caroline', 'winged', 'Actor-Crooner', 'Sinatra', 'pal', 'Cinemactor', 'Lawford', 'brother-in-law', 'entourage', 'sweater', 'Frankie', 'Eve', \"capital's\", 'Armory', 'glutted', 'Ella', 'Fitzgerald', 'Australia', 'cats', 'ensconced', \"armory's\", 'ringside', 'doubtless', 'Inaugural', 'Couturier', 'Loper', \"ladies'\", 'ensembles', 'spills', 'stitch', 'catapulted', 'commandant', 'warless', 'Pentagon', 'Leatherneck', 'accumulation', 'vines', 'weeds', 'moldboard', 'lifted', 'hitched', 'rein', 'geeing', 'hawing', 'tilling', 'deplored', 'noncommissioned', 'belonged', 'someone', '1940', 'socks', 'window', 'Maurine', 'Neuberger', 'brotherly', 'buss', 'Elder', 'Statesman', 'Adlai', 'Stevenson', 'Ambassador-designate', 'U.N.', \"Island's\", 'Greene', 'swum', 'cerebrated', 'hearty', '93', 'august', 'oldest', 'undergraduate', 'bobby-sox', 'Dreamboat', 'Cacophonist', 'Fabian', 'Forte', 'tutors', \"10-o'clock\", 'Lacking', 'classmates', \"High's\", 'toneless', 'lad', 'Decathlon', 'Rafer', 'gumption', \"A.A.U.'s\", 'sportsman', 'tapped', 'cliffhanging', 'rallies', 'crowns', 'Tooling', 'Zealand', 'Prix', 'balding', 'Ace', 'Driver', 'Stirling', 'smothered', 'exhaust', 'self-crimination', 'slob', 'gaudy', 'racing', 'ruddy', 'lazy', 'frustrating', 'Has', 'stirling', 'virtues', 'eulogizers', \"U.S.S.R.'s\", 'Izvestia', 'enterprisingly', 'interviewed', 'Red-prone', 'Comedian', 'Chaplin', 'self-exile', '1952', 'confided', 'marveled', 'grandiose', 'experiment', 'spooned', 'impressions', 'glimpsed', 'captivated', 'sly', 'transatlantic', 'jetliners', \"Europe's\", 'enigma', 'vaguely', 'connotes', 'new-rich', 'wealth', 'eccentricity', 'ardor', 'collecting', 'headlines', '343', 'first-class', 'fabled', \"Philadelphia's\", 'legend', 'fortune', 'dying', 'boom', 'bargain', 'continent', 'Modern', \"Art's\", 'Barr', 'barge', 'lavishly', 'drivers', 'bellboys', 'Cezannes', 'Braques', 'Matisses', 'Legers', 'Picasso', 'Giacometti', 'Klees', 'hung', 'burglarproof', 'Throw', 'trusted', 'housed', 'snubbing', 'Basel', 'Ernst', 'Beyeler', 'arranged', '$1,500,000', 'Rhine-Westphalia', 'prizes', 'scarcely', 'glanced', 'treasures', 'speculated', 'revenge', 'bare', 'Break', 'discriminate', 'applicant', '175', 'classrooms', 'Bootle', 'admit', 'kindergarten', 'Alabama', 'Hamilton', 'Holmes', 'Charlayne', 'Valedictorian', 'pretexts', 'skins', 'Morehouse', 'journalism', \"Detroit's\", 'tentatively', 'investigators', 'roommate', 'lasted', 'ritual', 'prostitution', 'beatnik', 'teahouse', 'evasive', 'lied', 'desegregated', \"Bootle's\", 'plaintiffs', 'Surprised', 'Catch', 'Chancellor', 'Kimpton', 'hunt', 'gripped', 'Midway', 'Out', 'grads', 'statesmen', 'Conant', 'pondered', 'successors', \"Harvard's\", 'McGeorge', 'Bundy', 'Trustee', 'lure', 'scholars', 'happily', \"Caltech's\", 'Geneticist', 'Beadle', '57', 'Prize', 'physiology', 'discovering', 'genes', 'heredity', 'Cover', 'nine-year', 'reign', 'tidying', '21-year', 'typhoon', 'Idealist', 'Maynard', \"Hutchins'\", 'wildly', 'enrollment', '2,100', 'endowment', '$139.3', 'heady', 'Caltech', 'sixth-sense', 'recruit', 'excite', 'researchers', 'unexpected', 'speech-making', 'avidly', 'Journal', '$300', 'philosopher', 'consequently', 'finger', 'Leopold', 'Belgians', '1885', 'grabbing', '900,000', 'wilderness', 'quarreling', 'tribes', 'historical', 'boundaries', 'geography', 'ethnic', 'groupings', \"Leopold's\", 'explorers', 'gunmen', '13.5', 'culture', 'innumerable', 'dialects', 'religions', 'Mohammedanism', 'paganism', 'ancestor', 'animism', 'ranges', 'steamily', 'equatorial', 'temperate', 'patients', 'trampled', 'disparities', 'Belgian', 'administered', '1908', 'touched', 'conscience', 'commencing', 'paternalism', 'unmatched', 'colonialism', 'Ordinarily', 'independence', 'Congolese', 'imagines', 'infant', 'tin', 'cobalt', 'manganese', 'uranium', 'palm', 'Brussels', 'beneficiaries', 'cartels', 'Inside', 'Gunther', 'describes', 'Societe', 'Generale', 'colossus', 'envisaged', 'Anaconda', 'Copper', 'Mutual', 'Insurance', 'producing', 'lumped', 'ruthless', 'exploited', 'compassion', 'instituted', 'ration', 'obliged', 'dole', 'eat', 'hungry', '25,000', 'puzzle', 'la', 'chatte', 'le', 'chien', 'carpenters', 'indefinite', 'fearing', 'elite', 'unrest', 'manifestly', 'unprepared', 'oversimplification', 'gale', 'prepare', 'colonies', 'clamoring', 'unsure', 'Pas', 'une', 'goutte', 'sang', 'detested', 'pedagogue', 'mess', 'motivations', 'guiltless', 'Kasavubu', 'splitting', 'Balkanizing', 'Moise', 'Tshombe', 'near-Balkanization', 'federalism', 'Third', 'notably', 'Patrice', 'Lumumba', 'hurry', 'fragmentation', 'provincial', 'provinces', 'Leopoldville', 'Kasai', 'Kivu', 'Katanga', 'Equator', 'unfortunately', 'Western-style', 'premier', 'bicameral', 'universal', 'Well-wishers', 'assume', 'respectable', 'frictions', '25,000-man', 'Publique', 'officered', 'Twenty-four', 'tribesmen', 'commenced', 'well-armed', 'savage', 'cannibalistic', 'mutiny', 'rioting', 'raping', 'looting', 'Terror', 'engulfed', 'civilians', 'paratroops', 'mineral-rich', 'seceded', 'Confusion', 'succeeding', 'blamed', 'abstaining', 'Vague', 'withdrawal', 'Secretary-General', 'Hammarskjold', 'preferable', 'nonwhite', 'Tunisia', 'Guinea', 'Mali', '19,000', 'Eire', 'Sweden', 'reluctant', 'withdraw', 'obstructed', 'complicated', \"U.N.'s\", 'initiating', 'wars', 'secessionist', 'Kalonji', 'secede', 'meddle', 'dispatching', 'intervene', 'openly', 'three-month', 'exasperated', 'Mobutu', 'flung', 'redoubled', 'obstructionist', 'departed', 'withdrawing', 'uniformed', 'variously', 'mercenaries', '65%', 'directive', 'interfere', 'unify', 'federalize', 'Balkanize', 'smoldered', 'flickered', 'kidnaped', 'appropriate', 'occurrence', 'resort', 'eject', \"Lumumba's\", 'reconvention', \"McCloy's\", 'reliance', 'thorny', 'Bizerte', 'Tunis', 'imbroglio', 'quo', 'Mediterranean', 'Tunisian', 'Bahi', 'Ladgham', 'irreconcilable', 'Habib', 'Bourguiba', 'picks', 'Uruguay', 'Inter-American', 'Main', 'Alliance', 'Progress', 'Nationalist', \"China's\", 'dapper', 'diminutive', 'Chen', 'Cheng', 'Chiang', \"Kai-shek's\", 'emissary', 'Outer', 'Mongolia', 'woo', 'Peking', 'abstention', \"Mongolia's\", 'conferred', 'emissaries', 'Guatemala', 'Nepal', 'good-will', 'Ivory', 'skyjacked', 'four-jet', 'Boeing', '707', 'stopovers', 'Airlines', 'night-coach', 'Flight', '1:35', 'Thirty-one', 'teen-age', '3:57', 'stewardess', 'aisle', 'bent', 'stomach', 'sick', 'Salvador', 'Desert', 'Carnegey', 'Rickards', '52-year-old', 'hijacked', 'mid-flight', 'Peruvian', 'tri-motor', 'Arequipa', 'pirates', 'Cuban-American', 'Electra', 'Newsweek', 'Stalling', 'guns', 'elder', 'radioed', 'skyjackers', 'refuel', 'McCauley', 'Sacramento', 'recruits', 'awoke', 'nap', 'nut', 'recruiter', 'volunteer', 'hostages', 'Mullen', 'Pfc.', 'Augustine', 'Gilman', 'boxer', 'Immigration', 'Border', '4:18', \"sheriff's\", 'surged', 'submachine', 'ordinarily', 'fuels', 'consumed', 'swap', 'propeller-driven', 'hijackers', 'airplane', \"Cuba's\", 'steal', 'embargo', 'shadows', 'Mountains', 'pry', 'baggage', 'luggage', 'subsequently', 'Bearden', '50-year-old', 'ex-convict', 'Coolidge', 'Cody', 'high-school', 'Tension', 'Beardens', 'slug', 'Officer', 'Simmons', 'ultimatum', 'take-off', 'taxiing', 'raced', 'slugs', 'flattened', 'silenced', 'inboard', 'engines', 'Ambulances', '12:50', 'Crosby', 'eased', 'unarmed', 'distracted', 'stewardesses', 'Toni', 'Besset', 'pocket', \"Simmons'\", 'nodded', 'Frog-marched', '$100,000', 'kidnapping', 'transporting', 'peddle', '36-year-old', 'Taking', 'precedence', 'unaccustomed', 'unanimity', '0', 'peacetime', '225,000', 'requested', '160,000', 'hold-back', 'mutterers', 'labeled', 'prudently', '$46.7', 'tacked', '$754', 'B-52', 'long-range', 'bombers', 'Strategic', 'Command', '224-170', '$5.2', 'Debate', 'all-important', 'foreign-aid', 'Food', 'stew', 'Mulligatawny', 'poor-mouth', 'lowliest', '1851', 'ceased', 'enlivened', 'Maine', 'Idaho', 'menu', 'drab', 'smelts', 'soft-shell', 'crabs', 'grapefruit', 'bean', 'soup', 'Dubois', 'citizenry', 'ventured', 'haute', 'cuisine', '$10,000-per-year', 'French-born', 'maitre', \"d'hotel\", 'Holders', 'toll-road', 'turnpikes', 'Long-term', 'Higher', 'toll', 'Result', 'payoff', 'speculative', 'Things', 'streams', 'speculations', 'investments', 'tending', \"Poor's\", 'slipped', 'bucked', 'rises', 'outnumber', 'Tax-free', 'more-than-ordinary', 'risen', 'unmarried', 'investor', '$16,000', '$32,000', 'Swelling', '12-month', 'happening', 'Blyth', 'lags', 'Indication', 'turnpike', 'Turnpike', 'slumped', \"road's\", '186', '173', 'preceding', 'Costs', '121', 'Slow', 'successes', '187-mile', 'Toll', 'Success', \"engineers'\", 'rosy', 'toll-rate', 'extensions', 'tolls', 'Richmond-Petersburg', 'Easier', 'access', \"motorists'\", 'illustration', '62', 'Further', 'Wichita', 'Kans.', 'deficiency', 'opportunities', 'Skyway', 'planners', 'default', 'defaulted', 'Already', 'margins', 'attracting', 'break-even', 'competitively', 'Luther', 'toured', \"Italy's\", 'Fiat', 'Olivetti', 'typewriters', 'calculating', 'cabled', 'Turin', 'Follow', 'Plan', 'enables', 'fraction', 'skilled', 'earns', 'infrequent', 'Underwood', \"Underwood's\", 'exports', 'layout', 'design-conscious', 'sales-conscious', 'advertising-conscious', 'inflow', 'vigor', 'textiles', 'imports', 'textile', 'Important', 'textile-importing', 'textile-exporting', 'noting', 'industrialized', 'less-developed', 'exporting', 'Idea', 'low-wage', 'high-wage', 'textile-producing', 'curbing', 'limiting', 'Lancashire', 'Pact', 'None', 'capture', 'loudly', 'protest', 'Spanish', 'Portuguese', 'pour', 'unrestrictedly', 'Pakistanis', 'chafing', 'bilateral', 'quotas', 'Gradual', 'stabilization', 'clue', 'Note', 'modernization', 'shrinkage', 'transferring', 'feasible', 'Special', 'Import', 'forcing', 'shrink', \"What's\", 'handwriting', 'highest-paid', 'coal', 'miners', 'cheap', \"steelmakers'\", 'mouths', 'Wales', 'steelmaker', 'takings', 'Welsh', 'markets', '$2.80', 'ton', 'cheaper', 'rail', 'mines', 'mechanization', 'seams', 'attactive', 'nationalized', 'twisting', 'Productivity', 'Communist-led', 'unprofitable', 'borrower', 'five-cent', 'fiction', 'rentals', 'apologetically', 'sorry', 'Behind', 'variations', 'ever-present', 'libraries', 'grist', '15,000', 'readers', 'lovers', 'nonfiction', 'clientele', 'diversified', 'budgets', 'hopelessly', 'startlingly', 'exceed', \"librarian's\", 'richest', 'plight', 'proportionately', 'Confronted', 'limitations', 'bounty', 'contrasts', 'density', 'cross-section', 'extreme', 'upper', 'sparsely', 'populated', 'Nassau', 'high-density', 'ample', 'thriving', 'wary', 'well-stocked', 'cherish', 'joining', 'radical', 'autonomy', 'preserved', 'maintains', 'advantages', 'librarians', 'foresee', 'distant', 'co-op', 'requires', 'volumes', 'nucleus', 'develops', 'thirty', 'fifty', 'capita', 'inclusive', 'recognizes', 'broaden', 'everyday', 'Hempstead', '1965', 'Basic', 'tools', 'backbone', 'specialization', 'microfilm', 'founding', 'periodicals', 'interlibrary', 'connected', 'teletype', 'truck', 'canvas', 'psychology', 'religion', 'Freeport', 'biography', 'centered', 'Levittown', 'Hewlett-Woodmere', 'repository', 'wholly', 'quarter-century', 'comprehensive', 'saves', 'bulk', 'discounts', 'bookkeeping', 'billing', 'Books', 'resource', 'Schools', 'documentary', 'catalogue', 'classics', 'Nanook', \"Emperor's\", 'Nightingale', 'Balloon', 'Workshops', \"system's\", 'understands', 'responsibilities', 'conducts', 'well-planned', 'book-review', 'book-selection', 'Sample', 'copies', 'evaluate', 'Story', 'pre-school', 'grassroots', 'prepares', 'displays', 'booklists', 'brochures', 'publishes', 'Sum', 'Substance', 'newsletter', 'governed', 'geographically', 'bear', 'Librarians', 'borne', 'multiplying', 'newcomers', 'maligned', 'teen-agers', 'co-ops', 'citizen', 'advances', 'educated', 'discriminating', 'slave', 'spiritual', 'restraint', 'falls', 'grows', 'translate', 'inadequacy', 'vigorously', '25,000,000', '50,000,000', '124', '1,509', '66', 'pupils', 'render', 'vitally', '16-22', 'richer', 'fuller'])\n"
     ]
    }
   ],
   "source": [
    "print(fd.keys())"
   ]
  },
  {
   "cell_type": "code",
   "execution_count": 78,
   "metadata": {},
   "outputs": [
    {
     "data": {
      "text/plain": [
       "FreqDist({'IN': 9, 'RP': 40, 'RP-HL': 1})"
      ]
     },
     "execution_count": 78,
     "metadata": {},
     "output_type": "execute_result"
    }
   ],
   "source": [
    "cfd['down']"
   ]
  },
  {
   "cell_type": "code",
   "execution_count": 79,
   "metadata": {},
   "outputs": [
    {
     "data": {
      "text/plain": [
       "'RP'"
      ]
     },
     "execution_count": 79,
     "metadata": {},
     "output_type": "execute_result"
    }
   ],
   "source": [
    "cfd['down'].max()"
   ]
  },
  {
   "cell_type": "code",
   "execution_count": 80,
   "metadata": {},
   "outputs": [
    {
     "data": {
      "text/plain": [
       "[('``', '``'),\n",
       " ('Only', None),\n",
       " ('a', 'AT'),\n",
       " ('relative', None),\n",
       " ('handful', None),\n",
       " ('of', 'IN'),\n",
       " ('such', None),\n",
       " ('reports', None),\n",
       " ('was', 'BEDZ'),\n",
       " ('received', None),\n",
       " (\"''\", \"''\"),\n",
       " (',', ','),\n",
       " ('the', 'AT'),\n",
       " ('jury', None),\n",
       " ('said', 'VBD'),\n",
       " (',', ','),\n",
       " ('``', '``'),\n",
       " ('considering', None),\n",
       " ('the', 'AT'),\n",
       " ('widespread', None),\n",
       " ('interest', None),\n",
       " ('in', 'IN'),\n",
       " ('the', 'AT'),\n",
       " ('election', None),\n",
       " (',', ','),\n",
       " ('the', 'AT'),\n",
       " ('number', None),\n",
       " ('of', 'IN'),\n",
       " ('voters', None),\n",
       " ('and', 'CC'),\n",
       " ('the', 'AT'),\n",
       " ('size', None),\n",
       " ('of', 'IN'),\n",
       " ('this', 'DT'),\n",
       " ('city', None),\n",
       " (\"''\", \"''\"),\n",
       " ('.', '.')]"
      ]
     },
     "execution_count": 80,
     "metadata": {},
     "output_type": "execute_result"
    }
   ],
   "source": [
    "sent = brown.sents(categories = 'news')[3]\n",
    "baseline_tagger.tag(sent)"
   ]
  },
  {
   "cell_type": "markdown",
   "metadata": {},
   "source": [
    "    Many words have been assigned a tag of None, because they were not among the 100 most frequent words. In these cases we would like to assign the default tag of NN"
   ]
  },
  {
   "cell_type": "code",
   "execution_count": 81,
   "metadata": {
    "collapsed": true
   },
   "outputs": [],
   "source": [
    "baseline_tagger = nltk.UnigramTagger(model = likely_tags, backoff = nltk.DefaultTagger('NN'))"
   ]
  },
  {
   "cell_type": "code",
   "execution_count": 82,
   "metadata": {
    "collapsed": true
   },
   "outputs": [],
   "source": [
    "def performance(cfd, wordlist):\n",
    "    lt = dict((word, cfd[word].max()) for word in wordlist)\n",
    "    baseline_tagger = nltk.UnigramTagger(model = lt, backoff = nltk.DefaultTagger('NN'))\n",
    "    return baseline_tagger.evaluate(brown_tagged_sents)\n"
   ]
  },
  {
   "cell_type": "code",
   "execution_count": 83,
   "metadata": {
    "collapsed": true
   },
   "outputs": [],
   "source": [
    "def display():\n",
    "    import pylab\n",
    "    word_freq = nltk.FreqDist(brown.words(categories = 'news')).most_common()\n",
    "    w = [word for (word, _) in word_freq]\n",
    "    cfd = nltk.ConditionalFreqDist(brown.tagged_words(categories = 'news'))\n",
    "    sizes = 2 ** pylab.arange(15)\n",
    "    perfs = [performance(cfd, w[:size]) for size in sizes]\n",
    "    pylab.plot(sizes, perfs, '-bo')\n",
    "    pylab.title('Lookup Tagger Performance with Varying Model Size')\n",
    "    pylab.xlabel('Model Size')\n",
    "    pylab.ylabel('Performance')\n",
    "    pylab.show()"
   ]
  },
  {
   "cell_type": "code",
   "execution_count": 84,
   "metadata": {},
   "outputs": [
    {
     "data": {
      "image/png": "[encoded data removed]",
      "text/plain": [
       "<matplotlib.figure.Figure at 0x1fe8dec1be0>"
      ]
     },
     "metadata": {},
     "output_type": "display_data"
    }
   ],
   "source": [
    "display()"
   ]
  },
  {
   "cell_type": "markdown",
   "metadata": {},
   "source": [
    "Observe that performance initially increases rapidly as the model size grows, eventually reaching a plateau, when large increases in model size yield little improvement in performance"
   ]
  },
  {
   "cell_type": "markdown",
   "metadata": {},
   "source": [
    "### Unigram Taggers"
   ]
  },
  {
   "cell_type": "markdown",
   "metadata": {},
   "source": [
    "##### Unigram Tagging"
   ]
  },
  {
   "cell_type": "markdown",
   "metadata": {},
   "source": [
    "Unigram taggers are based on a simple statistical algorithm: for each token, assign the tag that is most likely for that particular token. For example, it will assign the tag JJ to any occurrence of the word frequent, since frequent is used as an adjective (e.g. a frequent word) more often than it is used as a verb (e.g. I frequent this cafe). "
   ]
  },
  {
   "cell_type": "code",
   "execution_count": 85,
   "metadata": {},
   "outputs": [
    {
     "data": {
      "text/plain": [
       "[('Various', 'JJ'),\n",
       " ('of', 'IN'),\n",
       " ('the', 'AT'),\n",
       " ('apartments', 'NNS'),\n",
       " ('are', 'BER'),\n",
       " ('of', 'IN'),\n",
       " ('the', 'AT'),\n",
       " ('terrace', 'NN'),\n",
       " ('type', 'NN'),\n",
       " (',', ','),\n",
       " ('being', 'BEG'),\n",
       " ('on', 'IN'),\n",
       " ('the', 'AT'),\n",
       " ('ground', 'NN'),\n",
       " ('floor', 'NN'),\n",
       " ('so', 'QL'),\n",
       " ('that', 'CS'),\n",
       " ('entrance', 'NN'),\n",
       " ('is', 'BEZ'),\n",
       " ('direct', 'JJ'),\n",
       " ('.', '.')]"
      ]
     },
     "execution_count": 85,
     "metadata": {},
     "output_type": "execute_result"
    }
   ],
   "source": [
    "unigram_tagger = nltk.UnigramTagger(brown_tagged_sents)\n",
    "unigram_tagger.tag(brown_sents[2007])"
   ]
  },
  {
   "cell_type": "code",
   "execution_count": 86,
   "metadata": {},
   "outputs": [
    {
     "data": {
      "text/plain": [
       "0.9349006503968017"
      ]
     },
     "execution_count": 86,
     "metadata": {},
     "output_type": "execute_result"
    }
   ],
   "source": [
    "unigram_tagger.evaluate(brown_tagged_sents)"
   ]
  },
  {
   "cell_type": "markdown",
   "metadata": {
    "collapsed": true
   },
   "source": [
    "We train a UnigramTagger by specifying tagged sentence data as a parameter when we initialize the tagger. The training process involves inspecting the tag of each word and storing the most likely tag for any word in a dictionary, stored inside the tagger."
   ]
  },
  {
   "cell_type": "markdown",
   "metadata": {},
   "source": [
    "#####  Seperating the Training and Testing Data"
   ]
  },
  {
   "cell_type": "markdown",
   "metadata": {},
   "source": [
    "Training and Testing on different data. As above! split training on 90% and testing on the remaining 10%"
   ]
  },
  {
   "cell_type": "code",
   "execution_count": 13,
   "metadata": {},
   "outputs": [
    {
     "data": {
      "text/plain": [
       "4160"
      ]
     },
     "execution_count": 13,
     "metadata": {},
     "output_type": "execute_result"
    }
   ],
   "source": [
    "size = int(len(brown_tagged_sents) * 0.9)\n",
    "size"
   ]
  },
  {
   "cell_type": "code",
   "execution_count": 15,
   "metadata": {},
   "outputs": [
    {
     "data": {
      "text/plain": [
       "0.8121200039868434"
      ]
     },
     "execution_count": 15,
     "metadata": {},
     "output_type": "execute_result"
    }
   ],
   "source": [
    "train_sents = brown_tagged_sents[:size]\n",
    "test_sents = brown_tagged_sents[size:]\n",
    "unigram_tagger = nltk.UnigramTagger(train_sents)\n",
    "unigram_tagger.evaluate(test_sents)"
   ]
  },
  {
   "cell_type": "markdown",
   "metadata": {},
   "source": [
    "##### General N-Gram Tagging"
   ]
  },
  {
   "cell_type": "markdown",
   "metadata": {},
   "source": [
    "When we perform a language processing task based on unigrams, we are using one item of context. In the case of tagging, we only consider the current token, in isolation from any larger context. Given such a model, the best we can do is tag each word with its a priori most likely tag. This means we would tag a word such as wind with the same tag, regardless of whether it appears in the context the wind or to wind."
   ]
  },
  {
   "cell_type": "markdown",
   "metadata": {},
   "source": [
    "An n-gram tagger is a generalization of a unigram tagger whose context is the current word together with the part-of-speech tags of the n-1 preceding tokens, as shown in 5.1. The tag to be chosen, tn, is circled, and the context is shaded in grey. In the example of an n-gram tagger shown in 5.1, we have n=3; that is, we consider the tags of the two preceding words in addition to the current word. An n-gram tagger picks the tag that is most likely in the given context."
   ]
  },
  {
   "cell_type": "markdown",
   "metadata": {},
   "source": [
    "**A 1-gram tagger is another term for a unigram tagger: i.e., the context used to tag a token is just the text of the token itself. 2-gram taggers are also called bigram taggers, and 3-gram taggers are called trigram taggers.**"
   ]
  },
  {
   "cell_type": "code",
   "execution_count": 90,
   "metadata": {},
   "outputs": [
    {
     "name": "stdout",
     "output_type": "stream",
     "text": [
      "[('Various', 'JJ'), ('of', 'IN'), ('the', 'AT'), ('apartments', 'NNS'), ('are', 'BER'), ('of', 'IN'), ('the', 'AT'), ('terrace', 'NN'), ('type', 'NN'), (',', ','), ('being', 'BEG'), ('on', 'IN'), ('the', 'AT'), ('ground', 'NN'), ('floor', 'NN'), ('so', 'CS'), ('that', 'CS'), ('entrance', 'NN'), ('is', 'BEZ'), ('direct', 'JJ'), ('.', '.')]\n"
     ]
    }
   ],
   "source": [
    "bigram_tagger = nltk.BigramTagger(train_sents)\n",
    "print(bigram_tagger.tag(brown_sents[2007]))"
   ]
  },
  {
   "cell_type": "code",
   "execution_count": 93,
   "metadata": {},
   "outputs": [
    {
     "name": "stdout",
     "output_type": "stream",
     "text": [
      "[('The', 'AT'), ('population', 'NN'), ('of', 'IN'), ('the', 'AT'), ('Congo', 'NP'), ('is', 'BEZ'), ('13.5', None), ('million', None), (',', None), ('divided', None), ('into', None), ('at', None), ('least', None), ('seven', None), ('major', None), ('``', None), ('culture', None), ('clusters', None), (\"''\", None), ('and', None), ('innumerable', None), ('tribes', None), ('speaking', None), ('400', None), ('separate', None), ('dialects', None), ('.', None)]\n"
     ]
    }
   ],
   "source": [
    "unseen_sent = brown_sents[4203]\n",
    "print(bigram_tagger.tag(unseen_sent))"
   ]
  },
  {
   "cell_type": "markdown",
   "metadata": {},
   "source": [
    "Notice that the bigram tagger manages to tag every word in a sentence it saw during training, but does badly on an unseen sentence. As soon as it encounters a new word (i.e., 13.5), it is unable to assign a tag. It cannot tag the following word (i.e., million) even if it was seen during training, simply because it never saw it during training with a None tag on the previous word. Consequently, the tagger fails to tag the rest of the sentence. Its overall accuracy score is very low:"
   ]
  },
  {
   "cell_type": "code",
   "execution_count": 94,
   "metadata": {},
   "outputs": [
    {
     "data": {
      "text/plain": [
       "0.10206319146815508"
      ]
     },
     "execution_count": 94,
     "metadata": {},
     "output_type": "execute_result"
    }
   ],
   "source": [
    "bigram_tagger.evaluate(test_sents)"
   ]
  },
  {
   "cell_type": "markdown",
   "metadata": {},
   "source": [
    "As n gets larger, the specificity of the contexts increases, as does the chance that the data we wish to tag contains contexts that were not present in the training data. This is known as the sparse data problem, and is quite pervasive in NLP. As a consequence, there is a trade-off between the accuracy and the coverage of our results (and this is related to the precision/recall trade-off in information retrieval)."
   ]
  },
  {
   "cell_type": "markdown",
   "metadata": {},
   "source": [
    "**n-gram taggers should not consider context that crosses a sentence boundary. Accordingly, NLTK taggers are designed to work with lists of sentences, where each sentence is a list of words. At the start of a sentence, tn-1 and preceding tags are set to None.**"
   ]
  },
  {
   "cell_type": "markdown",
   "metadata": {},
   "source": [
    "##### Combining Taggers"
   ]
  },
  {
   "cell_type": "markdown",
   "metadata": {},
   "source": [
    "For example, we could combine the results of a bigram tagger, a unigram tagger, and a default tagger, as follows:\n",
    "\n",
    "-Try tagging the token with the bigram tagger.<br>\n",
    "-If the bigram tagger is unable to find a tag for the token, try the unigram tagger.<br>\n",
    "-If the unigram tagger is also unable to find a tag, use a default tagger.<br>"
   ]
  },
  {
   "cell_type": "code",
   "execution_count": 20,
   "metadata": {},
   "outputs": [
    {
     "data": {
      "text/plain": [
       "0.8424200139539519"
      ]
     },
     "execution_count": 20,
     "metadata": {},
     "output_type": "execute_result"
    }
   ],
   "source": [
    "t0 = nltk.DefaultTagger('NN')\n",
    "t1 = nltk.UnigramTagger(train_sents, backoff = t0)\n",
    "t2 = nltk.BigramTagger( train_sents, cutoff = 2, backoff = t1)\n",
    "t2.evaluate(test_sents)"
   ]
  },
  {
   "cell_type": "code",
   "execution_count": 21,
   "metadata": {},
   "outputs": [
    {
     "data": {
      "text/plain": [
       "0.8422206717831158"
      ]
     },
     "execution_count": 21,
     "metadata": {},
     "output_type": "execute_result"
    }
   ],
   "source": [
    "t3 = nltk.TrigramTagger(train_sents, backoff = t2)\n",
    "t3.evaluate(test_sents)"
   ]
  },
  {
   "cell_type": "markdown",
   "metadata": {},
   "source": [
    "Note that we specify the backoff tagger when the tagger is initialized so that training can take advantage of the backoff tagger. Thus, if the bigram tagger would assign the same tag as its unigram backoff tagger in a certain context, the bigram tagger discards the training instance. This keeps the bigram tagger model as small as possible. We can further specify that a tagger needs to see more than one instance of a context in order to retain it, e.g. nltk.BigramTagger(sents, cutoff=2, backoff=t1) will discard contexts that have only been seen once or twice."
   ]
  },
  {
   "cell_type": "markdown",
   "metadata": {},
   "source": [
    "##### Tagging Unknown Words"
   ]
  },
  {
   "cell_type": "markdown",
   "metadata": {},
   "source": [
    "Our approach to tagging unknown words still uses backoff to a regular-expression tagger or a default tagger. These are unable to make use of context. Thus, if our tagger encountered the word blog, not seen during training, it would assign it the same tag, regardless of whether this word appeared in the context the blog or to blog. How can we do better with these unknown words, or out-of-vocabulary items?\n",
    "\n",
    "A useful method to tag unknown words based on context is to limit the vocabulary of a tagger to the most frequent n words, and to replace every other word with a special word UNK using the method shown in 3. During training, a unigram tagger will probably learn that UNK is usually a noun. However, the n-gram taggers will detect contexts in which it has some other tag. For example, if the preceding word is to (tagged TO), then UNK will probably be tagged as a verb."
   ]
  },
  {
   "cell_type": "markdown",
   "metadata": {},
   "source": [
    "##### Storing Taggers"
   ]
  },
  {
   "cell_type": "markdown",
   "metadata": {},
   "source": [
    "Training a tagger on a large corpus may take a significant time. Instead of training a tagger every time we need one, it is convenient to save a trained tagger in a file for later re-use"
   ]
  },
  {
   "cell_type": "code",
   "execution_count": 103,
   "metadata": {
    "collapsed": true
   },
   "outputs": [],
   "source": [
    "from pickle import dump, load\n",
    "output = open('t2.pkl', 'wb')\n",
    "dump(t2, output, -1)\n",
    "output.close()"
   ]
  },
  {
   "cell_type": "code",
   "execution_count": 104,
   "metadata": {
    "collapsed": true
   },
   "outputs": [],
   "source": [
    "input = open('t2.pkl', 'rb')\n",
    "tagger = load(input)\n",
    "input.close()"
   ]
  },
  {
   "cell_type": "code",
   "execution_count": 105,
   "metadata": {},
   "outputs": [
    {
     "data": {
      "text/plain": [
       "[('The', 'AT'),\n",
       " (\"board's\", 'NN$'),\n",
       " ('action', 'NN'),\n",
       " ('shows', 'NNS'),\n",
       " ('what', 'WDT'),\n",
       " ('free', 'JJ'),\n",
       " ('enterprise', 'NN'),\n",
       " ('is', 'BEZ'),\n",
       " ('up', 'RP'),\n",
       " ('against', 'IN'),\n",
       " ('in', 'IN'),\n",
       " ('our', 'PP$'),\n",
       " ('complex', 'JJ'),\n",
       " ('maze', 'NN'),\n",
       " ('of', 'IN'),\n",
       " ('regulatory', 'NN'),\n",
       " ('laws', 'NNS'),\n",
       " ('.', '.')]"
      ]
     },
     "execution_count": 105,
     "metadata": {},
     "output_type": "execute_result"
    }
   ],
   "source": [
    "text = \"\"\"The board's action shows what free enterprise is up against in our complex maze of regulatory laws .\"\"\"\n",
    "tokens = text.split()\n",
    "tagger.tag(tokens)"
   ]
  },
  {
   "cell_type": "markdown",
   "metadata": {},
   "source": [
    "##### Performance Limitations"
   ]
  },
  {
   "cell_type": "markdown",
   "metadata": {},
   "source": [
    "What is the upper limit to the performance of an n-gram tagger? Consider the case of a trigram tagger. How many cases of part-of-speech ambiguity does it encounter? We can determine the answer to this question empirically:"
   ]
  },
  {
   "cell_type": "code",
   "execution_count": 109,
   "metadata": {},
   "outputs": [
    {
     "data": {
      "text/plain": [
       "0.049297702068029296"
      ]
     },
     "execution_count": 109,
     "metadata": {},
     "output_type": "execute_result"
    }
   ],
   "source": [
    "cfd = nltk.ConditionalFreqDist(((x[1], y[1], z[0]), z[1])\n",
    "                               for sent in brown_tagged_sents\n",
    "                               for x, y, z in nltk.trigrams(sent))\n",
    "ambi_contexts = [c for c in cfd.conditions() if len(cfd[c]) > 1]\n",
    "sum(cfd[c].N() for c in ambi_contexts) / cfd.N()"
   ]
  },
  {
   "cell_type": "code",
   "execution_count": 111,
   "metadata": {},
   "outputs": [
    {
     "data": {
      "text/plain": [
       "91343"
      ]
     },
     "execution_count": 111,
     "metadata": {},
     "output_type": "execute_result"
    }
   ],
   "source": [
    "cfd.N()#Return the total number of sample outcomes that have been\n",
    "#recorded by this ``ConditionalFreqDist``."
   ]
  },
  {
   "cell_type": "code",
   "execution_count": 112,
   "metadata": {},
   "outputs": [
    {
     "name": "stdout",
     "output_type": "stream",
     "text": [
      "[('NN', \"''\", 'that'), ('NN', 'NNS', 'that'), ('AT', 'NN-TL', 'of'), ('NP', 'NP', 'to'), ('NN', 'IN', 'such'), ('NN', 'VBD', 'it'), ('VB', '``', 'to'), ('CC', 'VBN', 'to'), ('NN', 'VBD', 'on'), ('WDT', 'VB', 'to')]\n"
     ]
    }
   ],
   "source": [
    "print(ambi_contexts[:10])"
   ]
  },
  {
   "cell_type": "markdown",
   "metadata": {},
   "source": [
    "Thus, one out of twenty trigrams is ambiguous [EXAMPLES]. Given the current word and the previous two tags, in 5% of cases there is more than one tag that could be legitimately assigned to the current word according to the training data. Assuming we always pick the most likely tag in such ambiguous contexts, we can derive a lower bound on the performance of a trigram tagger."
   ]
  },
  {
   "cell_type": "markdown",
   "metadata": {},
   "source": [
    "Can also investigate performance of the tagger by studting its mistakes. A convenient way to look at tagging errors is the confusion matrix. It charts expected tags (the gold standard) against actual tags generated be a tagger:"
   ]
  },
  {
   "cell_type": "code",
   "execution_count": 114,
   "metadata": {},
   "outputs": [
    {
     "name": "stdout",
     "output_type": "stream",
     "text": [
      "           |                                                                                                                                                                                                                                                                                                                                                                                                                                                                                                                                                                                                                                                                                                                                                                                                                                                                                                                                                                                                                                  W                                         |\n",
      "           |                                                                                                                                                                                                                                                                                                                                                                                                                                                                                                                                                                                                                       N                                                                                                                                                                                                                                                                                                                                                                            V                             D                                         |\n",
      "           |                                                                                                                                                                                                                                                                                                                                                   F              F         F         F                                                                                                        J                                                                                         N                             N                                                                                                                                                                                        P    P         P                                                                                                                                                                    B                             T                                         |\n",
      "           |                                                                                                                                                                                                                                                                                                                                                   W              W         W         W                                                                                                        J                                                                                         N              N              S                                            N                                                                                                                       P    P              P    P    P    P    P    P    P                                                                                                                                                     N                        W    +                                         |\n",
      "           |                                                                                         A                                                                                              B    B              B    B                                                                                    D         D                        E         -              -         -         -    F         F    F         F    F                                                                     -         J    J         J         J                                  N    N              -              N    N    N    -              N    N    N                   P    N    N              N                                                 P    P         P              P    P         P    P    P         S    S    P    S    P    P    P                                                                                              V                   V         V    V         V    V    -         V    V         D    B    W              W              W      |\n",
      "           |                                                 -                                       B                   A    A         A    A         B              B                             E    E              E    E         C    C         C    C         C              D    D                        O         T                        X    F    A    F    F    I    F    J    F    N    W    F    W    W    F    W    W                                       I    I    I         J    J    T         J    J         J         J              M    M              N    N    N    N    T              S    N    N    T              P    P    P    N    N         S    P    P              R    N              O              P              P    P         P              P    P         S    S    P         S    S    S    S    S    S    S         Q                   R    R    R                        R         T         U         B    V    V         B         B    B         B    B    T         B    B         T    E    D              P              R      |\n",
      "           |                             *         ,         -         .         :    :              N                   P    P         T    T         E         B    E                        B    R    R         B    Z    Z         C    C         D    D         S              O    O         D         D    Z         +                        +    W    T    W    W    N    W    J    W    N    -    W    -    -    W    -    -                             H         N    N    N         J    J    L         R    R         S         T              D    D              $    $    N    N    L         N    $    S    S    L              $    $    +    P    P         $    S    S              $    R              D              N         P    $    $         L    P         O    O         +    +    S    P    +    +    S    +    S    S    S         L                   B    B    B                        P         O         H         +    B    B         D         G    G         N    N    L         Z    Z         +    Z    T              O              B      |\n",
      "           |                             -         -         -         -         -    -    A    A    -    A         A    -    -         -    -         -    B    E    D    B    B    B    B    E    -    -    B    E    -    -         -    -         -    -         -         D    -    -    D    O    D    O    -         B    D    D    D         B    -    -    -    -    -    -    -    -    -    N    -    P    P    -    V    W         H    H    H    H    V         -    -    -         -    -    -    J    -    -    J    -    J    -         M    -    -         N    -    -    -    -    -    N    N    -    -    -    -         N    -    -    B    -    -    N    -    -    -         N    -    -    N         -         P    -    P    P    -    -    P    -    P    P    -    -    P    B    H    +    P    B    B    +    H    +    -    -         -    Q         R    -    -    -    R    R              -         -         -         P    -    -    V    -    V    -    -    V    -    -    -    V    -    -    W    B    -    -    W    W    -    W    W    -      |\n",
      "           |         '                   H         H    -    H         H         H    T    B    B    T    B    A    P    H    T    A    H    T    B    H    E    D    Z    E    E    E    E    R    H    T    E    Z    H    T    C    H    T    C    H    T    C    H    D    O    H    T    O    D    O    Z    H    D    E    T    T    T    E    E    A    T    C    I    T    J    T    N    T    N    N    P    P    V    B    D    H    V    V    V    V    Z    I    H    N    T    J    H    T    H    J    H    T    J    T    J    H    M    D    H    T    N    N    H    T    H    T    H    N    S    T    H    T    H    N    P    H    T    E    H    T    P    H    H    T    N    R    T    T    R    O    T    P    N    H    P    $    H    T    P    H    L    P    H    T    P    E    V    M    S    E    E    H    V    M    H    T    Q    H    L    R    B    H    N    T    B    B    R    R    H    T    H    U    H    V    P    H    T    B    H    B    H    T    B    H    T    H    B    H    T    D    E    H    H    P    P    T    P    R    H    ` |\n",
      "           |    '    '    (    )    *    L    ,    L    -    L    .    L    :    L    L    L    N    L    X    P    $    L    L    T    L    L    E    L    D    Z    *    G    M    N    R    *    L    L    Z    *    L    L    C    L    L    D    L    L    S    L    O    *    L    L    D    *    Z    *    L    T    Z    I    S    X    X    Z    T    L    C    N    L    J    L    N    L    S    P    L    O    B    Z    T    V    D    G    N    Z    *    N    L    C    L    J    L    L    L    R    L    L    S    L    T    L    D    *    L    L    N    $    L    L    L    L    L    S    $    L    L    L    L    P    $    L    L    Z    L    L    S    L    L    L    R    $    L    L    S    D    L    N    $    L    $    $    L    L    L    L    S    O    L    L    S    Z    Z    D    S    M    R    V    D    D    L    L    L    L    P    B    $    L    C    L    R    T    N    P    L    O    L    H    L    B    O    L    L    D    L    G    L    L    N    L    L    L    Z    L    L    T    Z    L    L    $    O    L    S    B    L    ` |\n",
      "-----------+----------------------------------------------------------------------------------------------------------------------------------------------------------------------------------------------------------------------------------------------------------------------------------------------------------------------------------------------------------------------------------------------------------------------------------------------------------------------------------------------------------------------------------------------------------------------------------------------------------------------------------------------------------------------------------------------------------------------------------------------------------------------------------------------------------------------------------------------------------------------------------------------------------------------------------------------------------------------------------------------------------------------------------------------------------------------------+\n",
      "         ' |  <19>   .    .    .    .    .    .    .    .    .    .    .    .    .    .    .    .    .    .    .    .    .    .    .    .    .    .    .    .    .    .    .    .    .    .    .    .    .    .    .    .    .    .    .    .    .    .    .    .    .    .    .    .    .    .    .    .    .    .    .    .    .    .    .    .    .    .    .    .    .    .    .    .    .    .    .    .    .    .    .    .    .    .    .    .    .    .    .    .    .    .    .    .    .    .    .    .    .    .    .    .    .    .    .    .    .    .    .    .    .    .    .    .    .    .    .    .    .    .    .    .    .    .    .    .    .    .    .    .    .    .    .    .    .    .    .    .    .    .    .    .    .    .    .    .    .    .    .    .    .    .    .    .    .    .    .    .    .    .    .    .    .    .    .    .    .    .    .    .    .    .    .    .    .    .    .    .    .    .    .    .    .    .    .    .    .    .    .    .    .    .    .    .    .    .    .    .    .    .    .    .    .    .    .    .    .    . |\n",
      "        '' |    . <382>   .    .    .    .    .    .    .    .    .    .    .    .    .    .    .    .    .    .    .    .    .    .    .    .    .    .    .    .    .    .    .    .    .    .    .    .    .    .    .    .    .    .    .    .    .    .    .    .    .    .    .    .    .    .    .    .    .    .    .    .    .    .    .    .    .    .    .    .    .    .    .    .    .    .    .    .    .    .    .    .    .    .    .    .    .    .    .    .    .    .    .    .    .    .    .    .    .    .    .    .    .    .    .    .    .    .    .    .    .    .    .    .    .    .    .    .    .    .    .    .    .    .    .    .    .    .    .    .    .    .    .    .    .    .    .    .    .    .    .    .    .    .    .    .    .    .    .    .    .    .    .    .    .    .    .    .    .    .    .    .    .    .    .    .    .    .    .    .    .    .    .    .    .    .    .    .    .    .    .    .    .    .    .    .    .    .    .    .    .    .    .    .    .    .    .    .    .    .    .    .    .    .    .    .    . |\n",
      "         ( |    .    .  <95>   .    .    .    .    .    .    .    .    .    .    .    .    .    .    .    .    .    .    .    .    .    .    .    .    .    .    .    .    .    .    .    .    .    .    .    .    .    .    .    .    .    .    .    .    .    .    .    .    .    .    .    .    .    .    .    .    .    .    .    .    .    .    .    .    .    .    .    .    .    .    .    .    .    .    .    .    .    .    .    .    .    .    .    .    .    .    .    .    .    .    .    .    .    .    .    .    .    .    .    .    .    .    .    .    .    .    .    .    .    .    .    .    .    .    .    .    .    .    .    .    .    .    .    .    .    .    .    .    .    .    .    .    .    .    .    .    .    .    .    .    .    .    .    .    .    .    .    .    .    .    .    .    .    .    .    .    .    .    .    .    .    .    .    .    .    .    .    .    .    .    .    .    .    .    .    .    .    .    .    .    .    .    .    .    .    .    .    .    .    .    .    .    .    .    .    .    .    .    .    .    .    .    .    . |\n",
      "         ) |    .    .    .  <95>   .    .    .    .    .    .    .    .    .    .    .    .    .    .    .    .    .    .    .    .    .    .    .    .    .    .    .    .    .    .    .    .    .    .    .    .    .    .    .    .    .    .    .    .    .    .    .    .    .    .    .    .    .    .    .    .    .    .    .    .    .    .    .    .    .    .    .    .    .    .    .    .    .    .    .    .    .    .    .    .    .    .    .    .    .    .    .    .    .    .    .    .    .    .    .    .    .    .    .    .    .    .    .    .    .    .    .    .    .    .    .    .    .    .    .    .    .    .    .    .    .    .    .    .    .    .    .    .    .    .    .    .    .    .    .    .    .    .    .    .    .    .    .    .    .    .    .    .    .    .    .    .    .    .    .    .    .    .    .    .    .    .    .    .    .    .    .    .    .    .    .    .    .    .    .    .    .    .    .    .    .    .    .    .    .    .    .    .    .    .    .    .    .    .    .    .    .    .    .    .    .    .    . |\n",
      "         * |    .    .    .    . <304>   .    .    .    .    .    .    .    .    .    .    .    .    .    .    .    .    .    .    .    .    .    .    .    .    .    .    .    .    .    .    .    .    .    .    .    .    .    .    .    .    .    .    .    .    .    .    .    .    .    .    .    .    .    .    .    .    .    .    .    .    .    .    .    .    .    .    .    .    .    .    .    .    .    .    .    .    .    .    .    .    .    .    .    .    .    .    .    .    .    .    .    .    .    .    .    .    .    .    .    .    .    .    .    .    .    .    .    .    .    .    .    .    .    .    .    .    .    .    .    .    .    .    .    .    .    .    .    .    .    .    .    .    .    .    .    .    .    .    .    .    .    .    .    .    .    .    .    .    .    .    .    .    .    .    .    .    .    .    .    .    .    .    .    .    .    .    .    .    .    .    .    .    .    .    .    .    .    .    .    .    .    .    .    .    .    .    .    .    .    .    .    .    .    .    .    .    .    .    .    .    .    . |\n",
      "      *-HL |    .    .    .    .    3   <.>   .    .    .    .    .    .    .    .    .    .    .    .    .    .    .    .    .    .    .    .    .    .    .    .    .    .    .    .    .    .    .    .    .    .    .    .    .    .    .    .    .    .    .    .    .    .    .    .    .    .    .    .    .    .    .    .    .    .    .    .    .    .    .    .    .    .    .    .    .    .    .    .    .    .    .    .    .    .    .    .    .    .    .    .    .    .    .    .    .    .    .    .    .    .    .    .    .    .    .    .    .    .    .    .    .    .    .    .    .    .    .    .    .    .    .    .    .    .    .    .    .    .    .    .    .    .    .    .    .    .    .    .    .    .    .    .    .    .    .    .    .    .    .    .    .    .    .    .    .    .    .    .    .    .    .    .    .    .    .    .    .    .    .    .    .    .    .    .    .    .    .    .    .    .    .    .    .    .    .    .    .    .    .    .    .    .    .    .    .    .    .    .    .    .    .    .    .    .    .    .    . |\n",
      "         , |    .    .    .    .    .    .<2735>   6    .    .    .    .    .    .    .    .    .    .    .    .    .    .    .    .    .    .    .    .    .    .    .    .    .    .    .    .    .    .    .    .    .    .    .    .    .    .    .    .    .    .    .    .    .    .    .    .    .    .    .    .    .    .    .    .    .    .    .    .    .    .    .    .    .    .    .    .    .    .    .    .    .    .    .    .    .    .    .    .    .    .    .    .    .    .    .    .    .    .    .    .    .    .    .    .    .    .    .    .    .    .    .    .    .    .    .    .    .    .    .    .    .    .    .    .    .    .    .    .    .    .    .    .    .    .    .    .    .    .    .    .    .    .    .    .    .    .    .    .    .    .    .    .    .    .    .    .    .    .    .    .    .    .    .    .    .    .    .    .    .    .    .    .    .    .    .    .    .    .    .    .    .    .    .    .    .    .    .    .    .    .    .    .    .    .    .    .    .    .    .    .    .    .    .    .    .    .    . |\n",
      "      ,-HL |    .    .    .    .    .    .   22   <3>   .    .    .    .    .    .    .    .    .    .    .    .    .    .    .    .    .    .    .    .    .    .    .    .    .    .    .    .    .    .    .    .    .    .    .    .    .    .    .    .    .    .    .    .    .    .    .    .    .    .    .    .    .    .    .    .    .    .    .    .    .    .    .    .    .    .    .    .    .    .    .    .    .    .    .    .    .    .    .    .    .    .    .    .    .    .    .    .    .    .    .    .    .    .    .    .    .    .    .    .    .    .    .    .    .    .    .    .    .    .    .    .    .    .    .    .    .    .    .    .    .    .    .    .    .    .    .    .    .    .    .    .    .    .    .    .    .    .    .    .    .    .    .    .    .    .    .    .    .    .    .    .    .    .    .    .    .    .    .    .    .    .    .    .    .    .    .    .    .    .    .    .    .    .    .    .    .    .    .    .    .    .    .    .    .    .    .    .    .    .    .    .    .    .    .    .    .    .    . |\n",
      "        -- |    .    .    .    .    .    .    .    . <191>   .    .    .    .    .    .    .    .    .    .    .    .    .    .    .    .    .    .    .    .    .    .    .    .    .    .    .    .    .    .    .    .    .    .    .    .    .    .    .    .    .    .    .    .    .    .    .    .    .    .    .    .    .    .    .    .    .    .    .    .    .    .    .    .    .    .    .    .    .    .    .    .    .    .    .    .    .    .    .    .    .    .    .    .    .    .    .    .    .    .    .    .    .    .    .    .    .    .    .    .    .    .    .    .    .    .    .    .    .    .    .    .    .    .    .    .    .    .    .    .    .    .    .    .    .    .    .    .    .    .    .    .    .    .    .    .    .    .    .    .    .    .    .    .    .    .    .    .    .    .    .    .    .    .    .    .    .    .    .    .    .    .    .    .    .    .    .    .    .    .    .    .    .    .    .    .    .    .    .    .    .    .    .    .    .    .    .    .    .    .    .    .    .    .    .    .    .    . |\n",
      "     ---HL |    .    .    .    .    .    .    .    .    1   <.>   .    .    .    .    .    .    .    .    .    .    .    .    .    .    .    .    .    .    .    .    .    .    .    .    .    .    .    .    .    .    .    .    .    .    .    .    .    .    .    .    .    .    .    .    .    .    .    .    .    .    .    .    .    .    .    .    .    .    .    .    .    .    .    .    .    .    .    .    .    .    .    .    .    .    .    .    .    .    .    .    .    .    .    .    .    .    .    .    .    .    .    .    .    .    .    .    .    .    .    .    .    .    .    .    .    .    .    .    .    .    .    .    .    .    .    .    .    .    .    .    .    .    .    .    .    .    .    .    .    .    .    .    .    .    .    .    .    .    .    .    .    .    .    .    .    .    .    .    .    .    .    .    .    .    .    .    .    .    .    .    .    .    .    .    .    .    .    .    .    .    .    .    .    .    .    .    .    .    .    .    .    .    .    .    .    .    .    .    .    .    .    .    .    .    .    .    . |\n",
      "         . |    .    .    .    .    .    .    .    .    .    .<2976>   4    8    .    .    .    .    .    .    .    .    .    .    .    .    .    .    .    .    .    .    .    .    .    .    .    .    .    .    .    .    .    .    .    .    .    .    .    .    .    .    .    .    .    .    .    .    .    .    .    .    .    .    .    .    .    .    .    .    .    .    .    .    .    .    .    .    .    .    .    .    .    .    .    .    .    .    .    .    .    .    .    .    .    .    .    .    .    .    .    .    .    .    .    .    .    .    .    .    .    .    .    .    .    .    .    .    .    .    .    .    .    .    .    .    .    .    .    .    .    .    .    .    .    .    .    .    .    .    .    .    .    .    .    .    .    .    .    .    .    .    .    .    .    .    .    .    .    .    .    .    .    .    .    .    .    .    .    .    .    .    .    .    .    .    .    .    .    .    .    .    .    .    .    .    .    .    .    .    .    .    .    .    .    .    .    .    .    .    .    .    .    .    .    .    .    . |\n",
      "      .-HL |    .    .    .    .    .    .    .    .    .    .   20   <1>   .    .    .    .    .    .    .    .    .    .    .    .    .    .    .    .    .    .    .    .    .    .    .    .    .    .    .    .    .    .    .    .    .    .    .    .    .    .    .    .    .    .    .    .    .    .    .    .    .    .    .    .    .    .    .    .    .    .    .    .    .    .    .    .    .    .    .    .    .    .    .    .    .    .    .    .    .    .    .    .    .    .    .    .    .    .    .    .    .    .    .    .    .    .    .    .    .    .    .    .    .    .    .    .    .    .    .    .    .    .    .    .    .    .    .    .    .    .    .    .    .    .    .    .    .    .    .    .    .    .    .    .    .    .    .    .    .    .    .    .    .    .    .    .    .    .    .    .    .    .    .    .    .    .    .    .    .    .    .    .    .    .    .    .    .    .    .    .    .    .    .    .    .    .    .    .    .    .    .    .    .    .    .    .    .    .    .    .    .    .    .    .    .    .    . |\n",
      "         : |    .    .    .    .    .    .    .    .    .    .    .    . <108>   .    .    .    .    .    .    .    .    .    .    .    .    .    .    .    .    .    .    .    .    .    .    .    .    .    .    .    .    .    .    .    .    .    .    .    .    .    .    .    .    .    .    .    .    .    .    .    .    .    .    .    .    .    .    .    .    .    .    .    .    .    .    .    .    .    .    .    .    .    .    .    .    .    .    .    .    .    .    .    .    .    .    .    .    .    .    .    .    .    .    .    .    .    .    .    .    .    .    .    .    .    .    .    .    .    .    .    .    .    .    .    .    .    .    .    .    .    .    .    .    .    .    .    .    .    .    .    .    .    .    .    .    .    .    .    .    .    .    .    .    .    .    .    .    .    .    .    .    .    .    .    .    .    .    .    .    .    .    .    .    .    .    .    .    .    .    .    .    .    .    .    .    .    .    .    .    .    .    .    .    .    .    .    .    .    .    .    .    .    .    .    .    .    . |\n",
      "      :-HL |    .    .    .    .    .    .    .    .    .    .    .    .   36   <.>   .    .    .    .    .    .    .    .    .    .    .    .    .    .    .    .    .    .    .    .    .    .    .    .    .    .    .    .    .    .    .    .    .    .    .    .    .    .    .    .    .    .    .    .    .    .    .    .    .    .    .    .    .    .    .    .    .    .    .    .    .    .    .    .    .    .    .    .    .    .    .    .    .    .    .    .    .    .    .    .    .    .    .    .    .    .    .    .    .    .    .    .    .    .    .    .    .    .    .    .    .    .    .    .    .    .    .    .    .    .    .    .    .    .    .    .    .    .    .    .    .    .    .    .    .    .    .    .    .    .    .    .    .    .    .    .    .    .    .    .    .    .    .    .    .    .    .    .    .    .    .    .    .    .    .    .    .    .    .    .    .    .    .    .    .    .    .    .    .    .    .    .    .    .    .    .    .    .    .    .    .    .    .    .    .    .    .    .    .    .    .    .    . |\n",
      "      :-TL |    .    .    .    .    .    .    .    .    .    .    .    .    1    .   <.>   .    .    .    .    .    .    .    .    .    .    .    .    .    .    .    .    .    .    .    .    .    .    .    .    .    .    .    .    .    .    .    .    .    .    .    .    .    .    .    .    .    .    .    .    .    .    .    .    .    .    .    .    .    .    .    .    .    .    .    .    .    .    .    .    .    .    .    .    .    .    .    .    .    .    .    .    .    .    .    .    .    .    .    .    .    .    .    .    .    .    .    .    .    .    .    .    .    .    .    .    .    .    .    .    .    .    .    .    .    .    .    .    .    .    .    .    .    .    .    .    .    .    .    .    .    .    .    .    .    .    .    .    .    .    .    .    .    .    .    .    .    .    .    .    .    .    .    .    .    .    .    .    .    .    .    .    .    .    .    .    .    .    .    .    .    .    .    .    .    .    .    .    .    .    .    .    .    .    .    .    .    .    .    .    .    .    .    .    .    .    .    . |\n",
      "       ABL |    .    .    .    .    .    .    .    .    .    .    .    .    .    .    .   <2>   .    .    .    .    .    .    .    .    .    .    .    .    .    .    .    .    .    .    .    .    .    .    .    .    .    .    .    .    .    .    .    .    .    .    .    .    .    .    .    .    .    .    .    .    .    .    .    .    .    .    .    .    .    .    .    .    .    .    .    .    .    .    .    .    .    .    .    .    .    .    .    .    .    .    .    .   12    .    .    .    .    .    .    .    .    .    .    .    .    .    .    .    .    .    .    .    .    .    .    .    .    .    .    .    .    .    .    .    .    .    .    .    .    .    .    .    .    .    .    .    .    .    .    .    .    .    .    .    .    .    .    .    .    .    .    .    .    .    .    .    .    .    .    .    .    .    .    .    .    .    1    .    .    .    .    .    .    .    .    .    .    .    .    .    .    .    .    .    .    .    .    .    .    .    .    .    .    .    .    .    .    .    .    .    .    .    .    .    .    .    . |\n",
      "       ABN |    .    .    .    .    .    .    .    .    .    .    .    .    .    .    .    . <150>   .    .    .    .    .    .    .    .    .    .    .    .    .    .    .    .    .    .    .    .    .    .    .    .    .    .    .    .    .    .    .    .    .    .    .    .    .    .    .    .    .    .    .    .    .    .    .    .    .    .    .    .    .    .    .    .    .    .    .    .    .    .    .    .    .    .    .    .    .    .    .    .    .    .    .    .    .    .    .    .    .    .    .    .    .    .    .    .    .    .    2    .    .    .    .    .    .    .    .    .    .    .    .    .    .    .    .    .    .    .    .    .    .    .    .    .    .    .    .    .    .    .    .    .    .    .    .    .    .    .    .    .    .    .    .    .    .    .    .    .    .    .    .    .    .    .    1    .    .    .    .    .    .    .    .    .    .    .    .    .    .    .    .    .    .    .    .    .    .    .    .    .    .    .    .    .    .    .    .    .    .    .    .    .    .    .    .    .    .    . |\n",
      "    ABN-TL |    .    .    .    .    .    .    .    .    .    .    .    .    .    .    .    .    2   <.>   .    .    .    .    .    .    .    .    .    .    .    .    .    .    .    .    .    .    .    .    .    .    .    .    .    .    .    .    .    .    .    .    .    .    .    .    .    .    .    .    .    .    .    .    .    .    .    .    .    .    .    .    .    .    .    .    .    .    .    .    .    .    .    .    .    .    .    .    .    .    .    .    .    .    .    .    .    .    .    .    .    .    .    .    .    .    .    .    .    .    .    .    .    .    .    .    .    .    .    .    .    .    .    .    .    .    .    .    .    .    .    .    .    .    .    .    .    .    .    .    .    .    .    .    .    .    .    .    .    .    .    .    .    .    .    .    .    .    .    .    .    .    .    .    .    .    .    .    .    .    .    .    .    .    .    .    .    .    .    .    .    .    .    .    .    .    .    .    .    .    .    .    .    .    .    .    .    .    .    .    .    .    .    .    .    .    .    .    . |\n",
      "       ABX |    .    .    .    .    .    .    .    .    .    .    .    .    .    .    .    .    .    .  <30>   .    .    .    .    .    .    .    .    .    .    .    .    .    .    .    .    .    .    .    .    .    .    .    .    .    .    .    .    .    .    .    .    .    .    .    .    .    .    .    .    .    .    .    .    .    .    .    .    .    .    .    .    .    .    .    .    .    .    .    .    .    .    .    .    .    .    .    .    .    .    .    .    .    .    .    .    .    .    .    .    .    .    .    .    .    .    .    .    .    .    .    .    .    .    .    .    .    .    .    .    .    .    .    .    .    .    .    .    .    .    .    .    .    .    .    .    .    .    .    .    .    .    .    .    .    .    .    .    .    .    .    .    .    .    .    .    .    .    .    .    .    .    .    .    .    .    .    .    .    .    .    .    .    .    .    .    .    .    .    .    .    .    .    .    .    .    .    .    .    .    .    .    .    .    .    .    .    .    .    .    .    .    .    .    .    .    .    . |\n",
      "        AP |    .    .    .    .    .    .    .    .    .    .    .    .    .    .    .    .    .    .    . <533>   .    .    .    .    .    .    .    .    .    .    .    .    .    .    .    .    .    .    .    .    .    .    .    .    .    .    .    .    .    .    .    .    .    .    .    .    .    .    .    .    .    .    .    .    .    .    .    .    .    .    .    .    .    .    .    .    .    .    .    .    .    .    .    .    .    .    .    .    2    .    .    .    1    .    .    .    1    .    .    .    .    .    .    .    .    .    .   18    .    .    .    .    .    .    .    .    .    .    .    .    .    .    .    .    .    .    .    .    .    .    .    .    .    .    .    .    .    .    .    .    .    .    .    .    .    .    .    .    .    .    .    .    .    .    .    .    .    .    .    .    .    .    .   39    .    1    4    .    .    .    .    4    .    .    .    .    .    .    .    .    .    .    .    .    .    .    .    .    .    .    .    .    .    .    .    .    .    .    .    .    .    .    .    .    .    .    . |\n",
      "       AP$ |    .    .    .    .    .    .    .    .    .    .    .    .    .    .    .    .    .    .    .    .   <1>   .    .    .    .    .    .    .    .    .    .    .    .    .    .    .    .    .    .    .    .    .    .    .    .    .    .    .    .    .    .    .    .    .    .    .    .    .    .    .    .    .    .    .    .    .    .    .    .    .    .    .    .    .    .    .    .    .    .    .    .    .    .    .    .    .    .    .    .    .    .    .    .    .    .    .    .    .    .    .    .    .    .    .    .    .    .    .    .    .    .    .    .    .    .    .    .    .    .    .    .    .    .    .    .    .    .    .    .    .    .    .    .    .    .    .    .    .    .    .    .    .    .    .    .    .    .    .    .    .    .    .    .    .    .    .    .    .    .    .    .    .    .    .    .    .    .    .    .    .    .    .    .    .    .    .    .    .    .    .    .    .    .    .    .    .    .    .    .    .    .    .    .    .    .    .    .    .    .    .    .    .    .    .    .    .    . |\n",
      "     AP-HL |    .    .    .    .    .    .    .    .    .    .    .    .    .    .    .    .    .    .    .    4    .   <.>   .    .    .    .    .    .    .    .    .    .    .    .    .    .    .    .    .    .    .    .    .    .    .    .    .    .    .    .    .    .    .    .    .    .    .    .    .    .    .    .    .    .    .    .    .    .    .    .    .    .    .    .    .    .    .    .    .    .    .    .    .    .    .    .    .    .    .    .    .    .    .    .    .    .    .    .    .    .    .    .    .    .    .    .    .    .    .    .    .    .    .    .    .    .    .    .    .    .    .    .    .    .    .    .    .    .    .    .    .    .    .    .    .    .    .    .    .    .    .    .    .    .    .    .    .    .    .    .    .    .    .    .    .    .    .    .    .    .    .    .    .    2    .    .    .    .    .    .    .    .    .    .    .    .    .    .    .    .    .    .    .    .    .    .    .    .    .    .    .    .    .    .    .    .    .    .    .    .    .    .    .    .    .    .    . |\n",
      "     AP-TL |    .    .    .    .    .    .    .    .    .    .    .    .    .    .    .    .    .    .    .    1    .    .   <.>   .    .    .    .    .    .    .    .    .    .    .    .    .    .    .    .    .    .    .    .    .    .    .    .    .    .    .    .    .    .    .    .    .    .    .    .    .    .    .    .    .    .    .    .    .    .    .    .    .    .    .    .    .    .    .    .    .    .    .    .    .    .    .    .    .    .    .    .    .    .    .    .    .    .    .    .    .    .    .    .    .    .    .    .    .    .    .    .    .    .    .    .    .    .    .    .    .    .    .    .    .    .    .    .    .    .    .    .    .    .    .    .    .    .    .    .    .    .    .    .    .    .    .    .    .    .    .    .    .    .    .    .    .    .    .    .    .    .    .    .    .    .    .    .    .    .    .    .    .    .    .    .    .    .    .    .    .    .    .    .    .    .    .    .    .    .    .    .    .    .    .    .    .    .    .    .    .    .    .    .    .    .    .    . |\n",
      "        AT |    .    .    .    .    .    .    .    .    .    .    .    .    .    .    .    .    .    .    .    .    .    .    .<5299>   3    4    .    .    .    .    .    .    .    .    .    .    .    .    .    .    .    .    .    .    .    .    .    .    .    .    .    .    .    .    .    .    .    .    .    .    .    .    .    .    .    .    .    .    .    .    .    .    .    .    .    .    .    .    .    .    .    .    .    .    .    .    .    .    .    .    .    .    .    .    .    .    .    .    .    .    .    .    .    .    .    .    .    .    .    .    .    .    .    .    .    .    .    .    .    .    .    .    .    .    .    .    .    .    .    .    .    .    .    .    .    .    .    .    .    .    .    .    .    .    .    .    .    .    .    .    .    .    .    .    .    .    .    .    .    .    .    .    .    .    .    .    5    .    .    .    .    .    .    .    .    .    .    .    .    .    .    .    .    .    .    .    .    .    .    .    .    .    .    .    .    .    .    .    .    .    .    .    .    .    .    .    . |\n",
      "     AT-HL |    .    .    .    .    .    .    .    .    .    .    .    .    .    .    .    .    .    .    .    .    .    .    .   93   <.>   2    .    .    .    .    .    .    .    .    .    .    .    .    .    .    .    .    .    .    .    .    .    .    .    .    .    .    .    .    .    .    .    .    .    .    .    .    .    .    .    .    .    .    .    .    .    .    .    .    .    .    .    .    .    .    .    .    .    .    .    .    .    .    .    .    .    .    .    .    .    .    .    .    .    .    .    .    .    .    .    .    .    .    .    .    .    .    .    .    .    .    .    .    .    .    .    .    .    .    .    .    .    .    .    .    .    .    .    .    .    .    .    .    .    .    .    .    .    .    .    .    .    .    .    .    .    .    .    .    .    .    .    .    .    .    .    .    .    .    .    .    .    .    .    .    .    .    .    .    .    .    .    .    .    .    .    .    .    .    .    .    .    .    .    .    .    .    .    .    .    .    .    .    .    .    .    .    .    .    .    .    . |\n",
      "     AT-TL |    .    .    .    .    .    .    .    .    .    .    .    .    .    .    .    .    .    .    .    .    .    .    .   30    .  <13>   .    .    .    .    .    .    .    .    .    .    .    .    .    .    .    .    .    .    .    .    .    .    .    .    .    .    .    .    .    .    .    .    .    .    .    .    .    .    .    .    .    .    .    .    .    .    .    .    .    .    .    .    .    .    .    .    .    .    .    .    .    .    .    .    .    .    .    .    .    .    .    .    .    .    .    .    .    .    .    .    .    .    .    .    .    .    .    .    .    .    .    .    .    .    .    .    .    .    .    .    .    .    .    .    .    .    .    .    .    .    .    .    .    .    .    .    .    .    .    .    .    .    .    .    .    .    .    .    .    .    .    .    .    .    .    .    .    .    .    .    .    .    .    .    .    .    .    .    .    .    .    .    .    .    .    .    .    .    .    .    .    .    .    .    .    .    .    .    .    .    .    .    .    .    .    .    .    .    .    .    . |\n",
      "        BE |    .    .    .    .    .    .    .    .    .    .    .    .    .    .    .    .    .    .    .    .    .    .    .    .    .    . <420>   .    .    .    .    .    .    .    .    .    .    .    .    .    .    .    .    .    .    .    .    .    .    .    .    .    .    .    .    .    .    .    .    .    .    .    .    .    .    .    .    .    .    .    .    .    .    .    .    .    .    .    .    .    .    .    .    .    .    .    .    .    .    .    .    .    .    .    .    .    .    .    .    .    .    .    .    .    .    .    .    1    .    .    .    .    .    .    .    .    .    .    .    .    .    .    .    .    .    .    .    .    .    .    .    .    .    .    .    .    .    .    .    .    .    .    .    .    .    .    .    .    .    .    .    .    .    .    .    .    .    .    .    .    .    .    .    .    .    .    .    .    .    .    .    .    .    .    .    .    .    .    .    .    .    .    .    .    .    .    .    .    .    .    .    .    .    .    .    .    .    .    .    .    .    .    .    .    .    .    . |\n",
      "     BE-HL |    .    .    .    .    .    .    .    .    .    .    .    .    .    .    .    .    .    .    .    .    .    .    .    .    .    .    1   <.>   .    .    .    .    .    .    .    .    .    .    .    .    .    .    .    .    .    .    .    .    .    .    .    .    .    .    .    .    .    .    .    .    .    .    .    .    .    .    .    .    .    .    .    .    .    .    .    .    .    .    .    .    .    .    .    .    .    .    .    .    .    .    .    .    .    .    .    .    .    .    .    .    .    .    .    .    .    .    .    .    .    .    .    .    .    .    .    .    .    .    .    .    .    .    .    .    .    .    .    .    .    .    .    .    .    .    .    .    .    .    .    .    .    .    .    .    .    .    .    .    .    .    .    .    .    .    .    .    .    .    .    .    .    .    .    .    .    .    .    .    .    .    .    .    .    .    .    .    .    .    .    .    .    .    .    .    .    .    .    .    .    .    .    .    .    .    .    .    .    .    .    .    .    .    .    .    .    .    . |\n",
      "       BED |    .    .    .    .    .    .    .    .    .    .    .    .    .    .    .    .    .    .    .    .    .    .    .    .    .    .    .    . <109>   .    .    .    .    .    .    .    .    .    .    .    .    .    .    .    .    .    .    .    .    .    .    .    .    .    .    .    .    .    .    .    .    .    .    .    .    .    .    .    .    .    .    .    .    .    .    .    .    .    .    .    .    .    .    .    .    .    .    .    .    .    .    .    .    .    .    .    .    .    .    .    .    .    .    .    .    .    .    .    .    .    .    .    .    .    .    .    .    .    .    .    .    .    .    .    .    .    .    .    .    .    .    .    .    .    .    .    .    .    .    .    .    .    .    .    .    .    .    .    .    .    .    .    .    .    .    .    .    .    .    .    .    .    .    .    .    .    .    .    .    .    .    .    .    .    .    .    .    .    .    .    .    .    .    .    .    .    .    .    .    .    .    .    .    .    .    .    .    .    .    .    .    .    .    .    .    .    . |\n",
      "      BEDZ |    .    .    .    .    .    .    .    .    .    .    .    .    .    .    .    .    .    .    .    .    .    .    .    .    .    .    .    .    . <308>   .    .    .    .    .    .    .    .    .    .    .    .    .    .    .    .    .    .    .    .    .    .    .    .    .    .    .    .    .    .    .    .    .    .    .    .    .    .    .    .    .    .    .    .    .    .    .    .    .    .    .    .    .    .    .    .    .    .    .    .    .    .    .    .    .    .    .    .    .    .    .    .    .    .    .    .    .    2    .    .    .    .    .    .    .    .    .    .    .    .    .    .    .    .    .    .    .    .    .    .    .    .    .    .    .    .    .    .    .    .    .    .    .    .    .    .    .    .    .    .    .    .    .    .    .    .    .    .    .    .    .    .    .    .    .    .    .    .    .    .    .    .    .    .    .    .    .    .    .    .    .    .    .    .    .    .    .    .    .    .    .    .    .    .    .    .    .    .    .    .    .    .    .    .    .    .    . |\n",
      "     BEDZ* |    .    .    .    .    .    .    .    .    .    .    .    .    .    .    .    .    .    .    .    .    .    .    .    .    .    .    .    .    .    .   <2>   .    .    .    .    .    .    .    .    .    .    .    .    .    .    .    .    .    .    .    .    .    .    .    .    .    .    .    .    .    .    .    .    .    .    .    .    .    .    .    .    .    .    .    .    .    .    .    .    .    .    .    .    .    .    .    .    .    .    .    .    .    .    .    .    .    .    .    .    .    .    .    .    .    .    .    .    .    .    .    .    .    .    .    .    .    .    .    .    .    .    .    .    .    .    .    .    .    .    .    .    .    .    .    .    .    .    .    .    .    .    .    .    .    .    .    .    .    .    .    .    .    .    .    .    .    .    .    .    .    .    .    .    .    .    .    .    .    .    .    .    .    .    .    .    .    .    .    .    .    .    .    .    .    .    .    .    .    .    .    .    .    .    .    .    .    .    .    .    .    .    .    .    .    .    .    . |\n",
      "       BEG |    .    .    .    .    .    .    .    .    .    .    .    .    .    .    .    .    .    .    .    .    .    .    .    .    .    .    .    .    .    .    .  <45>   .    .    .    .    .    .    .    .    .    .    .    .    .    .    .    .    .    .    .    .    .    .    .    .    .    .    .    .    .    .    .    .    .    .    .    .    .    .    .    .    .    .    .    .    .    .    .    .    .    .    .    .    .    .    .    .    .    .    .    .    .    .    .    .    .    .    .    .    .    .    .    .    .    .    .    .    .    .    .    .    .    .    .    .    .    .    .    .    .    .    .    .    .    .    .    .    .    .    .    .    .    .    .    .    .    .    .    .    .    .    .    .    .    .    .    .    .    .    .    .    .    .    .    .    .    .    .    .    .    .    .    .    .    .    .    .    .    .    .    .    .    .    .    .    .    .    .    .    .    .    .    .    .    .    .    .    .    .    .    .    .    .    .    .    .    .    .    .    .    .    .    .    .    .    . |\n",
      "       BEM |    .    .    .    .    .    .    .    .    .    .    .    .    .    .    .    .    .    .    .    .    .    .    .    .    .    .    .    .    .    .    .    .  <19>   .    .    .    .    .    .    .    .    .    .    .    .    .    .    .    .    .    .    .    .    .    .    .    .    .    .    .    .    .    .    .    .    .    .    .    .    .    .    .    .    .    .    .    .    .    .    .    .    .    .    .    .    .    .    .    .    .    .    .    .    .    .    .    .    .    .    .    .    .    .    .    .    .    .    .    .    .    .    .    .    .    .    .    .    .    .    .    .    .    .    .    .    .    .    .    .    .    .    .    .    .    .    .    .    .    .    .    .    .    .    .    .    .    .    .    .    .    .    .    .    .    .    .    .    .    .    .    .    .    .    .    .    .    .    .    .    .    .    .    .    .    .    .    .    .    .    .    .    .    .    .    .    .    .    .    .    .    .    .    .    .    .    .    .    .    .    .    .    .    .    .    .    .    . |\n",
      "       BEN |    .    .    .    .    .    .    .    .    .    .    .    .    .    .    .    .    .    .    .    .    .    .    .    .    .    .    .    .    .    .    .    .    . <151>   .    .    .    .    .    .    .    .    .    .    .    .    .    .    .    .    .    .    .    .    .    .    .    .    .    .    .    .    .    .    .    .    .    .    .    .    .    .    .    .    .    .    .    .    .    .    .    .    .    .    .    .    .    .    .    .    .    .    .    .    .    .    .    .    .    .    .    .    .    .    .    .    .    .    .    .    .    .    .    .    .    .    .    .    .    .    .    .    .    .    .    .    .    .    .    .    .    .    .    .    .    .    .    .    .    .    .    .    .    .    .    .    .    .    .    .    .    .    .    .    .    .    .    .    .    .    .    .    .    .    .    .    .    .    .    .    .    .    .    .    .    .    .    .    .    .    .    .    .    .    .    .    .    .    .    .    .    .    .    .    .    .    .    .    .    .    .    .    .    .    .    .    . |\n",
      "       BER |    .    .    .    .    .    .    .    .    .    .    .    .    .    .    .    .    .    .    .    .    .    .    .    .    .    .    .    .    .    .    .    .    .    . <292>   .    1    4    .    .    .    .    .    .    .    .    .    .    .    .    .    .    .    .    .    .    .    .    .    .    .    .    .    .    .    .    .    .    .    .    .    .    .    .    .    .    .    .    .    .    .    .    .    .    .    .    .    .    .    .    .    .    .    .    .    .    .    .    .    .    .    .    .    .    .    .    .    .    .    .    .    .    .    .    .    .    .    .    .    .    .    .    .    .    .    .    .    .    .    .    .    .    .    .    .    .    .    .    .    .    .    .    .    .    .    .    .    .    .    .    .    .    .    .    .    .    .    .    .    .    .    .    .    .    .    .    .    .    .    .    .    .    .    .    .    .    .    .    .    .    .    .    .    .    .    .    .    .    .    .    .    .    .    .    .    .    .    .    .    .    .    .    .    .    .    .    . |\n",
      "      BER* |    .    .    .    .    .    .    .    .    .    .    .    .    .    .    .    .    .    .    .    .    .    .    .    .    .    .    .    .    .    .    .    .    .    .    .   <3>   .    .    .    .    .    .    .    .    .    .    .    .    .    .    .    .    .    .    .    .    .    .    .    .    .    .    .    .    .    .    .    .    .    .    .    .    .    .    .    .    .    .    .    .    .    .    .    .    .    .    .    .    .    .    .    .    .    .    .    .    .    .    .    .    .    .    .    .    .    .    .    2    .    .    .    .    .    .    .    .    .    .    .    .    .    .    .    .    .    .    .    .    .    .    .    .    .    .    .    .    .    .    .    .    .    .    .    .    .    .    .    .    .    .    .    .    .    .    .    .    .    .    .    .    .    .    .    .    .    .    .    .    .    .    .    .    .    .    .    .    .    .    .    .    .    .    .    .    .    .    .    .    .    .    .    .    .    .    .    .    .    .    .    .    .    .    .    .    .    .    . |\n",
      "    BER-HL |    .    .    .    .    .    .    .    .    .    .    .    .    .    .    .    .    .    .    .    .    .    .    .    .    .    .    .    .    .    .    .    .    .    .    1    .   <.>   .    .    .    .    .    .    .    .    .    .    .    .    .    .    .    .    .    .    .    .    .    .    .    .    .    .    .    .    .    .    .    .    .    .    .    .    .    .    .    .    .    .    .    .    .    .    .    .    .    .    .    .    .    .    .    .    .    .    .    .    .    .    .    .    .    .    .    .    .    .    .    .    .    .    .    .    .    .    .    .    .    .    .    .    .    .    .    .    .    .    .    .    .    .    .    .    .    .    .    .    .    .    .    .    .    .    .    .    .    .    .    .    .    .    .    .    .    .    .    .    .    .    .    .    .    .    .    .    .    .    .    .    .    .    .    .    .    .    .    .    .    .    .    .    .    .    .    .    .    .    .    .    .    .    .    .    .    .    .    .    .    .    .    .    .    .    .    .    .    . |\n",
      "    BER-TL |    .    .    .    .    .    .    .    .    .    .    .    .    .    .    .    .    .    .    .    .    .    .    .    .    .    .    .    .    .    .    .    .    .    .    .    .    .   <.>   .    .    .    .    .    .    .    .    .    .    .    .    .    .    .    .    .    .    .    .    .    .    .    .    .    .    .    .    .    .    .    .    .    .    .    .    .    .    .    .    .    .    .    .    .    .    .    .    .    .    .    .    .    .    .    .    .    .    .    .    .    .    .    .    .    .    .    .    .    .    .    .    .    .    .    .    .    .    .    .    .    .    .    .    .    .    .    .    .    .    .    .    .    .    .    .    .    .    .    .    .    .    .    .    .    .    .    .    .    .    .    .    .    .    .    .    .    .    .    .    .    .    .    .    .    .    .    .    .    .    .    .    .    .    .    .    .    .    .    .    .    .    .    .    .    .    .    .    .    .    .    .    .    .    .    .    .    .    .    .    .    .    .    .    .    .    .    .    . |\n",
      "       BEZ |    .    .    .    .    .    .    .    .    .    .    .    .    .    .    .    .    .    .    .    .    .    .    .    .    .    .    .    .    .    .    .    .    .    .    .    .    .    . <749>   .    .    .    .    .    .    .    .    .    .    .    .    .    .    .    .    .    .    .    .    .    .    .    .    .    .    .    .    .    .    .    .    .    .    .    .    .    .    .    .    .    .    .    .    .    .    .    .    .    .    .    .    .    .    .    .    .    .    .    .    .    .    .    .    .    .    .    .    .    .    .    .    .    .    .    .    .    .    .    .    .    .    .    .    .    .    .    .    .    .    .    .    .    .    .    .    .    .    .    .    .    .    .    .    .    .    .    .    .    .    .    .    .    .    .    .    .    .    .    .    .    .    .    .    .    .    .    .    .    .    .    .    .    .    .    .    .    .    .    .    .    .    .    .    .    .    .    .    .    .    .    .    .    .    .    .    .    .    .    .    .    .    .    .    .    .    .    . |\n",
      "      BEZ* |    .    .    .    .    .    .    .    .    .    .    .    .    .    .    .    .    .    .    .    .    .    .    .    .    .    .    .    .    .    .    .    .    .    .    .    .    .    .    .   <7>   .    .    .    .    .    .    .    .    .    .    .    .    .    .    .    .    .    .    .    .    .    .    .    .    .    .    .    .    .    .    .    .    .    .    .    .    .    .    .    .    .    .    .    .    .    .    .    .    .    .    .    .    .    .    .    .    .    .    .    .    .    .    .    .    .    .    .    .    .    .    .    .    .    .    .    .    .    .    .    .    .    .    .    .    .    .    .    .    .    .    .    .    .    .    .    .    .    .    .    .    .    .    .    .    .    .    .    .    .    .    .    .    .    .    .    .    .    .    .    .    .    .    .    .    .    .    .    .    .    .    .    .    .    .    .    .    .    .    .    .    .    .    .    .    .    .    .    .    .    .    .    .    .    .    .    .    .    .    .    .    .    .    .    .    .    .    . |\n",
      "    BEZ-HL |    .    .    .    .    .    .    .    .    .    .    .    .    .    .    .    .    .    .    .    .    .    .    .    .    .    .    .    .    .    .    .    .    .    .    .    .    .    .    2    .   <.>   .    .    .    .    .    .    .    .    .    .    .    .    .    .    .    .    .    .    .    .    .    .    .    .    .    .    .    .    .    .    .    .    .    .    .    .    .    .    .    .    .    .    .    .    .    .    .    .    .    .    .    .    .    .    .    .    .    .    .    .    .    .    .    .    .    .    .    .    .    .    .    .    .    .    .    .    .    .    .    .    .    .    .    .    .    .    .    .    .    .    .    .    .    .    .    .    .    .    .    .    .    .    .    .    .    .    .    .    .    .    .    .    .    .    .    .    .    .    .    .    .    .    .    .    .    .    .    .    .    .    .    .    .    .    .    .    .    .    .    .    .    .    .    .    .    .    .    .    .    .    .    .    .    .    .    .    .    .    .    .    .    .    .    .    .    . |\n",
      "    BEZ-TL |    .    .    .    .    .    .    .    .    .    .    .    .    .    .    .    .    .    .    .    .    .    .    .    .    .    .    .    .    .    .    .    .    .    .    .    .    .    .    1    .    .   <.>   .    .    .    .    .    .    .    .    .    .    .    .    .    .    .    .    .    .    .    .    .    .    .    .    .    .    .    .    .    .    .    .    .    .    .    .    .    .    .    .    .    .    .    .    .    .    .    .    .    .    .    .    .    .    .    .    .    .    .    .    .    .    .    .    .    .    .    .    .    .    .    .    .    .    .    .    .    .    .    .    .    .    .    .    .    .    .    .    .    .    .    .    .    .    .    .    .    .    .    .    .    .    .    .    .    .    .    .    .    .    .    .    .    .    .    .    .    .    .    .    .    .    .    .    .    .    .    .    .    .    .    .    .    .    .    .    .    .    .    .    .    .    .    .    .    .    .    .    .    .    .    .    .    .    .    .    .    .    .    .    .    .    .    .    . |\n",
      "        CC |    .    .    .    .    .    .    .    .    .    .    .    .    .    .    .    .    .    .    .    .    .    .    .    .    .    .    .    .    .    .    .    .    .    .    .    .    .    .    .    .    .    .<1818>   1    3    .    .    .    .    .    .    .    .    .    .    .    .    .    .    .    .    .    .    3    .    .    .    .    .    .    .    .    .    .    .    .    .    .    .    .    .    .    .    .    .    .    .    .    2    .    .    .    .    .    .    .    .    .    .    .    .    .    .    .    .    .    .    1    .    .    .    .    .    .    .    .    .    .    .    .    .    .    .    .    .    .    .    .    .    .    .    .    .    .    .    .    .    .    .    .    .    .    .    .    .    .    .    .    .    .    .    .    .    .    .    .    .    .    .    .    .    .    .    .    .    .    7    .    .    .    .    .    .    .    .    .    .    .    .    .    .    .    .    .    .    .    .    .    .    .    .    .    .    .    .    .    .    .    .    .    .    .    .    .    .    .    . |\n",
      "     CC-HL |    .    .    .    .    .    .    .    .    .    .    .    .    .    .    .    .    .    .    .    .    .    .    .    .    .    .    .    .    .    .    .    .    .    .    .    .    .    .    .    .    .    .    7   <.>   .    .    .    .    .    .    .    .    .    .    .    .    .    .    .    .    .    .    .    .    .    .    .    .    .    .    .    .    .    .    .    .    .    .    .    .    .    .    .    .    .    .    .    .    .    .    .    .    .    .    .    .    .    .    .    .    .    .    .    .    .    .    .    .    .    .    .    .    .    .    .    .    .    .    .    .    .    .    .    .    .    .    .    .    .    .    .    .    .    .    .    .    .    .    .    .    .    .    .    .    .    .    .    .    .    .    .    .    .    .    .    .    .    .    .    .    .    .    .    .    .    .    .    .    .    .    .    .    .    .    .    .    .    .    .    .    .    .    .    .    .    .    .    .    .    .    .    .    .    .    .    .    .    .    .    .    .    .    .    .    .    .    . |\n",
      "     CC-TL |    .    .    .    .    .    .    .    .    .    .    .    .    .    .    .    .    .    .    .    .    .    .    .    .    .    .    .    .    .    .    .    .    .    .    .    .    .    .    .    .    .    .   17    .   <3>   .    .    .    .    .    .    .    .    .    .    .    .    .    .    .    .    .    .    .    .    .    .    .    .    .    .    .    .    .    .    .    .    .    .    .    .    .    .    .    .    .    .    .    .    .    .    .    .    .    .    .    .    .    .    .    .    .    .    .    .    .    .    .    .    .    .    .    .    .    .    .    .    .    .    .    .    .    .    .    .    .    .    .    .    .    .    .    .    .    .    .    .    .    .    .    .    .    .    .    .    .    .    .    .    .    .    .    .    .    .    .    .    .    .    .    .    .    .    .    .    .    .    .    .    .    .    .    .    .    .    .    .    .    .    .    .    .    .    .    .    .    .    .    .    .    .    .    .    .    .    .    .    .    .    .    .    .    .    .    .    .    . |\n",
      "        CD |    .    .    .    .    .    .    .    .    .    .    .    .    .    .    .    .    .    .    .    .    .    .    .    .    .    .    .    .    .    .    .    .    .    .    .    .    .    .    .    .    .    .    .    .    . <591>   1    1    .    .    .    .    .    .    .    .    .    .    .    .    .    .    .    .    .    .    .    .    .    .    .    .    .    .    .    .    .    .    .    .    .    .    .    .    .    .    .    .    .    .    .    .    .    .    .    .    .    .    .    .    .    .    .    .    .    .    .   72    .    .    .    .    .    .    .    .    .    .    .    .    .    .    .    .    .    .    .    .    .    .    .    .    .    .    .    .    .    .    7    .    .    .    .    .    .    .    .    .    .    .    .    .    .    .    .    .    .    .    .    .    .    .    .    .    .    .    .    .    .    .    .    .    .    .    .    .    .    .    .    .    .    .    .    .    .    .    .    .    .    .    .    .    .    .    .    .    .    .    .    .    .    .    .    .    .    .    . |\n",
      "     CD-HL |    .    .    .    .    .    .    .    .    .    .    .    .    .    .    .    .    .    .    .    .    .    .    .    .    .    .    .    .    .    .    .    .    .    .    .    .    .    .    .    .    .    .    .    .    .   17   <1>   .    .    .    .    .    .    .    .    .    .    .    .    .    .    .    .    .    .    .    .    .    .    .    .    .    .    .    .    .    .    .    .    .    .    .    .    .    .    .    .    .    .    .    .    .    .    .    .    .    .    .    .    .    .    .    .    .    .    .    .    .    .    .    .    .    .    .    .    .    .    .    .    .    .    .    .    .    .    .    .    .    .    .    .    .    .    .    .    .    .    .    .    .    .    .    .    .    .    .    .    .    .    .    .    .    .    .    .    .    .    .    .    .    .    .    .    .    .    .    .    .    .    .    .    .    .    .    .    .    .    .    .    .    .    .    .    .    .    .    .    .    .    .    .    .    .    .    .    .    .    .    .    .    .    .    .    .    .    .    . |\n",
      "     CD-TL |    .    .    .    .    .    .    .    .    .    .    .    .    .    .    .    .    .    .    .    .    .    .    .    .    .    .    .    .    .    .    .    .    .    .    .    .    .    .    .    .    .    .    .    .    .   17    .  <10>   .    .    .    .    .    .    .    .    .    .    .    .    .    .    .    .    .    .    .    .    .    .    .    .    .    .    .    .    .    .    .    .    .    .    .    .    .    .    .    .    .    .    .    .    .    .    .    .    .    .    .    .    .    .    .    .    .    .    .    5    .    .    .    .    .    .    .    .    .    .    .    .    .    .    .    .    .    .    .    .    .    .    .    .    .    .    .    .    .    .    .    .    .    .    .    .    .    .    .    .    .    .    .    .    .    .    .    .    .    .    .    .    .    .    .    .    .    .    .    .    .    .    .    .    .    .    .    .    .    .    .    .    .    .    .    .    .    .    .    .    .    .    .    .    .    .    .    .    .    .    .    .    .    .    .    .    .    .    . |\n",
      "        CS |    .    .    .    .    .    .    .    .    .    .    .    .    .    .    .    .    .    .    .    .    .    .    .    .    .    .    .    .    .    .    .    .    .    .    .    .    .    .    .    .    .    .    .    .    .    .    .    .<1037>   .    .    .    .    .    .    .    .    .    .    7    .    .    .    .    .    .    .    .    .    .    .    .    .    .    .    .    .    .    .    .    .    .    .    .    .    .    .    .  102    .    .    1    .    .    .    .    .    .    .    .    .    .    .    .    .    .    .    7    .    .    .    .    .    .    .    .    .    .    .    .    .    .    .    .    .    .    .    .    .    .    .    .    .    .    .    .    .    .    .    .    .    .    .    .    .    .    .    .    .    .    .    .    .    .    .    .    .    .    .    .    .    .    .    6    .    .   15    .    .    .    .    .    .    .    .    .    .    .    .    .    .    .    .    .    .    .    .    .    .    .    .    .    .    .    .    .    .    .    .    .    .    .    .   19    .    .    . |\n",
      "     CS-HL |    .    .    .    .    .    .    .    .    .    .    .    .    .    .    .    .    .    .    .    .    .    .    .    .    .    .    .    .    .    .    .    .    .    .    .    .    .    .    .    .    .    .    .    .    .    .    .    .    2   <.>   .    .    .    .    .    .    .    .    .    .    .    .    .    .    .    .    .    .    .    .    .    .    .    .    .    .    .    .    .    .    .    .    .    .    .    .    .    .    1    .    .    .    .    .    .    .    .    .    .    .    .    .    .    .    .    .    .    .    .    .    .    .    .    .    .    .    .    .    .    .    .    .    .    .    .    .    .    .    .    .    .    .    .    .    .    .    .    .    .    .    .    .    .    .    .    .    .    .    .    .    .    .    .    .    .    .    .    .    .    .    .    .    .    .    .    .    .    .    .    .    .    .    .    .    .    .    .    .    .    .    .    .    .    .    .    .    .    .    .    .    .    .    .    .    .    .    .    .    .    .    .    .    .    .    .    .    . |\n",
      "        DO |    .    .    .    .    .    .    .    .    .    .    .    .    .    .    .    .    .    .    .    .    .    .    .    .    .    .    .    .    .    .    .    .    .    .    .    .    .    .    .    .    .    .    .    .    .    .    .    .    .    . <109>   .    .    .    .    .    .    .    .    .    .    .    .    .    .    .    .    .    .    .    .    .    .    .    .    .    .    .    .    .    .    .    .    .    .    .    .    .    .    .    .    .    .    .    .    .    .    .    .    .    .    .    .    .    .    .    .    .    .    .    .    .    .    .    .    .    .    .    .    .    .    .    .    .    .    .    .    .    .    .    .    .    .    .    .    .    .    .    .    .    .    .    .    .    .    .    .    .    .    .    .    .    .    .    .    .    .    .    .    .    .    .    .    .    .    .    .    .    .    .    .    .    .    .    .    .    .    .    .    .    .    .    .    .    .    .    .    .    .    .    .    .    .    .    .    .    .    .    .    .    .    .    .    .    .    .    . |\n",
      "       DO* |    .    .    .    .    .    .    .    .    .    .    .    .    .    .    .    .    .    .    .    .    .    .    .    .    .    .    .    .    .    .    .    .    .    .    .    .    .    .    .    .    .    .    .    .    .    .    .    .    .    .    .  <24>   .    .    .    .    .    .    .    .    .    .    .    .    .    .    .    .    .    .    .    .    .    .    .    .    .    .    .    .    .    .    .    .    .    .    .    .    .    .    .    .    .    .    .    .    .    .    .    .    .    .    .    .    .    .    .    .    .    .    .    .    .    .    .    .    .    .    .    .    .    .    .    .    .    .    .    .    .    .    .    .    .    .    .    .    .    .    .    .    .    .    .    .    .    .    .    .    .    .    .    .    .    .    .    .    .    .    .    .    .    .    .    .    .    .    .    .    .    .    .    .    .    .    .    .    .    .    .    .    .    .    .    .    .    .    .    .    .    .    .    .    .    .    .    .    .    .    .    .    .    .    .    .    .    .    . |\n",
      "     DO-HL |    .    .    .    .    .    .    .    .    .    .    .    .    .    .    .    .    .    .    .    .    .    .    .    .    .    .    .    .    .    .    .    .    .    .    .    .    .    .    .    .    .    .    .    .    .    .    .    .    .    .    1    .   <.>   .    .    .    .    .    .    .    .    .    .    .    .    .    .    .    .    .    .    .    .    .    .    .    .    .    .    .    .    .    .    .    .    .    .    .    .    .    .    .    .    .    .    .    .    .    .    .    .    .    .    .    .    .    .    .    .    .    .    .    .    .    .    .    .    .    .    .    .    .    .    .    .    .    .    .    .    .    .    .    .    .    .    .    .    .    .    .    .    .    .    .    .    .    .    .    .    .    .    .    .    .    .    .    .    .    .    .    .    .    .    .    .    .    .    .    .    .    .    .    .    .    .    .    .    .    .    .    .    .    .    .    .    .    .    .    .    .    .    .    .    .    .    .    .    .    .    .    .    .    .    .    .    .    . |\n",
      "     DO-TL |    .    .    .    .    .    .    .    .    .    .    .    .    .    .    .    .    .    .    .    .    .    .    .    .    .    .    .    .    .    .    .    .    .    .    .    .    .    .    .    .    .    .    .    .    .    .    .    .    .    .    1    .    .   <.>   .    .    .    .    .    .    .    .    .    .    .    .    .    .    .    .    .    .    .    .    .    .    .    .    .    .    .    .    .    .    .    .    .    .    .    .    .    .    .    .    .    .    .    .    .    .    .    .    .    .    .    .    .    .    .    .    .    .    .    .    .    .    .    .    .    .    .    .    .    .    .    .    .    .    .    .    .    .    .    .    .    .    .    .    .    .    .    .    .    .    .    .    .    .    .    .    .    .    .    .    .    .    .    .    .    .    .    .    .    .    .    .    .    .    .    .    .    .    .    .    .    .    .    .    .    .    .    .    .    .    .    .    .    .    .    .    .    .    .    .    .    .    .    .    .    .    .    .    .    .    .    .    . |\n",
      "       DOD |    .    .    .    .    .    .    .    .    .    .    .    .    .    .    .    .    .    .    .    .    .    .    .    .    .    .    .    .    .    .    .    .    .    .    .    .    .    .    .    .    .    .    .    .    .    .    .    .    .    .    .    .    .    .  <36>   .    .    .    .    .    .    .    .    .    .    .    .    .    .    .    .    .    .    .    .    .    .    .    .    .    .    .    .    .    .    .    .    .    .    .    .    .    .    .    .    .    .    .    .    .    .    .    .    .    .    .    .    .    .    .    .    .    .    .    .    .    .    .    .    .    .    .    .    .    .    .    .    .    .    .    .    .    .    .    .    .    .    .    .    .    .    .    .    .    .    .    .    .    .    .    .    .    .    .    .    .    .    .    .    .    .    .    .    .    .    .    .    .    .    .    .    .    .    .    .    .    .    .    .    .    .    .    .    .    .    .    .    .    .    .    .    .    .    .    .    .    .    .    .    .    .    .    .    .    .    .    . |\n",
      "      DOD* |    .    .    .    .    .    .    .    .    .    .    .    .    .    .    .    .    .    .    .    .    .    .    .    .    .    .    .    .    .    .    .    .    .    .    .    .    .    .    .    .    .    .    .    .    .    .    .    .    .    .    .    .    .    .    .   <5>   .    .    .    .    .    .    .    .    .    .    .    .    .    .    .    .    .    .    .    .    .    .    .    .    .    .    .    .    .    .    .    .    .    .    .    .    .    .    .    .    .    .    .    .    .    .    .    .    .    .    .    .    .    .    .    .    .    .    .    .    .    .    .    .    .    .    .    .    .    .    .    .    .    .    .    .    .    .    .    .    .    .    .    .    .    .    .    .    .    .    .    .    .    .    .    .    .    .    .    .    .    .    .    .    .    .    .    .    .    .    .    .    .    .    .    .    .    .    .    .    .    .    .    .    .    .    .    .    .    .    .    .    .    .    .    .    .    .    .    .    .    .    .    .    .    .    .    .    .    .    . |\n",
      "       DOZ |    .    .    .    .    .    .    .    .    .    .    .    .    .    .    .    .    .    .    .    .    .    .    .    .    .    .    .    .    .    .    .    .    .    .    .    .    .    .    .    .    .    .    .    .    .    .    .    .    .    .    .    .    .    .    .    .  <28>   .    .    .    .    .    .    .    .    .    .    .    .    .    .    .    .    .    .    .    .    .    .    .    .    .    .    .    .    .    .    .    .    .    .    .    .    .    .    .    .    .    .    .    .    .    .    .    .    .    .   15    .    .    .    .    .    .    .    .    .    .    .    .    .    .    .    .    .    .    .    .    .    .    .    .    .    .    .    .    .    .    .    .    .    .    .    .    .    .    .    .    .    .    .    .    .    .    .    .    .    .    .    .    .    .    .    .    .    .    .    .    .    .    .    .    .    .    .    .    .    .    .    .    .    .    .    .    .    .    .    .    .    .    .    .    .    .    .    .    .    .    .    .    .    .    .    .    .    .    . |\n",
      "      DOZ* |    .    .    .    .    .    .    .    .    .    .    .    .    .    .    .    .    .    .    .    .    .    .    .    .    .    .    .    .    .    .    .    .    .    .    .    .    .    .    .    .    .    .    .    .    .    .    .    .    .    .    .    .    .    .    .    .    .  <10>   .    .    .    .    .    .    .    .    .    .    .    .    .    .    .    .    .    .    .    .    .    .    .    .    .    .    .    .    .    .    .    .    .    .    .    .    .    .    .    .    .    .    .    .    .    .    .    .    .    .    .    .    .    .    .    .    .    .    .    .    .    .    .    .    .    .    .    .    .    .    .    .    .    .    .    .    .    .    .    .    .    .    .    .    .    .    .    .    .    .    .    .    .    .    .    .    .    .    .    .    .    .    .    .    .    .    .    .    .    .    .    .    .    .    .    .    .    .    .    .    .    .    .    .    .    .    .    .    .    .    .    .    .    .    .    .    .    .    .    .    .    .    .    .    .    .    .    .    . |\n",
      "    DOZ-HL |    .    .    .    .    .    .    .    .    .    .    .    .    .    .    .    .    .    .    .    .    .    .    .    .    .    .    .    .    .    .    .    .    .    .    .    .    .    .    .    .    .    .    .    .    .    .    .    .    .    .    .    .    .    .    .    .    1    .   <.>   .    .    .    .    .    .    .    .    .    .    .    .    .    .    .    .    .    .    .    .    .    .    .    .    .    .    .    .    .    .    .    .    .    .    .    .    .    .    .    .    .    .    .    .    .    .    .    .    .    .    .    .    .    .    .    .    .    .    .    .    .    .    .    .    .    .    .    .    .    .    .    .    .    .    .    .    .    .    .    .    .    .    .    .    .    .    .    .    .    .    .    .    .    .    .    .    .    .    .    .    .    .    .    .    .    .    .    .    .    .    .    .    .    .    .    .    .    .    .    .    .    .    .    .    .    .    .    .    .    .    .    .    .    .    .    .    .    .    .    .    .    .    .    .    .    .    .    . |\n",
      "        DT |    .    .    .    .    .    .    .    .    .    .    .    .    .    .    .    .    .    .    .    .    .    .    .    .    .    .    .    .    .    .    .    .    .    .    .    .    .    .    .    .    .    .    .    .    .    .    .    .   54    .    .    .    .    .    .    .    .    .    . <452>   .    .    .    .    .    .    .    .    .    .    .    .    .    .    .    .    .    .    .    .    .    .    .    .    .    .    .    .    .    .    .    .    .    .    .    .    .    .    .    .    .    .    .    .    .    .    .    .    .    .    .    .    .    .    .    .    .    .    .    .    .    .    .    .    .    .    .    .    .    .    .    .    .    .    .    .    .    .    .    .    .    .    .    .    .    .    .    .    .    .    .    .    .    .    .    .    .    .    .    .    .    .    .    .    .    .    .    .    .    .    .    .    .    .    .    .    .    .    .    .    .    .    .    .    .    .    .    .    .    .    .    .    .    .    .    .    .    .    .    .    .    .    .    1    .    .    . |\n",
      "    DT+BEZ |    .    .    .    .    .    .    .    .    .    .    .    .    .    .    .    .    .    .    .    .    .    .    .    .    .    .    .    .    .    .    .    .    .    .    .    .    .    .    .    .    .    .    .    .    .    .    .    .    .    .    .    .    .    .    .    .    .    .    .    .   <1>   .    .    .    .    .    .    .    .    .    .    .    .    .    .    .    .    .    .    .    .    .    .    .    .    .    .    .    .    .    .    .    .    .    .    .    .    .    .    .    .    .    .    .    .    .    .    .    .    .    .    .    .    .    .    .    .    .    .    .    .    .    .    .    .    .    .    .    .    .    .    .    .    .    .    .    .    .    .    .    .    .    .    .    .    .    .    .    .    .    .    .    .    .    .    .    .    .    .    .    .    .    .    .    .    .    .    .    .    .    .    .    .    .    .    .    .    .    .    .    .    .    .    .    .    .    .    .    .    .    .    .    .    .    .    .    .    .    .    .    .    .    .    .    .    .    . |\n",
      "       DTI |    .    .    .    .    .    .    .    .    .    .    .    .    .    .    .    .    .    .    .    .    .    .    .    .    .    .    .    .    .    .    .    .    .    .    .    .    .    .    .    .    .    .    .    .    .    .    .    .    .    .    .    .    .    .    .    .    .    .    .    .    . <187>   .    .    .    .    .    .    .    .    .    .    .    .    .    .    .    .    .    .    .    .    .    .    .    .    .    .    .    .    .    .    .    .    .    .    .    .    .    .    .    .    .    .    .    .    .    .    .    .    .    .    .    .    .    .    .    .    .    .    .    .    .    .    .    .    .    .    .    .    .    .    .    .    .    .    .    .    .    .    .    .    .    .    .    .    .    .    .    .    .    .    .    .    .    .    .    .    .    .    .    .    .    .    .    .    .    .    .    .    .    .    .    .    .    .    .    .    .    .    .    .    .    .    .    .    .    .    .    .    .    .    .    .    .    .    .    .    .    .    .    .    .    .    .    .    . |\n",
      "       DTS |    .    .    .    .    .    .    .    .    .    .    .    .    .    .    .    .    .    .    .    .    .    .    .    .    .    .    .    .    .    .    .    .    .    .    .    .    .    .    .    .    .    .    .    .    .    .    .    .    .    .    .    .    .    .    .    .    .    .    .    .    .    . <140>   .    .    .    .    .    .    .    .    .    .    .    .    .    .    .    .    .    .    .    .    .    .    .    .    .    .    .    .    .    .    .    .    .    .    .    .    .    .    .    .    .    .    .    .    .    .    .    .    .    .    .    .    .    .    .    .    .    .    .    .    .    .    .    .    .    .    .    .    .    .    .    .    .    .    .    .    .    .    .    .    .    .    .    .    .    1    .    .    .    .    .    .    .    .    .    .    .    .    .    .    .    .    .    .    .    .    .    .    .    .    .    .    .    .    .    .    .    .    .    .    .    .    .    .    .    .    .    .    .    .    .    .    .    .    .    .    .    .    .    .    .    .    .    . |\n",
      "       DTX |    .    .    .    .    .    .    .    .    .    .    .    .    .    .    .    .    .    .    .    .    .    .    .    .    .    .    .    .    .    .    .    .    .    .    .    .    .    .    .    .    .    .    4    .    .    .    .    .    .    .    .    .    .    .    .    .    .    .    .    .    .    .    .   <.>   .    .    .    .    .    .    .    .    .    .    .    .    .    .    .    .    .    .    .    .    .    .    .    .    .    .    .    .    .    .    .    .    .    .    .    .    .    .    .    .    .    .    .    1    .    .    .    .    .    .    .    .    .    .    .    .    .    .    .    .    .    .    .    .    .    .    .    .    .    .    .    .    .    .    .    .    .    .    .    .    .    .    .    .    .    .    .    .    .    .    .    .    .    .    .    .    .    .    .    .    .    .    .    .    .    .    .    .    .    .    .    .    .    .    .    .    .    .    .    .    .    .    .    .    .    .    .    .    .    .    .    .    .    .    .    .    .    .    .    .    .    .    . |\n",
      "        EX |    .    .    .    .    .    .    .    .    .    .    .    .    .    .    .    .    .    .    .    .    .    .    .    .    .    .    .    .    .    .    .    .    .    .    .    .    .    .    .    .    .    .    .    .    .    .    .    .    .    .    .    .    .    .    .    .    .    .    .    .    .    .    .    .  <92>   .    .    .    .    .    .    .    .    .    .    .    .    .    .    .    .    .    .    .    .    .    .    .    .    .    .    .    .    .    .    .    .    .    .    .    .    .    .    .    .    .    .    .    .    .    .    .    .    .    .    .    .    .    .    .    .    .    .    .    .    .    .    .    .    .    .    .    .    .    .    .    .    .    .    .    .    .    .    .    .    .    .    .    .    .    .    .    .    .    .    .    .    .    .    .    .    .    .    .    .    .    5    .    .    .    .    .    .    .    .    .    .    .    .    .    .    .    .    .    .    .    .    .    .    .    .    .    .    .    .    .    .    .    .    .    .    .    .    .    .    .    . |\n",
      "    EX+BEZ |    .    .    .    .    .    .    .    .    .    .    .    .    .    .    .    .    .    .    .    .    .    .    .    .    .    .    .    .    .    .    .    .    .    .    .    .    .    .    .    .    .    .    .    .    .    .    .    .    .    .    .    .    .    .    .    .    .    .    .    .    .    .    .    .    .   <4>   .    .    .    .    .    .    .    .    .    .    .    .    .    .    .    .    .    .    .    .    .    .    .    .    .    .    .    .    .    .    .    .    .    .    .    .    .    .    .    .    .    .    .    .    .    .    .    .    .    .    .    .    .    .    .    .    .    .    .    .    .    .    .    .    .    .    .    .    .    .    .    .    .    .    .    .    .    .    .    .    .    .    .    .    .    .    .    .    .    .    .    .    .    .    .    .    .    .    .    .    .    .    .    .    .    .    .    .    .    .    .    .    .    .    .    .    .    .    .    .    .    .    .    .    .    .    .    .    .    .    .    .    .    .    .    .    .    .    .    .    . |\n",
      "     FW-AT |    .    .    .    .    .    .    .    .    .    .    .    .    .    .    .    .    .    .    .    .    .    .    .    .    .    .    .    .    .    .    .    .    .    .    .    .    .    .    .    .    .    .    .    .    .    .    .    .    .    .    .    .    .    .    .    .    .    .    .    .    .    .    .    .    .    .   <.>   .    .    .    .    .    .    .    .    .    .    .    .    .    .    .    .    .    .    .    .    .    .    .    .    .    .    .    .    .    .    .    .    .    .    .    .    .    .    .    .    1    .    .    .    .    .    .    .    .    .    .    .    .    .    .    .    .    .    .    .    .    .    .    .    .    .    .    .    .    .    .    .    .    .    .    .    .    .    .    .    .    .    .    .    .    .    .    .    .    .    .    .    .    .    .    .    .    .    .    .    .    .    .    .    .    .    .    .    .    .    .    .    .    .    .    .    .    .    .    .    .    .    .    .    .    .    .    .    .    .    .    .    .    .    .    .    .    .    .    . |\n",
      "  FW-AT-TL |    .    .    .    .    .    .    .    .    .    .    .    .    .    .    .    .    .    .    .    .    .    .    .    .    .    .    .    .    .    .    .    .    .    .    .    .    .    .    .    .    .    .    .    .    .    .    .    .    .    .    .    .    .    .    .    .    .    .    .    .    .    .    .    .    .    .    .   <1>   .    .    .    .    .    .    .    .    .    .    .    .    .    .    .    .    .    .    .    .    .    .    .    .    .    .    .    .    .    .    .    .    .    .    .    .    .    .    .    1    .    .    .    .    .    .    .    .    .    .    .    .    2    .    .    .    .    .    .    .    .    .    .    .    .    .    .    .    .    .    .    .    .    .    .    .    .    .    .    .    .    .    .    .    .    .    .    .    .    .    .    .    .    .    .    .    .    .    .    .    .    .    .    .    .    .    .    .    .    .    .    .    .    .    .    .    .    .    .    .    .    .    .    .    .    .    .    .    .    .    .    .    .    .    .    .    .    .    . |\n",
      "     FW-CC |    .    .    .    .    .    .    .    .    .    .    .    .    .    .    .    .    .    .    .    .    .    .    .    .    .    .    .    .    .    .    .    .    .    .    .    .    .    .    .    .    .    .    .    .    .    .    .    .    .    .    .    .    .    .    .    .    .    .    .    .    .    .    .    .    .    .    .    .   <1>   .    .    .    .    .    .    .    .    .    .    .    .    .    .    .    .    .    .    .    .    .    .    .    .    .    .    .    .    .    .    .    .    .    .    .    .    .    .    .    .    .    .    .    .    .    .    .    .    .    .    .    .    .    .    .    .    .    .    .    .    .    .    .    .    .    .    .    .    .    .    .    .    .    .    .    .    .    .    .    .    .    .    .    .    .    .    .    .    .    .    .    .    .    .    .    .    .    .    .    .    .    .    .    .    .    .    .    .    .    .    .    .    .    .    .    .    .    .    .    .    .    .    .    .    .    .    .    .    .    .    .    .    .    .    .    .    .    . |\n",
      "     FW-IN |    .    .    .    .    .    .    .    .    .    .    .    .    .    .    .    .    .    .    .    .    .    .    .    .    .    .    .    .    .    .    .    .    .    .    .    .    .    .    .    .    .    .    .    .    .    .    .    .    .    .    .    .    .    .    .    .    .    .    .    .    .    .    .    .    .    .    .    .    .   <3>   .    .    .    .    .    .    .    .    .    .    .    .    .    .    .    .    .    .    .    .    .    .    .    .    .    .    .    .    .    .    .    .    .    .    .    .    .    1    .    .    .    .    .    .    .    .    .    .    .    .    .    .    .    .    .    .    .    .    .    .    .    .    .    .    .    .    .    .    .    .    .    .    .    .    .    .    .    .    .    .    .    .    .    .    .    .    .    .    .    .    .    .    .    .    .    .    .    .    .    .    .    .    .    .    .    .    .    .    .    .    .    .    .    .    .    .    .    .    .    .    .    .    .    .    .    .    .    .    .    .    .    .    .    .    .    .    . |\n",
      "  FW-IN-TL |    .    .    .    .    .    .    .    .    .    .    .    .    .    .    .    .    .    .    .    .    .    .    .    .    .    .    .    .    .    .    .    .    .    .    .    .    .    .    .    .    .    .    .    .    .    .    .    .    .    .    .    .    .    .    .    .    .    .    .    .    .    .    .    .    .    .    .    .    .    .   <.>   .    .    .    .    .    .    .    .    .    .    .    .    .    .    .    .    .    .    .    .    .    .    .    .    .    .    .    .    .    .    .    .    .    .    .    .    .    .    .    .    .    .    .    .    .    .    .    .    .    1    .    .    .    .    .    .    .    .    .    .    .    .    .    .    .    .    .    .    .    .    .    .    .    .    .    .    .    .    .    .    .    .    .    .    .    .    .    .    .    .    .    .    .    .    .    .    .    .    .    .    .    .    .    .    .    .    .    .    .    .    .    .    .    .    .    .    .    .    .    .    .    .    .    .    .    .    .    .    .    .    .    .    .    .    .    . |\n",
      "     FW-JJ |    .    .    .    .    .    .    .    .    .    .    .    .    .    .    .    .    .    .    .    .    .    .    .    .    .    .    .    .    .    .    .    .    .    .    .    .    .    .    .    .    .    .    .    .    .    .    .    .    .    .    .    .    .    .    .    .    .    .    .    .    .    .    .    .    .    .    .    .    .    .    .   <.>   .    .    .    .    .    .    .    .    .    .    .    .    .    .    .    .    .    .    .    .    .    .    .    .    .    .    .    .    .    .    .    .    .    .    .    3    .    .    .    .    .    .    .    .    .    .    .    .    .    .    .    .    .    .    .    .    .    .    .    .    .    .    .    .    .    .    .    .    .    .    .    .    .    .    .    .    .    .    .    .    .    .    .    .    .    .    .    .    .    .    .    .    .    .    .    .    .    .    .    .    .    .    .    .    .    .    .    .    .    .    .    .    .    .    .    .    .    .    .    .    .    .    .    .    .    .    .    .    .    .    .    .    .    .    . |\n",
      "  FW-JJ-TL |    .    .    .    .    .    .    .    .    .    .    .    .    .    .    .    .    .    .    .    .    .    .    .    .    .    .    .    .    .    .    .    .    .    .    .    .    .    .    .    .    .    .    .    .    .    .    .    .    .    .    .    .    .    .    .    .    .    .    .    .    .    .    .    .    .    .    .    .    .    .    .    .   <.>   .    .    .    .    .    .    .    .    .    .    .    .    .    .    .    .    .    .    .    .    .    1    .    .    .    .    .    .    .    .    .    .    .    .    1    .    .    .    .    .    .    .    .    .    .    .    .    .    .    .    .    .    .    .    .    .    .    .    .    .    .    .    .    .    .    .    .    .    .    .    .    .    .    .    .    .    .    .    .    .    .    .    .    .    .    .    .    .    .    .    .    .    .    .    .    .    .    .    .    .    .    .    .    .    .    .    .    .    .    .    .    .    .    .    .    .    .    .    .    .    .    .    .    .    .    .    .    .    .    .    .    .    .    . |\n",
      "     FW-NN |    .    .    .    .    .    .    .    .    .    .    .    .    .    .    .    .    .    .    .    .    .    .    .    .    .    .    .    .    .    .    .    .    .    .    .    .    .    .    .    .    .    .    .    .    .    .    .    .    .    .    .    .    .    .    .    .    .    .    .    .    .    .    .    .    .    .    .    .    .    .    .    .    .   <2>   .    .    .    .    .    .    .    .    .    .    .    .    .    .    .    .    .    .    .    .    .    .    .    .    .    .    .    .    .    .    .    .    .   10    .    .    .    .    .    .    .    .    .    .    .    .    .    .    .    .    .    .    .    .    .    .    .    .    .    .    .    .    .    .    .    .    .    .    .    .    .    .    .    .    .    .    .    .    .    .    .    .    .    .    .    .    .    .    .    .    .    .    .    .    .    .    .    .    .    .    .    .    .    .    .    .    .    .    .    .    .    .    .    .    .    .    .    .    .    .    .    .    .    .    .    .    .    .    .    .    .    .    . |\n",
      "  FW-NN-TL |    .    .    .    .    .    .    .    .    .    .    .    .    .    .    .    .    .    .    .    .    .    .    .    .    .    .    .    .    .    .    .    .    .    .    .    .    .    .    .    .    .    .    .    .    .    .    .    .    .    .    .    .    .    .    .    .    .    .    .    .    .    .    .    .    .    .    .    .    .    .    .    .    .    .   <.>   .    .    .    .    .    .    .    .    .    .    .    .    .    .    .    .    .    .    .    .    .    .    .    .    .    .    .    .    .    .    .    .    4    .    .    .    .    .    .    .    .    .    .    .    .    .    .    .    .    .    .    .    .    .    .    .    .    .    .    .    .    .    .    .    .    .    .    .    .    .    .    .    .    .    .    .    .    .    .    .    .    .    .    .    .    .    .    .    .    .    .    .    .    .    .    .    .    .    .    .    .    .    .    .    .    .    .    .    .    .    .    .    .    .    .    .    .    .    .    .    .    .    .    .    .    .    .    .    .    .    .    . |\n",
      "    FW-NNS |    .    .    .    .    .    .    .    .    .    .    .    .    .    .    .    .    .    .    .    .    .    .    .    .    .    .    .    .    .    .    .    .    .    .    .    .    .    .    .    .    .    .    .    .    .    .    .    .    .    .    .    .    .    .    .    .    .    .    .    .    .    .    .    .    .    .    .    .    .    .    .    .    .    .    .   <1>   .    .    .    .    .    .    .    .    .    .    .    .    .    .    .    .    .    .    .    .    .    .    .    .    .    .    .    .    .    .    .    5    .    .    .    .    .    .    .    .    .    .    .    .    .    .    .    .    .    .    .    .    .    .    .    .    .    .    .    .    .    .    .    .    .    .    .    .    .    .    .    .    .    .    .    .    .    .    .    .    .    .    .    .    .    .    .    .    .    .    .    .    .    .    .    .    .    .    .    .    .    .    .    .    .    .    .    .    .    .    .    .    .    .    .    .    .    .    .    .    .    .    .    .    .    .    .    .    .    .    . |\n",
      "     FW-NP |    .    .    .    .    .    .    .    .    .    .    .    .    .    .    .    .    .    .    .    .    .    .    .    .    .    .    .    .    .    .    .    .    .    .    .    .    .    .    .    .    .    .    .    .    .    .    .    .    .    .    .    .    .    .    .    .    .    .    .    .    .    .    .    .    .    .    .    .    .    .    .    .    .    .    .    .   <.>   .    .    .    .    .    .    .    .    .    .    .    .    .    .    .    .    .    .    .    .    .    .    .    .    .    .    .    .    .    .    1    .    .    .    .    .    .    .    .    .    .    .    .    .    .    .    .    .    .    .    .    .    .    .    .    .    .    .    .    .    .    .    .    .    .    .    .    .    .    .    .    .    .    .    .    .    .    .    .    .    .    .    .    .    .    .    .    .    .    .    .    .    .    .    .    .    .    .    .    .    .    .    .    .    .    .    .    .    .    .    .    .    .    .    .    .    .    .    .    .    .    .    .    .    .    .    .    .    .    . |\n",
      "    FW-PPL |    .    .    .    .    .    .    .    .    .    .    .    .    .    .    .    .    .    .    .    .    .    .    .    .    .    .    .    .    .    .    .    .    .    .    .    .    .    .    .    .    .    .    .    .    .    .    .    .    .    .    .    .    .    .    .    .    .    .    .    .    .    .    .    .    .    .    .    .    .    .    .    .    .    .    .    .    .   <.>   .    .    .    .    .    .    .    .    .    .    .    .    .    .    .    .    .    .    .    .    .    .    .    .    .    .    .    .    .    1    .    .    .    .    .    .    .    .    .    .    .    .    .    .    .    .    .    .    .    .    .    .    .    .    .    .    .    .    .    .    .    .    .    .    .    .    .    .    .    .    .    .    .    .    .    .    .    .    .    .    .    .    .    .    .    .    .    .    .    .    .    .    .    .    .    .    .    .    .    .    .    .    .    .    .    .    .    .    .    .    .    .    .    .    .    .    .    .    .    .    .    .    .    .    .    .    .    .    . |\n",
      "    FW-PPO |    .    .    .    .    .    .    .    .    .    .    .    .    .    .    .    .    .    .    .    .    .    .    .    .    .    .    .    .    .    .    .    .    .    .    .    .    .    .    .    .    .    .    .    .    .    .    .    .    .    .    .    .    .    .    .    .    .    .    .    .    .    .    .    .    .    .    .    .    .    .    .    .    .    .    .    .    .    .   <.>   .    .    .    .    .    .    .    .    .    .    .    .    .    .    .    .    .    .    .    .    .    .    .    .    .    .    .    .    1    .    .    .    .    .    .    .    .    .    .    .    .    .    .    .    .    .    .    .    .    .    .    .    .    .    .    .    .    .    .    .    .    .    .    .    .    .    .    .    .    .    .    .    .    .    .    .    .    .    .    .    .    .    .    .    .    .    .    .    .    .    .    .    .    .    .    .    .    .    .    .    .    .    .    .    .    .    .    .    .    .    .    .    .    .    .    .    .    .    .    .    .    .    .    .    .    .    .    . |\n",
      "     FW-VB |    .    .    .    .    .    .    .    .    .    .    .    .    .    .    .    .    .    .    .    .    .    .    .    .    .    .    .    .    .    .    .    .    .    .    .    .    .    .    .    .    .    .    .    .    .    .    .    .    .    .    .    .    .    .    .    .    .    .    .    .    .    .    .    .    .    .    .    .    .    .    .    .    .    .    .    .    .    .    .   <.>   .    .    .    .    .    .    .    .    .    .    .    .    .    .    .    .    .    .    .    .    .    .    .    .    .    .    .    1    .    .    .    .    .    .    .    .    .    .    .    .    .    .    .    .    .    .    .    .    .    .    .    .    .    .    .    .    .    .    .    .    .    .    .    .    .    .    .    .    .    .    .    .    .    .    .    .    .    .    .    .    .    .    .    .    .    .    .    .    .    .    .    .    .    .    .    .    .    .    .    .    .    .    .    .    .    .    .    .    .    .    .    .    .    .    .    .    .    .    .    .    .    .    .    .    .    .    . |\n",
      "    FW-VBZ |    .    .    .    .    .    .    .    .    .    .    .    .    .    .    .    .    .    .    .    .    .    .    .    .    .    .    .    .    .    .    .    .    .    .    .    .    .    .    .    .    .    .    .    .    .    .    .    .    .    .    .    .    .    .    .    .    .    .    .    .    .    .    .    .    .    .    .    .    .    .    .    .    .    .    .    .    .    .    .    .   <.>   .    .    .    .    .    .    .    .    .    .    .    .    .    .    .    .    .    .    .    .    .    .    .    .    .    .    1    .    .    .    .    .    .    .    .    .    .    .    .    .    .    .    .    .    .    .    .    .    .    .    .    .    .    .    .    .    .    .    .    .    .    .    .    .    .    .    .    .    .    .    .    .    .    .    .    .    .    .    .    .    .    .    .    .    .    .    .    .    .    .    .    .    .    .    .    .    .    .    .    .    .    .    .    .    .    .    .    .    .    .    .    .    .    .    .    .    .    .    .    .    .    .    .    .    .    . |\n",
      "    FW-WDT |    .    .    .    .    .    .    .    .    .    .    .    .    .    .    .    .    .    .    .    .    .    .    .    .    .    .    .    .    .    .    .    .    .    .    .    .    .    .    .    .    .    .    .    .    .    .    .    .    .    .    .    .    .    .    .    .    .    .    .    .    .    .    .    .    .    .    .    .    .    .    .    .    .    .    .    .    .    .    .    .    .   <.>   .    .    .    .    .    .    .    .    .    .    .    .    .    .    .    .    .    .    .    .    .    .    .    .    .    1    .    .    .    .    .    .    .    .    .    .    .    .    .    .    .    .    .    .    .    .    .    .    .    .    .    .    .    .    .    .    .    .    .    .    .    .    .    .    .    .    .    .    .    .    .    .    .    .    .    .    .    .    .    .    .    .    .    .    .    .    .    .    .    .    .    .    .    .    .    .    .    .    .    .    .    .    .    .    .    .    .    .    .    .    .    .    .    .    .    .    .    .    .    .    .    .    .    .    . |\n",
      "        HV |    .    .    .    .    .    .    .    .    .    .    .    .    .    .    .    .    .    .    .    .    .    .    .    .    .    .    .    .    .    .    .    .    .    .    .    .    .    .    .    .    .    .    .    .    .    .    .    .    .    .    .    .    .    .    .    .    .    .    .    .    .    .    .    .    .    .    .    .    .    .    .    .    .    .    .    .    .    .    .    .    .    . <275>   .    .    .    .    .    .    .    .    .    .    .    .    .    .    .    .    .    .    .    .    .    .    .    .    .    .    .    .    .    .    .    .    .    .    .    .    .    .    .    .    .    .    .    .    .    .    .    .    .    .    .    .    .    .    .    .    .    .    .    .    .    .    .    .    .    .    .    .    .    .    .    .    .    .    .    .    .    .    .    .    .    .    .    .    .    .    .    .    .    .    .    .    .    .    .    .    .    .    .    .    .    .    .    .    .    .    .    .    .    .    .    .    .    .    .    .    .    .    .    .    .    .    .    . |\n",
      "       HVD |    .    .    .    .    .    .    .    .    .    .    .    .    .    .    .    .    .    .    .    .    .    .    .    .    .    .    .    .    .    .    .    .    .    .    .    .    .    .    .    .    .    .    .    .    .    .    .    .    .    .    .    .    .    .    .    .    .    .    .    .    .    .    .    .    .    .    .    .    .    .    .    .    .    .    .    .    .    .    .    .    .    .    . <120>   .    .    .    .    .    .    .    .    .    .    .    .    .    .    .    .    .    .    .    .    .    .    .    .    .    .    .    .    .    .    .    .    .    .    .    .    .    .    .    .    .    .    .    .    .    .    .    .    .    .    .    .    .    .    .    .    .    .    .    .    .    .    .    .    .    .    .    .    .    .    .    .    .    .    .    .    .    .    .    .    .    .    .    .    .    .    .    .    .    .    .    .    .    .    .    .    .    .    .    .    .    .    .    .    .    .    .    .    .    .    .    .    .    .    .    .    .    .    .    .    .    .    . |\n",
      "       HVG |    .    .    .    .    .    .    .    .    .    .    .    .    .    .    .    .    .    .    .    .    .    .    .    .    .    .    .    .    .    .    .    .    .    .    .    .    .    .    .    .    .    .    .    .    .    .    .    .    .    .    .    .    .    .    .    .    .    .    .    .    .    .    .    .    .    .    .    .    .    .    .    .    .    .    .    .    .    .    .    .    .    .    .    .  <19>   .    .    .    .    .    .    .    .    .    .    .    .    .    .    .    .    .    .    .    .    .    .    .    .    .    .    .    .    .    .    .    .    .    .    .    .    .    .    .    .    .    .    .    .    .    .    .    .    .    .    .    .    .    .    .    .    .    .    .    .    .    .    .    .    .    .    .    .    .    .    .    .    .    .    .    .    .    .    .    .    .    .    .    .    .    .    .    .    .    .    .    .    .    .    .    .    .    .    .    .    .    .    .    .    .    .    .    .    .    .    .    .    .    .    .    .    .    .    .    .    .    . |\n",
      "       HVN |    .    .    .    .    .    .    .    .    .    .    .    .    .    .    .    .    .    .    .    .    .    .    .    .    .    .    .    .    .    .    .    .    .    .    .    .    .    .    .    .    .    .    .    .    .    .    .    .    .    .    .    .    .    .    .    .    .    .    .    .    .    .    .    .    .    .    .    .    .    .    .    .    .    .    .    .    .    .    .    .    .    .    .    4    .   <8>   .    .    .    .    .    .    .    .    .    .    .    .    .    .    .    .    .    .    .    .    .    .    .    .    .    .    .    .    .    .    .    .    .    .    .    .    .    .    .    .    .    .    .    .    .    .    .    .    .    .    .    .    .    .    .    .    .    .    .    .    .    .    .    .    .    .    .    .    .    .    .    .    .    .    .    .    .    .    .    .    .    .    .    .    .    .    .    .    .    .    .    .    .    .    .    .    .    .    .    .    .    .    .    .    .    .    .    .    .    .    .    .    .    .    .    .    .    .    .    .    . |\n",
      "       HVZ |    .    .    .    .    .    .    .    .    .    .    .    .    .    .    .    .    .    .    .    .    .    .    .    .    .    .    .    .    .    .    .    .    .    .    .    .    .    .    .    .    .    .    .    .    .    .    .    .    .    .    .    .    .    .    .    .    .    .    .    .    .    .    .    .    .    .    .    .    .    .    .    .    .    .    .    .    .    .    .    .    .    .    .    .    .    . <261>   .    .    .    .    .    .    .    .    .    .    .    .    .    .    .    .    .    .    .    .    .    .    .    .    .    .    .    .    .    .    .    .    .    .    .    .    .    .    .    .    .    .    .    .    .    .    .    .    .    .    .    .    .    .    .    .    .    .    .    .    .    .    .    .    .    .    .    .    .    .    .    .    .    .    .    .    .    .    .    .    .    .    .    .    .    .    .    .    .    .    .    .    .    .    .    .    .    .    .    .    .    .    .    .    .    .    .    .    .    .    .    .    .    .    .    .    .    .    .    . |\n",
      "      HVZ* |    .    .    .    .    .    .    .    .    .    .    .    .    .    .    .    .    .    .    .    .    .    .    .    .    .    .    .    .    .    .    .    .    .    .    .    .    .    .    .    .    .    .    .    .    .    .    .    .    .    .    .    .    .    .    .    .    .    .    .    .    .    .    .    .    .    .    .    .    .    .    .    .    .    .    .    .    .    .    .    .    .    .    .    .    .    .    .   <6>   .    .    .    .    .    .    .    .    .    .    .    .    .    .    .    .    .    .    .    .    .    .    .    .    .    .    .    .    .    .    .    .    .    .    .    .    .    .    .    .    .    .    .    .    .    .    .    .    .    .    .    .    .    .    .    .    .    .    .    .    .    .    .    .    .    .    .    .    .    .    .    .    .    .    .    .    .    .    .    .    .    .    .    .    .    .    .    .    .    .    .    .    .    .    .    .    .    .    .    .    .    .    .    .    .    .    .    .    .    .    .    .    .    .    .    .    .    .    . |\n",
      "        IN |    .    .    .    .    .    .    .    .    .    .    .    .    .    .    .    .    .    .    .    3    .    .    .    .    .    .    .    .    .    .    .    .    .    .    .    .    .    .    .    .    .    .    9    .    .    .    .    .   32    .    .    .    .    .    .    .    .    .    .    .    .    .    .    .    .    .    .    .    .    .    .    .    .    .    .    .    .    .    .    .    .    .    .    .    .    .    .    .<5538>  11    .   10    .    .    .    .    .    .    .    .    .    .    .    .    .    .    .   30    .    .    .    .    .    .    1    .    .    .    .    .    .    .    .    .    .    .    .    .    .    .    .    .    .    .    .    .    .    .    .    .    .    .    .    .    .    .    .    .    .    .    .    .    .    .    .    .    .    .    .    .    .    .    .    .    .    .   19    .    .    .    .    .    .    .   36    .  514    1    .    .    .    .    .    .    .    .    .    .    .    .    .    .    .    .    .    .    .    .    .    .    .    .    .    .    .    .    . |\n",
      "     IN-HL |    .    .    .    .    .    .    .    .    .    .    .    .    .    .    .    .    .    .    .    .    .    .    .    .    .    .    .    .    .    .    .    .    .    .    .    .    .    .    .    .    .    .    .    .    .    .    .    .    .    .    .    .    .    .    .    .    .    .    .    .    .    .    .    .    .    .    .    .    .    .    .    .    .    .    .    .    .    .    .    .    .    .    .    .    .    .    .    .   66   <.>   .    2    .    .    .    .    .    .    .    .    .    .    .    .    .    .    .    3    .    .    .    .    .    .    .    .    .    .    .    .    .    .    .    .    .    .    .    .    .    .    .    .    .    .    .    .    .    .    .    .    .    .    .    .    .    .    .    .    .    .    .    .    .    .    .    .    .    .    .    .    .    .    .    .    .    .    .    .    .    .    .    .    .    .    1    .   41    .    .    .    .    .    .    .    .    .    .    .    .    .    .    .    .    .    .    .    .    .    .    .    .    .    .    .    .    .    . |\n",
      "     IN-NC |    .    .    .    .    .    .    .    .    .    .    .    .    .    .    .    .    .    .    .    .    .    .    .    .    .    .    .    .    .    .    .    .    .    .    .    .    .    .    .    .    .    .    .    .    .    .    .    .    .    .    .    .    .    .    .    .    .    .    .    .    .    .    .    .    .    .    .    .    .    .    .    .    .    .    .    .    .    .    .    .    .    .    .    .    .    .    .    .    1    .   <.>   .    .    .    .    .    .    .    .    .    .    .    .    .    .    .    .    .    .    .    .    .    .    .    .    .    .    .    .    .    .    .    .    .    .    .    .    .    .    .    .    .    .    .    .    .    .    .    .    .    .    .    .    .    .    .    .    .    .    .    .    .    .    .    .    .    .    .    .    .    .    .    .    .    .    .    .    .    .    .    .    .    .    .    .    .    .    .    .    .    .    .    .    .    .    .    .    .    .    .    .    .    .    .    .    .    .    .    .    .    .    .    .    .    .    .    . |\n",
      "     IN-TL |    .    .    .    .    .    .    .    .    .    .    .    .    .    .    .    .    .    .    .    .    .    .    .    .    .    .    .    .    .    .    .    .    .    .    .    .    .    .    .    .    .    .    .    .    .    .    .    .    .    .    .    .    .    .    .    .    .    .    .    .    .    .    .    .    .    .    .    .    .    .    .    .    .    .    .    .    .    .    .    .    .    .    .    .    .    .    .    .   40    .    .  <58>   .    .    .    .    .    .    .    .    .    .    .    .    .    .    .    .    .    .    .    .    .    .    .    .    .    .    .    .    .    .    .    .    .    .    .    .    .    .    .    .    .    .    .    .    .    .    .    .    .    .    .    .    .    .    .    .    .    .    .    .    .    .    .    .    .    .    .    .    .    .    .    .    .    .    .    .    .    .    .    .    .    .    .    .    .    .    .    .    .    .    .    .    .    .    .    .    .    .    .    .    .    .    .    .    .    .    .    .    .    .    .    .    .    .    . |\n",
      "        JJ |    .    .    .    .    .    .    .    .    .    .    .    .    .    .    .    .    .    .    .    8    .    .    .    .    .    .    .    .    .    .    .    .    .    .    .    .    .    .    .    .    .    .    .    .    .    .    .    .    1    .    .    .    .    .    .    .    .    .    .    .    .    .    .    .    .    .    .    .    .    .    .    .    .    .    .    .    .    .    .    .    .    .    .    .    .    .    .    .    .    .    .    .<2475>   3   15    .    .    .    .    .    .    .    .    .    .    .    . 1015    .    .    .    .    1    .    .    .    .    .    .    .   21    .    .    .    .    .    6    2    .    .    .    3    .    .    .    .    .    .    .    .    .    .    .    .    .    .    .    .    .    .    .    .    .    .    .    .    .    .    .    .    .    .    .   10    .    .   20    .    .    .    .    .    .    .    .    .    .    .    .    .    7    .    .    .    5    .    1    .    .    .    .    .    .    .    .    .    .    .    .    .    .    .    .    .    .    .    . |\n",
      "     JJ-HL |    .    .    .    .    .    .    .    .    .    .    .    .    .    .    .    .    .    .    .    1    .    .    .    .    .    .    .    .    .    .    .    .    .    .    .    .    .    .    .    .    .    .    .    .    .    .    .    .    .    .    .    .    .    .    .    .    .    .    .    .    .    .    .    .    .    .    .    .    .    .    .    .    .    .    .    .    .    .    .    .    .    .    .    .    .    .    .    .    .    .    .    .   17   <.>   1    .    .    .    .    .    .    .    .    .    .    .    .   20    .    .    .    .    .    .    .    .    .    .    .    .    .    .    .    .    .    .    .    .    .    .    .    .    .    .    .    .    .    .    .    .    .    .    .    .    .    .    .    .    .    .    .    .    .    .    .    .    .    .    .    .    .    .    .    .    .    .    1    .    .    .    .    .    .    .    .    .    .    .    .    .    .    .    .    .    .    .    .    .    .    .    .    .    .    .    .    .    .    .    .    .    .    .    .    .    .    .    . |\n",
      "     JJ-TL |    .    .    .    .    .    .    .    .    .    .    .    .    .    .    .    .    .    .    .    .    .    .    .    .    .    .    .    .    .    .    .    .    .    .    .    .    .    .    .    .    .    .    .    .    .    .    .    .    .    .    .    .    .    .    .    .    .    .    .    .    .    .    .    .    .    .    .    .    .    .    .    .    .    .    .    .    .    .    .    .    .    .    .    .    .    .    .    .    .    .    .    .   24    1 <301>   .    .    .    .    .    .    .    .    .    .    .    .   36    .    .    .    1    3    .    .    .    .    .    .    .    5    .    .    .    .    .    6    .    .    .    .    .    .    .   25    .    .    .    .    .    .    .    .    .    .    .    .    .    .    .    .    .    .    .    .    .    .    .    .    .    .    .    .    .    .    .    .    .    .    .    .    .    .    .    .    .    .    .    .    .    .    .    .    .    .    .    .    .    .    .    .    .    .    .    .    .    .    .    .    .    .    .    .    .    .    .    . |\n",
      "  JJ-TL-HL |    .    .    .    .    .    .    .    .    .    .    .    .    .    .    .    .    .    .    .    .    .    .    .    .    .    .    .    .    .    .    .    .    .    .    .    .    .    .    .    .    .    .    .    .    .    .    .    .    .    .    .    .    .    .    .    .    .    .    .    .    .    .    .    .    .    .    .    .    .    .    .    .    .    .    .    .    .    .    .    .    .    .    .    .    .    .    .    .    .    .    .    .    .    .    3   <.>   .    .    .    .    .    .    .    .    .    .    .    .    .    .    .    .    .    .    .    .    .    .    .    .    .    .    .    .    .    .    .    .    .    .    .    .    .    .    .    .    .    .    .    .    .    .    .    .    .    .    .    .    .    .    .    .    .    .    .    .    .    .    .    .    .    .    .    .    .    .    .    .    .    .    .    .    .    .    .    .    .    .    .    .    .    .    .    .    .    .    .    .    .    .    .    .    .    .    .    .    .    .    .    .    .    .    .    .    .    .    . |\n",
      "       JJR |    .    .    .    .    .    .    .    .    .    .    .    .    .    .    .    .    .    .    .    2    .    .    .    .    .    .    .    .    .    .    .    .    .    .    .    .    .    .    .    .    .    .    .    .    .    .    .    .    .    .    .    .    .    .    .    .    .    .    .    .    .    .    .    .    .    .    .    .    .    .    .    .    .    .    .    .    .    .    .    .    .    .    .    .    .    .    .    .    .    .    .    .    .    .    .    .  <69>   .    .    .    .    .    .    .    .    .    .   20    .    .    .    .    .    .    .    .    .    .    .    .    .    .    .    .    .    .    .    .    .    .    .    .    .    .    .    .    .    .    .    .    .    .    .    .    .    .    .    .    .    .    .    .    .    .    .    .    .    .    .    .    .    .    .    .    .    .    .    .    .    .    .    7    .    .    .    .    .    .    .    .    .    .    .    .    .    .    .    .    .    .    .    .    .    .    .    .    .    .    .    .    .    .    .    .    .    .    . |\n",
      "    JJR-HL |    .    .    .    .    .    .    .    .    .    .    .    .    .    .    .    .    .    .    .    .    .    .    .    .    .    .    .    .    .    .    .    .    .    .    .    .    .    .    .    .    .    .    .    .    .    .    .    .    .    .    .    .    .    .    .    .    .    .    .    .    .    .    .    .    .    .    .    .    .    .    .    .    .    .    .    .    .    .    .    .    .    .    .    .    .    .    .    .    .    .    .    .    .    .    .    .    2   <.>   1    .    .    .    .    .    .    .    .    1    .    .    .    .    .    .    .    .    .    .    .    .    .    .    .    .    .    .    .    .    .    .    .    .    .    .    .    .    .    .    .    .    .    .    .    .    .    .    .    .    .    .    .    .    .    .    .    .    .    .    .    .    .    .    .    .    .    .    .    .    .    .    .    .    .    .    .    .    .    .    .    .    .    .    .    .    .    .    .    .    .    .    .    .    .    .    .    .    .    .    .    .    .    .    .    .    .    .    . |\n",
      "    JJR-TL |    .    .    .    .    .    .    .    .    .    .    .    .    .    .    .    .    .    .    .    .    .    .    .    .    .    .    .    .    .    .    .    .    .    .    .    .    .    .    .    .    .    .    .    .    .    .    .    .    .    .    .    .    .    .    .    .    .    .    .    .    .    .    .    .    .    .    .    .    .    .    .    .    .    .    .    .    .    .    .    .    .    .    .    .    .    .    .    .    .    .    .    .    .    .    .    .    .    .   <3>   .    .    .    .    .    .    .    .    1    .    .    .    .    .    .    .    .    .    .    .    .    .    .    .    .    .    .    .    .    .    .    .    .    .    .    .    .    .    .    .    .    .    .    .    .    .    .    .    .    .    .    .    .    .    .    .    .    .    .    .    .    .    .    .    .    .    .    .    .    .    .    .    .    .    .    .    .    .    .    .    .    .    .    .    .    .    .    .    .    .    .    .    .    .    .    .    .    .    .    .    .    .    .    .    .    .    .    . |\n",
      "       JJS |    .    .    .    .    .    .    .    .    .    .    .    .    .    .    .    .    .    .    .    .    .    .    .    .    .    .    .    .    .    .    .    .    .    .    .    .    .    .    .    .    .    .    .    .    .    .    .    .    .    .    .    .    .    .    .    .    .    .    .    .    .    .    .    .    .    .    .    .    .    .    .    .    .    .    .    .    .    .    .    .    .    .    .    .    .    .    .    .    .    .    .    .    .    .    .    .    .    .    .  <17>   .    .    .    .    .    .    .    5    .    .    .    .    .    .    1    .    .    .    .    .    .    .    .    .    .    .    .    .    .    .    .    .    .    .    .    .    .    .    .    .    .    .    .    .    .    .    .    .    .    .    .    .    .    .    .    .    .    .    .    .    .    .    .    .    .    .    .    .    .    .    .    .    .    .    .    .    .    .    .    .    .    .    .    .    .    .    .    .    .    .    .    .    .    .    .    .    .    .    .    .    .    .    .    .    .    .    . |\n",
      "    JJS-TL |    .    .    .    .    .    .    .    .    .    .    .    .    .    .    .    .    .    .    .    .    .    .    .    .    .    .    .    .    .    .    .    .    .    .    .    .    .    .    .    .    .    .    .    .    .    .    .    .    .    .    .    .    .    .    .    .    .    .    .    .    .    .    .    .    .    .    .    .    .    .    .    .    .    .    .    .    .    .    .    .    .    .    .    .    .    .    .    .    .    .    .    .    .    .    .    .    .    .    .    .   <.>   .    .    .    .    .    .    .    .    .    .    .    1    .    .    .    .    .    .    .    .    .    .    .    .    .    .    .    .    .    .    .    .    .    .    .    .    .    .    .    .    .    .    .    .    .    .    .    .    .    .    .    .    .    .    .    .    .    .    .    .    .    .    .    .    .    .    .    .    .    .    .    .    .    .    .    .    .    .    .    .    .    .    .    .    .    .    .    .    .    .    .    .    .    .    .    .    .    .    .    .    .    .    .    .    .    . |\n",
      "       JJT |    .    .    .    .    .    .    .    .    .    .    .    .    .    .    .    .    .    .    .    .    .    .    .    .    .    .    .    .    .    .    .    .    .    .    .    .    .    .    .    .    .    .    .    .    .    .    .    .    .    .    .    .    .    .    .    .    .    .    .    .    .    .    .    .    .    .    .    .    .    .    .    .    .    .    .    .    .    .    .    .    .    .    .    .    .    .    .    .    .    .    .    .    .    .    .    .    .    .    .    .    .  <47>   .    .    .    .    .   17    .    .    .    .    .    .    .    .    .    .    .    .    .    .    .    .    .    .    .    .    .    .    .    .    .    .    .    .    .    .    .    .    .    .    .    .    .    .    .    .    .    .    .    .    .    .    .    .    .    .    .    .    .    .    .    .    .    .    .    .    .    .    .    .    .    .    .    .    .    .    .    .    .    .    .    .    .    .    .    .    .    .    .    .    .    .    .    .    .    .    .    .    .    .    .    .    .    .    . |\n",
      "    JJT-HL |    .    .    .    .    .    .    .    .    .    .    .    .    .    .    .    .    .    .    .    .    .    .    .    .    .    .    .    .    .    .    .    .    .    .    .    .    .    .    .    .    .    .    .    .    .    .    .    .    .    .    .    .    .    .    .    .    .    .    .    .    .    .    .    .    .    .    .    .    .    .    .    .    .    .    .    .    .    .    .    .    .    .    .    .    .    .    .    .    .    .    .    .    .    .    .    .    .    .    .    .    .    1   <.>   .    .    .    .    2    .    .    .    .    .    .    .    .    .    .    .    .    .    .    .    .    .    .    .    .    .    .    .    .    .    .    .    .    .    .    .    .    .    .    .    .    .    .    .    .    .    .    .    .    .    .    .    .    .    .    .    .    .    .    .    .    .    .    .    .    .    .    .    .    .    .    .    .    .    .    .    .    .    .    .    .    .    .    .    .    .    .    .    .    .    .    .    .    .    .    .    .    .    .    .    .    .    .    . |\n",
      "        MD |    .    .    .    .    .    .    .    .    .    .    .    .    .    .    .    .    .    .    .    .    .    .    .    .    .    .    .    .    .    .    .    .    .    .    .    .    .    .    .    .    .    .    .    .    .    .    .    .    .    .    .    .    .    .    .    .    .    .    .    .    .    .    .    .    .    .    .    .    .    .    .    .    .    .    .    .    .    .    .    .    .    .    .    .    .    .    .    .    .    .    .    .    .    .    .    .    .    .    .    .    .    .    . <857>   .    7    .    2    .    .    .    .    .    .    .    .    .    .    .    .    .    .    .    .    .    .    .    .    .    .    .    .    .    .    .    .    .    .    .    .    .    .    .    .    .    .    .    .    .    .    .    .    .    .    .    .    .    .    .    .    .    .    .    .    .    .    .    .    .    .    .    .    .    .    .    .    .    .    .    .    1    .    .    .    .    .    .    .    .    .    .    .    .    .    .    .    .    .    .    .    .    .    .    .    .    .    . |\n",
      "       MD* |    .    .    .    .    .    .    .    .    .    .    .    .    .    .    .    .    .    .    .    .    .    .    .    .    .    .    .    .    .    .    .    .    .    .    .    .    .    .    .    .    .    .    .    .    .    .    .    .    .    .    .    .    .    .    .    .    .    .    .    .    .    .    .    .    .    .    .    .    .    .    .    .    .    .    .    .    .    .    .    .    .    .    .    .    .    .    .    .    .    .    .    .    .    .    .    .    .    .    .    .    .    .    .    .  <63>   .    .    .    .    .    .    .    .    .    .    .    .    .    .    .    .    .    .    .    .    .    .    .    .    .    .    .    .    .    .    .    .    .    .    .    .    .    .    .    .    .    .    .    .    .    .    .    .    .    .    .    .    .    .    .    .    .    .    .    .    .    .    .    .    .    .    .    .    .    .    .    .    .    .    .    .    .    .    .    .    .    .    .    .    .    .    .    .    .    .    .    .    .    .    .    .    .    .    .    .    .    . |\n",
      "     MD-HL |    .    .    .    .    .    .    .    .    .    .    .    .    .    .    .    .    .    .    .    .    .    .    .    .    .    .    .    .    .    .    .    .    .    .    .    .    .    .    .    .    .    .    .    .    .    .    .    .    .    .    .    .    .    .    .    .    .    .    .    .    .    .    .    .    .    .    .    .    .    .    .    .    .    .    .    .    .    .    .    .    .    .    .    .    .    .    .    .    .    .    .    .    .    .    .    .    .    .    .    .    .    .    .    3    .   <1>   .    .    .    .    .    .    .    .    .    .    .    .    .    .    .    .    .    .    .    .    .    .    .    .    .    .    .    .    .    .    .    .    .    .    .    .    .    .    .    .    .    .    .    .    .    .    .    .    .    .    .    .    .    .    .    .    .    .    .    .    .    .    .    .    .    .    .    .    .    .    .    .    .    .    .    .    .    .    .    .    .    .    .    .    .    .    .    .    .    .    .    .    .    .    .    .    .    .    .    .    . |\n",
      "     MD-TL |    .    .    .    .    .    .    .    .    .    .    .    .    .    .    .    .    .    .    .    .    .    .    .    .    .    .    .    .    .    .    .    .    .    .    .    .    .    .    .    .    .    .    .    .    .    .    .    .    .    .    .    .    .    .    .    .    .    .    .    .    .    .    .    .    .    .    .    .    .    .    .    .    .    .    .    .    .    .    .    .    .    .    .    .    .    .    .    .    .    .    .    .    .    .    .    .    .    .    .    .    .    .    .    .    .    1   <.>   .    .    .    .    .    .    .    .    .    .    .    .    .    .    .    .    .    .    .    .    .    .    .    .    .    .    .    .    .    .    .    .    .    .    .    .    .    .    .    .    .    .    .    .    .    .    .    .    .    .    .    .    .    .    .    .    .    .    .    .    .    .    .    .    .    .    .    .    .    .    .    .    .    .    .    .    .    .    .    .    .    .    .    .    .    .    .    .    .    .    .    .    .    .    .    .    .    .    .    . |\n",
      "        NN |    .    .    .    .    .    .    .    .    .    .    .    .    .    .    .    .    .    .    .    .    .    .    .    .    .    .    .    .    .    .    .    1    .    .    .    .    .    .    .    .    .    .    .    .    .    .    .    .    .    .    .    .    .    .    .    .    .    .    .    .    .    .    .    .    .    .    .    .    .    .    .    .    .    2    .    .    .    .    .    .    .    .    .    .    .    .    .    .    1    .    .    .   98    .    .    .    .    .    .    2    .    .    .    8    .    .    .<7317>   .    .    .    7   13    .    4    .    .    .    .    .    1    .    .    .    .    .    .    .    .    .    .    .    .    .    .    .    .    .    .    .    .    .    .    .    .    .    .    .    .    .    .    .    .    .    .    .    .    .    .    .    .    .    .    3    .    .    4    .    .    .    .    .    .    .    .    .    .    .    1    .  137    .    2    .    2    .   64    .    .    8    .    .    .    .    .    .    .    .    .    .    .    .    .    .    .    .    . |\n",
      "       NN$ |    .    .    .    .    .    .    .    .    .    .    .    .    .    .    .    .    .    .    .    .    .    .    .    .    .    .    .    .    .    .    .    .    .    .    .    .    .    .    .    .    .    .    .    .    .    .    .    .    .    .    .    .    .    .    .    .    .    .    .    .    .    .    .    .    .    .    .    .    .    .    .    .    .    .    .    .    .    .    .    .    .    .    .    .    .    .    .    .    .    .    .    .    .    .    .    .    .    .    .    .    .    .    .    .    .    .    .   36  <39>   .    .    .    .    .    .    .    .    .    .    .    .    .    .    .    .    .    .    .    .    .    .    .    .    .    .    .    .    .    .    .    .    .    .    .    .    .    .    .    .    .    .    .    .    .    .    .    .    .    .    .    .    .    .    .    .    .    .    .    .    .    .    .    .    .    .    .    .    .    .    .    .    .    .    .    .    .    .    .    .    .    .    .    .    .    .    .    .    .    .    .    .    .    .    .    .    .    . |\n",
      "    NN$-HL |    .    .    .    .    .    .    .    .    .    .    .    .    .    .    .    .    .    .    .    .    .    .    .    .    .    .    .    .    .    .    .    .    .    .    .    .    .    .    .    .    .    .    .    .    .    .    .    .    .    .    .    .    .    .    .    .    .    .    .    .    .    .    .    .    .    .    .    .    .    .    .    .    .    .    .    .    .    .    .    .    .    .    .    .    .    .    .    .    .    .    .    .    .    .    .    .    .    .    .    .    .    .    .    .    .    .    .    1    .   <.>   .    .    .    .    .    .    .    .    .    .    .    .    .    .    .    .    .    .    .    .    .    .    .    .    .    .    .    .    .    .    .    .    .    .    .    .    .    .    .    .    .    .    .    .    .    .    .    .    .    .    .    .    .    .    .    .    .    .    .    .    .    .    .    .    .    .    .    .    .    .    .    .    .    .    .    .    .    .    .    .    .    .    .    .    .    .    .    .    .    .    .    .    .    .    .    .    . |\n",
      "    NN$-TL |    .    .    .    .    .    .    .    .    .    .    .    .    .    .    .    .    .    .    .    .    .    .    .    .    .    .    .    .    .    .    .    .    .    .    .    .    .    .    .    .    .    .    .    .    .    .    .    .    .    .    .    .    .    .    .    .    .    .    .    .    .    .    .    .    .    .    .    .    .    .    .    .    .    .    .    .    .    .    .    .    .    .    .    .    .    .    .    .    .    .    .    .    .    .    .    .    .    .    .    .    .    .    .    .    .    .    .   16    .    .  <13>   .    .    .    .    .    .    .    .    .    .    .    .    .    .    .    .    .    .    .    .    .    .    .    .    .    .    .    .    .    .    .    .    .    .    .    .    .    .    .    .    .    .    .    .    .    .    .    .    .    .    .    .    .    .    .    .    .    .    .    .    .    .    .    .    .    .    .    .    .    .    .    .    .    .    .    .    .    .    .    .    .    .    .    .    .    .    .    .    .    .    .    .    .    .    .    . |\n",
      "     NN-HL |    .    .    .    .    .    .    .    .    .    .    .    .    .    .    .    .    .    .    .    .    .    .    .    .    .    .    .    .    .    .    .    .    .    .    .    .    .    .    .    .    .    .    .    .    .    .    .    .    .    .    .    .    .    .    .    .    .    .    .    .    .    .    .    .    .    .    .    .    .    .    .    .    .    .    .    .    .    .    .    .    .    .    .    .    .    .    .    .    .    .    .    .    4    .    .    .    .    .    .    .    .    .    .    .    .    .    .  176    .    .    .   <3>   7    .    .    .    .    .    .    .    .    .    .    .    .    .    .    .    .    .    .    .    .    .    .    .    .    .    .    .    .    .    .    .    .    .    .    .    .    .    .    .    .    .    .    .    .    .    .    .    .    .    .    .    .    .    .    .    .    .    .    .    .    .    .    .    .    .    .    .    7    .    .    .    .    .    .    .    .    1    .    .    .    .    .    .    .    .    .    .    .    .    .    .    .    .    . |\n",
      "     NN-TL |    .    .    .    .    .    .    .    .    .    .    .    .    .    .    .    .    .    .    .    .    .    .    .    .    .    .    .    .    .    .    .    .    .    .    .    .    .    .    .    .    .    .    .    .    .    .    .    .    .    .    1    .    .    .    .    .    .    .    .    .    .    .    .    .    .    .    .    .    .    .    .    .    .    .    .    .    .    .    .    .    .    .    .    .    .    .    .    .    .    .    .    .    .    .    1    .    .    .    .    .    .    .    .    .    .    .    .  248    .    .    .    6 <875>   1    .    .    .    .    .    .   18    .    .    .    .    .    1    .    .    .    .    .    .    .    .    .    .    .    .    .    .    .    .    .    .    .    .    .    .    .    .    .    .    .    .    .    .    .    .    .    .    .    .    .    .    .    .    .    .    .    .    .    .    .    .    .    .    .    .    .    .    .    .    .    .    .    1    .    .    .    .    .    .    .    .    .    .    .    .    .    .    .    .    .    .    .    . |\n",
      "  NN-TL-HL |    .    .    .    .    .    .    .    .    .    .    .    .    .    .    .    .    .    .    .    .    .    .    .    .    .    .    .    .    .    .    .    .    .    .    .    .    .    .    .    .    .    .    .    .    .    .    .    .    .    .    .    .    .    .    .    .    .    .    .    .    .    .    .    .    .    .    .    .    .    .    .    .    .    .    .    .    .    .    .    .    .    .    .    .    .    .    .    .    .    .    .    .    .    .    .    .    .    .    .    .    .    .    .    .    .    .    .    2    .    .    .    1    8   <.>   .    .    .    .    .    .    .    .    .    .    .    .    .    .    .    .    .    .    .    .    .    .    .    .    .    .    .    .    .    .    .    .    .    .    .    .    .    .    .    .    .    .    .    .    .    .    .    .    .    .    .    .    .    .    .    .    .    .    .    .    .    .    .    .    .    .    .    .    .    .    .    .    .    .    .    .    .    .    .    .    .    .    .    .    .    .    .    .    .    .    .    .    . |\n",
      "       NNS |    .    .    .    .    .    .    .    .    .    .    .    .    .    .    .    .    .    .    .    .    .    .    .    .    .    .    .    .    .    .    .    .    .    .    .    .    .    .    .    .    .    .    .    .    .    .    .    .    .    .    .    .    .    .    .    .    .    .    .    .    .    .    .    .    .    .    .    .    .    .    .    .    .    .    .    .    .    .    .    .    .    .    .    .    .    .    .    .    .    .    .    .    .    .    .    .    .    .    .    .    .    .    .    .    .    .    .  901    .    .    .    .    .    .<2019>   .    .   16    3    .    1    .    .    .    .    .    .    .    .    .    .    .    .    .    .    .    .    .    .    .    .    .    .    .    .    .    .    .    .    .    .    .    .    .    .    .    .    .    .    .    .    .    .    .    .    .    .    .    .    .    .    .    .    .    .    .    .    .    .    .    .    .    .    .    .    .    .    .    .    .    .    .    .   30    2    .    .    .    .    .    .    .    .    .    .    .    . |\n",
      "      NNS$ |    .    .    .    .    .    .    .    .    .    .    .    .    .    .    .    .    .    .    .    .    .    .    .    .    .    .    .    .    .    .    .    .    .    .    .    .    .    .    .    .    .    .    .    .    .    .    .    .    .    .    .    .    .    .    .    .    .    .    .    .    .    .    .    .    .    .    .    .    .    .    .    .    .    .    .    .    .    .    .    .    .    .    .    .    .    .    .    .    .    .    .    .    .    .    .    .    .    .    .    .    .    .    .    .    .    .    .   14    .    .    .    .    .    .    .   <7>   .    .    .    .    .    .    .    .    .    .    .    .    .    .    .    .    .    .    .    .    .    .    .    .    .    .    .    .    .    .    .    .    .    .    .    .    .    .    .    .    .    .    .    .    .    .    .    .    .    .    .    .    .    .    .    .    .    .    .    .    .    .    .    .    .    .    .    .    .    .    .    .    .    .    .    .    .    .    .    .    .    .    .    .    .    .    .    .    .    .    . |\n",
      "   NNS$-TL |    .    .    .    .    .    .    .    .    .    .    .    .    .    .    .    .    .    .    .    .    .    .    .    .    .    .    .    .    .    .    .    .    .    .    .    .    .    .    .    .    .    .    .    .    .    .    .    .    .    .    .    .    .    .    .    .    .    .    .    .    .    .    .    .    .    .    .    .    .    .    .    .    .    .    .    .    .    .    .    .    .    .    .    .    .    .    .    .    .    .    .    .    .    .    .    .    .    .    .    .    .    .    .    .    .    .    .    7    .    .    .    .    .    .    .    .   <1>   .    .    .    .    .    .    .    .    .    .    .    .    .    .    .    .    .    .    .    .    .    .    .    .    .    .    .    .    .    .    .    .    .    .    .    .    .    .    .    .    .    .    .    .    .    .    .    .    .    .    .    .    .    .    .    .    .    .    .    .    .    .    .    .    .    .    .    .    .    .    .    .    .    .    .    .    .    .    .    .    .    .    .    .    .    .    .    .    .    . |\n",
      "    NNS-HL |    .    .    .    .    .    .    .    .    .    .    .    .    .    .    .    .    .    .    .    .    .    .    .    .    .    .    .    .    .    .    .    .    .    .    .    .    .    .    .    .    .    .    .    .    .    .    .    .    .    .    .    .    .    .    .    .    .    .    .    .    .    .    .    .    .    .    .    .    .    .    .    .    .    .    .    .    .    .    .    .    .    .    .    .    .    .    .    .    .    .    .    .    .    .    .    .    .    .    .    .    .    .    .    .    .    .    .   23    .    .    .    .    .    .   22    .    .   <.>   1    .    .    .    .    .    .    .    .    .    .    .    .    .    .    .    .    .    .    .    .    .    .    .    .    .    .    .    .    .    .    .    .    .    .    .    .    .    .    .    .    .    .    .    .    .    .    .    .    .    .    .    .    .    .    .    .    .    .    .    .    .    .    .    .    .    .    .    .    .    .    .    .    .    .    4    .    .    .    .    .    .    .    .    .    .    .    .    . |\n",
      "    NNS-TL |    .    .    .    .    .    .    .    .    .    .    .    .    .    .    .    .    .    .    .    .    .    .    .    .    .    .    .    .    .    .    .    .    .    .    .    .    .    .    .    .    .    .    .    .    .    .    .    .    .    .    .    .    .    .    .    .    .    .    .    .    .    .    .    .    .    .    .    .    .    .    .    .    .    .    .    .    .    .    .    .    .    .    .    .    .    .    .    .    .    .    .    .    .    .    .    .    .    .    .    .    .    .    .    .    .    .    .   52    .    .    .    .    .    .    6    .    .    . <127>   .    .    .    .    .    .    .    .    1    .    .    .    .    .    .    .    .    .    .    .    .    .    .    .    .    .    .    .    .    .    .    .    .    .    .    .    .    .    .    .    .    .    .    .    .    .    .    .    .    .    .    .    .    .    .    .    .    .    .    .    .    .    .    .    .    .    .    .    .    .    .    .    .    .    .    .    .    .    .    .    .    .    .    .    .    .    .    . |\n",
      " NNS-TL-HL |    .    .    .    .    .    .    .    .    .    .    .    .    .    .    .    .    .    .    .    .    .    .    .    .    .    .    .    .    .    .    .    .    .    .    .    .    .    .    .    .    .    .    .    .    .    .    .    .    .    .    .    .    .    .    .    .    .    .    .    .    .    .    .    .    .    .    .    .    .    .    .    .    .    .    .    .    .    .    .    .    .    .    .    .    .    .    .    .    .    .    .    .    .    .    .    .    .    .    .    .    .    .    .    .    .    .    .    .    .    .    .    .    .    .    .    .    .    .    6   <.>   .    .    .    .    .    .    .    .    .    .    .    .    .    .    .    .    .    .    .    .    .    .    .    .    .    .    .    .    .    .    .    .    .    .    .    .    .    .    .    .    .    .    .    .    .    .    .    .    .    .    .    .    .    .    .    .    .    .    .    .    .    .    .    .    .    .    .    .    .    .    .    .    .    .    .    .    .    .    .    .    .    .    .    .    .    .    . |\n",
      "        NP |    .    .    .    .    .    .    .    .    .    .    .    .    1    .    .    .    .    .    .    .    .    .    .    .    .    .    .    .    .    .    .    .    .    .    .    .    .    .    .    .    .    .    .    .    .    .    .    .    .    .    .    .    .    .    .    .    .    .    .    .    .    .    .    .    .    .    .    .    .    .    .    .    .    .    .    .    .    .    .    .    .    .    .    .    .    .    .    .    .    .    .    .   17    .    2    .    .    .    .    .    .    .    .    .    .    .    .  623    .    .    .    .   13    .    .    .    .    .    .    .<1161>   .    .    .    .   10   57    .    .    .    .    .    .    .    .    .    .    .    .    .    .    .    .    .    .    .    .    .    .    .    .    .    .    .    .    .    .    .    .    .    .    .    .    .    .    .    .    .    .    .    .    .    .    .    .    .    .    .    .    .    .    .    .    .    .    .    .    .    .    .    .    .    .    .    .    .    .    .    .    .    .    .    .    .    .    .    . |\n",
      "       NP$ |    .    .    .    .    .    .    .    .    .    .    .    .    .    .    .    .    .    .    .    .    .    .    .    .    .    .    .    .    .    .    .    .    .    .    .    .    .    .    .    .    .    .    .    .    .    .    .    .    .    .    .    .    .    .    .    .    .    .    .    .    .    .    .    .    .    .    .    .    .    .    .    .    .    .    .    .    .    .    .    .    .    .    .    .    .    .    .    .    .    .    .    .    .    .    .    .    .    .    .    .    .    .    .    .    .    .    .  109    .    .    .    .    .    .    .    .    .    .    .    .    .  <47>   .    .    .    .    .    .    .    .    .    .    .    .    .    .    .    .    .    .    .    .    .    .    .    .    .    .    .    .    .    .    .    .    .    .    .    .    .    .    .    .    .    .    .    .    .    .    .    .    .    .    .    .    .    .    .    .    .    .    .    .    .    .    .    .    .    .    .    .    .    .    .    .    .    .    .    .    .    .    .    .    .    .    .    .    . |\n",
      "    NP$-HL |    .    .    .    .    .    .    .    .    .    .    .    .    .    .    .    .    .    .    .    .    .    .    .    .    .    .    .    .    .    .    .    .    .    .    .    .    .    .    .    .    .    .    .    .    .    .    .    .    .    .    .    .    .    .    .    .    .    .    .    .    .    .    .    .    .    .    .    .    .    .    .    .    .    .    .    .    .    .    .    .    .    .    .    .    .    .    .    .    .    .    .    .    .    .    .    .    .    .    .    .    .    .    .    .    .    .    .    4    .    .    .    .    .    .    .    .    .    .    .    .    .    .   <.>   .    .    .    .    .    .    .    .    .    .    .    .    .    .    .    .    .    .    .    .    .    .    .    .    .    .    .    .    .    .    .    .    .    .    .    .    .    .    .    .    .    .    .    .    .    .    .    .    .    .    .    .    .    .    .    .    .    .    .    .    .    .    .    .    .    .    .    .    .    .    .    .    .    .    .    .    .    .    .    .    .    .    .    . |\n",
      "    NP$-TL |    .    .    .    .    .    .    .    .    .    .    .    .    .    .    .    .    .    .    .    .    .    .    .    .    .    .    .    .    .    .    .    .    .    .    .    .    .    .    .    .    .    .    .    .    .    .    .    .    .    .    .    .    .    .    .    .    .    .    .    .    .    .    .    .    .    .    .    .    .    .    .    .    .    .    .    .    .    .    .    .    .    .    .    .    .    .    .    .    .    .    .    .    .    .    .    .    .    .    .    .    .    .    .    .    .    .    .    5    .    .    .    .    .    .    .    .    .    .    .    .    .    3    .   <.>   .    .    .    .    .    .    .    .    .    .    .    .    .    .    .    .    .    .    .    .    .    .    .    .    .    .    .    .    .    .    .    .    .    .    .    .    .    .    .    .    .    .    .    .    .    .    .    .    .    .    .    .    .    .    .    .    .    .    .    .    .    .    .    .    .    .    .    .    .    .    .    .    .    .    .    .    .    .    .    .    .    .    . |\n",
      "    NP+BEZ |    .    .    .    .    .    .    .    .    .    .    .    .    .    .    .    .    .    .    .    .    .    .    .    .    .    .    .    .    .    .    .    .    .    .    .    .    .    .    .    .    .    .    .    .    .    .    .    .    .    .    .    .    .    .    .    .    .    .    .    .    .    .    .    .    .    .    .    .    .    .    .    .    .    .    .    .    .    .    .    .    .    .    .    .    .    .    .    .    .    .    .    .    .    .    .    .    .    .    .    .    .    .    .    .    .    .    .    1    .    .    .    .    .    .    .    .    .    .    .    .    .    .    .    .   <.>   .    .    .    .    .    .    .    .    .    .    .    .    .    .    .    .    .    .    .    .    .    .    .    .    .    .    .    .    .    .    .    .    .    .    .    .    .    .    .    .    .    .    .    .    .    .    .    .    .    .    .    .    .    .    .    .    .    .    .    .    .    .    .    .    .    .    .    .    .    .    .    .    .    .    .    .    .    .    .    .    .    . |\n",
      "     NP-HL |    .    .    .    .    .    .    .    .    .    .    .    .    .    .    .    .    .    .    .    .    .    .    .    .    .    .    .    .    .    .    .    .    .    .    .    .    .    .    .    .    .    .    .    .    .    .    .    .    .    .    .    .    .    .    .    .    .    .    .    .    .    .    .    .    .    .    .    .    .    .    .    .    .    .    .    .    .    .    .    .    .    .    .    .    .    .    .    .    .    .    .    .    1    .    .    .    .    .    .    .    .    .    .    .    .    .    .   32    .    .    .    .    1    .    .    .    .    .    .    .   33    .    .    .    .   <5>  11    .    .    .    .    .    .    .    .    .    .    .    .    .    .    .    .    .    .    .    .    .    .    .    .    .    .    .    .    .    .    .    .    .    .    .    .    .    .    .    .    .    .    .    .    .    .    .    .    .    .    .    .    .    .    .    .    .    .    .    .    .    .    .    .    .    .    .    .    .    .    .    .    .    .    .    .    .    .    .    . |\n",
      "     NP-TL |    .    .    .    .    .    .    .    .    .    .    .    .    .    .    .    .    .    .    .    .    .    .    .    2    .    .    .    .    .    .    .    .    .    .    .    .    .    .    .    .    .    .    .    .    .    .    .    .    .    .    .    .    .    .    .    .    .    .    .    .    .    .    .    .    .    .    .    .    .    .    .    .    .    .    .    .    .    .    .    .    .    .    .    .    .    .    .    .    .    .    .    .    4    .    1    .    .    .    .    .    .    .    .    .    .    .    .   71    .    .    .    .    .    .    .    .    .    .    .    .  130    .    .    .    .    2 <121>   .    .    .    .    .    .    .    .    .    .    .    .    .    .    .    .    .    .    .    .    .    .    .    .    .    .    .    .    .    .    .    .    .    .    .    .    .    .    .    .    .    .    .    .    .    .    .    .    .    .    .    .    .    .    .    .    .    .    .    .    .    .    .    .    .    .    .    .    .    .    .    .    .    .    .    .    .    .    .    . |\n",
      "       NPS |    .    .    .    .    .    .    .    .    .    .    .    .    .    .    .    .    .    .    .    .    .    .    .    .    .    .    .    .    .    .    .    .    .    .    .    .    .    .    .    .    .    .    .    .    .    .    .    .    .    .    .    .    .    .    .    .    .    .    .    .    .    .    .    .    .    .    .    .    .    .    .    .    .    .    .    .    .    .    .    .    .    .    .    .    .    .    .    .    .    .    .    .   12    .    .    .    .    .    .    .    .    .    .    .    .    .    .   52    .    .    .    .    .    .    .    .    .    .    .    .    .    .    .    .    .    .    .  <50>   .    .    .    .    .    .    .    .    .    .    .    .    .    .    .    .    .    .    .    .    .    .    .    .    .    .    .    .    .    .    .    .    .    .    .    .    .    .    .    .    .    .    .    .    .    .    .    .    .    .    .    .    .    .    .    .    .    .    .    .    .    .    .    .    .    .    .    .    .    .    .    .    .    .    .    .    .    .    . |\n",
      "   NPS$-HL |    .    .    .    .    .    .    .    .    .    .    .    .    .    .    .    .    .    .    .    .    .    .    .    .    .    .    .    .    .    .    .    .    .    .    .    .    .    .    .    .    .    .    .    .    .    .    .    .    .    .    .    .    .    .    .    .    .    .    .    .    .    .    .    .    .    .    .    .    .    .    .    .    .    .    .    .    .    .    .    .    .    .    .    .    .    .    .    .    .    .    .    .    .    .    .    .    .    .    .    .    .    .    .    .    .    .    .    1    .    .    .    .    .    .    .    .    .    .    .    .    .    .    .    .    .    .    .    .   <.>   .    .    .    .    .    .    .    .    .    .    .    .    .    .    .    .    .    .    .    .    .    .    .    .    .    .    .    .    .    .    .    .    .    .    .    .    .    .    .    .    .    .    .    .    .    .    .    .    .    .    .    .    .    .    .    .    .    .    .    .    .    .    .    .    .    .    .    .    .    .    .    .    .    .    .    .    .    . |\n",
      "    NPS-HL |    .    .    .    .    .    .    .    .    .    .    .    .    .    .    .    .    .    .    .    .    .    .    .    .    .    .    .    .    .    .    .    .    .    .    .    .    .    .    .    .    .    .    .    .    .    .    .    .    .    .    .    .    .    .    .    .    .    .    .    .    .    .    .    .    .    .    .    .    .    .    .    .    .    .    .    .    .    .    .    .    .    .    .    .    .    .    .    .    .    .    .    .    .    .    .    .    .    .    .    .    .    .    .    .    .    .    .    2    .    .    .    .    .    .    .    .    .    .    .    .    .    .    .    .    .    .    .    .    .   <.>   .    .    .    .    .    .    .    .    .    .    .    .    .    .    .    .    .    .    .    .    .    .    .    .    .    .    .    .    .    .    .    .    .    .    .    .    .    .    .    .    .    .    .    .    .    .    .    .    .    .    .    .    .    .    .    .    .    .    .    .    .    .    .    .    .    .    .    .    .    .    .    .    .    .    .    .    . |\n",
      "    NPS-TL |    .    .    .    .    .    .    .    .    .    .    .    .    .    .    .    .    .    .    .    .    .    .    .    .    .    .    .    .    .    .    .    .    .    .    .    .    .    .    .    .    .    .    .    .    .    .    .    .    .    .    .    .    .    .    .    .    .    .    .    .    .    .    .    .    .    .    .    .    .    .    .    .    .    .    .    .    .    .    .    .    .    .    .    .    .    .    .    .    .    .    .    .    .    .    .    .    .    .    .    .    .    .    .    .    .    .    .    1    .    .    .    .    .    .    .    .    .    .    .    .    .    .    .    .    .    .    .    1    .    .   <.>   .    .    .    .    .    .    .    .    .    .    .    .    .    .    .    .    .    .    .    .    .    .    .    .    .    .    .    .    .    .    .    .    .    .    .    .    .    .    .    .    .    .    .    .    .    .    .    .    .    .    .    .    .    .    .    .    .    .    .    .    .    .    .    .    .    .    .    .    .    .    .    .    .    .    .    . |\n",
      "        NR |    .    .    .    .    .    .    .    .    .    .    .    .    .    .    .    .    .    .    .    .    .    .    .    .    .    .    .    .    .    .    .    .    .    .    .    .    .    .    .    .    .    .    .    .    .    .    .    .    .    .    .    .    .    .    .    .    .    .    .    .    .    .    .    .    .    .    .    .    .    .    .    .    .    .    .    .    .    .    .    .    .    .    .    .    .    .    .    .    .    .    .    .    3    .    1    .    .    .    .    .    .    .    .    .    .    .    .    5    .    .    .    .    .    .    .    .    .    .    .    .    .    .    .    .    .    .    .    .    .    .    .  <43>   .    .    .    .    .    .    .    .    .    .    .    .    .    .    .    .    .    .    .    .    .    .    .    .    .    .    .    .    .    .    .    .    .    .    .    .    .    .    .    .    .    .    .    .    .    .    .    .    .    .    .    .    .    .    .    .    .    .    .    .    .    .    .    .    .    .    .    .    .    .    .    .    .    .    . |\n",
      "       NR$ |    .    .    .    .    .    .    .    .    .    .    .    .    .    .    .    .    .    .    .    .    .    .    .    .    .    .    .    .    .    .    .    .    .    .    .    .    .    .    .    .    .    .    .    .    .    .    .    .    .    .    .    .    .    .    .    .    .    .    .    .    .    .    .    .    .    .    .    .    .    .    .    .    .    .    .    .    .    .    .    .    .    .    .    .    .    .    .    .    .    .    .    .    .    .    .    .    .    .    .    .    .    .    .    .    .    .    .    .    .    .    .    .    .    .    .    .    .    .    .    .    .    .    .    .    .    .    .    .    .    .    .    .   <3>   .    .    .    .    .    .    .    .    .    .    .    .    .    .    .    .    .    .    .    .    .    .    .    .    .    .    .    .    .    .    .    .    .    .    .    .    .    .    .    .    .    .    .    .    .    .    .    .    .    .    .    .    .    .    .    .    .    .    .    .    .    .    .    .    .    .    .    .    .    .    .    .    .    . |\n",
      "    NR$-TL |    .    .    .    .    .    .    .    .    .    .    .    .    .    .    .    .    .    .    .    .    .    .    .    .    .    .    .    .    .    .    .    .    .    .    .    .    .    .    .    .    .    .    .    .    .    .    .    .    .    .    .    .    .    .    .    .    .    .    .    .    .    .    .    .    .    .    .    .    .    .    .    .    .    .    .    .    .    .    .    .    .    .    .    .    .    .    .    .    .    .    .    .    .    .    .    .    .    .    .    .    .    .    .    .    .    .    .    .    .    .    .    .    .    .    .    .    .    .    .    .    .    .    .    .    .    .    .    .    .    .    .    .    3   <.>   .    .    .    .    .    .    .    .    .    .    .    .    .    .    .    .    .    .    .    .    .    .    .    .    .    .    .    .    .    .    .    .    .    .    .    .    .    .    .    .    .    .    .    .    .    .    .    .    .    .    .    .    .    .    .    .    .    .    .    .    .    .    .    .    .    .    .    .    .    .    .    .    . |\n",
      "     NR-TL |    .    .    .    .    .    .    .    .    .    .    .    .    .    .    .    .    .    .    .    .    .    .    .    .    .    .    .    .    .    .    .    .    .    .    .    .    .    .    .    .    .    .    .    .    .    .    .    .    .    .    .    .    .    .    .    .    .    .    .    .    .    .    .    .    .    .    .    .    .    .    .    .    .    .    .    .    .    .    .    .    .    .    .    .    .    .    .    .    .    .    .    .    .    .   10    .    .    .    .    .    .    .    .    .    .    .    .    .    .    .    .    .    1    .    .    .    .    .    .    .    .    .    .    .    .    .    .    .    .    .    .    .    .    .  <21>   .    .    .    .    .    .    .    .    .    .    .    .    .    .    .    .    .    .    .    .    .    .    .    .    .    .    .    .    .    .    .    .    .    .    .    .    .    .    .    .    .    .    .    .    .    .    .    .    .    .    .    .    .    .    .    .    .    .    .    .    .    .    .    .    .    .    .    .    .    .    .    . |\n",
      "       NRS |    .    .    .    .    .    .    .    .    .    .    .    .    .    .    .    .    .    .    .    .    .    .    .    .    .    .    .    .    .    .    .    .    .    .    .    .    .    .    .    .    .    .    .    .    .    .    .    .    .    .    .    .    .    .    .    .    .    .    .    .    .    .    .    .    .    .    .    .    .    .    .    .    .    .    .    .    .    .    .    .    .    .    .    .    .    .    .    .    .    .    .    .    .    .    .    .    .    .    .    .    .    .    .    .    .    .    .    1    .    .    .    .    .    .    .    .    .    .    .    .    .    .    .    .    .    .    .    .    .    .    .    .    .    .    .   <.>   .    .    .    .    .    .    .    .    .    .    .    .    .    .    .    .    .    .    .    .    .    .    .    .    .    .    .    .    .    .    .    .    .    .    .    .    .    .    .    .    .    .    .    .    .    .    .    .    .    .    .    .    .    .    .    .    .    .    .    .    .    .    .    .    .    .    .    .    .    .    . |\n",
      "        OD |    .    .    .    .    .    .    .    .    .    .    .    .    .    .    .    .    .    .    .    .    .    .    .    .    .    .    .    .    .    .    .    .    .    .    .    .    .    .    .    .    .    .    .    .    .    .    .    .    .    .    .    .    .    .    .    .    .    .    .    .    .    .    .    .    .    .    .    .    .    .    .    .    .    .    .    .    .    .    .    .    .    .    .    .    .    .    .    .    .    .    .    .    .    .    .    .    .    .    .    .    .    .    .    .    .    .    .    6    .    .    .    .    .    .    .    .    .    .    .    .    .    .    .    .    .    .    .    .    .    .    .    .    .    .    .    .  <83>   .    .    .    .    .    .    .    .    .    .    .    .    .    .    .    .    .    .    .    .    .    .    .    .    .    .    .    .    .    3    .    5    .    .    .    .    .    .    .    .    .    .    .    .    .    .    .    .    .    .    .    .    .    .    .    .    .    .    .    .    .    .    .    .    .    .    .    .    .    . |\n",
      "     OD-TL |    .    .    .    .    .    .    .    .    .    .    .    .    .    .    .    .    .    .    .    .    .    .    .    .    .    .    .    .    .    .    .    .    .    .    .    .    .    .    .    .    .    .    .    .    .    .    .    .    .    .    .    .    .    .    .    .    .    .    .    .    .    .    .    .    .    .    .    .    .    .    .    .    .    .    .    .    .    .    .    .    .    .    .    .    .    .    .    .    .    .    .    .    .    .    .    .    .    .    .    .    .    .    .    .    .    .    .   12    .    .    .    .    .    .    .    .    .    .    .    .    .    .    .    .    .    .    .    .    .    .    .    .    .    .    .    .    2   <2>   .    .    .    .    .    .    .    .    .    .    .    .    .    .    .    .    .    .    .    .    .    .    .    .    .    .    .    .    .    .    .    .    .    .    .    .    .    .    .    .    .    .    .    .    .    .    .    .    .    .    .    .    .    .    .    .    .    .    .    .    .    .    .    .    .    .    .    .    . |\n",
      "        PN |    .    .    .    .    .    .    .    .    .    .    .    .    .    .    .    .    .    .    .    .    .    .    .    .    .    .    .    .    .    .    .    .    .    .    .    .    .    .    .    .    .    .    .    .    .   20    .    .    .    .    .    .    .    .    .    .    .    .    .    .    .    .    .    .    .    .    .    .    .    .    .    .    .    .    .    .    .    .    .    .    .    .    .    .    .    .    .    .    .    .    .    .    .    .    .    .    .    .    .    .    .    .    .    .    .    .    .    3    .    .    .    .    .    .    .    .    .    .    .    .    .    .    .    .    .    .    .    .    .    .    .    .    .    .    .    .    .    .  <84>   .    .    .    .    .    .    .    .    .    .    .    .    .    .    .    .    .    .    .    .    .    .    .    .    .    .    .    .    .    .    .    .    .    .    .    .    .    .    .    .    .    .    .    .    .    .    .    .    .    .    .    .    .    .    .    .    .    .    .    .    .    .    .    .    .    .    .    . |\n",
      "       PN$ |    .    .    .    .    .    .    .    .    .    .    .    .    .    .    .    .    .    .    .    .    .    .    .    .    .    .    .    .    .    .    .    .    .    .    .    .    .    .    .    .    .    .    .    .    .    .    .    .    .    .    .    .    .    .    .    .    .    .    .    .    .    .    .    .    .    .    .    .    .    .    .    .    .    .    .    .    .    .    .    .    .    .    .    .    .    .    .    .    .    .    .    .    .    .    .    .    .    .    .    .    .    .    .    .    .    .    .    1    .    .    .    .    .    .    .    .    .    .    .    .    .    .    .    .    .    .    .    .    .    .    .    .    .    .    .    .    .    .    .   <1>   .    .    .    .    .    .    .    .    .    .    .    .    .    .    .    .    .    .    .    .    .    .    .    .    .    .    .    .    .    .    .    .    .    .    .    .    .    .    .    .    .    .    .    .    .    .    .    .    .    .    .    .    .    .    .    .    .    .    .    .    .    .    .    .    .    .    . |\n",
      "     PN-HL |    .    .    .    .    .    .    .    .    .    .    .    .    .    .    .    .    .    .    .    .    .    .    .    .    .    .    .    .    .    .    .    .    .    .    .    .    .    .    .    .    .    .    .    .    .    .    .    .    .    .    .    .    .    .    .    .    .    .    .    .    .    .    .    .    .    .    .    .    .    .    .    .    .    .    .    .    .    .    .    .    .    .    .    .    .    .    .    .    .    .    .    .    .    .    .    .    .    .    .    .    .    .    .    .    .    .    .    .    .    .    .    .    .    .    .    .    .    .    .    .    .    .    .    .    .    .    .    .    .    .    .    .    .    .    .    .    .    .    1    .   <.>   .    .    .    .    .    .    .    .    .    .    .    .    .    .    .    .    .    .    .    .    .    .    .    .    .    .    .    .    .    .    .    .    .    .    .    .    .    .    .    .    .    .    .    .    .    .    .    .    .    .    .    .    .    .    .    .    .    .    .    .    .    .    .    .    .    . |\n",
      "       PP$ |    .    .    .    .    .    .    .    .    .    .    .    .    .    .    .    .    .    .    .    .    .    .    .    .    .    .    .    .    .    .    .    .    .    .    .    .    .    .    .    .    .    .    .    .    .    .    .    .    .    .    .    .    .    .    .    .    .    .    .    .    .    .    .    .    .    .    .    .    .    .    .    .    .    .    .    .    .    .    .    .    .    .    .    .    .    .    .    .    .    .    .    .    .    .    .    .    .    .    .    .    .    .    .    .    .    .    .    4    .    .    .    .    .    .    .    .    .    .    .    .    .    .    .    .    .    .    .    .    .    .    .    .    .    .    .    .    .    .    .    .    . <762>   .    .    .    .    .    .    5    .    .    .    .    .    .    .    .    .    .    .    .    .    .    .    .    .    .    .    .    .    .    .    .    .    .    .    .    .    .    .    .    .    .    .    .    .    .    .    .    .    .    .    .    .    .    .    .    .    .    .    .    .    .    .    .    .    . |\n",
      "      PP$$ |    .    .    .    .    .    .    .    .    .    .    .    .    .    .    .    .    .    .    .    .    .    .    .    .    .    .    .    .    .    .    .    .    .    .    .    .    .    .    .    .    .    .    .    .    .    .    .    .    .    .    .    .    .    .    .    .    .    .    .    .    .    .    .    .    .    .    .    .    .    .    .    .    .    .    .    .    .    .    .    .    .    .    .    .    .    .    .    .    .    .    .    .    .    .    .    .    .    .    .    .    .    .    .    .    .    .    .    5    .    .    .    .    .    .    .    .    .    .    .    .    .    .    .    .    .    .    .    .    .    .    .    .    .    .    .    .    .    .    .    .    .    1   <4>   .    .    .    .    .    .    .    .    .    .    .    .    .    .    .    .    .    .    .    .    .    .    .    .    .    .    .    .    .    .    .    .    .    .    .    .    .    .    .    .    .    .    .    .    .    .    .    .    .    .    .    .    .    .    .    .    .    .    .    .    .    .    .    . |\n",
      "    PP$-HL |    .    .    .    .    .    .    .    .    .    .    .    .    .    .    .    .    .    .    .    .    .    .    .    .    .    .    .    .    .    .    .    .    .    .    .    .    .    .    .    .    .    .    .    .    .    .    .    .    .    .    .    .    .    .    .    .    .    .    .    .    .    .    .    .    .    .    .    .    .    .    .    .    .    .    .    .    .    .    .    .    .    .    .    .    .    .    .    .    .    .    .    .    .    .    .    .    .    .    .    .    .    .    .    .    .    .    .    .    .    .    .    .    .    .    .    .    .    .    .    .    .    .    .    .    .    .    .    .    .    .    .    .    .    .    .    .    .    .    .    .    .    1    .   <.>   .    .    .    .    .    .    .    .    .    .    .    .    .    .    .    .    .    .    .    .    .    .    .    .    .    .    .    .    .    .    .    .    .    .    .    .    .    .    .    .    .    .    .    .    .    .    .    .    .    .    .    .    .    .    .    .    .    .    .    .    .    .    . |\n",
      "    PP$-TL |    .    .    .    .    .    .    .    .    .    .    .    .    .    .    .    .    .    .    .    .    .    .    .    .    .    .    .    .    .    .    .    .    .    .    .    .    .    .    .    .    .    .    .    .    .    .    .    .    .    .    .    .    .    .    .    .    .    .    .    .    .    .    .    .    .    .    .    .    .    .    .    .    .    .    .    .    .    .    .    .    .    .    .    .    .    .    .    .    .    .    .    .    .    .    .    .    .    .    .    .    .    .    .    .    .    .    .    .    .    .    .    .    .    .    .    .    .    .    .    .    .    .    .    .    .    .    .    .    .    .    .    .    .    .    .    .    .    .    .    .    .    4    .    .   <.>   .    .    .    .    .    .    .    .    .    .    .    .    .    .    .    .    .    .    .    .    .    .    .    .    .    .    .    .    .    .    .    .    .    .    .    .    .    .    .    .    .    .    .    .    .    .    .    .    .    .    .    .    .    .    .    .    .    .    .    .    .    . |\n",
      "       PPL |    .    .    .    .    .    .    .    .    .    .    .    .    .    .    .    .    .    .    .    .    .    .    .    .    .    .    .    .    .    .    .    .    .    .    .    .    .    .    .    .    .    .    .    .    .    .    .    .    .    .    .    .    .    .    .    .    .    .    .    .    .    .    .    .    .    .    .    .    .    .    .    .    .    .    .    .    .    .    .    .    .    .    .    .    .    .    .    .    .    .    .    .    .    .    .    .    .    .    .    .    .    .    .    .    .    .    .    .    .    .    .    .    .    .    .    .    .    .    .    .    .    .    .    .    .    .    .    .    .    .    .    .    .    .    .    .    .    .    .    .    .    .    .    .    .  <56>   .    .    .    .    .    .    .    .    .    .    .    .    .    .    .    .    .    .    .    .    .    .    .    .    .    .    .    .    .    .    .    .    .    .    .    .    .    .    .    .    .    .    .    .    .    .    .    .    .    .    .    .    .    .    .    .    .    .    .    .    . |\n",
      "    PPL-HL |    .    .    .    .    .    .    .    .    .    .    .    .    .    .    .    .    .    .    .    .    .    .    .    .    .    .    .    .    .    .    .    .    .    .    .    .    .    .    .    .    .    .    .    .    .    .    .    .    .    .    .    .    .    .    .    .    .    .    .    .    .    .    .    .    .    .    .    .    .    .    .    .    .    .    .    .    .    .    .    .    .    .    .    .    .    .    .    .    .    .    .    .    .    .    .    .    .    .    .    .    .    .    .    .    .    .    .    .    .    .    .    .    .    .    .    .    .    .    .    .    .    .    .    .    .    .    .    .    .    .    .    .    .    .    .    .    .    .    .    .    .    .    .    .    .    1   <.>   .    .    .    .    .    .    .    .    .    .    .    .    .    .    .    .    .    .    .    .    .    .    .    .    .    .    .    .    .    .    .    .    .    .    .    .    .    .    .    .    .    .    .    .    .    .    .    .    .    .    .    .    .    .    .    .    .    .    .    . |\n",
      "      PPLS |    .    .    .    .    .    .    .    .    .    .    .    .    .    .    .    .    .    .    .    .    .    .    .    .    .    .    .    .    .    .    .    .    .    .    .    .    .    .    .    .    .    .    .    .    .    .    .    .    .    .    .    .    .    .    .    .    .    .    .    .    .    .    .    .    .    .    .    .    .    .    .    .    .    .    .    .    .    .    .    .    .    .    .    .    .    .    .    .    .    .    .    .    .    .    .    .    .    .    .    .    .    .    .    .    .    .    .    .    .    .    .    .    .    .    .    .    .    .    .    .    .    .    .    .    .    .    .    .    .    .    .    .    .    .    .    .    .    .    .    .    .    .    .    .    .    .    .  <26>   .    .    .    .    .    .    .    .    .    .    .    .    .    .    .    .    .    .    .    .    .    .    .    .    .    .    .    .    .    .    .    .    .    .    .    .    .    .    .    .    .    .    .    .    .    .    .    .    .    .    .    .    .    .    .    .    .    .    . |\n",
      "       PPO |    .    .    .    .    .    .    .    .    .    .    .    .    .    .    .    .    .    .    .    .    .    .    .    .    .    .    .    .    .    .    .    .    .    .    .    .    .    .    .    .    .    .    .    .    .    .    .    .    .    .    .    .    .    .    .    .    .    .    .    .    .    .    .    .    .    .    .    .    .    .    .    .    .    .    .    .    .    .    .    .    .    .    .    .    .    .    .    .    .    .    .    .    .    .    .    .    .    .    .    .    .    .    .    .    .    .    .    1    .    .    .    .    .    .    .    .    .    .    .    .    .    .    .    .    .    .    .    .    .    .    .    .    .    .    .    .    .    .    .    .    .    9    .    .    .    .    .    . <403>   .    .   28    .    .    .   12    .    .    .    .    .    .    .    .    .    .    .    .    .    .    .    .    .    .    .    .    .    .    .    .    .    .    .    .    .    .    .    .    .    .    .    .    .    .    .    .    .    .    .    .    .    .    .    .    .    .    . |\n",
      "    PPO-HL |    .    .    .    .    .    .    .    .    .    .    .    .    .    .    .    .    .    .    .    .    .    .    .    .    .    .    .    .    .    .    .    .    .    .    .    .    .    .    .    .    .    .    .    .    .    .    .    .    .    .    .    .    .    .    .    .    .    .    .    .    .    .    .    .    .    .    .    .    .    .    .    .    .    .    .    .    .    .    .    .    .    .    .    .    .    .    .    .    .    .    .    .    .    .    .    .    .    .    .    .    .    .    .    .    .    .    .    .    .    .    .    .    .    .    .    .    .    .    .    .    .    .    .    .    .    .    .    .    .    .    .    .    .    .    .    .    .    .    .    .    .    .    .    .    .    .    .    .    2   <.>   .    .    .    .    .    .    .    .    .    .    .    .    .    .    .    .    .    .    .    .    .    .    .    .    .    .    .    .    .    .    .    .    .    .    .    .    .    .    .    .    .    .    .    .    .    .    .    .    .    .    .    .    .    .    .    .    . |\n",
      "    PPO-TL |    .    .    .    .    .    .    .    .    .    .    .    .    .    .    .    .    .    .    .    .    .    .    .    .    .    .    .    .    .    .    .    .    .    .    .    .    .    .    .    .    .    .    .    .    .    .    .    .    .    .    .    .    .    .    .    .    .    .    .    .    .    .    .    .    .    .    .    .    .    .    .    .    .    .    .    .    .    .    .    .    .    .    .    .    .    .    .    .    .    .    .    .    .    .    .    .    .    .    .    .    .    .    .    .    .    .    .    .    .    .    .    .    .    .    .    .    .    .    .    .    .    .    .    .    .    .    .    .    .    .    .    .    .    .    .    .    .    .    .    .    .    .    .    .    .    .    .    .    2    .   <.>   .    .    .    .    .    .    .    .    .    .    .    .    .    .    .    .    .    .    .    .    .    .    .    .    .    .    .    .    .    .    .    .    .    .    .    .    .    .    .    .    .    .    .    .    .    .    .    .    .    .    .    .    .    .    .    . |\n",
      "       PPS |    .    .    .    .    .    .    .    .    .    .    .    .    .    .    .    .    .    .    .    .    .    .    .    .    .    .    .    .    .    .    .    .    .    .    .    .    .    .    .    .    .    .    .    .    .    .    .    .    .    .    .    .    .    .    .    .    .    .    .    .    .    .    .    .    .    .    .    .    .    .    .    .    .    .    .    .    .    .    .    .    .    .    .    .    .    .    .    .    .    .    .    .    .    .    .    .    .    .    .    .    .    .    .    .    .    .    .    .    .    .    .    .    .    .    .    .    .    .    .    .    .    .    .    .    .    .    .    .    .    .    .    .    .    .    .    .    .    .    .    .    .    .    .    .    .    .    .    .   20    .    . <762>   .    .    .    .    .    .    .    .    .    .    .    .    .    .    .    .    .    .    .    .    .    .    .    .    .    .    .    .    .    .    .    .    .    .    .    .    .    .    .    .    .    .    .    .    .    .    .    .    .    .    .    .    .    .    . |\n",
      "   PPS+BEZ |    .    .    .    .    .    .    .    .    .    .    .    .    .    .    .    .    .    .    .    .    .    .    .    .    .    .    .    .    .    .    .    .    .    .    .    .    .    .    .    .    .    .    .    .    .    .    .    .    .    .    .    .    .    .    .    .    .    .    .    .    .    .    .    .    .    .    .    .    .    .    .    .    .    .    .    .    .    .    .    .    .    .    .    .    .    .    .    .    .    .    .    .    .    .    .    .    .    .    .    .    .    .    .    .    .    .    .    1    .    .    .    .    .    .    .    .    .    .    .    .    .    .    .    .    .    .    .    .    .    .    .    .    .    .    .    .    .    .    .    .    .    .    .    .    .    .    .    .    .    .    .    .  <22>   .    .    .    .    .    .    .    .    .    .    .    .    .    .    .    .    .    .    .    .    .    .    .    .    .    .    .    .    .    .    .    .    .    .    .    .    .    .    .    .    .    .    .    .    .    .    .    .    .    .    .    .    .    . |\n",
      "   PPS+HVZ |    .    .    .    .    .    .    .    .    .    .    .    .    .    .    .    .    .    .    .    .    .    .    .    .    .    .    .    .    .    .    .    .    .    .    .    .    .    .    .    .    .    .    .    .    .    .    .    .    .    .    .    .    .    .    .    .    .    .    .    .    .    .    .    .    .    .    .    .    .    .    .    .    .    .    .    .    .    .    .    .    .    .    .    .    .    .    .    .    .    .    .    .    .    .    .    .    .    .    .    .    .    .    .    .    .    .    .    .    .    .    .    .    .    .    .    .    .    .    .    .    .    .    .    .    .    .    .    .    .    .    .    .    .    .    .    .    .    .    .    .    .    .    .    .    .    .    .    .    .    .    .    .    3   <.>   .    .    .    .    .    .    .    .    .    .    .    .    .    .    .    .    .    .    .    .    .    .    .    .    .    .    .    .    .    .    .    .    .    .    .    .    .    .    .    .    .    .    .    .    .    .    .    .    .    .    .    .    . |\n",
      "    PPS+MD |    .    .    .    .    .    .    .    .    .    .    .    .    .    .    .    .    .    .    .    .    .    .    .    .    .    .    .    .    .    .    .    .    .    .    .    .    .    .    .    .    .    .    .    .    .    .    .    .    .    .    .    .    .    .    .    .    .    .    .    .    .    .    .    .    .    .    .    .    .    .    .    .    .    .    .    .    .    .    .    .    .    .    .    .    .    .    .    .    .    .    .    .    .    .    .    .    .    .    .    .    .    .    .    .    .    .    .    .    .    .    .    .    .    .    .    .    .    .    .    .    .    .    .    .    .    .    .    .    .    .    .    .    .    .    .    .    .    .    .    .    .    .    .    .    .    .    .    .    .    .    .    .    .    .   <2>   .    .    .    .    .    .    .    .    .    .    .    .    .    .    .    .    .    .    .    .    .    .    .    .    .    .    .    .    .    .    .    .    .    .    .    .    .    .    .    .    .    .    .    .    .    .    .    .    .    .    .    . |\n",
      "      PPSS |    .    .    .    .    .    .    .    .    .    .    .    .    .    .    .    .    .    .    .    .    .    .    .    .    .    .    .    .    .    .    .    .    .    .    .    .    .    .    .    .    .    .    .    .    .    .    .    .    .    .    .    .    .    .    .    .    .    .    .    .    .    .    .    .    .    .    .    .    .    .    .    .    .    .    .    .    .    .    .    .    .    .    .    .    .    .    .    .    .    .    .    .    .    .    .    .    .    .    .    .    .    .    .    .    .    .    .    1    .    .    .    .    .    .    .    .    .    .    .    .    .    .    .    .    .    .    .    .    .    .    .    .    .    .    .    .    .    .    .    .    .    .    .    .    .    .    .    .    4    .    .    .    .    .    . <668>   .    .    .    .    .    .    .    .    .    .    .    .    .    .    .    .    .    .    .    .    .    .    .    .    .    .    .    .    .    .    .    .    .    .    .    .    .    .    .    .    .    .    .    .    .    .    .    .    .    .    . |\n",
      "  PPSS+BEM |    .    .    .    .    .    .    .    .    .    .    .    .    .    .    .    .    .    .    .    .    .    .    .    .    .    .    .    .    .    .    .    .    .    .    .    .    .    .    .    .    .    .    .    .    .    .    .    .    .    .    .    .    .    .    .    .    .    .    .    .    .    .    .    .    .    .    .    .    .    .    .    .    .    .    .    .    .    .    .    .    .    .    .    .    .    .    .    .    .    .    .    .    .    .    .    .    .    .    .    .    .    .    .    .    .    .    .    .    .    .    .    .    .    .    .    .    .    .    .    .    .    .    .    .    .    .    .    .    .    .    .    .    .    .    .    .    .    .    .    .    .    .    .    .    .    .    .    .    .    .    .    .    .    .    .    .   <2>   .    .    .    .    .    .    .    .    .    .    .    .    .    .    .    .    .    .    .    .    .    .    .    .    .    .    .    .    .    .    .    .    .    .    .    .    .    .    .    .    .    .    .    .    .    .    .    .    .    . |\n",
      "  PPSS+BER |    .    .    .    .    .    .    .    .    .    .    .    .    .    .    .    .    .    .    .    .    .    .    .    .    .    .    .    .    .    .    .    .    .    .    .    .    .    .    .    .    .    .    .    .    .    .    .    .    .    .    .    .    .    .    .    .    .    .    .    .    .    .    .    .    .    .    .    .    .    .    .    .    .    .    .    .    .    .    .    .    .    .    .    .    .    .    .    .    .    .    .    .    .    .    .    .    .    .    .    .    .    .    .    .    .    .    .    .    .    .    .    .    .    .    .    .    .    .    .    .    .    .    .    .    .    .    .    .    .    .    .    .    .    .    .    .    .    .    .    .    .    .    .    .    .    .    .    .    .    .    .    .    .    .    .    .    .  <12>   .    .    .    .    .    .    .    .    .    .    .    .    .    .    .    .    .    .    .    .    .    .    .    .    .    .    .    .    .    .    .    .    .    .    .    .    .    .    .    .    .    .    .    .    .    .    .    .    . |\n",
      "   PPSS+HV |    .    .    .    .    .    .    .    .    .    .    .    .    .    .    .    .    .    .    .    .    .    .    .    .    .    .    .    .    .    .    .    .    .    .    .    .    .    .    .    .    .    .    .    .    .    .    .    .    .    .    .    .    .    .    .    .    .    .    .    .    .    .    .    .    .    .    .    .    .    .    .    .    .    .    .    .    .    .    .    .    .    .    .    .    .    .    .    .    .    .    .    .    .    .    .    .    .    .    .    .    .    .    .    .    .    .    .    .    .    .    .    .    .    .    .    .    .    .    .    .    .    .    .    .    .    .    .    .    .    .    .    .    .    .    .    .    .    .    .    .    .    .    .    .    .    .    .    .    .    .    .    .    .    .    .    .    .    .   <6>   .    .    .    .    .    .    .    .    .    .    .    .    .    .    .    .    .    .    .    .    .    .    .    .    .    .    .    .    .    .    .    .    .    .    .    .    .    .    .    .    .    .    .    .    .    .    .    . |\n",
      "  PPSS+HVD |    .    .    .    .    .    .    .    .    .    .    .    .    .    .    .    .    .    .    .    .    .    .    .    .    .    .    .    .    .    .    .    .    .    .    .    .    .    .    .    .    .    .    .    .    .    .    .    .    .    .    .    .    .    .    .    .    .    .    .    .    .    .    .    .    .    .    .    .    .    .    .    .    .    .    .    .    .    .    .    .    .    .    .    .    .    .    .    .    .    .    .    .    .    .    .    .    .    .    .    .    .    .    .    .    .    .    .    .    .    .    .    .    .    .    .    .    .    .    .    .    .    .    .    .    .    .    .    .    .    .    .    .    .    .    .    .    .    .    .    .    .    .    .    .    .    .    .    .    .    .    .    .    .    .    .    .    .    .    .   <.>   1    .    .    .    .    .    .    .    .    .    .    .    .    .    .    .    .    .    .    .    .    .    .    .    .    .    .    .    .    .    .    .    .    .    .    .    .    .    .    .    .    .    .    .    .    .    . |\n",
      "   PPSS+MD |    .    .    .    .    .    .    .    .    .    .    .    .    .    .    .    .    .    .    .    .    .    .    .    .    .    .    .    .    .    .    .    .    .    .    .    .    .    .    .    .    .    .    .    .    .    .    .    .    .    .    .    .    .    .    .    .    .    .    .    .    .    .    .    .    .    .    .    .    .    .    .    .    .    .    .    .    .    .    .    .    .    .    .    .    .    .    .    .    .    .    .    .    .    .    .    .    .    .    .    .    .    .    .    .    .    .    .    1    .    .    .    .    .    .    .    .    .    .    .    .    .    .    .    .    .    .    .    .    .    .    .    .    .    .    .    .    .    .    .    .    .    .    .    .    .    .    .    .    .    .    .    .    .    .    .    .    .    .    .    .   <6>   .    .    .    .    .    .    .    .    .    .    .    .    .    .    .    .    .    .    .    .    .    .    .    .    .    .    .    .    .    .    .    .    .    .    .    .    .    .    .    .    .    .    .    .    .    . |\n",
      "   PPSS-HL |    .    .    .    .    .    .    .    .    .    .    .    .    .    .    .    .    .    .    .    .    .    .    .    .    .    .    .    .    .    .    .    .    .    .    .    .    .    .    .    .    .    .    .    .    .    .    .    .    .    .    .    .    .    .    .    .    .    .    .    .    .    .    .    .    .    .    .    .    .    .    .    .    .    .    .    .    .    .    .    .    .    .    .    .    .    .    .    .    .    .    .    .    .    .    .    .    .    .    .    .    .    .    .    .    .    .    .    .    .    .    .    .    .    .    .    .    .    .    .    .    .    .    .    .    .    .    .    .    .    .    .    .    .    .    .    .    .    .    .    .    .    .    .    .    .    .    .    .    .    .    .    .    .    .    .    1    .    .    .    .    .   <.>   .    .    .    .    .    .    .    .    .    .    .    .    .    .    .    .    .    .    .    .    .    .    .    .    .    .    .    .    .    .    .    .    .    .    .    .    .    .    .    .    .    .    .    .    . |\n",
      "   PPSS-TL |    .    .    .    .    .    .    .    .    .    .    .    .    .    .    .    .    .    .    .    .    .    .    .    .    .    .    .    .    .    .    .    .    .    .    .    .    .    .    .    .    .    .    .    .    .    .    .    .    .    .    .    .    .    .    .    .    .    .    .    .    .    .    .    .    .    .    .    .    .    .    .    .    .    .    .    .    .    .    .    .    .    .    .    .    .    .    .    .    .    .    .    .    .    .    .    .    .    .    .    .    .    .    .    .    .    .    .    .    .    .    .    .    .    .    .    .    .    .    .    .    .    .    .    .    .    .    .    .    .    .    .    .    .    .    .    .    .    .    .    .    .    .    .    .    .    .    .    .    .    .    .    .    .    .    .    2    .    .    .    .    .    .   <.>   .    .    .    .    .    .    .    .    .    .    .    .    .    .    .    .    .    .    .    .    .    .    .    .    .    .    .    .    .    .    .    .    .    .    .    .    .    .    .    .    .    .    .    . |\n",
      "        QL |    .    .    .    .    .    .    .    .    .    .    .    .    .    .    .    2   13    .    .   64    .    .    .    6    .    .    .    .    .    .    .    .    .    .    .    .    .    .    .    .    .    .    .    .    .    .    .    .   62    .    .    .    .    .    .    .    .    .    .    1    .    .    .    .    .    .    .    .    .    .    .    .    .    .    .    .    .    .    .    .    .    .    .    .    .    .    .    .    7    .    .    .   11    .    .    .    .    .    .    .    .    2    .    .    .    .    .   30    .    .    .    .    .    .    .    .    .    .    .    .    .    .    .    .    .    .    .    .    .    .    .    .    .    .    .    .    .    .    .    .    .    .    .    .    .    .    .    .    .    .    .    .    .    .    .    .    .    .    .    .    .    .    . <249>   .    .   74    .    .    .    .    9    1    .    .    .    .    .    .    .    .    .    .    .    .    .    .    .    .    .    .    .    .    .    .    .    .    .    .    .    .    .    .    .    9    .    . |\n",
      "     QL-HL |    .    .    .    .    .    .    .    .    .    .    .    .    .    .    .    .    .    .    .    .    .    .    .    .    .    .    .    .    .    .    .    .    .    .    .    .    .    .    .    .    .    .    .    .    .    .    .    .    .    .    .    .    .    .    .    .    .    .    .    .    .    .    .    .    .    .    .    .    .    .    .    .    .    .    .    .    .    .    .    .    .    .    .    .    .    .    .    .    .    .    .    .    .    .    .    .    .    .    .    .    .    .    .    .    .    .    .    .    .    .    .    .    .    .    .    .    .    .    .    .    .    .    .    .    .    .    .    .    .    .    .    .    .    .    .    .    .    .    .    .    .    .    .    .    .    .    .    .    .    .    .    .    .    .    .    .    .    .    .    .    .    .    .    .   <.>   .    1    .    .    .    .    .    .    .    .    .    .    .    .    .    .    .    .    .    .    .    .    .    .    .    .    .    .    .    .    .    .    .    .    .    .    .    .    .    .    .    . |\n",
      "       QLP |    .    .    .    .    .    .    .    .    .    .    .    .    .    .    .    .    .    .    .    5    .    .    .    .    .    .    .    .    .    .    .    .    .    .    .    .    .    .    .    .    .    .    .    .    .    .    .    .    .    .    .    .    .    .    .    .    .    .    .    .    .    .    .    .    .    .    .    .    .    .    .    .    .    .    .    .    .    .    .    .    .    .    .    .    .    .    .    .    .    .    .    .    .    .    .    .    .    .    .    .    .    .    .    .    .    .    .    .    .    .    .    .    .    .    .    .    .    .    .    .    .    .    .    .    .    .    .    .    .    .    .    .    .    .    .    .    .    .    .    .    .    .    .    .    .    .    .    .    .    .    .    .    .    .    .    .    .    .    .    .    .    .    .    .    .   <9>   1    .    .    .    .    .    .    .    .    .    .    .    .    .    .    .    .    .    .    .    .    .    .    .    .    .    .    .    .    .    .    .    .    .    .    .    .    .    .    .    . |\n",
      "        RB |    .    .    .    .    .    .    .    .    .    .    .    .    .    .    .    .    .    .    .   38    .    .    .    8    .    .    .    .    .    .    .    .    .    .    .    .    .    .    .    .    .    .    6    .    .    .    .    .   20    .    .    .    .    .    .    .    .    .    .    .    .    .    .    .   15    .    .    .    .    .    .    .    .    .    .    .    .    .    .    .    .    .    .    .    .    .    .    .   32    .    .    .   33    .    .    .    .    .    .    .    .    .    .    .    .    .    .  261    .    .    .    .    .    .    .    .    .    .    .    .    .    .    .    .    .    .    .    .    .    .    .    .    .    .    .    .    7    .    .    .    .    .    .    .    .    .    .    .    .    .    .    .    .    .    .    .    .    .    .    .    .    .    .   63    .    .<1318>   .    6    .    .    .    .    .    .    .    .    .    .    .    .    .    .    .    .    .    .    .    .    .    .    .    .    .    .    .    .    .    .    .    .    .    .    .    2    .    . |\n",
      "       RB$ |    .    .    .    .    .    .    .    .    .    .    .    .    .    .    .    .    .    .    .    .    .    .    .    .    .    .    .    .    .    .    .    .    .    .    .    .    .    .    .    .    .    .    .    .    .    .    .    .    .    .    .    .    .    .    .    .    .    .    .    .    .    .    .    .    .    .    .    .    .    .    .    .    .    .    .    .    .    .    .    .    .    .    .    .    .    .    .    .    .    .    .    .    .    .    .    .    .    .    .    .    .    .    .    .    .    .    .    .    .    .    .    .    .    .    .    .    .    .    .    .    .    .    .    .    .    .    .    .    .    .    .    .    .    .    .    .    .    .    .    .    .    .    .    .    .    .    .    .    .    .    .    .    .    .    .    .    .    .    .    .    .    .    .    .    .    .    .   <3>   .    .    .    .    .    .    .    .    .    .    .    .    .    .    .    .    .    .    .    .    .    .    .    .    .    .    .    .    .    .    .    .    .    .    .    .    .    .    . |\n",
      "     RB-HL |    .    .    .    .    .    .    .    .    .    .    .    .    .    .    .    .    .    .    .    .    .    .    .    .    .    .    .    .    .    .    .    .    .    .    .    .    .    .    .    .    .    .    .    .    .    .    .    .    .    .    .    .    .    .    .    .    .    .    .    .    .    .    .    .    .    .    .    .    .    .    .    .    .    .    .    .    .    .    .    .    .    .    .    .    .    .    .    .    .    .    .    .    .    .    .    .    .    .    .    .    .    .    .    .    .    .    .    .    .    .    .    .    .    .    .    .    .    .    .    .    .    .    .    .    .    .    .    .    .    .    .    .    .    .    .    .    .    .    .    .    .    .    .    .    .    .    .    .    .    .    .    .    .    .    .    .    .    .    .    .    .    .    .    .    .    .    5    .   <1>   .    1    .    .    .    .    .    .    .    .    .    .    .    .    .    .    .    .    .    .    .    .    .    .    .    .    .    .    .    .    .    .    .    .    .    .    .    . |\n",
      "     RB-NC |    .    .    .    .    .    .    .    .    .    .    .    .    .    .    .    .    .    .    .    .    .    .    .    .    .    .    .    .    .    .    .    .    .    .    .    .    .    .    .    .    .    .    .    .    .    .    .    .    .    .    .    .    .    .    .    .    .    .    .    .    .    .    .    .    .    .    .    .    .    .    .    .    .    .    .    .    .    .    .    .    .    .    .    .    .    .    .    .    .    .    .    .    .    .    .    .    .    .    .    .    .    .    .    .    .    .    .    .    .    .    .    .    .    .    .    .    .    .    .    .    .    .    .    .    .    .    .    .    .    .    .    .    .    .    .    .    .    .    .    .    .    .    .    .    .    .    .    .    .    .    .    .    .    .    .    .    .    .    .    .    .    .    .    .    .    .    1    .    .   <.>   .    .    .    .    .    .    .    .    .    .    .    .    .    .    .    .    .    .    .    .    .    .    .    .    .    .    .    .    .    .    .    .    .    .    .    .    . |\n",
      "     RB-TL |    .    .    .    .    .    .    .    .    .    .    .    .    .    .    .    .    .    .    .    .    .    .    .    .    .    .    .    .    .    .    .    .    .    .    .    .    .    .    .    .    .    .    .    .    .    .    .    .    .    .    .    .    .    .    .    .    .    .    .    .    .    .    .    .    .    .    .    .    .    .    .    .    .    .    .    .    .    .    .    .    .    .    .    .    .    .    .    .    .    .    .    .    .    .    .    .    .    .    .    .    .    .    .    .    .    .    .    .    .    .    .    .    .    .    .    .    .    .    .    .    .    .    .    .    .    .    .    .    .    .    .    .    .    .    .    .    .    .    .    .    .    .    .    .    .    .    .    .    .    .    .    .    .    .    .    .    .    .    .    .    .    .    .    .    .    .    1    .    .    .   <1>   .    .    .    .    .    .    .    .    .    .    .    .    .    .    .    .    .    .    .    .    .    .    .    .    .    .    .    .    .    .    .    .    .    .    .    . |\n",
      "       RBR |    .    .    .    .    .    .    .    .    .    .    .    .    .    .    .    .    .    .    .    3    .    .    .    .    .    .    .    .    .    .    .    .    .    .    .    .    .    .    .    .    .    .    .    .    .    .    .    .    .    .    .    .    .    .    .    .    .    .    .    .    .    .    .    .    .    .    .    .    .    .    .    .    .    .    .    .    .    .    .    .    .    .    .    .    .    .    .    .    .    .    .    .    .    .    .    .   11    .    .    .    .    .    .    .    .    .    .    4    .    .    .    .    .    .    .    .    .    .    .    .    .    .    .    .    .    .    .    .    .    .    .    .    .    .    .    .    .    .    .    .    .    .    .    .    .    .    .    .    .    .    .    .    .    .    .    .    .    .    .    .    .    .    .    1    .    .    .    .    .    .    .  <25>   .    .    .    .    .    .    .    .    .    .    .    .    .    .    .    .    .    .    .    .    .    .    .    .    .    .    .    .    .    .    .    .    .    .    . |\n",
      "       RBT |    .    .    .    .    .    .    .    .    .    .    .    .    .    .    .    .    .    .    .    2    .    .    .    .    .    .    .    .    .    .    .    .    .    .    .    .    .    .    .    .    .    .    .    .    .    .    .    .    .    .    .    .    .    .    .    .    .    .    .    .    .    .    .    .    .    .    .    .    .    .    .    .    .    .    .    .    .    .    .    .    .    .    .    .    .    .    .    .    .    .    .    .    .    .    .    .    .    .    .    .    .    1    .    .    .    .    .    1    .    .    .    .    .    .    .    .    .    .    .    .    .    .    .    .    .    .    .    .    .    .    .    .    .    .    .    .    .    .    .    .    .    .    .    .    .    .    .    .    .    .    .    .    .    .    .    .    .    .    .    .    .    .    .    1    .    .    .    .    .    .    .    .   <.>   .    .    .    .    .    .    .    .    .    .    .    .    .    .    .    .    .    .    .    .    .    .    .    .    .    .    .    .    .    .    .    .    .    . |\n",
      "        RN |    .    .    .    .    .    .    .    .    .    .    .    .    .    .    .    .    .    .    .    .    .    .    .    .    .    .    .    .    .    .    .    .    .    .    .    .    .    .    .    .    .    .    .    .    .    .    .    .    .    .    .    .    .    .    .    .    .    .    .    .    .    .    .    .    .    .    .    .    .    .    .    .    .    .    .    .    .    .    .    .    .    .    .    .    .    .    .    .    .    .    .    .    .    .    .    .    .    .    .    .    .    .    .    .    .    .    .    1    .    .    .    .    .    .    .    .    .    .    .    .    .    .    .    .    .    .    .    .    .    .    .    .    .    .    .    .    .    .    .    .    .    .    .    .    .    .    .    .    .    .    .    .    .    .    .    .    .    .    .    .    .    .    .    .    .    .    2    .    .    .    .    .    .   <.>   .    .    .    .    .    .    .    .    .    .    .    .    .    .    .    .    .    .    .    .    .    .    .    .    .    .    .    .    .    .    .    .    . |\n",
      "        RP |    .    .    .    .    .    .    .    .    .    .    .    .    .    .    .    .    .    .    .    .    .    .    .    .    .    .    .    .    .    .    .    .    .    .    .    .    .    .    .    .    .    .    .    .    .    .    .    .    .    .    .    .    .    .    .    .    .    .    .    .    .    .    .    .    .    .    .    .    .    .    .    .    .    .    .    .    .    .    .    .    .    .    .    .    .    .    .    .   70    .    .    .    .    .    .    .    .    .    .    .    .    .    .    .    .    .    .    1    .    .    .    .    .    .    .    .    .    .    .    .    .    .    .    .    .    .    .    .    .    .    .    .    .    .    .    .    .    .    .    .    .    .    .    .    .    .    .    .    .    .    .    .    .    .    .    .    .    .    .    .    .    .    .    .    .    .    .    .    .    .    .    .    .    . <161>   .    .    .    .    .    .    .    .    .    .    .    .    .    .    .    .    .    .    .    .    .    .    .    .    .    .    .    .    .    .    .    . |\n",
      "     RP-HL |    .    .    .    .    .    .    .    .    .    .    .    .    .    .    .    .    .    .    .    .    .    .    .    .    .    .    .    .    .    .    .    .    .    .    .    .    .    .    .    .    .    .    .    .    .    .    .    .    .    .    .    .    .    .    .    .    .    .    .    .    .    .    .    .    .    .    .    .    .    .    .    .    .    .    .    .    .    .    .    .    .    .    .    .    .    .    .    .    1    .    .    .    .    .    .    .    .    .    .    .    .    .    .    .    .    .    .    .    .    .    .    .    .    .    .    .    .    .    .    .    .    .    .    .    .    .    .    .    .    .    .    .    .    .    .    .    .    .    .    .    .    .    .    .    .    .    .    .    .    .    .    .    .    .    .    .    .    .    .    .    .    .    .    .    .    .    .    .    .    .    .    .    .    .    1   <.>   .    .    .    .    .    .    .    .    .    .    .    .    .    .    .    .    .    .    .    .    .    .    .    .    .    .    .    .    .    .    . |\n",
      "        TO |    .    .    .    .    .    .    .    .    .    .    .    .    .    .    .    .    .    .    .    .    .    .    .    .    .    .    .    .    .    .    .    .    .    .    .    .    .    .    .    .    .    .    .    .    .    .    .    .    .    .    .    .    .    .    .    .    .    .    .    .    .    .    .    .    .    .    .    .    .    .    .    .    .    .    .    .    .    .    .    .    .    .    .    .    .    .    .    .   53    .    .    .    .    .    .    .    .    .    .    .    .    .    .    .    .    .    .    .    .    .    .    .    .    .    .    .    .    .    .    .    .    .    .    .    .    .    .    .    .    .    .    .    .    .    .    .    .    .    .    .    .    .    .    .    .    .    .    .    .    .    .    .    .    .    .    .    .    .    .    .    .    .    .    .    .    .    .    .    .    .    .    .    .    .    .    . <899>   .    .    .    .    .    .    .    .    .    .    .    .    .    .    .    .    .    .    .    .    .    .    .    .    .    .    .    .    .    . |\n",
      "     TO-HL |    .    .    .    .    .    .    .    .    .    .    .    .    .    .    .    .    .    .    .    .    .    .    .    .    .    .    .    .    .    .    .    .    .    .    .    .    .    .    .    .    .    .    .    .    .    .    .    .    .    .    .    .    .    .    .    .    .    .    .    .    .    .    .    .    .    .    .    .    .    .    .    .    .    .    .    .    .    .    .    .    .    .    .    .    .    .    .    .    .    .    .    .    .    .    .    .    .    .    .    .    .    .    .    .    .    .    .    .    .    .    .    .    .    .    .    .    .    .    .    .    .    .    .    .    .    .    .    .    .    .    .    .    .    .    .    .    .    .    .    .    .    .    .    .    .    .    .    .    .    .    .    .    .    .    .    .    .    .    .    .    .    .    .    .    .    .    .    .    .    .    .    .    .    .    .    .    2   <.>   .    .    .    .    .    .    .    .    .    .    .    .    .    .    .    .    .    .    .    .    .    .    .    .    .    .    .    .    . |\n",
      "        UH |    .    .    .    .    .    .    .    .    .    .    .    .    .    .    .    .    .    .    .    .    .    .    .    .    .    .    .    .    .    .    .    .    .    .    .    .    .    .    .    .    .    .    .    .    .    .    .    .    .    .    .    .    .    .    .    .    .    .    .    .    .    .    .    .    .    .    .    .    .    .    .    .    .    .    .    .    .    .    .    .    .    .    .    .    .    .    .    .    .    .    .    .    .    .    .    .    .    .    .    .    .    .    .    .    .    .    .    7    .    .    .    .    .    .    .    .    .    .    .    .    .    .    .    .    .    .    .    .    .    .    .    .    .    .    .    .    .    .    .    .    .    .    .    .    .    .    .    .    .    .    .    .    .    .    .    .    .    .    .    .    .    .    .    .    .    .    .    .    .    .    .    .    .    .    .    .    .    .   <.>   .    3    .    .    .    .    .    .    .    .    .    .    .    .    .    .    .    .    .    .    .    .    .    .    .    1    .    . |\n",
      "     UH-HL |    .    .    .    .    .    .    .    .    .    .    .    .    .    .    .    .    .    .    .    .    .    .    .    .    .    .    .    .    .    .    .    .    .    .    .    .    .    .    .    .    .    .    .    .    .    .    .    .    .    .    .    .    .    .    .    .    .    .    .    .    .    .    .    .    .    .    .    .    .    .    .    .    .    .    .    .    .    .    .    .    .    .    .    .    .    .    .    .    .    .    .    .    .    .    .    .    .    .    .    .    .    .    .    .    .    .    .    1    .    .    .    .    .    .    .    .    .    .    .    .    .    .    .    .    .    .    .    .    .    .    .    .    .    .    .    .    .    .    .    .    .    .    .    .    .    .    .    .    .    .    .    .    .    .    .    .    .    .    .    .    .    .    .    .    .    .    .    .    .    .    .    .    .    .    .    .    .    .    .   <.>   .    .    .    .    .    .    .    .    .    .    .    .    .    .    .    .    .    .    .    .    .    .    .    .    .    .    . |\n",
      "        VB |    .    .    .    .    .    .    .    .    .    .    .    .    .    .    .    .    .    .    .    4    .    .    .    .    .    .    .    .    .    .    .    .    .    .    .    .    .    .    .    .    .    .    .    .    .    .    .    .    6    .    .    .    .    .    .    .    .    .    .    .    .    .    .    .    .    .    .    .    .    .    .    .    .    .    .    .    .    .    .    .    .    .    .    .    .    .    .    .    .    .    .    .   22    .    .    .    .    .    .    .    .    .    .    2    .    .    .  583    .    .    .    1    .    .    .    .    .    .    .    .    .    .    .    .    .    .    .    .    .    .    .    .    .    .    .    .    .    .    .    .    .    .    .    .    .    .    .    .    .    .    .    .    .    .    .    .    .    .    .    .    .    .    .    .    .    .    2    .    .    .    .    .    .    .    .    .    .    .    .    .<1486>   .    .    1    5    .    .    .    .   17    .    .    .    .    .    .    .    .    .    .    .    .    .    .    .    .    . |\n",
      "    VB+PPO |    .    .    .    .    .    .    .    .    .    .    .    .    .    .    .    .    .    .    .    .    .    .    .    .    .    .    .    .    .    .    .    .    .    .    .    .    .    .    .    .    .    .    .    .    .    .    .    .    .    .    .    .    .    .    .    .    .    .    .    .    .    .    .    .    .    .    .    .    .    .    .    .    .    .    .    .    .    .    .    .    .    .    .    .    .    .    .    .    .    .    .    .    .    .    .    .    .    .    .    .    .    .    .    .    .    .    .    1    .    .    .    .    .    .    .    .    .    .    .    .    .    .    .    .    .    .    .    .    .    .    .    .    .    .    .    .    .    .    .    .    .    .    .    .    .    .    .    .    .    .    .    .    .    .    .    .    .    .    .    .    .    .    .    .    .    .    .    .    .    .    .    .    .    .    .    .    .    .    .    .    .   <.>   .    .    .    .    .    .    .    .    .    .    .    .    .    .    .    .    .    .    .    .    .    .    .    .    . |\n",
      "     VB-HL |    .    .    .    .    .    .    .    .    .    .    .    .    .    .    .    .    .    .    .    .    .    .    .    .    .    .    .    .    .    .    .    .    .    .    .    .    .    .    .    .    .    .    .    .    .    .    .    .    .    .    .    .    .    .    .    .    .    .    .    .    .    .    .    .    .    .    .    .    .    .    .    .    .    .    .    .    .    .    .    .    .    .    .    .    .    .    .    .    .    .    .    .    1    .    .    .    .    .    .    .    .    .    .    .    .    .    .    4    .    .    .    .    .    .    .    .    .    .    .    .    .    .    .    .    .    .    .    .    .    .    .    .    .    .    .    .    .    .    .    .    .    .    .    .    .    .    .    .    .    .    .    .    .    .    .    .    .    .    .    .    .    .    .    .    .    .    .    .    .    .    .    .    .    .    .    .    .    .    .    .   10    .   <.>   .    .    .    .    .    .    .    .    .    .    .    .    .    .    .    .    .    .    .    .    .    .    .    . |\n",
      "     VB-TL |    .    .    .    .    .    .    .    .    .    .    .    .    .    .    .    .    .    .    .    .    .    .    .    .    .    .    .    .    .    .    .    .    .    .    .    .    .    .    .    .    .    .    .    .    .    .    .    .    .    .    .    .    .    .    .    .    .    .    .    .    .    .    .    .    .    .    .    .    .    .    .    .    .    .    .    .    .    .    .    .    .    .    .    .    .    .    .    .    .    .    .    .    .    .    .    .    .    .    .    .    .    .    .    .    .    .    .   10    .    .    .    .    .    .    .    .    .    .    .    .    .    .    .    .    .    .    .    .    .    .    .    .    .    .    .    .    .    .    .    .    .    .    .    .    .    .    .    .    .    .    .    .    .    .    .    .    .    .    .    .    .    .    .    .    .    .    .    .    .    .    .    .    .    .    .    .    .    .    .    .    2    .    .   <2>   .    .    .    .    .    .    .    .    .    .    .    .    .    .    .    .    .    .    .    .    .    .    . |\n",
      "       VBD |    .    .    .    .    .    .    .    .    .    .    .    .    .    .    .    .    .    .    .    .    .    .    .    .    .    .    .    .    .    .    .    .    .    .    .    .    .    .    .    .    .    .    .    .    .    .    .    .    .    .    .    .    .    .    .    .    .    .    .    .    .    .    .    .    .    .    .    .    .    .    .    .    .    .    .    .    .    .    .    .    .    .    .    .    .    .    .    .    .    .    .    .    3    .    .    .    .    .    .    .    .    .    .    .    .    .    .   76    .    .    .    .    .    .    .    .    .    .    .    .    .    .    .    .    .    .    .    .    .    .    .    .    .    .    .    .    .    .    .    .    .    .    .    .    .    .    .    .    .    .    .    .    .    .    .    .    .    .    .    .    .    .    .    .    .    .    .    .    .    .    .    .    .    .    .    .    .    .    .    .    2    .    .    . <476>   .    .    .    .  143    .    .    .    .    .    .    .    .    .    .    .    .    .    .    .    .    . |\n",
      "    VBD-HL |    .    .    .    .    .    .    .    .    .    .    .    .    .    .    .    .    .    .    .    .    .    .    .    .    .    .    .    .    .    .    .    .    .    .    .    .    .    .    .    .    .    .    .    .    .    .    .    .    .    .    .    .    .    .    .    .    .    .    .    .    .    .    .    .    .    .    .    .    .    .    .    .    .    .    .    .    .    .    .    .    .    .    .    .    .    .    .    .    .    .    .    .    .    .    .    .    .    .    .    .    .    .    .    .    .    .    .    .    .    .    .    .    .    .    .    .    .    .    .    .    .    .    .    .    .    .    .    .    .    .    .    .    .    .    .    .    .    .    .    .    .    .    .    .    .    .    .    .    .    .    .    .    .    .    .    .    .    .    .    .    .    .    .    .    .    .    .    .    .    .    .    .    .    .    .    .    .    .    .    .    .    .    .    .    1   <.>   .    .    .    .    .    .    .    .    .    .    .    .    .    .    .    .    .    .    .    .    . |\n",
      "       VBG |    .    .    .    .    .    .    .    .    .    .    .    .    .    .    .    .    .    .    .    .    .    .    .    .    .    .    .    .    .    .    .    .    .    .    .    .    .    .    .    .    .    .    .    .    .    .    .    .    .    .    .    .    .    .    .    .    .    .    .    .    .    .    .    .    .    .    .    .    .    .    .    .    .    .    .    .    .    .    .    .    .    .    .    .    .    .    .    .    2    .    .    .    5    .    .    .    .    .    .    .    .    .    .    .    .    .    .  321    .    .    .    .    .    .    .    .    .    .    .    .    1    .    .    .    .    .    .    .    .    .    .    .    .    .    .    .    .    .    .    .    .    .    .    .    .    .    .    .    .    .    .    .    .    .    .    .    .    .    .    .    .    .    .    .    .    .    .    .    .    .    .    .    .    .    .    .    .    .    .    .    .    .    .    .    .    . <552>   .    .    .    .    .    .    .    .    .    .    .    .    .    .    .    .    .    .    .    . |\n",
      "    VBG-HL |    .    .    .    .    .    .    .    .    .    .    .    .    .    .    .    .    .    .    .    .    .    .    .    .    .    .    .    .    .    .    .    .    .    .    .    .    .    .    .    .    .    .    .    .    .    .    .    .    .    .    .    .    .    .    .    .    .    .    .    .    .    .    .    .    .    .    .    .    .    .    .    .    .    .    .    .    .    .    .    .    .    .    .    .    .    .    .    .    .    .    .    .    .    .    .    .    .    .    .    .    .    .    .    .    .    .    .   11    .    .    .    .    .    .    .    .    .    .    .    .    .    .    .    .    .    .    .    .    .    .    .    .    .    .    .    .    .    .    .    .    .    .    .    .    .    .    .    .    .    .    .    .    .    .    .    .    .    .    .    .    .    .    .    .    .    .    .    .    .    .    .    .    .    .    .    .    .    .    .    .    .    .    .    .    .    .    2   <.>   1    .    .    .    .    .    .    .    .    .    .    .    .    .    .    .    .    .    . |\n",
      "    VBG-TL |    .    .    .    .    .    .    .    .    .    .    .    .    .    .    .    .    .    .    .    .    .    .    .    .    .    .    .    .    .    .    .    .    .    .    .    .    .    .    .    .    .    .    .    .    .    .    .    .    .    .    .    .    .    .    .    .    .    .    .    .    .    .    .    .    .    .    .    .    .    .    .    .    .    .    .    .    .    .    .    .    .    .    .    .    .    .    .    .    .    .    .    .    .    .    .    .    .    .    .    .    .    .    .    .    .    .    .    7    .    .    .    .    .    .    .    .    .    .    .    .    .    .    .    .    .    .    .    .    .    .    .    .    .    .    .    .    .    .    .    .    .    .    .    .    .    .    .    .    .    .    .    .    .    .    .    .    .    .    .    .    .    .    .    .    .    .    .    .    .    .    .    .    .    .    .    .    .    .    .    .    .    .    .    .    .    .    1    1   <2>   .    .    .    .    .    .    .    .    .    .    .    .    .    .    .    .    .    . |\n",
      "       VBN |    .    .    .    .    .    .    .    .    .    .    .    .    .    .    .    .    .    .    .    .    .    .    .    .    .    .    .    .    .    .    .    .    .    .    .    .    .    .    .    .    .    .    .    .    .    .    .    .    .    .    .    .    .    .    .    .    .    .    .    .    .    .    .    .    .    .    .    .    .    .    .    .    .    .    .    .    .    .    .    .    .    .    .    .    .    .    .    .    .    .    .    .    1    .    .    .    .    .    .    .    .    .    .    .    .    .    .  329    .    .    .    .    .    .    .    .    .    .    .    .    .    .    .    .    .    .    .    .    .    .    .    .    .    .    .    .    .    .    .    .    .    .    .    .    .    .    .    .    .    .    .    .    .    .    .    .    .    .    .    .    .    .    .    .    .    .    .    .    .    .    .    .    .    .    .    .    .    .    .    .   10    .    .    .  296    .    .    .    . <849>   6    .    .    .    .    .    .    .    .    .    .    .    .    .    .    .    . |\n",
      "    VBN-HL |    .    .    .    .    .    .    .    .    .    .    .    .    .    .    .    .    .    .    .    .    .    .    .    .    .    .    .    .    .    .    .    .    .    .    .    .    .    .    .    .    .    .    .    .    .    .    .    .    .    .    .    .    .    .    .    .    .    .    .    .    .    .    .    .    .    .    .    .    .    .    .    .    .    .    .    .    .    .    .    .    .    .    .    .    .    .    .    .    .    .    .    .    .    .    .    .    .    .    .    .    .    .    .    .    .    .    .    4    .    .    .    .    .    .    .    .    .    .    .    .    .    .    .    .    .    .    .    .    .    .    .    .    .    .    .    .    .    .    .    .    .    .    .    .    .    .    .    .    .    .    .    .    .    .    .    .    .    .    .    .    .    .    .    .    .    .    .    .    .    .    .    .    .    .    .    .    .    .    .    .    .    .    .    .    2    .    .    .    .    7   <.>   .    .    .    .    .    .    .    .    .    .    .    .    .    .    .    . |\n",
      "    VBN-TL |    .    .    .    .    .    .    .    .    .    .    .    .    .    .    .    .    .    .    .    .    .    .    .    .    .    .    .    .    .    .    .    .    .    .    .    .    .    .    .    .    .    .    .    .    .    .    .    .    .    .    .    .    .    .    .    .    .    .    .    .    .    .    .    .    .    .    .    .    .    .    .    .    .    .    .    .    .    .    .    .    .    .    .    .    .    .    .    .    .    .    .    .    .    .    .    .    .    .    .    .    .    .    .    .    .    .    .    5    .    .    .    .    .    .    .    .    .    .    .    .    .    .    .    .    .    .    .    .    .    .    .    .    .    .    .    .    .    .    .    .    .    .    .    .    .    .    .    .    .    .    .    .    .    .    .    .    .    .    .    .    .    .    .    .    .    .    .    .    .    .    .    .    .    .    .    .    .    .    .    .    .    .    .    .    .    .    .    .    .    .    .  <78>   .    .    .    .    .    .    .    .    .    .    .    .    .    .    . |\n",
      " VBN-TL-HL |    .    .    .    .    .    .    .    .    .    .    .    .    .    .    .    .    .    .    .    .    .    .    .    .    .    .    .    .    .    .    .    .    .    .    .    .    .    .    .    .    .    .    .    .    .    .    .    .    .    .    .    .    .    .    .    .    .    .    .    .    .    .    .    .    .    .    .    .    .    .    .    .    .    .    .    .    .    .    .    .    .    .    .    .    .    .    .    .    .    .    .    .    .    .    .    .    .    .    .    .    .    .    .    .    .    .    .    .    .    .    .    .    .    .    .    .    .    .    .    .    .    .    .    .    .    .    .    .    .    .    .    .    .    .    .    .    .    .    .    .    .    .    .    .    .    .    .    .    .    .    .    .    .    .    .    .    .    .    .    .    .    .    .    .    .    .    .    .    .    .    .    .    .    .    .    .    .    .    .    .    .    .    .    .    .    .    .    .    .    .    .    1   <.>   .    .    .    .    .    .    .    .    .    .    .    .    .    . |\n",
      "       VBZ |    .    .    .    .    .    .    .    .    .    .    .    .    .    .    .    .    .    .    .    .    .    .    .    .    .    .    .    .    .    .    .    .    .    .    .    .    .    .    .    .    .    .    .    .    .    .    .    .    .    .    .    .    .    .    .    .    .    .    .    .    .    .    .    .    .    .    .    .    .    .    .    .    .    .    .    .    .    .    .    .    .    .    .    .    .    .    .    .    .    .    .    .    .    .    .    .    .    .    .    .    .    .    .    .    .    .    .  166    .    .    .    .    .    .   66    .    .    .    .    .    .    .    .    .    .    .    .    .    .    .    .    .    .    .    .    .    .    .    .    .    .    .    .    .    .    .    .    .    .    .    .    .    .    .    .    .    .    .    .    .    .    .    .    .    .    .    .    .    .    .    .    .    .    .    .    .    .    .    .    .    .    .    .    .    .    .    .    .    .    .    .    .    . <303>   9    .    .    .    .    .    .    .    .    .    .    .    . |\n",
      "    VBZ-HL |    .    .    .    .    .    .    .    .    .    .    .    .    .    .    .    .    .    .    .    .    .    .    .    .    .    .    .    .    .    .    .    .    .    .    .    .    .    .    .    .    .    .    .    .    .    .    .    .    .    .    .    .    .    .    .    .    .    .    .    .    .    .    .    .    .    .    .    .    .    .    .    .    .    .    .    .    .    .    .    .    .    .    .    .    .    .    .    .    .    .    .    .    .    .    .    .    .    .    .    .    .    .    .    .    .    .    .    6    .    .    .    .    .    .    2    .    .    .    1    .    .    .    .    .    .    .    .    .    .    .    .    .    .    .    .    .    .    .    .    .    .    .    .    .    .    .    .    .    .    .    .    .    .    .    .    .    .    .    .    .    .    .    .    .    .    .    .    .    .    .    .    .    .    .    .    .    .    .    .    .    .    .    .    .    .    .    .    .    .    .    .    .    .    6   <2>   .    .    .    .    .    .    .    .    .    .    .    . |\n",
      "    VBZ-TL |    .    .    .    .    .    .    .    .    .    .    .    .    .    .    .    .    .    .    .    .    .    .    .    .    .    .    .    .    .    .    .    .    .    .    .    .    .    .    .    .    .    .    .    .    .    .    .    .    .    .    .    .    .    .    .    .    .    .    .    .    .    .    .    .    .    .    .    .    .    .    .    .    .    .    .    .    .    .    .    .    .    .    .    .    .    .    .    .    .    .    .    .    .    .    .    .    .    .    .    .    .    .    .    .    .    .    .    3    .    .    .    .    .    .    .    .    .    .    .    .    .    .    .    .    .    .    .    .    .    .    .    .    .    .    .    .    .    .    .    .    .    .    .    .    .    .    .    .    .    .    .    .    .    .    .    .    .    .    .    .    .    .    .    .    .    .    .    .    .    .    .    .    .    .    .    .    .    .    .    .    .    .    .    .    .    .    .    .    .    .    .    .    .    .    .   <.>   .    .    .    .    .    .    .    .    .    .    . |\n",
      "       WDT |    .    .    .    .    .    .    .    .    .    .    .    .    .    .    .    .    .    .    .    .    .    .    .    .    .    .    .    .    .    .    .    .    .    .    .    .    .    .    .    .    .    .    .    .    .    .    .    .    .    .    .    .    .    .    .    .    .    .    .    .    .    .    .    .    .    .    .    .    .    .    .    .    .    .    .    .    .    .    .    .    .    .    .    .    .    .    .    .    .    .    .    .    .    .    .    .    .    .    .    .    .    .    .    .    .    .    .    .    .    .    .    .    .    .    .    .    .    .    .    .    .    .    .    .    .    .    .    .    .    .    .    .    .    .    .    .    .    .    .    .    .    .    .    .    .    .    .    .    .    .    .    .    .    .    .    .    .    .    .    .    .    .    .    .    .    .    .    .    .    .    .    .    .    .    .    .    .    .    .    .    .    .    .    .    .    .    .    .    .    .    .    .    .    .    .    . <307>   .    .    .    .    .    .    .    .    .    . |\n",
      "   WDT+BEZ |    .    .    .    .    .    .    .    .    .    .    .    .    .    .    .    .    .    .    .    .    .    .    .    .    .    .    .    .    .    .    .    .    .    .    .    .    .    .    .    .    .    .    .    .    .    .    .    .    .    .    .    .    .    .    .    .    .    .    .    .    .    .    .    .    .    .    .    .    .    .    .    .    .    .    .    .    .    .    .    .    .    .    .    .    .    .    .    .    .    .    .    .    .    .    .    .    .    .    .    .    .    .    .    .    .    .    .    2    .    .    .    .    .    .    .    .    .    .    .    .    .    .    .    .    .    .    .    .    .    .    .    .    .    .    .    .    .    .    .    .    .    .    .    .    .    .    .    .    .    .    .    .    .    .    .    .    .    .    .    .    .    .    .    .    .    .    .    .    .    .    .    .    .    .    .    .    .    .    .    .    .    .    .    .    .    .    .    .    .    .    .    .    .    .    .    .    .   <.>   .    .    .    .    .    .    .    .    . |\n",
      "WDT+BEZ-HL |    .    .    .    .    .    .    .    .    .    .    .    .    .    .    .    .    .    .    .    .    .    .    .    .    .    .    .    .    .    .    .    .    .    .    .    .    .    .    .    .    .    .    .    .    .    .    .    .    .    .    .    .    .    .    .    .    .    .    .    .    .    .    .    .    .    .    .    .    .    .    .    .    .    .    .    .    .    .    .    .    .    .    .    .    .    .    .    .    .    .    .    .    .    .    .    .    .    .    .    .    .    .    .    .    .    .    .    1    .    .    .    .    .    .    .    .    .    .    .    .    .    .    .    .    .    .    .    .    .    .    .    .    .    .    .    .    .    .    .    .    .    .    .    .    .    .    .    .    .    .    .    .    .    .    .    .    .    .    .    .    .    .    .    .    .    .    .    .    .    .    .    .    .    .    .    .    .    .    .    .    .    .    .    .    .    .    .    .    .    .    .    .    .    .    .    .    .    .   <.>   .    .    .    .    .    .    .    . |\n",
      "    WDT-HL |    .    .    .    .    .    .    .    .    .    .    .    .    .    .    .    .    .    .    .    .    .    .    .    .    .    .    .    .    .    .    .    .    .    .    .    .    .    .    .    .    .    .    .    .    .    .    .    .    .    .    .    .    .    .    .    .    .    .    .    .    .    .    .    .    .    .    .    .    .    .    .    .    .    .    .    .    .    .    .    .    .    .    .    .    .    .    .    .    .    .    .    .    .    .    .    .    .    .    .    .    .    .    .    .    .    .    .    .    .    .    .    .    .    .    .    .    .    .    .    .    .    .    .    .    .    .    .    .    .    .    .    .    .    .    .    .    .    .    .    .    .    .    .    .    .    .    .    .    .    .    .    .    .    .    .    .    .    .    .    .    .    .    .    .    .    .    .    .    .    .    .    .    .    .    .    .    .    .    .    .    .    .    .    .    .    .    .    .    .    .    .    .    .    .    .    .    3    .    .   <.>   .    .    .    .    .    .    . |\n",
      "       WP$ |    .    .    .    .    .    .    .    .    .    .    .    .    .    .    .    .    .    .    .    .    .    .    .    .    .    .    .    .    .    .    .    .    .    .    .    .    .    .    .    .    .    .    .    .    .    .    .    .    .    .    .    .    .    .    .    .    .    .    .    .    .    .    .    .    .    .    .    .    .    .    .    .    .    .    .    .    .    .    .    .    .    .    .    .    .    .    .    .    .    .    .    .    .    .    .    .    .    .    .    .    .    .    .    .    .    .    .    .    .    .    .    .    .    .    .    .    .    .    .    .    .    .    .    .    .    .    .    .    .    .    .    .    .    .    .    .    .    .    .    .    .    .    .    .    .    .    .    .    .    .    .    .    .    .    .    .    .    .    .    .    .    .    .    .    .    .    .    .    .    .    .    .    .    .    .    .    .    .    .    .    .    .    .    .    .    .    .    .    .    .    .    .    .    .    .    .    .    .    .    .  <11>   .    .    .    .    .    . |\n",
      "       WPO |    .    .    .    .    .    .    .    .    .    .    .    .    .    .    .    .    .    .    .    .    .    .    .    .    .    .    .    .    .    .    .    .    .    .    .    .    .    .    .    .    .    .    .    .    .    .    .    .    5    .    .    .    .    .    .    .    .    .    .    1    .    .    .    .    .    .    .    .    .    .    .    .    .    .    .    .    .    .    .    .    .    .    .    .    .    .    .    .    .    .    .    .    .    .    .    .    .    .    .    .    .    .    .    .    .    .    .    .    .    .    .    .    .    .    .    .    .    .    .    .    .    .    .    .    .    .    .    .    .    .    .    .    .    .    .    .    .    .    .    .    .    .    .    .    .    .    .    .    .    .    .    .    .    .    .    .    .    .    .    .    .    .    .    .    .    .    .    .    .    .    .    .    .    .    .    .    .    .    .    .    .    .    .    .    .    .    .    .    .    .    .    .    .    .    .    .    .    .    .    .    .   <8>   .    .    .    .    . |\n",
      "    WPO-TL |    .    .    .    .    .    .    .    .    .    .    .    .    .    .    .    .    .    .    .    .    .    .    .    .    .    .    .    .    .    .    .    .    .    .    .    .    .    .    .    .    .    .    .    .    .    .    .    .    .    .    .    .    .    .    .    .    .    .    .    .    .    .    .    .    .    .    .    .    .    .    .    .    .    .    .    .    .    .    .    .    .    .    .    .    .    .    .    .    .    .    .    .    .    .    .    .    .    .    .    .    .    .    .    .    .    .    .    1    .    .    .    .    .    .    .    .    .    .    .    .    .    .    .    .    .    .    .    .    .    .    .    .    .    .    .    .    .    .    .    .    .    .    .    .    .    .    .    .    .    .    .    .    .    .    .    .    .    .    .    .    .    .    .    .    .    .    .    .    .    .    .    .    .    .    .    .    .    .    .    .    .    .    .    .    .    .    .    .    .    .    .    .    .    .    .    .    .    .    .    .    .    .   <.>   .    .    .    . |\n",
      "       WPS |    .    .    .    .    .    .    .    .    .    .    .    .    .    .    .    .    .    .    .    .    .    .    .    .    .    .    .    .    .    .    .    .    .    .    .    .    .    .    .    .    .    .    .    .    .    .    .    .   52    .    .    .    .    .    .    .    .    .    .    1    .    .    .    .    .    .    .    .    .    .    .    .    .    .    .    .    .    .    .    .    .    .    .    .    .    .    .    .    .    .    .    .    .    .    .    .    .    .    .    .    .    .    .    .    .    .    .    5    .    .    .    .    .    .    .    .    .    .    .    .    .    .    .    .    .    .    .    .    .    .    .    .    .    .    .    .    .    .    .    .    .    .    .    .    .    .    .    .    .    .    .    .    .    .    .    .    .    .    .    .    .    .    .    .    .    .    .    .    .    .    .    .    .    .    .    .    .    .    .    .    .    .    .    .    .    .    .    .    .    .    .    .    .    .    .    .    .    .    .    .    .    .    . <210>   .    .    . |\n",
      "       WRB |    .    .    .    .    .    .    .    .    .    .    .    .    .    .    .    .    .    .    .    .    .    .    .    .    .    .    .    .    .    .    .    .    .    .    .    .    .    .    .    .    .    .    .    .    .    .    .    .    .    .    .    .    .    .    .    .    .    .    .    .    .    .    .    .    .    .    .    .    .    .    .    .    .    .    .    .    .    .    .    .    .    .    .    .    .    .    .    .    .    .    .    .    .    .    .    .    .    .    .    .    .    .    .    .    .    .    .    3    .    .    .    .    .    .    .    .    .    .    .    .    .    .    .    .    .    .    .    .    .    .    .    .    .    .    .    .    .    .    .    .    .    .    .    .    .    .    .    .    .    .    .    .    .    .    .    .    .    .    .    .    .    .    .    1    .    .    .    .    .    .    .    .    .    .    .    .    .    .    .    .    .    .    .    .    .    .    .    .    .    .    .    .    .    .    .    .    .    .    .    .    .    .    .    . <256>   .    . |\n",
      "    WRB-HL |    .    .    .    .    .    .    .    .    .    .    .    .    .    .    .    .    .    .    .    .    .    .    .    .    .    .    .    .    .    .    .    .    .    .    .    .    .    .    .    .    .    .    .    .    .    .    .    .    .    .    .    .    .    .    .    .    .    .    .    .    .    .    .    .    .    .    .    .    .    .    .    .    .    .    .    .    .    .    .    .    .    .    .    .    .    .    .    .    .    .    .    .    .    .    .    .    .    .    .    .    .    .    .    .    .    .    .    .    .    .    .    .    .    .    .    .    .    .    .    .    .    .    .    .    .    .    .    .    .    .    .    .    .    .    .    .    .    .    .    .    .    .    .    .    .    .    .    .    .    .    .    .    .    .    .    .    .    .    .    .    .    .    .    .    .    .    .    .    .    .    .    .    .    .    .    .    .    .    .    .    .    .    .    .    .    .    .    .    .    .    .    .    .    .    .    .    .    .    .    .    .    .    .    .    3   <.>   . |\n",
      "        `` |    .    .    .    .    .    .    .    .    .    .    .    .    .    .    .    .    .    .    .    .    .    .    .    .    .    .    .    .    .    .    .    .    .    .    .    .    .    .    .    .    .    .    .    .    .    .    .    .    .    .    .    .    .    .    .    .    .    .    .    .    .    .    .    .    .    .    .    .    .    .    .    .    .    .    .    .    .    .    .    .    .    .    .    .    .    .    .    .    .    .    .    .    .    .    .    .    .    .    .    .    .    .    .    .    .    .    .    .    .    .    .    .    .    .    .    .    .    .    .    .    .    .    .    .    .    .    .    .    .    .    .    .    .    .    .    .    .    .    .    .    .    .    .    .    .    .    .    .    .    .    .    .    .    .    .    .    .    .    .    .    .    .    .    .    .    .    .    .    .    .    .    .    .    .    .    .    .    .    .    .    .    .    .    .    .    .    .    .    .    .    .    .    .    .    .    .    .    .    .    .    .    .    .    .    .    . <396>|\n",
      "-----------+----------------------------------------------------------------------------------------------------------------------------------------------------------------------------------------------------------------------------------------------------------------------------------------------------------------------------------------------------------------------------------------------------------------------------------------------------------------------------------------------------------------------------------------------------------------------------------------------------------------------------------------------------------------------------------------------------------------------------------------------------------------------------------------------------------------------------------------------------------------------------------------------------------------------------------------------------------------------------------------------------------------------------------------------------------------------------+\n",
      "(row = reference; col = test)\n",
      "\n",
      "Wall time: 475 ms\n"
     ]
    }
   ],
   "source": [
    "%%time\n",
    "test_tags = [tag for sent in brown.sents(categories = 'editorial')\n",
    "            for (word, tag) in t2.tag(sent)]\n",
    "gold_tags = [tag for word, tag in brown.tagged_words(categories = 'editorial')]\n",
    "print(nltk.ConfusionMatrix(gold_tags, test_tags))"
   ]
  },
  {
   "cell_type": "markdown",
   "metadata": {},
   "source": [
    "### Transformation-Based Tagging"
   ]
  },
  {
   "cell_type": "markdown",
   "metadata": {},
   "source": [
    "Problem with n-gram tagginf:<br>\n",
    "1. Gigantic Size\n",
    "2. Only information considered from prior context is tags"
   ]
  },
  {
   "cell_type": "markdown",
   "metadata": {},
   "source": [
    "**Brill Tagging** : guess the tag of each word, then go back and fix the mistakes. In this way, a Brill tagger successively transforms a bad taggin of text into a better one.<br>\n",
    "n-gram tagging is supervised learning method.<br>\n",
    "However, unlike n-gram tagging, it doesn't count observations but compiles a list of transformational correction rules."
   ]
  },
  {
   "cell_type": "code",
   "execution_count": 115,
   "metadata": {},
   "outputs": [
    {
     "ename": "AttributeError",
     "evalue": "module 'nltk.tag.brill' has no attribute 'demo'",
     "output_type": "error",
     "traceback": [
      "\u001b[1;31m---------------------------------------------------------------------------\u001b[0m",
      "\u001b[1;31mAttributeError\u001b[0m                            Traceback (most recent call last)",
      "\u001b[1;32m<timed eval>\u001b[0m in \u001b[0;36m<module>\u001b[1;34m()\u001b[0m\n",
      "\u001b[1;31mAttributeError\u001b[0m: module 'nltk.tag.brill' has no attribute 'demo'"
     ]
    }
   ],
   "source": [
    "%%time\n",
    "nltk.tag.brill.demo()"
   ]
  },
  {
   "cell_type": "code",
   "execution_count": 118,
   "metadata": {},
   "outputs": [
    {
     "data": {
      "text/plain": [
       "[('near', 'IN')]"
      ]
     },
     "execution_count": 118,
     "metadata": {},
     "output_type": "execute_result"
    }
   ],
   "source": [
    "nltk.pos_tag(['near'])"
   ]
  },
  {
   "cell_type": "code",
   "execution_count": null,
   "metadata": {
    "collapsed": true
   },
   "outputs": [],
   "source": []
  }
 ],
 "metadata": {
  "kernelspec": {
   "display_name": "Python 3",
   "language": "python",
   "name": "python3"
  },
  "language_info": {
   "codemirror_mode": {
    "name": "ipython",
    "version": 3
   },
   "file_extension": ".py",
   "mimetype": "text/x-python",
   "name": "python",
   "nbconvert_exporter": "python",
   "pygments_lexer": "ipython3",
   "version": "3.6.3"
  }
 },
 "nbformat": 4,
 "nbformat_minor": 2
}

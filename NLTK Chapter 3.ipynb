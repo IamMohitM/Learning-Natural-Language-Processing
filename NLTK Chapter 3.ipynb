{
 "cells": [
  {
   "cell_type": "code",
   "execution_count": 2,
   "metadata": {
    "collapsed": true
   },
   "outputs": [],
   "source": [
    "from __future__ import division\n",
    "import nltk, re, pprint\n",
    "from bs4 import BeautifulSoup"
   ]
  },
  {
   "cell_type": "code",
   "execution_count": 60,
   "metadata": {},
   "outputs": [
    {
     "data": {
      "text/plain": [
       "str"
      ]
     },
     "execution_count": 60,
     "metadata": {},
     "output_type": "execute_result"
    }
   ],
   "source": [
    "from urllib.request import urlopen\n",
    "url=\"http://www.gutenberg.org/files/2554/2554-0.txt\"\n",
    "raw = urlopen(url).read()\n",
    "raw=str(raw)\n",
    "type(raw)\n"
   ]
  },
  {
   "cell_type": "code",
   "execution_count": 61,
   "metadata": {},
   "outputs": [
    {
     "data": {
      "text/plain": [
       "1358496"
      ]
     },
     "execution_count": 61,
     "metadata": {},
     "output_type": "execute_result"
    }
   ],
   "source": [
    "len(raw)"
   ]
  },
  {
   "cell_type": "code",
   "execution_count": 62,
   "metadata": {},
   "outputs": [
    {
     "data": {
      "text/plain": [
       "\"b'\\\\xef\\\\xbb\\\\xbfThe Project Gutenberg EBook of Crime and Punishment, by Fyodo\""
      ]
     },
     "execution_count": 62,
     "metadata": {},
     "output_type": "execute_result"
    }
   ],
   "source": [
    "raw[:75]"
   ]
  },
  {
   "cell_type": "markdown",
   "metadata": {},
   "source": [
    "Break up the string into words and punctuation - Tokenization"
   ]
  },
  {
   "cell_type": "code",
   "execution_count": null,
   "metadata": {
    "collapsed": true
   },
   "outputs": [],
   "source": []
  },
  {
   "cell_type": "code",
   "execution_count": 63,
   "metadata": {},
   "outputs": [
    {
     "data": {
      "text/plain": [
       "225596"
      ]
     },
     "execution_count": 63,
     "metadata": {},
     "output_type": "execute_result"
    }
   ],
   "source": [
    "tokens = nltk.word_tokenize(raw)\n",
    "len(tokens)"
   ]
  },
  {
   "cell_type": "code",
   "execution_count": 64,
   "metadata": {},
   "outputs": [
    {
     "data": {
      "text/plain": [
       "[\"b'\\\\xef\\\\xbb\\\\xbfThe\",\n",
       " 'Project',\n",
       " 'Gutenberg',\n",
       " 'EBook',\n",
       " 'of',\n",
       " 'Crime',\n",
       " 'and',\n",
       " 'Punishment',\n",
       " ',',\n",
       " 'by']"
      ]
     },
     "execution_count": 64,
     "metadata": {},
     "output_type": "execute_result"
    }
   ],
   "source": [
    "tokens[:10]"
   ]
  },
  {
   "cell_type": "markdown",
   "metadata": {},
   "source": [
    "To carry out all the nltk operations we just need to convert it to nltk text"
   ]
  },
  {
   "cell_type": "code",
   "execution_count": 65,
   "metadata": {},
   "outputs": [
    {
     "data": {
      "text/plain": [
       "nltk.text.Text"
      ]
     },
     "execution_count": 65,
     "metadata": {},
     "output_type": "execute_result"
    }
   ],
   "source": [
    "text=nltk.Text(tokens)\n",
    "type(text)"
   ]
  },
  {
   "cell_type": "code",
   "execution_count": 66,
   "metadata": {},
   "outputs": [
    {
     "name": "stdout",
     "output_type": "stream",
     "text": [
      "Katerina Ivanovna; Pyotr Petrovitch; Avdotya Romanovna; Pulcheria\n",
      "Alexandrovna; Rodion Romanovitch; Marfa Petrovna; \\xe2\\x80\\x9d cried;\n",
      "Sofya Semyonovna; \\xe2\\x80\\x9d said; old woman; \\xe2\\x80\\x9d\n",
      "Raskolnikov; Porfiry Petrovitch; Project Gutenberg-tm;\n",
      "don\\xe2\\x80\\x99t know; great deal; Amalia Ivanovna; young man; Hay\n",
      "Market; police station; Nikodim Fomitch\n"
     ]
    }
   ],
   "source": [
    "text.collocations()"
   ]
  },
  {
   "cell_type": "code",
   "execution_count": 67,
   "metadata": {},
   "outputs": [
    {
     "data": {
      "text/plain": [
       "1338288"
      ]
     },
     "execution_count": 67,
     "metadata": {},
     "output_type": "execute_result"
    }
   ],
   "source": [
    "raw.rfind(\"End of Project\")"
   ]
  },
  {
   "cell_type": "markdown",
   "metadata": {},
   "source": [
    "Text found on Web may contain unwanted material and there may not be an automatic way. Hence, we deal with HTML."
   ]
  },
  {
   "cell_type": "markdown",
   "metadata": {},
   "source": [
    "### Dealing with HTML"
   ]
  },
  {
   "cell_type": "code",
   "execution_count": 68,
   "metadata": {},
   "outputs": [
    {
     "data": {
      "text/plain": [
       "b'<!doctype html public \"-//W3C//DTD HTML 4.0 Transitional//EN'"
      ]
     },
     "execution_count": 68,
     "metadata": {},
     "output_type": "execute_result"
    }
   ],
   "source": [
    "url=\"http://news.bbc.co.uk/2/hi/health/2284783.stm\" #BBC News Story 'Blondies to die out in 200 years\n",
    "html=urlopen(url).read()\n",
    "html[:60]"
   ]
  },
  {
   "cell_type": "code",
   "execution_count": 71,
   "metadata": {},
   "outputs": [
    {
     "name": "stdout",
     "output_type": "stream",
     "text": [
      "['BBC', 'NEWS', '|', 'Health', '|', 'Blondes', \"'to\", 'die', 'out', 'in', '200', \"years'\", 'NEWS', 'SPORT', 'WEATHER', 'WORLD', 'SERVICE', 'A-Z', 'INDEX', 'SEARCH', 'You', 'are', 'in', ':', 'Health', 'News', 'Front', 'Page', 'Africa', 'Americas', 'Asia-Pacific', 'Europe', 'Middle', 'East', 'South', 'Asia', 'UK', 'Business', 'Entertainment', 'Science/Nature', 'Technology', 'Health', 'Medical', 'notes', '--', '--', '--', '--', '--', '--', '-', 'Talking', 'Point', '--', '--', '--', '--', '--', '--', '-', 'Country', 'Profiles', 'In', 'Depth', '--', '--', '--', '--', '--', '--', '-', 'Programmes', '--', '--', '--', '--', '--', '--', '-', 'SERVICES', 'Daily', 'E-mail', 'News', 'Ticker', 'Mobile/PDAs', '--', '--', '--', '--', '--', '--', '-', 'Text', 'Only', 'Feedback', 'Help', 'EDITIONS', 'Change', 'to', 'UK', 'Friday', ',', '27', 'September', ',', '2002', ',', '11:51', 'GMT', '12:51', 'UK', 'Blondes', \"'to\", 'die', 'out', 'in', '200', \"years'\", 'Scientists', 'believe', 'the', 'last', 'blondes', 'will', 'be', 'in', 'Finland', 'The', 'last', 'natural', 'blondes', 'will', 'die', 'out', 'within', '200', 'years', ',', 'scientists', 'believe', '.', 'A', 'study', 'by', 'experts', 'in', 'Germany', 'suggests', 'people', 'with', 'blonde', 'hair', 'are', 'an', 'endangered', 'species', 'and', 'will', 'become', 'extinct', 'by', '2202', '.', 'Researchers', 'predict', 'the', 'last', 'truly', 'natural', 'blonde', 'will', 'be', 'born', 'in', 'Finland', '-', 'the', 'country', 'with', 'the', 'highest', 'proportion', 'of', 'blondes', '.', 'The', 'frequency', 'of', 'blondes', 'may', 'drop', 'but', 'they', 'wo', \"n't\", 'disappear', 'Prof', 'Jonathan', 'Rees', ',', 'University', 'of', 'Edinburgh', 'But', 'they', 'say', 'too', 'few', 'people', 'now', 'carry', 'the', 'gene', 'for', 'blondes', 'to', 'last', 'beyond', 'the', 'next', 'two', 'centuries', '.', 'The', 'problem', 'is', 'that', 'blonde', 'hair', 'is', 'caused', 'by', 'a', 'recessive', 'gene', '.', 'In', 'order', 'for', 'a', 'child', 'to', 'have', 'blonde', 'hair', ',', 'it', 'must', 'have', 'the', 'gene', 'on', 'both', 'sides', 'of', 'the', 'family', 'in', 'the', 'grandparents', \"'\", 'generation', '.', 'Dyed', 'rivals', 'The', 'researchers', 'also', 'believe', 'that', 'so-called', 'bottle', 'blondes', 'may', 'be', 'to', 'blame', 'for', 'the', 'demise', 'of', 'their', 'natural', 'rivals', '.', 'They', 'suggest', 'that', 'dyed-blondes', 'are', 'more', 'attractive', 'to', 'men', 'who', 'choose', 'them', 'as', 'partners', 'over', 'true', 'blondes', '.', 'Bottle-blondes', 'like', 'Ann', 'Widdecombe', 'may', 'be', 'to', 'blame', 'But', 'Jonathan', 'Rees', ',', 'professor', 'of', 'dermatology', 'at', 'the', 'University', 'of', 'Edinburgh', 'said', 'it', 'was', 'unlikely', 'blondes', 'would', 'die', 'out', 'completely', '.', '``', 'Genes', 'do', \"n't\", 'die', 'out', 'unless', 'there', 'is', 'a', 'disadvantage', 'of', 'having', 'that', 'gene', 'or', 'by', 'chance', '.', 'They', 'do', \"n't\", 'disappear', ',', \"''\", 'he', 'told', 'BBC', 'News', 'Online', '.', '``', 'The', 'only', 'reason', 'blondes', 'would', 'disappear', 'is', 'if', 'having', 'the', 'gene', 'was', 'a', 'disadvantage', 'and', 'I', 'do', 'not', 'think', 'that', 'is', 'the', 'case', '.', '``', 'The', 'frequency', 'of', 'blondes', 'may', 'drop', 'but', 'they', 'wo', \"n't\", 'disappear', '.', \"''\", 'See', 'also', ':', '28', 'Mar', '01', '|', 'Education', 'What', 'is', 'it', 'about', 'blondes', '?', '09', 'Apr', '99', '|', 'Health', 'Platinum', 'blondes', 'are', 'labelled', 'as', 'dumb', '17', 'Apr', '02', '|', 'Health', 'Hair', 'dye', 'cancer', 'alert', 'Internet', 'links', ':', 'University', 'of', 'Edinburgh', 'The', 'BBC', 'is', 'not', 'responsible', 'for', 'the', 'content', 'of', 'external', 'internet', 'sites', 'Top', 'Health', 'stories', 'now', ':', 'Heart', 'risk', 'link', 'to', 'big', 'families', 'Back', 'pain', 'drug', \"'may\", 'aid', \"diabetics'\", 'Congo', 'Ebola', 'outbreak', 'confirmed', 'Vegetables', 'ward', 'off', \"Alzheimer's\", 'Polio', 'campaign', 'launched', 'in', 'Iraq', 'Gene', 'defect', 'explains', 'high', 'blood', 'pressure', 'Botox', \"'may\", 'cause', 'new', \"wrinkles'\", 'Alien', \"'abductees\", \"'\", 'show', 'real', 'symptoms', 'Links', 'to', 'more', 'Health', 'stories', 'are', 'at', 'the', 'foot', 'of', 'the', 'page', '.', 'E-mail', 'this', 'story', 'to', 'a', 'friend', 'Links', 'to', 'more', 'Health', 'stories', 'In', 'This', 'Section', 'Heart', 'risk', 'link', 'to', 'big', 'families', 'Back', 'pain', 'drug', \"'may\", 'aid', \"diabetics'\", 'Congo', 'Ebola', 'outbreak', 'confirmed', 'Vegetables', 'ward', 'off', \"Alzheimer's\", 'Polio', 'campaign', 'launched', 'in', 'Iraq', 'Gene', 'defect', 'explains', 'high', 'blood', 'pressure', 'Botox', \"'may\", 'cause', 'new', \"wrinkles'\", 'Alien', \"'abductees\", \"'\", 'show', 'real', 'symptoms', 'How', 'sperm', 'wriggle', 'Bollywood', 'told', 'to', 'stub', 'it', 'out', 'Fears', 'over', 'tuna', 'health', 'risk', 'to', 'babies', 'Public', 'can', 'be', 'taught', 'to', 'spot', 'strokes', '^^', 'Back', 'to', 'top', 'News', 'Front', 'Page', '|', 'Africa', '|', 'Americas', '|', 'Asia-Pacific', '|', 'Europe', '|', 'Middle', 'East', '|', 'South', 'Asia', '|', 'UK', '|', 'Business', '|', 'Entertainment', '|', 'Science/Nature', '|', 'Technology', '|', 'Health', '|', 'Talking', 'Point', '|', 'Country', 'Profiles', '|', 'In', 'Depth', '|', 'Programmes', '--', '--', '--', '--', '--', '--', '--', '--', '--', '--', '--', '--', '--', '--', '--', '--', '--', '--', '--', '--', '--', '--', '--', '--', '--', '--', '--', '--', '--', '--', '--', '--', '--', '--', '--', '--', '--', '--', '--', '--', '--', 'To', 'BBC', 'Sport', '>', '>', '|', 'To', 'BBC', 'Weather', '>', '>', '|', 'To', 'BBC', 'World', 'Service', '>', '>', '--', '--', '--', '--', '--', '--', '--', '--', '--', '--', '--', '--', '--', '--', '--', '--', '--', '--', '--', '--', '--', '--', '--', '--', '--', '--', '--', '--', '--', '--', '--', '--', '--', '--', '--', '--', '--', '--', '--', '--', '--', '©', 'MMIII', '|', 'News', 'Sources', '|', 'Privacy', '<', '!', '--', 'var', 'pCid=', \"''\", 'uk_bbc_0', \"''\", ';', 'var', 'w0=1', ';', 'var', 'refR=escape', '(', 'document.referrer', ')', ';', 'if', '(', 'refR.length', '>', '=252', ')', 'refR=refR.substring', '(', '0,252', ')', '+', \"''\", '...', \"''\", ';', '//', '--', '>', '<', '!', '--', 'var', 'w0=0', ';', '//', '--', '>', '<', '!', '--', 'if', '(', 'w0', ')', '{', 'var', 'imgN=', \"'\", '<', 'img', 'src=', \"''\", 'http', ':', '//server-uk.imrworldwide.com/cgi-bin/count', '?', \"ref='+\", 'refR+', \"'\", '&', \"cid='+pCid+\", \"'\", \"''\", 'width=1', 'height=1', '>', \"'\", ';', 'if', '(', 'navigator.userAgent.indexOf', '(', \"'Mac\", \"'\", ')', '!', '=-1', ')', '{', 'document.write', '(', 'imgN', ')', ';', '}', 'else', '{', 'document.write', '(', \"'\", '<', 'applet', 'code=', \"''\", 'Measure.class', \"''\", \"'+\", \"'codebase=\", \"''\", 'http', ':', '//server-uk.imrworldwide.com/', \"''\", \"'+'width=1\", 'height=2', '>', \"'+\", \"'\", '<', 'param', 'name=', \"''\", 'ref', \"''\", 'value=', \"''\", \"'+refR+\", \"'\", \"''\", '>', \"'+\", \"'\", '<', 'param', 'name=', \"''\", 'cid', \"''\", 'value=', \"''\", \"'+pCid+\", \"'\", \"''\", '>', '<', 'textflow', '>', \"'+imgN+\", \"'\", '<', '/textflow', '>', '<', '/applet', '>', \"'\", ')', ';', '}', '}', 'document.write', '(', '``', '<', 'COMMENT', '>', \"''\", ')', ';', '//', '--', '>', 'var', 'si', '=', 'document.location+', \"''\", \"''\", ';', 'var', 'tsi', '=', 'si.replace', '(', '``', '.stm', \"''\", ',', \"''\", \"''\", ')', '.substr', '(', 'si.length-11', ',', 'si.length', ')', ';', 'if', '(', '!', 'tsi.match', '(', '/\\\\d\\\\d\\\\d\\\\d\\\\d\\\\d\\\\d/', ')', ')', '{', 'tsi', '=', '0', ';', '}', 'document.write', '(', \"'\", '<', 'img', 'src=', \"''\", 'http', ':', '//stats.bbc.co.uk/o.gif', '?', '~RS~s~RS~News~RS~t~RS~HighWeb_Legacy~RS~i~RS~', \"'\", '+', 'tsi', '+', \"'~RS~p~RS~0~RS~u~RS~/2/hi/health/2284783.stm~RS~r~RS~\", '(', 'none', ')', '~RS~a~RS~International~RS~q~RS~~RS~z~RS~07~RS~', \"''\", '>', \"'\", ')', ';']\n"
     ]
    }
   ],
   "source": [
    "raw=BeautifulSoup(html,'html.parser').get_text()\n",
    "tokens=nltk.word_tokenize(raw)\n",
    "print(tokens)"
   ]
  },
  {
   "cell_type": "code",
   "execution_count": 74,
   "metadata": {},
   "outputs": [
    {
     "name": "stdout",
     "output_type": "stream",
     "text": [
      "['are', 'more', 'attractive', 'to', 'men', 'who', 'choose', 'them', 'as', 'partners', 'over', 'true', 'blondes', '.', 'Bottle-blondes', 'like', 'Ann', 'Widdecombe', 'may', 'be', 'to', 'blame', 'But', 'Jonathan', 'Rees', ',', 'professor', 'of', 'dermatology', 'at', 'the', 'University', 'of', 'Edinburgh', 'said', 'it', 'was', 'unlikely', 'blondes', 'would', 'die', 'out', 'completely', '.', '``', 'Genes', 'do', \"n't\", 'die', 'out', 'unless', 'there', 'is', 'a', 'disadvantage', 'of', 'having', 'that', 'gene', 'or', 'by', 'chance', '.', 'They', 'do', \"n't\", 'disappear', ',', \"''\", 'he', 'told', 'BBC', 'News', 'Online', '.', '``', 'The', 'only', 'reason', 'blondes', 'would', 'disappear', 'is', 'if', 'having', 'the', 'gene', 'was', 'a', 'disadvantage', 'and', 'I', 'do', 'not', 'think', 'that', 'is', 'the', 'case', '.', '``', 'The', 'frequency', 'of', 'blondes', 'may', 'drop', 'but', 'they', 'wo']\n"
     ]
    }
   ],
   "source": [
    "tokens=tokens[96:399]\n",
    "print(tokens)"
   ]
  },
  {
   "cell_type": "code",
   "execution_count": 76,
   "metadata": {},
   "outputs": [
    {
     "name": "stdout",
     "output_type": "stream",
     "text": [
      "Displaying 2 of 2 matches:\n",
      "ere is a disadvantage of having that gene or by chance . They do n't disappear\n",
      "des would disappear is if having the gene was a disadvantage and I do not thin\n"
     ]
    }
   ],
   "source": [
    "text = nltk.Text(tokens)\n",
    "text.concordance('gene')"
   ]
  },
  {
   "cell_type": "markdown",
   "metadata": {},
   "source": [
    "### Processing Search Engine Results`"
   ]
  },
  {
   "cell_type": "markdown",
   "metadata": {},
   "source": [
    "The Web can be thought of as a huge corpus of unannotated text. Web search engines\n",
    "provide an efficient means of searching this large quantity of text for relevant linguistic\n",
    "examples. The main advantage of search engines is size: since you are searching such\n",
    "a large set of documents, you are more likely to find any linguistic pattern you are\n",
    "interested in. Furthermore, you can make use of very specific patterns, which would\n",
    "match only one or two examples on a smaller example, but which might match tens of\n",
    "thousands of examples when run on the Web. A second advantage of web search engines\n",
    "is that they are very easy to use. Thus, they provide a very convenient tool for\n",
    "quickly checking a theory, to see if it is reasonable."
   ]
  },
  {
   "cell_type": "markdown",
   "metadata": {},
   "source": [
    "### Processing RSS Feeds "
   ]
  },
  {
   "cell_type": "code",
   "execution_count": 77,
   "metadata": {
    "collapsed": true
   },
   "outputs": [],
   "source": [
    "import feedparser"
   ]
  },
  {
   "cell_type": "code",
   "execution_count": 78,
   "metadata": {},
   "outputs": [
    {
     "data": {
      "text/plain": [
       "'Language Log'"
      ]
     },
     "execution_count": 78,
     "metadata": {},
     "output_type": "execute_result"
    }
   ],
   "source": [
    "llog=feedparser.parse(\"http://languagelog.ldc.upenn.edu/nll/?feed=atom\")\n",
    "llog['feed']['title']"
   ]
  },
  {
   "cell_type": "code",
   "execution_count": 81,
   "metadata": {},
   "outputs": [
    {
     "data": {
      "text/plain": [
       "13"
      ]
     },
     "execution_count": 81,
     "metadata": {},
     "output_type": "execute_result"
    }
   ],
   "source": [
    "len(llog.entries)"
   ]
  },
  {
   "cell_type": "code",
   "execution_count": 82,
   "metadata": {},
   "outputs": [
    {
     "data": {
      "text/plain": [
       "[{'author': 'Mark Liberman',\n",
       "  'author_detail': {'href': 'http://ling.upenn.edu/~myl',\n",
       "   'name': 'Mark Liberman'},\n",
       "  'authors': [{'href': 'http://ling.upenn.edu/~myl', 'name': 'Mark Liberman'}],\n",
       "  'content': [{'base': 'http://languagelog.ldc.upenn.edu/nll/?p=36395',\n",
       "    'language': 'en-US',\n",
       "    'type': 'text/html',\n",
       "    'value': '<p>Is it my imagination, or has there been a drop in GNP (Gross National Peeving) across the Anglophone world? I\\'m not seeing nearly the volume of \"<a href=\"http://languagelog.ldc.upenn.edu/nll/?p=45\" target=\"_blank\" rel=\"noopener\">Angry linguistic mobs with torches</a>\" that I (think I) did a decade ago.</p>\\n<p>So the <a href=\"https://news.google.com/news/search/section/q/continental%20literally?ned=us&amp;gl=US&amp;hl=en\" target=\"_blank\" rel=\"noopener\">recently viral story</a> about this sign on the door of the <a href=\"http://www.continentalnyc.com/\" target=\"_blank\" rel=\"noopener\">Continental bar</a> makes me kind of nostalgic:</p>\\n<blockquote class=\"twitter-tweet\" data-width=\"500\" data-dnt=\"true\">\\n<p lang=\"en\" dir=\"ltr\">East Village bar the Continental expounds on their (tongue-in-cheek) ban on the word literally. Their stated goal now is to stop “Kardashianism.” cc: <a href=\"https://twitter.com/edenbrower?ref_src=twsrc%5Etfw\">@edenbrower</a> <a href=\"https://t.co/iI0N41qCgt\">pic.twitter.com/iI0N41qCgt</a></p>\\n<p>&mdash; evgrieve (@evgrieve) <a href=\"https://twitter.com/evgrieve/status/956160126804688896?ref_src=twsrc%5Etfw\">January 24, 2018</a></p></blockquote>\\n<p><script async src=\"https://platform.twitter.com/widgets.js\" charset=\"utf-8\"></script></p>\\n<p><span id=\"more-36395\"></span></p>\\n<p>It\\'s also interesting that the bar owner, Trigger Smith, has eighty sixed all uses of <em>literally</em>, not just the ones that are stigmatized as contrary to the word\\'s etymology.</p>\\n<p>Of course the stigmatized usage has a long and semi-distinguished history &#8212; the OED lists it this way:</p>\\n<p style=\"padding-left: 30px;\"><strong>1.c.</strong> <em>colloq.</em> Used to indicate that some (frequently conventional) metaphorical or hyperbolical expression is to be taken in the strongest admissible sense: ‘virtually, as good as’; (also) ‘completely, utterly, absolutely’. Now one of the most common uses, although often considered irregular in standard English since it reverses the original sense of <em>literally</em> (‘not figuratively or metaphorically’).</p>\\n<p style=\"padding-left: 30px;\"><strong> 1769</strong> F. Brooke <em>Hist. Emily Montague</em> IV. ccxvii. 83 He is a fortunate man to be introduced to such a party of fine women at his arrival; it is literally to feed among the lilies.<br />\\n<strong>1801</strong> <em>Spirit of Farmers\\' Museum</em> 262 He is, literally, made up of marechal powder, cravat, and bootees.<br />\\n<strong>1825</strong> J. Denniston<em> Legends Galloway</em> 99 Lady Kirkclaugh, who, literally worn to a shadow, died of a broken heart.<br />\\n<strong>1863</strong> F. A. Kemble <em>Jrnl. Resid. Georgian Plantation</em> 105 For the last four years..I literally coined money.<br />\\n<strong>1876</strong> ‘M. Twain’ <em>Adventures Tom Sawyer</em> ii. 20 And when the middle of the afternoon came, from being a poor poverty-stricken boy in the morning, Tom was literally rolling in wealth.</p>\\n<p>And of course <em>very</em> and <em>really</em> have trod literally the same path from truth to intensification &#8212; but they apparently made the journey early enough not to run afoul of the semantic immigration authorities.</p>\\n<p>The sign\\'s gratuitous \"Kardashianism\" dig has sparked claims of sexism &#8212; see Clint Rainey, \"<a href=\"http://www.grubstreet.com/2018/01/continental-literally-ban-online-backlash.html\" target=\"_blank\" rel=\"noopener\">Bar That Banned ‘Literally’ Now Being Trashed Figuratively by Online Critics</a>\", <em>Grub Street</em> 1/26/2018. FWIW, my guess is that the association between <em>literally</em> and gender is driven more by prejudice and confirmation bias than by any literal differences in usage frequency.</p>\\n<p>Update &#8212; I should note that GNP is apparently on the rise in France &#8212; see \"<a href=\"http://languagelog.ldc.upenn.edu/nll/?p=34912\" target=\"_blank\" rel=\"noopener\">Écriture inclusive</a>\", 10/9/2017. And perhaps also in China &#8212; \"<a href=\"http://languagelog.ldc.upenn.edu/nll/?p=36350\" target=\"_blank\" rel=\"noopener\">Language vigilantism</a>\", 1/24/2018.</p>\\n<p>&nbsp;</p>'}],\n",
       "  'guidislink': False,\n",
       "  'href': 'http://ling.upenn.edu/~myl',\n",
       "  'id': 'http://languagelog.ldc.upenn.edu/nll/?p=36395',\n",
       "  'link': 'http://languagelog.ldc.upenn.edu/nll/?p=36395',\n",
       "  'links': [{'href': 'http://languagelog.ldc.upenn.edu/nll/?p=36395',\n",
       "    'rel': 'alternate',\n",
       "    'type': 'text/html'},\n",
       "   {'count': '6',\n",
       "    'href': 'http://languagelog.ldc.upenn.edu/nll/?p=36395#comments',\n",
       "    'rel': 'replies',\n",
       "    'thr:count': '6',\n",
       "    'type': 'text/html'},\n",
       "   {'count': '6',\n",
       "    'href': 'http://languagelog.ldc.upenn.edu/nll/?feed=atom&p=36395',\n",
       "    'rel': 'replies',\n",
       "    'thr:count': '6',\n",
       "    'type': 'application/atom+xml'}],\n",
       "  'published': '2018-01-27T00:57:23Z',\n",
       "  'published_parsed': time.struct_time(tm_year=2018, tm_mon=1, tm_mday=27, tm_hour=0, tm_min=57, tm_sec=23, tm_wday=5, tm_yday=27, tm_isdst=0),\n",
       "  'summary': 'Is it my imagination, or has there been a drop in GNP (Gross National Peeving) across the Anglophone world? I\\'m not seeing nearly the volume of \"Angry linguistic mobs with torches\" that I (think I) did a decade ago. So the recently viral story about this sign on the door of the Continental bar makes [&#8230;]',\n",
       "  'summary_detail': {'base': 'http://languagelog.ldc.upenn.edu/nll/wp-atom.php',\n",
       "   'language': 'en-US',\n",
       "   'type': 'text/html',\n",
       "   'value': 'Is it my imagination, or has there been a drop in GNP (Gross National Peeving) across the Anglophone world? I\\'m not seeing nearly the volume of \"Angry linguistic mobs with torches\" that I (think I) did a decade ago. So the recently viral story about this sign on the door of the Continental bar makes [&#8230;]'},\n",
       "  'tags': [{'label': None,\n",
       "    'scheme': 'http://languagelog.ldc.upenn.edu/nll',\n",
       "    'term': 'Peeving'}],\n",
       "  'thr_total': '6',\n",
       "  'title': 'Global drop in GNP?',\n",
       "  'title_detail': {'base': 'http://languagelog.ldc.upenn.edu/nll/wp-atom.php',\n",
       "   'language': 'en-US',\n",
       "   'type': 'text/html',\n",
       "   'value': 'Global drop in GNP?'},\n",
       "  'updated': '2018-01-27T10:19:19Z',\n",
       "  'updated_parsed': time.struct_time(tm_year=2018, tm_mon=1, tm_mday=27, tm_hour=10, tm_min=19, tm_sec=19, tm_wday=5, tm_yday=27, tm_isdst=0)},\n",
       " {'author': 'Victor Mair',\n",
       "  'author_detail': {'href': 'https://www.sas.upenn.edu/ealc/mair',\n",
       "   'name': 'Victor Mair'},\n",
       "  'authors': [{'href': 'https://www.sas.upenn.edu/ealc/mair',\n",
       "    'name': 'Victor Mair'}],\n",
       "  'content': [{'base': 'http://languagelog.ldc.upenn.edu/nll/?p=36354',\n",
       "    'language': 'en-US',\n",
       "    'type': 'text/html',\n",
       "    'value': '<p>Screenshot from Nikita Kuzmin\\'s WeChat:</p>\\n<p align=\"center\"><a href=\"http://languagelog.ldc.upenn.edu/~bgzimmer/chihuo.jpg\"><img title=\"Click to embiggen\" src=\"http://languagelog.ldc.upenn.edu/~bgzimmer/chihuo.jpg\" alt=\"\" width=\"300\" /></a><span id=\"more-36354\"></span></p>\\n<p>The sentence ending in a smiley face, just above the huge broiled trotter (I think that\\'s what it is) on a chair, reads thus:</p>\\n<p style=\"padding-left: 30px;\">Shìwèn nǎge shào(chi)nǚ(huo) bù xiǎng yǒngyǒu yī zhǐ zhèyàng de bàozhěn ne\\xa0<span class=\"m_-3800088303203109760moz-smiley-s1\">:-)</span></p>\\n<p style=\"padding-left: 30px;\">试问哪个少(chi)女(huo)不想拥有一只这样的抱枕呢<span class=\"m_-3800088303203109760moz-smiley-s1\">:-<wbr />)</span></p>\\n<p style=\"padding-left: 30px;\">\"Let me ask, \\'Which foodie girl would not want to have a pillow / bolster like this?\\'\"<span class=\"m_-3800088303203109760moz-smiley-s1\">:-)</span></p>\\n<p>It recent years, it has become very popular in internet language to combine two ideas into one term by glossing the individual syllables of a word in characters with the alternated syllables of another word in parenthetical pinyin.\\xa0 Thus, shào(chi)nǚ(huo) 少(chi)女(huo) = shàonǚ chīhuò 少女吃货 (\"girl who is a foodie / chowhound\")</p>\\n<p>We have examined this technique of lexical formation in several earlier posts:</p>\\n<ul>\\n<li>\"<a href=\"http://languagelog.ldc.upenn.edu/nll/?p=14054\" target=\"_blank\" rel=\"noopener\" data-saferedirecturl=\"https://www.google.com/url?hl=en&amp;q=http://languagelog.ldc.upenn.edu/nll/?p%3D14054&amp;source=gmail&amp;ust=1517068743309000&amp;usg=AFQjCNEhHh44a0xTCdB0qvRzdip5JrdOsw\">Biscriptal juxtaposition in Chinese</a>\" (8/17/14)</li>\\n<li>\"<a href=\"http://languagelog.ldc.upenn.edu/nll/?p=15171\" target=\"_blank\" rel=\"noopener\" data-saferedirecturl=\"https://www.google.com/url?hl=en&amp;q=http://languagelog.ldc.upenn.edu/nll/?p%3D15171&amp;source=gmail&amp;ust=1517068743309000&amp;usg=AFQjCNHGr3U-gcWGRmmrVNO4Dr2t6jFNKw\">Biscriptal juxtaposition in Chinese, part 2</a>\" (10/15/14)</li>\\n<li>\"<a title=\"Permanent link to Biscriptal juxtaposition in Chinese, part 3\" href=\"http://languagelog.ldc.upenn.edu/nll/?p=32317\" target=\"_blank\" rel=\"bookmark noopener\" data-saferedirecturl=\"https://www.google.com/url?hl=en&amp;q=http://languagelog.ldc.upenn.edu/nll/?p%3D32317&amp;source=gmail&amp;ust=1517068743309000&amp;usg=AFQjCNFYG0HBwB6s6rCH8g_NZKw0fymPfw\">Biscriptal juxtaposition in Chinese, part 3</a>\" (4/24/17)</li>\\n</ul>\\n<p>Some other posts on related biscriptal usage:</p>\\n<ul>\\n<li><a href=\"http://languagelog.ldc.upenn.edu/nll/?p=1188\" target=\"_blank\" rel=\"noopener\" data-saferedirecturl=\"https://www.google.com/url?hl=en&amp;q=http://languagelog.ldc.upenn.edu/nll/?p%3D1188&amp;source=gmail&amp;ust=1517068743309000&amp;usg=AFQjCNE8i9vBrDbf_VjgnFYEBXWim3OJYw\">\"</a><a href=\"http://itre.cis.upenn.edu/~myl/languagelog/archives/005318.html\" target=\"_blank\" rel=\"noopener\" data-saferedirecturl=\"https://www.google.com/url?hl=en&amp;q=http://itre.cis.upenn.edu/%257Emyl/languagelog/archives/005318.html&amp;source=gmail&amp;ust=1517068743309000&amp;usg=AFQjCNH36xg-4gkFHRjNJ8ess7OJw9dnjQ\">A new way of 寫ing Mandarin</a>\" (1/13/08)</li>\\n<li><a href=\"http://languagelog.ldc.upenn.edu/nll/?p=1188\" target=\"_blank\" rel=\"noopener\" data-saferedirecturl=\"https://www.google.com/url?hl=en&amp;q=http://languagelog.ldc.upenn.edu/nll/?p%3D1188&amp;source=gmail&amp;ust=1517068743309000&amp;usg=AFQjCNE8i9vBrDbf_VjgnFYEBXWim3OJYw\">\"Zhao C: a Man Who Lost His Name</a>\" (2/27/09)</li>\\n<li><a href=\"http://languagelog.ldc.upenn.edu/nll/?p=3111\" target=\"_blank\" rel=\"noopener\" data-saferedirecturl=\"https://www.google.com/url?hl=en&amp;q=http://languagelog.ldc.upenn.edu/nll/?p%3D3111&amp;source=gmail&amp;ust=1517068743309000&amp;usg=AFQjCNEe1uE-vr8F-NRg79SEg1ozzZGViA\">\"A New Morpheme in Mandarin</a>\" (4/26/11)</li>\\n<li><a href=\"http://languagelog.ldc.upenn.edu/nll/?p=4157\" target=\"_blank\" rel=\"noopener\" data-saferedirecturl=\"https://www.google.com/url?hl=en&amp;q=http://languagelog.ldc.upenn.edu/nll/?p%3D4157&amp;source=gmail&amp;ust=1517068743309000&amp;usg=AFQjCNEBQY5NTey37pxZfOszIn_y5XjS8A\">\"Creeping Romanization in Chinese</a>\" (8/30/12)</li>\\n<li>\"<a href=\"http://languagelog.ldc.upenn.edu/nll/?p=7142\" target=\"_blank\" rel=\"noopener\" data-saferedirecturl=\"https://www.google.com/url?hl=en&amp;q=http://languagelog.ldc.upenn.edu/nll/?p%3D7142&amp;source=gmail&amp;ust=1517068743309000&amp;usg=AFQjCNH5P86kRi6XQoxd20SRkNv-ChiusQ\">Character amnesia and the emergence of digraphia</a>\" (9/25/13)</li>\\n<li>\"<a title=\"Permanent link to Dumpling ingredients and character amnesia\" href=\"http://languagelog.ldc.upenn.edu/nll/?p=15217\" rel=\"bookmark\">Dumpling ingredients and character amnesia</a>\" (10/18/14)</li>\\n<li>\"<a href=\"http://languagelog.ldc.upenn.edu/nll/?p=18115\" target=\"_blank\" rel=\"noopener\" data-saferedirecturl=\"https://www.google.com/url?hl=en&amp;q=http://languagelog.ldc.upenn.edu/nll/?p%3D18115&amp;source=gmail&amp;ust=1517068743309000&amp;usg=AFQjCNEFYNFIvE6TOQ5mm37Agz5y16qQMw\">Digraphia and intentional miswriting</a>\" (3/12/15)</li>\\n<li>\"<a href=\"http://languagelog.ldc.upenn.edu/nll/?p=30847\" target=\"_blank\" rel=\"noopener\" data-saferedirecturl=\"https://www.google.com/url?hl=en&amp;q=http://languagelog.ldc.upenn.edu/nll/?p%3D30847&amp;source=gmail&amp;ust=1517068743309000&amp;usg=AFQjCNHzgztgmrqb1QSnoRsSm7_Uf-Bhew\">A trilingual, biscriptal note (with emoji)</a>\" (2/5/17)</li>\\n<li>\"<a title=\"Permanent link to Impromptu biscriptalism on a Starbucks cup\" href=\"http://languagelog.ldc.upenn.edu/nll/?p=34373\" target=\"_blank\" rel=\"bookmark noopener\" data-saferedirecturl=\"https://www.google.com/url?hl=en&amp;q=http://languagelog.ldc.upenn.edu/nll/?p%3D34373&amp;source=gmail&amp;ust=1517068743309000&amp;usg=AFQjCNHPvXNMnrHwMjThekWbAb6Sa7enCA\">Impromptu biscriptalism on a Starbucks cup</a>\" (9/8/17)</li>\\n<li>\"<a title=\"Permanent link to Biscriptalism on Starbucks cups, part 2\" href=\"http://languagelog.ldc.upenn.edu/nll/?p=34495\" target=\"_blank\" rel=\"bookmark noopener\" data-saferedirecturl=\"https://www.google.com/url?hl=en&amp;q=http://languagelog.ldc.upenn.edu/nll/?p%3D34495&amp;source=gmail&amp;ust=1517068743309000&amp;usg=AFQjCNFkLzdndErYpuTwVJGHkKYkR1ebhw\">Biscriptalism on Starbucks cups, part 2</a>\" (9/16/17)</li>\\n<li>\"<a title=\"Permanent link to Further evidence of mixed script writing in Chinese\" href=\"http://languagelog.ldc.upenn.edu/nll/?p=36248\" target=\"_blank\" rel=\"bookmark noopener\" data-saferedirecturl=\"https://www.google.com/url?hl=en&amp;q=http://languagelog.ldc.upenn.edu/nll/?p%3D36248&amp;source=gmail&amp;ust=1517068743309000&amp;usg=AFQjCNHkOA15XKN2m2kxKOghuiq1t05SSg\">Further evidence of mixed script writing in Chinese</a>\" (1/19/1*)</li>\\n</ul>\\n<p>The script she is a-changin.</p>'}],\n",
       "  'guidislink': False,\n",
       "  'href': 'https://www.sas.upenn.edu/ealc/mair',\n",
       "  'id': 'http://languagelog.ldc.upenn.edu/nll/?p=36354',\n",
       "  'link': 'http://languagelog.ldc.upenn.edu/nll/?p=36354',\n",
       "  'links': [{'href': 'http://languagelog.ldc.upenn.edu/nll/?p=36354',\n",
       "    'rel': 'alternate',\n",
       "    'type': 'text/html'},\n",
       "   {'count': '1',\n",
       "    'href': 'http://languagelog.ldc.upenn.edu/nll/?p=36354#comments',\n",
       "    'rel': 'replies',\n",
       "    'thr:count': '1',\n",
       "    'type': 'text/html'},\n",
       "   {'count': '1',\n",
       "    'href': 'http://languagelog.ldc.upenn.edu/nll/?feed=atom&p=36354',\n",
       "    'rel': 'replies',\n",
       "    'thr:count': '1',\n",
       "    'type': 'application/atom+xml'}],\n",
       "  'published': '2018-01-26T20:36:06Z',\n",
       "  'published_parsed': time.struct_time(tm_year=2018, tm_mon=1, tm_mday=26, tm_hour=20, tm_min=36, tm_sec=6, tm_wday=4, tm_yday=26, tm_isdst=0),\n",
       "  'summary': 'Screenshot from Nikita Kuzmin\\'s WeChat: The sentence ending in a smiley face, just above the huge broiled trotter (I think that\\'s what it is) on a chair, reads thus: Shìwèn nǎge shào(chi)nǚ(huo) bù xiǎng yǒngyǒu yī zhǐ zhèyàng de bàozhěn ne\\xa0:-) 试问哪个少(chi)女(huo)不想拥有一只这样的抱枕呢:-) \"Let me ask, \\'Which foodie girl would not want to have a pillow [&#8230;]',\n",
       "  'summary_detail': {'base': 'http://languagelog.ldc.upenn.edu/nll/wp-atom.php',\n",
       "   'language': 'en-US',\n",
       "   'type': 'text/html',\n",
       "   'value': 'Screenshot from Nikita Kuzmin\\'s WeChat: The sentence ending in a smiley face, just above the huge broiled trotter (I think that\\'s what it is) on a chair, reads thus: Shìwèn nǎge shào(chi)nǚ(huo) bù xiǎng yǒngyǒu yī zhǐ zhèyàng de bàozhěn ne\\xa0:-) 试问哪个少(chi)女(huo)不想拥有一只这样的抱枕呢:-) \"Let me ask, \\'Which foodie girl would not want to have a pillow [&#8230;]'},\n",
       "  'tags': [{'label': None,\n",
       "    'scheme': 'http://languagelog.ldc.upenn.edu/nll',\n",
       "    'term': 'Diglossia and digraphia'},\n",
       "   {'label': None,\n",
       "    'scheme': 'http://languagelog.ldc.upenn.edu/nll',\n",
       "    'term': 'Language on the internets'},\n",
       "   {'label': None,\n",
       "    'scheme': 'http://languagelog.ldc.upenn.edu/nll',\n",
       "    'term': 'Writing systems'}],\n",
       "  'thr_total': '1',\n",
       "  'title': 'Biscriptal juxtaposition in Chinese, part 4',\n",
       "  'title_detail': {'base': 'http://languagelog.ldc.upenn.edu/nll/wp-atom.php',\n",
       "   'language': 'en-US',\n",
       "   'type': 'text/html',\n",
       "   'value': 'Biscriptal juxtaposition in Chinese, part 4'},\n",
       "  'updated': '2018-01-26T20:45:42Z',\n",
       "  'updated_parsed': time.struct_time(tm_year=2018, tm_mon=1, tm_mday=26, tm_hour=20, tm_min=45, tm_sec=42, tm_wday=4, tm_yday=26, tm_isdst=0)},\n",
       " {'author': 'Mark Liberman',\n",
       "  'author_detail': {'href': 'http://ling.upenn.edu/~myl',\n",
       "   'name': 'Mark Liberman'},\n",
       "  'authors': [{'href': 'http://ling.upenn.edu/~myl', 'name': 'Mark Liberman'}],\n",
       "  'content': [{'base': 'http://languagelog.ldc.upenn.edu/nll/?p=36384',\n",
       "    'language': 'en-US',\n",
       "    'type': 'text/html',\n",
       "    'value': '<p>Jay Livingston sends a compendium of tautologies from <em>The Wire</em>:</p>\\n<p><iframe width=\"500\" height=\"281\" src=\"https://www.youtube.com/embed/qoyq88niVEU?feature=oembed\" frameborder=\"0\" allow=\"autoplay; encrypted-media\" allowfullscreen></iframe></p>\\n<p><span id=\"more-36384\"></span></p>\\n<p>Jay comments:</p>\\n<p style=\"padding-left: 30px;\"><span style=\"color: #000080;\">They seem to have at least two different senses. The most obvious is the impossibility of change. \"It is what it is,\"\\xa0 \"What\\'s done is done\"\\xa0 (and cannot be undone &#8212; there may be other similarities between The Wire and MacBeth).\\xa0</span></p>\\n<p style=\"padding-left: 30px;\"><span style=\"color: #000080;\">But some of the tautologies suggest a different meaning &#8212; that this particular instance of X is (or should be) like the Platonic ideal X. \"Men should be men, and women should be women.\" \"Let Keeley be Keeley\" (cf. \"Let Nixon be Nixon.\") \"If you with us, you with us.\"</span></p>\\n<p>Sometimes the interpretation of such phrases seems to be that you shouldn\\'t make things unnecessarily complicated. For example, the song \"<a href=\"https://genius.com/Edie-brickell-and-new-bohemians-what-i-am-lyrics\" target=\"_blank\" rel=\"noopener\">What I am</a>\":</p>\\n<p style=\"padding-left: 30px;\"><span style=\"color: #800000;\">What I am is what I am</span><br />\\n<span style=\"color: #800000;\"> You what you are, or what?</span></p>\\n<p style=\"padding-left: 30px;\"><span style=\"color: #800000;\">I\\'m not aware of too many things</span><br />\\n<span style=\"color: #800000;\"> I know what I know, if you know what I mean</span></p>\\n<p><iframe width=\"500\" height=\"375\" src=\"https://www.youtube.com/embed/tDl3bdE3YQA?feature=oembed\" frameborder=\"0\" allow=\"autoplay; encrypted-media\" allowfullscreen></iframe></p>\\n<p>And maybe Gertrude Stein\\'s \"<a href=\"https://en.wikipedia.org/wiki/Rose_is_a_rose_is_a_rose_is_a_rose\" target=\"_blank\" rel=\"noopener\">(a) rose is a rose is a rose is a rose</a>\". Or the semi-tautological remark <a href=\"https://quoteinvestigator.com/2011/08/12/just-a-cigar/\" target=\"_blank\" rel=\"noopener\">attributed to Sigmund Freud</a>, \"Sometimes a cigar is just a cigar\".</p>\\n<p>Elsewhere on LLOG we\\'ve discussed the CD case that \"<a href=\"http://itre.cis.upenn.edu/~myl/languagelog/archives/005426.html\" target=\"_blank\" rel=\"noopener\">automatically becomes portable when carried</a>\", which seems to be a different sort of case entirely.</p>'}],\n",
       "  'guidislink': False,\n",
       "  'href': 'http://ling.upenn.edu/~myl',\n",
       "  'id': 'http://languagelog.ldc.upenn.edu/nll/?p=36384',\n",
       "  'link': 'http://languagelog.ldc.upenn.edu/nll/?p=36384',\n",
       "  'links': [{'href': 'http://languagelog.ldc.upenn.edu/nll/?p=36384',\n",
       "    'rel': 'alternate',\n",
       "    'type': 'text/html'},\n",
       "   {'count': '9',\n",
       "    'href': 'http://languagelog.ldc.upenn.edu/nll/?p=36384#comments',\n",
       "    'rel': 'replies',\n",
       "    'thr:count': '9',\n",
       "    'type': 'text/html'},\n",
       "   {'count': '9',\n",
       "    'href': 'http://languagelog.ldc.upenn.edu/nll/?feed=atom&p=36384',\n",
       "    'rel': 'replies',\n",
       "    'thr:count': '9',\n",
       "    'type': 'application/atom+xml'}],\n",
       "  'published': '2018-01-26T19:42:37Z',\n",
       "  'published_parsed': time.struct_time(tm_year=2018, tm_mon=1, tm_mday=26, tm_hour=19, tm_min=42, tm_sec=37, tm_wday=4, tm_yday=26, tm_isdst=0),\n",
       "  'summary': 'Jay Livingston sends a compendium of tautologies from The Wire: Jay comments: They seem to have at least two different senses. The most obvious is the impossibility of change. \"It is what it is,\"\\xa0 \"What\\'s done is done\"\\xa0 (and cannot be undone &#8212; there may be other similarities between The Wire and MacBeth).\\xa0 But some [&#8230;]',\n",
       "  'summary_detail': {'base': 'http://languagelog.ldc.upenn.edu/nll/wp-atom.php',\n",
       "   'language': 'en-US',\n",
       "   'type': 'text/html',\n",
       "   'value': 'Jay Livingston sends a compendium of tautologies from The Wire: Jay comments: They seem to have at least two different senses. The most obvious is the impossibility of change. \"It is what it is,\"\\xa0 \"What\\'s done is done\"\\xa0 (and cannot be undone &#8212; there may be other similarities between The Wire and MacBeth).\\xa0 But some [&#8230;]'},\n",
       "  'tags': [{'label': None,\n",
       "    'scheme': 'http://languagelog.ldc.upenn.edu/nll',\n",
       "    'term': 'Semantics'}],\n",
       "  'thr_total': '9',\n",
       "  'title': 'What it is is what it is',\n",
       "  'title_detail': {'base': 'http://languagelog.ldc.upenn.edu/nll/wp-atom.php',\n",
       "   'language': 'en-US',\n",
       "   'type': 'text/html',\n",
       "   'value': 'What it is is what it is'},\n",
       "  'updated': '2018-01-26T19:51:16Z',\n",
       "  'updated_parsed': time.struct_time(tm_year=2018, tm_mon=1, tm_mday=26, tm_hour=19, tm_min=51, tm_sec=16, tm_wday=4, tm_yday=26, tm_isdst=0)},\n",
       " {'author': 'Mark Liberman',\n",
       "  'author_detail': {'href': 'http://ling.upenn.edu/~myl',\n",
       "   'name': 'Mark Liberman'},\n",
       "  'authors': [{'href': 'http://ling.upenn.edu/~myl', 'name': 'Mark Liberman'}],\n",
       "  'content': [{'base': 'http://languagelog.ldc.upenn.edu/nll/?p=36376',\n",
       "    'language': 'en-US',\n",
       "    'type': 'text/html',\n",
       "    'value': '<p><a href=\"http://languagelog.ldc.upenn.edu/myl/LearnNotToAvoid.png\"><img title=\"Click to embiggen\" src=\"http://languagelog.ldc.upenn.edu/myl/LearnNotToAvoid0.png\" width=\"180\" align=\"right\" /></a>Joanna Klein, \"<a href=\"https://www.nytimes.com/2018/01/25/science/swatting-mosquitoes.html\" target=\"_blank\" rel=\"noopener\">Swatting at Mosquitoes May Help You Avoid Bites, Even if you Miss</a>\", NYT 1/25/2018:</p>\\n<p style=\"padding-left: 30px;\"><span style=\"color: #000080;\">If you keep swatting at a mosquito, will it leave you alone? </span></p>\\n<p style=\"padding-left: 30px;\"><span style=\"color: #000080;\">Some scientists think so. But it depends. </span></p>\\n<p style=\"padding-left: 30px;\"><span style=\"color: #000080;\">Some blood meals are worth a mosquito risking its life. But if there’s a more attractive or accepting alternative to feed from, a mosquito may move on to that someone or something instead.\\xa0</span></p>\\n<p>An interesting story. But this is Language Log, not Insect Learning Log, so let\\'s focus on the prominently-displayed picture caption, which reads:</p>\\n<p style=\"padding-left: 30px;\"><span style=\"color: #000080;\">A new study suggests that mosquitoes might learn not to avoid people who swat at them, by recognizing their smell.</span></p>\\n<p><span id=\"more-36376\"></span></p>\\n<p>So I wondered, is \"learn not to avoid\" one of those phrases that is often used to mean the opposite of what the speaker or writer intended, like \"<a href=\"http://itre.cis.upenn.edu/~myl/languagelog/archives/000500.html\" target=\"_blank\" rel=\"noopener\">fail to miss</a>\"?</p>\\n<p>Maybe this reversal sometimes happens, though it can be hard to tell:</p>\\n<p style=\"padding-left: 30px;\">[<a href=\"http://psycnet.apa.org/record/1961-06034-001\" target=\"_blank\" rel=\"noopener\">link</a>] <span style=\"color: #800000;\">The data suggested 3 selection pressures were operative in improving the resemblances: (a) the combination of different components of the model\\'s pattern (color) may increase protection against an individual predator, (b) an improved resemblance may protect the mimic from a greater variety of predators, and (c) an improved resemblance may decrease the chance that a predator will learn not to avoid the mimic.</span></p>\\n<p>But mostly things seem to come out right:</p>\\n<p style=\"padding-left: 30px;\">[<a href=\"http://www.nccoastalpines.org/en/our-council/news/2017/girl_scouts_provides.html\" target=\"_blank\" rel=\"noopener\">link</a>] <span style=\"color: #800000;\">The Girl Scout Leadership Experience helps girls learn not to avoid things that are hard for them, therefore helping them overcome fears, face challenges, and build resilience.</span><br />\\n[<a href=\"https://www.nucalm.com/hopefully-people-learn-from-viral-teeth-cleaning-videos/\" target=\"_blank\" rel=\"noopener\">link</a>]\\xa0<span style=\"color: #800000;\">With some dental cleaning videos starting to rise in popularity, we can only hope that people take the right lessons from watching them. They need to learn not to avoid dental visits.</span><br />\\n[<a href=\"http://www.gracechurchyorktown.org/article441303.htm\" target=\"_blank\" rel=\"noopener\">link</a>]\\xa0<span style=\"color: #800000;\">Yet we might learn not to avoid the dark,. not to race hurriedly from one patch of light to the next. For there is much the darkness can teach us.</span></p>\\n<p>Still, \"might learn not to avoid people who swat at them\" has several of the classic <a href=\"http://languagelog.ldc.upenn.edu/nll/?p=1925\" target=\"_blank\" rel=\"noopener\">misnegation</a> ingredients, including a modal, an explicit negation, and an implicit one.</p>\\n<p>Obligatory screenshot:</p>\\n<p><a href=\"http://languagelog.ldc.upenn.edu/myl/LearnNotToAvoid.png\"><img title=\"Click to embiggen\" src=\"http://languagelog.ldc.upenn.edu/myl/LearnNotToAvoid.png\" width=\"490\" /></a></p>\\n<p>[h/t John Barenberg]</p>'}],\n",
       "  'guidislink': False,\n",
       "  'href': 'http://ling.upenn.edu/~myl',\n",
       "  'id': 'http://languagelog.ldc.upenn.edu/nll/?p=36376',\n",
       "  'link': 'http://languagelog.ldc.upenn.edu/nll/?p=36376',\n",
       "  'links': [{'href': 'http://languagelog.ldc.upenn.edu/nll/?p=36376',\n",
       "    'rel': 'alternate',\n",
       "    'type': 'text/html'},\n",
       "   {'count': '11',\n",
       "    'href': 'http://languagelog.ldc.upenn.edu/nll/?p=36376#comments',\n",
       "    'rel': 'replies',\n",
       "    'thr:count': '11',\n",
       "    'type': 'text/html'},\n",
       "   {'count': '11',\n",
       "    'href': 'http://languagelog.ldc.upenn.edu/nll/?feed=atom&p=36376',\n",
       "    'rel': 'replies',\n",
       "    'thr:count': '11',\n",
       "    'type': 'application/atom+xml'}],\n",
       "  'published': '2018-01-26T13:12:58Z',\n",
       "  'published_parsed': time.struct_time(tm_year=2018, tm_mon=1, tm_mday=26, tm_hour=13, tm_min=12, tm_sec=58, tm_wday=4, tm_yday=26, tm_isdst=0),\n",
       "  'summary': 'Joanna Klein, \"Swatting at Mosquitoes May Help You Avoid Bites, Even if you Miss\", NYT 1/25/2018: If you keep swatting at a mosquito, will it leave you alone? Some scientists think so. But it depends. Some blood meals are worth a mosquito risking its life. But if there’s a more attractive or accepting alternative to [&#8230;]',\n",
       "  'summary_detail': {'base': 'http://languagelog.ldc.upenn.edu/nll/wp-atom.php',\n",
       "   'language': 'en-US',\n",
       "   'type': 'text/html',\n",
       "   'value': 'Joanna Klein, \"Swatting at Mosquitoes May Help You Avoid Bites, Even if you Miss\", NYT 1/25/2018: If you keep swatting at a mosquito, will it leave you alone? Some scientists think so. But it depends. Some blood meals are worth a mosquito risking its life. But if there’s a more attractive or accepting alternative to [&#8230;]'},\n",
       "  'tags': [{'label': None,\n",
       "    'scheme': 'http://languagelog.ldc.upenn.edu/nll',\n",
       "    'term': 'Misnegation'}],\n",
       "  'thr_total': '11',\n",
       "  'title': 'Learning not to avoid',\n",
       "  'title_detail': {'base': 'http://languagelog.ldc.upenn.edu/nll/wp-atom.php',\n",
       "   'language': 'en-US',\n",
       "   'type': 'text/html',\n",
       "   'value': 'Learning not to avoid'},\n",
       "  'updated': '2018-01-26T13:12:58Z',\n",
       "  'updated_parsed': time.struct_time(tm_year=2018, tm_mon=1, tm_mday=26, tm_hour=13, tm_min=12, tm_sec=58, tm_wday=4, tm_yday=26, tm_isdst=0)},\n",
       " {'author': 'Mark Liberman',\n",
       "  'author_detail': {'href': 'http://ling.upenn.edu/~myl',\n",
       "   'name': 'Mark Liberman'},\n",
       "  'authors': [{'href': 'http://ling.upenn.edu/~myl', 'name': 'Mark Liberman'}],\n",
       "  'content': [{'base': 'http://languagelog.ldc.upenn.edu/nll/?p=36361',\n",
       "    'language': 'en-US',\n",
       "    'type': 'text/html',\n",
       "    'value': '<p>Well, the dynamic range of the amplitude of syllables in poetry readings, anyhow:</p>\\n<p><a href=\"http://languagelog.ldc.upenn.edu/myl/BernsteinAshberyAmplitude2.png\"><img title=\"Click to embiggen\" src=\"http://languagelog.ldc.upenn.edu/myl/BernsteinAshberyAmplitude2.png\" width=\"490\" /></a></p>\\n<p>What IS that?</p>\\n<p><span id=\"more-36361\"></span></p>\\n<p>In the course of a discussion of other matters, <a href=\"https://www.english.upenn.edu/people/charles-bernstein\" target=\"_blank\" rel=\"noopener\">Charles Bernstein</a> asked about measuring and visualizing a poetry reader\\'s variation in amplitude. As I understand it, he has the intuition that some readers are relatively uniform in their presentation, while others are more varied. He mentioned <a href=\"https://en.wikipedia.org/wiki/John_Ashbery\" target=\"_blank\" rel=\"noopener\">John Ashbery</a> as someone whose readings are on the stable side.</p>\\n<p>I expressed my usual skepticism about amplitude as a feature. The absolute amplitude of a recording depends on microphone distance and orientation, room acoustics, gain and possible AGC in the recording and later processing, etc. Even within a single recording with no intervention by a sound engineer, a speaker\\'s changes of position and orientation during the performance can have a significant effect. And anyhow, what we perceive as amplitude variations are in most cases really variations in vocal effort, which no one knows how to measure.</p>\\n<p>But Charles countered that in the circumstances of most poetry readings, there are variations in simple acoustic amplitude that correlate both with the reader\\'s production and the audience\\'s perception. And it ought to be possible to calculate some sort of dynamic range that could be compared across readers and readings.</p>\\n<p>He\\'s right, and so I thought I\\'d try it.</p>\\n<p>What I did:</p>\\n<ul>\\n<li>I took two readings from <a href=\"http://writing.upenn.edu/pennsound/\" target=\"_blank\" rel=\"noopener\">PennSound</a>: <a href=\"https://media.sas.upenn.edu/pennsound/authors/Ashbery/Ashbery-John_Europe_NYC_11-19-2015.mp3\" target=\"_blank\" rel=\"noopener\">John Ashbery reading \"Europe\"</a> from <em>The Tennis Court Oath</em>, Sections 1-25, 11/19/2015; and <a href=\"https://media.sas.upenn.edu/pennsound/groups/Dia/9-21-2017/Bernstein-Charles_Our-United-Fates_DIA-192-Books_04_9-21-2017.mp3\" target=\"_blank\" rel=\"noopener\">Charles Bernstein reading \"Our United Fates\"</a>, 9/21/2017.</li>\\n<li>I trimmed the intro and the outro, leaving just the poems themselves.</li>\\n<li>I filtered the audio to roughly the frequency region of vowel sounds, 200-2500 Hz; calculated the RMS amplitude every 5 msec, and smoothed the result with a time constant of about half a syllable; and took all the local maxima above an empirically-estimated noise threshold. The result is a decent syllable-detector, following a simplified version of the recipe in <a href=\"http://asa.scitation.org/doi/abs/10.1121/1.380738\" target=\"_blank\" rel=\"noopener\">Mermelstein 1975</a>. The result was\\xa01142 pseudo-syllables in the Ashbery reading and 819 in the Bernstein reading and</li>\\n<li>To get a normalized version of the \"dynamic range\" in each recording, I transformed the set of peak amplitude values from that recording to differences on a log scale relative to the set\\'s mean value (log10 of the ratio to the mean value).</li>\\n<li>I then graphed kernel density estimates (basically smoothed histograms) of those distributions, as <a href=\"http://languagelog.ldc.upenn.edu/myl/BernsteinAshberyAmplitude1.png\" target=\"_blank\" rel=\"noopener\">shown above.</a></li>\\n</ul>\\n<p>(This may not be a great case for contrast; Charles didn\\'t present himself as an especially dynamic reader, but &#8230;)</p>\\n<p>The results:</p>\\n<p><a href=\"http://languagelog.ldc.upenn.edu/myl/BernsteinAshberyAmplitude1.png\"><img title=\"Click to embiggen\" src=\"http://languagelog.ldc.upenn.edu/myl/BernsteinAshberyAmplitude1.png\" width=\"490\" /></a></p>\\n<p>Or we could focus on the contrast, by plotting the difference between the density estimates:</p>\\n<p><a href=\"http://languagelog.ldc.upenn.edu/myl/BernsteinAshberyAmplitude2.png\"><img title=\"Click to embiggen\" src=\"http://languagelog.ldc.upenn.edu/myl/BernsteinAshberyAmplitude2.png\" width=\"490\" /></a></p>\\n<p>Interpretation:</p>\\n<ul>\\n<li>Ashbery\\'s syllable amplitudes are more concentrated around the average value, though there are a few lower-amplitude syllables, probably his section numbers</li>\\n<li>Bernstein in comparison has a larger number of both softer and louder syllables, relative to his average value</li>\\n</ul>\\n<p>We could also look at the quantiles of the syllable-peak amplitudes, normalized in the same (questionable) way:</p>\\n<p><a href=\"http://languagelog.ldc.upenn.edu/myl/BernsteinAshberyAmplitude3.png\"><img title=\"Click to embiggen\" src=\"http://languagelog.ldc.upenn.edu/myl/BernsteinAshberyAmplitude3.png\" width=\"490\" /></a></p>\\n<p>There\\'s an analogous (but more striking) difference in pitch range:</p>\\n<p><a href=\"http://languagelog.ldc.upenn.edu/myl/BernsteinAshberyPitch2.png\"><img title=\"Click to embiggen\" src=\"http://languagelog.ldc.upenn.edu/myl/BernsteinAshberyPitch2.png\" width=\"490\" /></a></p>\\n<p>Bernstein\\'s reading has a range (95th percentile &#8211; 5th percentile) of 11.4 semitones (across 27726 f0 estimates) &#8212; just under an octave. Ashbery\\'s reading has a range of 7.7 semitones (across 47327 f0 estimates) &#8212; a bit more than a fifth.</p>'}],\n",
       "  'guidislink': False,\n",
       "  'href': 'http://ling.upenn.edu/~myl',\n",
       "  'id': 'http://languagelog.ldc.upenn.edu/nll/?p=36361',\n",
       "  'link': 'http://languagelog.ldc.upenn.edu/nll/?p=36361',\n",
       "  'links': [{'href': 'http://languagelog.ldc.upenn.edu/nll/?p=36361',\n",
       "    'rel': 'alternate',\n",
       "    'type': 'text/html'},\n",
       "   {'href': 'https://media.sas.upenn.edu/pennsound/authors/Ashbery/Ashbery-John_Europe_NYC_11-19-2015.mp3',\n",
       "    'length': '3964830',\n",
       "    'rel': 'enclosure',\n",
       "    'type': 'audio/mpeg'},\n",
       "   {'href': 'https://media.sas.upenn.edu/pennsound/groups/Dia/9-21-2017/Bernstein-Charles_Our-United-Fates_DIA-192-Books_04_9-21-2017.mp3',\n",
       "    'length': '12683907',\n",
       "    'rel': 'enclosure',\n",
       "    'type': 'audio/mpeg'},\n",
       "   {'count': '2',\n",
       "    'href': 'http://languagelog.ldc.upenn.edu/nll/?p=36361#comments',\n",
       "    'rel': 'replies',\n",
       "    'thr:count': '2',\n",
       "    'type': 'text/html'},\n",
       "   {'count': '2',\n",
       "    'href': 'http://languagelog.ldc.upenn.edu/nll/?feed=atom&p=36361',\n",
       "    'rel': 'replies',\n",
       "    'thr:count': '2',\n",
       "    'type': 'application/atom+xml'}],\n",
       "  'published': '2018-01-25T09:41:10Z',\n",
       "  'published_parsed': time.struct_time(tm_year=2018, tm_mon=1, tm_mday=25, tm_hour=9, tm_min=41, tm_sec=10, tm_wday=3, tm_yday=25, tm_isdst=0),\n",
       "  'summary': \"Well, the dynamic range of the amplitude of syllables in poetry readings, anyhow: What IS that? In the course of a discussion of other matters, Charles Bernstein asked about measuring and visualizing a poetry reader's variation in amplitude. As I understand it, he has the intuition that some readers are relatively uniform in their presentation, [&#8230;]\",\n",
       "  'summary_detail': {'base': 'http://languagelog.ldc.upenn.edu/nll/wp-atom.php',\n",
       "   'language': 'en-US',\n",
       "   'type': 'text/html',\n",
       "   'value': \"Well, the dynamic range of the amplitude of syllables in poetry readings, anyhow: What IS that? In the course of a discussion of other matters, Charles Bernstein asked about measuring and visualizing a poetry reader's variation in amplitude. As I understand it, he has the intuition that some readers are relatively uniform in their presentation, [&#8230;]\"},\n",
       "  'tags': [{'label': None,\n",
       "    'scheme': 'http://languagelog.ldc.upenn.edu/nll',\n",
       "    'term': 'Language and literature'}],\n",
       "  'thr_total': '2',\n",
       "  'title': 'Poetic dynamism',\n",
       "  'title_detail': {'base': 'http://languagelog.ldc.upenn.edu/nll/wp-atom.php',\n",
       "   'language': 'en-US',\n",
       "   'type': 'text/html',\n",
       "   'value': 'Poetic dynamism'},\n",
       "  'updated': '2018-01-26T02:44:37Z',\n",
       "  'updated_parsed': time.struct_time(tm_year=2018, tm_mon=1, tm_mday=26, tm_hour=2, tm_min=44, tm_sec=37, tm_wday=4, tm_yday=26, tm_isdst=0)},\n",
       " {'author': 'Victor Mair',\n",
       "  'author_detail': {'href': 'https://www.sas.upenn.edu/ealc/mair',\n",
       "   'name': 'Victor Mair'},\n",
       "  'authors': [{'href': 'https://www.sas.upenn.edu/ealc/mair',\n",
       "    'name': 'Victor Mair'}],\n",
       "  'content': [{'base': 'http://languagelog.ldc.upenn.edu/nll/?p=36350',\n",
       "    'language': 'en-US',\n",
       "    'type': 'text/html',\n",
       "    'value': '<p>In \"<a href=\"http://www.sixthtone.com/news/1001582/the-eagle-eyed-vigilantes-defending-the-chinese-language\">The Eagle-Eyed Vigilantes Defending the Chinese Language</a>:\\xa0 As new lingo springs up and grammatical errors persist, one magazine is battling to maintain linguistic standards\", Yin Yijun (<i>Sixth Tone</i> [1/19/18]) describes an unusual PRC journal:</p>\\n<p style=\"padding-left: 30px;\">Shanghai-based Yaowen Jiaozi — whose name literally translates as “biting phrases and chewing characters” — was established in 1995 and operates under the slogan: “Bite every mistake that deserves to be bitten, and chew every article worth chewing.” The monthly magazine’s mission is to attack every grammatical error it encounters — and the staff take the job seriously. Over the past 20 years, the magazine has amassed a long list of mistakes, from a nearly unnoticeable Chinese character error on a chopstick wrapper, to a series of mistakes author and Nobel laureate Mo Yan made in his award-winning works.</p>\\n<p><span id=\"more-36350\"></span></p>\\n<p>Joel Martinsen had already written an insightful article about this magazine back in 2006:\\xa0 \"<a href=\"http://www.danwei.org/media_and_advertising/gnawing_at_language_biting_the_1.php\">Gnawing at language, biting the ankles of Chinese media</a>\" (<i>Danwei</i> [5/4/06]) &#8212; via <a href=\"via%20http://languagehat.com/gnawing-at-language/\">Language Hat</a>.\\xa0 Martinsen\\'s article begins thus:</p>\\n<p style=\"padding-left: 30px;\">Among all of the copycat urban lifestyle magazines, the paparazzi rags, and the ever-changing array of undistinguished special-interest publications that make up China\\'s periodicals market, <i>Yaowen-Jiaozi</i> (咬文嚼字) stands out as one of the most delightfully peculiar magazines available. With a title variously translated as \"Correct Wording,\" \"Verbalism,\" and \"Chewing Words,\" it turns a critical eye to the misuse and abuse of language in Chinese society.</p>\\n<p>Now I\\'m going to do a bit of yǎowénjiáozì 咬文嚼字 of my own.\\xa0 What does that jarring expression really mean?\\xa0 Yin Yijun says that it \"literally translates as \\'biting phrases and chewing characters\\'” and Joel Martinsen tells us that it is \"variously translated as \\'Correct Wording,\\' \\'Verbalism,\\' and \\'Chewing Words\\'\".</p>\\n<p>This is an expression that I learned long ago, but pronounced as \"yǎowén<span class=\"dicpy\">jué</span>zì\" (it was spoken that way by my teachers and Chinese friends).\\xa0 It usually conveyed a lightly pejorative, satirical implication in the sense of being overly concerned with the individual words of a text or composition and not grasping the substance and meaning of what is written, often thereby showing off one\\'s scholastic abilities.</p>\\n<p>The way I understood yǎowénjiáozì 咬文嚼字 (henceforth I will use the current, \"correct\" pronunciation) in those days was more or less as it is defined in <span class=\"diczx4\"><a href=\"http://www.zdic.net/c/c/13f/309190.htm\">zdic</a>:<br />\\n</span></p>\\n<p style=\"padding-left: 30px;\"><span class=\"diczx4\">literarism (= literaryism); chop logic (where \"chop\" is being used in the 16th-century sense of \"bandy words\", hence \"<a href=\"https://idioms.thefreedictionary.com/chop+logic\">argue in a tiresomely pedantic way; quibble</a>\"); pay excessive attention to wording</span></p>\\n<p><span class=\"diczx4\">One of the definitions provided by <a href=\"https://en.wiktionary.org/wiki/%E5%92%AC%E6%96%87%E5%9A%BC%E5%AD%97\">Wiktionary</a> captures the negative spirit in which the phrase is sometimes used:\\xa0 \"to nitpick like a grammar Nazi\".<br />\\n</span></p>\\n<p>The <em>ABC Chinese-English Comprehensive Dictionary</em> has an interesting definition:\\xa0 \"hypercorrection\".</p>\\n<p>\"Yǎowénjiáozì 咬文嚼字\" goes back to the Yuan period (1271-1368).\\xa0 Its usage is from the vernacular realm, in fiction, drama, and popular verse.</p>\\n<p>Let\\'s take a closer look at the morphology and semantics of this colorful expression.\\xa0 Basically, it is constructed from two words:\\xa0 yǎojué 咬嚼 (\"chew; masticate\") and wénzì 文字 (\"script; writing; characters\"), hence \"to chew / masticate script / writing / characters\").</p>\\n<p>Now, it is very common to take two disyllabic words, divide their syllables, and intermix them into a single quadrisyllabic fixed phrase, thus:</p>\\n<p style=\"padding-left: 30px;\">yǎojué 咬嚼 + wénzì 文字 &#8211;&gt; yǎowénjiáozì 咬文嚼字</p>\\n<p>Ah, but there\\'s the rub!\\xa0 Dictionaries (e.g., <a href=\"http://www.zdic.net/c/c/38/87965.htm\">here</a> and <a href=\"https://en.wiktionary.org/wiki/%E5%92%AC%E5%9A%BC\">here</a>) customarily annotate 咬嚼 as yǎojué, not yǎojiáo.\\xa0 By all rights, 咬文嚼字 should be read yǎowén<span class=\"dicpy\">jué</span>zì, not yǎowénjiáozì.</p>\\n<p>Incidentally, the derivation of yǎowénjiáozì 咬文嚼字 from yǎojué 咬嚼 + wénzì 文字 is reminiscent of the construction of the title of the first Chinese character dictionary:</p>\\n<p style=\"padding-left: 30px;\">shuōjiě 説解 (\"explain\") + wénzì 文字 (\"characters\") &#8211;&gt; Shuōwén Jiězì <span lang=\"zh-Hant\">說文解字 (\"Explanation of Characters\")*<br />\\n</span></p>\\n<p>*N.B.:\\xa0 Completed<span lang=\"zh-Hant\"> in 100 AD, t</span>his is the fountainhead of traditional Chinese character studies.\\xa0 There is an excellent <a href=\"https://en.wikipedia.org/wiki/Shuowen_Jiezi\">Wikipedia article</a> on it.<span lang=\"zh-Hant\">\\xa0 In the \"References\", note especially the publications<cite></cite> </span><cite id=\"CITEREFBottéroHarbsmeier2008\" class=\"citation\"></cite> by Françoise Bottéro, who is doing pathbreaking work on the classification scheme of this monument of Chinese lexicography.</p>\\n<p>Narrowing in on the problematic, ornery / refractory, 20-stroke character 嚼, it actually has three pronunciations:</p>\\n<p style=\"padding-left: 30px;\"><span class=\"dicpy\">jiáo\\xa0\\xa0\\xa0 \"chew; masticate\"<br />\\n</span></p>\\n<p style=\"padding-left: 30px;\"><span class=\"dicpy\">jué\\xa0\\xa0\\xa0 used in polysyllabic expressions such as </span><span class=\"dicpy\">jǔjué </span>咀嚼 (\"chew; masticate\")</p>\\n<p style=\"padding-left: 30px;\"><span class=\"dicpy\">jiào\\xa0\\xa0\\xa0 chew the cud, as ruminants do after reverse peristalsis</span></p>\\n<p><span class=\"dicpy\">Going back to the discussion of the journal with which we began this post, perhaps the editors need to do a bit of introspection.\\xa0 In the spirit of genuine, earnest </span>咬文嚼字, I suggest that the title of their journal should be pronounced \"yǎowén<span class=\"dicpy\">jué</span>zì\", not \"yǎowénjiáozì\".</p>\\n<p>If what I say is true, it wouldn\\'t be the first time the editors of a famous Chinese journal mispronounced the title of their publication.\\xa0 Starting in the mid-1980s, there was a Chinese poetry magazine whose contributors and readers (at least some of them whom I knew) used to refer to as \"Yī xíng 一行\" (\"First Line\"), but I thought (and told them so) it should be read as \"Yī háng\", since 行 has these pronunciations and meanings:</p>\\n<p style=\"padding-left: 30px;\">xíng &#8212; \"walk; go\"</p>\\n<p style=\"padding-left: 30px;\">háng &#8212; \"row; line\"</p>\\n<p>Judging from <a href=\"http://u.osu.edu/mclc/online-series/yan_li/\">this interview with its founder</a>, it seems that it later did come to be referred to as \"Yī háng\".</p>\\n<p><span class=\"dicpy\">Be that as it may, this is all the stuff of language nerds and pedants.<br />\\n</span></p>\\n<p>[h.t. Ben Zimmer]</p>'}],\n",
       "  'guidislink': False,\n",
       "  'href': 'https://www.sas.upenn.edu/ealc/mair',\n",
       "  'id': 'http://languagelog.ldc.upenn.edu/nll/?p=36350',\n",
       "  'link': 'http://languagelog.ldc.upenn.edu/nll/?p=36350',\n",
       "  'links': [{'href': 'http://languagelog.ldc.upenn.edu/nll/?p=36350',\n",
       "    'rel': 'alternate',\n",
       "    'type': 'text/html'},\n",
       "   {'count': '13',\n",
       "    'href': 'http://languagelog.ldc.upenn.edu/nll/?p=36350#comments',\n",
       "    'rel': 'replies',\n",
       "    'thr:count': '13',\n",
       "    'type': 'text/html'},\n",
       "   {'count': '13',\n",
       "    'href': 'http://languagelog.ldc.upenn.edu/nll/?feed=atom&p=36350',\n",
       "    'rel': 'replies',\n",
       "    'thr:count': '13',\n",
       "    'type': 'application/atom+xml'}],\n",
       "  'published': '2018-01-24T16:26:46Z',\n",
       "  'published_parsed': time.struct_time(tm_year=2018, tm_mon=1, tm_mday=24, tm_hour=16, tm_min=26, tm_sec=46, tm_wday=2, tm_yday=24, tm_isdst=0),\n",
       "  'summary': 'In \"The Eagle-Eyed Vigilantes Defending the Chinese Language:\\xa0 As new lingo springs up and grammatical errors persist, one magazine is battling to maintain linguistic standards\", Yin Yijun (Sixth Tone [1/19/18]) describes an unusual PRC journal: Shanghai-based Yaowen Jiaozi — whose name literally translates as “biting phrases and chewing characters” — was established in 1995 and [&#8230;]',\n",
       "  'summary_detail': {'base': 'http://languagelog.ldc.upenn.edu/nll/wp-atom.php',\n",
       "   'language': 'en-US',\n",
       "   'type': 'text/html',\n",
       "   'value': 'In \"The Eagle-Eyed Vigilantes Defending the Chinese Language:\\xa0 As new lingo springs up and grammatical errors persist, one magazine is battling to maintain linguistic standards\", Yin Yijun (Sixth Tone [1/19/18]) describes an unusual PRC journal: Shanghai-based Yaowen Jiaozi — whose name literally translates as “biting phrases and chewing characters” — was established in 1995 and [&#8230;]'},\n",
       "  'tags': [{'label': None,\n",
       "    'scheme': 'http://languagelog.ldc.upenn.edu/nll',\n",
       "    'term': 'Errors'},\n",
       "   {'label': None,\n",
       "    'scheme': 'http://languagelog.ldc.upenn.edu/nll',\n",
       "    'term': 'Lexicon and lexicography'},\n",
       "   {'label': None,\n",
       "    'scheme': 'http://languagelog.ldc.upenn.edu/nll',\n",
       "    'term': 'Morphology'},\n",
       "   {'label': None,\n",
       "    'scheme': 'http://languagelog.ldc.upenn.edu/nll',\n",
       "    'term': 'Words words words'},\n",
       "   {'label': None,\n",
       "    'scheme': 'http://languagelog.ldc.upenn.edu/nll',\n",
       "    'term': 'Writing systems'}],\n",
       "  'thr_total': '13',\n",
       "  'title': 'Language vigilantism',\n",
       "  'title_detail': {'base': 'http://languagelog.ldc.upenn.edu/nll/wp-atom.php',\n",
       "   'language': 'en-US',\n",
       "   'type': 'text/html',\n",
       "   'value': 'Language vigilantism'},\n",
       "  'updated': '2018-01-24T16:45:01Z',\n",
       "  'updated_parsed': time.struct_time(tm_year=2018, tm_mon=1, tm_mday=24, tm_hour=16, tm_min=45, tm_sec=1, tm_wday=2, tm_yday=24, tm_isdst=0)},\n",
       " {'author': 'Victor Mair',\n",
       "  'author_detail': {'href': 'https://www.sas.upenn.edu/ealc/mair',\n",
       "   'name': 'Victor Mair'},\n",
       "  'authors': [{'href': 'https://www.sas.upenn.edu/ealc/mair',\n",
       "    'name': 'Victor Mair'}],\n",
       "  'content': [{'base': 'http://languagelog.ldc.upenn.edu/nll/?p=36344',\n",
       "    'language': 'en-US',\n",
       "    'type': 'text/html',\n",
       "    'value': '<p>Valerie Hansen gave me the following package:</p>\\n<p align=\"center\"><a href=\"http://languagelog.ldc.upenn.edu/~bgzimmer/indispensable.jpg\"><img title=\"Click to embiggen\" src=\"http://languagelog.ldc.upenn.edu/~bgzimmer/indispensable.jpg\" alt=\"\" width=\"300\" /></a><span id=\"more-36344\"></span></p>\\n<p>I was pleased that I could read the cursive script without hesitation:</p>\\n<p style=\"padding-left: 30px;\">shuàn bùlí 涮不离</p>\\n<p>Figuring out exactly what this expression means is another matter altogether.</p>\\n<p>The last two characters are relatively easy:\\xa0 \"[can]not separate / be apart (from)\".</p>\\n<p>The first character is harder; it basically means \"rinse; swill\", but &#8212; in a more specialized sense &#8212; it also means \"scald thin slices of meat (especially mutton) and vegetables in boiling water\".\\xa0 It\\'s the Northern Chinese variant of\\xa0<a href=\"https://en.wikipedia.org/wiki/Hot_pot\">huǒguō 火鍋 (\"hot pot\")</a>\\xa0, which was well established under the Mongols and then elaborated under the Manchus, but is now best known by its Sichuanese and Chongqing exemplars.</p>\\n<p>Shuàn yángròu 涮羊肉 (\"instant-boiled mutton\") may be thought of as the Chinese equivalent or parallel to Japanese\\xa0<a href=\"https://en.wikipedia.org/wiki/Shabu-shabu\">shabu-shabu</a>\\xa0(that\\'s an onomatopoeic term describing the sounds of the ingredients being swirled in the boiling water; shuàn 涮 itself might also be onomatopoeic).</p>\\n<p>Now that we know what shuàn 涮 means as a cooking technique (\"scald thinly sliced meat, vegetables, etc.\"), let\\'s proceed to try to make sense of the whole expression, shuàn bùlí 涮不离:</p>\\n<p style=\"padding-left: 30px;\">\"scald not leave / separate / part\"</p>\\n<p>Even some native speakers of Chinese to whom I showed this expression didn\\'t know quite what to make of all three character together.\\xa0 After giving it some thought and pondering the package as a whole, it begins to dawn on you:\\xa0 as a dipping sauce for shuàn yángròu 涮羊肉 (\"instant-boiled mutton [and other thinly sliced meat or vegetables]\"), you can\\'t be without it.</p>\\n<p style=\"padding-left: 30px;\">\"[when you] scald [meat, etc.] [you] cannot be separated / apart from it\"</p>\\n<p>In other words, it\\'s an indispensable dipping sauce for this style of hot pot.</p>\\n<p>[Thanks to Yixue Yang]</p>'}],\n",
       "  'guidislink': False,\n",
       "  'href': 'https://www.sas.upenn.edu/ealc/mair',\n",
       "  'id': 'http://languagelog.ldc.upenn.edu/nll/?p=36344',\n",
       "  'link': 'http://languagelog.ldc.upenn.edu/nll/?p=36344',\n",
       "  'links': [{'href': 'http://languagelog.ldc.upenn.edu/nll/?p=36344',\n",
       "    'rel': 'alternate',\n",
       "    'type': 'text/html'},\n",
       "   {'count': '7',\n",
       "    'href': 'http://languagelog.ldc.upenn.edu/nll/?p=36344#comments',\n",
       "    'rel': 'replies',\n",
       "    'thr:count': '7',\n",
       "    'type': 'text/html'},\n",
       "   {'count': '7',\n",
       "    'href': 'http://languagelog.ldc.upenn.edu/nll/?feed=atom&p=36344',\n",
       "    'rel': 'replies',\n",
       "    'thr:count': '7',\n",
       "    'type': 'application/atom+xml'}],\n",
       "  'published': '2018-01-22T23:35:34Z',\n",
       "  'published_parsed': time.struct_time(tm_year=2018, tm_mon=1, tm_mday=22, tm_hour=23, tm_min=35, tm_sec=34, tm_wday=0, tm_yday=22, tm_isdst=0),\n",
       "  'summary': 'Valerie Hansen gave me the following package: I was pleased that I could read the cursive script without hesitation: shuàn bùlí 涮不离 Figuring out exactly what this expression means is another matter altogether. The last two characters are relatively easy:\\xa0 \"[can]not separate / be apart (from)\". The first character is harder; it basically means \"rinse; [&#8230;]',\n",
       "  'summary_detail': {'base': 'http://languagelog.ldc.upenn.edu/nll/wp-atom.php',\n",
       "   'language': 'en-US',\n",
       "   'type': 'text/html',\n",
       "   'value': 'Valerie Hansen gave me the following package: I was pleased that I could read the cursive script without hesitation: shuàn bùlí 涮不离 Figuring out exactly what this expression means is another matter altogether. The last two characters are relatively easy:\\xa0 \"[can]not separate / be apart (from)\". The first character is harder; it basically means \"rinse; [&#8230;]'},\n",
       "  'tags': [{'label': None,\n",
       "    'scheme': 'http://languagelog.ldc.upenn.edu/nll',\n",
       "    'term': 'Found in translation'},\n",
       "   {'label': None,\n",
       "    'scheme': 'http://languagelog.ldc.upenn.edu/nll',\n",
       "    'term': 'Language and food'}],\n",
       "  'thr_total': '7',\n",
       "  'title': 'Indispensable condiment',\n",
       "  'title_detail': {'base': 'http://languagelog.ldc.upenn.edu/nll/wp-atom.php',\n",
       "   'language': 'en-US',\n",
       "   'type': 'text/html',\n",
       "   'value': 'Indispensable condiment'},\n",
       "  'updated': '2018-01-23T13:02:04Z',\n",
       "  'updated_parsed': time.struct_time(tm_year=2018, tm_mon=1, tm_mday=23, tm_hour=13, tm_min=2, tm_sec=4, tm_wday=1, tm_yday=23, tm_isdst=0)},\n",
       " {'author': 'Victor Mair',\n",
       "  'author_detail': {'href': 'https://www.sas.upenn.edu/ealc/mair',\n",
       "   'name': 'Victor Mair'},\n",
       "  'authors': [{'href': 'https://www.sas.upenn.edu/ealc/mair',\n",
       "    'name': 'Victor Mair'}],\n",
       "  'content': [{'base': 'http://languagelog.ldc.upenn.edu/nll/?p=36331',\n",
       "    'language': 'en-US',\n",
       "    'type': 'text/html',\n",
       "    'value': '<p>I\\'m at Yale University attending a workshop on Tangut.\\xa0 So you ask, \"What is \\'Tangut\\'?\"\\xa0 Relevant Wikipedia articles:</p>\\n<ul>\\n<li><a title=\"Tangut people\" href=\"https://en.wikipedia.org/wiki/Tangut_people\">Tangut people</a>, an ancient ethnic group in Northwest China, not Tibetan people.</li>\\n<li><a title=\"Tangut language\" href=\"https://en.wikipedia.org/wiki/Tangut_language\">Tangut language</a>, the extinct language spoken by the Tangut people, not Tibetan language.</li>\\n<li><a title=\"Tangut script\" href=\"https://en.wikipedia.org/wiki/Tangut_script\">Tangut script</a>, the writing system used to write the Tangut language</li>\\n<li><a title=\"Western Xia\" href=\"https://en.wikipedia.org/wiki/Western_Xia\">Western Xia</a> (1038–1227), also known as the Tangut Empire, a state founded by the Tangut people</li>\\n</ul>\\n<p>Enough of Tangut for now.\\xa0 I will write a separate post on Tangut language and script later on.\\xa0 Meanwhile, since the majority of specialists on Tangut are Russian, and several Russians are participating in this workshop, I\\'ve heard them refer to the president of their country with a pronunciation that is rather different from what we say it in English, but more nearly resembles the way his surname is spoken in Mandarin.</p>\\n<p><span id=\"more-36331\"></span></p>\\n<p>The <a href=\"https://en.wikipedia.org/wiki/Vladimir_Putin\">Wikipedia article on Putin</a> gives the following IPA renditions of Putin\\'s surname:</p>\\n<p style=\"padding-left: 30px;\"><span class=\"nowrap\"><span class=\"IPA nopopups noexcerpt\"><a title=\"Help:IPA/English\" href=\"https://en.wikipedia.org/wiki/Help:IPA/English\">/<span title=\"/ˈ/: primary stress follows\">ˈ</span><span title=\"\\'p\\' in \\'pie\\'\">p</span><span title=\"/uː/: \\'oo\\' in \\'goose\\'\">uː</span><span title=\"\\'t\\' in \\'tie\\'\">t</span><span title=\"/ɪ/: \\'i\\' in \\'kit\\'\">ɪ</span><span title=\"\\'n\\' in \\'nigh\\'\">n</span>/</a></span></span></p>\\n<p style=\"padding-left: 30px;\"><span class=\"IPA\" title=\"Representation in the International Phonetic Alphabet (IPA)\"><a title=\"Help:IPA/Russian\" href=\"https://en.wikipedia.org/wiki/Help:IPA/Russian\">ˈputʲɪn</a></span></p>\\n<p style=\"padding-left: 30px;\"><small class=\"nowrap\">\\xa0(<span class=\"unicode haudio\"><span class=\"fn\">\\xa0<a class=\"internal\" title=\"Ru-Vladimir Vladimirovich Putin.ogg\" href=\"https://upload.wikimedia.org/wikipedia/commons/2/23/Ru-Vladimir_Vladimirovich_Putin.ogg\">listen</a></span></span>)</small></p>\\n<p>When I hear Russians pronounce \"Putin\", I immediately think of how Chinese say it &#8212;<span id=\"result_box\" class=\"short_text\" lang=\"zh-CN\"><span class=\"\">\\xa0 Pǔjīng 普京</span></span>.\\xa0 There\\'s not much else they could do with the first syllable, but &#8212; though the second syllable sounds closer to the Russian than the way we say it in English &#8212; I still have questions about why the Chinese chose jing <span id=\"result_box\" class=\"short_text\" lang=\"zh-CN\"><span class=\"\">京 (</span></span><span id=\"result_box\" class=\"short_text\" lang=\"zh-CN\"><span class=\"\"><span class=\"IPA\">tɕíŋ</span>) to represent the second syllable.</span></span></p>\\n<p><span id=\"result_box\" class=\"short_text\" lang=\"zh-CN\"><span class=\"\">In Taiwan, they say </span></span>Pǔdīng 普丁, which has the same issue with the final sound of the second syllable as does mainland <span id=\"result_box\" class=\"short_text\" lang=\"zh-CN\"><span class=\"\">Pǔjīng 普京.</span></span></p>\\n<p>There\\'s no \"tin\" syllable in Mandarin, so that wasn\\'t an option, but it would have been a bad choice anyway, since it would be mimicking the English way of how we say the \"tin\" of \"Putin\" rather than the way the Russians say it.\\xa0 But why the velar nasal ending rather than just a dental nasal?</p>\\n<p>At first I thought they could have picked a \"qin\" syllable to more nearly approximate the Russian, but quickly realized that the Russian doesn\\'t have aspiration.\\xa0 So why not a \"jin\" syllable?\\xa0 To my ear, that would sound better than the <span id=\"result_box\" class=\"short_text\" lang=\"zh-CN\"><span class=\"\">jīng 京 or </span></span><span id=\"result_box\" class=\"short_text\" lang=\"zh-CN\"><span class=\"\">dīng 丁 </span></span>of the common Mandarin transcriptions of the second syllable.\\xa0 There may, however, be other subtle phonological considerations that I have not taken into account that led to the choice of a velar nasal final instead of a dental nasal.</p>\\n<p>For those who are curious, the Hanyu Pinyin transcription of Vladimir Vladimirovich Putin\\'s full name is Fúlājīmǐ\\'ěr·Fúlājīmǐluówéiqí·Pǔjīng 弗拉基米尔·弗拉基米罗维奇·普京.</p>'}],\n",
       "  'guidislink': False,\n",
       "  'href': 'https://www.sas.upenn.edu/ealc/mair',\n",
       "  'id': 'http://languagelog.ldc.upenn.edu/nll/?p=36331',\n",
       "  'link': 'http://languagelog.ldc.upenn.edu/nll/?p=36331',\n",
       "  'links': [{'href': 'http://languagelog.ldc.upenn.edu/nll/?p=36331',\n",
       "    'rel': 'alternate',\n",
       "    'type': 'text/html'},\n",
       "   {'href': 'https://upload.wikimedia.org/wikipedia/commons/2/23/Ru-Vladimir_Vladimirovich_Putin.ogg',\n",
       "    'length': '110357',\n",
       "    'rel': 'enclosure',\n",
       "    'type': 'audio/ogg'},\n",
       "   {'count': '10',\n",
       "    'href': 'http://languagelog.ldc.upenn.edu/nll/?p=36331#comments',\n",
       "    'rel': 'replies',\n",
       "    'thr:count': '10',\n",
       "    'type': 'text/html'},\n",
       "   {'count': '10',\n",
       "    'href': 'http://languagelog.ldc.upenn.edu/nll/?feed=atom&p=36331',\n",
       "    'rel': 'replies',\n",
       "    'thr:count': '10',\n",
       "    'type': 'application/atom+xml'}],\n",
       "  'published': '2018-01-22T01:12:13Z',\n",
       "  'published_parsed': time.struct_time(tm_year=2018, tm_mon=1, tm_mday=22, tm_hour=1, tm_min=12, tm_sec=13, tm_wday=0, tm_yday=22, tm_isdst=0),\n",
       "  'summary': 'I\\'m at Yale University attending a workshop on Tangut.\\xa0 So you ask, \"What is \\'Tangut\\'?\"\\xa0 Relevant Wikipedia articles: Tangut people, an ancient ethnic group in Northwest China, not Tibetan people. Tangut language, the extinct language spoken by the Tangut people, not Tibetan language. Tangut script, the writing system used to write the Tangut language Western [&#8230;]',\n",
       "  'summary_detail': {'base': 'http://languagelog.ldc.upenn.edu/nll/wp-atom.php',\n",
       "   'language': 'en-US',\n",
       "   'type': 'text/html',\n",
       "   'value': 'I\\'m at Yale University attending a workshop on Tangut.\\xa0 So you ask, \"What is \\'Tangut\\'?\"\\xa0 Relevant Wikipedia articles: Tangut people, an ancient ethnic group in Northwest China, not Tibetan people. Tangut language, the extinct language spoken by the Tangut people, not Tibetan language. Tangut script, the writing system used to write the Tangut language Western [&#8230;]'},\n",
       "  'tags': [{'label': None,\n",
       "    'scheme': 'http://languagelog.ldc.upenn.edu/nll',\n",
       "    'term': 'Names'},\n",
       "   {'label': None,\n",
       "    'scheme': 'http://languagelog.ldc.upenn.edu/nll',\n",
       "    'term': 'Transcription'}],\n",
       "  'thr_total': '10',\n",
       "  'title': 'Putin in Russian, Mandarin, and English',\n",
       "  'title_detail': {'base': 'http://languagelog.ldc.upenn.edu/nll/wp-atom.php',\n",
       "   'language': 'en-US',\n",
       "   'type': 'text/html',\n",
       "   'value': 'Putin in Russian, Mandarin, and English'},\n",
       "  'updated': '2018-01-22T01:12:13Z',\n",
       "  'updated_parsed': time.struct_time(tm_year=2018, tm_mon=1, tm_mday=22, tm_hour=1, tm_min=12, tm_sec=13, tm_wday=0, tm_yday=22, tm_isdst=0)},\n",
       " {'author': 'Mark Liberman',\n",
       "  'author_detail': {'href': 'http://ling.upenn.edu/~myl',\n",
       "   'name': 'Mark Liberman'},\n",
       "  'authors': [{'href': 'http://ling.upenn.edu/~myl', 'name': 'Mark Liberman'}],\n",
       "  'content': [{'base': 'http://languagelog.ldc.upenn.edu/nll/?p=36337',\n",
       "    'language': 'en-US',\n",
       "    'type': 'text/html',\n",
       "    'value': '<p>In a series of posts over the last few years, I\\'ve documented gradual declines in the frequency of the English definite determiner \"the\" in a wide variety of text sources: <a href=\"http://languagelog.ldc.upenn.edu/myl/TheSOTU1.png\" target=\"_blank\" rel=\"noopener\">State of the Union addresses</a>, <a href=\"http://languagelog.ldc.upenn.edu/myl/MedlineB9.png\" target=\"_blank\" rel=\"noopener\">Medline abstracts</a>, the <a href=\"http://languagelog.ldc.upenn.edu/myl/COHA_THE1.png\" target=\"_blank\" rel=\"noopener\">Corpus of Historical American English</a>, <a href=\"http://languagelog.ldc.upenn.edu/myl/EuroDefinites4.png\" target=\"_blank\" rel=\"noopener\">Google Books</a>\\xa0(from both <a href=\"http://languagelog.ldc.upenn.edu/myl/AmericanBritishLoveHate1.png\" target=\"_blank\" rel=\"noopener\">American and British sources</a>), and so on. Both in <a href=\"http://languagelog.ldc.upenn.edu/myl/FisherTheResults.png\" target=\"_blank\" rel=\"noopener\">conversational speech</a> and in <a href=\"http://languagelog.ldc.upenn.edu/myl/WordsBySexAge2_8.png\" target=\"_blank\" rel=\"noopener\">informal writing</a>, we see the kind of correlation with sex and age that we expect for a language change in progress; and there are <a href=\"http://languagelog.ldc.upenn.edu/myl/THE_Geography.png\" target=\"_blank\" rel=\"noopener\">surprisingly systematic geographical differences</a>. (See the links below for details.)</p>\\n<p>For reasons discussed in a couple of recent posts (\"<a href=\"http://languagelog.ldc.upenn.edu/nll/?p=35968\" target=\"_blank\" rel=\"noopener\">Proportion of dialogue in novels</a>\", 12/29/2017; \"<a href=\"http://languagelog.ldc.upenn.edu/nll/?p=36233\" target=\"_blank\" rel=\"noopener\">Ross Macdonald: lexical diversity over the lifespan</a>\", 1/13/2018), Yves Schabes and I have been analyzing variation over time in the writing of some prolific 20th-century authors, so this morning I thought I\\'d take the opportunity to look at longitudinal changes in \"the\" usage in the two authors whose books I\\'ve processed so far, Agatha Christie and Ross Macdonald.</p>\\n<p><span id=\"more-36337\"></span></p>\\n<p>Given previous work on\\xa0<a href=\"http://www.annualreviews.org/doi/abs/10.1146/annurev-linguistics-011817-045438\" target=\"_blank\" rel=\"noopener\">language change across the lifespan</a>, we might see several different patterns:</p>\\n<p style=\"padding-left: 30px;\"><span style=\"color: #000080;\">Longitudinal studies of individuals and groups reveal three trajectory types postadolescence: stability (the most common), adopting (to some degree) a change led by younger people (the next most common trajectory), or swimming against the community current by reverting to an older pattern in later life (the least common trajectory).</span></p>\\n<p>What we do see:</p>\\n<p><a href=\"http://languagelog.ldc.upenn.edu/myl/CriminalThe1.png\"><img title=\"Click to embiggen\" src=\"http://languagelog.ldc.upenn.edu/myl/CriminalThe1.png\" width=\"490\" /></a></p>\\n<p>So</p>\\n<ul>\\n<li>Both authors show some evidence of adaptation to the on-going change;</li>\\n<li>Ross Macdonald\\'s rates of \"the\" usage are well above Agatha Christie\\'s, which is consistent with the previously-mentioned gender difference;</li>\\n<li>Ross Macdonald seems to have stabilized or even reverted a bit in the last ten years of his writing career, from 1965 to 1975.</li>\\n</ul>\\n<p>Previous LLOG posts on the general topic of decreases in definiteness:</p>\\n<p>\"<a href=\"http://languagelog.ldc.upenn.edu/nll/?p=9998\" target=\"_blank\" rel=\"noopener\">SOTU evolution</a>\", 1/26/2014<br />\\n\"<a href=\"http://languagelog.ldc.upenn.edu/nll/?p=16938\" target=\"_blank\" rel=\"noopener\">Decreasing definiteness</a>\", 1/8/2015<br />\\n\"<a href=\"http://languagelog.ldc.upenn.edu/nll/?p=16991\" target=\"_blank\" rel=\"noopener\">Why definiteness is decreasing, part 1</a>\", 1/9/2015<br />\\n\"<a href=\"http://languagelog.ldc.upenn.edu/nll/?p=17006\" target=\"_blank\" rel=\"noopener\">Why definiteness is decreasing, part 2</a>\", 1/10/2015<br />\\n\"<a href=\"http://languagelog.ldc.upenn.edu/nll/?p=17215\" target=\"_blank\" rel=\"noopener\">Why definiteness is decreasing, part 3</a>\", 1/18/2015<br />\\n\"<a href=\"http://languagelog.ldc.upenn.edu/nll/?p=22893\" target=\"_blank\" rel=\"noopener\">Positivity?</a>\", 12/21/2015<br />\\n\"<a href=\"http://languagelog.ldc.upenn.edu/nll/?p=23210\" target=\"_blank\" rel=\"noopener\">Normalizing</a>\", 12/31/2015<br />\\n\"<a href=\"http://languagelog.ldc.upenn.edu/nll/?p=23277\" target=\"_blank\" rel=\"noopener\">The case of the disappearing determiners</a>\", 1/3/2016<br />\\n\"<a href=\"http://languagelog.ldc.upenn.edu/nll/?p=23348\" target=\"_blank\" rel=\"noopener\">Dutch\\xa0<em>DE</em></a>\", 1/4/2016<br />\\n\"<a href=\"http://languagelog.ldc.upenn.edu/nll/?p=23396\" target=\"_blank\" rel=\"noopener\">The determiner of the turtle is heard in our land</a>\", 1/7/2016<br />\\n\"<a href=\"http://languagelog.ldc.upenn.edu/nll/?p=23416\" target=\"_blank\" rel=\"noopener\">Correlated lexicometrical decay</a>\", 1/9/2016<br />\\n\"<a href=\"http://languagelog.ldc.upenn.edu/nll/?p=23456\" target=\"_blank\" rel=\"noopener\">Style or artefact or both?</a>\", 1/12/2016<br />\\n\"<a href=\"http://languagelog.ldc.upenn.edu/nll/?p=23780\" target=\"_blank\" rel=\"noopener\">Geolexicography</a>\", 1/27/2016</p>\\n<p>&nbsp;</p>'}],\n",
       "  'guidislink': False,\n",
       "  'href': 'http://ling.upenn.edu/~myl',\n",
       "  'id': 'http://languagelog.ldc.upenn.edu/nll/?p=36337',\n",
       "  'link': 'http://languagelog.ldc.upenn.edu/nll/?p=36337',\n",
       "  'links': [{'href': 'http://languagelog.ldc.upenn.edu/nll/?p=36337',\n",
       "    'rel': 'alternate',\n",
       "    'type': 'text/html'},\n",
       "   {'count': '4',\n",
       "    'href': 'http://languagelog.ldc.upenn.edu/nll/?p=36337#comments',\n",
       "    'rel': 'replies',\n",
       "    'thr:count': '4',\n",
       "    'type': 'text/html'},\n",
       "   {'count': '4',\n",
       "    'href': 'http://languagelog.ldc.upenn.edu/nll/?feed=atom&p=36337',\n",
       "    'rel': 'replies',\n",
       "    'thr:count': '4',\n",
       "    'type': 'application/atom+xml'}],\n",
       "  'published': '2018-01-21T16:36:12Z',\n",
       "  'published_parsed': time.struct_time(tm_year=2018, tm_mon=1, tm_mday=21, tm_hour=16, tm_min=36, tm_sec=12, tm_wday=6, tm_yday=21, tm_isdst=0),\n",
       "  'summary': 'In a series of posts over the last few years, I\\'ve documented gradual declines in the frequency of the English definite determiner \"the\" in a wide variety of text sources: State of the Union addresses, Medline abstracts, the Corpus of Historical American English, Google Books\\xa0(from both American and British sources), and so on. Both in [&#8230;]',\n",
       "  'summary_detail': {'base': 'http://languagelog.ldc.upenn.edu/nll/wp-atom.php',\n",
       "   'language': 'en-US',\n",
       "   'type': 'text/html',\n",
       "   'value': 'In a series of posts over the last few years, I\\'ve documented gradual declines in the frequency of the English definite determiner \"the\" in a wide variety of text sources: State of the Union addresses, Medline abstracts, the Corpus of Historical American English, Google Books\\xa0(from both American and British sources), and so on. Both in [&#8230;]'},\n",
       "  'tags': [{'label': None,\n",
       "    'scheme': 'http://languagelog.ldc.upenn.edu/nll',\n",
       "    'term': 'Language change'},\n",
       "   {'label': None,\n",
       "    'scheme': 'http://languagelog.ldc.upenn.edu/nll',\n",
       "    'term': 'WTF'}],\n",
       "  'thr_total': '4',\n",
       "  'title': 'Decreasing definiteness in crime novels',\n",
       "  'title_detail': {'base': 'http://languagelog.ldc.upenn.edu/nll/wp-atom.php',\n",
       "   'language': 'en-US',\n",
       "   'type': 'text/html',\n",
       "   'value': 'Decreasing definiteness in crime novels'},\n",
       "  'updated': '2018-01-22T20:03:24Z',\n",
       "  'updated_parsed': time.struct_time(tm_year=2018, tm_mon=1, tm_mday=22, tm_hour=20, tm_min=3, tm_sec=24, tm_wday=0, tm_yday=22, tm_isdst=0)},\n",
       " {'author': 'Victor Mair',\n",
       "  'author_detail': {'href': 'https://www.sas.upenn.edu/ealc/mair',\n",
       "   'name': 'Victor Mair'},\n",
       "  'authors': [{'href': 'https://www.sas.upenn.edu/ealc/mair',\n",
       "    'name': 'Victor Mair'}],\n",
       "  'content': [{'base': 'http://languagelog.ldc.upenn.edu/nll/?p=36309',\n",
       "    'language': 'en-US',\n",
       "    'type': 'text/html',\n",
       "    'value': '<div>Nikita Kuzmin told me about a trend among young Chinese to exchange certain characters with other phonetically close characters in their Internet writings, so that the words sound more \"cute\".</div>\\n<div>\\n<p>Here are some examples of such substitutions:</p>\\n</div>\\n<div style=\"padding-left: 30px;\">jiègè 介個 &#8212;\\xa0 zhège 這個 (\"this\")</div>\\n<div style=\"padding-left: 30px;\">pényǒu 盆友 &#8212; péngyǒu 朋友 (\"friend\")</div>\\n<div style=\"padding-left: 30px;\">nánpiào 男票 &#8212; nán péngyǒu 男朋友 (\"boyfriend\")</div>\\n<div style=\"padding-left: 30px;\">xièxiè 蟹蟹 &#8212; xièxiè 謝謝 (\"thanks\")</div>\\n<div style=\"padding-left: 30px;\">kāisēn 開森 &#8212; kāixīn 開心 (\"happy\")</div>\\n<div style=\"padding-left: 30px;\">suìjué/jiào 碎觉 &#8212; shuìjiào 睡覺 (\"sleep\")</div>\\n<div>\\n<p><span id=\"more-36309\"></span></p>\\n</div>\\n<div>Don\\'t worry overmuch about the meanings of the characters in the first half of each pair, because they are being used for their sound.\\xa0 Still, in this kind of word play, the latent meanings of the substituted characters often add another level of levity.</div>\\n<div></div>\\n<p style=\"padding-left: 30px;\">jiègè 介個 (\"interpose piece\")<br />\\npényǒu 盆友 (\"basin friend\")<br />\\nnánpiào 男票 (\"male ticket\")<br />\\nxièxiè 蟹蟹 (\"crab crab\")<br />\\nkāisēn 開森 (\"open forest\")<br />\\nsuìjué/jiào 碎觉 (\"shattered awake/asleep\")</p>\\n<div></div>\\n<div>One of Nikita\\'s Chinese friends told him that this type of word play is due to the influence of Taiwanese guoyu (Mandarin) pronunciation, as well as to the influence of the topolects.</div>\\n<p>This is but one way in which netizens today are playing with the characters to achieve all sorts of special effects, both phonetic and semantic.\\xa0 Taiwan is an especially fertile place for this kind of linguistic legerdemain, e.g.:</p>\\n<p style=\"padding-left: 30px;\">\"<a title=\"Permanent link to Further evidence of mixed script writing in Chinese\" href=\"http://languagelog.ldc.upenn.edu/nll/?p=36248\" rel=\"bookmark\">Further evidence of mixed script writing in Chinese</a>\" (1/19/18)</p>\\n<p style=\"padding-left: 30px;\">\"<a title=\"Permanent link to The Westernization of Chinese\" href=\"http://languagelog.ldc.upenn.edu/nll/?p=4168\" rel=\"bookmark\">The Westernization of Chinese</a>\" (9/6/12)</p>\\n<p><iframe width=\"500\" height=\"375\" src=\"https://www.youtube.com/embed/aqNsaEL-wM4?feature=oembed\" frameborder=\"0\" allow=\"autoplay; encrypted-media\" allowfullscreen></iframe></p>'}],\n",
       "  'guidislink': False,\n",
       "  'href': 'https://www.sas.upenn.edu/ealc/mair',\n",
       "  'id': 'http://languagelog.ldc.upenn.edu/nll/?p=36309',\n",
       "  'link': 'http://languagelog.ldc.upenn.edu/nll/?p=36309',\n",
       "  'links': [{'href': 'http://languagelog.ldc.upenn.edu/nll/?p=36309',\n",
       "    'rel': 'alternate',\n",
       "    'type': 'text/html'},\n",
       "   {'count': '8',\n",
       "    'href': 'http://languagelog.ldc.upenn.edu/nll/?p=36309#comments',\n",
       "    'rel': 'replies',\n",
       "    'thr:count': '8',\n",
       "    'type': 'text/html'},\n",
       "   {'count': '8',\n",
       "    'href': 'http://languagelog.ldc.upenn.edu/nll/?feed=atom&p=36309',\n",
       "    'rel': 'replies',\n",
       "    'thr:count': '8',\n",
       "    'type': 'application/atom+xml'}],\n",
       "  'published': '2018-01-21T13:20:00Z',\n",
       "  'published_parsed': time.struct_time(tm_year=2018, tm_mon=1, tm_mday=21, tm_hour=13, tm_min=20, tm_sec=0, tm_wday=6, tm_yday=21, tm_isdst=0),\n",
       "  'summary': 'Nikita Kuzmin told me about a trend among young Chinese to exchange certain characters with other phonetically close characters in their Internet writings, so that the words sound more \"cute\". Here are some examples of such substitutions: jiègè 介個 &#8212;\\xa0 zhège 這個 (\"this\") pényǒu 盆友 &#8212; péngyǒu 朋友 (\"friend\") nánpiào 男票 &#8212; nán péngyǒu 男朋友 [&#8230;]',\n",
       "  'summary_detail': {'base': 'http://languagelog.ldc.upenn.edu/nll/wp-atom.php',\n",
       "   'language': 'en-US',\n",
       "   'type': 'text/html',\n",
       "   'value': 'Nikita Kuzmin told me about a trend among young Chinese to exchange certain characters with other phonetically close characters in their Internet writings, so that the words sound more \"cute\". Here are some examples of such substitutions: jiègè 介個 &#8212;\\xa0 zhège 這個 (\"this\") pényǒu 盆友 &#8212; péngyǒu 朋友 (\"friend\") nánpiào 男票 &#8212; nán péngyǒu 男朋友 [&#8230;]'},\n",
       "  'tags': [{'label': None,\n",
       "    'scheme': 'http://languagelog.ldc.upenn.edu/nll',\n",
       "    'term': 'Humor'},\n",
       "   {'label': None,\n",
       "    'scheme': 'http://languagelog.ldc.upenn.edu/nll',\n",
       "    'term': 'Pronunciation'},\n",
       "   {'label': None,\n",
       "    'scheme': 'http://languagelog.ldc.upenn.edu/nll',\n",
       "    'term': 'Topolects'},\n",
       "   {'label': None,\n",
       "    'scheme': 'http://languagelog.ldc.upenn.edu/nll',\n",
       "    'term': 'Uncategorized'}],\n",
       "  'thr_total': '8',\n",
       "  'title': 'Using Chinese nonstandard characters to talk cute',\n",
       "  'title_detail': {'base': 'http://languagelog.ldc.upenn.edu/nll/wp-atom.php',\n",
       "   'language': 'en-US',\n",
       "   'type': 'text/html',\n",
       "   'value': 'Using Chinese nonstandard characters to talk cute'},\n",
       "  'updated': '2018-01-21T13:20:00Z',\n",
       "  'updated_parsed': time.struct_time(tm_year=2018, tm_mon=1, tm_mday=21, tm_hour=13, tm_min=20, tm_sec=0, tm_wday=6, tm_yday=21, tm_isdst=0)},\n",
       " {'author': 'Mark Liberman',\n",
       "  'author_detail': {'href': 'http://ling.upenn.edu/~myl',\n",
       "   'name': 'Mark Liberman'},\n",
       "  'authors': [{'href': 'http://ling.upenn.edu/~myl', 'name': 'Mark Liberman'}],\n",
       "  'content': [{'base': 'http://languagelog.ldc.upenn.edu/nll/?p=36321',\n",
       "    'language': 'en-US',\n",
       "    'type': 'text/html',\n",
       "    'value': '<p>Today\\'s <a href=\"http://www.gocomics.com/frazz/2018/01/20\" target=\"_blank\" rel=\"noopener\">Frazz</a>:</p>\\n<p><a href=\"http://languagelog.ldc.upenn.edu/myl/SnowPants.gif\"><img title=\"Click to embiggen\" src=\"http://languagelog.ldc.upenn.edu/myl/SnowPants.gif\" width=\"490\" /></a></p>\\n<p><span id=\"more-36321\"></span></p>\\n<p><em>Snowpants </em>exemplifies a common case, where both elements of the compound retain their basic meaning, but the combination has an idiomatic aspect &#8212; the meaning is not entirely compositional, in that the reference is not to pants composed of snow (as in <em>snowdrift, snow shower, snow bridge</em>), and the morpheme choice is conventionalized, so that the first element is\\xa0<em>snow</em> rather than <em>blizzard, ice, </em>etc., and the second element is<em> pants </em>rather than<em> trousers, britches,</em> etc.</p>\\n<p>For other examples of the quasi-compositional meaning, compare <em>olive oil</em> and <em>hair oil</em>, or <em>fog bank</em> and <em>fog horn </em>&#8212; really almost any English noun compounds at all.</p>\\n<p>And for the lexicalization, you could refer to \"blizzard britches\" and hope to be understood, even though your listeners probably never heard that sequence before, but they\\'ve probably already got <em>snowpants</em> in their mental lexicon, at least if they grew up in the northern parts of the U.S.</p>\\n<p><em>Peacoat</em> is another common case, where both elements are recognizable English words, but the first one is used in a way that is mostly unconnected with its normal meaning. The OED\\'s etymology and citations for <em>pea-jacket:</em></p>\\n<p style=\"padding-left: 30px;\">Origin uncertain; apparently &lt; <span style=\"font-variant: small-caps;\">pee</span> n.1 (although this apparently did not survive after the 17th cent.) + <span style=\"font-variant: small-caps;\">jacket</span> n. It has been suggested that this word may be borrowed from, or formed after, Dutch <em>pijjakker, pijjekker</em> ( &lt; <em>pij</em> (see pee n.1) + <em>jakker , jekker</em> , diminutive of <em>jak</em> (Middle Dutch <em>jacke</em> ; &lt; French <em>jacque</em> : see <span style=\"font-variant: small-caps;\">jacket</span> n.)), with the second element assimilated to <span style=\"font-variant: small-caps;\">jacket</span> n., but this is apparently only attested much later (1843), as are corresponding formations in other Germanic languages. The alternative etymology proposed in quot. 1840 is not supported by the evidence (compare later <span style=\"font-variant: small-caps;\">pilot cloth</span> n.).</p>\\n<p style=\"padding-left: 30px;\"><strong>1717</strong>\\xa0\\xa0 <em>Inventory</em> in M. Spufford <em>Great Reclothing of Rural Eng.</em> (1984) 218\\xa0\\xa0 2 Pea Jacquetts 10s.<br />\\n<strong>1757</strong>\\xa0\\xa0 <em>Mem. Princ. Trans. Last War</em> 8\\xa0\\xa0 The Consumption..made of their coarse Woollens by the Men employed in the Fishery, reckoning for each a Blanket, Watch Coat, Rug, Pea-Jacket, etc.<br />\\n[&#8230;]<br />\\n<strong>1840</strong>\\xa0\\xa0 F. Marryat <em>Poor Jack</em> xxii. 153\\xa0\\xa0 A short P-jacket (so called from the abbreviation of pilot\\'s jacket) reached down to just above his knees.</p>\\n<p>The earliest OED citation for <em>pea-coat</em> is from 1790:</p>\\n<p style=\"padding-left: 30px;\"><strong>1790</strong>\\xa0\\xa0 <em>Pennsylvania Packet</em> 4 Jan. 2/2\\xa0\\xa0 There are now lodged in the said Office..1 pea coat;..1 coatee [etc.].</p>\\n<p>So we don\\'t know where <em>pea</em> in <em>peacoat</em> comes from, except it\\'s not any current meaning of the regular word <em>pea</em>.\\xa0 Similar developments are common, sometimes by retention of an otherwise obsolete measning, and sometimes in the form of a folk etymology or the more sporadic case that we\\'ve named <a href=\"http://itre.cis.upenn.edu/~myl/languagelog/archives/000018.html\" target=\"_blank\" rel=\"noopener\">eggcorns</a>.</p>\\n<p>For more on the quasi-compositionality of English compound nominals, see Liberman &amp; Sproat, \"<a href=\"http://languagelog.ldc.upenn.edu/myl/LibermanSproat1992a.pdf\">The Stress and Structure of Modified Noun Phrases in English\"</a>, in\\xa0Sag and Szabolsci, eds.,\\xa0<em>Lexical Matters </em>1992.</p>\\n<p>&nbsp;</p>'}],\n",
       "  'guidislink': False,\n",
       "  'href': 'http://ling.upenn.edu/~myl',\n",
       "  'id': 'http://languagelog.ldc.upenn.edu/nll/?p=36321',\n",
       "  'link': 'http://languagelog.ldc.upenn.edu/nll/?p=36321',\n",
       "  'links': [{'href': 'http://languagelog.ldc.upenn.edu/nll/?p=36321',\n",
       "    'rel': 'alternate',\n",
       "    'type': 'text/html'},\n",
       "   {'count': '19',\n",
       "    'href': 'http://languagelog.ldc.upenn.edu/nll/?p=36321#comments',\n",
       "    'rel': 'replies',\n",
       "    'thr:count': '19',\n",
       "    'type': 'text/html'},\n",
       "   {'count': '19',\n",
       "    'href': 'http://languagelog.ldc.upenn.edu/nll/?feed=atom&p=36321',\n",
       "    'rel': 'replies',\n",
       "    'thr:count': '19',\n",
       "    'type': 'application/atom+xml'}],\n",
       "  'published': '2018-01-20T13:20:52Z',\n",
       "  'published_parsed': time.struct_time(tm_year=2018, tm_mon=1, tm_mday=20, tm_hour=13, tm_min=20, tm_sec=52, tm_wday=5, tm_yday=20, tm_isdst=0),\n",
       "  'summary': \"Today's Frazz: Snowpants exemplifies a common case, where both elements of the compound retain their basic meaning, but the combination has an idiomatic aspect &#8212; the meaning is not entirely compositional, in that the reference is not to pants composed of snow (as in snowdrift, snow shower, snow bridge), and the morpheme choice is conventionalized, [&#8230;]\",\n",
       "  'summary_detail': {'base': 'http://languagelog.ldc.upenn.edu/nll/wp-atom.php',\n",
       "   'language': 'en-US',\n",
       "   'type': 'text/html',\n",
       "   'value': \"Today's Frazz: Snowpants exemplifies a common case, where both elements of the compound retain their basic meaning, but the combination has an idiomatic aspect &#8212; the meaning is not entirely compositional, in that the reference is not to pants composed of snow (as in snowdrift, snow shower, snow bridge), and the morpheme choice is conventionalized, [&#8230;]\"},\n",
       "  'tags': [{'label': None,\n",
       "    'scheme': 'http://languagelog.ldc.upenn.edu/nll',\n",
       "    'term': 'Linguistics in the comics'}],\n",
       "  'thr_total': '19',\n",
       "  'title': 'The quasi-compositionality of English compounds',\n",
       "  'title_detail': {'base': 'http://languagelog.ldc.upenn.edu/nll/wp-atom.php',\n",
       "   'language': 'en-US',\n",
       "   'type': 'text/html',\n",
       "   'value': 'The quasi-compositionality of English compounds'},\n",
       "  'updated': '2018-01-20T13:24:05Z',\n",
       "  'updated_parsed': time.struct_time(tm_year=2018, tm_mon=1, tm_mday=20, tm_hour=13, tm_min=24, tm_sec=5, tm_wday=5, tm_yday=20, tm_isdst=0)},\n",
       " {'author': 'Victor Mair',\n",
       "  'author_detail': {'href': 'https://www.sas.upenn.edu/ealc/mair',\n",
       "   'name': 'Victor Mair'},\n",
       "  'authors': [{'href': 'https://www.sas.upenn.edu/ealc/mair',\n",
       "    'name': 'Victor Mair'}],\n",
       "  'content': [{'base': 'http://languagelog.ldc.upenn.edu/nll/?p=36248',\n",
       "    'language': 'en-US',\n",
       "    'type': 'text/html',\n",
       "    'value': '<p>Michael Cannings relayed this <a href=\"https://twitter.com/DaveFlynn/status/953954230305357824\">tweet by Dave Flynn</a>:</p>\\n<blockquote class=\"twitter-tweet\" data-width=\"500\" data-dnt=\"true\">\\n<p lang=\"en\" dir=\"ltr\">When did replacing 很 with &quot;hen&quot; become a thing in Taiwan? <a href=\"https://t.co/IHX8b5EWLZ\">pic.twitter.com/IHX8b5EWLZ</a></p>\\n<p>&mdash; Dave Flynn 茶米 (@DaveFlynn) <a href=\"https://twitter.com/DaveFlynn/status/953954230305357824?ref_src=twsrc%5Etfw\">January 18, 2018</a></p></blockquote>\\n<p><script async src=\"https://platform.twitter.com/widgets.js\" charset=\"utf-8\"></script></p>\\n<p><span id=\"more-36248\"></span></p>\\n<p>The writing in the bottom right corner says:</p>\\n<p style=\"padding-left: 30px;\">yóuxì zhēn de HEN hǎowán 遊戲真的HEN好玩</p>\\n<p style=\"padding-left: 30px;\">\"the game is really fun\"</p>\\n<p>On the grammatical function of hěn 很 (\"very\") in such sentences:</p>\\n<ul>\\n<li>\"<a title=\"Permanent link to He\\'s (very) good / well / fine in Mandarin and Cantonese\" href=\"http://languagelog.ldc.upenn.edu/nll/?p=19478\" target=\"_blank\" rel=\"bookmark noopener\" data-saferedirecturl=\"https://www.google.com/url?hl=en&amp;q=http://languagelog.ldc.upenn.edu/nll/?p%3D19478&amp;source=gmail&amp;ust=1516508569540000&amp;usg=AFQjCNFekAEqaualAKJnk6ESjQAwmj8rzA\">He\\'s (very) good / well / fine in Mandarin and Cantonese</a>\" (6 /15/15)</li>\\n<li>\"<a title=\"Permanent link to \" href=\"http://languagelog.ldc.upenn.edu/nll/?p=32784\" target=\"_blank\" rel=\"bookmark noopener\" data-saferedirecturl=\"https://www.google.com/url?hl=en&amp;q=http://languagelog.ldc.upenn.edu/nll/?p%3D32784&amp;source=gmail&amp;ust=1516508569540000&amp;usg=AFQjCNH2pjCNkAtaB1qpzV72S8LMosNlVg\">\\'Little Man\\' the eating machine</a>\" (5/22/17)</li>\\n</ul>\\n<p>We have had many posts on biscriptalism, multiscriptalism, and mixed script writing in diverse languages on Language Log.\\xa0 Here are just a few for Chinese:</p>\\n<ul>\\n<li>\"<a href=\"http://itre.cis.upenn.edu/~myl/languagelog/archives/005318.html\" target=\"_blank\" rel=\"noopener\" data-saferedirecturl=\"https://www.google.com/url?hl=en&amp;q=http://itre.cis.upenn.edu/%257Emyl/languagelog/archives/005318.html&amp;source=gmail&amp;ust=1516508569540000&amp;usg=AFQjCNHU9XpEnwk1_y66u_nJkgctwrtpZg\">A new way of 寫ing Mandarin</a>\" (1/13/08)</li>\\n<li>\"<a href=\"http://languagelog.ldc.upenn.edu/nll/?p=3111\" target=\"_blank\" rel=\"noopener\" data-saferedirecturl=\"https://www.google.com/url?hl=en&amp;q=http://languagelog.ldc.upenn.edu/nll/?p%3D3111&amp;source=gmail&amp;ust=1516508569540000&amp;usg=AFQjCNHnXxJEqSoAyAVIKoOzRC0ZShJ9sg\">A New Morpheme in Mandarin</a>\" (6/26/11)</li>\\n<li>\"<a title=\"Permanent link to Biscriptalism on Starbucks cups, part 2\" href=\"http://languagelog.ldc.upenn.edu/nll/?p=34495\" target=\"_blank\" rel=\"bookmark noopener\" data-saferedirecturl=\"https://www.google.com/url?hl=en&amp;q=http://languagelog.ldc.upenn.edu/nll/?p%3D34495&amp;source=gmail&amp;ust=1516508569540000&amp;usg=AFQjCNHrZVZQPi_4uBaTp4QzRcGbbIdPTg\">Biscriptalism on Starbucks cups, part 2</a>\" (9/16/17)</li>\\n<li>\"<a title=\"Permanent link to Impromptu biscriptalism on a Starbucks cup\" href=\"http://languagelog.ldc.upenn.edu/nll/?p=34373\" target=\"_blank\" rel=\"bookmark noopener\" data-saferedirecturl=\"https://www.google.com/url?hl=en&amp;q=http://languagelog.ldc.upenn.edu/nll/?p%3D34373&amp;source=gmail&amp;ust=1516508569540000&amp;usg=AFQjCNHy5OvLi9ayjAqUwLCvJ8klsWKAdQ\">Impromptu biscriptalism on a Starbucks cup</a>\" (9/8/17)</li>\\n</ul>'}],\n",
       "  'guidislink': False,\n",
       "  'href': 'https://www.sas.upenn.edu/ealc/mair',\n",
       "  'id': 'http://languagelog.ldc.upenn.edu/nll/?p=36248',\n",
       "  'link': 'http://languagelog.ldc.upenn.edu/nll/?p=36248',\n",
       "  'links': [{'href': 'http://languagelog.ldc.upenn.edu/nll/?p=36248',\n",
       "    'rel': 'alternate',\n",
       "    'type': 'text/html'},\n",
       "   {'count': '7',\n",
       "    'href': 'http://languagelog.ldc.upenn.edu/nll/?p=36248#comments',\n",
       "    'rel': 'replies',\n",
       "    'thr:count': '7',\n",
       "    'type': 'text/html'},\n",
       "   {'count': '7',\n",
       "    'href': 'http://languagelog.ldc.upenn.edu/nll/?feed=atom&p=36248',\n",
       "    'rel': 'replies',\n",
       "    'thr:count': '7',\n",
       "    'type': 'application/atom+xml'}],\n",
       "  'published': '2018-01-20T04:27:53Z',\n",
       "  'published_parsed': time.struct_time(tm_year=2018, tm_mon=1, tm_mday=20, tm_hour=4, tm_min=27, tm_sec=53, tm_wday=5, tm_yday=20, tm_isdst=0),\n",
       "  'summary': 'Michael Cannings relayed this tweet by Dave Flynn: When did replacing 很 with &#34;hen&#34; become a thing in Taiwan? pic.twitter.com/IHX8b5EWLZ &#8212; Dave Flynn 茶米 (@DaveFlynn) January 18, 2018 The writing in the bottom right corner says: yóuxì zhēn de HEN hǎowán 遊戲真的HEN好玩 \"the game is really fun\" On the grammatical function of hěn 很 (\"very\") [&#8230;]',\n",
       "  'summary_detail': {'base': 'http://languagelog.ldc.upenn.edu/nll/wp-atom.php',\n",
       "   'language': 'en-US',\n",
       "   'type': 'text/html',\n",
       "   'value': 'Michael Cannings relayed this tweet by Dave Flynn: When did replacing 很 with &#34;hen&#34; become a thing in Taiwan? pic.twitter.com/IHX8b5EWLZ &#8212; Dave Flynn 茶米 (@DaveFlynn) January 18, 2018 The writing in the bottom right corner says: yóuxì zhēn de HEN hǎowán 遊戲真的HEN好玩 \"the game is really fun\" On the grammatical function of hěn 很 (\"very\") [&#8230;]'},\n",
       "  'tags': [{'label': None,\n",
       "    'scheme': 'http://languagelog.ldc.upenn.edu/nll',\n",
       "    'term': 'Diglossia and digraphia'},\n",
       "   {'label': None,\n",
       "    'scheme': 'http://languagelog.ldc.upenn.edu/nll',\n",
       "    'term': 'Writing systems'}],\n",
       "  'thr_total': '7',\n",
       "  'title': 'Further evidence of mixed script writing in Chinese',\n",
       "  'title_detail': {'base': 'http://languagelog.ldc.upenn.edu/nll/wp-atom.php',\n",
       "   'language': 'en-US',\n",
       "   'type': 'text/html',\n",
       "   'value': 'Further evidence of mixed script writing in Chinese'},\n",
       "  'updated': '2018-01-20T11:25:24Z',\n",
       "  'updated_parsed': time.struct_time(tm_year=2018, tm_mon=1, tm_mday=20, tm_hour=11, tm_min=25, tm_sec=24, tm_wday=5, tm_yday=20, tm_isdst=0)},\n",
       " {'author': 'Victor Mair',\n",
       "  'author_detail': {'href': 'https://www.sas.upenn.edu/ealc/mair',\n",
       "   'name': 'Victor Mair'},\n",
       "  'authors': [{'href': 'https://www.sas.upenn.edu/ealc/mair',\n",
       "    'name': 'Victor Mair'}],\n",
       "  'content': [{'base': 'http://languagelog.ldc.upenn.edu/nll/?p=36296',\n",
       "    'language': 'en-US',\n",
       "    'type': 'text/html',\n",
       "    'value': '<p>News article from Xinhua (1/16/18, by Quan Xiaoshu, Qu Ting, Cao Pengyuan):</p>\\n<p style=\"padding-left: 30px;\">\"<a href=\"http://www.xinhuanet.com/english/2018-01/16/c_136900293.htm\">Ancient tripartite-city of Xiongnu a special religious and meeting site: archaeologists</a>\"</p>\\n<div>\\n<p>It starts:</p>\\n</div>\\n<div style=\"padding-left: 30px;\">The ruins of an ancient tripartite-city, known as Sanlian City, in midwest Mongolia\\'s Khermental City, demonstrates that the Xiongnu tribe used to perform religious ceremonies and hold alliance meetings there.</div>\\n<div>\\n<p>Bathrobe comments:</p>\\n<p style=\"padding-left: 30px;\">Now, it may be due to my poor web research skills, but I\\'m having considerable difficulty finding any Sanlian city or even a Khermental city in Mongolia outside of the Xinhua news article.</p>\\n</div>\\n<div style=\"padding-left: 30px;\"></div>\\n<div style=\"padding-left: 30px;\">Is this another mangled news story where Chinese news reporters are too incompetent (or maybe arrogant) to check the names of geographical places outside of China? I\\'m also wondering at the thickskinned-ness of calling the archaeological site of a non-Chinese culture in a foreign country by a name so transparently Chinese as \"Sanlian\".</div>\\n<p><span id=\"more-36296\"></span></p>\\n<p>Comment by Jichang Lulu:</p>\\n<p style=\"padding-left: 30px;\">As usual, the Xinhua article is horribly mangled up. Of course \\'Sanlian\\' is not a Mongolian word, and there is no such a \\'city\\' in Mongolia. This is just Xinhua translators and editors not bothering to understand what they write about.</p>\\n<div style=\"padding-left: 30px;\">Here\\'s <a href=\"http://www.xinhuanet.com/local/2018-01/17/c_1122274130.htm\">the original article in Chinese</a>.</div>\\n<div></div>\\n<div style=\"padding-left: 30px;\">\\n<p>\\'Sanlian City\\' is actually Sānliánchéng 三连城, a name archaeologists have given to \\'three continuous/connected fortresses\\' at a site in Mongolia. The location is known as Khermen/Kheremt Tal Хэрмэн/Хэрэмт Тал in Mongolian. Kherem can mean \\'city wall\\', just like chéng 城 in Chinese (the Great Wall is called Цагаан хэрэм Tsagaan kherem – the \\'white wall\\'). Kheremt is an adjectival form. Tal means field or valley.</p>\\n<p>The site is located in Ögiinuur sum (district), Arkhangai aymag. Google \"Uginuur, Mongolia\" to see it on Google Maps.</p>\\n<p>The site has been excavated by a joint team since \\'14 (report <a href=\"http://gb.oversea.cnki.net/kcms/detail/detail.aspx?filename=NMWC201502004&amp;DBName=cjfqtotal&amp;dbcode=cjfq\">here</a>).</p>\\n<p>This was in the news a couple of months ago when a Henan team departed for Arkhangai (news article <a href=\"http://www.sohu.com/a/158655698_612401\">here</a>).</p>\\n</div>\\n<div style=\"padding-left: 30px;\">\\n<p>As I <a href=\"https://twitter.com/jichanglulu/status/888141996371714053\">noticed on Twitter</a> back then:</p>\\n</div>\\n<div style=\"padding-left: 60px;\">Curious bit (mistake?) in EN version: \"Xiongnu and China\" clashed during Han. Official-ish view is that Xiongnu were a \\'Chinese minority\\'</div>\\n<div style=\"padding-left: 30px;\">\\n<p>The new Xinhua article in Chinese is also quite cautious in referring to the Xiongnu\\'s importance to the history of both countries. In purely internal propaganda, you can find references to the Xiongnu as somehow helping build a \\'Chinese nation\\' and merging into it; we\\'ve discussed this on LL, e.g., <a href=\"http://languagelog.ldc.upenn.edu/nll/?p=34088#comment-1537047\">this comment.</a></p>\\n<p>The Xinhua article avoids this nonsense, possibly due to (a) receiving input from actual serious historians and archaeologists who don\\'t see their work as an aspect of propaganda and (b) the fact that this is joint research carried out abroad with Mongolians scientists. Any Chinese construal of the research results as supporting Chinese retroactive claims to the Xiongnu in today\\'s Mongolia would certainly backfire over there.</p>\\n<p>Xinhua aside, this is certainly very interesting research.</p>\\n</div>\\n<p>For challenges in the Chinese transcription of Mongolic, Tibetan, and Turkic names, cf.:</p>\\n<p style=\"padding-left: 30px;\">\"<a title=\"Permanent link to The Last Lesson — in Mongolian\" href=\"http://languagelog.ldc.upenn.edu/nll/?p=36199\" rel=\"bookmark\">The Last Lesson — in Mongolian</a>\" (1/11/18)</p>\\n<p style=\"padding-left: 30px;\">\"<a title=\"Permanent link to A confusion of languages and names\" href=\"http://languagelog.ldc.upenn.edu/nll/?p=26693\" rel=\"bookmark\">A confusion of languages and names</a>\" (7/8/16) &#8212; mostly about transcriptional practice for names in Xinjiang</p>\\n<p style=\"padding-left: 30px;\">\"<a title=\"Permanent link to Weaponized Tibetan Pinyin\" href=\"http://languagelog.ldc.upenn.edu/nll/?p=32613\" rel=\"bookmark\">Weaponized Tibetan Pinyin</a>\" (5/12/17) &#8212; citing other posts dealing with Chinese transcriptions of Tibetan names</p>\\n<p>For interesting comments on the relationships between Xiongnu ( || Hun) and Mongolic, see:</p>\\n<p style=\"padding-left: 30px;\">\"<a title=\"Permanent link to \" href=\"http://languagelog.ldc.upenn.edu/nll/?p=3910\" rel=\"bookmark\">\\'Lie Fallow Small And Pave</a>\" (4/19/12)</p>\\n<p>When I began the study of Chinese history and culture in the mid-60s, everything that I learned about the Xiongnu and the Han (Chinese) is that they were mortal enemies, and there was plenty of historical, literary, and archeological evidence to support such a view.\\xa0 By the time I started to travel to China in the early 80s, it had become politically convenient (actually de rigeur) in the PRC to speak of the Xiongnu as brothers of the Han who together forged the Chinese nation, as mentioned by Jichang Lulu above.</p>'}],\n",
       "  'guidislink': False,\n",
       "  'href': 'https://www.sas.upenn.edu/ealc/mair',\n",
       "  'id': 'http://languagelog.ldc.upenn.edu/nll/?p=36296',\n",
       "  'link': 'http://languagelog.ldc.upenn.edu/nll/?p=36296',\n",
       "  'links': [{'href': 'http://languagelog.ldc.upenn.edu/nll/?p=36296',\n",
       "    'rel': 'alternate',\n",
       "    'type': 'text/html'},\n",
       "   {'count': '9',\n",
       "    'href': 'http://languagelog.ldc.upenn.edu/nll/?p=36296#comments',\n",
       "    'rel': 'replies',\n",
       "    'thr:count': '9',\n",
       "    'type': 'text/html'},\n",
       "   {'count': '9',\n",
       "    'href': 'http://languagelog.ldc.upenn.edu/nll/?feed=atom&p=36296',\n",
       "    'rel': 'replies',\n",
       "    'thr:count': '9',\n",
       "    'type': 'application/atom+xml'}],\n",
       "  'published': '2018-01-19T01:51:27Z',\n",
       "  'published_parsed': time.struct_time(tm_year=2018, tm_mon=1, tm_mday=19, tm_hour=1, tm_min=51, tm_sec=27, tm_wday=4, tm_yday=19, tm_isdst=0),\n",
       "  'summary': 'News article from Xinhua (1/16/18, by Quan Xiaoshu, Qu Ting, Cao Pengyuan): \"Ancient tripartite-city of Xiongnu a special religious and meeting site: archaeologists\" It starts: The ruins of an ancient tripartite-city, known as Sanlian City, in midwest Mongolia\\'s Khermental City, demonstrates that the Xiongnu tribe used to perform religious ceremonies and hold alliance meetings there. [&#8230;]',\n",
       "  'summary_detail': {'base': 'http://languagelog.ldc.upenn.edu/nll/wp-atom.php',\n",
       "   'language': 'en-US',\n",
       "   'type': 'text/html',\n",
       "   'value': 'News article from Xinhua (1/16/18, by Quan Xiaoshu, Qu Ting, Cao Pengyuan): \"Ancient tripartite-city of Xiongnu a special religious and meeting site: archaeologists\" It starts: The ruins of an ancient tripartite-city, known as Sanlian City, in midwest Mongolia\\'s Khermental City, demonstrates that the Xiongnu tribe used to perform religious ceremonies and hold alliance meetings there. [&#8230;]'},\n",
       "  'tags': [{'label': None,\n",
       "    'scheme': 'http://languagelog.ldc.upenn.edu/nll',\n",
       "    'term': 'Names'},\n",
       "   {'label': None,\n",
       "    'scheme': 'http://languagelog.ldc.upenn.edu/nll',\n",
       "    'term': 'Transcription'}],\n",
       "  'thr_total': '9',\n",
       "  'title': 'Questionable Sino-Mongolian toponymy',\n",
       "  'title_detail': {'base': 'http://languagelog.ldc.upenn.edu/nll/wp-atom.php',\n",
       "   'language': 'en-US',\n",
       "   'type': 'text/html',\n",
       "   'value': 'Questionable Sino-Mongolian toponymy'},\n",
       "  'updated': '2018-01-19T01:51:27Z',\n",
       "  'updated_parsed': time.struct_time(tm_year=2018, tm_mon=1, tm_mday=19, tm_hour=1, tm_min=51, tm_sec=27, tm_wday=4, tm_yday=19, tm_isdst=0)}]"
      ]
     },
     "execution_count": 82,
     "metadata": {},
     "output_type": "execute_result"
    }
   ],
   "source": [
    "llog.entries"
   ]
  },
  {
   "cell_type": "code",
   "execution_count": 87,
   "metadata": {},
   "outputs": [
    {
     "name": "stdout",
     "output_type": "stream",
     "text": [
      "Global drop in GNP?\n",
      "Biscriptal juxtaposition in Chinese, part 4\n",
      "What it is is what it is\n",
      "Learning not to avoid\n",
      "Poetic dynamism\n",
      "Language vigilantism\n",
      "Indispensable condiment\n",
      "Putin in Russian, Mandarin, and English\n",
      "Decreasing definiteness in crime novels\n",
      "Using Chinese nonstandard characters to talk cute\n",
      "The quasi-compositionality of English compounds\n",
      "Further evidence of mixed script writing in Chinese\n",
      "Questionable Sino-Mongolian toponymy\n"
     ]
    }
   ],
   "source": [
    "for post in llog.entries:\n",
    "    print(post.title)"
   ]
  },
  {
   "cell_type": "code",
   "execution_count": 88,
   "metadata": {},
   "outputs": [
    {
     "data": {
      "text/plain": [
       "'What it is is what it is'"
      ]
     },
     "execution_count": 88,
     "metadata": {},
     "output_type": "execute_result"
    }
   ],
   "source": [
    "post=llog.entries[2]\n",
    "post.title"
   ]
  },
  {
   "cell_type": "code",
   "execution_count": 90,
   "metadata": {},
   "outputs": [
    {
     "data": {
      "text/plain": [
       "'<p>Jay Livingston sends a compendium of tautologies from <em>The Wire<'"
      ]
     },
     "execution_count": 90,
     "metadata": {},
     "output_type": "execute_result"
    }
   ],
   "source": [
    "content=post.content[0].value\n",
    "content[:70]"
   ]
  },
  {
   "cell_type": "code",
   "execution_count": 94,
   "metadata": {},
   "outputs": [
    {
     "data": {
      "text/plain": [
       "{'base': 'http://languagelog.ldc.upenn.edu/nll/?p=36384',\n",
       " 'language': 'en-US',\n",
       " 'type': 'text/html',\n",
       " 'value': '<p>Jay Livingston sends a compendium of tautologies from <em>The Wire</em>:</p>\\n<p><iframe width=\"500\" height=\"281\" src=\"https://www.youtube.com/embed/qoyq88niVEU?feature=oembed\" frameborder=\"0\" allow=\"autoplay; encrypted-media\" allowfullscreen></iframe></p>\\n<p><span id=\"more-36384\"></span></p>\\n<p>Jay comments:</p>\\n<p style=\"padding-left: 30px;\"><span style=\"color: #000080;\">They seem to have at least two different senses. The most obvious is the impossibility of change. \"It is what it is,\"\\xa0 \"What\\'s done is done\"\\xa0 (and cannot be undone &#8212; there may be other similarities between The Wire and MacBeth).\\xa0</span></p>\\n<p style=\"padding-left: 30px;\"><span style=\"color: #000080;\">But some of the tautologies suggest a different meaning &#8212; that this particular instance of X is (or should be) like the Platonic ideal X. \"Men should be men, and women should be women.\" \"Let Keeley be Keeley\" (cf. \"Let Nixon be Nixon.\") \"If you with us, you with us.\"</span></p>\\n<p>Sometimes the interpretation of such phrases seems to be that you shouldn\\'t make things unnecessarily complicated. For example, the song \"<a href=\"https://genius.com/Edie-brickell-and-new-bohemians-what-i-am-lyrics\" target=\"_blank\" rel=\"noopener\">What I am</a>\":</p>\\n<p style=\"padding-left: 30px;\"><span style=\"color: #800000;\">What I am is what I am</span><br />\\n<span style=\"color: #800000;\"> You what you are, or what?</span></p>\\n<p style=\"padding-left: 30px;\"><span style=\"color: #800000;\">I\\'m not aware of too many things</span><br />\\n<span style=\"color: #800000;\"> I know what I know, if you know what I mean</span></p>\\n<p><iframe width=\"500\" height=\"375\" src=\"https://www.youtube.com/embed/tDl3bdE3YQA?feature=oembed\" frameborder=\"0\" allow=\"autoplay; encrypted-media\" allowfullscreen></iframe></p>\\n<p>And maybe Gertrude Stein\\'s \"<a href=\"https://en.wikipedia.org/wiki/Rose_is_a_rose_is_a_rose_is_a_rose\" target=\"_blank\" rel=\"noopener\">(a) rose is a rose is a rose is a rose</a>\". Or the semi-tautological remark <a href=\"https://quoteinvestigator.com/2011/08/12/just-a-cigar/\" target=\"_blank\" rel=\"noopener\">attributed to Sigmund Freud</a>, \"Sometimes a cigar is just a cigar\".</p>\\n<p>Elsewhere on LLOG we\\'ve discussed the CD case that \"<a href=\"http://itre.cis.upenn.edu/~myl/languagelog/archives/005426.html\" target=\"_blank\" rel=\"noopener\">automatically becomes portable when carried</a>\", which seems to be a different sort of case entirely.</p>'}"
      ]
     },
     "execution_count": 94,
     "metadata": {},
     "output_type": "execute_result"
    }
   ],
   "source": [
    "post.content[0]"
   ]
  },
  {
   "cell_type": "code",
   "execution_count": 96,
   "metadata": {
    "collapsed": true
   },
   "outputs": [],
   "source": [
    "raw=BeautifulSoup(content, 'html.parser').get_text()\n",
    "tokens=nltk.word_tokenize(raw)"
   ]
  },
  {
   "cell_type": "code",
   "execution_count": 99,
   "metadata": {},
   "outputs": [
    {
     "data": {
      "text/plain": [
       "['Jay',\n",
       " 'Livingston',\n",
       " 'sends',\n",
       " 'a',\n",
       " 'compendium',\n",
       " 'of',\n",
       " 'tautologies',\n",
       " 'from',\n",
       " 'The',\n",
       " 'Wire',\n",
       " ':',\n",
       " 'Jay',\n",
       " 'comments',\n",
       " ':',\n",
       " 'They',\n",
       " 'seem',\n",
       " 'to',\n",
       " 'have',\n",
       " 'at',\n",
       " 'least',\n",
       " 'two',\n",
       " 'different',\n",
       " 'senses',\n",
       " '.',\n",
       " 'The',\n",
       " 'most',\n",
       " 'obvious',\n",
       " 'is',\n",
       " 'the',\n",
       " 'impossibility',\n",
       " 'of',\n",
       " 'change',\n",
       " '.',\n",
       " '``',\n",
       " 'It',\n",
       " 'is',\n",
       " 'what',\n",
       " 'it',\n",
       " 'is',\n",
       " ',',\n",
       " \"''\",\n",
       " '``',\n",
       " 'What',\n",
       " \"'s\",\n",
       " 'done',\n",
       " 'is',\n",
       " 'done',\n",
       " \"''\",\n",
       " '(',\n",
       " 'and',\n",
       " 'can',\n",
       " 'not',\n",
       " 'be',\n",
       " 'undone',\n",
       " '—',\n",
       " 'there',\n",
       " 'may',\n",
       " 'be',\n",
       " 'other',\n",
       " 'similarities',\n",
       " 'between',\n",
       " 'The',\n",
       " 'Wire',\n",
       " 'and',\n",
       " 'MacBeth',\n",
       " ')',\n",
       " '.',\n",
       " 'But',\n",
       " 'some',\n",
       " 'of',\n",
       " 'the',\n",
       " 'tautologies',\n",
       " 'suggest',\n",
       " 'a',\n",
       " 'different',\n",
       " 'meaning',\n",
       " '—',\n",
       " 'that',\n",
       " 'this',\n",
       " 'particular',\n",
       " 'instance',\n",
       " 'of',\n",
       " 'X',\n",
       " 'is',\n",
       " '(',\n",
       " 'or',\n",
       " 'should',\n",
       " 'be',\n",
       " ')',\n",
       " 'like',\n",
       " 'the',\n",
       " 'Platonic',\n",
       " 'ideal',\n",
       " 'X',\n",
       " '.',\n",
       " '``',\n",
       " 'Men',\n",
       " 'should',\n",
       " 'be',\n",
       " 'men',\n",
       " ',',\n",
       " 'and',\n",
       " 'women',\n",
       " 'should',\n",
       " 'be',\n",
       " 'women',\n",
       " '.',\n",
       " \"''\",\n",
       " '``',\n",
       " 'Let',\n",
       " 'Keeley',\n",
       " 'be',\n",
       " 'Keeley',\n",
       " \"''\",\n",
       " '(',\n",
       " 'cf',\n",
       " '.',\n",
       " '``',\n",
       " 'Let',\n",
       " 'Nixon',\n",
       " 'be',\n",
       " 'Nixon',\n",
       " '.',\n",
       " \"''\",\n",
       " ')',\n",
       " '``',\n",
       " 'If',\n",
       " 'you',\n",
       " 'with',\n",
       " 'us',\n",
       " ',',\n",
       " 'you',\n",
       " 'with',\n",
       " 'us',\n",
       " '.',\n",
       " \"''\",\n",
       " 'Sometimes',\n",
       " 'the',\n",
       " 'interpretation',\n",
       " 'of',\n",
       " 'such',\n",
       " 'phrases',\n",
       " 'seems',\n",
       " 'to',\n",
       " 'be',\n",
       " 'that',\n",
       " 'you',\n",
       " 'should',\n",
       " \"n't\",\n",
       " 'make',\n",
       " 'things',\n",
       " 'unnecessarily',\n",
       " 'complicated',\n",
       " '.',\n",
       " 'For',\n",
       " 'example',\n",
       " ',',\n",
       " 'the',\n",
       " 'song',\n",
       " '``',\n",
       " 'What',\n",
       " 'I',\n",
       " 'am',\n",
       " \"''\",\n",
       " ':',\n",
       " 'What',\n",
       " 'I',\n",
       " 'am',\n",
       " 'is',\n",
       " 'what',\n",
       " 'I',\n",
       " 'am',\n",
       " 'You',\n",
       " 'what',\n",
       " 'you',\n",
       " 'are',\n",
       " ',',\n",
       " 'or',\n",
       " 'what',\n",
       " '?',\n",
       " 'I',\n",
       " \"'m\",\n",
       " 'not',\n",
       " 'aware',\n",
       " 'of',\n",
       " 'too',\n",
       " 'many',\n",
       " 'things',\n",
       " 'I',\n",
       " 'know',\n",
       " 'what',\n",
       " 'I',\n",
       " 'know',\n",
       " ',',\n",
       " 'if',\n",
       " 'you',\n",
       " 'know',\n",
       " 'what',\n",
       " 'I',\n",
       " 'mean',\n",
       " 'And',\n",
       " 'maybe',\n",
       " 'Gertrude',\n",
       " 'Stein',\n",
       " \"'s\",\n",
       " '``',\n",
       " '(',\n",
       " 'a',\n",
       " ')',\n",
       " 'rose',\n",
       " 'is',\n",
       " 'a',\n",
       " 'rose',\n",
       " 'is',\n",
       " 'a',\n",
       " 'rose',\n",
       " 'is',\n",
       " 'a',\n",
       " 'rose',\n",
       " \"''\",\n",
       " '.',\n",
       " 'Or',\n",
       " 'the',\n",
       " 'semi-tautological',\n",
       " 'remark',\n",
       " 'attributed',\n",
       " 'to',\n",
       " 'Sigmund',\n",
       " 'Freud',\n",
       " ',',\n",
       " '``',\n",
       " 'Sometimes',\n",
       " 'a',\n",
       " 'cigar',\n",
       " 'is',\n",
       " 'just',\n",
       " 'a',\n",
       " 'cigar',\n",
       " \"''\",\n",
       " '.',\n",
       " 'Elsewhere',\n",
       " 'on',\n",
       " 'LLOG',\n",
       " 'we',\n",
       " \"'ve\",\n",
       " 'discussed',\n",
       " 'the',\n",
       " 'CD',\n",
       " 'case',\n",
       " 'that',\n",
       " '``',\n",
       " 'automatically',\n",
       " 'becomes',\n",
       " 'portable',\n",
       " 'when',\n",
       " 'carried',\n",
       " \"''\",\n",
       " ',',\n",
       " 'which',\n",
       " 'seems',\n",
       " 'to',\n",
       " 'be',\n",
       " 'a',\n",
       " 'different',\n",
       " 'sort',\n",
       " 'of',\n",
       " 'case',\n",
       " 'entirely',\n",
       " '.']"
      ]
     },
     "execution_count": 99,
     "metadata": {},
     "output_type": "execute_result"
    }
   ],
   "source": [
    "tokens"
   ]
  },
  {
   "cell_type": "markdown",
   "metadata": {},
   "source": [
    "### Reading Local Files"
   ]
  },
  {
   "cell_type": "code",
   "execution_count": 100,
   "metadata": {},
   "outputs": [
    {
     "data": {
      "text/plain": [
       "['.git',\n",
       " '.ipynb_checkpoints',\n",
       " 'Helpful Codes.ipynb',\n",
       " 'NLTK Chapter 1.ipynb',\n",
       " 'NLTK Chapter 3.ipynb',\n",
       " 'NLTK Chapter2.ipynb']"
      ]
     },
     "execution_count": 100,
     "metadata": {},
     "output_type": "execute_result"
    }
   ],
   "source": [
    "import os\n",
    "os.listdir('.')"
   ]
  },
  {
   "cell_type": "code",
   "execution_count": 106,
   "metadata": {},
   "outputs": [
    {
     "name": "stderr",
     "output_type": "stream",
     "text": [
      "C:\\Users\\mohit\\Anaconda3\\lib\\site-packages\\ipykernel_launcher.py:1: DeprecationWarning: 'U' mode is deprecated\n",
      "  \"\"\"Entry point for launching an IPython kernel.\n"
     ]
    }
   ],
   "source": [
    "f=open('C:/Users/mohit/Documents/doc.txt','rU')\n",
    "raw=f.read()"
   ]
  },
  {
   "cell_type": "code",
   "execution_count": 107,
   "metadata": {},
   "outputs": [
    {
     "data": {
      "text/plain": [
       "\"Another possible problem you might have encountered when accessing a text file is the\\nnewline conventions, which are different for different operating systems. The built-in\\nopen() function has a second parameter for controlling how the file is opened: open('do\\ncument.txt', 'rU'). 'r' means to open the file for reading (the default), and 'U' stands\\nfor “Universal”, which lets us ignore the different conventions used for marking newlines.\""
      ]
     },
     "execution_count": 107,
     "metadata": {},
     "output_type": "execute_result"
    }
   ],
   "source": [
    "raw"
   ]
  },
  {
   "cell_type": "code",
   "execution_count": 112,
   "metadata": {},
   "outputs": [
    {
     "data": {
      "text/plain": [
       "_io.TextIOWrapper"
      ]
     },
     "execution_count": 112,
     "metadata": {},
     "output_type": "execute_result"
    }
   ],
   "source": [
    "type(f)"
   ]
  },
  {
   "cell_type": "code",
   "execution_count": 114,
   "metadata": {},
   "outputs": [
    {
     "name": "stdout",
     "output_type": "stream",
     "text": [
      "enter: hello\n"
     ]
    }
   ],
   "source": [
    "s=input('enter: ')"
   ]
  },
  {
   "cell_type": "code",
   "execution_count": 115,
   "metadata": {},
   "outputs": [
    {
     "data": {
      "text/plain": [
       "'hello'"
      ]
     },
     "execution_count": 115,
     "metadata": {},
     "output_type": "execute_result"
    }
   ],
   "source": [
    "s"
   ]
  },
  {
   "cell_type": "markdown",
   "metadata": {},
   "source": [
    "**NLP Pipeline**\n",
    "1. Download webpage and strip the html to get the required content(using BeautfulSoup and urlopen).\n",
    "2. Then Tokenize the words and convert it to NLTK Text(using nltk.Text())\n",
    "3. Build the Vocabulary(using set and string.lower())"
   ]
  },
  {
   "cell_type": "markdown",
   "metadata": {
    "collapsed": true
   },
   "source": [
    "### Unicode\n",
    "Unicode supports over a million characters. Each character is assigned a number, called\n",
    "a code point. In Python, code points are written in the form \\uXXXX, where XXXX\n",
    "is the number in four-digit hexadecimal form."
   ]
  },
  {
   "cell_type": "markdown",
   "metadata": {},
   "source": [
    "Text in files will be in a particular encoding, so we need some mechanism for translating\n",
    "it into Unicode—translation into Unicode is called decoding. Conversely, to write out\n",
    "Unicode to a file or a terminal, we first need to translate it into a suitable encoding—\n",
    "this translation out of Unicode is called encoding"
   ]
  },
  {
   "cell_type": "markdown",
   "metadata": {},
   "source": [
    "The Python codecs module provides functions to read encoded data into Unicode\n",
    "strings, and to write out Unicode strings in encoded form\n"
   ]
  },
  {
   "cell_type": "code",
   "execution_count": 4,
   "metadata": {},
   "outputs": [],
   "source": [
    "path=nltk.data.find('corpora/unicode_samples/polish-lat2.txt')"
   ]
  },
  {
   "cell_type": "code",
   "execution_count": 6,
   "metadata": {},
   "outputs": [],
   "source": [
    "import codecs\n",
    "f = codecs.open(path, encoding = 'latin2') #The codecs.open() function\n",
    "#takes an encoding parameter to specify the encoding of the file being read or written"
   ]
  },
  {
   "cell_type": "markdown",
   "metadata": {},
   "source": [
    "in order to view this text on a terminal, we need to encode it, using a suitable encoding.\n",
    "The Python-specific encoding unicode_escape is a dummy encoding that converts all\n",
    "non-ASCII characters into their \\uXXXX representations\n"
   ]
  },
  {
   "cell_type": "code",
   "execution_count": 7,
   "metadata": {},
   "outputs": [
    {
     "name": "stdout",
     "output_type": "stream",
     "text": [
      "b'Pruska Biblioteka Pa\\\\u0144stwowa. Jej dawne zbiory znane pod nazw\\\\u0105'\n",
      "b'\"Berlinka\" to skarb kultury i sztuki niemieckiej. Przewiezione przez'\n",
      "b'Niemc\\\\xf3w pod koniec II wojny \\\\u015bwiatowej na Dolny \\\\u015al\\\\u0105sk, zosta\\\\u0142y'\n",
      "b'odnalezione po 1945 r. na terytorium Polski. Trafi\\\\u0142y do Biblioteki'\n",
      "b'Jagiello\\\\u0144skiej w Krakowie, obejmuj\\\\u0105 ponad 500 tys. zabytkowych'\n",
      "b'archiwali\\\\xf3w, m.in. manuskrypty Goethego, Mozarta, Beethovena, Bacha.'\n"
     ]
    }
   ],
   "source": [
    "for line in f:\n",
    "    line = line.strip()\n",
    "    print(line.encode('unicode_escape'))"
   ]
  },
  {
   "cell_type": "markdown",
   "metadata": {},
   "source": [
    "The first line in this output illustrates a Unicode escape string preceded by the \\u escape\n",
    "string, namely \\u0144. The relevant Unicode character will be displayed on the screen\n",
    "as the glyph ń. In the third line of the preceding example, we see \\xf3, which corresponds\n",
    "to the glyph ó, and is within the 128–255 range."
   ]
  },
  {
   "cell_type": "markdown",
   "metadata": {},
   "source": [
    "### Regular Expressions for detectiong word patterns"
   ]
  },
  {
   "cell_type": "code",
   "execution_count": 10,
   "metadata": {},
   "outputs": [],
   "source": [
    "import re\n",
    "word_list=[w for w in nltk.corpus.words.words('en') if w.islower()]"
   ]
  },
  {
   "cell_type": "markdown",
   "metadata": {},
   "source": [
    "###### Using Basic Metacharacters"
   ]
  },
  {
   "cell_type": "code",
   "execution_count": 14,
   "metadata": {},
   "outputs": [
    {
     "name": "stdout",
     "output_type": "stream",
     "text": [
      "['abaissed', 'abandoned', 'abased', 'abashed', 'abatised', 'abed', 'aborted', 'abridged', 'abscessed', 'absconded', 'absorbed', 'abstracted', 'abstricted', 'accelerated', 'accepted', 'accidented', 'accoladed', 'accolated', 'accomplished', 'accosted', 'accredited', 'accursed', 'accused', 'accustomed', 'acetated', 'acheweed', 'aciculated', 'aciliated', 'acknowledged', 'acorned', 'acquainted', 'acquired', 'acquisited', 'acred', 'aculeated', 'addebted', 'added', 'addicted', 'addlebrained', 'addleheaded', 'addlepated', 'addorsed', 'adempted', 'adfected', 'adjoined', 'admired', 'admitted', 'adnexed', 'adopted', 'adossed', 'adreamed', 'adscripted', 'aduncated', 'advanced', 'advised', 'aeried', 'aethered', 'afeared', 'affected', 'affectioned', 'affined', 'afflicted', 'affricated', 'affrighted', 'affronted', 'aforenamed', 'afterfeed', 'aftershafted', 'afterthoughted', 'afterwitted', 'agazed', 'aged', 'agglomerated', 'aggrieved', 'agminated', 'agnamed', 'agonied', 'agreed', 'agueweed', 'ahungered', 'aiguilletted', 'ailweed', 'airbrained', 'airified', 'aiseweed', 'aisled', 'alarmed', 'alated', 'alimonied', 'aliped', 'alleyed', 'allied', 'alligatored', 'allseed', 'almsdeed', 'aloed', 'altared', 'alveolated', 'amazed', 'ameed', 'amiced', 'amphitheatered', 'ampullated', 'amused', 'anchored', 'angled', 'anguiped', 'anguished', 'angulated', 'angulinerved', 'anhungered', 'animated', 'aniseed', 'annodated', 'annulated', 'anomaliped', 'anserated', 'anteflected', 'anteflexed', 'antimoniated', 'antimoniureted', 'antimoniuretted', 'antiquated', 'antired', 'antiweed', 'antlered', 'apertured', 'apexed', 'apicifixed', 'apiculated', 'apocopated', 'apostrophied', 'appearanced', 'appellatived', 'appendaged', 'appendiculated', 'applied', 'appressed', 'aralkylated', 'arbored', 'arched', 'architraved', 'arcked', 'arcuated', 'ared', 'areolated', 'ariled', 'arillated', 'armchaired', 'armed', 'armied', 'armillated', 'armored', 'armoried', 'arpeggiated', 'arpeggioed', 'arrased', 'arrowed', 'arrowheaded', 'arrowweed', 'arseneted', 'arsenetted', 'arseniureted', 'articled', 'articulated', 'ashamed', 'ashlared', 'ashweed', 'aspersed', 'asphyxied', 'assented', 'assessed', 'assigned', 'assistanted', 'associated', 'assonanced', 'assorted', 'assumed', 'assured', 'asteriated', 'astonied', 'aswooned', 'atrophiated', 'atrophied', 'attached', 'attired', 'attrited', 'augmented', 'aurated', 'auricled', 'auriculated', 'authorized', 'autoinhibited', 'autosensitized', 'autosled', 'averted', 'avowed', 'awearied', 'awned', 'awninged', 'axed', 'axhammered', 'axised', 'axled', 'axseed', 'axweed', 'azoted', 'azured', 'babied', 'babished', 'babyfied', 'baccated', 'backboned', 'backed', 'backhanded', 'backwatered', 'baconweed', 'badgerweed', 'bagged', 'bagwigged', 'baked', 'balanced', 'balconied', 'baldachined', 'baldricked', 'balled', 'ballweed', 'balsamweed', 'balustered', 'balustraded', 'bandannaed', 'banded', 'bandoleered', 'bangled', 'banked', 'bankweed', 'bannered', 'barbated', 'barbed', 'barebacked', 'bareboned', 'barefaced', 'barefooted', 'barehanded', 'bareheaded', 'barelegged', 'barenecked', 'barmybrained', 'barred', 'barreled', 'bartizaned', 'basebred', 'based', 'basehearted', 'basifixed', 'basilweed', 'basined', 'basinerved', 'basqued', 'bastioned', 'bated', 'bathroomed', 'battered', 'batteried', 'battled', 'battlemented', 'bayed', 'bayoneted', 'beached', 'beaded', 'beaked', 'bealtared', 'beamed', 'beanweed', 'beaproned', 'bearded', 'beautied', 'beavered', 'beballed', 'bebannered', 'bebed', 'bebelted', 'bebled', 'bebothered', 'bebouldered', 'bebuttoned', 'becassocked', 'bechained', 'bechignoned', 'becircled', 'becoiffed', 'becombed', 'becousined', 'becrinolined', 'becuffed', 'becurtained', 'becushioned', 'bed', 'bedaggered', 'bedangled', 'bedded', 'bediademed', 'bediamonded', 'beedged', 'beefheaded', 'beeheaded', 'beeswinged', 'beetled', 'beetleheaded', 'beetleweed', 'beeweed', 'befamilied', 'befanned', 'befathered', 'beferned', 'befetished', 'befezzed', 'befilleted', 'befilmed', 'beforested', 'befountained', 'befrocked', 'befrogged', 'befurbelowed', 'befurred', 'begabled', 'begarlanded', 'begartered', 'beggarweed', 'beglobed', 'begoggled', 'begowned', 'behatted', 'behaviored', 'beheadlined', 'behooped', 'beinked', 'bekilted', 'beknived', 'beknotted', 'belaced', 'belated', 'belatticed', 'belavendered', 'beledgered', 'belfried', 'beliked', 'belimousined', 'belled', 'bellied', 'bellmouthed', 'bellweed', 'beloved', 'belozenged', 'belted', 'bemazed', 'bemedaled', 'bemedalled', 'bemitered', 'bemitred', 'bemused', 'bemuslined', 'bended', 'beneaped', 'beneficed', 'beneighbored', 'benempted', 'benighted', 'bennetweed', 'benumbed', 'benweed', 'benzoated', 'benzoinated', 'bepastured', 'bepatched', 'beperiwigged', 'bepewed', 'bepillared', 'bepistoled', 'beplaided', 'beplumed', 'beribanded', 'beribboned', 'beringed', 'beringleted', 'berobed', 'berouged', 'berried', 'berthed', 'beruffed', 'beruffled', 'beshawled', 'besieged', 'beslushed', 'besotted', 'bespecked', 'bespectacled', 'besped', 'bespeed', 'bespelled', 'bespurred', 'bestatued', 'bestayed', 'bestrapped', 'bestubbled', 'besweatered', 'betattered', 'betaxed', 'betowered', 'betrothed', 'betrousered', 'betted', 'betuckered', 'beturbaned', 'betusked', 'betutored', 'betwattled', 'beuniformed', 'beveled', 'bevelled', 'bevesseled', 'bevesselled', 'bevined', 'bevoiled', 'bewaitered', 'bewhiskered', 'bewigged', 'bewildered', 'bewinged', 'bewired', 'bewrathed', 'biangulated', 'biarcuated', 'biarticulated', 'bicarbureted', 'biciliated', 'bicolored', 'bicorned', 'bidented', 'bifanged', 'bifidated', 'biflected', 'biforked', 'biformed', 'bifronted', 'bifurcated', 'bigeminated', 'bighearted', 'bigmouthed', 'bigoted', 'bigwigged', 'bilamellated', 'bilaminated', 'billed', 'bilobated', 'bilobed', 'bilsted', 'bimaculated', 'bimotored', 'bindweed', 'bineweed', 'binominated', 'binucleated', 'biparted', 'bipectinated', 'biped', 'bipennated', 'bipinnated', 'bipinnatiparted', 'bipinnatisected', 'biradiated', 'birdmouthed', 'birdseed', 'birdweed', 'birostrated', 'birthbed', 'bisexed', 'bishopweed', 'bistered', 'bistipuled', 'bisubstituted', 'bitted', 'bitterhearted', 'bitterweed', 'bituberculated', 'bitumed', 'bivalved', 'bivaulted', 'bivocalized', 'blackhearted', 'blackseed', 'blackshirted', 'bladderseed', 'bladderweed', 'bladed', 'blakeberyed', 'blamed', 'blanked', 'blanketed', 'blanketweed', 'blasted', 'bleached', 'bleared', 'bleed', 'blended', 'blessed', 'blighted', 'blinded', 'blindfolded', 'blindweed', 'blinked', 'blinkered', 'blistered', 'blisterweed', 'blithehearted', 'bloated', 'blobbed', 'blocked', 'blockheaded', 'blooded', 'bloodied', 'bloodshed', 'bloodstained', 'bloodweed', 'blossomed', 'blotched', 'bloused', 'blowzed', 'bludgeoned', 'bluebelled', 'bluehearted', 'blueweed', 'blunderheaded', 'blunthearted', 'blurred', 'bobbed', 'bobsled', 'bobtailed', 'bodiced', 'bodied', 'boiled', 'boldhearted', 'bolectioned', 'boled', 'boleweed', 'bolled', 'bombed', 'bonded', 'boned', 'boneheaded', 'bonneted', 'booked', 'booted', 'bootied', 'boozed', 'bordered', 'bordured', 'bosomed', 'bossed', 'bosselated', 'botched', 'botherheaded', 'bothsided', 'bottled', 'bottomed', 'boughed', 'bounded', 'bountied', 'bowed', 'boweled', 'bowlegged', 'bowstringed', 'braced', 'braceleted', 'brackened', 'bracted', 'braided', 'brambled', 'branched', 'branded', 'brandied', 'brangled', 'bravehearted', 'brawned', 'brazenfaced', 'breasted', 'breastweed', 'breathed', 'brecciated', 'bred', 'breeched', 'breed', 'breviped', 'bridebed', 'brideweed', 'bridged', 'bridled', 'briered', 'brimmed', 'bristled', 'broadhearted', 'brocaded', 'brocked', 'brokenhearted', 'bromoiodized', 'bronzed', 'brooked', 'brookweed', 'broomweed', 'broozled', 'browed', 'brownweed', 'bruckled', 'brushed', 'buboed', 'bucked', 'buckled', 'buckskinned', 'buffed', 'bugled', 'bugleweed', 'bugseed', 'bugweed', 'bulbed', 'bulked', 'bulkheaded', 'bullated', 'bulldogged', 'bulleted', 'bulletheaded', 'bullheaded', 'bullweed', 'bummed', 'bundlerooted', 'bundweed', 'bunted', 'buried', 'burled', 'burned', 'burnoosed', 'burntweed', 'burred', 'burroweed', 'burseed', 'burweed', 'bushed', 'busied', 'busked', 'buskined', 'busted', 'bustled', 'busybodied', 'buttered', 'butterfingered', 'butterweed', 'butteryfingered', 'buttocked', 'buttoned', 'buttonweed', 'cabled', 'caboshed', 'caddiced', 'caddised', 'cadenced', 'cadweed', 'caftaned', 'caged', 'cairned', 'caissoned', 'calced', 'calcified', 'calcined', 'calculated', 'calibered', 'calicoed', 'caligated', 'calpacked', 'calved', 'calycled', 'calyculated', 'camailed', 'camerated', 'cammed', 'campanulated', 'campshed', 'camused', 'canaliculated', 'cancellated', 'cancered', 'cancerweed', 'candied', 'candlelighted', 'candlesticked', 'candyweed', 'canioned', 'cankered', 'cankerweed', 'canned', 'cannelated', 'cannelured', 'cannoned', 'cannulated', 'canted', 'cantilevered', 'cantoned', 'cantred', 'caped', 'capernoited', 'capeweed', 'capitaled', 'capitated', 'capped', 'capriped', 'capsulated', 'capuched', 'carapaced', 'carbolated', 'carboyed', 'carbuncled', 'carcaneted', 'carded', 'carinated', 'carkled', 'carnaged', 'carnationed', 'carpetweed', 'carried', 'carrotweed', 'carucated', 'carunculated', 'cased', 'casemated', 'casemented', 'caseweed', 'casqued', 'castellated', 'castled', 'castorized', 'catamited', 'cataracted', 'catarrhed', 'catchweed', 'catenated', 'caterpillared', 'catfaced', 'catfooted', 'cathedraled', 'caudated', 'caverned', 'cavitied', 'cayenned', 'cedared', 'ceilinged', 'celebrated', 'cellated', 'celled', 'cellulated', 'celluloided', 'centered', 'centriffed', 'centuried', 'cerated', 'cered', 'certified', 'chafeweed', 'chaffseed', 'chaffweed', 'chafted', 'chained', 'chaliced', 'chambered', 'chamberleted', 'chamberletted', 'chanceled', 'channeled', 'channelled', 'chaped', 'chapleted', 'chapournetted', 'chapped', 'charioted', 'charqued', 'chartered', 'chasmed', 'chasteweed', 'chasubled', 'checked', 'checkered', 'checkrowed', 'cheered', 'cheliped', 'cherried', 'chickenbreasted', 'chickenhearted', 'chickenweed', 'chickweed', 'chicqued', 'chiggerweed', 'chignoned', 'childbed', 'childed', 'chilled', 'chined', 'chinned', 'chipped', 'chiseled', 'chitinized', 'chokered', 'chokeweed', 'cholterheaded', 'chopped', 'choppered', 'chorded', 'chowderheaded', 'christened', 'chubbed', 'chuckleheaded', 'churchified', 'churled', 'ciliated', 'cingulated', 'cinnamoned', 'cinquefoiled', 'circled', 'circumscribed', 'circumstanced', 'cirrated', 'cirrhosed', 'cirriped', 'cisted', 'citied', 'citified', 'citrated', 'civilized', 'clammed', 'clammyweed', 'clanned', 'clapped', 'classed', 'classified', 'clavated', 'clavellated', 'clawed', 'claybrained', 'clayweed', 'cleaded', 'cleanhanded', 'cleanhearted', 'clearheaded', 'clearhearted', 'clearweed', 'cled', 'cleeked', 'clefted', 'clerestoried', 'cliented', 'cliffed', 'cliffweed', 'clipped', 'cloaked', 'clocked', 'clodpated', 'cloistered', 'closed', 'closefisted', 'closehanded', 'closehearted', 'closemouthed', 'clotweed', 'clouded', 'clouted', 'clovered', 'clubbed', 'clubfisted', 'clubfooted', 'clubweed', 'clustered', 'coaged', 'coaggregated', 'coated', 'coattailed', 'cobbed', 'cocashweed', 'cochleated', 'cockaded', 'cocked', 'cockeyed', 'cockled', 'cockneybred', 'cockscombed', 'cockweed', 'codheaded', 'coed', 'coelongated', 'coembedded', 'coequated', 'coexpanded', 'coffeeweed', 'cogged', 'coifed', 'coiled', 'coldhearted', 'coleseed', 'colicweed', 'collared', 'collected', 'collied', 'colloped', 'colonnaded', 'colored', 'columnated', 'columned', 'combed', 'combined', 'compacted', 'complected', 'complexioned', 'complicated', 'componed', 'componented', 'composed', 'compressed', 'comprised', 'compulsed', 'conamed', 'concamerated', 'concealed', 'conceded', 'conceited', 'concentrated', 'concerned', 'concerted', 'conched', 'conchyliated', 'condemned', 'condensed', 'conditioned', 'conduplicated', 'coned', 'confated', 'conferted', 'confined', 'confirmed', 'conflated', 'confounded', 'confused', 'congested', 'conjoined', 'conjugated', 'connected', 'conred', 'consecrated', 'considered', 'consolidated', 'constrained', 'constricted', 'consumpted', 'contagioned', 'contented', 'contextured', 'continued', 'contorted', 'contortioned', 'contracted', 'contractured', 'contusioned', 'converted', 'convexed', 'convinced', 'convoluted', 'coolheaded', 'coolweed', 'copied', 'copleased', 'copped', 'coppernosed', 'copperytailed', 'coppiced', 'coppled', 'copsewooded', 'copygraphed', 'coraled', 'corded', 'corduroyed', 'cored', 'coreflexed', 'corked', 'cornered', 'cornified', 'cornuated', 'cornuted', 'corollated', 'coronaled', 'coronated', 'coroneted', 'coronetted', 'corpusculated', 'corrected', 'correlated', 'corridored', 'corrugated', 'corrupted', 'corticated', 'corymbed', 'corymbiated', 'cosphered', 'costated', 'cothurned', 'cottaged', 'cotted', 'cottonseed', 'cottonweed', 'cotwinned', 'couched', 'coughweed', 'counterattired', 'counterchanged', 'countercolored', 'counterdigged', 'counterembattled', 'counterembowed', 'counterfessed', 'countergirded', 'counterindented', 'counterpaled', 'counterpaned', 'counterpointed', 'counterquartered', 'counterreflected', 'counterscalloped', 'counterturned', 'counterweighted', 'countrified', 'couped', 'coupled', 'couponed', 'coursed', 'courtbred', 'coved', 'covenanted', 'covered', 'coversed', 'cowhearted', 'cowled', 'cowshed', 'cowslipped', 'cowweed', 'crabbed', 'crabweed', 'crackbrained', 'cracked', 'crackled', 'cragged', 'cramped', 'cranked', 'crannied', 'cratered', 'cravenhearted', 'crazed', 'crazyweed', 'creed', 'creeded', 'creepered', 'crenated', 'crenelated', 'creneled', 'crenulated', 'cressed', 'cressweed', 'crested', 'creviced', 'cried', 'crinated', 'crined', 'crispated', 'crisped', 'crocketed', 'crocused', 'crookbacked', 'crookbilled', 'crooked', 'crookfingered', 'crookheaded', 'crookkneed', 'crooklegged', 'crooknecked', 'crooknosed', 'crookshouldered', 'crooksided', 'crooksterned', 'crooktoothed', 'cropweed', 'crosiered', 'crossbolted', 'crossbred', 'crossbreed', 'crosscurrented', 'crossed', 'crossleted', 'crosslighted', 'crosstied', 'crossweed', 'crotched', 'crouched', 'crowded', 'crowdweed', 'crowfooted', 'crowned', 'crowstepped', 'crucified', 'cruelhearted', 'crumpled', 'crunchweed', 'crushed', 'crustated', 'crusted', 'crutched', 'crypted', 'crystallized', 'cubited', 'cudweed', 'cuirassed', 'cultivated', 'cultrated', 'cultured', 'cuminseed', 'cupolated', 'cupped', 'cupseed', 'curled', 'curried', 'cursed', 'curtailed', 'curved', 'curvinerved', 'cushioned', 'cusped', 'cussed', 'cutted', 'cutweed', 'cyanosed', 'cylindered', 'cypressed', 'cysted', 'daggered', 'daggletailed', 'daisied', 'damascened', 'damned', 'damped', 'dappled', 'darkhearted', 'darned', 'dashed', 'dazed', 'deadhearted', 'dealated', 'deathbed', 'deathweed', 'debauched', 'debentured', 'debilitated', 'deboshed', 'decahydrated', 'decarbonized', 'decarnated', 'decayed', 'deceased', 'decided', 'decked', 'declared', 'declined', 'decollated', 'decomposed', 'decorated', 'decried', 'decussated', 'deed', 'deedeed', 'deepmouthed', 'deerweed', 'defamed', 'defeasanced', 'deferred', 'defiled', 'defined', 'deflected', 'defoliated', 'deformed', 'degged', 'degraded', 'dejected', 'deligated', 'delighted', 'demented', 'demersed', 'demibastioned', 'demicivilized', 'demidigested', 'demikindred', 'deminatured', 'demiturned', 'demoded', 'dentated', 'dentelated', 'dentilated', 'departed', 'dephlogisticated', 'deplored', 'deplumated', 'depraved', 'depressed', 'deranged', 'derived', 'deseed', 'desegmented', 'deserted', 'deserved', 'designed', 'desired', 'detached', 'detailed', 'determined', 'detrited', 'deuced', 'devertebrated', 'deviled', 'devitalized', 'devoted', 'dewclawed', 'dewlapped', 'diamonded', 'difformed', 'diffused', 'digammated', 'digested', 'digitated', 'digitinerved', 'dignified', 'dihydrated', 'dilapidated', 'dilated', 'dillseed', 'dillweed', 'diluted', 'dimensioned', 'dimmed', 'dipped', 'directed', 'disabled', 'disaccustomed', 'disaffected', 'disagreed', 'disappointed', 'disaproned', 'disarmed', 'discalced', 'disclosed', 'discolored', 'discomposed', 'disconcerted', 'disconnected', 'discontented', 'discovered', 'discrested', 'diseased', 'disembed', 'disengaged', 'disguised', 'disgusted', 'dished', 'disheveled', 'disimpassioned', 'disinterested', 'disjasked', 'disjointed', 'dislocated', 'dismayed', 'dismembered', 'dismoded', 'disnosed', 'disordained', 'disordered', 'disordinated', 'dispassioned', 'dispatriated', 'dispersed', 'dispirited', 'displayed', 'displeased', 'disposed', 'dispositioned', 'disprivacied', 'disquieted', 'disrelated', 'dissatisfied', 'dissected', 'dissipated', 'dissuited', 'distasted', 'distempered', 'distilled', 'distinguished', 'distorted', 'distracted', 'distressed', 'distributed', 'disturbed', 'disubstituted', 'dittied', 'diversicolored', 'diversified', 'divided', 'doated', 'dobbed', 'dodded', 'doddered', 'dodecahydrated', 'dogged', 'doggoned', 'doghearted', 'doiled', 'doited', 'doitrified', 'dominated', 'donated', 'donnered', 'doored', 'doorweed', 'dormered', 'dorsifixed', 'doted', 'dotted', 'doubled', 'doublehanded', 'doublehearted', 'doublehorned', 'doublelunged', 'doubleted', 'dovetailed', 'doveweed', 'dowed', 'downcurved', 'downfeed', 'downfolded', 'downheaded', 'downhearted', 'downlooked', 'downweed', 'downweighted', 'dozed', 'dozzled', 'drabbletailed', 'dragged', 'draggletailed', 'drained', 'drammed', 'draperied', 'dratted', 'dressed', 'dried', 'driftweed', 'dropseed', 'dropsied', 'drybrained', 'duckhearted', 'duckweed', 'ducted', 'dullbrained', 'dullhearted', 'dummered', 'dummyweed', 'dunderheaded', 'dungbred', 'dutied', 'dwelled', 'dyeweed', 'dynamometamorphosed', 'eared', 'earringed', 'earthbred', 'earthed', 'earthenhearted', 'earthquaked', 'eaved', 'eburated', 'eburnated', 'echinulated', 'edged', 'edgeweed', 'educated', 'elated', 'elbowed', 'electrofused', 'elevated', 'elongated', 'embannered', 'embarrassed', 'embastioned', 'embattled', 'embed', 'embowed', 'embryonated', 'emerited', 'emersed', 'emotioned', 'employed', 'emptyhearted', 'enamored', 'enarched', 'encuirassed', 'endeared', 'ended', 'endorsed', 'enfiled', 'enfonced', 'enforced', 'engaged', 'enghosted', 'engouled', 'engrailed', 'engrained', 'engraved', 'engrossed', 'enhanced', 'enjambed', 'enlarged', 'enlightened', 'enlisted', 'enraged', 'enrolled', 'entablatured', 'entangled', 'envied', 'enworthed', 'epauleted', 'epauletted', 'equiaxed', 'equilobed', 'equiped', 'equisegmented', 'equisided', 'equisized', 'equispaced', 'equivalenced', 'equivalved', 'erased', 'ergoted', 'ermined', 'eroded', 'escaloped', 'escutcheoned', 'essed', 'established', 'estafetted', 'ethered', 'euchred', 'evenhanded', 'evenminded', 'eveweed', 'evilhearted', 'evilmouthed', 'exaggerated', 'exalted', 'exasperated', 'exceed', 'excited', 'excurvated', 'excurved', 'excysted', 'executed', 'exhausted', 'exostosed', 'expanded', 'expedited', 'experienced', 'experimented', 'exploded', 'exposed', 'expressed', 'exserted', 'extended', 'extinguished', 'extraconstellated', 'extracted', 'extradosed', 'extrared', 'extricated', 'eyebridled', 'eyed', 'eyeseed', 'fabled', 'faced', 'faceted', 'facultied', 'faded', 'fainthearted', 'falcated', 'falsehearted', 'fancied', 'fanged', 'fangled', 'fanioned', 'fantasied', 'fanweed', 'farcied', 'farfetched', 'farsighted', 'farweltered', 'fasciated', 'fascicled', 'fasciculated', 'fascinated', 'fashioned', 'fastigated', 'fatbrained', 'fated', 'fatheaded', 'fathearted', 'fathered', 'faunated', 'faussebrayed', 'favored', 'feared', 'featherbed', 'featherbrained', 'feathered', 'featheredged', 'featherheaded', 'featherpated', 'featherweed', 'featured', 'fed', 'feeblebrained', 'feeblehearted', 'feed', 'feigned', 'felonweed', 'felted', 'fenestrated', 'ferned', 'ferntickled', 'ferrated', 'fetched', 'fetlocked', 'feued', 'feverweed', 'fezzed', 'fibered', 'fibrillated', 'fibrilled', 'fibronucleated', 'ficklehearted', 'fiddlebrained', 'fiddlefaced', 'fiddleheaded', 'fielded', 'fiercehearted', 'figged', 'figulated', 'figured', 'filamented', 'filiformed', 'filled', 'fimbriated', 'fimbricated', 'finchbacked', 'finched', 'fingered', 'fingerparted', 'finialed', 'finished', 'finned', 'fiorded', 'firearmed', 'firebolted', 'fired', 'firefanged', 'fireweed', 'firmhearted', 'fishbed', 'fished', 'fishweed', 'fissiped', 'fisted', 'fistulated', 'fitched', 'fitted', 'fittyfied', 'fitweed', 'fixed', 'flabellinerved', 'flacked', 'flagellated', 'flamed', 'flammulated', 'flanched', 'flanked', 'flanneled', 'flannelmouthed', 'flapmouthed', 'flated', 'flatweed', 'flavored', 'flawed', 'flaxseed', 'flaxweed', 'fleaseed', 'fleaweed', 'fleckled', 'fled', 'fleeced', 'fleshed', 'flewed', 'flexed', 'flexured', 'flighted', 'flinthearted', 'flixweed', 'flooded', 'floreted', 'floriated', 'flowered', 'flued', 'fluked', 'flurried', 'fluted', 'fluxweed', 'fogged', 'folded', 'foliaged', 'foliated', 'folliculated', 'fonted', 'footed', 'footnoted', 'foraminated', 'forbled', 'forced', 'forcipated', 'forebemoaned', 'forecited', 'foredefeated', 'foredeserved', 'foredevised', 'forehanded', 'foreheaded', 'foreimpressed', 'foreinclined', 'forementioned', 'forenamed', 'forenoted', 'forepassed', 'forepossessed', 'forepretended', 'forepromised', 'foreprovided', 'forequoted', 'forerecited', 'forerehearsed', 'foreremembered', 'foresettled', 'foresighted', 'forespecified', 'forespeed', 'forested', 'forethoughted', 'foretimed', 'foretypified', 'forevouched', 'forewonted', 'forficated', 'forged', 'forked', 'formed', 'fornicated', 'forthfigured', 'fortuned', 'fossed', 'fossilated', 'fossiled', 'foulmouthed', 'foundationed', 'fountained', 'foveated', 'foveolated', 'foxtailed', 'fracted', 'fragmented', 'framed', 'frankhearted', 'frankincensed', 'fratched', 'frayed', 'freckened', 'freckled', 'freed', 'freehanded', 'freehearted', 'frenched', 'frenzied', 'freshhearted', 'fretted', 'fretworked', 'fried', 'friended', 'frightened', 'frilled', 'fringed', 'frogged', 'fronded', 'fronted', 'frosted', 'frostweed', 'frowzled', 'frozenhearted', 'fructed', 'fruited', 'fullhearted', 'fullmouthed', 'funded', 'fungused', 'funneled', 'furied', 'furnished', 'furred', 'furriered', 'furzed', 'fused', 'gabelled', 'gabioned', 'gadded', 'gaited', 'galeated', 'galled', 'galleried', 'gallooned', 'gallweed', 'galvanized', 'gamboised', 'gambreled', 'gangliated', 'gapeseed', 'gardened', 'gargoyled', 'garnished', 'garreted', 'gartered', 'gaslighted', 'gated', 'gauffered', 'gaunted', 'gauntleted', 'geared', 'ged', 'gelatined', 'gemeled', 'geminated', 'generalized', 'geniculated', 'gentlehearted', 'gentlemouthed', 'gerated', 'gested', 'gewgawed', 'ghostified', 'ghostweed', 'gibbed', 'gied', 'gifted', 'gilded', 'gilled', 'gimbaled', 'gimbaljawed', 'gimberjawed', 'gimleteyed', 'gimped', 'ginghamed', 'ginned', 'gipsyweed', 'glaceed', 'glaciered', 'gladhearted', 'glaived', 'glaked', 'glandered', 'glassweed', 'glazed', 'gleed', 'globated', 'globed', 'glossed', 'glued', 'gnarled', 'gnomed', 'goateed', 'goatweed', 'gobleted', 'gobmouthed', 'gobonated', 'godded', 'goffered', 'goggled', 'goitered', 'goldenmouthed', 'goldseed', 'goldweed', 'goodhearted', 'goosenecked', 'gooserumped', 'gooseweed', 'goosewinged', 'gorbellied', 'gorged', 'gorgeted', 'gormed', 'gossamered', 'gossipred', 'goutweed', 'gowked', 'graded', 'graduated', 'grafted', 'grained', 'granulated', 'graped', 'grassed', 'grassweed', 'gratified', 'graved', 'gravelweed', 'greatcoated', 'greathearted', 'greatmouthed', 'greaved', 'greed', 'greenheaded', 'greenhearted', 'greenswarded', 'greenweed', 'grieced', 'grieved', 'grilled', 'grizzled', 'groined', 'grosgrained', 'grottoed', 'grounded', 'grouped', 'groved', 'growed', 'grubbed', 'grufted', 'gruntled', 'guarded', 'guernseyed', 'gulfweed', 'gummed', 'gumweed', 'guttated', 'gutweed', 'gweed', 'gypsyweed', 'habilimented', 'habited', 'hacked', 'hackneyed', 'hagged', 'hagseed', 'hagweed', 'hailweed', 'haired', 'hairweed', 'halfheaded', 'halfhearted', 'halfpaced', 'hallmarked', 'hallowed', 'hallucined', 'halved', 'hamated', 'hamleted', 'hammerheaded', 'hanced', 'handed', 'handicapped', 'handled', 'hardfisted', 'hardhanded', 'hardheaded', 'hardhearted', 'hardmouthed', 'harebrained', 'harefooted', 'harehearted', 'harelipped', 'harshweed', 'hatred', 'hatted', 'haunched', 'haustellated', 'hawked', 'hawkweed', 'hawthorned', 'hayseed', 'hayweed', 'hazeled', 'headed', 'hearted', 'heartseed', 'heartweed', 'heathered', 'heavyhanded', 'heavyheaded', 'heavyhearted', 'hecatomped', 'hederated', 'hedgeweed', 'heed', 'heeled', 'heliced', 'hellbred', 'hellweed', 'helmed', 'helmeted', 'hemihydrated', 'hemisphered', 'hempseed', 'hempweed', 'henhearted', 'heptahydrated', 'herbaged', 'herniated', 'hersed', 'heterochromatized', 'heterostyled', 'hexahydrated', 'hexaped', 'hidated', 'hided', 'highbred', 'highhanded', 'highhearted', 'hillocked', 'hipped', 'hired', 'historiated', 'historied', 'hoarheaded', 'hoaryheaded', 'hobnailed', 'hogged', 'hogweed', 'hollowfaced', 'hollowhearted', 'holstered', 'homebred', 'homostyled', 'honeycombed', 'honeydewed', 'honeyed', 'honeyhearted', 'honeylipped', 'honeymouthed', 'honeysuckled', 'honied', 'hooded', 'hoofed', 'hooked', 'hookweed', 'hooped', 'hoped', 'hopped', 'horned', 'hornyhanded', 'horsehaired', 'horseweed', 'hosed', 'hotbed', 'hotbrained', 'hotheaded', 'hothearted', 'hotmouthed', 'hotspurred', 'hucklebacked', 'hued', 'hulverheaded', 'humblehearted', 'humblemouthed', 'humpbacked', 'humped', 'hunchbacked', 'hundred', 'hungerweed', 'hurled', 'hurried', 'hurted', 'husked', 'huskened', 'huttonweed', 'hydrated', 'hydraulicked', 'hydrosulphurated', 'hydrosulphureted', 'hypercarbureted', 'hypercarburetted', 'hypercivilized', 'hyperpigmented', 'hypersophisticated', 'hypertrophied', 'hyphenated', 'hyporhined', 'iced', 'ichneumoned', 'ichneumonized', 'ichthyized', 'icicled', 'ideaed', 'idleheaded', 'illimited', 'illoricated', 'illuminated', 'illusioned', 'imbannered', 'imbased', 'imbed', 'imbricated', 'immatured', 'immeasured', 'immerited', 'immodulated', 'immonastered', 'immortified', 'immotioned', 'impacted', 'imparalleled', 'impassioned', 'imperceived', 'imperfected', 'imperforated', 'impermeated', 'imperturbed', 'implumed', 'impolished', 'inaccentuated', 'inanimated', 'inarticulated', 'inbred', 'inbreed', 'incarmined', 'incavated', 'inched', 'included', 'incompensated', 'incompleted', 'incomposed', 'incomprehended', 'inconditioned', 'inconfused', 'inconnected', 'inconsidered', 'inconsumed', 'incontracted', 'incontrolled', 'inconvinced', 'incoronated', 'incorporated', 'incorrupted', 'incrassated', 'incredited', 'incrossbred', 'indebted', 'indeed', 'indented', 'indentured', 'indetermined', 'indevoted', 'indexed', 'indigested', 'indirected', 'indisciplined', 'indiscovered', 'indiscriminated', 'indisposed', 'indistinguished', 'indisturbed', 'induced', 'indulgenced', 'indusiated', 'inedited', 'inelaborated', 'inequilobed', 'inexhausted', 'inexpected', 'inexperienced', 'inextended', 'infarcted', 'infected', 'infeed', 'inflamed', 'inflated', 'inflected', 'inflexed', 'informed', 'infrared', 'infumated', 'ingrained', 'inhabited', 'injured', 'inkshed', 'inkweed', 'inorganized', 'inrigged', 'inrighted', 'inrooted', 'insatiated', 'inscriptioned', 'inscriptured', 'insected', 'inserted', 'inspired', 'instratified', 'instressed', 'instructed', 'insulated', 'insured', 'intagliated', 'intellected', 'intelligenced', 'intended', 'intentioned', 'interallied', 'interbanded', 'interbedded', 'interbreed', 'intercatenated', 'intercontorted', 'interested', 'interfretted', 'interlaced', 'intermewed', 'intermitted', 'internetted', 'interrelated', 'interrupted', 'interseamed', 'intersticed', 'interthreaded', 'intertissued', 'interwed', 'intoed', 'intolerated', 'intoothed', 'intoxicated', 'intrabred', 'introverted', 'inturned', 'inured', 'inutilized', 'invalued', 'invaried', 'invecked', 'invected', 'inversed', 'invertebrated', 'inverted', 'inviolated', 'invised', 'involucellated', 'involucred', 'involuted', 'involved', 'inwedged', 'inweed', 'irisated', 'irised', 'ironfisted', 'ironhanded', 'ironheaded', 'ironhearted', 'ironsided', 'ironweed', 'ironworked', 'irradiated', 'irreclaimed', 'irredeemed', 'irregulated', 'irrelated', 'irresolved', 'isleted', 'isolated', 'itchreed', 'itchweed', 'ivied', 'ivoried', 'ivyweed', 'jabbed', 'jacketed', 'jackweed', 'jaded', 'jagged', 'jalloped', 'jalousied', 'japanned', 'jaseyed', 'jasmined', 'jasperated', 'jaspered', 'jawed', 'jawfooted', 'jed', 'jellied', 'jereed', 'jerkined', 'jerseyed', 'jessakeed', 'jessed', 'jetted', 'jettied', 'jewelweed', 'jimberjawed', 'jingled', 'jointed', 'jointweed', 'jolloped', 'jolterheaded', 'jossakeed', 'joyweed', 'jugated', 'jumpseed', 'jungled', 'justiceweed', 'ked', 'keeled', 'keened', 'kellupweed', 'kerchiefed', 'kerneled', 'keyed', 'keystoned', 'khakied', 'killweed', 'kimonoed', 'kindhearted', 'kindred', 'kingdomed', 'kingweed', 'kinkled', 'kirtled', 'kittenhearted', 'knagged', 'knapsacked', 'knapweed', 'knarred', 'kneed', 'knickerbockered', 'knickered', 'knickknacked', 'knitted', 'knitweed', 'knived', 'knobbed', 'knobweed', 'knopped', 'knopweed', 'knosped', 'knotted', 'knotweed', 'knowledged', 'knuckled', 'knurled', 'labiated', 'labored', 'laced', 'lacerated', 'laciniated', 'lackeyed', 'laddered', 'lagged', 'lakeweed', 'lamellated', 'lamented', 'laminated', 'lamplighted', 'lanated', 'lanced', 'lanceolated', 'lanceted', 'landed', 'landlocked', 'languaged', 'langued', 'lapelled', 'lapped', 'lappeted', 'lapsed', 'lapstreaked', 'largebrained', 'largehanded', 'largehearted', 'largemouthed', 'lated', 'laterinerved', 'latticed', 'laureated', 'laureled', 'lawned', 'layered', 'leaded', 'leadenhearted', 'leadenpated', 'leafed', 'learned', 'leaved', 'led', 'ledged', 'leed', 'legged', 'legginged', 'legioned', 'leisured', 'lemonweed', 'lensed', 'lenticulated', 'lepered', 'leprosied', 'lettered', 'levelheaded', 'licensed', 'lichened', 'lidded', 'lied', 'lightbrained', 'lightheaded', 'lighthearted', 'lightmouthed', 'ligulated', 'lilied', 'lilyhanded', 'limbed', 'limited', 'linchpinned', 'lineaged', 'lineated', 'lined', 'lineolated', 'lingulated', 'linked', 'linseed', 'linteled', 'lintseed', 'lionhearted', 'lipped', 'listed', 'listred', 'literalminded', 'lived', 'livered', 'liverhearted', 'liveried', 'loaded', 'lobated', 'lobed', 'lobefooted', 'lobellated', 'lobiped', 'lobulated', 'locked', 'locoweed', 'loculated', 'lodged', 'logged', 'loggerheaded', 'logheaded', 'loined', 'longheaded', 'longmouthed', 'loosemouthed', 'lopseed', 'lopsided', 'lored', 'loudmouthed', 'louvered', 'lovered', 'lowbred', 'lozenged', 'lugged', 'lunged', 'lunulated', 'lyrated', 'macled', 'maculated', 'madbrained', 'madweed', 'magged', 'magicked', 'magpied', 'maidenweed', 'mailed', 'maimed', 'maladjusted', 'malandered', 'malconceived', 'malcontented', 'malcreated', 'maldeveloped', 'malfed', 'malformed', 'malleableized', 'malnourished', 'maloccluded', 'malorganized', 'malplaced', 'malposed', 'malproportioned', 'malturned', 'mammillated', 'mandibulated', 'maned', 'manifested', 'mannered', 'manred', 'mansarded', 'mansioned', 'mantled', 'manubriated', 'manweed', 'marbled', 'marblehearted', 'marginated', 'margined', 'marinated', 'marked', 'markweed', 'marled', 'marmorated', 'married', 'marrowed', 'mascled', 'masked', 'masoned', 'masted', 'matreed', 'matted', 'matweed', 'maxilliped', 'maximed', 'mayweed', 'mazed', 'meadowed', 'mealmouthed', 'mealymouthed', 'meaned', 'measled', 'measured', 'meated', 'medaled', 'medifixed', 'mediodepressed', 'medullated', 'meed', 'meekhearted', 'meered', 'melamed', 'melanosed', 'melted', 'membered', 'membraned', 'memoried', 'mentholated', 'meringued', 'merited', 'mermithized', 'meshed', 'metalined', 'metamerized', 'mettled', 'midribbed', 'midstyled', 'mightyhearted', 'mildhearted', 'milkshed', 'milkweed', 'milled', 'millfeed', 'millioersted', 'millioned', 'mimmouthed', 'minareted', 'minded', 'mirrored', 'misadvised', 'misaffected', 'miscredited', 'miscreed', 'miscultivated', 'misdeed', 'misdeformed', 'misdevoted', 'miserected', 'misfortuned', 'misguided', 'misincensed', 'misinspired', 'misleared', 'misled', 'misminded', 'misnatured', 'misnomed', 'mispossessed', 'misprejudiced', 'misprincipled', 'misreposed', 'misresolved', 'misted', 'mistempered', 'misusurped', 'miswed', 'mitered', 'mittened', 'mixed', 'mobed', 'mohnseed', 'molassied', 'moneyed', 'monilated', 'monobromated', 'monobrominated', 'monobromized', 'monochlorinated', 'monociliated', 'monocled', 'monogrammed', 'monohydrated', 'monomethylated', 'mononitrated', 'mononucleated', 'monorhymed', 'monospored', 'monosubstituted', 'mooned', 'moonfaced', 'moonlighted', 'moonseed', 'mopheaded', 'morassweed', 'morcellated', 'morned', 'mortified', 'mossed', 'moted', 'mothed', 'mothered', 'motored', 'mottled', 'mottoed', 'moulded', 'mountained', 'mounted', 'mouthed', 'muckweed', 'muddlebrained', 'muddleheaded', 'muddybrained', 'muddyheaded', 'mudweed', 'muffed', 'muffled', 'mugweed', 'mulefooted', 'multiarticulated', 'multibladed', 'multibranched', 'multicarinated', 'multiciliated', 'multicolored', 'multicylindered', 'multidenticulated', 'multiengined', 'multifaced', 'multifaceted', 'multifibered', 'multiflagellated', 'multifoiled', 'multiformed', 'multigranulated', 'multihued', 'multilaminated', 'multilighted', 'multilobed', 'multilobulated', 'multiloculated', 'multimotored', 'multinucleated', 'multinucleolated', 'multiped', 'multiperforated', 'multipointed', 'multiported', 'multiradiated', 'multiramified', 'multirooted', 'multisacculated', 'multiseated', 'multisegmented', 'multispeed', 'multispired', 'multistoried', 'multistratified', 'multisulcated', 'multithreaded', 'multitoed', 'multitoned', 'multituberculated', 'multivalved', 'multivoiced', 'multivolumed', 'mummied', 'muraled', 'muriated', 'muscled', 'mused', 'mushed', 'mushheaded', 'muslined', 'musquashweed', 'musseled', 'mustached', 'mustachioed', 'muttonheaded', 'myelinated', 'myriaded', 'myrrhed', 'nacred', 'naked', 'nakedweed', 'napped', 'narrowhearted', 'nattered', 'naveled', 'neaped', 'nearsighted', 'nebbed', 'nebulated', 'necked', 'necklaced', 'necklaceweed', 'neckweed', 'nectared', 'nectaried', 'need', 'needled', 'needleworked', 'neighbored', 'neighborstained', 'netted', 'nettlebed', 'newfangled', 'newlywed', 'newspaperized', 'nibbed', 'nicotined', 'niellated', 'nielled', 'niggerweed', 'nightcapped', 'nighted', 'nigrified', 'nimbated', 'nimbed', 'nimblebrained', 'nimbused', 'nineted', 'nitered', 'noblehearted', 'nodated', 'noded', 'nodulated', 'noduled', 'nogheaded', 'nominated', 'nonaccredited', 'nonadmitted', 'nonaffiliated', 'nonalliterated', 'nonanalyzed', 'nonanesthetized', 'nonarticulated', 'nonassented', 'nonattached', 'nonazotized', 'nonbearded', 'nonblended', 'nonblockaded', 'nonblooded', 'nonbranded', 'noncalcified', 'noncartelized', 'noncensored', 'noncertified', 'nonchurched', 'noncivilized', 'noncommissioned', 'nonconditioned', 'noncontrolled', 'noncrystallized', 'noncultivated', 'nondecalcified', 'nondegreased', 'nondeported', 'nondepressed', 'nondesigned', 'nondesulphurized', 'nondetailed', 'nondisbursed', 'nondisfranchised', 'nondisinterested', 'nondomesticated', 'nonelectrified', 'nonelectrized', 'nonenrolled', 'nonentailed', 'nonenumerated', 'nonexcepted', 'nonexperienced', 'nonextended', 'nonextracted', 'nonfeatured', 'nonfederated', 'nonfenestrated', 'nonforested', 'nonfrosted', 'nongalvanized', 'nonglandered', 'nongraduated', 'nonimmunized', 'nonimpregnated', 'nonincarnated', 'nonindurated', 'noninfected', 'noninherited', 'noninterrupted', 'noninverted', 'noniodized', 'nonionized', 'nonirradiated', 'nonirrigated', 'nonlaminated', 'nonleaded', 'nonlicensed', 'nonlixiviated', 'nonlocalized', 'nonmanufactured', 'nonmedullated', 'nonmulched', 'nonnitrogenized', 'nonnucleated', 'nonoxygenated', 'nonpatented', 'nonpeaked', 'nonpenalized', 'nonperforated', 'nonphosphorized', 'nonpigmented', 'nonplushed', 'nonpreformed', 'nonprescribed', 'nonprincipled', 'nonprofessed', 'nonprovided', 'nonrated', 'nonrationalized', 'nonrayed', 'nonrecognized', 'nonrectified', 'nonregimented', 'nonregistered', 'nonrelapsed', 'nonrestricted', 'nonreversed', 'nonrhymed', 'nonsacred', 'nonsalaried', 'nonsaturated', 'nonschematized', 'nonsegmented', 'nonselected', 'nonsensitized', 'nonsilicated', 'nonsolidified', 'nonspecialized', 'nonspecified', 'nonspored', 'nonstandardized', 'nonstriated', 'nonstriped', 'nonstylized', 'nonsuppressed', 'nonsynthesized', 'nonthreaded', 'nontimbered', 'nontolerated', 'nontreated', 'nontrunked', 'nontuned', 'nonturbinated', 'nonumbrellaed', 'nonunited', 'nonupholstered', 'nonutilized', 'nonvisaed', 'nonvisualized', 'nonvitrified', 'nonvolatilized', 'nonwetted', 'nonwinged', 'nooked', 'normated', 'nosebanded', 'nosebleed', 'nosed', 'nostriled', 'notched', 'notchweed', 'noted', 'notified', 'notioned', 'nowed', 'nucleolated', 'nudiped', 'nummulated', 'numskulled', 'nunnated', 'nutmegged', 'nutseed', 'nutted', 'oared', 'oarweed', 'oathed', 'oatseed', 'obcompressed', 'obliged', 'oblongated', 'obtected', 'obvoluted', 'oceaned', 'ocellated', 'ocreated', 'octahydrated', 'octofoiled', 'octoped', 'octoradiated', 'oculated', 'odored', 'oersted', 'offended', 'offhanded', 'ogeed', 'ogived', 'oiled', 'oilseed', 'oilskinned', 'oldfangled', 'oldhearted', 'olived', 'omened', 'onehearted', 'onesigned', 'onflemed', 'onionized', 'opaled', 'openhanded', 'openhearted', 'openmouthed', 'opercled', 'operculated', 'opinionated', 'opinioned', 'opposed', 'oppressed', 'orbed', 'orbiculated', 'ordered', 'oreweed', 'organized', 'origanized', 'orphreyed', 'orthosubstituted', 'osiered', 'ossified', 'outbleed', 'outbowed', 'outbred', 'outbreed', 'outdated', 'outed', 'outeyed', 'outlined', 'outlipped', 'outmoded', 'outplayed', 'outriggered', 'outsided', 'outsized', 'outspeed', 'outturned', 'outweed', 'ovated', 'overalled', 'overambitioned', 'overappareled', 'overapprehended', 'overattached', 'overbanded', 'overbanked', 'overbepatched', 'overblessed', 'overbowed', 'overbrained', 'overbred', 'overbreed', 'overburned', 'overcoached', 'overcoated', 'overconcerned', 'overcontented', 'overcorned', 'overcreed', 'overcrowded', 'overcultured', 'overcured', 'overdazed', 'overdelighted', 'overdetermined', 'overdevoted', 'overdignified', 'overdistempered', 'overdrifted', 'overdrowsed', 'overdubbed', 'overdunged', 'overeducated', 'overempired', 'overexerted', 'overeyebrowed', 'overfagged', 'overfamed', 'overfeatured', 'overfed', 'overfeed', 'overfinished', 'overfleshed', 'overforged', 'overformed', 'overfranchised', 'overfrighted', 'overfruited', 'overgalled', 'overgifted', 'overgilted', 'overgirded', 'overgreed', 'overhanded', 'overhatted', 'overinclined', 'overinterested', 'overinventoried', 'overjaded', 'overjawed', 'overlanguaged', 'overlearned', 'overleisured', 'overlettered', 'overlighted', 'overlightheaded', 'overlinked', 'overlisted', 'overmelodied', 'overmettled', 'overnoveled', 'overofficered', 'overornamented', 'overpained', 'overparted', 'overpitched', 'overplaced', 'overpointed', 'overpronounced', 'overproportionated', 'overproportioned', 'overrefined', 'overreserved', 'overrigged', 'overrooted', 'oversanded', 'oversated', 'overscented', 'overscutched', 'overseasoned', 'overseated', 'overseed', 'oversettled', 'overshowered', 'oversized', 'oversophisticated', 'oversorrowed', 'overspangled', 'oversparred', 'overspeed', 'overstalled', 'overstowed', 'overstudied', 'oversweated', 'overtapped', 'overtimbered', 'overtinseled', 'overtongued', 'overtrailed', 'overunionized', 'overwasted', 'overweaponed', 'overwhipped', 'overwiped', 'overwithered', 'overwooded', 'overwrested', 'oviculated', 'oxidulated', 'oystered', 'oysterseed', 'ozoned', 'paced', 'paddled', 'pageanted', 'pailletted', 'pained', 'painted', 'paired', 'pajamaed', 'palaced', 'palated', 'paled', 'palehearted', 'palfreyed', 'palled', 'palmated', 'palmatilobed', 'palmatiparted', 'palmatisected', 'palmed', 'palmilobated', 'palmilobed', 'palminerved', 'palmiped', 'palmiveined', 'palped', 'palsied', 'pampered', 'panached', 'pandurated', 'paned', 'panheaded', 'panicked', 'panicled', 'paniculated', 'panniered', 'panoplied', 'pansied', 'pantaletted', 'pantalooned', 'pantiled', 'papered', 'papillated', 'papulated', 'parallelepiped', 'parallelinerved', 'parallelopiped', 'parapeted', 'parasoled', 'parasubstituted', 'parded', 'parished', 'parricided', 'parsoned', 'partanhanded', 'parted', 'parterred', 'particled', 'partimembered', 'partitioned', 'passioned', 'pasted', 'pasterned', 'pathed', 'pathwayed', 'patined', 'patriarched', 'pattened', 'patterned', 'pauciarticulated', 'pauciradiated', 'paucispirated', 'paunched', 'pavonated', 'payed', 'peaked', 'pearled', 'pearlweed', 'pebbled', 'pebblehearted', 'pecked', 'peckled', 'pectinated', 'ped', 'pedated', 'pedatilobed', 'pedatinerved', 'pedatisected', 'pediceled', 'pedicellated', 'pedicelled', 'pediculated', 'pedimented', 'peduncled', 'pedunculated', 'peed', 'peeled', 'peeved', 'pegged', 'pelleted', 'peltated', 'peltinerved', 'penciled', 'pencilled', 'pendanted', 'penicillated', 'pennated', 'pennatisected', 'pennied', 'penninerved', 'penniveined', 'pennoned', 'pensived', 'pentadecahydrated', 'pentahydrated', 'peplosed', 'pepperweed', 'percentaged', 'perfected', 'perforated', 'perfumed', 'perished', 'periwigpated', 'periwinkled', 'perjured', 'permissioned', 'permitted', 'perplexed', 'personed', 'perspectived', 'persuaded', 'perturbed', 'pertused', 'perverted', 'pestilenceweed', 'petaled', 'petalled', 'petiolated', 'petioled', 'petrified', 'petted', 'petticoated', 'phalanxed', 'phalerated', 'phimosed', 'phlogosed', 'phosphated', 'phosphoreted', 'phylacteried', 'physicianed', 'physicked', 'physiqued', 'piazzaed', 'picked', 'pickerelweed', 'pickleweed', 'picrated', 'pictured', 'pied', 'pierced', 'pigeonhearted', 'pigeonweed', 'pigheaded', 'pigweed', 'piked', 'pilastered', 'pilastraded', 'pilaued', 'pileated', 'piled', 'pileolated', 'pileweed', 'pillared', 'pilled', 'pilotweed', 'pimpled', 'pincerweed', 'pinched', 'pinchfisted', 'pined', 'pineweed', 'pinfeathered', 'pinheaded', 'pinioned', 'pinked', 'pinkweed', 'pinnated', 'pinnatilobed', 'pinnatiped', 'pinnatisected', 'pinned', 'pinninerved', 'pinniped', 'pinnisected', 'pinnulated', 'pinrowed', 'pinweed', 'pioted', 'piped', 'pipped', 'pissabed', 'pitchered', 'pitted', 'pixilated', 'plagued', 'plaided', 'plainhearted', 'plainsoled', 'plaited', 'planeted', 'plated', 'platformed', 'platted', 'pleached', 'pled', 'plicated', 'plicatocontorted', 'plied', 'plighted', 'plotted', 'plouked', 'plucked', 'plugged', 'plumaged', 'plumed', 'plumiped', 'plummeted', 'pluriseriated', 'plushed', 'pneumatized', 'pocketed', 'pockweed', 'podded', 'pointed', 'pointleted', 'poised', 'poisonweed', 'poked', 'pokeweed', 'policed', 'polished', 'politied', 'polled', 'pollened', 'polluted', 'poltfooted', 'polyaffectioned', 'polybuttoned', 'polyglotted', 'polygrooved', 'polylaminated', 'polynucleated', 'polypaged', 'polyped', 'polyphoned', 'polysided', 'polyspored', 'pommeled', 'ponchoed', 'pondweed', 'pooped', 'poorweed', 'popeyed', 'poplared', 'poppied', 'popweed', 'porcated', 'porched', 'pored', 'portaled', 'portalled', 'ported', 'porticoed', 'portiered', 'positioned', 'possessed', 'possessioned', 'postaspirated', 'postdetermined', 'postdisapproved', 'posted', 'postfixed', 'postilioned', 'postposited', 'potbellied', 'potted', 'pottled', 'pouched', 'pounced', 'povertyweed', 'powdered', 'powered', 'practiced', 'prairied', 'prairieweed', 'pranked', 'preaccustomed', 'preachieved', 'preacquired', 'preaged', 'preallied', 'preambled', 'preassigned', 'prebeloved', 'precedented', 'prechampioned', 'precipiced', 'precipitated', 'precited', 'preclassified', 'preconceived', 'preconcentrated', 'preconcerted', 'preconditioned', 'precongested', 'preconsolidated', 'precontained', 'precontrolled', 'precreed', 'predilected', 'prediscontented', 'predisordered', 'predisposed', 'preferred', 'prefixed', 'preformed', 'prehatred', 'prehaunted', 'preheated', 'preindebted', 'prejudiced', 'preoccasioned', 'preoccupied', 'preopinionated', 'prepared', 'prepossessed', 'prerogatived', 'presanctified', 'presbyterated', 'prescored', 'presenced', 'pretended', 'preterdetermined', 'pretexted', 'priced', 'pricked', 'prickled', 'prideweed', 'pried', 'primaried', 'primrosed', 'princified', 'printed', 'prismed', 'privileged', 'probosciformed', 'proceed', 'procurved', 'produced', 'producted', 'professed', 'proflated', 'promontoried', 'pronged', 'pronounced', 'propertied', 'proportioned', 'proptosed', 'propugnacled', 'protracted', 'proudhearted', 'proved', 'provided', 'prowed', 'prowessed', 'prunted', 'pseudocultivated', 'pseudolaminated', 'pseudoreformed', 'pseudosacred', 'publichearted', 'puddingheaded', 'puddled', 'puffed', 'pugged', 'pukeweed', 'pulmonated', 'pulvinated', 'pumiced', 'punctated', 'punctulated', 'punctured', 'pungled', 'pupiled', 'purebred', 'pured', 'purehearted', 'purfled', 'pursed', 'pussyfooted', 'pustulated', 'pustuled', 'putrifacted', 'puttyhearted', 'puzzled', 'puzzleheaded', 'puzzlepated', 'pygmyweed', 'pygostyled', 'pyjamaed', 'quadded', 'quadrangled', 'quadrated', 'quadriarticulated', 'quadridentated', 'quadrifurcated', 'quadrigabled', 'quadrilled', 'quadrilobed', 'quadriplicated', 'quadrisulcated', 'quadruped', 'qualified', 'qualitied', 'quantitied', 'quarred', 'quarreled', 'quarried', 'quartered', 'quartersawed', 'quatrefoiled', 'quatrefoliated', 'queenweed', 'quesited', 'quickhearted', 'quilled', 'quilleted', 'quilted', 'quinquedentated', 'quinquefoliated', 'quinquelobated', 'quinquelobed', 'quinquenerved', 'quinsied', 'quintiped', 'quintuplinerved', 'quintupliribbed', 'quitted', 'quivered', 'quoined', 'rabbithearted', 'rabbitweed', 'racemed', 'radiated', 'radicated', 'ragged', 'raggled', 'ragweed', 'rainbowweed', 'raised', 'ramed', 'ramfeezled', 'ramified', 'ramososubdivided', 'ramped', 'ramshackled', 'ranged', 'ranked', 'rapeseed', 'rapiered', 'raptured', 'rasped', 'rated', 'rathed', 'rattlebrained', 'rattled', 'rattleheaded', 'rattlepated', 'rattleskulled', 'rattleweed', 'ravined', 'rawboned', 'rayed', 'reasoned', 'reassured', 'rebed', 'rebreed', 'received', 'reclinated', 'recollected', 'reconstructed', 'rectangled', 'rectified', 'rectinerved', 'red', 'redeed', 'redheaded', 'redhearted', 'redoubted', 'reduced', 'redweed', 'reed', 'reeded', 'reeled', 'refathered', 'refeed', 'refined', 'reflected', 'reflexed', 'refluxed', 'reformed', 'refracted', 'regimentaled', 'regimentalled', 'regioned', 'registered', 'reglorified', 'regulated', 'reindebted', 'reiterated', 'related', 'relaxed', 'relicted', 'relieved', 'remiped', 'removed', 'renowned', 'rented', 'repeated', 'replicated', 'reposed', 'repped', 'repressed', 'reproceed', 'reputed', 'reseed', 'reserved', 'resigned', 'resolved', 'respiratored', 'restrained', 'restricted', 'resucceed', 'resupinated', 'retarded', 'reticulated', 'reticuled', 'retinerved', 'retiracied', 'retired', 'retorted', 'retracted', 'retricked', 'retrocurved', 'retroflected', 'retroflexed', 'retrofracted', 'retromorphosed', 'retroplexed', 'retroposed', 'retted', 'returned', 'revealed', 'revenued', 'revered', 'reversed', 'revoluted', 'revulsed', 'rewed', 'reworked', 'rheumed', 'ribaudred', 'ribbed', 'ribbonweed', 'richweed', 'ridered', 'ridged', 'ridgepoled', 'rightheaded', 'righthearted', 'rimmed', 'rinded', 'ringboned', 'ringed', 'ringleted', 'rivered', 'riverweed', 'rizzomed', 'roadbed', 'roaded', 'roadweed', 'rocheted', 'rockhearted', 'rockweed', 'roed', 'rolled', 'rookeried', 'roomed', 'roosted', 'rooted', 'rosated', 'rosed', 'rosetted', 'rosied', 'rosinweed', 'rostrated', 'rotated', 'roughhearted', 'roughtailed', 'rounded', 'roundheaded', 'roundmouthed', 'roundnosed', 'rowed', 'rubbed', 'rubiconed', 'rubied', 'ruddied', 'rudented', 'ruffed', 'ruffled', 'rugged', 'rugheaded', 'ruined', 'runchweed', 'runed', 'runted', 'ruptured', 'rushed', 'rushlighted', 'rustred', 'rutilated', 'sabered', 'saboted', 'saccated', 'saccharated', 'saccharinated', 'sacculated', 'sackclothed', 'sacked', 'sacred', 'saddled', 'sadhearted', 'saffroned', 'sailed', 'sainted', 'salaried', 'salited', 'salted', 'saltweed', 'sanctified', 'sanctuaried', 'sandaled', 'sanded', 'sandweed', 'sapheaded', 'sapphired', 'satcheled', 'satellited', 'satined', 'satisfied', 'saturated', 'saved', 'savored', 'savoyed', 'sawed', 'scabbed', 'scalded', 'scaldweed', 'scaled', 'scalled', 'scantlinged', 'scapulated', 'scarfed', 'scarletseed', 'scarred', 'scarved', 'scatterbrained', 'scattered', 'scented', 'sceptered', 'schapped', 'schooled', 'scienced', 'scimitared', 'sclerized', 'sclerosed', 'sclerotized', 'scooped', 'scopiped', 'scopuliped', 'scorched', 'scored', 'scorned', 'scorpionweed', 'scoured', 'scourweed', 'scrabbled', 'scragged', 'scraggled', 'scraped', 'scrapped', 'scratchweed', 'screed', 'screened', 'screeved', 'screwed', 'scribbled', 'scrimped', 'scriptured', 'scrobiculated', 'scrofulaweed', 'scrolled', 'scrubbed', 'scuffed', 'sculptured', 'scummed', 'scurvied', 'scurvyweed', 'scutated', 'scutcheoned', 'scutellated', 'scutiped', 'scutulated', 'sealed', 'seamed', 'seared', 'seasoned', 'seated', 'seaweed', 'secluded', 'secondhanded', 'sectored', 'sedged', 'sedigitated', 'seed', 'seedbed', 'seeded', 'seeped', 'seepweed', 'segged', 'segmented', 'sejoined', 'selected', 'selvaged', 'semeed', 'semiabstracted', 'semiacidified', 'semianimated', 'semiannealed', 'semiappressed', 'semiattached', 'semibalked', 'semibelted', 'semibleached', 'semiboiled', 'semibolshevized', 'semicalcined', 'semicircled', 'semicivilized', 'semiclosed', 'semicoagulated', 'semicombined', 'semicompacted', 'semicomplicated', 'semicordated', 'semicoronated', 'semicured', 'semidemented', 'semidenatured', 'semidetached', 'semideveloped', 'semidigested', 'semidisabled', 'semidivided', 'semidomed', 'semidomesticated', 'semidried', 'semieducated', 'semienclosed', 'semiengaged', 'semiexpanded', 'semiexposed', 'semifasciated', 'semifinished', 'semifixed', 'semiflexed', 'semiformed', 'semifossilized', 'semifused', 'semiglazed', 'semihumanized', 'semilined', 'semimanufactured', 'semimercerized', 'semimineralized', 'seminaked', 'semiopened', 'semiorganized', 'semioxidated', 'semioxidized', 'semioxygenated', 'semioxygenized', 'semipalmated', 'semipectinated', 'semiped', 'semipetrified', 'semiphlogisticated', 'semiprofessionalized', 'semirefined', 'semisacred', 'semiskilled', 'semistarved', 'semistratified', 'semistriated', 'semisupinated', 'semitailored', 'semitrained', 'semitrimmed', 'semiundressed', 'semivitrified', 'semivulcanized', 'sensed', 'sepaled', 'sepalled', 'septangled', 'septated', 'septicolored', 'sequestered', 'sericated', 'serrated', 'serried', 'serriped', 'serrulated', 'sesquihydrated', 'settled', 'sevenfolded', 'sewed', 'sewered', 'sexangled', 'sexdigitated', 'sexed', 'sexiped', 'shabbed', 'shaded', 'shadowed', 'shafted', 'shagged', 'shagreened', 'shallowbrained', 'shallowhearted', 'shallowpated', 'shamed', 'shamefaced', 'shammed', 'shanked', 'shaped', 'sharded', 'shatterbrained', 'shatterheaded', 'shatterpated', 'shaved', 'shaveweed', 'shawled', 'sheathed', 'sheaved', 'shed', 'shedded', 'sheepfaced', 'sheepheaded', 'sheephearted', 'sheepshed', 'sheepweed', 'sheered', 'sheeted', 'shelled', 'sheltered', 'sheveled', 'shickered', 'shied', 'shielded', 'shingled', 'shipped', 'shiverweed', 'shockheaded', 'shored', 'shoreweed', 'shorthanded', 'shortsighted', 'shotted', 'shouldered', 'shovelweed', 'shred', 'shrouded', 'shrubbed', 'shuttleheaded', 'sibbed', 'sickbed', 'sickhearted', 'sickled', 'sickleweed', 'sicklied', 'sided', 'sifted', 'sighted', 'sigillated', 'silenced', 'siliciuretted', 'silked', 'silkweed', 'silvered', 'silverweed', 'simplehearted', 'simplexed', 'simplified', 'sinewed', 'singed', 'singled', 'singlehanded', 'singlehearted', 'sinuated', 'sinuatocontorted', 'sinuatodentated', 'sinuatoserrated', 'siphuncled', 'siphunculated', 'siruped', 'situated', 'sized', 'skeed', 'skeered', 'skeletonweed', 'skewbacked', 'skewed', 'skidded', 'skied', 'skilled', 'skimmed', 'skinned', 'skippered', 'skirted', 'skittled', 'skulled', 'skunkweed', 'slabbed', 'slacked', 'slashed', 'slatted', 'slaved', 'sleaved', 'sled', 'sledded', 'sleepered', 'sleeved', 'slewed', 'sliced', 'slickered', 'slided', 'slighted', 'slinkweed', 'slipped', 'slippered', 'slipperweed', 'sliptopped', 'slitted', 'sloped', 'slopped', 'sloted', 'slotted', 'slowbellied', 'slowheaded', 'slowhearted', 'slowmouthed', 'sludged', 'slugabed', 'slugged', 'smallhearted', 'smallmouthed', 'smartweed', 'smeared', 'smelled', 'smoked', 'smoothbored', 'smoothmouthed', 'smothered', 'smudged', 'smutted', 'snagged', 'snaggled', 'snakeweed', 'snapped', 'snapweed', 'snatched', 'sned', 'sneezeweed', 'snibbled', 'sniveled', 'snooded', 'snookered', 'snouted', 'snowshed', 'snowshoed', 'snubbed', 'snuffcolored', 'soaked', 'soapweed', 'sobersided', 'societified', 'sodded', 'softbrained', 'softheaded', 'softhearted', 'soiled', 'soldierhearted', 'solicited', 'soliped', 'sombreroed', 'sonantized', 'sophisticated', 'soreheaded', 'sorehearted', 'sorryhearted', 'sorted', 'soshed', 'sotted', 'souffleed', 'souled', 'soundheaded', 'soundhearted', 'soured', 'sourhearted', 'sourweed', 'sowbacked', 'spaced', 'spaded', 'spangled', 'sparked', 'sparred', 'spasmed', 'spathed', 'spatted', 'spatterdashed', 'spavied', 'spavined', 'specialized', 'specked', 'speckled', 'spectacled', 'spectered', 'sped', 'speed', 'sphacelated', 'spicated', 'spiced', 'spiculated', 'spidered', 'spied', 'spiffed', 'spiflicated', 'spiked', 'spikeweed', 'spindled', 'spined', 'spiraled', 'spirated', 'spired', 'spirited', 'spiritweed', 'spissated', 'spitscocked', 'spitted', 'splashed', 'splatterfaced', 'splayed', 'splayfooted', 'splaymouthed', 'spoiled', 'sponged', 'spored', 'spotted', 'spreaded', 'spried', 'sprigged', 'sprinkled', 'sprinklered', 'spurred', 'spurwinged', 'squabbed', 'squadroned', 'squamated', 'squamosodentated', 'squamosoimbricated', 'squared', 'squatted', 'squawweed', 'squiffed', 'squinted', 'stackfreed', 'staffed', 'staged', 'staggerweed', 'staired', 'stalactited', 'stalked', 'stamened', 'stampweed', 'stancheled', 'standardbred', 'standardized', 'stanzaed', 'stapled', 'starched', 'starlighted', 'starred', 'starved', 'stated', 'statued', 'statured', 'stayed', 'stealed', 'steed', 'steelhearted', 'steepled', 'steepweed', 'stellated', 'stemmed', 'stenosed', 'stepped', 'stereotyped', 'sterned', 'stewed', 'stibiated', 'sticked', 'stickseed', 'stickweed', 'stiffhearted', 'stilted', 'stinkweed', 'stinted', 'stiped', 'stippled', 'stipuled', 'stoled', 'stoned', 'stonehearted', 'stoneseed', 'stoneweed', 'stonied', 'stonyhearted', 'stooded', 'stopped', 'storied', 'stouthearted', 'strained', 'straked', 'strangleweed', 'strapped', 'stratified', 'streaked', 'streamlined', 'striated', 'strictured', 'stringed', 'stringhalted', 'striolated', 'striped', 'stripped', 'strived', 'strongbrained', 'stronghearted', 'strophiolated', 'structured', 'stubbed', 'stubbled', 'stubbornhearted', 'studied', 'stuffed', 'stunted', 'stupefied', 'sturdied', 'sturdyhearted', 'stylopized', 'subangled', 'subangulated', 'subappressed', 'subarcuated', 'subattenuated', 'subbranched', 'subbreed', 'subcarbureted', 'subcarburetted', 'subcommended', 'subcompressed', 'subcontained', 'subcontinued', 'subcontracted', 'subdentated', 'subdented', 'subdepressed', 'subdilated', 'subdistinguished', 'subdued', 'subhooked', 'subimbricated', 'subimposed', 'subimpressed', 'subinvoluted', 'subjected', 'sublighted', 'sublimed', 'submargined', 'submerged', 'submersed', 'subnitrated', 'suborbiculated', 'subovated', 'subpartitioned', 'subpeltated', 'subsaturated', 'substituted', 'subtriplicated', 'subturriculated', 'subtwined', 'subulated', 'suburbed', 'subventioned', 'subversed', 'subvitalized', 'succeed', 'sucivilized', 'suffused', 'sugared', 'sulcated', 'sullenhearted', 'sulphated', 'sulphonated', 'sulphureosuffused', 'sulphureted', 'sulphurweed', 'summed', 'sunbeamed', 'sunbonneted', 'sunburned', 'sunlighted', 'sunnyhearted', 'sunspotted', 'sunweed', 'superaccomplished', 'superacidulated', 'superbeloved', 'superblessed', 'supercarbureted', 'supercharged', 'supercivilized', 'superclassified', 'superconsecrated', 'supercrowned', 'supercultivated', 'superelated', 'superelevated', 'superexceed', 'superexcited', 'superfructified', 'superimposed', 'superimpregnated', 'superimproved', 'superinsaniated', 'superposed', 'superpowered', 'superrefined', 'superrheumatized', 'supersacred', 'supersublimated', 'supersubtilized', 'supersulphureted', 'superultrafrostified', 'supposed', 'suppressed', 'surbased', 'surbed', 'surfaced', 'surmised', 'surmounted', 'surpeopled', 'surpliced', 'surrounded', 'suspected', 'suspended', 'sustained', 'swagbellied', 'swampweed', 'swannecked', 'swanweed', 'swastikaed', 'swayed', 'sweated', 'sweatweed', 'sweered', 'sweethearted', 'sweetmouthed', 'sweetweed', 'swelled', 'switched', 'swiveled', 'swiveleyed', 'swooned', 'swordweed', 'syllabled', 'synchronized', 'syncopated', 'syruped', 'systemed', 'systolated', 'tabarded', 'tabled', 'tabulated', 'tackled', 'tagged', 'tailed', 'taled', 'talented', 'taliped', 'tallowweed', 'taloned', 'tamehearted', 'tampioned', 'tanged', 'tanked', 'tanned', 'tannined', 'tapered', 'taprooted', 'tarantulated', 'tarbooshed', 'targeted', 'tarlataned', 'tarmined', 'tarred', 'tartarated', 'tartrated', 'tarweed', 'tasted', 'tattered', 'tattied', 'tauted', 'tawdered', 'taxed', 'taximetered', 'teated', 'ted', 'tegulated', 'tellureted', 'telluretted', 'temperamented', 'tempered', 'templed', 'tenchweed', 'tenderhearted', 'tendriled', 'tentacled', 'tentaculated', 'tented', 'terminalized', 'terreted', 'territoried', 'tessellated', 'tesserated', 'tested', 'testiculated', 'testudinated', 'tetrahydrated', 'tetrasubstituted', 'thecaspored', 'theopneusted', 'thewed', 'thickbrained', 'thicketed', 'thickheaded', 'thickskulled', 'thighed', 'thimbled', 'thimbleweed', 'thinbrained', 'thistled', 'thonged', 'thorned', 'thoroughbred', 'thoroughpaced', 'thoroughsped', 'thoroughstitched', 'thoughted', 'threaded', 'threadweed', 'threefolded', 'throated', 'throughbred', 'thumbed', 'thunderheaded', 'ticked', 'tickled', 'tickleweed', 'tickseed', 'tickseeded', 'tickweed', 'tided', 'tied', 'tierced', 'tiered', 'tiewigged', 'tigerhearted', 'tightfisted', 'tiled', 'tileseed', 'timbered', 'timbertuned', 'timbreled', 'timed', 'tindered', 'tined', 'tineweed', 'tinged', 'tinned', 'tinnified', 'tinted', 'tipped', 'tired', 'tiresomeweed', 'tissued', 'titled', 'tobaccofied', 'tobaccoweed', 'toecapped', 'toed', 'togaed', 'togated', 'toiled', 'toileted', 'toiletted', 'tokened', 'toned', 'tongued', 'tonneaued', 'tonsured', 'toothchiseled', 'toothed', 'toothleted', 'topknotted', 'toplighted', 'topped', 'torchlighted', 'torchweed', 'tored', 'tormented', 'torquated', 'torqued', 'tortured', 'toryweed', 'tossicated', 'touched', 'toughhearted', 'toupeed', 'towered', 'towheaded', 'towned', 'trabeated', 'trabeculated', 'traceried', 'tracked', 'tragicolored', 'trained', 'trammeled', 'trammelled', 'tranced', 'transferred', 'transomed', 'transported', 'trapped', 'travated', 'traveled', 'travelled', 'traversed', 'treed', 'trefoiled', 'trellised', 'trenched', 'tressed', 'tressured', 'triangled', 'triarcuated', 'tribarred', 'tricarinated', 'trichinosed', 'tricolored', 'tricornered', 'tricuspidated', 'tridentated', 'tridimensioned', 'tried', 'trifasciated', 'trifoliated', 'triformed', 'triggered', 'triglyphed', 'trihydrated', 'trilamellated', 'trilineated', 'trilobated', 'trilobed', 'trimotored', 'trinerved', 'triparted', 'triphenylated', 'tripinnated', 'triplinerved', 'tripointed', 'triradiated', 'trisected', 'trisinuated', 'trisubstituted', 'trisulcated', 'triunsaturated', 'trophied', 'trottoired', 'trousered', 'truebred', 'truehearted', 'truffled', 'trumpetweed', 'truncated', 'trunched', 'truncheoned', 'trunked', 'trunnioned', 'trussed', 'tubehearted', 'tubercled', 'tuberculated', 'tuberculed', 'tuberculosed', 'tubulated', 'tufted', 'tumbled', 'tumbleweed', 'tumored', 'tunbellied', 'tuned', 'tunicated', 'tunicked', 'tunneled', 'turbaned', 'turbinated', 'turbined', 'turfed', 'turned', 'turnipweed', 'turpantineweed', 'turpentineweed', 'turreted', 'tushed', 'tusked', 'tussocked', 'tweed', 'tweeded', 'twibilled', 'twigged', 'twilled', 'twinned', 'twisted', 'twistened', 'twitterboned', 'twizzened', 'uddered', 'ulcered', 'ullaged', 'ulstered', 'ultradignified', 'ultrainvolved', 'ultrared', 'ultrarefined', 'umbeled', 'umbellated', 'umbilicated', 'umbonated', 'umbrellaed', 'unabandoned', 'unabased', 'unabashed', 'unabated', 'unabbreviated', 'unabetted', 'unabhorred', 'unabjured', 'unabolished', 'unabraded', 'unabrased', 'unabridged', 'unabrogated', 'unabsolved', 'unabsorbed', 'unabused', 'unaccelerated', 'unaccented', 'unaccentuated', 'unaccepted', 'unaccidented', 'unacclimated', 'unacclimatized', 'unaccommodated', 'unaccompanied', 'unaccomplished', 'unaccorded', 'unaccosted', 'unaccounted', 'unaccoutered', 'unaccoutred', 'unaccreditated', 'unaccredited', 'unaccrued', 'unaccumulated', 'unaccursed', 'unaccustomed', 'unachieved', 'unacidulated', 'unacknowledged', 'unacquainted', 'unacquired', 'unacquitted', 'unacted', 'unactivated', 'unactuated', 'unadapted', 'unadded', 'unaddicted', 'unaddressed', 'unadjectived', 'unadjourned', 'unadjudged', 'unadjusted', 'unadministered', 'unadmired', 'unadmitted', 'unadmonished', 'unadopted', 'unadored', 'unadorned', 'unadulterated', 'unadvanced', 'unadvantaged', 'unadventured', 'unadvertised', 'unadvised', 'unadvocated', 'unaerated', 'unafeared', 'unaffected', 'unaffectioned', 'unaffianced', 'unaffied', 'unaffiliated', 'unaffirmed', 'unaffixed', 'unafflicted', 'unafforded', 'unaffranchised', 'unaffrighted', 'unaffronted', 'unaged', 'unaggravated', 'unaggregated', 'unagitated', 'unagreed', 'unaided', 'unaimed', 'unaired', 'unaisled', 'unalarmed', 'unalcoholized', 'unalienated', 'unaligned', 'unallayed', 'unalleged', 'unalleviated', 'unallied', 'unallotted', 'unallowed', 'unalloyed', 'unallured', 'unalmsed', 'unalphabeted', 'unaltered', 'unalternated', 'unamalgamated', 'unamassed', 'unamazed', 'unamended', 'unamerced', 'unamortized', 'unamplified', 'unamputated', 'unamused', 'unanalyzed', 'unanatomized', 'unancestored', 'unancestried', 'unanchored', 'unanchylosed', 'unaneled', 'unanimalized', 'unanimated', 'unannealed', 'unannexed', 'unannihilated', 'unannotated', 'unannounced', 'unannoyed', 'unannulled', 'unanointed', 'unanswered', 'unantagonized', 'unanticipated', 'unantiquated', 'unapostatized', 'unapostrophized', 'unappalled', 'unappareled', 'unappealed', 'unappeased', 'unappendaged', 'unapperceived', 'unapplauded', 'unapplianced', 'unapplied', 'unappointed', 'unapportioned', 'unappraised', 'unappreciated', 'unapprehended', 'unapprenticed', 'unapprised', 'unapproached', 'unappropriated', 'unapproved', 'unaproned', 'unarbitrated', 'unarched', 'unargued', 'unarmed', 'unarmored', 'unaromatized', 'unaroused', 'unarraigned', 'unarranged', 'unarrayed', 'unarrested', 'unarrived', 'unarted', 'unarticled', 'unarticulated', 'unascended', 'unascertained', 'unashamed', 'unasked', 'unaspersed', 'unasphalted', 'unaspirated', 'unassailed', 'unassassinated', 'unassaulted', 'unassayed', 'unassembled', 'unassented', 'unasserted', 'unassessed', 'unassibilated', 'unassigned', 'unassimilated', 'unassisted', 'unassociated', 'unassoiled', 'unassorted', 'unassuaged', 'unassumed', 'unassured', 'unastonished', 'unatoned', 'unattached', 'unattacked', 'unattained', 'unattainted', 'unattempered', 'unattempted', 'unattended', 'unattenuated', 'unattested', 'unattired', 'unattracted', 'unattributed', 'unattuned', 'unauctioned', 'unaudienced', 'unaudited', 'unaugmented', 'unauthenticated', 'unauthoritied', 'unauthorized', 'unavailed', 'unavenged', 'unavenued', 'unaveraged', 'unaverred', 'unaverted', 'unavoided', 'unavouched', 'unavowed', 'unawaked', 'unawakened', 'unawarded', 'unawared', 'unawed', 'unawned', 'unaxled', 'unazotized', 'unbackboarded', 'unbacked', 'unbadged', 'unbaffled', 'unbagged', 'unbailed', 'unbaited', 'unbaized', 'unbaked', 'unbalanced', 'unbalconied', 'unbalked', 'unballasted', 'unballoted', 'unbandaged', 'unbanded', 'unbanished', 'unbanked', 'unbannered', 'unbaptized', 'unbarbed', 'unbarbered', 'unbargained', 'unbarred', 'unbarreled', 'unbarricaded', 'unbarricadoed', 'unbased', 'unbastardized', 'unbasted', 'unbastilled', 'unbastinadoed', 'unbated', 'unbathed', 'unbatted', 'unbattered', 'unbeached', 'unbeaconed', 'unbeaded', 'unbearded', 'unbeaued', 'unbeautified', 'unbeavered', 'unbeclogged', 'unbeclouded', 'unbed', 'unbedabbled', 'unbedaggled', 'unbedashed', 'unbedaubed', 'unbedded', 'unbedecked', 'unbedewed', 'unbedimmed', 'unbedinned', 'unbedizened', 'unbedraggled', 'unbefriended', 'unbefringed', 'unbegged', 'unbegirded', 'unbegreased', 'unbegrimed', 'unbegrudged', 'unbeguiled', 'unbeheaded', 'unbejuggled', 'unbelied', 'unbelieved', 'unbeloved', 'unbemoaned', 'unbemourned', 'unbended', 'unbeneficed', 'unbenefited', 'unbenetted', 'unbenighted', 'unbenumbed', 'unbequeathed', 'unbereaved', 'unberouged', 'unbesieged', 'unbesmeared', 'unbesmirched', 'unbesmutted', 'unbesprinkled', 'unbestarred', 'unbestowed', 'unbeteared', 'unbetrayed', 'unbetrothed', 'unbettered', 'unbeveled', 'unbewailed', 'unbewildered', 'unbewilled', 'unbewitched', 'unbewrayed', 'unbiased', 'unbickered', 'unbigged', 'unbigoted', 'unbilled', 'unbilleted', 'unbirdlimed', 'unbitted', 'unblacked', 'unblackened', 'unblamed', 'unblanched', 'unblanketed', 'unblasphemed', 'unblasted', 'unblazoned', 'unbleached', 'unbled', 'unblemished', 'unblenched', 'unblended', 'unblessed', 'unblighted', 'unblistered', 'unblockaded', 'unblocked', 'unblooded', 'unbloodied', 'unbloomed', 'unblossomed', 'unblotted', 'unbloused', 'unblued', 'unbluffed', 'unblundered', 'unblunted', 'unblurred', 'unboarded', 'unboasted', 'unbodied', 'unbodkined', 'unboiled', 'unbolled', 'unbolstered', 'unbolted', 'unbonded', 'unboned', 'unbonneted', 'unbooked', 'unbooklearned', 'unbooted', 'unboraxed', 'unbordered', 'unbored', 'unborrowed', 'unbossed', 'unbothered', 'unbottomed', 'unbounded', 'unbowdlerized', 'unbowed', 'unboweled', 'unbowered', 'unbowled', 'unboxed', 'unbraced', 'unbraceleted', 'unbragged', 'unbraided', 'unbrailed', 'unbrained', 'unbranched', 'unbranded', 'unbrandied', 'unbraved', 'unbreached', 'unbreaded', 'unbreakfasted', 'unbreathed', 'unbred', 'unbreeched', 'unbrewed', 'unbribed', 'unbridged', 'unbridled', 'unbriefed', 'unbrightened', 'unbrined', 'unbroached', 'unbroadcasted', 'unbroidered', 'unbroiled', 'unbronzed', 'unbrooded', 'unbrothered', 'unbrowned', 'unbruised', 'unbrushed', 'unbrutalized', 'unbuckramed', 'unbudded', 'unbudged', 'unbudgeted', 'unbuffed', 'unbuffered', 'unbuffeted', 'unbuilded', 'unbulled', 'unbulletined', 'unbumped', 'unbunched', 'unbundled', 'unbuoyed', 'unburdened', 'unburgessed', 'unburied', 'unburlesqued', 'unburned', 'unburnished', 'unburrowed', 'unbusied', 'unbuskined', 'unbutchered', 'unbuttered', 'unbuttoned', 'unbuttressed', 'uncabined', 'uncabled', 'uncadenced', 'uncaged', 'uncalcified', 'uncalcined', 'uncalculated', 'uncalendered', 'uncalked', 'uncalled', 'uncalmed', 'uncalumniated', 'uncambered', 'uncamerated', 'uncamouflaged', 'uncanceled', 'uncancelled', 'uncandied', 'uncaned', 'uncankered', 'uncanned', 'uncanonized', 'uncanopied', 'uncantoned', 'uncantonized', 'uncanvassed', 'uncaparisoned', 'uncapitalized', 'uncapped', 'uncapsized', 'uncaptained', 'uncaptioned', 'uncaptivated', 'uncaptived', 'uncaptured', 'uncarbonated', 'uncarboned', 'uncarbureted', 'uncarded', 'uncaressed', 'uncargoed', 'uncaricatured', 'uncaroled', 'uncarpentered', 'uncarpeted', 'uncarried', 'uncarted', 'uncartooned', 'uncarved', 'uncased', 'uncasemated', 'uncasked', 'uncasketed', 'uncastigated', 'uncastled', 'uncastrated', 'uncatalogued', 'uncatechised', 'uncatechized', 'uncategorized', 'uncathedraled', 'uncaused', 'uncauterized', 'unceased', 'unceded', 'unceiled', 'unceilinged', 'uncelebrated', 'uncelestialized', 'uncemented', 'uncensored', 'uncensured', 'uncentered', 'uncentred', 'uncereclothed', 'unceremented', 'uncertificated', 'uncertified', 'unchafed', 'unchained', 'unchaired', 'unchalked', 'unchallenged', 'unchambered', 'unchamfered', 'unchampioned', 'unchanged', 'unchanneled', 'unchannelled', 'unchanted', 'unchaperoned', 'unchapleted', 'unchaptered', 'uncharactered', 'uncharacterized', 'uncharged', 'uncharmed', 'uncharred', 'uncharted', 'unchartered', 'unchased', 'unchastened', 'unchastised', 'unchatteled', 'unchauffeured', 'unchawed', 'uncheated', 'unchecked', 'uncheckered', 'uncheered', 'uncherished', 'unchested', 'unchevroned', 'unchewed', 'unchided', 'unchilled', 'unchinked', 'unchipped', 'unchiseled', 'unchiselled', 'unchloridized', 'unchoked', 'unchopped', 'unchorded', 'unchristened', 'unchristianized', 'unchronicled', 'unchurched', 'uncicatrized', 'unciliated', 'uncinated', 'uncinctured', 'uncircularized', 'uncirculated', 'uncircumcised', 'uncircumscribed', 'uncircumstanced', 'uncited', 'uncitied', 'uncivilized', 'unclaimed', 'unclamped', 'unclarified', 'unclasped', 'unclassed', 'unclassified', 'unclawed', 'unclayed', 'uncleaned', 'uncleansed', 'uncleared', 'uncliented', 'unclimaxed', 'unclimbed', 'unclipped', 'uncloaked', 'unclogged', 'uncloistered', 'unclosed', 'uncloseted', 'unclothed', 'unclotted', 'unclouded', 'uncloyed', 'unclustered', 'unclutched', 'uncluttered', 'uncoached', 'uncoacted', 'uncoagulated', 'uncoated', 'uncoaxed', 'uncocked', 'uncocted', 'uncodded', 'uncoddled', 'uncoded', 'uncodified', 'uncoerced', 'uncoffined', 'uncogged', 'uncognized', 'uncoifed', 'uncoiled', 'uncoined', 'uncoked', 'uncollapsed', 'uncollared', 'uncollated', 'uncollected', 'uncolleged', 'uncolonized', 'uncolored', 'uncoloured', 'uncombated', 'uncombed', 'uncombined', 'uncomforted', 'uncommanded', 'uncommemorated', 'uncommenced', 'uncommended', 'uncommented', 'uncommingled', 'uncomminuted', 'uncommiserated', 'uncommissioned', 'uncommitted', 'uncommixed', 'uncommunicated', 'uncommuted', 'uncompacted', 'uncompanied', 'uncompanioned', 'uncompared', 'uncompassed', 'uncompassionated', 'uncompassioned', 'uncompelled', 'uncompensated', 'uncompiled', 'uncomplained', 'uncompleted', 'uncomplicated', 'uncomplimented', 'uncomposed', 'uncompounded', 'uncomprehended', 'uncompressed', 'uncomprised', 'uncompromised', 'uncomputed', 'uncomraded', 'unconcatenated', 'unconcealed', 'unconceded', 'unconceited', 'unconceived', 'unconcerned', 'unconcerted', 'unconciliated', 'unconcluded', 'unconcocted', 'unconcreted', 'uncondemned', 'uncondensed', 'unconditionated', 'unconditioned', 'uncondoled', 'unconducted', 'unconfected', 'unconfederated', 'unconferred', 'unconfessed', 'unconfided', 'unconfined', 'unconfirmed', 'unconfiscated', 'unconformed', 'unconfounded', 'unconfronted', 'unconfused', 'unconfuted', 'uncongealed', 'uncongested', 'unconglobated', 'unconglomerated', 'unconglutinated', 'uncongratulated', 'uncongregated', 'unconjectured', 'unconjoined', 'unconjugated', 'unconjured', 'unconnected', 'unconned', 'unconnived', 'unconquered', 'unconscienced', 'unconsecrated', 'unconsented', 'unconserved', 'unconsidered', 'unconsigned', 'unconsociated', 'unconsoled', 'unconsolidated', 'unconspired', 'unconstellated', 'unconstipated', 'unconstituted', 'unconstrained', 'unconstricted', 'unconstructed', 'unconstrued', 'unconsulted', 'unconsumed', 'unconsummated', 'uncontained', 'uncontaminated', 'uncontemned', 'uncontemplated', 'uncontended', 'uncontented', 'uncontested', 'uncontinented', 'uncontinued', 'uncontorted', 'uncontracted', 'uncontradicted', 'uncontrasted', 'uncontributed', 'uncontrived', 'uncontrolled', 'uncontroverted', 'unconvened', 'unconventioned', 'unconverted', 'unconveyed', 'unconvicted', 'unconvinced', 'unconvoluted', 'unconvoyed', 'unconvulsed', 'uncooked', 'uncooled', 'uncooped', 'uncoopered', 'uncopied', 'uncopyrighted', 'uncorded', 'uncored', 'uncorked', 'uncorned', 'uncoronated', 'uncoroneted', 'uncorrected', 'uncorrelated', 'uncorroborated', 'uncorroded', 'uncorrugated', 'uncorrupted', 'uncorseted', 'uncosseted', 'uncostumed', 'uncottoned', 'uncouched', 'uncounseled', 'uncounselled', 'uncounted', 'uncountenanced', 'uncounteracted', 'uncounterbalanced', 'uncounterfeited', 'uncountermanded', 'uncountervailed', 'uncountrified', 'uncoupled', 'uncoursed', 'uncourted', 'uncovenanted', 'uncovered', 'uncoveted', 'uncowed', 'uncracked', 'uncradled', 'uncramped', 'uncranked', 'uncrannied', 'uncrated', 'uncravatted', 'uncrazed', 'uncreased', 'uncreated', 'uncredentialed', 'uncredentialled', 'uncredited', 'uncreosoted', 'uncrested', 'uncrevassed', 'uncried', 'uncrinkled', 'uncrippled', 'uncriticised', 'uncriticized', 'uncrooked', 'uncropped', 'uncrossed', 'uncrossexamined', 'uncrowded', 'uncrowned', 'uncrucified', 'uncrudded', 'uncrumbled', 'uncrushed', 'uncrusted', 'uncrystaled', 'uncrystalled', 'uncrystallized', 'uncubbed', 'uncuckolded', 'uncudgelled', 'uncuffed', 'unculled', 'uncultivated', 'uncultured', 'uncumbered', 'uncupped', 'uncurbed', 'uncurdled', 'uncured', 'uncurled', 'uncurricularized', 'uncurried', 'uncursed', 'uncurtailed', 'uncurtained', 'uncushioned', 'uncusped', 'uncustomed', 'undabbled', 'undaggled', 'undamaged', 'undamasked', 'undammed', 'undamped', 'undandled', 'undangered', 'undared', 'undarkened', 'undarned', 'undashed', 'undated', 'undaubed', 'undaunted', 'undawned', 'undazed', 'undazzled', 'undeadened', 'undebarred', 'undebased', 'undebated', 'undebauched', 'undebilitated', 'undecayed', 'undeceased', 'undeceived', 'undecided', 'undeciphered', 'undecked', 'undeclaimed', 'undeclared', 'undeclined', 'undecocted', 'undecomposed', 'undecompounded', 'undecorated', 'undecorticated', 'undecoyed', 'undecreased', 'undecreed', 'undecried', 'undedicated', 'undeducted', 'undeeded', 'undeemed', 'undefaced', 'undefalcated', 'undefamed', 'undefaulted', 'undefeated', 'undefecated', 'undefended', 'undefensed', 'undeferred', 'undefied', 'undefiled', 'undefined', 'undeflected', 'undeflowered', 'undeformed', 'undefrauded', 'undefrayed', 'undegenerated', 'undegraded', 'undeified', 'undejected', 'undelated', 'undelayed', 'undelegated', 'undeleted', 'undeliberated', 'undelighted', 'undelimited', 'undelineated', 'undelivered', 'undeluded', 'undeluged', 'undelved', 'undemanded', 'undemised', 'undemolished', 'undemonstrated', 'undenied', 'undenizened', 'undenominated', 'undenoted', 'undenounced', 'undenuded', 'undeparted', 'undephlegmated', 'undepicted', 'undepleted', 'undeplored', 'undeported', 'undeposed', 'undeposited', 'undepraved', 'undeprecated', 'undepreciated', 'undepressed', 'undeprived', 'undepurated', 'undeputed', 'underaccommodated', 'underacted', 'underanged', 'underbed', 'underbitted', 'underboated', 'underbowed', 'underbraced', 'underbred', 'underburned', 'undercapitaled', 'undercarved', 'undercharged', 'underchurched', 'underclothed', 'undercoated', 'undercolored', 'undercompounded', 'underconcerned', 'underdressed', 'underdunged', 'undereducated', 'underexcited', 'underfed', 'underfeed', 'underfolded', 'underhanded', 'underhorsed', 'underided', 'underived', 'underjawed', 'underlanguaged', 'underlimbed', 'underlunged', 'undermanned', 'undermasted', 'undermatched', 'undermentioned', 'undermoated', 'undernoted', 'undernourished', 'underoccupied', 'underofficered', 'underpeopled', 'underpetticoated', 'underpitched', 'underprivileged', 'underproportioned', 'underpropped', 'underqualified', 'underrented', 'underrespected', 'underrigged', 'underripened', 'underrooted', 'undersailed', 'underseated', 'underseeded', 'undersighted', 'undersized', 'undersparred', 'underspecified', 'undertaxed', 'underteamed', 'undertided', 'undertimed', 'undertoned', 'undertrained', 'undervaulted', 'undervitalized', 'undervocabularied', 'underweighted', 'underwitted', 'underwooded', 'undescended', 'undescribed', 'undescried', 'undeserted', 'undeserved', 'undesignated', 'undesigned', 'undesired', 'undespaired', 'undespatched', 'undespised', 'undespoiled', 'undestined', 'undestroyed', 'undetached', 'undetailed', 'undetained', 'undetected', 'undeteriorated', 'undetermined', 'undeterred', 'undetested', 'undethroned', 'undeveloped', 'undeviated', 'undevised', 'undevoted', 'undevoured', 'undewed', 'undiademed', 'undiagnosed', 'undialed', 'undialyzed', 'undiamonded', 'undiapered', 'undictated', 'undieted', 'undifferenced', 'undifferentiated', 'undiffracted', 'undiffused', 'undigested', 'undigged', 'undighted', 'undigitated', 'undignified', 'undiked', 'undilapidated', 'undilated', 'undiluted', 'undimensioned', 'undiminished', 'undimmed', 'undimpled', 'undined', 'undinted', 'undiocesed', 'undiplomaed', 'undipped', 'undirected', 'undisabled', 'undisappointed', 'undisarmed', 'undisbanded', 'undisbarred', 'undisburdened', 'undisbursed', 'undiscarded', 'undiscerned', 'undischarged', 'undiscipled', 'undisciplined', 'undisclaimed', 'undisclosed', 'undiscolored', 'undiscomfited', 'undiscomposed', 'undisconcerted', 'undisconnected', 'undiscontinued', 'undiscounted', 'undiscouraged', 'undiscoursed', 'undiscovered', 'undiscredited', 'undiscriminated', 'undiscussed', 'undisdained', 'undiseased', 'undisestablished', 'undisfigured', 'undisfranchised', 'undisfulfilled', 'undisgorged', 'undisgraced', 'undisguised', 'undisgusted', 'undisheartened', 'undished', 'undisheveled', 'undishonored', 'undisillusioned', 'undisinfected', 'undisinherited', 'undisintegrated', 'undisinterested', 'undisjoined', 'undisjointed', 'undisliked', 'undislocated', 'undislodged', 'undismantled', 'undismayed', 'undismembered', 'undismissed', 'undismounted', 'undisobeyed', 'undisordered', 'undisorganized', 'undisowned', 'undisparaged', 'undispatched', 'undispelled', 'undispensed', 'undispersed', 'undisplaced', 'undisplanted', 'undisplayed', 'undispleased', 'undisposed', 'undisprivacied', 'undisproved', 'undisputed', 'undisqualified', 'undisquieted', 'undisrobed', 'undisrupted', 'undissected', 'undissembled', 'undisseminated', 'undissevered', 'undissimulated', 'undissipated', 'undissociated', 'undissolved', 'undistanced', 'undistasted', 'undistempered', 'undistended', 'undistilled', 'undistinguished', 'undistorted', 'undistracted', 'undistrained', 'undistressed', 'undistributed', 'undistrusted', 'undisturbed', 'unditched', 'undittoed', 'undiversified', 'undiverted', 'undivested', 'undivided', 'undivined', 'undivorced', 'undivulged', 'undizened', 'undizzied', 'undocked', 'undoctored', 'undoctrined', 'undocumented', 'undodged', 'undoffed', 'undolled', 'undomed', 'undomesticated', 'undomiciled', 'undominated', 'undominoed', 'undonated', 'undoomed', 'undoped', 'undosed', 'undotted', 'undoubled', 'undoubted', 'undouched', 'undoweled', 'undowered', 'undowned', 'undrafted', 'undragoned', 'undragooned', 'undrained', 'undramatized', 'undraped', 'undraperied', 'undreaded', 'undreamed', 'undredged', 'undrenched', 'undressed', 'undried', 'undrilled', 'undropped', 'undrowned', 'undrubbed', 'undrugged', 'undubbed', 'undulated', 'undulled', 'undumped', 'undunged', 'unduped', 'undusted', 'undwarfed', 'undyed', 'uneagled', 'unearned', 'unearthed', 'unebbed', 'unechoed', 'uneclipsed', 'unedged', 'unedified', 'unedited', 'uneducated', 'uneduced', 'uneffaced', 'uneffected', 'uneffectuated', 'uneffeminated', 'uneffigiated', 'uneffused', 'unejaculated', 'unejected', 'unelaborated', 'unelapsed', 'unelated', 'unelbowed', 'unelected', 'unelectrified', 'unelectrized', 'unelevated', 'unelicited', 'unelided', 'uneliminated', 'unelongated', 'uneloped', 'unelucidated', 'uneluded', 'unemaciated', 'unemancipated', 'unemasculated', 'unembalmed', 'unembanked', 'unembarrassed', 'unembased', 'unembattled', 'unembayed', 'unembellished', 'unembezzled', 'unembittered', 'unemblazoned', 'unembodied', 'unembossed', 'unembowelled', 'unembowered', 'unembraced', 'unembroidered', 'unembroiled', 'unemended', 'unemerged', 'unemitted', 'unemolumented', 'unemotioned', 'unempaneled', 'unemployed', 'unempoisoned', 'unempowered', 'unemptied', 'unemulsified', 'unenabled', 'unenacted', 'unenameled', 'unenamored', 'unencamped', 'unenchafed', 'unenchanted', 'unencircled', 'unenclosed', 'unencompassed', 'unencored', 'unencountered', 'unencouraged', 'unencroached', 'unencumbered', 'unencysted', 'unendamaged', 'unendangered', 'unendeared', 'unendeavored', 'unended', 'unendorsed', 'unendowed', 'unendued', 'unendured', 'unenergized', 'unenervated', 'unenfeebled', 'unenfiladed', 'unenforced', 'unenfranchised', 'unengaged', 'unengendered', 'unengineered', 'unengraved', 'unengrossed', 'unenhanced', 'unenjoined', 'unenjoyed', 'unenkindled', 'unenlarged', 'unenlightened', 'unenlisted', 'unenlivened', 'unennobled', 'unenounced', 'unenquired', 'unenraged', 'unenraptured', 'unenriched', 'unenrobed', 'unenrolled', 'unenshrined', 'unenslaved', 'unensnared', 'unensouled', 'unensured', 'unentailed', 'unentangled', 'unentered', 'unenterprised', 'unentertained', 'unenthralled', 'unenthroned', 'unenticed', 'unentitled', 'unentombed', 'unentranced', 'unentrapped', 'unentreated', 'unentrenched', 'unentwined', 'unenumerated', 'unenveloped', 'unenvenomed', 'unenvied', 'unenvironed', 'unepauleted', 'unepilogued', 'unepitaphed', 'unepitomized', 'unequaled', 'unequalized', 'unequated', 'unequiaxed', 'unequilibrated', 'unequipped', 'unequivalved', 'uneradicated', 'unerased', 'unerected', 'unermined', 'uneroded', 'unerupted', 'unescaladed', 'unescalloped', 'unescaped', 'unescheated', 'uneschewed', 'unescorted', 'unescutcheoned', 'unespied', 'unespoused', 'unessayed', 'unestablished', 'unesteemed', 'unestimated', 'unestopped', 'unestranged', 'unetched', 'uneternized', 'unethylated', 'uneulogized', 'unevacuated', 'unevaded', 'unevaluated', 'unevangelized', 'unevaporated', 'uneverted', 'unevicted', 'unevidenced', 'unevinced', 'unevirated', 'uneviscerated', 'unevoked', 'unevolved', 'unexacerbated', 'unexacted', 'unexaggerated', 'unexalted', 'unexamined', 'unexampled', 'unexasperated', 'unexcavated', 'unexceeded', 'unexcelled', 'unexcepted', 'unexcerpted', 'unexchanged', 'unexcised', 'unexcited', 'unexcluded', 'unexcogitated', 'unexcommunicated', 'unexcoriated', 'unexcorticated', 'unexcreted', 'unexculpated', 'unexcused', 'unexecrated', 'unexecuted', 'unexemplified', 'unexempted', 'unexercised', 'unexerted', 'unexhaled', 'unexhausted', 'unexhibited', 'unexhilarated', 'unexhorted', 'unexhumed', 'unexiled', 'unexonerated', 'unexorcised', 'unexpanded', 'unexpected', 'unexpectorated', 'unexpeditated', 'unexpedited', 'unexpelled', 'unexpended', 'unexperienced', 'unexperimented', 'unexpiated', 'unexpired', 'unexplained', 'unexplicated', 'unexploded', 'unexploited', 'unexplored', 'unexported', 'unexposed', 'unexpounded', 'unexpressed', 'unexpropriated', 'unexpunged', 'unexpurgated', 'unextended', 'unextenuated', 'unexterminated', 'unextinguished', 'unextirpated', 'unextolled', 'unextorted', 'unextracted', 'unextradited', 'unextravasated', 'unextricated', 'unextruded', 'unexuded', 'uneyed', 'unfabled', 'unfabricated', 'unfacaded', 'unfaced', 'unfaceted', 'unfacilitated', 'unfactored', 'unfaded', 'unfagged', 'unfagoted', 'unfailed', 'unfairminded', 'unfaked', 'unfallowed', 'unfalsified', 'unfamed', 'unfamiliarized', 'unfancied', 'unfanged', 'unfanned', 'unfarced', 'unfarewelled', 'unfarmed', 'unfarrowed', 'unfarsighted', 'unfasciated', 'unfascinated', 'unfashioned', 'unfastened', 'unfathered', 'unfathomed', 'unfatigued', 'unfatted', 'unfauceted', 'unfavored', 'unfeared', 'unfeasted', 'unfeathered', 'unfeatured', 'unfecundated', 'unfed', 'unfederated', 'unfeed', 'unfeigned', 'unfelicitated', 'unfelled', 'unfellied', 'unfellowed', 'unfellowshiped', 'unfelted', 'unfenced', 'unfendered', 'unfenestrated', 'unfeoffed', 'unfermented', 'unferreted', 'unferried', 'unfertilized', 'unfestered', 'unfestooned', 'unfetched', 'unfeted', 'unfettered', 'unfettled', 'unfeudalized', 'unfeued', 'unfevered', 'unfibbed', 'unfibered', 'unfielded', 'unfigured', 'unfilched', 'unfiled', 'unfilled', 'unfilleted', 'unfilmed', 'unfiltered', 'unfiltrated', 'unfined', 'unfinessed', 'unfingered', 'unfinished', 'unfired', 'unfirmamented', 'unfished', 'unfitted', 'unfixated', 'unfixed', 'unflagged', 'unflanged', 'unflanked', 'unflated', 'unflattened', 'unflattered', 'unflaunted', 'unflavored', 'unflawed', 'unflayed', 'unflecked', 'unfledged', 'unfleeced', 'unfleshed', 'unfletched', 'unflexed', 'unflitched', 'unflogged', 'unflooded', 'unfloored', 'unflounced', 'unfloured', 'unflourished', 'unflouted', 'unflowered', 'unfluked', 'unflunked', 'unflurried', 'unflushed', 'unflustered', 'unfluted', 'unfluttered', 'unfoaled', 'unfocused', 'unfoiled', 'unfoisted', 'unfolded', 'unfoliaged', 'unfoliated', 'unfollowed', 'unfomented', 'unfondled', 'unfooled', 'unfooted', 'unforaged', 'unforced', 'unforded', 'unforeboded', 'unforecasted', 'unforeordained', 'unforeshortened', 'unforestalled', 'unforested', 'unforewarned', 'unforfeited', 'unforged', 'unforked', 'unformalized', 'unformed', 'unformulated', 'unfortified', 'unforwarded', 'unfossilized', 'unfostered', 'unfouled', 'unfounded', 'unfoundered', 'unfountained', 'unfractured', 'unframed', 'unfranchised', 'unfranked', 'unfrayed', 'unfreckled', 'unfreed', 'unfreighted', 'unfrenchified', 'unfrenzied', 'unfrequented', 'unfrictioned', 'unfried', 'unfriended', 'unfrighted', 'unfrightened', 'unfrilled', 'unfringed', 'unfrizzled', 'unfrocked', 'unfronted', 'unfrosted', 'unfrounced', 'unfructed', 'unfructified', 'unfrustrated', 'unfuddled', 'unfueled', 'unfulfilled', 'unfulled', 'unfulminated', 'unfumbled', 'unfumed', 'unfumigated', 'unfunded', 'unfurbelowed', 'unfurbished', 'unfurnished', 'unfurnitured', 'unfurred', 'unfurrowed', 'unfused', 'unfussed', 'ungabled', 'ungaged', 'ungagged', 'ungained', 'ungalvanized', 'unganged', 'ungangrened', 'ungarbed', 'ungarbled', 'ungardened', 'ungargled', 'ungarlanded', 'ungarmented', 'ungarnered', 'ungarnished', 'ungarrisoned', 'ungartered', 'ungashed', 'ungassed', 'ungathered', 'ungauged', 'ungauntleted', 'ungazetted', 'ungeared', 'ungelatinized', 'ungelded', 'ungeminated', 'ungeneraled', 'ungeneralized', 'ungenerated', 'ungenitured', 'ungentled', 'ungerminated', 'ungifted', 'ungilded', 'ungingled', 'unginned', 'ungirded', 'ungirdled', 'ungirthed', 'unglaciated', 'ungladdened', 'unglassed', 'unglazed', 'ungleaned', 'unglimpsed', 'ungloomed', 'unglorified', 'unglosed', 'unglossaried', 'unglossed', 'ungloved', 'unglozed', 'unglued', 'unglutted', 'ungnarred', 'ungoaded', 'ungodmothered', 'ungored', 'ungorged', 'ungospelized', 'ungospelled', 'ungouged', 'ungoverned', 'ungowned', 'ungraced', 'ungradated', 'ungraded', 'ungraduated', 'ungrafted', 'ungrained', 'ungrammared', 'ungranted', 'ungranulated', 'ungraphitized', 'ungrappled', 'ungrasped', 'ungrassed', 'ungrated', 'ungratified', 'ungraved', 'ungraveled', 'ungrayed', 'ungrazed', 'ungreased', 'ungreened', 'ungreeted', 'ungrieved', 'ungrilled', 'ungrimed', 'ungrizzled', 'ungroined', 'ungroomed', 'ungrooved', 'ungrounded', 'ungrouped', 'ungrubbed', 'ungrudged', 'unguaranteed', 'unguarded', 'unguerdoned', 'unguessed', 'unguiculated', 'unguided', 'unguiled', 'unguillotined', 'ungulated', 'unguled', 'ungummed', 'ungutted', 'unguyed', 'unguzzled', 'ungyved', 'unhabited', 'unhabituated', 'unhacked', 'unhackled', 'unhackneyed', 'unhafted', 'unhaggled', 'unhailed', 'unhaired', 'unhallooed', 'unhallowed', 'unhaloed', 'unhalsed', 'unhalted', 'unhaltered', 'unhalved', 'unhammered', 'unhampered', 'unhandcuffed', 'unhandicapped', 'unhandled', 'unhandseled', 'unhanged', 'unharangued', 'unharassed', 'unharbored', 'unhardened', 'unharked', 'unharmed', 'unharmonized', 'unharnessed', 'unharped', 'unharried', 'unharrowed', 'unharvested', 'unhashed', 'unhasped', 'unhasted', 'unhastened', 'unhatched', 'unhatcheled', 'unhated', 'unhatted', 'unhauled', 'unhaunted', 'unhawked', 'unhayed', 'unhazarded', 'unhazed', 'unheaded', 'unhealed', 'unheaped', 'unhearsed', 'unheated', 'unheaved', 'unhectored', 'unhedged', 'unheed', 'unheeded', 'unheeled', 'unheelpieced', 'unhefted', 'unheightened', 'unheired', 'unhelmed', 'unhelmeted', 'unhelped', 'unhelved', 'unhemmed', 'unheralded', 'unherded', 'unhewed', 'unhidated', 'unhindered', 'unhinted', 'unhipped', 'unhired', 'unhissed', 'unhitched', 'unhoarded', 'unhoaxed', 'unhocked', 'unhoed', 'unhogged', 'unhoisted', 'unhollowed', 'unhoned', 'unhoneyed', 'unhonied', 'unhonored', 'unhonoured', 'unhooded', 'unhoodwinked', 'unhoofed', 'unhooked', 'unhooped', 'unhooted', 'unhoped', 'unhopped', 'unhoppled', 'unhorizoned', 'unhorned', 'unhosed', 'unhoused', 'unhouseled', 'unhugged', 'unhulled', 'unhumanized', 'unhumbled', 'unhumbugged', 'unhumiliated', 'unhumored', 'unhumoured', 'unhunted', 'unhurdled', 'unhurled', 'unhurried', 'unhurted', 'unhusbanded', 'unhushed', 'unhusked', 'unhustled', 'unhutched', 'unhuzzaed', 'unhydrolyzed', 'unhymned', 'unhyphenated', 'unhyphened', 'unhypothecated', 'uniauriculated', 'unicarinated', 'uniced', 'unicelled', 'unicolored', 'unicornuted', 'unideaed', 'unidealized', 'unidentated', 'unidentified', 'unidirected', 'unidolized', 'unifaced', 'unified', 'uniflowered', 'uniformed', 'unignited', 'unignored', 'unilabiated', 'unillumed', 'unilluminated', 'unillumined', 'unillusioned', 'unillustrated', 'unilobed', 'unimaged', 'unimagined', 'unimbanked', 'unimbellished', 'unimbezzled', 'unimbibed', 'unimbittered', 'unimbodied', 'unimboldened', 'unimbordered', 'unimbosomed', 'unimbowed', 'unimbowered', 'unimbroiled', 'unimbrowned', 'unimbrued', 'unimbued', 'unimitated', 'unimmerged', 'unimmersed', 'unimmolated', 'unimmortalized', 'unimmured', 'unimpaired', 'unimparted', 'unimpassioned', 'unimpawned', 'unimpeached', 'unimpearled', 'unimped', 'unimpeded', 'unimpelled', 'unimplanted', 'unimplicated', 'unimplied', 'unimplored', 'unimpoisoned', 'unimported', 'unimportuned', 'unimposed', 'unimpounded', 'unimpoverished', 'unimpowered', 'unimprecated', 'unimpregnated', 'unimpressed', 'unimprinted', 'unimprisoned', 'unimpropriated', 'unimproved', 'unimprovised', 'unimpugned', 'unimpurpled', 'unimputed', 'uninaugurated', 'unincantoned', 'unincarcerated', 'unincarnated', 'unincensed', 'unincised', 'unincited', 'uninclined', 'uninclosed', 'unincluded', 'uninconvenienced', 'unincorporated', 'unincreased', 'unincubated', 'uninculcated', 'unincumbered', 'unindebted', 'unindemnified', 'unindented', 'unindentured', 'unindexed', 'unindicated', 'unindicted', 'unindividualized', 'unindividuated', 'unindorsed', 'uninduced', 'unindulged', 'unindurated', 'unindustrialized', 'uninebriated', 'uninerved', 'uninfatuated', 'uninfected', 'uninferred', 'uninfested', 'uninfiltrated', 'uninfixed', 'uninflamed', 'uninflated', 'uninflected', 'uninflicted', 'uninfluenced', 'uninfolded', 'uninformed', 'uninfracted', 'uninfringed', 'uninfuriated', 'uninfused', 'uningested', 'uningrafted', 'uningrained', 'uninhabited', 'uninhaled', 'uninherited', 'uninhibited', 'uninhumed', 'uninitialed', 'uninitialled', 'uninitiated', 'uninjected', 'uninjured', 'uninked', 'uninoculated', 'uninquired', 'uninscribed', 'uninserted', 'uninshrined', 'uninsinuated', 'uninspected', 'uninspired', 'uninspirited', 'uninspissated', 'uninstalled', 'uninstanced', 'uninstated', 'uninstigated', 'uninstilled', 'uninstituted', 'uninstructed', 'uninsulated', 'uninsulted', 'uninsured', 'unintegrated', 'unintended', 'unintercalated', 'unintercepted', 'uninterdicted', 'uninterested', 'uninterjected', 'uninterlaced', 'uninterlarded', 'uninterleaved', 'uninterlined', 'uninterlinked', 'uninterlocked', 'unintermingled', 'unintermitted', 'unintermixed', 'uninterpleaded', 'uninterpolated', 'uninterposed', 'uninterpreted', 'uninterred', 'uninterrogated', 'uninterrupted', 'unintersected', 'uninterspersed', 'uninterviewed', 'unintervolved', 'uninthroned', 'unintimated', 'unintimidated', 'unintitled', 'unintombed', 'unintoned', 'unintoxicated', 'unintrenched', 'unintrigued', 'unintroduced', 'unintromitted', 'unintruded', 'unintrusted', 'unintwined', 'uninucleated', 'uninundated', 'uninured', 'uninurned', 'uninvaded', 'uninvaginated', 'uninvalidated', 'uninveigled', 'uninvented', 'uninverted', 'uninvested', 'uninvestigated', 'uninvigorated', 'uninvited', 'uninvoiced', 'uninvoked', 'uninvolved', 'uninweaved', 'uninwrapped', 'uninwreathed', 'unioned', 'uniped', 'uniradiated', 'unironed', 'unirradiated', 'unirrigated', 'unirritated', 'unisexed', 'unisolated', 'unissued', 'unitalicized', 'united', 'unitemized', 'univied', 'univocalized', 'unjacketed', 'unjaded', 'unjagged', 'unjailed', 'unjapanned', 'unjarred', 'unjaundiced', 'unjealoused', 'unjellied', 'unjesuited', 'unjeweled', 'unjewelled', 'unjilted', 'unjogged', 'unjointed', 'unjointured', 'unjolted', 'unjostled', 'unjournalized', 'unjoyed', 'unjudged', 'unjuggled', 'unjuiced', 'unjumbled', 'unjustified', 'unjustled', 'unkamed', 'unked', 'unkeeled', 'unkembed', 'unkenned', 'unkenneled', 'unkerchiefed', 'unkeyed', 'unkicked', 'unkilled', 'unkilned', 'unkindhearted', 'unkindled', 'unkindred', 'unkinged', 'unkissed', 'unkneaded', 'unknelled', 'unknighted', 'unknitted', 'unknocked', 'unknotted', 'unkodaked', 'unkoshered', 'unlabeled', 'unlabored', 'unlaced', 'unlacerated', 'unlackeyed', 'unlacquered', 'unladled', 'unladyfied', 'unlamed', 'unlamented', 'unlampooned', 'unlanced', 'unlanded', 'unlandmarked', 'unlanguaged', 'unlanterned', 'unlapped', 'unlapsed', 'unlarded', 'unlashed', 'unlassoed', 'unlathed', 'unlathered', 'unlatinized', 'unlatticed', 'unlauded', 'unlaunched', 'unlaundered', 'unlaureled', 'unlaved', 'unlavished', 'unlawed', 'unlawlearned', 'unlawyered', 'unleached', 'unleaded', 'unleafed', 'unleagued', 'unleared', 'unlearned', 'unleased', 'unleashed', 'unleathered', 'unleaved', 'unleavened', 'unlectured', 'unled', 'unlegacied', 'unlegalized', 'unleisured', 'unlensed', 'unlessened', 'unlessoned', 'unletted', 'unlettered', 'unleveled', 'unlevied', 'unlevigated', 'unlibeled', 'unliberalized', 'unliberated', 'unlicensed', 'unlicentiated', 'unlichened', 'unlicked', 'unlidded', 'unlifted', 'unligatured', 'unlighted', 'unlightened', 'unlignified', 'unliked', 'unlimed', 'unlimited', 'unlimned', 'unlined', 'unlinked', 'unliquefied', 'unliquidated', 'unliquored', 'unlisted', 'unlistened', 'unlitigated', 'unlittered', 'unliveried', 'unloaded', 'unloaned', 'unloathed', 'unlobed', 'unlocalized', 'unlocated', 'unlocked', 'unlodged', 'unlogged', 'unlooked', 'unlooped', 'unlooted', 'unlopped', 'unlorded', 'unlotted', 'unloved', 'unlowered', 'unlubricated', 'unluffed', 'unlugged', 'unlumped', 'unlured', 'unluted', 'unluxated', 'unmacadamized', 'unmacerated', 'unmadded', 'unmaddened', 'unmagnetized', 'unmagnified', 'unmailed', 'unmaimed', 'unmaintained', 'unmaligned', 'unmalled', 'unmalted', 'unmammonized', 'unmanacled', 'unmanaged', 'unmancipated', 'unmandated', 'unmanducated', 'unmaned', 'unmaneged', 'unmangled', 'unmanicured', 'unmanifested', 'unmanipulated', 'unmanned', 'unmannered', 'unmanored', 'unmantled', 'unmanufactured', 'unmanumitted', 'unmanured', 'unmapped', 'unmarbled', 'unmarginated', 'unmarked', 'unmarketed', 'unmarled', 'unmarred', 'unmarried', 'unmarshaled', 'unmartyred', 'unmashed', 'unmasked', 'unmassacred', 'unmassed', 'unmastered', 'unmasticated', 'unmatched', 'unmated', 'unmatriculated', 'unmatted', 'unmatured', 'unmauled', 'unmeasured', 'unmeated', 'unmechanized', 'unmedaled', 'unmedalled', 'unmeddled', 'unmediated', 'unmediatized', 'unmedicated', 'unmeditated', 'unmedullated', 'unmeliorated', 'unmellowed', 'unmelodized', 'unmelted', 'unmemoired', 'unmemorialized', 'unmemoried', 'unmemorized', 'unmenaced', 'unmended', 'unmentioned', 'unmercerized', 'unmerged', 'unmerited', 'unmesmerized', 'unmetaled', 'unmetalized', 'unmetalled', 'unmetamorphosed', 'unmeted', 'unmetered', 'unmethodized', 'unmethylated', 'unmewed', 'unmidwifed', 'unmildewed', 'unmilitarized', 'unmilked', 'unmilled', 'unmillinered', 'unmilted', 'unmimicked', 'unminced', 'unminded', 'unmined', 'unmineralized', 'unmingled', 'unminimized', 'unminished', 'unministered', 'unminted', 'unminuted', 'unmiracled', 'unmired', 'unmirrored', 'unmisguided', 'unmisled', 'unmissed', 'unmissionized', 'unmistressed', 'unmistrusted', 'unmitigated', 'unmittened', 'unmixed', 'unmoaned', 'unmoated', 'unmobbed', 'unmobilized', 'unmocked', 'unmodeled', 'unmodelled', 'unmodernized', 'unmodified', 'unmodulated', 'unmoiled', 'unmolded', 'unmoldered', 'unmolested', 'unmollified', 'unmoneyed', 'unmonitored', 'unmonopolized', 'unmonumented', 'unmoored', 'unmooted', 'unmopped', 'unmoralized', 'unmordanted', 'unmortared', 'unmortgaged', 'unmortified', 'unmortised', 'unmossed', 'unmothered', 'unmotivated', 'unmotived', 'unmotorized', 'unmottled', 'unmounded', 'unmounted', 'unmourned', 'unmouthed', 'unmouthpieced', 'unmoved', 'unmowed', 'unmucilaged', 'unmudded', 'unmuddied', 'unmuddled', 'unmuffled', 'unmulcted', 'unmulled', 'unmullioned', 'unmultiplied', 'unmummied', 'unmunched', 'unmundified', 'unmunicipalized', 'unmunitioned', 'unmurmured', 'unmuscled', 'unmusked', 'unmussed', 'unmusted', 'unmustered', 'unmutated', 'unmuted', 'unmutilated', 'unmuttered', 'unmutualized', 'unmuzzled', 'unmyelinated', 'unmystified', 'unnabbed', 'unnagged', 'unnailed', 'unnaked', 'unnamed', 'unnapkined', 'unnapped', 'unnarrated', 'unnationalized', 'unnaturalized', 'unnavigated', 'unneaped', 'unneared', 'unnecessitated', 'unneeded', 'unnegated', 'unneglected', 'unnegotiated', 'unneighbored', 'unnerved', 'unnestled', 'unnetted', 'unnettled', 'unneutralized', 'unnibbed', 'unnibbied', 'unniched', 'unnicked', 'unnickeled', 'unnickelled', 'unnicknamed', 'unnimbed', 'unnipped', 'unnitrogenized', 'unnobilitated', 'unnoised', 'unnominated', 'unnoosed', 'unnosed', 'unnotched', 'unnoted', 'unnoticed', 'unnotified', 'unnourished', 'unnucleated', 'unnullified', 'unnumbered', 'unnurtured', 'unnuzzled', 'unoared', 'unobeyed', 'unobjected', 'unobligated', 'unobliged', 'unobliterated', 'unobscured', 'unobserved', 'unobsessed', 'unobstructed', 'unobtained', 'unobtruded', 'unobtunded', 'unobumbrated', 'unobverted', 'unobviated', 'unoccasioned', 'unoccluded', 'unoccupied', 'unoffended', 'unoffered', 'unofficed', 'unofficered', 'unogled', 'unoiled', 'unomened', 'unomitted', 'unoped', 'unopened', 'unoperated', 'unoperculated', 'unopined', 'unopinionated', 'unoppignorated', 'unopposed', 'unoppressed', 'unoppugned', 'unorbed', 'unorchestrated', 'unordained', 'unordered', 'unordnanced', 'unorganized', 'unoriented', 'unoriginated', 'unornamented', 'unorphaned', 'unosculated', 'unossified', 'unoutlawed', 'unoutraged', 'unoverclouded', 'unoverhauled', 'unoverleaped', 'unoverlooked', 'unoverpowered', 'unoverruled', 'unovervalued', 'unoverwhelmed', 'unowed', 'unowned', 'unoxidated', 'unoxidized', 'unoxygenated', 'unoxygenized', 'unpaced', 'unpacified', 'unpacked', 'unpadded', 'unpadlocked', 'unpaged', 'unpained', 'unpainted', 'unpaired', 'unpaled', 'unpalisaded', 'unpalisadoed', 'unpalled', 'unpalliated', 'unpalped', 'unpalsied', 'unpampered', 'unpanegyrized', 'unpaneled', 'unpanelled', 'unpanged', 'unpanniered', 'unpanoplied', 'unpapered', 'unparaded', 'unparagoned', 'unparagonized', 'unparagraphed', 'unparalleled', 'unparalyzed', 'unparaphrased', 'unparceled', 'unparcelled', 'unparched', 'unpardoned', 'unpared', 'unparented', 'unpargeted', 'unparked', 'unparliamented', 'unparodied', 'unparried', 'unparroted', 'unparsed', 'unparted', 'unparticipated', 'unparticularized', 'unpartitioned', 'unpartnered', 'unpassed', 'unpassioned', 'unpasted', 'unpasteurized', 'unpastured', 'unpatched', 'unpatented', 'unpathed', 'unpathwayed', 'unpatrolled', 'unpatronized', 'unpatted', 'unpatterned', 'unpaunched', 'unpauperized', 'unpaved', 'unpavilioned', 'unpawed', 'unpawned', 'unpealed', 'unpearled', 'unpebbled', 'unpecked', 'unpeddled', 'unpedigreed', 'unpeeled', 'unpeered', 'unpelted', 'unpenalized', 'unpenanced', 'unpenciled', 'unpencilled', 'unpenetrated', 'unpenned', 'unpennied', 'unpennoned', 'unpensioned', 'unpeopled', 'unperceived', 'unperched', 'unpercolated', 'unpercussed', 'unperfected', 'unperflated', 'unperforated', 'unperformed', 'unperfumed', 'unperiphrased', 'unperished', 'unperjured', 'unpermeated', 'unpermitted', 'unpermixed', 'unperpetrated', 'unperpetuated', 'unperplexed', 'unpersecuted', 'unpersonified', 'unpersuaded', 'unperturbed', 'unperuked', 'unperused', 'unpervaded', 'unperverted', 'unpestered', 'unpetitioned', 'unpetrified', 'unpetticoated', 'unphased', 'unphilosophized', 'unphonographed', 'unphosphatized', 'unphotographed', 'unphrased', 'unphysicked', 'unpicked', 'unpicketed', 'unpickled', 'unpictured', 'unpieced', 'unpierced', 'unpigmented', 'unpiled', 'unpilfered', 'unpillaged', 'unpillared', 'unpilled', 'unpilloried', 'unpillowed', 'unpiloted', 'unpimpled', 'unpinched', 'unpinioned', 'unpinked', 'unpinned', 'unpiped', 'unpiqued', 'unpirated', 'unpitched', 'unpitied', 'unpitted', 'unplacated', 'unplaced', 'unplagiarized', 'unplagued', 'unplained', 'unplaited', 'unplaned', 'unplanished', 'unplanked', 'unplanned', 'unplanted', 'unplashed', 'unplastered', 'unplated', 'unplatted', 'unplayed', 'unpleached', 'unpleaded', 'unpleased', 'unpleated', 'unpledged', 'unplenished', 'unplied', 'unplighted', 'unplotted', 'unploughed', 'unplowed', 'unplucked', 'unplugged', 'unplumbed', 'unplumed', 'unplummeted', 'unplundered', 'unplunged', 'unpoached', 'unpocketed', 'unpodded', 'unpoeticized', 'unpoetized', 'unpointed', 'unpoised', 'unpoisoned', 'unpolarized', 'unpoled', 'unpoliced', 'unpolicied', 'unpolished', 'unpollarded', 'unpolled', 'unpolluted', 'unpolymerized', 'unpondered', 'unpooled', 'unpopulated', 'unportended', 'unportioned', 'unportmanteaued', 'unportraited', 'unportrayed', 'unposed', 'unpossessed', 'unposted', 'unpostered', 'unpostmarked', 'unpostponed', 'unpostulated', 'unpotted', 'unpouched', 'unpoulticed', 'unpounced', 'unpounded', 'unpoured', 'unpowdered', 'unpracticed', 'unpraised', 'unpranked', 'unprayed', 'unpreached', 'unprecautioned', 'unpreceded', 'unprecedented', 'unprecipitated', 'unprecluded', 'unpredestinated', 'unpredestined', 'unpredicated', 'unpredicted', 'unpredisposed', 'unpreened', 'unprefaced', 'unpreferred', 'unprefigured', 'unprefined', 'unprefixed', 'unprejudged', 'unprejudicated', 'unprejudiced', 'unpreluded', 'unpremeditated', 'unpremonished', 'unpremonstrated', 'unprenominated', 'unprenticed', 'unpreoccupied', 'unpreordained', 'unprepared', 'unpreponderated', 'unpresaged', 'unpresbyterated', 'unprescinded', 'unprescribed', 'unpresented', 'unpreserved', 'unpressed', 'unpresumed', 'unpresupposed', 'unpretended', 'unpretermitted', 'unprevented', 'unpriced', 'unpricked', 'unprickled', 'unprimed', 'unprimmed', 'unprincipled', 'unprinted', 'unprisoned', 'unprivileged', 'unprized', 'unprobated', 'unprobed', 'unprocessed', 'unproclaimed', 'unprocrastinated', 'unprocreated', 'unproctored', 'unprocured', 'unproded', 'unproduced', 'unprofaned', 'unprofessed', 'unproffered', 'unprofited', 'unprognosticated', 'unprogressed', 'unprohibited', 'unprojected', 'unprologued', 'unprolonged', 'unpromised', 'unpromoted', 'unprompted', 'unpromulgated', 'unpronounced', 'unpropagated', 'unpropelled', 'unpropertied', 'unprophesied', 'unpropitiated', 'unproportioned', 'unproposed', 'unpropounded', 'unpropped', 'unprorogued', 'unproscribed', 'unprosecuted', 'unproselyted', 'unprospected', 'unprospered', 'unprostituted', 'unprostrated', 'unprotected', 'unprotested', 'unprotruded', 'unproved', 'unprovided', 'unprovidenced', 'unprovisioned', 'unprovoked', 'unpruned', 'unpublished', 'unpuckered', 'unpuddled', 'unpuffed', 'unpulled', 'unpulleyed', 'unpulped', 'unpulverized', 'unpulvinated', 'unpumicated', 'unpummeled', 'unpummelled', 'unpumped', 'unpunched', 'unpunctated', 'unpunctuated', 'unpunished', 'unpurchased', 'unpurged', 'unpurified', 'unpurled', 'unpurloined', 'unpurpled', 'unpurported', 'unpurposed', 'unpursed', 'unpursued', 'unpurveyed', 'unpushed', 'unputrefied', 'unputtied', 'unquadded', 'unquaffed', 'unquailed', 'unqualified', 'unqualitied', 'unquantified', 'unquarantined', 'unquarreled', 'unquarrelled', 'unquarried', 'unquartered', 'unquashed', 'unquayed', 'unqueened', 'unquelled', 'unquenched', 'unqueried', 'unquested', 'unquestioned', 'unquibbled', 'unquickened', 'unquicksilvered', 'unquieted', 'unquilleted', 'unquilted', 'unquitted', 'unquivered', 'unquizzed', 'unquoted', 'unrabbeted', 'unraced', 'unracked', 'unradiated', 'unraffled', 'unraftered', 'unraided', 'unrailed', 'unrailroaded', 'unrailwayed', 'unraised', 'unraked', 'unrallied', 'unramified', 'unrammed', 'unramped', 'unranched', 'unrancored', 'unranked', 'unransacked', 'unransomed', 'unraped', 'unraptured', 'unrarefied', 'unrasped', 'unrated', 'unratified', 'unrattled', 'unravaged', 'unraveled', 'unravelled', 'unravished', 'unrayed', 'unrazed', 'unrazored', 'unreached', 'unrealized', 'unrealmed', 'unreaped', 'unreared', 'unreasoned', 'unrebated', 'unrebuked', 'unrebutted', 'unrecalled', 'unrecanted', 'unrecaptured', 'unreceipted', 'unreceived', 'unreciprocated', 'unrecited', 'unrecked', 'unreckoned', 'unreclaimed', 'unreclined', 'unrecognized', 'unrecoined', 'unrecollected', 'unrecompensed', 'unreconciled', 'unreconnoitered', 'unreconsidered', 'unreconstructed', 'unrecorded', 'unrecounted', 'unrecovered', 'unrecreated', 'unrecruited', 'unrectified', 'unrecuperated', 'unred', 'unredacted', 'unredeemed', 'unredressed', 'unreduced', 'unreefed', 'unreeled', 'unreferenced', 'unreferred', 'unrefilled', 'unrefined', 'unrefitted', 'unreflected', 'unreformed', 'unrefracted', 'unrefrained', 'unrefreshed', 'unrefrigerated', 'unrefunded', 'unrefused', 'unrefuted', 'unregained', 'unregaled', 'unregarded', 'unregimented', 'unregistered', 'unregretted', 'unregulated', 'unregurgitated', 'unrehabilitated', 'unrehearsed', 'unreimbodied', 'unreined', 'unreinstated', 'unreiterated', 'unrejoiced', 'unrejuvenated', 'unrelated', 'unrelaxed', 'unreleased', 'unrelegated', 'unrelented', 'unrelieved', 'unreligioned', 'unrelinquished', 'unrelished', 'unremanded', 'unremarked', 'unremarried', 'unremedied', 'unremembered', 'unreminded', 'unremitted', 'unremonstrated', 'unremounted', 'unremoved', 'unremunerated', 'unrendered', 'unrenewed', 'unrenounced', 'unrenovated', 'unrenowned', 'unrented', 'unreorganized', 'unrepaired', 'unreparted', 'unrepealed', 'unrepeated', 'unrepelled', 'unrepented', 'unrepined', 'unrepiqued', 'unreplaced', 'unreplenished', 'unreplevined', 'unreplied', 'unreported', 'unreposed', 'unrepossessed', 'unreprehended', 'unrepresented', 'unrepressed', 'unreprieved', 'unreprimanded', 'unreprinted', 'unreproached', 'unreprobated', 'unreproved', 'unrepudiated', 'unrepulsed', 'unreputed', 'unrequalified', 'unrequested', 'unrequickened', 'unrequired', 'unrequited', 'unrescinded', 'unrescued', 'unresented', 'unreserved', 'unresifted', 'unresigned', 'unresisted', 'unresolved', 'unresounded', 'unrespected', 'unrespired', 'unrespited', 'unrested', 'unrestored', 'unrestrained', 'unrestricted', 'unresumed', 'unretained', 'unretaliated', 'unretarded', 'unretinued', 'unretired', 'unretorted', 'unretouched', 'unretracted', 'unretrenched', 'unretrieved', 'unretted', 'unreturned', 'unrevealed', 'unrevenged', 'unrevenued', 'unreverberated', 'unrevered', 'unreverenced', 'unreversed', 'unreverted', 'unrevested', 'unrevetted', 'unreviewed', 'unreviled', 'unrevised', 'unrevived', 'unrevoked', 'unrevolted', 'unrevolutionized', 'unrevolved', 'unrewarded', 'unreworded', 'unrhymed', 'unribbed', 'unribboned', 'unriched', 'unricked', 'unriddled', 'unridered', 'unridged', 'unridiculed', 'unriffled', 'unrifled', 'unrifted', 'unrigged', 'unrighted', 'unrimpled', 'unringed', 'unrinsed', 'unrioted', 'unriped', 'unripened', 'unripped', 'unrippled', 'unrisked', 'unrivaled', 'unrived', 'unriveted', 'unroaded', 'unroasted', 'unrobbed', 'unrobed', 'unrocked', 'unrodded', 'unroiled', 'unrolled', 'unromanticized', 'unroofed', 'unroosted', 'unrooted', 'unroped', 'unrosed', 'unrosined', 'unrostrated', 'unrotated', 'unroted', 'unrotted', 'unrouged', 'unroughened', 'unrounded', 'unroused', 'unrouted', 'unroved', 'unrowed', 'unroweled', 'unroyalized', 'unrubbed', 'unrubified', 'unrubricated', 'unruddered', 'unruddled', 'unruffed', 'unruffled', 'unrugged', 'unruinated', 'unruined', 'unruled', 'unruminated', 'unrummaged', 'unrumored', 'unrumpled', 'unruptured', 'unrushed', 'unrusted', 'unrusticated', 'unsabered', 'unsabled', 'unsabred', 'unsacked', 'unsacred', 'unsacrificed', 'unsaddened', 'unsaddled', 'unsafeguarded', 'unsailed', 'unsainted', 'unsalaried', 'unsalivated', 'unsalted', 'unsaluted', 'unsalvaged', 'unsalved', 'unsampled', 'unsanctified', 'unsanctioned', 'unsanctuaried', 'unsandaled', 'unsanded', 'unsanitated', 'unsaponified', 'unsapped', 'unsashed', 'unsated', 'unsatiated', 'unsatirized', 'unsatisfied', 'unsaturated', 'unsauced', 'unsaved', 'unsavored', 'unsawed', 'unscabbarded', 'unscabbed', 'unscaffolded', 'unscaled', 'unscalloped', 'unscamped', 'unscandalized', 'unscanned', 'unscanted', 'unscared', 'unscarfed', 'unscarified', 'unscarred', 'unscathed', 'unscattered', 'unscavengered', 'unscented', 'unsceptered', 'unsceptred', 'unscheduled', 'unschematized', 'unschooled', 'unscienced', 'unscioned', 'unscissored', 'unscoffed', 'unscolded', 'unsconced', 'unscooped', 'unscorched', 'unscored', 'unscorified', 'unscorned', 'unscotched', 'unscoured', 'unscourged', 'unscraped', 'unscratched', 'unscrawled', 'unscreened', 'unscrewed', 'unscribbled', 'unscribed', 'unscrimped', 'unscrubbed', 'unscrupled', 'unscrutinized', 'unsculptured', 'unscummed', 'unscutcheoned', 'unsealed', 'unseamed', 'unsearched', 'unseared', 'unseasoned', 'unseated', 'unsecluded', 'unseconded', 'unsecreted', 'unsecularized', 'unsecured', 'unseduced', 'unseeded', 'unseethed', 'unsegmented', 'unsegregated', 'unseized', 'unselected', 'unsensed', 'unsensitized', 'unsensualized', 'unsentenced', 'unsentineled', 'unsentinelled', 'unseparated', 'unseptated', 'unsepulchered', 'unsepulchred', 'unsepultured', 'unsequenced', 'unsequestered', 'unserenaded', 'unserrated', 'unserried', 'unserved', 'unsettled', 'unsevered', 'unsewed', 'unsewered', 'unsexed', 'unshackled', 'unshaded', 'unshadowed', 'unshafted', 'unshaled', 'unshamed', 'unshamefaced', 'unshammed', 'unshanked', 'unshaped', 'unshared', 'unsharped', 'unsharpened', 'unshattered', 'unshaved', 'unsheared', 'unsheathed', 'unshed', 'unsheeted', 'unshelled', 'unsheltered', 'unshepherded', 'unshewed', 'unshielded', 'unshifted', 'unshingled', 'unshipped', 'unshipwrecked', 'unshirted', 'unshivered', 'unshocked', 'unshoed', 'unshored', 'unshortened', 'unshotted', 'unshouted', 'unshoved', 'unshoveled', 'unshowed', 'unshredded', 'unshrined', 'unshrived', 'unshriveled', 'unshrivelled', 'unshrouded', 'unshrubbed', 'unshuffled', 'unshunned', 'unshunted', 'unshuttered', 'unsiccated', 'unsickened', 'unsickled', 'unsided', 'unsifted', 'unsighted', 'unsignaled', 'unsignalized', 'unsignalled', 'unsignatured', 'unsigned', 'unsigneted', 'unsignified', 'unsilenced', 'unsilicified', 'unsilvered', 'unsimplified', 'unsimulated', 'unsinewed', 'unsinged', 'unsingled', 'unsipped', 'unsistered', 'unsized', 'unsketched', 'unskewed', 'unskewered', 'unskilled', 'unskimmed', 'unskinned', 'unskirted', 'unslacked', 'unslackened', 'unslagged', 'unslaked', 'unslammed', 'unslandered', 'unslapped', 'unslashed', 'unslated', 'unslaughtered', 'unsleaved', 'unsleeved', 'unsliced', 'unslighted', 'unslipped', 'unslockened', 'unsloped', 'unslopped', 'unslotted', 'unsloughed', 'unsluiced', 'unslurred', 'unsmacked', 'unsmeared', 'unsmelled', 'unsmelted', 'unsmiled', 'unsmirched', 'unsmoked', 'unsmokified', 'unsmoothed', 'unsmothered', 'unsmudged', 'unsmuggled', 'unsmutched', 'unsmutted', 'unsnaffled', 'unsnagged', 'unsnaggled', 'unsnapped', 'unsnared', 'unsnatched', 'unsnipped', 'unsnouted', 'unsnubbed', 'unsnuffed', 'unsoaked', 'unsoaped', 'unsocialized', 'unsoftened', 'unsoiled', 'unsolaced', 'unsoldered', 'unsoldiered', 'unsoled', 'unsolemnized', 'unsolicitated', 'unsolicited', 'unsolidified', 'unsolved', 'unsonneted', 'unsoothed', 'unsophisticated', 'unsorrowed', 'unsorted', 'unsotted', 'unsounded', 'unsoured', 'unsoused', 'unsowed', 'unspaced', 'unspaded', 'unspangled', 'unspanked', 'unspanned', 'unspared', 'unsparred', 'unspattered', 'unspawned', 'unspayed', 'unspeared', 'unspecialized', 'unspecified', 'unspecked', 'unspeckled', 'unspectacled', 'unsped', 'unspeed', 'unspeered', 'unspelled', 'unspewed', 'unsphered', 'unspiced', 'unspied', 'unspired', 'unspirited', 'unspiritualized', 'unspissated', 'unspited', 'unspitted', 'unsplashed', 'unsplattered', 'unsplayed', 'unspleened', 'unspliced', 'unsplinted', 'unsplintered', 'unspoiled', 'unsponged', 'unsponsored', 'unsported', 'unspotlighted', 'unspotted', 'unspoused', 'unspouted', 'unsprained', 'unsprayed', 'unsprinkled', 'unsprinklered', 'unsprouted', 'unspruced', 'unspurned', 'unspurred', 'unsquandered', 'unsquared', 'unsquashed', 'unsqueezed', 'unsquelched', 'unsquired', 'unsquirted', 'unstabbed', 'unstabled', 'unstablished', 'unstacked', 'unstaffed', 'unstaged', 'unstaggered', 'unstained', 'unstaled', 'unstalked', 'unstalled', 'unstamped', 'unstampeded', 'unstandardized', 'unstarched', 'unstarred', 'unstarted', 'unstartled', 'unstarved', 'unstated', 'unstationed', 'unstatued', 'unstaunched', 'unstaved', 'unstayed', 'unsteadied', 'unsteamed', 'unstecked', 'unsteeled', 'unsteeped', 'unsteepled', 'unsteered', 'unstemmed', 'unstercorated', 'unstereotyped', 'unsterilized', 'unstethoscoped', 'unstewed', 'unstiffened', 'unstifled', 'unstigmatized', 'unstilled', 'unstilted', 'unstimulated', 'unstinged', 'unstinted', 'unstippled', 'unstipulated', 'unstirred', 'unstitched', 'unstocked', 'unstockinged', 'unstoked', 'unstoned', 'unstopped', 'unstoppered', 'unstored', 'unstoried', 'unstormed', 'unstoved', 'unstowed', 'unstraddled', 'unstrafed', 'unstraightened', 'unstrained', 'unstraitened', 'unstranded', 'unstrangered', 'unstrangled', 'unstrapped', 'unstratified', 'unstreaked', 'unstrengthened', 'unstressed', 'unstretched', 'unstrewed', 'unstriated', 'unstrictured', 'unstringed', 'unstriped', 'unstripped', 'unstroked', 'unstubbed', 'unstuccoed', 'unstudded', 'unstudied', 'unstuffed', 'unstultified', 'unstunned', 'unstunted', 'unstupefied', 'unstuttered', 'unstyled', 'unsubdivided', 'unsubducted', 'unsubdued', 'unsubjected', 'unsubjugated', 'unsublimated', 'unsublimed', 'unsubmerged', 'unsubmitted', 'unsubordinated', 'unsuborned', 'unsubpoenaed', 'unsubscribed', 'unsubsided', 'unsubsidized', 'unsubstanced', 'unsubstantiated', 'unsubstituted', 'unsubtracted', 'unsubventioned', 'unsubventionized', 'unsubverted', 'unsucceeded', 'unsuccored', 'unsucked', 'unsuckled', 'unsued', 'unsuffered', 'unsufficed', 'unsufflated', 'unsuffocated', 'unsuffused', 'unsugared', 'unsuggested', 'unsuited', 'unsullied', 'unsulphonated', 'unsulphurized', 'unsummarized', 'unsummed', 'unsummered', 'unsummoned', 'unsunburned', 'unsundered', 'unsunned', 'unsuperannuated', 'unsupernaturalized', 'unsuperscribed', 'unsuperseded', 'unsupervised', 'unsupped', 'unsupplanted', 'unsuppled', 'unsupplemented', 'unsupplicated', 'unsupplied', 'unsupported', 'unsupposed', 'unsuppressed', 'unsuppurated', 'unsurcharged', 'unsurfaced', 'unsurfeited', 'unsurmised', 'unsurmounted', 'unsurnamed', 'unsurpassed', 'unsurpliced', 'unsurprised', 'unsurrendered', 'unsurrounded', 'unsurveyed', 'unsurvived', 'unsuspected', 'unsuspended', 'unsustained', 'unsutured', 'unswabbed', 'unswaddled', 'unswallowed', 'unswapped', 'unswathed', 'unswayed', 'unsweated', 'unsweetened', 'unswelled', 'unsweltered', 'unswerved', 'unswilled', 'unswingled', 'unswitched', 'unsyllabled', 'unsymbolized', 'unsymmetrized', 'unsympathized', 'unsynchronized', 'unsyncopated', 'unsyndicated', 'unsyringed', 'unsystematized', 'untabernacled', 'untabled', 'untabulated', 'untacked', 'untackled', 'untagged', 'untailed', 'untainted', 'untalented', 'untalked', 'untallied', 'untallowed', 'untamed', 'untampered', 'untangled', 'untanned', 'untantalized', 'untaped', 'untapered', 'untapestried', 'untapped', 'untarnished', 'untarred', 'untarried', 'untartarized', 'untasked', 'untasseled', 'untasted', 'untattered', 'untattooed', 'untaunted', 'untawed', 'untaxed', 'unteamed', 'unteased', 'unteasled', 'untedded', 'unteethed', 'untelegraphed', 'untempered', 'untempested', 'untempled', 'untempted', 'untenanted', 'untended', 'untendered', 'untented', 'untentered', 'unterminated', 'unterraced', 'unterrified', 'unterrorized', 'untessellated', 'untested', 'untethered', 'untewed', 'unthanked', 'unthatched', 'unthawed', 'unthickened', 'unthinned', 'unthoughted', 'unthralled', 'unthrashed', 'unthreaded', 'unthreatened', 'unthreshed', 'unthrilled', 'unthroned', 'unthronged', 'unthrottled', 'unthumbed', 'unthumped', 'unthundered', 'unthwacked', 'unthwarted', 'untiaraed', 'unticketed', 'untickled', 'untied', 'untiled', 'untilled', 'untilted', 'untimbered', 'untimed', 'untinctured', 'untinged', 'untinkered', 'untinned', 'untinseled', 'untinted', 'untipped', 'untippled', 'untired', 'untissued', 'untithed', 'untitled', 'untoasted', 'untogaed', 'untoiled', 'untoileted', 'untolerated', 'untombed', 'untoned', 'untongued', 'untonsured', 'untooled', 'untoothed', 'untopped', 'untormented', 'untorpedoed', 'untortured', 'untossed', 'untotaled', 'untotalled', 'untouched', 'untoured', 'untouristed', 'untowered', 'untraced', 'untraceried', 'untracked', 'untraded', 'untraduced', 'untrafficked', 'untrailed', 'untrained', 'untraitored', 'untrammed', 'untrammeled', 'untramped', 'untrampled', 'untranquilized', 'untranquillized', 'untransacted', 'untranscended', 'untranscribed', 'untransferred', 'untransfigured', 'untransfixed', 'untransformed', 'untransfused', 'untransgressed', 'untranslated', 'untransmigrated', 'untransmitted', 'untransmuted', 'untranspired', 'untransplanted', 'untransported', 'untransposed', 'untransubstantiated', 'untrapped', 'untrashed', 'untraveled', 'untraversed', 'untravestied', 'untreasured', 'untreated', 'untreed', 'untrekked', 'untrellised', 'untrenched', 'untrepanned', 'untrespassed', 'untressed', 'untriced', 'untricked', 'untried', 'untrimmed', 'untripped', 'untriturated', 'untriumphed', 'untrolled', 'untrophied', 'untrotted', 'untroubled', 'untrounced', 'untrowed', 'untruckled', 'untrumped', 'untrumpeted', 'untrundled', 'untrunked', 'untrussed', 'untrusted', 'untubbed', 'untucked', 'untuckered', 'untufted', 'untugged', 'untumbled', 'untumefied', 'untuned', 'untunneled', 'untupped', 'unturbaned', 'unturfed', 'unturned', 'unturpentined', 'unturreted', 'untusked', 'untutored', 'untwilled', 'untwined', 'untwinned', 'untwirled', 'untwisted', 'untwitched', 'unulcerated', 'unumpired', 'ununified', 'ununiformed', 'ununited', 'unupholstered', 'unurged', 'unurned', 'unused', 'unushered', 'unusurped', 'unuttered', 'unvaccinated', 'unvaleted', 'unvalidated', 'unvalued', 'unvamped', 'unvanquished', 'unvantaged', 'unvaporized', 'unvaried', 'unvariegated', 'unvarnished', 'unvatted', 'unvaulted', 'unvaunted', 'unveiled', 'unveined', 'unvended', 'unveneered', 'unvenerated', 'unvenged', 'unvenomed', 'unvented', 'unventilated', 'unventured', 'unvenued', 'unverbalized', 'unverdured', 'unverified', 'unvermiculated', 'unversed', 'unversified', 'unvesseled', 'unvested', 'unvetoed', 'unvexed', 'unvibrated', 'unvictimized', 'unvictualed', 'unvictualled', 'unviewed', 'unvilified', 'unvillaged', 'unvindicated', 'unvintaged', 'unviolated', 'unviolenced', 'unviolined', 'unvisioned', 'unvisited', 'unvisored', 'unvisualized', 'unvitalized', 'unvitiated', 'unvitrified', 'unvitriolized', 'unvituperated', 'unvivified', 'unvizarded', 'unvocalized', 'unvoiced', 'unvoided', 'unvolatilized', 'unvolitioned', 'unvomited', 'unvoted', 'unvouched', 'unvouchsafed', 'unvowed', 'unvoweled', 'unvulcanized', 'unvulgarized', 'unwadded', 'unwaded', 'unwafted', 'unwaged', 'unwagered', 'unwagged', 'unwailed', 'unwainscoted', 'unwaited', 'unwaked', 'unwakened', 'unwalked', 'unwalled', 'unwallowed', 'unwandered', 'unwanted', 'unwarbled', 'unwarmed', 'unwarned', 'unwarnished', 'unwarped', 'unwarranted', 'unwashed', 'unwasted', 'unwatched', 'unwatered', 'unwatermarked', 'unwattled', 'unwaved', 'unwavered', 'unwaxed', 'unwayed', 'unweakened', 'unweaned', 'unweaponed', 'unwearied', 'unweathered', 'unwebbed', 'unwed', 'unwedded', 'unwedged', 'unweeded', 'unweened', 'unweighed', 'unweighted', 'unwelcomed', 'unwelded', 'unwelted', 'unwesternized', 'unwetted', 'unwheedled', 'unwheeled', 'unwhelmed', 'unwhelped', 'unwhetted', 'unwhipped', 'unwhirled', 'unwhisked', 'unwhiskered', 'unwhispered', 'unwhistled', 'unwhited', 'unwhitened', 'unwhitewashed', 'unwidened', 'unwidowed', 'unwifed', 'unwigged', 'unwilled', 'unwilted', 'unwindowed', 'unwinged', 'unwinnowed', 'unwiped', 'unwired', 'unwished', 'unwitched', 'unwithered', 'unwitnessed', 'unwitted', 'unwived', 'unwomanized', 'unwonted', 'unwooded', 'unwooed', 'unworked', 'unwormed', 'unworried', 'unworshiped', 'unworshipped', 'unwounded', 'unwrapped', 'unwreaked', 'unwreathed', 'unwrecked', 'unwrenched', 'unwrested', 'unwrestled', 'unwretched', 'unwriggled', 'unwrinkled', 'unwronged', 'unyeaned', 'unyearned', 'unyielded', 'unyoked', 'unzoned', 'upbred', 'upbreed', 'upfeed', 'upfingered', 'uphearted', 'upholstered', 'uplifted', 'upsetted', 'upsighted', 'upspeed', 'uptwined', 'urled', 'used', 'vacanthearted', 'vacuolated', 'vaginated', 'valanced', 'vallated', 'valued', 'valved', 'vambraced', 'vamped', 'vaned', 'vanitied', 'vapored', 'vareheaded', 'varicated', 'varicolored', 'varicosed', 'varied', 'variegated', 'variformed', 'variotinted', 'varnished', 'varved', 'vasculated', 'vaulted', 'vaunted', 'veiled', 'veined', 'velated', 'velveted', 'velveteened', 'velvetseed', 'velvetweed', 'venomed', 'verandaed', 'verdured', 'vermiculated', 'verriculated', 'verrucated', 'versed', 'versicolored', 'vertebrated', 'verticillated', 'veruled', 'verveled', 'vesseled', 'vestibuled', 'vestmented', 'vexed', 'viduated', 'vilehearted', 'vinaigretted', 'vined', 'vinegarweed', 'vingerhoed', 'virgated', 'viroled', 'virtued', 'virulented', 'visaged', 'visioned', 'vistaed', 'vitiated', 'vitrailed', 'vizarded', 'vocabularied', 'voiced', 'voided', 'volumed', 'voluted', 'vowed', 'waged', 'waistcoated', 'waisted', 'waled', 'walled', 'walleyed', 'waned', 'warbled', 'warded', 'warehoused', 'warmed', 'warmhearted', 'warped', 'warranted', 'warted', 'wartweed', 'washed', 'washshed', 'wasted', 'watched', 'watered', 'waterlogged', 'watershed', 'waterweed', 'wattled', 'waved', 'waxhearted', 'waxweed', 'weakbrained', 'weakhanded', 'weakhearted', 'weakmouthed', 'weaponed', 'wearied', 'weathered', 'weatherheaded', 'weatherproofed', 'weaved', 'weazened', 'webbed', 'wed', 'wedbed', 'wedded', 'wedged', 'weed', 'weeded', 'weelfaured', 'weepered', 'weeviled', 'wefted', 'weighed', 'weighted', 'welted', 'wetched', 'wetted', 'whaleboned', 'wheateared', 'wheeled', 'whelked', 'wheyfaced', 'whimsied', 'whipped', 'whirled', 'whiskerandoed', 'whiskered', 'whiskied', 'whiskified', 'whiskyfied', 'whispered', 'whited', 'whitehanded', 'whitehearted', 'whiteweed', 'wholehearted', 'whorled', 'wicked', 'wickerworked', 'widehearted', 'widemouthed', 'widowed', 'widowered', 'wigged', 'wilded', 'willed', 'willinghearted', 'willowed', 'willowweed', 'windbagged', 'winded', 'windgalled', 'wined', 'winged', 'winghanded', 'wingseed', 'winkered', 'wintered', 'winterfeed', 'winterweed', 'wired', 'wireweed', 'wiseacred', 'wisehearted', 'wiseweed', 'wished', 'wistened', 'witched', 'witchweed', 'withered', 'witted', 'wittified', 'wizened', 'womanhearted', 'wombed', 'wonned', 'wonted', 'woodbined', 'wooded', 'woodenheaded', 'woodlocked', 'woodshed', 'woofed', 'wooled', 'woolshed', 'woolweed', 'worded', 'worked', 'workhoused', 'worlded', 'wormed', 'wormholed', 'wormseed', 'wormweed', 'worried', 'worsted', 'wounded', 'wrapped', 'wreathed', 'wrenched', 'wretched', 'wried', 'wrinkled', 'wristed', 'writhed', 'wrizzled', 'wronged', 'wrongheaded', 'wronghearted', 'yapped', 'yawweed', 'yed', 'yellowseed', 'yellowweed', 'yolked', 'younghearted', 'zagged', 'zed', 'zeed', 'zigzagged', 'zonated', 'zoned']\n"
     ]
    }
   ],
   "source": [
    "print([w for w in word_list if re.search('ed$', w)])\n",
    "#The '$' character marks the end of the character. Finds words ending with 'ed'"
   ]
  },
  {
   "cell_type": "markdown",
   "metadata": {},
   "source": [
    "**The '.'(dot) wildcard symbol matches any single character**. To find letters with j as third letter and t as sixth letter we would do the following."
   ]
  },
  {
   "cell_type": "code",
   "execution_count": 18,
   "metadata": {},
   "outputs": [
    {
     "name": "stdout",
     "output_type": "stream",
     "text": [
      "['abject', 'adject', 'adjust', 'bejant', 'deject', 'inject', 'object', 'reject', 'rejolt', 'sejant', 'unjust']\n"
     ]
    }
   ],
   "source": [
    "print([w for w in word_list if re.search('^..j..t$',w)]) #The '^'(caret symbol) marks the start of the word"
   ]
  },
  {
   "cell_type": "code",
   "execution_count": 19,
   "metadata": {},
   "outputs": [
    {
     "name": "stdout",
     "output_type": "stream",
     "text": [
      "['abject', 'abjectedness', 'abjection', 'abjective', 'abjectly', 'abjectness', 'adject', 'adjection', 'adjectional', 'adjectival', 'adjectivally', 'adjective', 'adjectively', 'adjectivism', 'adjectivitis', 'adjust', 'adjustable', 'adjustably', 'adjustage', 'adjustation', 'adjuster', 'adjustive', 'adjustment', 'antejentacular', 'antiprojectivity', 'bejant', 'bemajesty', 'bijouterie', 'coadjust', 'coadjustment', 'cojusticiar', 'conject', 'conjective', 'conjecturable', 'conjecturably', 'conjectural', 'conjecturalist', 'conjecturality', 'conjecturally', 'conjecture', 'conjecturer', 'coprojector', 'cosubject', 'counterobjection', 'counterproject', 'countersubject', 'deject', 'dejecta', 'dejected', 'dejectedly', 'dejectedness', 'dejectile', 'dejection', 'dejectly', 'dejectory', 'dejecture', 'disadjust', 'disject', 'disjection', 'guanajuatite', 'inadjustability', 'inadjustable', 'inject', 'injectable', 'injection', 'injector', 'injustice', 'insubjection', 'interject', 'interjection', 'interjectional', 'interjectionalize', 'interjectionally', 'interjectionary', 'interjectionize', 'interjectiveness', 'interjector', 'interjectorily', 'interjectory', 'interjectural', 'interobjective', 'intersubjective', 'introject', 'introjection', 'introjective', 'majestic', 'majestical', 'majestically', 'majesticalness', 'majesticness', 'majestious', 'majesty', 'majestyship', 'maladjust', 'maladjusted', 'maladjustive', 'maladjustment', 'microinjection', 'microprojector', 'misadjust', 'misconjecture', 'munjeet', 'munjistin', 'naujaite', 'nonadjectival', 'nonadjustable', 'nonadjustive', 'nonadjustment', 'nonconjectural', 'nonejection', 'nonobjection', 'nonobjective', 'nonprojection', 'nonprojective', 'nonprojectively', 'nonrejection', 'nonsubject', 'nonsubjective', 'object', 'objectable', 'objectation', 'objectative', 'objectee', 'objecthood', 'objectification', 'objectify', 'objection', 'objectionability', 'objectionable', 'objectionableness', 'objectionably', 'objectional', 'objectioner', 'objectionist', 'objectival', 'objectivate', 'objectivation', 'objective', 'objectively', 'objectiveness', 'objectivism', 'objectivist', 'objectivistic', 'objectivity', 'objectivize', 'objectization', 'objectize', 'objectless', 'objectlessly', 'objectlessness', 'objector', 'outjest', 'outjetting', 'overjust', 'overjutting', 'overobjectify', 'preadjectival', 'preadjective', 'preadjust', 'preadjustable', 'preadjustment', 'preconjecture', 'prejustification', 'prejustify', 'preobject', 'preobjection', 'preobjective', 'prereject', 'prerejection', 'presubject', 'presubjection', 'project', 'projectable', 'projectedly', 'projectile', 'projecting', 'projectingly', 'projection', 'projectional', 'projectionist', 'projective', 'projectively', 'projectivity', 'projector', 'projectress', 'projectrix', 'projecture', 'readjust', 'readjustable', 'readjuster', 'readjustment', 'reinject', 'reject', 'rejectable', 'rejectableness', 'rejectage', 'rejectamenta', 'rejecter', 'rejectingly', 'rejection', 'rejective', 'rejectment', 'rejector', 'rejolt', 'rejustification', 'rejustify', 'reobject', 'reobjectivization', 'reobjectivize', 'resubject', 'resubjection', 'retroject', 'retrojection', 'sejant', 'semiadjectively', 'subject', 'subjectability', 'subjectable', 'subjectdom', 'subjected', 'subjectedly', 'subjectedness', 'subjecthood', 'subjectibility', 'subjectible', 'subjectification', 'subjectify', 'subjectile', 'subjection', 'subjectional', 'subjectist', 'subjective', 'subjectively', 'subjectiveness', 'subjectivism', 'subjectivist', 'subjectivistic', 'subjectivistically', 'subjectivity', 'subjectivize', 'subjectivoidealistic', 'subjectless', 'subjectlike', 'subjectness', 'subjectship', 'superdejection', 'superinjustice', 'superjustification', 'superobject', 'superobjection', 'superobjectionable', 'swarajist', 'teleobjective', 'traject', 'trajectile', 'trajection', 'trajectitious', 'trajectory', 'transsubjective', 'turjaite', 'unabject', 'unadjectived', 'unadjust', 'unadjustably', 'unadjusted', 'unadjustment', 'unconjecturable', 'unconjectured', 'undejected', 'underadjustment', 'unejected', 'uninjectable', 'uninjected', 'uninterjected', 'unjesting', 'unjilted', 'unjolted', 'unjostled', 'unjust', 'unjustice', 'unjusticiable', 'unjustifiable', 'unjustifiableness', 'unjustifiably', 'unjustified', 'unjustifiedly', 'unjustifiedness', 'unjustify', 'unjustled', 'unjustly', 'unjustness', 'unmajestic', 'unobjected', 'unobjectionable', 'unobjectionableness', 'unobjectionably', 'unobjectional', 'unobjective', 'unprojected', 'unprojecting', 'unrejectable', 'unsubject', 'unsubjectable', 'unsubjected', 'unsubjectedness', 'unsubjection', 'unsubjective', 'unsubjectlike']\n"
     ]
    }
   ],
   "source": [
    "print([w for w in word_list if re.search('..j..t',w)]) #Without he caret and the doollar symbol"
   ]
  },
  {
   "cell_type": "markdown",
   "metadata": {},
   "source": [
    "**Finally, the ? symbol specifies that the previous character is optional. Thus «^e-?mail\n",
    "$» will match both email and e-mail.**"
   ]
  },
  {
   "cell_type": "code",
   "execution_count": 20,
   "metadata": {},
   "outputs": [
    {
     "data": {
      "text/plain": [
       "0"
      ]
     },
     "execution_count": 20,
     "metadata": {},
     "output_type": "execute_result"
    }
   ],
   "source": [
    "sum(1 for w in word_list if re.search('^e-?mail$', w))"
   ]
  },
  {
   "cell_type": "code",
   "execution_count": 25,
   "metadata": {},
   "outputs": [
    {
     "ename": "ValueError",
     "evalue": "'email' is not in list",
     "output_type": "error",
     "traceback": [
      "\u001b[1;31m---------------------------------------------------------------------------\u001b[0m",
      "\u001b[1;31mValueError\u001b[0m                                Traceback (most recent call last)",
      "\u001b[1;32m<ipython-input-25-b72cad3e3db0>\u001b[0m in \u001b[0;36m<module>\u001b[1;34m()\u001b[0m\n\u001b[1;32m----> 1\u001b[1;33m \u001b[0mword_list\u001b[0m\u001b[1;33m.\u001b[0m\u001b[0mindex\u001b[0m\u001b[1;33m(\u001b[0m\u001b[1;34m'email'\u001b[0m\u001b[1;33m)\u001b[0m\u001b[1;33m\u001b[0m\u001b[0m\n\u001b[0m",
      "\u001b[1;31mValueError\u001b[0m: 'email' is not in list"
     ]
    }
   ],
   "source": [
    "word_list.index('email')"
   ]
  },
  {
   "cell_type": "code",
   "execution_count": 28,
   "metadata": {},
   "outputs": [
    {
     "data": {
      "text/plain": [
       "False"
      ]
     },
     "execution_count": 28,
     "metadata": {},
     "output_type": "execute_result"
    }
   ],
   "source": [
    "'email' in word_list"
   ]
  },
  {
   "cell_type": "markdown",
   "metadata": {},
   "source": [
    "###### Ranges and Closures"
   ]
  },
  {
   "cell_type": "markdown",
   "metadata": {},
   "source": [
    "The T9 system is used for entering text on mobile phones. Two or more words that are entered with the same sequence of keystrokes are known as textonyms. The T9 system is used for entering text on mobile phones (see Figure 3-5). Two or more\n",
    "words that are entered with the same sequence of keystrokes are known as\n",
    "textonyms. For example, both hole and golf are entered by pressing the sequence 4653.\n",
    "What other words could be produced with the same sequence? Here we use the regular\n",
    "expression «^[ghi][mno][jlk][def]$»:"
   ]
  },
  {
   "cell_type": "code",
   "execution_count": 30,
   "metadata": {},
   "outputs": [
    {
     "data": {
      "text/plain": [
       "['gold', 'golf', 'hold', 'hole']"
      ]
     },
     "execution_count": 30,
     "metadata": {},
     "output_type": "execute_result"
    }
   ],
   "source": [
    "[w for w in word_list if re.search('^[ghi][mno][jlk][def]$', w)]"
   ]
  },
  {
   "cell_type": "markdown",
   "metadata": {},
   "source": [
    "The square brackets around certain character indicates that either 1 of those characters. The sequence in the expression should be followed. first letter should either be 'g', 'h', or 'i' follwed by the second letter which can be either of 'm','n' or 'o' and so on."
   ]
  },
  {
   "cell_type": "code",
   "execution_count": 36,
   "metadata": {},
   "outputs": [
    {
     "name": "stdout",
     "output_type": "stream",
     "text": [
      "['a', 'aa', 'aal', 'aam', 'aba', 'abac', 'abaca', 'aback', 'abaff', 'abalone', 'abandon', 'abandonable', 'abandoned', 'abandonee', 'abb', 'abdal', 'abdomen', 'abeam', 'abed', 'abele', 'able', 'abloom', 'abode', 'abolla', 'aboma', 'aboon', 'academe', 'acana', 'acca', 'accede', 'accedence', 'accend', 'accolade', 'accoladed', 'accolle', 'accommodable', 'ace', 'ackman', 'acle', 'acme', 'acne', 'acnodal', 'acnode', 'acock', 'acold', 'acoma', 'acone', 'ad', 'adad', 'adance', 'add', 'adda', 'addable', 'added', 'addend', 'addenda', 'addle', 'ade', 'adead', 'adeem', 'adenocele', 'adenoma', 'adman', 'ado', 'adobe', 'ae', 'aefald', 'aenean', 'aeon', 'aface', 'affa', 'affable', 'aflame', 'afoam', 'ajaja', 'ak', 'aka', 'akala', 'ake', 'akeake', 'akee', 'aknee', 'ako', 'al', 'ala', 'alack', 'alada', 'alala', 'alameda', 'alamo', 'alan', 'aland', 'alb', 'alba', 'alban', 'albe', 'albedo', 'albee', 'alcalde', 'alcanna', 'alclad', 'alco', 'aldane', 'aldol', 'ale', 'aleak', 'alec', 'alee', 'alef', 'alem', 'alemana', 'alemmal', 'alen', 'alf', 'alfa', 'alfaje', 'alfalfa', 'aljoba', 'alk', 'alkane', 'alkene', 'alkenna', 'alkool', 'all', 'allan', 'allbone', 'allele', 'allemand', 'allemande', 'allene', 'allocable', 'alma', 'almanac', 'alme', 'almon', 'almond', 'aln', 'alo', 'alod', 'aloe', 'aloed', 'aloma', 'alone', 'aloof', 'am', 'ama', 'amakebe', 'amala', 'amalaka', 'amba', 'ambalam', 'amban', 'amble', 'ambo', 'ambomalleal', 'ambon', 'ame', 'ameed', 'ameen', 'amen', 'amenable', 'amend', 'amendable', 'amende', 'amene', 'amla', 'amma', 'amman', 'ammo', 'ammonal', 'ammono', 'amoeba', 'amoebae', 'amoebaean', 'amoeban', 'amok', 'amoke', 'amole', 'amomal', 'an', 'ana', 'anabo', 'anaconda', 'anadem', 'anal', 'analemma', 'anam', 'anama', 'anan', 'anana', 'ananda', 'anba', 'ancon', 'anconad', 'anconal', 'ancone', 'anconeal', 'and', 'anda', 'anele', 'anemonal', 'anemone', 'anemonol', 'anend', 'anjan', 'ankee', 'ankle', 'anklebone', 'anklejack', 'anlace', 'ann', 'anna', 'annal', 'annale', 'anneal', 'annona', 'anoa', 'anodal', 'anode', 'anole', 'anon', 'anonol', 'b', 'ba', 'baa', 'baal', 'baba', 'babble', 'babe', 'baboen', 'baboo', 'baboodom', 'baboon', 'bac', 'bacaba', 'bacalao', 'bacao', 'bacca', 'baccae', 'back', 'backband', 'backbone', 'backboned', 'backed', 'backen', 'backfall', 'backfold', 'bacon', 'bad', 'badan', 'baddock', 'bade', 'badland', 'bae', 'baff', 'baffle', 'bajada', 'bajan', 'baka', 'bakal', 'bake', 'baked', 'baken', 'bal', 'balafo', 'balance', 'balanceable', 'balanced', 'balancelle', 'balanceman', 'balanocele', 'balao', 'balboa', 'bald', 'balden', 'bale', 'baleen', 'balk', 'ball', 'ballad', 'ballade', 'ballam', 'ballan', 'balldom', 'balled', 'balloon', 'balm', 'balmacaan', 'balneal', 'balonea', 'baloo', 'bam', 'bamban', 'bamboo', 'ban', 'banaba', 'banak', 'banal', 'banana', 'banc', 'banca', 'bancal', 'banco', 'band', 'banda', 'bandaka', 'bandala', 'bandanna', 'bandannaed', 'bande', 'banded', 'bandle', 'bandman', 'bando', 'bane', 'banjo', 'bank', 'bankable', 'bankbook', 'banked', 'bankman', 'bannock', 'baobab', 'be', 'beacon', 'bead', 'beaded', 'beadle', 'beadledom', 'beadman', 'beak', 'beaked', 'beal', 'beala', 'beam', 'beamed', 'beamman', 'bean', 'beancod', 'beano', 'beback', 'beballed', 'bebed', 'bebled', 'beblood', 'bebloom', 'becall', 'becalm', 'beck', 'beckon', 'beclad', 'becloak', 'becolme', 'becombed', 'become', 'becomma', 'becoom', 'bed', 'bedabble', 'bedad', 'bedamn', 'bedded', 'bedead', 'bedeaf', 'bedeafen', 'bedeck', 'bedel', 'beden', 'bedene', 'bedlam', 'bedman', 'bee', 'beedom', 'beef', 'beek', 'beelol', 'beeman', 'been', 'befall', 'befame', 'befan', 'befanned', 'beflannel', 'beflea', 'befleck', 'befoam', 'befool', 'bejade', 'bejan', 'bejel', 'bekko', 'bel', 'bela', 'belaced', 'beladle', 'belam', 'belanda', 'beld', 'beldam', 'beleaf', 'belee', 'bell', 'belladonna', 'belle', 'belled', 'belledom', 'bellman', 'beloam', 'bema', 'bemad', 'bemadam', 'beman', 'bemeal', 'bemean', 'bemedaled', 'bemedalled', 'bemoan', 'bemoanable', 'bemock', 'bemole', 'bemoon', 'ben', 'bena', 'benab', 'bename', 'benben', 'bend', 'benda', 'bendable', 'bended', 'bene', 'benj', 'benn', 'benne', 'bennel', 'beno', 'beode', 'blab', 'black', 'blackback', 'blackball', 'blackband', 'blackcock', 'blacken', 'blackface', 'blackjack', 'blackland', 'blackneb', 'blackneck', 'blacknob', 'blad', 'blade', 'bladebone', 'bladed', 'blae', 'blaff', 'blake', 'blamable', 'blame', 'blamed', 'blan', 'blanc', 'blanca', 'blanco', 'bland', 'blanda', 'blank', 'blankbook', 'blanked', 'blankeel', 'bleak', 'bleb', 'bleck', 'blee', 'bleed', 'bleekbok', 'blend', 'blende', 'blended', 'blennocele', 'blennoma', 'bleo', 'blo', 'blob', 'blobbed', 'bloc', 'block', 'blockade', 'blocked', 'blockman', 'bloke', 'blonde', 'blood', 'blooded', 'bloodleaf', 'bloom', 'bloomfell', 'bo', 'boa', 'bob', 'boba', 'bobac', 'bobbed', 'bobble', 'bobo', 'bocal', 'bocca', 'boccale', 'bocce', 'boce', 'bock', 'bod', 'bode', 'boden', 'bodle', 'bodock', 'bojo', 'bokadam', 'boke', 'bokom', 'bola', 'bold', 'bolden', 'boldo', 'bole', 'boled', 'bolk', 'boll', 'bolled', 'bollock', 'bolo', 'boloman', 'bom', 'boma', 'bomb', 'bombable', 'bombed', 'bombo', 'bombola', 'bombonne', 'bon', 'bonbon', 'bonce', 'bond', 'bonded', 'bondfolk', 'bondman', 'bone', 'boneblack', 'boned', 'bonk', 'boo', 'boob', 'boobook', 'bood', 'boodle', 'boodledom', 'boof', 'book', 'bookable', 'bookdom', 'booked', 'bookfold', 'bookland', 'bookman', 'bool', 'boom', 'boomable', 'boon', 'boondock', 'boonk', 'c', 'ca', 'caam', 'caama', 'cab', 'caba', 'cabaan', 'caback', 'cabal', 'cabala', 'caban', 'cabana', 'cabble', 'cabda', 'cable', 'cabled', 'cableman', 'cabman', 'cabob', 'cabocle', 'caboodle', 'cabook', 'cacam', 'cacao', 'cack', 'cackle', 'cacodemon', 'cacoon', 'cad', 'cadalene', 'cadamba', 'caddle', 'cade', 'cadelle', 'cadence', 'cadenced', 'cadjan', 'cadlock', 'caeca', 'caecal', 'caeoma', 'caffa', 'caffeol', 'caffeone', 'caffle', 'cajole', 'cake', 'cal', 'calaba', 'calade', 'calamanco', 'calambac', 'calcaneal', 'calced', 'calden', 'calean', 'calendal', 'calf', 'calk', 'call', 'callable', 'callo', 'calm', 'calodemon', 'calomba', 'calomel', 'calool', 'cam', 'camaca', 'caman', 'camb', 'came', 'camel', 'camelback', 'camelman', 'cameo', 'cammed', 'cammock', 'can', 'canaba', 'canada', 'canadol', 'canal', 'canalman', 'canamo', 'cancan', 'cancel', 'cancelable', 'cand', 'candela', 'candle', 'candleball', 'candlebeam', 'candlebomb', 'candock', 'cane', 'canel', 'canella', 'canelo', 'canjac', 'cank', 'canman', 'canna', 'canned', 'cannel', 'cannon', 'cannonade', 'cannoned', 'canoe', 'canoeload', 'canoeman', 'canon', 'canoodle', 'caoba', 'ce', 'cebell', 'cede', 'cee', 'celadon', 'cell', 'cella', 'cellae', 'celled', 'cello', 'cembalo', 'cenacle', 'clack', 'clad', 'cladode', 'clam', 'clamb', 'clambake', 'clame', 'clammed', 'clan', 'clank', 'clanned', 'clead', 'cleaded', 'cleam', 'clean', 'cleanable', 'cleck', 'cled', 'clee', 'cleek', 'cleeked', 'clef', 'clem', 'clemence', 'cloaca', 'cloacal', 'cloacean', 'cloak', 'cloaked', 'cloam', 'cloamen', 'clock', 'clocked', 'clockface', 'clod', 'cloff', 'clomb', 'clomben', 'clonal', 'clone', 'cloof', 'coabode', 'coadjacence', 'coak', 'coal', 'cob', 'cobaea', 'cobbed', 'cobble', 'cobcab', 'coble', 'cobleman', 'cobloaf', 'cobola', 'coca', 'coccal', 'cocco', 'cock', 'cockade', 'cockaded', 'cockal', 'cockbell', 'cocked', 'cockle', 'cockled', 'coco', 'cocoa', 'cocobolo', 'cocoon', 'cod', 'coda', 'codbank', 'coddle', 'code', 'codman', 'codo', 'codol', 'codon', 'coe', 'coecal', 'coed', 'coelom', 'coeloma', 'coembedded', 'coenflame', 'coenobe', 'cofeoffee', 'coff', 'coffee', 'coffeecake', 'coffeeleaf', 'coffle', 'coke', 'cokeman', 'col', 'cola', 'colane', 'colback', 'colcannon', 'cold', 'cole', 'colecannon', 'colk', 'coll', 'colleen', 'collembolan', 'collembole', 'collocal', 'collock', 'coloboma', 'colocola', 'colon', 'colonel', 'colonnade', 'colonnaded', 'coma', 'comal', 'comb', 'combed', 'comble', 'come', 'comeback', 'comedo', 'comma', 'command', 'commandable', 'commando', 'commandoman', 'commeddle', 'commence', 'commenceable', 'commend', 'commendable', 'commendam', 'commode', 'common', 'commonable', 'con', 'conal', 'conamed', 'conceal', 'concealable', 'concealed', 'concede', 'conceded', 'cond', 'condemn', 'condemnable', 'condemned', 'condole', 'condolence', 'condonable', 'condonance', 'condone', 'cone', 'coned', 'coneen', 'confab', 'confocal', 'conjobble', 'conk', 'conkanee', 'conn', 'coo', 'cooba', 'coodle', 'cooee', 'coof', 'cooja', 'cook', 'cookable', 'cookbook', 'cookdom', 'cookee', 'cool', 'coolen', 'coom', 'coomb', 'coon', 'cooncan', 'd', 'da', 'dab', 'dabb', 'dabba', 'dabble', 'dace', 'dad', 'dada', 'daddle', 'daddock', 'dade', 'dado', 'dae', 'daedal', 'daemon', 'daff', 'daffle', 'dak', 'dal', 'dale', 'daleman', 'dalk', 'dallack', 'dalle', 'dam', 'dama', 'daman', 'dame', 'damme', 'damn', 'damnable', 'damned', 'dan', 'dance', 'dand', 'danda', 'dandle', 'dank', 'dannock', 'dao', 'de', 'deacon', 'deaconal', 'dead', 'deaden', 'deadfall', 'deadlock', 'deadman', 'deaf', 'deafen', 'deal', 'dealable', 'dean', 'deb', 'debacle', 'deben', 'decad', 'decadal', 'decade', 'decadence', 'decal', 'decan', 'decanal', 'decane', 'decence', 'decene', 'decennal', 'deck', 'decke', 'decked', 'deckel', 'deckle', 'deckload', 'decode', 'decoke', 'dedo', 'dee', 'deed', 'deedeed', 'deem', 'deface', 'defaceable', 'defalk', 'defame', 'defamed', 'defence', 'defend', 'defendable', 'dekko', 'dekle', 'dele', 'delead', 'delenda', 'delf', 'dell', 'demal', 'demand', 'demandable', 'deme', 'demean', 'demob', 'demoded', 'demon', 'demonland', 'den', 'denda', 'dene', 'deodand', 'do', 'doab', 'doable', 'dob', 'dobbed', 'dobe', 'dobla', 'doblon', 'doc', 'dock', 'docken', 'dockland', 'dockman', 'docmac', 'dod', 'dodd', 'dodded', 'doddle', 'dodecade', 'dodecane', 'dodman', 'dodo', 'doe', 'doff', 'doke', 'dola', 'dolcan', 'dole', 'doll', 'dolldom', 'dollface', 'dolman', 'dolmen', 'dom', 'domal', 'domba', 'dome', 'domn', 'don', 'donable', 'doncella', 'done', 'donee', 'donjon', 'donna', 'doob', 'doodab', 'doodad', 'doodle', 'dooja', 'dook', 'dool', 'doolee', 'doom', 'doombook', 'doon', 'e', 'ea', 'ean', 'ebb', 'ebbman', 'eboe', 'ebon', 'ecad', 'ecanda', 'ecbole', 'ecole', 'eddo', 'edea', 'edema', 'eel', 'eelbob', 'eelcake', 'effable', 'efface', 'effaceable', 'ejoo', 'eke', 'ekka', 'el', 'elance', 'eland', 'elb', 'elcaja', 'eld', 'elf', 'elfenfolk', 'elfland', 'elflock', 'elk', 'ell', 'elle', 'elleck', 'elm', 'elod', 'em', 'emball', 'embalm', 'embank', 'embed', 'emblem', 'emblema', 'embolden', 'embole', 'embolo', 'emcee', 'eme', 'emend', 'emendable', 'emma', 'emoloa', 'en', 'enable', 'enaena', 'enam', 'enamel', 'enameloma', 'encake', 'encefalon', 'encell', 'encloak', 'encode', 'encolden', 'encommon', 'end', 'endable', 'endameba', 'ended', 'endocoele', 'endocone', 'endolemma', 'endome', 'eneclann', 'enema', 'enface', 'enfeeble', 'enfelon', 'enfeoff', 'enfold', 'enfolden', 'enfonced', 'enjamb', 'enjambed', 'enlace', 'enleaf', 'enlock', 'ennead', 'ennoble', 'enodal', 'enol', 'eoan', 'eon', 'f', 'fa', 'fabella', 'fable', 'fabled', 'fabledom', 'fableland', 'facadal', 'facade', 'face', 'faceable', 'faced', 'faceman', 'fack', 'fad', 'fadable', 'faddle', 'fade', 'faded', 'faden', 'fae', 'faff', 'faffle', 'fake', 'falanaka', 'falbala', 'falcade', 'falcon', 'falconelle', 'faldfee', 'fall', 'fallace', 'fallback', 'fallen', 'fam', 'famble', 'fame', 'fan', 'fana', 'fanal', 'fanam', 'fanback', 'fand', 'fandom', 'fanman', 'fannel', 'fanon', 'faon', 'fe', 'feak', 'feal', 'fecal', 'feck', 'fed', 'feddan', 'fee', 'feeable', 'feeble', 'feed', 'feedable', 'feedback', 'feedman', 'feel', 'feelable', 'fell', 'fellable', 'fellen', 'felloe', 'felon', 'female', 'feme', 'fen', 'fenbank', 'fence', 'fend', 'fendable', 'fenland', 'fenman', 'fennec', 'fennel', 'feod', 'feodal', 'feoff', 'feoffee', 'fjeld', 'flack', 'flacked', 'flaff', 'flak', 'flake', 'flam', 'flamb', 'flame', 'flamed', 'flamen', 'flamenco', 'flammable', 'flan', 'flanconade', 'flandan', 'flane', 'flank', 'flanked', 'flannel', 'flanneled', 'flannelleaf', 'flea', 'fleabane', 'fleadock', 'fleam', 'fleck', 'flecken', 'fleckled', 'flecnodal', 'flecnode', 'fled', 'flee', 'fleece', 'fleeceable', 'fleeced', 'flob', 'floc', 'flock', 'flockman', 'flocoon', 'floe', 'flood', 'floodable', 'floodcock', 'flooded', 'foal', 'foam', 'fob', 'focal', 'fod', 'fodda', 'foe', 'foeman', 'fold', 'foldable', 'folded', 'folden', 'fole', 'folk', 'folkland', 'fondak', 'fondle', 'fono', 'foo', 'food', 'fool', 'fooldom', 'j', 'jab', 'jabbed', 'jabble', 'jacal', 'jacana', 'jack', 'jackal', 'jackeen', 'jackman', 'jacko', 'jacobaea', 'jacobaean', 'jade', 'jaded', 'jajman', 'jake', 'jako', 'jam', 'jama', 'jaman', 'jamb', 'jambo', 'jambolan', 'jambone', 'jambool', 'jane', 'jank', 'jann', 'jannock', 'jaob', 'jean', 'jed', 'jedcock', 'jeddock', 'jeel', 'jeff', 'jelab', 'jell', 'jenna', 'jo', 'job', 'jobade', 'jobble', 'jobman', 'jobo', 'jock', 'jocko', 'jodel', 'joe', 'jojoba', 'joke', 'joll', 'joola', 'joom', 'k', 'ka', 'kabel', 'kaka', 'kakkak', 'kakke', 'kala', 'kaladana', 'kalamalo', 'kale', 'kalema', 'kalo', 'kalon', 'kamala', 'kamaloka', 'kamao', 'kambal', 'kame', 'kammalan', 'kan', 'kana', 'kanae', 'kande', 'kandol', 'kanoon', 'kea', 'keb', 'kebab', 'keck', 'keckle', 'ked', 'kedlock', 'keek', 'keel', 'keelblock', 'keeled', 'keelman', 'keen', 'keena', 'keened', 'kef', 'keffel', 'keld', 'kele', 'kelebe', 'kelek', 'kelk', 'kell', 'kella', 'kemb', 'ken', 'kenaf', 'kend', 'kennel', 'kennelman', 'kenno', 'keno', 'klam', 'kleeneboc', 'klom', 'knab', 'knabble', 'knack', 'knead', 'kneadable', 'knee', 'kneed', 'kneel', 'knell', 'knob', 'knobbed', 'knobble', 'knock', 'knockoff', 'knoll', 'ko', 'koa', 'koae', 'koala', 'kob', 'koban', 'kobold', 'koda', 'kodak', 'koel', 'koff', 'kokako', 'kokam', 'kokan', 'koko', 'kokoon', 'kola', 'kolea', 'kolo', 'kolokolo', 'kon', 'kona', 'konak', 'konjak', 'kooka', 'koolokamba', 'l', 'la', 'lab', 'labba', 'label', 'labella', 'lablab', 'lac', 'lacca', 'laccol', 'lace', 'laced', 'laceleaf', 'laceman', 'lack', 'lackland', 'lad', 'laddock', 'lade', 'lademan', 'laden', 'ladle', 'lak', 'lake', 'lakeland', 'lall', 'lalo', 'lam', 'lama', 'lamb', 'lamba', 'lambale', 'lambda', 'lame', 'lamel', 'lamella', 'lammock', 'lan', 'lance', 'lanced', 'lanceman', 'land', 'landamman', 'landbook', 'landed', 'landfall', 'landflood', 'landlock', 'landlocked', 'landlook', 'landman', 'lane', 'lank', 'lea', 'lead', 'leadable', 'leadback', 'leaded', 'leaden', 'leadman', 'leadoff', 'leaf', 'leafdom', 'leafed', 'leafen', 'leak', 'leakance', 'leal', 'lealand', 'leam', 'lean', 'leban', 'lebbek', 'lecama', 'leck', 'led', 'lede', 'leden', 'ledol', 'lee', 'leed', 'leek', 'lek', 'lekane', 'leman', 'lemel', 'lemma', 'lemnad', 'lemon', 'lemonade', 'lenad', 'lend', 'lendable', 'lendee', 'lene', 'leno', 'llama', 'llano', 'lo', 'loa', 'load', 'loaded', 'loaden', 'loaf', 'loam', 'loan', 'loanable', 'lob', 'lobal', 'lobcock', 'lobe', 'lobed', 'lobo', 'lobola', 'loca', 'locable', 'local', 'locale', 'locanda', 'lock', 'lockable', 'locked', 'lockman', 'loco', 'locofoco', 'lod', 'lode', 'lof', 'loka', 'lokao', 'loke', 'loll', 'loma', 'lommock', 'lone', 'loo', 'lood', 'loof', 'look', 'loom', 'loon', 'm', 'ma', 'maam', 'mabolo', 'mac', 'macaco', 'macadam', 'macan', 'macana', 'macao', 'macco', 'mace', 'maceman', 'mack', 'mackle', 'macle', 'macled', 'maco', 'mad', 'madam', 'madame', 'madden', 'maddle', 'made', 'madman', 'mado', 'mae', 'maenad', 'maffle', 'mafoo', 'majo', 'majoon', 'makable', 'make', 'makedom', 'mako', 'mal', 'mala', 'malacon', 'malambo', 'male', 'malella', 'maleo', 'malfed', 'mall', 'malleable', 'malleal', 'mallee', 'malleolable', 'malm', 'malo', 'mamba', 'mambo', 'mamma', 'mammal', 'mammee', 'mammock', 'mammon', 'mammondom', 'mamo', 'man', 'mana', 'manacle', 'manal', 'mancono', 'mand', 'mandala', 'mandola', 'mandom', 'mane', 'maned', 'manjak', 'mank', 'manna', 'mannan', 'mano', 'manoc', 'mao', 'maomao', 'mbalolo', 'me', 'meable', 'mead', 'meak', 'meal', 'mealable', 'mealman', 'mean', 'meaned', 'mecon', 'medal', 'medaled', 'meddle', 'meddlecome', 'meece', 'meed', 'meek', 'meeken', 'mel', 'mela', 'melada', 'melam', 'melamed', 'melano', 'melanoma', 'meld', 'mele', 'melee', 'melena', 'melene', 'mell', 'mellon', 'melodeon', 'meloe', 'melomane', 'melon', 'mem', 'memo', 'men', 'menace', 'menaceable', 'menacme', 'menald', 'mend', 'mendable', 'mendee', 'mendole', 'menfolk', 'mennom', 'mneme', 'mo', 'moan', 'mob', 'mobable', 'mobbable', 'mobed', 'moble', 'mock', 'mockable', 'mockado', 'mocomoco', 'modal', 'mode', 'model', 'modena', 'moellon', 'moff', 'mojo', 'mokaddam', 'moke', 'moko', 'mola', 'molal', 'mold', 'moldable', 'moldmade', 'mole', 'molka', 'molland', 'molle', 'molman', 'momble', 'mome', 'momme', 'momo', 'mon', 'mona', 'monad', 'monadnock', 'monaene', 'monal', 'mone', 'monel', 'monk', 'monkdom', 'mono', 'monobloc', 'monocle', 'monocled', 'moo', 'mood', 'moodle', 'mool', 'moon', 'moonack', 'moonbeam', 'mooncalf', 'mooned', 'moonface', 'moonfaced', 'moonfall', 'moonja', 'moonman', 'n', 'na', 'naa', 'naam', 'nab', 'nabak', 'nabk', 'nabla', 'nable', 'nabob', 'nace', 'nacelle', 'nae', 'nael', 'nak', 'nake', 'naked', 'nako', 'nakoo', 'nam', 'namable', 'namda', 'name', 'nameable', 'nammad', 'nan', 'nana', 'nane', 'nankeen', 'ne', 'nea', 'neal', 'neb', 'neback', 'nebbed', 'nebel', 'neck', 'neckband', 'necked', 'necklace', 'necklaced', 'neckmold', 'nee', 'need', 'needle', 'needlebook', 'needled', 'needleman', 'neeld', 'neele', 'neem', 'nef', 'nema', 'neo', 'neodamode', 'neomodal', 'neon', 'no', 'noa', 'nob', 'nobble', 'noble', 'nobleman', 'nocake', 'nock', 'nod', 'nodal', 'noddle', 'node', 'noded', 'noel', 'noll', 'nolle', 'nolo', 'noma', 'nomad', 'nome', 'nomocanon', 'non', 'nonadecane', 'nonamendable', 'nonane', 'nonbankable', 'nonblack', 'nonblended', 'nonblockaded', 'nonblooded', 'noncallable', 'noncancellable', 'nonce', 'noncock', 'noncom', 'noncome', 'noncommendable', 'noncommonable', 'noncon', 'nonda', 'nondecadence', 'nondecane', 'nondemand', 'nondo', 'none', 'nonene', 'nonflammable', 'nonfocal', 'nonfood', 'nonleaded', 'nonlocal', 'nonmalleable', 'nonmodal', 'nonnoble', 'nonomad', 'noodle', 'noodledom', 'nook', 'nooked', 'noon', 'o', 'oadal', 'oaf', 'oafdom', 'oak', 'oaken', 'oam', 'oban', 'obe', 'oboe', 'obol', 'obole', 'ocean', 'oceaned', 'ock', 'oclock', 'od', 'oda', 'odal', 'odalman', 'odd', 'oddman', 'ode', 'odel', 'odeon', 'odoom', 'oe', 'oenomel', 'of', 'off', 'offal', 'offcome', 'offend', 'offendable', 'offended', 'offlook', 'oka', 'okee', 'olam', 'old', 'olden', 'oldland', 'oleana', 'olena', 'oleo', 'olla', 'ollock', 'olm', 'olomao', 'olona', 'om', 'omao', 'omen', 'omened', 'on', 'ona', 'onca', 'once', 'oncome', 'one', 'onefold', 'onfall', 'onflemed', 'onlook', 'oolak', 'oolemma']\n"
     ]
    }
   ],
   "source": [
    "print([w for w in word_list if re.search('^[a-fj-o]+$', w)])#words with characters from a to f and j to 0 occuring one or more times"
   ]
  },
  {
   "cell_type": "code",
   "execution_count": 40,
   "metadata": {},
   "outputs": [
    {
     "name": "stdout",
     "output_type": "stream",
     "text": [
      "['a', 'aaaaaaaaaaaaaaaaa', 'aaahhhh', 'ah', 'ahah', 'ahahah', 'ahh', 'ahhahahaha', 'ahhh', 'ahhhh', 'ahhhhhh', 'ahhhhhhhhhhhhhh', 'h', 'ha', 'haaa', 'hah', 'haha', 'hahaaa', 'hahah', 'hahaha', 'hahahaa', 'hahahah', 'hahahaha', 'hahahahaaa', 'hahahahahaha', 'hahahahahahaha', 'hahahahahahahahahahahahahahahaha', 'hahahhahah', 'hahhahahaha']\n"
     ]
    }
   ],
   "source": [
    "chat_words=sorted(set(w for w in nltk.corpus.nps_chat.words()))\n",
    "print([w for w in chat_words if re.search('^[ha]+$', w)])"
   ]
  },
  {
   "cell_type": "markdown",
   "metadata": {},
   "source": [
    "'+' means one or more instances of the preceding term.<br>\n",
    "'*' means zero or more instances of the preceding term.<br>\n",
    "These both refered to as Kleene closures.<br>\n",
    "'^' also works as a not function inside a square bracket. [^aeiouAEIOU] - means any character which is not a vowel.<br>\n",
    "'\\' (backslash) is an escape character. The following character will be deprived of its special powers<br>\n",
    "'{}' specify the range of the length of character. {4} 4 characters long. {3,5} - 3 to 5 characters long. {, 6} upto 6 chars long.<br>\n",
    "'|' works like an or condition"
   ]
  },
  {
   "cell_type": "code",
   "execution_count": 44,
   "metadata": {},
   "outputs": [
    {
     "name": "stdout",
     "output_type": "stream",
     "text": [
      "['0.0085', '0.05', '0.1', '0.16', '0.2', '0.25', '0.28', '0.3', '0.4', '0.5', '0.50', '0.54', '0.56', '0.60', '0.7', '0.82', '0.84', '0.9', '0.95', '0.99', '1.01', '1.1', '1.125', '1.14', '1.1650', '1.17', '1.18', '1.19', '1.2', '1.20', '1.24', '1.25', '1.26', '1.28', '1.35', '1.39', '1.4', '1.457', '1.46', '1.49', '1.5', '1.50', '1.55', '1.56', '1.5755', '1.5805', '1.6', '1.61', '1.637', '1.64', '1.65', '1.7', '1.75', '1.76', '1.8', '1.82', '1.8415', '1.85', '1.8500', '1.9', '1.916', '1.92', '10.19', '10.2', '10.5', '107.03', '107.9', '109.73', '11.10', '11.5', '11.57', '11.6', '11.72', '11.95', '112.9', '113.2', '116.3', '116.4', '116.7', '116.9', '118.6', '12.09', '12.5', '12.52', '12.68', '12.7', '12.82', '12.97', '120.7', '1206.26', '121.6', '126.1', '126.15', '127.03', '129.91', '13.1', '13.15', '13.5', '13.50', '13.625', '13.65', '13.73', '13.8', '13.90', '130.6', '130.7', '131.01', '132.9', '133.7', '133.8', '14.00', '14.13', '14.26', '14.28', '14.43', '14.5', '14.53', '14.54', '14.6', '14.75', '14.99', '141.9', '142.84', '142.85', '143.08', '143.80', '143.93', '148.9', '149.9', '15.5', '150.00', '153.3', '154.2', '16.05', '16.09', '16.125', '16.2', '16.5', '16.68', '16.7', '16.9', '169.9', '17.3', '17.4', '17.5', '17.95', '1738.1', '176.1', '18.3', '18.6', '18.95', '185.9', '188.84', '19.3', '19.50', '19.6', '19.94', '19.95', '191.9', '2.07', '2.1', '2.15', '2.19', '2.2', '2.25', '2.29', '2.3', '2.30', '2.35', '2.375', '2.4', '2.42', '2.44', '2.46', '2.47', '2.5', '2.50', '2.6', '2.62', '2.65', '2.7', '2.75', '2.8', '2.80', '2.87', '2.875', '2.9', '2.95', '20.07', '20.5', '21.1', '21.9', '2141.7', '2160.1', '2163.2', '22.75', '220.45', '221.4', '225.6', '23.25', '23.4', '23.5', '23.72', '234.4', '236.74', '236.79', '24.95', '25.50', '25.6', '251.2', '26.2', '26.5', '26.8', '263.07', '2645.90', '2691.19', '27.1', '27.4', '273.5', '278.7', '28.25', '28.36', '28.4', '28.5', '28.53', '28.6', '29.3', '29.4', '29.9', '292.32', '3.01', '3.04', '3.1', '3.16', '3.18', '3.19', '3.2', '3.20', '3.23', '3.253', '3.28', '3.3', '3.35', '3.375', '3.4', '3.42', '3.43', '3.5', '3.55', '3.6', '3.61', '3.625', '3.7', '3.75', '3.8', '3.80', '3.9', '30.6', '30.9', '319.75', '32.8', '334.5', '34.625', '341.20', '3436.58', '35.2', '35.7', '352.7', '352.9', '35500.64', '35564.43', '36.9', '361.8', '3648.82', '37.3', '37.5', '372.14', '372.9', '374.19', '374.20', '377.60', '38.3', '38.375', '38.5', '38.875', '387.8', '4.1', '4.10', '4.2', '4.25', '4.3', '4.4', '4.5', '4.55', '4.6', '4.7', '4.75', '4.8', '4.875', '4.898', '4.9', '40.21', '41.60', '415.6', '415.8', '42.1', '42.5', '422.5', '43.875', '434.4', '436.01', '446.62', '449.04', '45.2', '45.3', '45.75', '456.64', '46.1', '47.1', '47.125', '47.5', '47.6', '49.9', '494.50', '497.34', '5.1', '5.2180', '5.276', '5.29', '5.3', '5.39', '5.4', '5.435', '5.5', '5.57', '5.6', '5.63', '5.7', '5.70', '5.8', '5.82', '5.9', '5.92', '50.1', '50.38', '50.45', '51.25', '51.6', '55.1', '566.54', '57.50', '57.6', '57.7', '58.64', '59.6', '59.9', '6.03', '6.1', '6.20', '6.21', '6.25', '6.4', '6.40', '6.44', '6.5', '6.50', '6.53', '6.6', '6.7', '6.70', '6.79', '6.84', '6.9', '60.36', '618.1', '62.1', '62.5', '62.625', '63.79', '630.9', '64.5', '66.5', '7.15', '7.2', '7.20', '7.272', '7.3', '7.4', '7.40', '7.422', '7.45', '7.458', '7.5', '7.50', '7.52', '7.55', '7.60', '7.62', '7.63', '7.65', '7.74', '7.78', '7.79', '7.8', '7.80', '7.84', '7.88', '7.90', '7.95', '70.2', '70.7', '705.6', '72.7', '734.9', '737.5', '77.56', '77.6', '77.70', '8.04', '8.06', '8.07', '8.1', '8.12', '8.14', '8.15', '8.19', '8.2', '8.22', '8.25', '8.30', '8.35', '8.45', '8.467', '8.47', '8.48', '8.5', '8.50', '8.53', '8.55', '8.56', '8.575', '8.60', '8.64', '8.65', '8.70', '8.75', '8.9', '80.50', '80.8', '81.8', '811.9', '83.4', '84.29', '84.9', '85.1', '85.7', '86.12', '87.5', '88.32', '89.7', '89.9', '9.3', '9.32', '9.37', '9.45', '9.5', '9.625', '9.75', '9.8', '9.82', '9.9', '92.9', '93.3', '93.9', '94.2', '94.8', '95.09', '96.4', '98.3', '99.1', '99.3']\n"
     ]
    }
   ],
   "source": [
    "wsj=sorted(set(nltk.corpus.treebank.words()))\n",
    "print([w for w in wsj if re.search('^[0-9]+\\.[0-9]+$', w)]) #'\\' (backslash) is more like an escapre character"
   ]
  },
  {
   "cell_type": "code",
   "execution_count": 46,
   "metadata": {},
   "outputs": [
    {
     "name": "stdout",
     "output_type": "stream",
     "text": [
      "['C$', 'US$']\n"
     ]
    }
   ],
   "source": [
    "print([w for w in wsj if re.search('^[A-Z]+\\$$', w)])"
   ]
  },
  {
   "cell_type": "code",
   "execution_count": 49,
   "metadata": {},
   "outputs": [
    {
     "name": "stdout",
     "output_type": "stream",
     "text": [
      "['1614', '1637', '1787', '1901', '1903', '1917', '1925', '1929', '1933', '1934', '1948', '1953', '1955', '1956', '1961', '1965', '1966', '1967', '1968', '1969', '1970', '1971', '1972', '1973', '1975', '1976', '1977', '1979', '1980', '1981', '1982', '1983', '1984', '1985', '1986', '1987', '1988', '1989', '1990', '1991', '1992', '1993', '1994', '1995', '1996', '1997', '1998', '1999', '2000', '2005', '2009', '2017', '2019', '2029', '3057', '8300']\n"
     ]
    }
   ],
   "source": [
    "print([w for w in wsj if re.search('^[0-9]{4}$', w)])#4 digit numbers "
   ]
  },
  {
   "cell_type": "code",
   "execution_count": 51,
   "metadata": {},
   "outputs": [
    {
     "name": "stdout",
     "output_type": "stream",
     "text": [
      "['10-day', '10-lap', '10-year', '100-share', '12-point', '12-year', '14-hour', '15-day', '150-point', '190-point', '20-point', '20-stock', '21-month', '237-seat', '240-page', '27-year', '30-day', '30-point', '30-share', '30-year', '300-day', '36-day', '36-store', '42-year', '50-state', '500-stock', '52-week', '69-point', '84-month', '87-store', '90-day']\n"
     ]
    }
   ],
   "source": [
    "print([w for w in wsj if re.search('^[0-9]+-[a-z]{3,5}$', w)])"
   ]
  },
  {
   "cell_type": "code",
   "execution_count": 52,
   "metadata": {},
   "outputs": [
    {
     "name": "stdout",
     "output_type": "stream",
     "text": [
      "['black-and-white', 'bread-and-butter', 'father-in-law', 'machine-gun-toting', 'savings-and-loan']\n"
     ]
    }
   ],
   "source": [
    "print([w for w in wsj if re.search('^[a-z]{5,}-[a-z]{2,3}-[a-z]{,6}$', w)])"
   ]
  },
  {
   "cell_type": "code",
   "execution_count": 58,
   "metadata": {},
   "outputs": [
    {
     "name": "stdout",
     "output_type": "stream",
     "text": [
      "['62%-owned', 'Absorbed', 'According', 'Adopting', 'Advanced', 'Advancing', 'Alfred', 'Allied', 'Annualized', 'Anything', 'Arbitrage-related', 'Arbitraging', 'Asked', 'Assuming', 'Atlanta-based', 'Baking', 'Banking', 'Beginning', 'Beijing', 'Being', 'Bermuda-based', 'Betting', 'Boeing', 'Broadcasting', 'Bucking', 'Buying', 'Calif.-based', 'Change-ringing', 'Citing', 'Concerned', 'Confronted', 'Conn.based', 'Consolidated', 'Continued', 'Continuing', 'Declining', 'Defending', 'Depending', 'Designated', 'Determining', 'Developed', 'Died', 'During', 'Encouraged', 'Encouraging', 'English-speaking', 'Estimated', 'Everything', 'Excluding', 'Exxon-owned', 'Faulding', 'Fed', 'Feeding', 'Filling', 'Filmed', 'Financing', 'Following', 'Founded', 'Fracturing', 'Francisco-based', 'Fred', 'Funded', 'Funding', 'Generalized', 'Germany-based', 'Getting', 'Guaranteed', 'Having', 'Heating', 'Heightened', 'Holding', 'Housing', 'Illuminating', 'Indeed', 'Indexing', 'Irving', 'Jersey-based', 'Judging', 'Knowing', 'Learning', 'Legislating', 'Leming', 'Limited', 'London-based', 'Manfred', 'Manufacturing', 'Melamed', 'Miami-based', 'Mich.-based', 'Mining', 'Minneapolis-based', 'Mo.-based', 'Mortgage-Backed', 'Moving', 'Muzzling', 'N.J.-based', 'NBC-owned', 'NIH-appointed', 'Named', 'No-Smoking', 'Observing', 'Offering', 'Ohio-based', 'Orleans-based', 'Packaging', 'Performing', 'Philadelphia-based', 'Posted', 'Provided', 'Publishing', 'Purchasing', 'Rated', 'Reached', 'Red', 'Red-blooded', 'Reducing', 'Reed', 'Regarded', 'Rekindled', 'Related', 'Ringing', 'Rolling', 'Sacramento-based', 'Scoring', 'Seattle-based', 'Seed', 'Skilled', 'Smelting', 'Something', 'Spending', 'Standardized', 'Standing', 'Starting', 'Sterling', 'Taking', 'Texas-based', 'Toronto-based', 'Traded', 'Trading', 'Troubled', 'U.N.-supervised', 'U.S.-backed', 'United', 'Used', 'Varying', 'Washington-based', 'Whiting', 'Wilfred', 'Winning', 'Xiaoping', 'York-based', 'Zayed', 'abandoned', 'abating', 'abolishing', 'abortion-related', 'abounding', 'abridging', 'absorbed', 'acceded', 'accelerated', 'accepted', 'accepting', 'according', 'accounted', 'accounting', 'accrued', 'accumulated', 'accused', 'accusing', 'achieved', 'achieving', 'acknowledging', 'acquired', 'acquiring', 'acquisition-minded', 'acted', 'acting', 'adapted', 'adapting', 'added', 'adding', 'addressing', 'adjusted', 'adjusting', 'admitted', 'admitting', 'adopted', 'advanced', 'advancing', 'advertised', 'advertising', 'advised', 'advocated', 'advocating', 'affecting', 'afflicted', 'aggravated', 'agreed', 'agreeing', 'ailing', 'aimed', 'aiming', 'aired', 'airline-related', 'alarmed', 'alienated', 'alleged', 'alleging', 'allocated', 'allowed', 'altered', 'altering', 'amended', 'amending', 'amounted', 'amusing', 'angered', 'announced', 'annoyed', 'annualized', 'answered', 'anti-dumping', 'anticipated', 'anticipating', 'anything', 'apologizing', 'appealing', 'appeared', 'appearing', 'applied', 'appointed', 'approached', 'appropriated', 'approved', 'arched', 'argued', 'arguing', 'arising', 'armed', 'arranged', 'arrested', 'arrived', 'asbestos-related', 'asked', 'asking', 'assassinated', 'assembled', 'asserted', 'asserting', 'assessed', 'assigned', 'assisted', 'associated', 'assumed', 'assuming', 'assured', 'attached', 'attacking', 'attempted', 'attempting', 'attended', 'attending', 'attracted', 'attracting', 'attributed', 'auctioned', 'authorized', 'authorizing', 'automated', 'automotive-lighting', 'averaged', 'averted', 'avoiding', 'awarded', 'awarding', 'backed', 'backing', 'balanced', 'bald-faced', 'balkanized', 'balked', 'balloting', 'bank-backed', 'banking', 'banned', 'banning', 'barking', 'barred', 'based', 'battered', 'battery-operated', 'batting', 'bearing', 'becoming', 'bedding', 'befuddled', 'beginning', 'behaving', 'beheading', 'being', 'beleaguered', 'believed', 'bell-ringing', 'belonging', 'benefited', 'best-selling', 'betting', 'bickering', 'bidding', 'billed', 'billing', 'blamed', 'bled', 'blessing', 'blighted', 'blocked', 'blurred', 'boarding', 'bolstered', 'bombarding', 'booked', 'booming', 'boosted', 'boosting', 'borrowed', 'borrowing', 'botched', 'bothered', 'bounced', 'bowed', 'breaking', 'breathed', 'breathtaking', 'breed', 'bribed', 'bribing', 'briefing', 'brightened', 'bring', 'bringing', 'broad-based', 'broadcasting', 'broadened', 'brokering', 'brushed', 'budding', 'building', 'bundling', 'buoyed', 'burned', 'buying', 'calculated', 'called', 'calling', 'campaigning', 'cancer-causing', 'capitalized', 'capped', 'captivating', 'cared', 'carried', 'carrying', 'cascading', 'casting', 'caused', 'causing', 'cautioned', 'ceiling', 'centralized', 'certified', 'chaired', 'challenging', 'championing', 'change-ringing', 'changed', 'changing', 'characterized', 'characterizing', 'charged', 'charging', 'chastised', 'cheating', 'checking', 'cheerleading', 'chilled', 'choosing', 'chopped', 'circulated', 'cited', 'citing', 'citizen-sparked', 'city-owned', 'claimed', 'claiming', 'clamped', 'clarified', 'clashed', 'classed', 'classified', 'cleaned', 'cleaner-burning', 'cleared', 'clearing', 'clicked', 'climbed', 'climbing', 'clipped', 'clobbered', 'closed', 'closing', 'clothing', 'clouding', 'cluttered', 'co-founded', 'coaching', 'coal-fired', 'coated', 'codified', 'collaborated', 'collapsed', 'collected', 'collecting', 'collective-bargaining', 'colored', 'combined', 'coming', 'commanded', 'commenting', 'committed', 'committing', 'compared', 'compelling', 'competed', 'competing', 'compiled', 'complained', 'complaining', 'completed', 'completing', 'complicated', 'composed', 'composting', 'compressed', 'computer-aided', 'computer-assisted', 'computer-generated', 'computerized', 'computing', 'conceding', 'concentrated', 'concentrating', 'concerned', 'concluded', 'condemned', 'condemning', 'conducted', 'conducting', 'confined', 'confirmed', 'confused', 'connected', 'consented', 'considered', 'considering', 'consisting', 'construed', 'consulting', 'contacted', 'contained', 'containing', 'contesting', 'continued', 'continuing', 'contracted', 'contributed', 'contributing', 'controlled', 'controlling', 'converted', 'converting', 'convicted', 'convinced', 'cooled', 'cooperating', 'copied', 'copying', 'corn-buying', 'corrected', 'correcting', 'cost-cutting', 'cost-sharing', 'counseling', 'counting', 'coupled', 'court-ordered', 'covered', 'covering', 'cranked', 'crashing', 'created', 'creating', 'credit-rating', 'crippled', 'criticized', 'crossed', 'crossing', 'crowded', 'cruising', 'crushed', 'crying', 'cultivated', 'curbed', 'curbing', 'curled', 'current-carrying', 'curtailed', 'cushioned', 'customized', 'cutting', 'damaged', 'damaging', 'dancing', 'darned', 'dashed', 'dating', 'dead-eyed', 'dealing', 'decided', 'declared', 'declaring', 'declined', 'declining', 'decorated', 'decried', 'deducting', 'deemed', 'defeated', 'defended', 'defined', 'defying', 'delayed', 'deliberating', 'delisted', 'delivered', 'delivering', 'demanding', 'demonstrating', 'denied', 'denouncing', 'denying', 'depended', 'depending', 'depleted', 'depressed', 'deprived', 'derived', 'descending', 'described', 'deserving', 'designated', 'designed', 'designing', 'desired', 'despised', 'detailed', 'deteriorated', 'deteriorating', 'determined', 'deterring', 'devastating', 'developed', 'developing', 'devised', 'devoted', 'devouring', 'diagnosed', 'died', 'diluted', 'diming', 'diminished', 'directed', 'directing', 'disaffected', 'disagreed', 'disappointed', 'disappointing', 'disapproved', 'discarded', 'disciplined', 'disclosed', 'disclosing', 'discontinued', 'discontinuing', 'discouraging', 'discovered', 'discussed', 'discussing', 'disembodied', 'dismayed', 'dismissed', 'disposed', 'disputed', 'disseminating', 'distinguished', 'distorted', 'distributed', 'disturbing', 'diversified', 'diversifying', 'divided', 'dividing', 'documented', 'doing', 'doling', 'dollar-denominated', 'dominated', 'dominating', 'doubled', 'doubted', 'downgraded', 'downgrading', 'drafted', 'drawing', 'dreamed', 'dressed', 'drifted', 'drinking', 'driving', 'drooled', 'dropped', 'dubbed', 'duckling', 'dumbfounded', 'dumped', 'during', 'dwindling', 'earned', 'earning', 'eased', 'easing', 'eating', 'echoed', 'edged', 'editing', 'educated', 'elected', 'eliminated', 'eliminating', 'embarrassing', 'embroiled', 'emerged', 'emerging', 'emphasized', 'employed', 'empowered', 'enabled', 'enabling', 'enacted', 'encircling', 'enclosed', 'encouraging', 'encroaching', 'ended', 'ending', 'endorsed', 'engaged', 'engaging', 'engineered', 'engineering', 'enhanced', 'enjoyed', 'enjoying', 'enlarged', 'enraged', 'ensnarled', 'entangled', 'entered', 'entering', 'entertaining', 'enticed', 'entitled', 'entrenched', 'entrusted', 'equaling', 'equipped', 'escalated', 'escaped', 'established', 'establishing', 'estimated', 'evaluated', 'evaluating', 'evaporated', 'evening', 'everything', 'evoking', 'evolved', 'exacerbated', 'examined', 'exceed', 'exceeded', 'exceeding', 'exchanging', 'excited', 'exciting', 'executed', 'executing', 'exercised', 'exerting', 'exhausted', 'exhibited', 'existed', 'existing', 'expanded', 'expanding', 'expected', 'expecting', 'expedited', 'expelled', 'experienced', 'experiencing', 'expired', 'explained', 'explaining', 'exploded', 'export-oriented', 'exposed', 'expressed', 'expressing', 'expunged', 'extended', 'extending', 'exuded', 'eyeing', 'fabled', 'faced', 'facing', 'factoring', 'faded', 'failed', 'failing', 'fainting', 'falling', 'faltered', 'famed', 'family-planning', 'fared', 'fashioned', 'fast-growing', 'fastest-growing', 'fattened', 'favored', 'fawning', 'feared', 'featured', 'featuring', 'fed', 'feed', 'feeling', 'fetching', 'fielded', 'fighting', 'filed', 'filing', 'filled', 'filling', 'finalized', 'financed', 'financing', 'finding', 'fined', 'finished', 'fired', 'firmed', 'fixed', 'fizzled', 'fled', 'fledgling', 'fleeting', 'flirted', 'floated', 'flooded', 'focused', 'focusing', 'folded', 'followed', 'following', 'forced', 'forcing', 'forecasting', 'foreign-led', 'formed', 'forthcoming', 'founded', 'foundering', 'fretted', 'frightened', 'frustrating', 'fueled', 'fueling', 'full-fledged', 'fuming', 'functioning', 'funded', 'funding', 'fundraising', 'futures-related', 'gained', 'gaining', 'galling', 'galvanized', 'gambling', 'gauging', 'generated', 'getting', 'giving', 'going', 'good-hearted', 'good-natured', 'gored', 'government-certified', 'government-funded', 'government-owned', 'graduated', 'granted', 'granting', 'greed', 'gripping', 'growing', 'guaranteed', 'guarding', 'guided', 'gut-wrenching', 'hailed', 'hailing', 'halted', 'hampered', 'handed', 'handled', 'handling', 'happened', 'happening', 'hard-charging', 'hard-drinking', 'hard-hitting', 'harmed', 'harped', 'harvested', 'hauled', 'hauling', 'having', 'headed', 'heading', 'headlined', 'healing', 'hearing', 'heated', 'heating', 'hedging', 'heightened', 'helped', 'helping', 'high-flying', 'high-minded', 'high-polluting', 'high-priced', 'high-rolling', 'high-speed', 'higher-salaried', 'highest-pitched', 'hired', 'hitting', 'holding', 'hoped', 'hosted', 'housing', 'hugging', 'hundred', 'hunted', 'hurting', 'identified', 'ignored', 'ignoring', 'impaired', 'impeding', 'impending', 'implemented', 'implied', 'imported', 'imposed', 'imposing', 'impressed', 'improved', 'improving', 'incentive-backed', 'inched', 'inching', 'included', 'including', 'incorporated', 'increased', 'increasing', 'incurred', 'indeed', 'index-related', 'indicated', 'indicating', 'indulging', 'industrialized', 'industry-supported', 'inflated', 'influenced', 'influencing', 'infringed', 'inherited', 'initialing', 'initiated', 'initiating', 'injecting', 'injuring', 'inkling', 'inquiring', 'inserted', 'insider-trading', 'insinuating', 'insisted', 'inspired', 'installed', 'installing', 'instituted', 'instructed', 'insured', 'integrated', 'intended', 'intentioned', 'interest-bearing', 'interested', 'interesting', 'interrogated', 'interviewed', 'intriguing', 'introduced', 'introducing', 'invented', 'inverted', 'invested', 'investigating', 'investing', 'inviting', 'involved', 'involving', 'issued', 'issuing', 'jeopardizing', 'joined', 'joining', 'judged', 'jumped', 'jumping', 'justified', 'justifying', 'keeping', 'kicked', 'kidnapping', 'killed', 'killing', 'knitted', 'knocked', 'labeled', 'labeling', 'labor-backed', 'lacked', 'lagging', 'land-idling', 'landing', 'lasted', 'lasting', 'lauded', 'laughing', 'launched', 'lawmaking', 'laying', 'leading', 'learned', 'learning', 'leasing', 'leaving', 'led', 'lending', 'lengthened', 'lessening', 'letter-writing', 'letting', 'leveling', 'leveraged', 'leveraging', 'licensed', 'licensing', 'lifted', 'lifting', 'limited', 'limiting', 'limping', 'linked', 'liquidated', 'listed', 'listing', 'living', 'loaded', 'loading', 'located', 'locked', 'long-tenured', 'longstanding', 'looked', 'looking', 'looming', 'losing', 'loved', 'low-priced', 'lower-priced', 'lowered', 'lowering', 'lying', 'machine-gun-toting', 'magnified', 'mailed', 'mailing', 'maintained', 'maintaining', 'making', 'male-dominated', 'managed', 'managing', 'manufactured', 'manufacturing', 'marching', 'market-based', 'market-oriented', 'marketed', 'marketing', 'matched', 'matching', 'materialized', 'mating', 'maturing', 'meaning', 'measured', 'meatpacking', 'medium-sized', 'meeting', 'melt-textured', 'mentioned', 'merchandising', 'merged', 'merger-related', 'midsized', 'milked', 'mind-boggling', 'mining', 'minority-owned', 'minted', 'mired', 'missed', 'mixed', 'mobilizing', 'moderated', 'mollified', 'money-losing', 'monied', 'morale-damaging', 'more-advanced', 'morning', 'mortgage-backed', 'mortgage-based', 'mortgaged', 'mounted', 'moved', 'moving', 'mudslinging', 'muffled', 'mulling', 'multiplying', 'murdered', 'muscling', 'muted', 'muzzling', 'named', 'naming', 'narrowed', 'need', 'needed', 'needing', 'negotiated', 'negotiating', 'neighboring', 'networking', 'newspaper-printing', 'nominated', 'non-encapsulating', 'nonrecurring', 'notched', 'noted', 'nothing', 'noticed', 'noticing', 'notified', 'noting', 'notwithstanding', 'nullified', 'numbered', 'nurtured', 'obligated', 'observed', 'obsessed', 'obtained', 'obtaining', 'occupying', 'occurred', 'odd-sounding', 'offending', 'offered', 'offering', 'offsetting', 'old-fashioned', 'omitted', 'ongoing', 'opened', 'opening', 'operated', 'operating', 'opposed', 'orchestrated', 'ordered', 'ordering', 'organized', 'oriented', 'outdistanced', 'outlawed', 'outlawing', 'outnumbered', 'outpaced', 'outraged', 'outstanding', 'overcrowding', 'overleveraged', 'overpaying', 'overpriced', 'overriding', 'overstated', 'overused', 'overvalued', 'owed', 'owned', 'owning', 'packaging', 'packed', 'painted', 'painting', 'parched', 'parking', 'participated', 'parts-engineering', 'passed', 'passing', 'patented', 'paying', 'peaked', 'pealing', 'peddling', 'pegged', 'pending', 'perceived', 'performed', 'performing', 'permitted', 'permitting', 'phasing', 'photocopying', 'picked', 'picking', 'pinning', 'pitting', 'placed', 'placing', 'plagued', 'planned', 'planning', 'planted', 'planting', 'played', 'playing', 'pleaded', 'pleased', 'pledged', 'plugged', 'plummeted', 'plunged', 'plunging', 'pointed', 'pointing', 'polarized', 'policy-making', 'polled', 'populated', 'portrayed', 'posing', 'positioned', 'possessed', 'post-hearing', 'posted', 'posting', 'postponed', 'poured', 'practiced', 'practicing', 'praised', 'pre-approved', 'pre-cooked', 'pre-existing', 'preapproved', 'predicated', 'predicted', 'predicting', 'preferred', 'prepared', 'presented', 'preserving', 'pressed', 'pressing', 'pressured', 'prevailing', 'preventing', 'price-depressing', 'priced', 'pricing', 'printed', 'privileged', 'processing', 'produced', 'producing', 'profit-taking', 'profited', 'program-trading', 'programming', 'prohibited', 'prohibiting', 'prolonged', 'promised', 'promising', 'promoting', 'prompted', 'propelling', 'proposed', 'proposing', 'prosecuted', 'prosecuting', 'protected', 'protecting', 'protracted', 'proved', 'provided', 'providing', 'proving', 'provoked', 'prying', 'publicized', 'published', 'publishing', 'pulled', 'pulling', 'pumping', 'punishing', 'purchased', 'purchasing', 'purhasing', 'pursued', 'pushed', 'pushing', 'putting', 'puzzled', 'qualified', 'quashing', 'questioned', 'queuing', 'quipped', 'quitting', 'quoted', 'quoting', 'raced', 'racing', 'railing', 'raised', 'raising', 'rallying', 'ranged', 'ranging', 'ranked', 'rarefied', 'raring', 'ratcheting', 'rated', 'ratified', 'rating', 'rationed', 'reached', 'reaching', 'reacted', 'reading', 'reaffirmed', 'realized', 'reallocated', 'reaped', 'reaping', 'reasoning', 'reassuring', 'rebounding', 'rebuffed', 'rebuilding', 'rebuked', 'recalling', 'received', 'receiving', 'recession-inspired', 'reciting', 'reclaimed', 'recognizing', 'recommended', 'recommending', 'record-keeping', 'recorded', 'recouped', 'recovered', 'recovering', 'recruited', 'recruiting', 'rectified', 'recycled', 'red', 'redeemed', 'redeeming', 'redistributing', 'reduced', 'reducing', 'reeling', 'referred', 'referring', 'refitting', 'reflected', 'reflecting', 'refocusing', 'refreshing', 'refunded', 'refunding', 'refused', 'regarded', 'regarding', 'regimented', 'registered', 'regulated', 'regulating', 'reimbursed', 'reinstating', 'rejected', 'related', 'relating', 'relaunched', 'released', 'relegated', 'relied', 'relieved', 'remained', 'remaining', 'remarked', 'reminded', 'remodeling', 'removed', 'removing', 'rendering', 'renewed', 'renewing', 'renovated', 'reopened', 'reorganized', 'repaired', 'replaced', 'replacing', 'replicated', 'replicating', 'reported', 'reporting', 'represented', 'representing', 'repriced', 'requested', 'requesting', 'required', 'requiring', 'rescheduled', 'researching', 'reserved', 'reshaping', 'resigned', 'resigning', 'resisting', 'resolved', 'respected', 'responded', 'responding', 'restored', 'restricting', 'restructured', 'restructuring', 'resulted', 'resulting', 'retailing', 'retained', 'retaining', 'retaliating', 'retired', 'retiring', 'retraced', 'returned', 'returning', 'reversed', 'reviewed', 'reviewing', 'revised', 'revising', 'revived', 'rewarding', 'riding', 'rigged', 'ring', 'ringing', 'rising', 'robbed', 'rolled', 'rolling', 'romanticized', 'rooted', 'ruled', 'ruling', 'rumored', 'running', 'rushed', 'rusted', 'sacked', 'sacrificing', 'safeguarding', 'sagged', 'sagging', 'satisfying', 'saved', 'saving', 'saying', 'scared', 'scaring', 'scattered', 'scheduled', 'school-sponsored', 'scrambled', 'scrambling', 'scrapped', 'screened', 'screwed', 'scrutinizing', 'searched', 'searching', 'seasoned', 'secured', 'securities-based', 'seeing', 'seeking', 'seemed', 'segmenting', 'seized', 'selected', 'self-aggrandizing', 'self-perpetuating', 'self-serving', 'selling', 'sending', 'sentencing', 'served', 'serviced', 'servicing', 'serving', 'setting', 'settled', 'shaded', 'shaping', 'shared', 'shed', 'shedding', 'shipbuilding', 'shipped', 'shipping', 'shirt-sleeved', 'shopped', 'shopping', 'shoring', 'short-lived', 'showed', 'showing', 'shrinking', 'signaling', 'signed', 'signifying', 'signing', 'single-handed', 'singled', 'sitting', 'sketching', 'skidded', 'skilled', 'skipped', 'skyrocketed', 'slashing', 'slated', 'slaying', 'sleeping', 'sliding', 'slipped', 'slowed', 'slowing', 'smattering', 'smoking', 'smothering', 'snaking', 'snapped', 'sneaked', 'so-called', 'soared', 'soaring', 'softening', 'soliciting', 'solved', 'something', 'sometimes-exhausting', 'sophisticated', 'sorting', 'sounded', 'sounding', 'soured', 'sparing', 'sparked', 'sparking', 'speaking', 'specialized', 'specializing', 'specified', 'speculated', 'speculating', 'speed', 'spending', 'spilling', 'spooked', 'sports-oriented', 'spotted', 'sprawling', 'spring', 'spurned', 'spurred', 'spurring', 'sputtered', 'squeezed', 'stabbed', 'stacked', 'stacking', 'staggering', 'standardized', 'standing', 'started', 'starting', 'startling', 'state-appointed', 'state-owned', 'state-supervised', 'stated', 'stayed', 'staying', 'stemmed', 'stemming', 'stepped', 'stepping', 'stereotyped', 'sterling', 'sticking', 'stimulated', 'stimulating', 'stirred', 'stock-picking', 'stoked', 'stopped', 'stored', 'strapped', 'strengthened', 'stressed', 'stressing', 'stretched', 'stretching', 'striking', 'string', 'stripped', 'striving', 'strong-willed', 'structured', 'struggled', 'struggling', 'studied', 'studying', 'stunned', 'subdued', 'subjecting', 'subordinated', 'subpoenaed', 'substance-abusing', 'succeed', 'succeeded', 'succeeding', 'sued', 'suffered', 'suffering', 'suggested', 'suing', 'summoned', 'superimposed', 'supported', 'surfaced', 'surged', 'surprised', 'surprising', 'surrendered', 'surrounding', 'surveyed', 'surviving', 'suspended', 'sustained', 'swapped', 'swapping', 'sweeping', 'sweetened', 'swelling', 'swing', 'switched', 'synchronized', 'tailored', 'tailoring', 'taking', 'talked', 'talking', 'tanked', 'tapping', 'targeted', 'targeting', 'teaching', 'teetering', 'telling', 'tempted', 'tendered', 'tendering', 'termed', 'terminated', 'test-coaching', 'tested', 'testing', 'thin-lipped', 'thing', 'thinking', 'thirtysomething', 'threatened', 'thumbing', 'tie-breaking', 'tied', 'tightened', 'tightening', 'timing', 'tired', 'top-selling', 'top-yielding', 'topped', 'totaled', 'totaling', 'touched', 'touted', 'traced', 'tracked', 'tracking', 'traded', 'trading', 'trafficking', 'trailed', 'trained', 'training', 'transacting', 'transferring', 'transformed', 'transforming', 'transporting', 'travel-related', 'traveled', 'traveling', 'treated', 'treating', 'tried', 'triggered', 'trimmed', 'trimming', 'triple-A-rated', 'tripled', 'troubled', 'truth-in-lending', 'trying', 'tumbled', 'turned', 'turning', 'twinned', 'twisting', 'two-tiered', 'unabated', 'unaffiliated', 'unanticipated', 'unauthorized', 'unchanged', 'uncharted', 'uncompensated', 'uncomplaining', 'unconsolidated', 'undelivered', 'undercutting', 'undergoing', 'underlying', 'underperforming', 'underprivileged', 'understanding', 'undertaking', 'undisclosed', 'unenticing', 'unexpected', 'unfettered', 'unfilled', 'unfocused', 'unfounded', 'unfunded', 'unimpeded', 'unjustified', 'unlabeled', 'unleashed', 'unloaded', 'unmarked', 'unneeded', 'unpublished', 'unraveling', 'unrealized', 'unresolved', 'unrestricted', 'unsecured', 'unsettled', 'unsettling', 'unsolicited', 'unspecified', 'unstinting', 'untrained', 'unveiled', 'unwanted', 'unwashed', 'unwilling', 'upsetting', 'urged', 'urging', 'used', 'ushered', 'ushering', 'using', 'uttering', 'valued', 'varied', 'varying', 'ventilated', 'vested', 'video-viewing', 'viewed', 'viewing', 'violated', 'violating', 'visited', 'visiting', 'voted', 'voting', 'vowed', 'waited', 'waiting', 'waived', 'waiving', 'walking', 'wallowing', 'wanted', 'wanting', 'war-damaged', 'war-rationed', 'warehousing', 'warming', 'warned', 'warning', 'wasted', 'watched', 'watching', 'weakening', 'wedded', 'weighed', 'weighing', 'welcomed', 'well-connected', 'when-issued', 'whipping', 'whirling', 'willing', 'winding', 'wine-buying', 'wine-making', 'winning', 'wooing', 'word-processing', 'worked', 'working', 'worried', 'worrying', 'worsening', 'wrecking', 'wrenching', 'wrestling', 'writing', 'wrongdoing', 'yen-denominated', 'yet-to-be-formed', 'yielded', 'yielding', 'yttrium-containing', 'zoomed']\n"
     ]
    }
   ],
   "source": [
    "print([w for w in wsj if re.search('(ed|ing)$', w)])"
   ]
  },
  {
   "cell_type": "code",
   "execution_count": 59,
   "metadata": {},
   "outputs": [
    {
     "name": "stdout",
     "output_type": "stream",
     "text": [
      "['62%-owned', 'Absorbed', 'According', 'Adopting', 'Advanced', 'Advancing', 'Alfred', 'Allied', 'Annualized', 'Anything', 'Arbitrage-related', 'Arbitraging', 'Asked', 'Assuming', 'Atlanta-based', 'Baking', 'Banking', 'Beginning', 'Beijing', 'Being', 'Bermuda-based', 'Betting', 'Biedermann', 'Boeing', 'Breeden', 'Broadcasting', 'Bucking', 'Buying', 'Calif.-based', 'Cathedral', 'Cedric', 'Change-ringing', 'Citing', 'Concerned', 'Confederation', 'Confronted', 'Conn.based', 'Consolidated', 'Continued', 'Continuing', 'Credit', 'Declining', 'Defending', 'Depending', 'Designated', 'Determining', 'Developed', 'Died', 'During', 'Encouraged', 'Encouraging', 'English-speaking', 'Estimated', 'Everything', 'Excluding', 'Exxon-owned', 'Faulding', 'Fed', 'Federal', 'Federalist', 'Federation', 'Feeding', 'Filling', 'Filmed', 'Financing', 'Following', 'Founded', 'Fracturing', 'Francisco-based', 'Fred', 'Freddie', 'Frederick', 'Friedrichs', 'Funded', 'Funding', 'Generalized', 'Germany-based', 'Getting', 'Guaranteed', 'Having', 'Heating', 'Heightened', 'Holding', 'Housing', 'Illuminating', 'Impediments', 'Indeed', 'Indexing', 'Intermediate', 'Irving', 'Jersey-based', 'Judging', 'Kennedy', 'Knowing', 'Learning', 'Legislating', 'Leming', 'Limited', 'London-based', 'Manfred', 'Manufacturing', 'Media', 'Medical', 'Medicine', 'Melamed', 'Mercedes', 'Miami-based', 'Mich.-based', 'Mining', 'Minneapolis-based', 'Mo.-based', 'Montedison', 'Mortgage-Backed', 'Moving', 'Muzzling', 'N.J.-based', 'NBC-owned', 'NIH-appointed', 'Named', 'Nederlanden', 'Needham', 'No-Smoking', 'Observing', 'Offering', 'Ohio-based', 'Orleans-based', 'Packaging', 'Performing', 'Philadelphia-based', 'Posted', 'Proceeds', 'Provided', 'Publishing', 'Purchasing', 'Rated', 'Reached', 'Red', 'Red-blooded', 'Reddington', 'Redevelopment', 'Reducing', 'Reed', 'Regarded', 'Rekindled', 'Related', 'Ringing', 'Roederer', 'Rolling', 'Sacramento-based', 'Scoring', 'Seattle-based', 'Seed', 'Skilled', 'Smelting', 'Something', 'Speedway', 'Spending', 'Standardized', 'Standing', 'Starting', 'Sterling', 'Sweden', 'Taking', 'Teddy', 'Texas-based', 'Toledo', 'Toronto-based', 'Traded', 'Trading', 'Troubled', 'U.N.-supervised', 'U.S.-backed', 'United', 'Used', 'Varying', 'Washington-based', 'Wednesday', 'Wedtech', 'Whiting', 'Wilfred', 'Winning', 'Xiaoping', 'York-based', 'Zayed', 'abandoned', 'abating', 'abolishing', 'abortion-related', 'abounding', 'abridging', 'absorbed', 'acceded', 'accelerated', 'accepted', 'accepting', 'according', 'accounted', 'accounting', 'accrued', 'accumulated', 'accused', 'accusing', 'achieved', 'achieving', 'acknowledge', 'acknowledges', 'acknowledging', 'acquired', 'acquiring', 'acquisition-minded', 'acted', 'acting', 'adapted', 'adapting', 'added', 'adding', 'addressing', 'adjusted', 'adjusting', 'admitted', 'admitting', 'adopted', 'advanced', 'advancing', 'advertised', 'advertising', 'advised', 'advocated', 'advocating', 'affecting', 'afflicted', 'aggravated', 'agreed', 'agreed-upon', 'agreeing', 'ailing', 'aimed', 'aiming', 'aired', 'airline-related', 'alarmed', 'alienated', 'alleged', 'allegedly', 'alleging', 'allocated', 'allowed', 'altered', 'altering', 'amended', 'amending', 'amounted', 'amusing', 'angered', 'announced', 'annoyed', 'annualized', 'answered', 'anti-dumping', 'anticipated', 'anticipating', 'anything', 'apologizing', 'appealing', 'appeared', 'appearing', 'applied', 'appointed', 'approached', 'appropriated', 'approved', 'arched', 'argued', 'arguing', 'arising', 'armed', 'arranged', 'arrested', 'arrived', 'asbestos-related', 'asked', 'asking', 'assassinated', 'assembled', 'asserted', 'asserting', 'assessed', 'assigned', 'assisted', 'associated', 'assumed', 'assuming', 'assured', 'attached', 'attacking', 'attempted', 'attempting', 'attended', 'attending', 'attracted', 'attracting', 'attributed', 'auctioned', 'authorized', 'authorizing', 'automated', 'automotive-lighting', 'averaged', 'averted', 'avoiding', 'awarded', 'awarding', 'backed', 'backing', 'balanced', 'bald-faced', 'balkanized', 'balked', 'balloting', 'bank-backed', 'banking', 'banned', 'banning', 'barking', 'barred', 'based', 'battered', 'battery-operated', 'batting', 'bearing', 'becoming', 'bedding', 'beds', 'befuddled', 'beginning', 'behaving', 'beheading', 'being', 'beleaguered', 'believed', 'bell-ringing', 'belonging', 'benefited', 'best-selling', 'betting', 'bickering', 'bidding', 'billed', 'billing', 'blamed', 'bled', 'blessing', 'blighted', 'blocked', 'blurred', 'boarding', 'bolstered', 'bombarding', 'booked', 'booming', 'boosted', 'boosting', 'borrowed', 'borrowing', 'botched', 'bothered', 'bounced', 'bowed', 'breaking', 'breathed', 'breathtaking', 'breed', 'bribed', 'bribing', 'briefing', 'brightened', 'bring', 'bringing', 'broad-based', 'broadcasting', 'broadened', 'brokering', 'brushed', 'budding', 'building', 'bundling', 'buoyed', 'burned', 'buttoned-down', 'buying', 'calculated', 'called', 'calling', 'campaigning', 'cancer-causing', 'capitalized', 'capped', 'captivating', 'cared', 'carried', 'carrying', 'cascading', 'casting', 'caused', 'causing', 'cautioned', 'ceiling', 'centralized', 'certified', 'chaired', 'challenging', 'championing', 'change-ringing', 'changed', 'changing', 'characterized', 'characterizing', 'charged', 'charging', 'chastised', 'cheating', 'checking', 'cheerleading', 'chilled', 'choosing', 'chopped', 'circulated', 'cited', 'citing', 'citizen-sparked', 'city-owned', 'claimed', 'claiming', 'clamped', 'clarified', 'clashed', 'classed', 'classified', 'cleaned', 'cleaner-burning', 'cleared', 'clearing', 'clicked', 'climbed', 'climbing', 'clipped', 'clobbered', 'closed', 'closed-end', 'closing', 'clothing', 'clouding', 'cluttered', 'co-founded', 'coaching', 'coal-fired', 'coated', 'codified', 'collaborated', 'collapsed', 'collected', 'collecting', 'collective-bargaining', 'colored', 'combined', 'comedies', 'coming', 'commanded', 'commenting', 'committed', 'committing', 'compared', 'compelling', 'competed', 'competing', 'compiled', 'complained', 'complaining', 'completed', 'completing', 'complicated', 'composed', 'composting', 'compressed', 'computer-aided', 'computer-assisted', 'computer-generated', 'computerized', 'computing', 'concede', 'concedes', 'conceding', 'concentrated', 'concentrating', 'concerned', 'concluded', 'condemned', 'condemning', 'conducted', 'conducting', 'confined', 'confirmed', 'confused', 'connected', 'consented', 'considered', 'considering', 'consisting', 'construed', 'consulting', 'contacted', 'contained', 'containing', 'contesting', 'continued', 'continuing', 'contracted', 'contributed', 'contributing', 'controlled', 'controlling', 'converted', 'converting', 'convicted', 'convinced', 'cooled', 'cooperating', 'copied', 'copying', 'corn-buying', 'corrected', 'correcting', 'cost-cutting', 'cost-sharing', 'counseling', 'counting', 'coupled', 'court-ordered', 'covered', 'covering', 'cranked', 'crashing', 'created', 'creating', 'credentials', 'credibility', 'credit', 'credit-rating', 'creditor', 'creditors', 'credits', 'creditworthiness', 'crippled', 'criticized', 'crossed', 'crossing', 'crowded', 'cruising', 'crushed', 'crying', 'cultivated', 'curbed', 'curbing', 'curled', 'current-carrying', 'curtailed', 'cushioned', 'customized', 'cutting', 'damaged', 'damaging', 'dancing', 'darned', 'dashed', 'dating', 'dead-eyed', 'dealing', 'decided', 'declared', 'declaring', 'declined', 'declining', 'decorated', 'decried', 'deducting', 'deeds', 'deemed', 'defeated', 'defended', 'defined', 'defying', 'delayed', 'deliberating', 'delisted', 'delivered', 'delivering', 'demanding', 'demonstrating', 'denied', 'denouncing', 'denying', 'depended', 'depending', 'depleted', 'depressed', 'deprived', 'derived', 'descending', 'described', 'deserving', 'designated', 'designed', 'designing', 'desired', 'despised', 'detailed', 'deteriorated', 'deteriorating', 'determined', 'deterring', 'devastating', 'developed', 'developing', 'devised', 'devoted', 'devouring', 'diagnosed', 'died', 'diluted', 'diming', 'diminished', 'directed', 'directing', 'disaffected', 'disagreed', 'disappointed', 'disappointing', 'disapproved', 'discarded', 'disciplined', 'disclosed', 'disclosing', 'discontinued', 'discontinuing', 'discouraging', 'discovered', 'discredit', 'discussed', 'discussing', 'disembodied', 'dismayed', 'dismissed', 'disposed', 'disputed', 'disseminating', 'distinguished', 'distorted', 'distributed', 'disturbing', 'diversified', 'diversifying', 'divided', 'dividing', 'documented', 'doing', 'doling', 'dollar-denominated', 'dominated', 'dominating', 'doubled', 'doubted', 'downgraded', 'downgrading', 'drafted', 'drawing', 'dreamed', 'dressed', 'drifted', 'drinking', 'driving', 'drooled', 'dropped', 'dubbed', 'duckling', 'dumbfounded', 'dumped', 'during', 'dwindling', 'earned', 'earning', 'eased', 'easing', 'eating', 'echoed', 'edged', 'editing', 'edition', 'editions', 'editor', 'editorial', 'editorially', 'editors', 'educated', 'education', 'educational', 'educators', 'elected', 'eliminated', 'eliminating', 'embarrassing', 'embroiled', 'emerged', 'emerging', 'emphasized', 'employed', 'empowered', 'enabled', 'enabling', 'enacted', 'encircling', 'enclosed', 'encouraging', 'encroaching', 'ended', 'ending', 'endorsed', 'engaged', 'engaging', 'engineered', 'engineering', 'enhanced', 'enjoyed', 'enjoying', 'enlarged', 'enraged', 'ensnarled', 'entangled', 'entered', 'entering', 'entertaining', 'enticed', 'entitled', 'entrenched', 'entrusted', 'equaling', 'equipped', 'escalated', 'escaped', 'established', 'establishing', 'estimated', 'evaluated', 'evaluating', 'evaporated', 'evening', 'everything', 'evoking', 'evolved', 'exacerbated', 'examined', 'exceed', 'exceeded', 'exceeding', 'exceedingly', 'exceeds', 'exchanging', 'excited', 'exciting', 'executed', 'executing', 'exercised', 'exerting', 'exhausted', 'exhibited', 'existed', 'existing', 'expanded', 'expanding', 'expected', 'expecting', 'expedited', 'expelled', 'experienced', 'experiencing', 'expired', 'explained', 'explaining', 'exploded', 'export-oriented', 'exposed', 'expressed', 'expressing', 'expunged', 'extended', 'extending', 'exuded', 'eyeing', 'fabled', 'faced', 'facing', 'factoring', 'faded', 'failed', 'failing', 'fainting', 'falling', 'faltered', 'famed', 'family-planning', 'fared', 'fashioned', 'fast-growing', 'fastest-growing', 'fattened', 'favored', 'fawning', 'feared', 'featured', 'featuring', 'fed', 'federal', 'federally', 'feed', 'feeds', 'feeling', 'fetching', 'fielded', 'fighting', 'filed', 'filing', 'filled', 'filling', 'finalized', 'financed', 'financing', 'finding', 'fined', 'finished', 'fired', 'firmed', 'fixed', 'fixed-income', 'fixed-price', 'fixed-rate', 'fizzled', 'fled', 'fledgling', 'fleeting', 'flirted', 'floated', 'flooded', 'focused', 'focusing', 'folded', 'followed', 'following', 'forced', 'forcing', 'forecasting', 'foreign-led', 'formed', 'forthcoming', 'founded', 'foundering', 'freedom', 'freedoms', 'fretted', 'frightened', 'frustrating', 'fueled', 'fueling', 'full-fledged', 'fuming', 'functioning', 'funded', 'funding', 'fundraising', 'futures-related', 'gained', 'gaining', 'galling', 'galvanized', 'gambling', 'gauging', 'generated', 'getting', 'giving', 'going', 'good-hearted', 'good-natured', 'gored', 'government-certified', 'government-funded', 'government-owned', 'graduated', 'granted', 'granting', 'greed', 'greedy', 'gripping', 'growing', 'guaranteed', 'guarding', 'guided', 'gut-wrenching', 'hailed', 'hailing', 'halted', 'hampered', 'handed', 'handled', 'handling', 'happened', 'happening', 'hard-charging', 'hard-drinking', 'hard-hitting', 'harmed', 'harped', 'harvested', 'hauled', 'hauling', 'having', 'headed', 'heading', 'headlined', 'healing', 'hearing', 'heated', 'heating', 'hedging', 'heightened', 'helped', 'helping', 'high-flying', 'high-minded', 'high-polluting', 'high-priced', 'high-rolling', 'high-speed', 'higher-salaried', 'highest-pitched', 'hired', 'hitting', 'holding', 'hoped', 'hosted', 'housing', 'hugging', 'hundred', 'hundreds', 'hunted', 'hurting', 'identified', 'ignored', 'ignoring', 'immediate', 'immediately', 'impaired', 'impede', 'impeding', 'impending', 'implemented', 'implied', 'imported', 'imposed', 'imposing', 'impressed', 'improved', 'improving', 'incentive-backed', 'inched', 'inching', 'included', 'including', 'incorporated', 'increased', 'increasing', 'incredible', 'incurred', 'indeed', 'index-related', 'indicated', 'indicating', 'indulging', 'industrialized', 'industry-supported', 'inflated', 'influenced', 'influencing', 'infringed', 'ingredients', 'inherited', 'initialing', 'initiated', 'initiating', 'injecting', 'injuring', 'inkling', 'inquiring', 'inserted', 'insider-trading', 'insinuating', 'insisted', 'inspired', 'installed', 'installing', 'instituted', 'instructed', 'insured', 'integrated', 'intended', 'intentioned', 'interest-bearing', 'interested', 'interesting', 'intermediate', 'interrogated', 'interviewed', 'intriguing', 'introduced', 'introducing', 'invented', 'inverted', 'invested', 'investigating', 'investing', 'inviting', 'involved', 'involving', 'issued', 'issuing', 'jeopardizing', 'joined', 'joining', 'judged', 'jumped', 'jumping', 'justified', 'justifying', 'keeping', 'kicked', 'kidnapping', 'killed', 'killing', 'knitted', 'knocked', 'knowledge', 'knowledgeable', 'labeled', 'labeling', 'labor-backed', 'lacked', 'lagging', 'land-idling', 'landing', 'lasted', 'lasting', 'lauded', 'laughing', 'launched', 'lawmaking', 'laying', 'leading', 'learned', 'learning', 'leasing', 'leaving', 'led', 'lending', 'lengthened', 'lessening', 'letter-writing', 'letting', 'leveling', 'leveraged', 'leveraging', 'licensed', 'licensing', 'lifted', 'lifting', 'limited', 'limited-partnership', 'limiting', 'limping', 'linked', 'liquidated', 'listed', 'listing', 'living', 'loaded', 'loading', 'located', 'locked', 'long-tenured', 'longstanding', 'looked', 'looking', 'looming', 'losing', 'loved', 'low-priced', 'lower-priced', 'lowered', 'lowering', 'lying', 'machine-gun-toting', 'magnified', 'mailed', 'mailing', 'maintained', 'maintaining', 'making', 'male-dominated', 'managed', 'managing', 'manufactured', 'manufacturing', 'marching', 'market-based', 'market-oriented', 'marketed', 'marketing', 'matched', 'matching', 'materialized', 'mating', 'maturing', 'meaning', 'measured', 'meatpacking', 'medallions', 'media', 'medical', 'medicine', 'mediocre', 'medium-sized', 'meeting', 'melt-textured', 'mentioned', 'merchandising', 'merged', 'merger-related', 'midsized', 'milked', 'mind-boggling', 'mining', 'minority-owned', 'minted', 'mired', 'missed', 'mixed', 'mobilizing', 'moderated', 'mollified', 'money-losing', 'monied', 'morale-damaging', 'more-advanced', 'morning', 'mortgage-backed', 'mortgage-based', 'mortgaged', 'mounted', 'moved', 'moving', 'mudslinging', 'muffled', 'mulling', 'multiplying', 'murdered', 'muscling', 'muted', 'muzzling', 'named', 'naming', 'narrowed', 'need', 'needed', 'needing', 'needle-like', 'needs', 'needy', 'negotiated', 'negotiating', 'neighboring', 'networking', 'newspaper-printing', 'nominated', 'non-encapsulating', 'nonrecurring', 'notched', 'noted', 'nothing', 'noticed', 'noticing', 'notified', 'noting', 'notwithstanding', 'nullified', 'numbered', 'nurtured', 'obedient', 'obligated', 'observed', 'obsessed', 'obtained', 'obtaining', 'occupying', 'occurred', 'odd-sounding', 'offending', 'offered', 'offering', 'offsetting', 'old-fashioned', 'omitted', 'ongoing', 'opened', 'opening', 'operated', 'operating', 'opposed', 'orchestrated', 'ordered', 'ordering', 'organized', 'oriented', 'outdistanced', 'outlawed', 'outlawing', 'outnumbered', 'outpaced', 'outraged', 'outstanding', 'overcrowding', 'overleveraged', 'overpaying', 'overpriced', 'overriding', 'overstated', 'overused', 'overvalued', 'owed', 'owned', 'owning', 'packaging', 'packed', 'painted', 'painting', 'parched', 'parking', 'participated', 'parts-engineering', 'passed', 'passing', 'patented', 'paying', 'peaked', 'pealing', 'peddling', 'pediatrician', 'pegged', 'pending', 'perceived', 'performed', 'performing', 'permitted', 'permitting', 'phasing', 'photocopying', 'pianist-comedian', 'picked', 'picking', 'pinning', 'pitting', 'placed', 'placing', 'plagued', 'planned', 'planning', 'planted', 'planting', 'played', 'playing', 'pleaded', 'pleased', 'pledged', 'plugged', 'plummeted', 'plunged', 'plunging', 'pointed', 'pointing', 'polarized', 'policy-making', 'polled', 'populated', 'portrayed', 'posing', 'positioned', 'possessed', 'post-hearing', 'posted', 'posting', 'postponed', 'poured', 'practiced', 'practicing', 'praised', 'pre-approved', 'pre-cooked', 'pre-existing', 'preapproved', 'precedent', 'precedes', 'predecessor', 'predicated', 'predict', 'predictable', 'predictably', 'predicted', 'predicting', 'predicts', 'predispose', 'preferred', 'prepared', 'presented', 'preserving', 'pressed', 'pressing', 'pressured', 'prevailing', 'preventing', 'price-depressing', 'priced', 'pricing', 'printed', 'privileged', 'procedural', 'procedure', 'procedures', 'proceedings', 'proceeds', 'processing', 'produced', 'producing', 'profit-taking', 'profited', 'program-trading', 'programming', 'prohibited', 'prohibiting', 'prolonged', 'promised', 'promising', 'promoting', 'prompted', 'propelling', 'proposed', 'proposing', 'prosecuted', 'prosecuting', 'protected', 'protecting', 'protracted', 'proved', 'provided', 'providing', 'proving', 'provoked', 'prying', 'publicized', 'published', 'publishing', 'pulled', 'pulling', 'pumping', 'punishing', 'purchased', 'purchasing', 'purhasing', 'pursued', 'pushed', 'pushing', 'putting', 'puzzled', 'qualified', 'quashing', 'questioned', 'queuing', 'quipped', 'quitting', 'quoted', 'quoting', 'raced', 'racing', 'railing', 'raised', 'raising', 'rallying', 'ranged', 'ranging', 'ranked', 'rarefied', 'raring', 'ratcheting', 'rated', 'ratified', 'rating', 'rationed', 'reached', 'reaching', 'reacted', 'reading', 'reaffirmed', 'realized', 'reallocated', 'reaped', 'reaping', 'reasoning', 'reassuring', 'rebounding', 'rebuffed', 'rebuilding', 'rebuked', 'recalling', 'recede', 'received', 'receiving', 'recession-inspired', 'reciting', 'reclaimed', 'recognizing', 'recommended', 'recommending', 'record-keeping', 'recorded', 'recouped', 'recovered', 'recovering', 'recruited', 'recruiting', 'rectified', 'recycled', 'red', 'red-and-white', 'red-carpet', 'red-flag', 'redeem', 'redeemed', 'redeeming', 'redemption', 'redeploy', 'redistribute', 'redistributing', 'reds', 'reduce', 'reduced', 'reducing', 'reduction', 'reductions', 'reeling', 'referred', 'referring', 'refitting', 'reflected', 'reflecting', 'refocusing', 'refreshing', 'refunded', 'refunding', 'refused', 'regarded', 'regarding', 'regimented', 'registered', 'regulated', 'regulating', 'reimbursed', 'reinstating', 'rejected', 'related', 'relating', 'relaunched', 'released', 'relegated', 'relied', 'relieved', 'remained', 'remaining', 'remarked', 'reminded', 'remodeling', 'removed', 'removing', 'rendering', 'renewed', 'renewing', 'renovated', 'reopened', 'reorganized', 'repaired', 'repeatedly', 'replaced', 'replacing', 'replicated', 'replicating', 'reported', 'reportedly', 'reporting', 'represented', 'representing', 'repriced', 'requested', 'requesting', 'required', 'requiring', 'rescheduled', 'researching', 'reserved', 'reshaping', 'resigned', 'resigning', 'resisting', 'resolved', 'respected', 'responded', 'responding', 'restored', 'restricting', 'restructured', 'restructuring', 'resulted', 'resulting', 'retailing', 'retained', 'retaining', 'retaliating', 'retired', 'retiring', 'retraced', 'returned', 'returning', 'reversed', 'reviewed', 'reviewing', 'revised', 'revising', 'revived', 'rewarding', 'riding', 'rigged', 'ring', 'ringing', 'rising', 'robbed', 'rolled', 'rolling', 'romanticized', 'rooted', 'ruled', 'ruling', 'rumored', 'running', 'rushed', 'rusted', 'sacked', 'sacrificing', 'safeguarding', 'sagged', 'sagging', 'satisfying', 'saved', 'saving', 'saying', 'scared', 'scaring', 'scattered', 'schedule', 'scheduled', 'school-sponsored', 'scrambled', 'scrambling', 'scrapped', 'screened', 'screwed', 'scrutinizing', 'searched', 'searching', 'seasoned', 'secede', 'secured', 'securities-based', 'seduce', 'seeing', 'seeking', 'seemed', 'segmenting', 'seized', 'selected', 'self-aggrandizing', 'self-perpetuating', 'self-serving', 'selling', 'sending', 'sentencing', 'served', 'serviced', 'servicing', 'serving', 'setting', 'settled', 'shaded', 'shaping', 'shared', 'shed', 'shedding', 'shipbuilding', 'shipped', 'shipping', 'shirt-sleeved', 'shopped', 'shopping', 'shoring', 'short-lived', 'showed', 'showing', 'shrinking', 'signaling', 'signed', 'signifying', 'signing', 'single-handed', 'single-handedly', 'singled', 'sitting', 'sketching', 'skidded', 'skilled', 'skipped', 'skyrocketed', 'slashing', 'slated', 'slaying', 'sleeping', 'sliding', 'slipped', 'slowed', 'slowing', 'smattering', 'smoking', 'smothering', 'snaking', 'snapped', 'sneaked', 'so-called', 'soared', 'soaring', 'softening', 'soliciting', 'solved', 'something', 'sometimes-exhausting', 'sophisticated', 'sorting', 'sounded', 'sounding', 'soured', 'sparing', 'sparked', 'sparking', 'speaking', 'specialized', 'specializing', 'specified', 'speculated', 'speculating', 'speed', 'speedway', 'spending', 'spilling', 'spooked', 'sports-oriented', 'spotted', 'sprawling', 'spring', 'spurned', 'spurred', 'spurring', 'sputtered', 'squeezed', 'stabbed', 'stacked', 'stacking', 'staff-reduction', 'staggering', 'standardized', 'standing', 'started', 'starting', 'startling', 'state-appointed', 'state-owned', 'state-supervised', 'stated', 'stayed', 'staying', 'stemmed', 'stemming', 'stepped', 'stepping', 'stereotyped', 'sterling', 'sticking', 'stimulated', 'stimulating', 'stirred', 'stock-picking', 'stoked', 'stopped', 'stored', 'strapped', 'strengthened', 'stressed', 'stressing', 'stretched', 'stretching', 'striking', 'string', 'stripped', 'striving', 'strong-willed', 'structured', 'struggled', 'struggling', 'studied', 'studying', 'stunned', 'subdued', 'subjecting', 'subordinated', 'subpoenaed', 'substance-abusing', 'succeed', 'succeeded', 'succeeding', 'succeeds', 'sued', 'suffered', 'suffering', 'suggested', 'suing', 'summoned', 'superimposed', 'supported', 'supposedly', 'surfaced', 'surged', 'surprised', 'surprising', 'surrendered', 'surrounding', 'surveyed', 'surviving', 'suspended', 'sustained', 'swapped', 'swapping', 'sweeping', 'sweetened', 'swelling', 'swing', 'switched', 'synchronized', 'tailored', 'tailoring', 'taking', 'talked', 'talking', 'tanked', 'tapping', 'targeted', 'targeting', 'teaching', 'teetering', 'telling', 'tempted', 'tendered', 'tendering', 'termed', 'terminated', 'test-coaching', 'tested', 'testing', 'thin-lipped', 'thing', 'thinking', 'thirtysomething', 'threatened', 'thumbing', 'tie-breaking', 'tied', 'tightened', 'tightening', 'timing', 'tired', 'top-selling', 'top-yielding', 'topped', 'totaled', 'totaling', 'touched', 'touted', 'traced', 'tracked', 'tracking', 'traded', 'trading', 'trafficking', 'trailed', 'trained', 'training', 'transacting', 'transferring', 'transformed', 'transforming', 'transporting', 'travel-related', 'traveled', 'traveling', 'treated', 'treating', 'tried', 'triggered', 'trimmed', 'trimming', 'triple-A-rated', 'tripled', 'troubled', 'truth-in-lending', 'trying', 'tumbled', 'turned', 'turning', 'twinned', 'twisting', 'two-tiered', 'unabated', 'unaffiliated', 'unanticipated', 'unauthorized', 'unchanged', 'uncharted', 'uncompensated', 'uncomplaining', 'unconsolidated', 'undelivered', 'undercutting', 'undergoing', 'underlying', 'underperforming', 'underprivileged', 'understanding', 'undertaking', 'undisclosed', 'unenticing', 'unexpected', 'unfettered', 'unfilled', 'unfocused', 'unfounded', 'unfunded', 'unimpeded', 'unjustified', 'unlabeled', 'unleashed', 'unloaded', 'unmarked', 'unneeded', 'unpublished', 'unraveling', 'unrealized', 'unresolved', 'unrestricted', 'unsecured', 'unsettled', 'unsettling', 'unsolicited', 'unspecified', 'unstinting', 'untrained', 'unveiled', 'unwanted', 'unwashed', 'unwilling', 'upsetting', 'urged', 'urging', 'used', 'ushered', 'ushering', 'using', 'uttering', 'valued', 'varied', 'varying', 'ventilated', 'vested', 'video-viewing', 'viewed', 'viewing', 'violated', 'violating', 'visited', 'visiting', 'voted', 'voting', 'vowed', 'waited', 'waiting', 'waived', 'waiving', 'walking', 'wallowing', 'wanted', 'wanting', 'war-damaged', 'war-rationed', 'warehousing', 'warming', 'warned', 'warning', 'wasted', 'watched', 'watching', 'weakening', 'wedded', 'weddings', 'weighed', 'weighing', 'welcomed', 'well-connected', 'when-issued', 'whipping', 'whirling', 'willing', 'winding', 'wine-buying', 'wine-making', 'winning', 'wooing', 'word-processing', 'worked', 'working', 'worried', 'worrying', 'worsening', 'wrecking', 'wrenching', 'wrestling', 'writing', 'wrongdoing', 'yen-denominated', 'yet-to-be-formed', 'yielded', 'yielding', 'yttrium-containing', 'zoomed']\n"
     ]
    }
   ],
   "source": [
    "print([w for w in wsj if re.search('ed|ing$', w)])#without the paranthesis"
   ]
  },
  {
   "cell_type": "code",
   "execution_count": 61,
   "metadata": {},
   "outputs": [
    {
     "name": "stdout",
     "output_type": "stream",
     "text": [
      "1841\n"
     ]
    }
   ],
   "source": [
    "print(len([w for w in wsj if re.search('(ed|ing)$', w)]))#length with the paranthesis"
   ]
  },
  {
   "cell_type": "code",
   "execution_count": 62,
   "metadata": {},
   "outputs": [
    {
     "name": "stdout",
     "output_type": "stream",
     "text": [
      "1969\n"
     ]
    }
   ],
   "source": [
    "print(len([w for w in wsj if re.search('ed|ing$', w)]))#length without the paranthesis"
   ]
  },
  {
   "cell_type": "markdown",
   "metadata": {},
   "source": [
    "### Useful Applications of Regular Expressions"
   ]
  },
  {
   "cell_type": "code",
   "execution_count": 64,
   "metadata": {},
   "outputs": [
    {
     "name": "stdout",
     "output_type": "stream",
     "text": [
      "['u', 'e', 'a', 'i', 'a', 'i', 'i', 'i', 'e', 'i', 'a', 'i', 'o', 'i', 'o', 'u']\n"
     ]
    }
   ],
   "source": [
    "word='supercalifragilisticexpialidocious'\n",
    "print(re.findall(r'[aeiou]', word))"
   ]
  },
  {
   "cell_type": "code",
   "execution_count": 68,
   "metadata": {
    "scrolled": true
   },
   "outputs": [
    {
     "name": "stdout",
     "output_type": "stream",
     "text": [
      "dict_items([('ea', 476), ('oi', 65), ('ou', 329), ('io', 549), ('ee', 217), ('ie', 331), ('ui', 95), ('ua', 109), ('ai', 261), ('ue', 105), ('ia', 253), ('ei', 86), ('iai', 1), ('oo', 174), ('au', 106), ('eau', 10), ('oa', 59), ('oei', 1), ('oe', 15), ('eo', 39), ('uu', 1), ('eu', 18), ('iu', 14), ('aii', 1), ('aiia', 1), ('ae', 11), ('aa', 3), ('oui', 6), ('ieu', 3), ('ao', 6), ('iou', 27), ('uee', 4), ('eou', 5), ('aia', 1), ('uie', 3), ('iao', 1), ('eei', 2), ('uo', 8), ('uou', 5), ('eea', 1), ('ueui', 1), ('ioa', 1), ('ooi', 1)])\n"
     ]
    }
   ],
   "source": [
    "fd= nltk.FreqDist(w for word in wsj for w in re.findall('[aeiou]{2,}', word))\n",
    "print(fd.items())"
   ]
  },
  {
   "cell_type": "code",
   "execution_count": 85,
   "metadata": {},
   "outputs": [
    {
     "data": {
      "text/plain": [
       "[2009, 12, 31]"
      ]
     },
     "execution_count": 85,
     "metadata": {},
     "output_type": "execute_result"
    }
   ],
   "source": [
    "[int(n) for n in re.findall(r'[0-9]+', '2009-12-31')]"
   ]
  },
  {
   "cell_type": "markdown",
   "metadata": {},
   "source": [
    "It is sometimes noted that English text is highly redundant, and it is still easy to read\n",
    "when word-internal vowels are left out. For example, declaration becomes dclrtn, and\n",
    "inalienable becomes inlnble, retaining any initial or final vowel sequences. The regular\n",
    "expression in our next example matches initial vowel sequences, final vowel sequences,\n",
    "and all consonants; everything else is ignored."
   ]
  },
  {
   "cell_type": "code",
   "execution_count": 103,
   "metadata": {
    "collapsed": true
   },
   "outputs": [],
   "source": [
    "def compress_word(word):\n",
    "    return ''.join(re.findall(r'^[aeiouAEIOU]+|[^aeiouAEIOU]+$|[^AEIOUaeiou]', word))\n"
   ]
  },
  {
   "cell_type": "code",
   "execution_count": 104,
   "metadata": {},
   "outputs": [
    {
     "name": "stdout",
     "output_type": "stream",
     "text": [
      "Unvrsl Dclrtn of Hmn Rghts Prmbl Whrs rcgntn of th inhrnt dgnty and of\n",
      "th eql and inlnbl rghts of all mmbrs of th hmn fmly is th fndtn of\n",
      "frdm , jstc and pc in th wrld , Whrs dsrgrd and cntmpt fr hmn rghts hv\n",
      "rsltd in brbrs acts whch hv outrgd th cnscnc of mnknd , and th advnt\n",
      "of a wrld in whch hmn bngs shll enjy frdm of spch and\n"
     ]
    }
   ],
   "source": [
    "english_udhr = nltk.corpus.udhr.words('English-Latin1')\n",
    "print(nltk.tokenwrap(compress_word(w) for w in english_udhr[:75]))"
   ]
  },
  {
   "cell_type": "code",
   "execution_count": 105,
   "metadata": {},
   "outputs": [
    {
     "name": "stdout",
     "output_type": "stream",
     "text": [
      "    a   e   i   o   u \n",
      "k 418 148  94 420 173 \n",
      "p  83  31 105  34  51 \n",
      "r 187  63  84  89  79 \n",
      "s   0   0 100   2   1 \n",
      "t  47   8   0 148  37 \n",
      "v  93  27 105  48  49 \n"
     ]
    }
   ],
   "source": [
    "rotokas_words= nltk.corpus.toolbox.words('rotokas.dic')\n",
    "cvs=[cv for w in rotokas_words for cv in re.findall(r'[ptksvr][aeiou]', w)]\n",
    "cfd=nltk.ConditionalFreqDist(cvs)\n",
    "cfd.tabulate()"
   ]
  },
  {
   "cell_type": "code",
   "execution_count": 106,
   "metadata": {
    "collapsed": true
   },
   "outputs": [],
   "source": [
    "cv_word_pairs=[(cv, w) for w in rotokas_words for cv in re.findall(r'[ptksvr][aeiou]', w)]\n",
    "cv_index=nltk.Index(cv_word_pairs)"
   ]
  },
  {
   "cell_type": "code",
   "execution_count": 108,
   "metadata": {},
   "outputs": [
    {
     "name": "stdout",
     "output_type": "stream",
     "text": [
      "['kaakuupato', 'kaapa', 'kaapiepato', 'kaapopato', 'kaepaa', 'Kakarapaia', 'kakupaa', 'kakuparei', 'kakupato', 'kapa', 'kapa', 'kapaava', 'kapai', 'kapara', 'kaparu', 'kaparuvira', 'kapatau', 'kapatoro', 'kapatoroto', 'kapopaa', 'kaporopa', 'kapuapato', 'kapupiepaa', 'kapuupiepa', 'karirapa', 'karopato', 'katopato', 'kausiopa', 'kaveepaa', 'keekeepa', 'kekesopa', 'keopa', 'kepa', 'kepa toupato', 'kepa toupato', 'keripaara', 'keripato', 'kipa', 'kipapie', 'kipupaa', 'kipupato', 'kirokiropato', 'kirupato', 'koepato', 'koikoipato', 'kokarapato', 'kokepato', 'kokepato', 'Kokipaia', 'kokopa', 'kokopakou', 'kokoropato', 'kokovupaparie', 'kokovupaparie', 'kootopa', 'kooupato', 'kopa', 'kopakai', 'kopakava', 'kopakopa', 'kopakopa', 'kopakovira', 'kopato', 'kopiipato', 'kopupa', 'korapato', 'korikoripava', 'korukorupato', 'kosipa', 'kosipato', 'kotopa', 'kotopa', 'kovapato', 'koveoapa', 'kovopaa', 'kovopato', 'kukuepaa', 'kukuvaipaa', 'kupare', 'kupareto', 'kupekupepa', 'kuripaa', 'kuvupato']\n"
     ]
    }
   ],
   "source": [
    "print(cv_index['pa'])"
   ]
  },
  {
   "cell_type": "code",
   "execution_count": 109,
   "metadata": {},
   "outputs": [
    {
     "name": "stdout",
     "output_type": "stream",
     "text": [
      "['kasuari']\n"
     ]
    }
   ],
   "source": [
    "print(cv_index['su'])"
   ]
  },
  {
   "cell_type": "code",
   "execution_count": 112,
   "metadata": {},
   "outputs": [
    {
     "name": "stdout",
     "output_type": "stream",
     "text": [
      "['kaa', 'kaa', 'kaa', 'kaakaaro', 'kaakaaro', 'kaakaaviko', 'kaakaaviko', 'kaakaavo', 'kaakaavo', 'kaakaoko', 'kaakaoko', 'kaakasi', 'kaakasi', 'kaakau', 'kaakau', 'kaakauko', 'kaakauko', 'kaakito', 'kaakuupato', 'kaaova', 'kaapa', 'kaapea', 'kaapie', 'kaapie', 'kaapiepato', 'kaapisi', 'kaapisivira', 'kaapo', 'kaapopato', 'kaara', 'kaare', 'kaareko', 'kaarekopie', 'kaareto', 'kaava', 'kaavaaua', 'kaaveaka', 'kaaveaka', 'kaaveakapie', 'kaaveakapie', 'kaaveakapievira', 'kaaveakapievira', 'kaaveakavira', 'kaaveakavira', 'kae', 'kae', 'kaekae', 'kaekae', 'kaekae', 'kaekae', 'kaekaearo', 'kaekaearo', 'kaekaeo', 'kaekaeo', 'kaekaesoto', 'kaekaesoto', 'kaekaevira', 'kaekaevira', 'kaekeru', 'kaepaa', 'kaepie', 'kaepie', 'kaepievira', 'kaereasi', 'kaereasivira', 'kaetu', 'kaetupie', 'kaetuvira', 'kaeviro', 'kagave', 'kaie', 'kaiea', 'kaikaio', 'kaikaio', 'kaipori', 'kaiporipie', 'kaiporivira', 'kairi', 'kairiro', 'kairo', 'kaita', 'kaitutu', 'kaitutupie', 'kaitutuvira', 'kakae', 'kakae', 'kakae', 'kakae', 'kakae', 'kakae', 'kakaevira', 'kakaevira', 'kakapikoa', 'kakapikoa', 'kakapikoto', 'kakapikoto', 'kakapu', 'kakapu', 'kakapua', 'kakapua', 'kakara', 'kakara', 'Kakarapaia', 'kakarau', 'kakarau', 'Kakarera', 'kakata', 'kakata', 'kakate', 'kakate', 'kakatuara', 'kakatuara', 'kakau', 'kakau', 'kakauoa', 'kakauoa', 'kakavea', 'kakavea', 'kakavoro', 'kakavoro', 'kakavu', 'kakavu', 'kakeoto', 'kaki', 'kaki', 'kakiaki', 'kakiri', 'kakiua', 'kaku', 'kakua', 'kakuaku', 'kakupaa', 'kakuparei', 'kakupato', 'kakupie', 'kakupute', 'kakutauo', 'kakuto', 'kakutuiato', 'kakuva', 'kakuvira', 'kameoro', 'kandora', 'kaokao', 'kaokao', 'kaokaoara', 'kaokaoara', 'kaokaoto', 'kaokaoto', 'kapa', 'kapa', 'kapaava', 'kapai', 'kapara', 'kaparu', 'kaparuvira', 'kapatau', 'kapatoro', 'kapatoroto', 'kape', 'kapeaa', 'kapeaa', 'kapeaavira', 'kapekape', 'kapekape', 'kapekapevira', 'kapekapevira', 'kapere', 'kaperepie', 'kapi', 'kapiaa', 'kapiaavira', 'kapikapi', 'kapikapi', 'kapiro', 'kapiroa', 'kapiroko', 'kapisi', 'kapisito', 'kapiu', 'kapiua', 'kapo', 'kapoa', 'kapokao', 'kapokao', 'kapokapo', 'kapokapo', 'kapokapoa', 'kapokapoa', 'kapokapora', 'kapokapora', 'kapokaporo', 'kapokaporo', 'kapokari', 'kapokari', 'kapokarito', 'kapokarito', 'kapokoa', 'kapoo', 'kapooto', 'kapoovira', 'kapopaa', 'kaporo', 'kaporo', 'kaporopa', 'kaporoto', 'kapoto', 'kapu', 'kapua', 'kapua', 'kapuapato', 'kapuapie', 'kapuasisi', 'kapupie', 'kapupiea', 'kapupiepaa', 'kapuu', 'kapuupie', 'kapuupiepa', 'kara', 'karaava', 'karakarao', 'karakarao', 'karakaraoa', 'karakaraoa', 'karakaraoto', 'karakaraoto', 'karakaraovira', 'karakaraovira', 'karakaroto', 'karakaroto', 'karakuku', 'karaova', 'karapi', 'karapivira', 'karara', 'karata', 'karato', 'karavau', 'karavisi', 'karavisito', 'karavuru', 'kare', 'kare', 'karekare', 'karekare', 'karekare', 'karekare', 'karekarererava', 'karekarererava', 'karekareto', 'karekareto', 'kareke', 'karekepie', 'karekova', 'kareo', 'kareovira', 'karepie', 'karepieto', 'kari', 'karia', 'kariava', 'karikari', 'karikari', 'karirapa', 'karisito', 'karivai', 'karivaito', 'karivara', 'karo', 'karokaropo', 'karokaropo', 'karopato', 'karopo', 'karot', 'karoto', 'karova', 'karu', 'karuka', 'karuka', 'karukaru', 'karukaru', 'karukava', 'karukava', 'karutu', 'karuvira', 'kasi', 'kasi', 'kasi', 'kasiarao', 'kasiava', 'kasikasi', 'kasikasi', 'Kasikasiua', 'kasipie', 'kasipu', 'kasipupie', 'kasipuvira', 'kasirao', 'kasiraopie', 'kasiraovira', 'kasiu', 'kasiura', 'kasivari', 'kasuari', 'kata', 'katai', 'kataitoarei', 'katakatai', 'katakatai', 'katakataivira', 'katakataivira', 'kataraua', 'katarauto', 'katavira', 'katokato', 'katokato', 'katokatoto', 'katokatoto', 'katokatovira', 'katokatovira', 'katokoi', 'katopato', 'katoto', 'katuara', 'katuarato', 'katukatu', 'katukatu', 'katuta', 'kau', 'kaukau', 'kaukau', 'kaukaupie', 'kaukaupie', 'kaukauvira', 'kaukauvira', 'kaukovo', 'kauo', 'kauokauo', 'kauokauo', 'kaureo', 'kaureoto', 'kausiopa', 'kausiovira', 'kavakavau', 'kavakavau', 'kavatao', 'kavau', 'kavau', 'kavau asiava', 'kave', 'kavee', 'kaveepaa', 'kaverui', 'kaveruko', 'kavesi', 'kavikavi', 'kavikavi', 'kavikaviru', 'kavikaviru', 'kavikaviru', 'kavikaviru', 'kaviko', 'kavikoa', 'kaviru', 'kaviru', 'kaviruto', 'kaviruvira', 'kavo', 'kavokavo', 'kavokavo', 'kavokavoa', 'kavokavoa', 'kavokavoto', 'kavokavoto', 'kavora', 'kavorato', 'kavori', 'kavori', 'kavorou', 'kavovoa', 'kavovovira', 'kavu', 'kavu', 'kavuava', 'kavupie', 'kavura', 'kavurao', 'kavusi', 'kavuvo', 'keoka', 'Kereaka', 'Keriaka', 'ketaka', 'ketakaa', 'kiikariko', 'kikisikae', 'kirikaokao', 'kirikaokao', 'koka', 'kokai', 'kokara', 'kokaraa', 'kokarapato', 'kookaa', 'kookai', 'kopakai', 'kopakava', 'kopikao', 'korekare', 'kovuaka', 'kuka', 'kukara', 'kukauviro', 'kurikaakaakuto', 'kurikaakaakuto', 'kurikasi', 'kurikasivira']\n"
     ]
    }
   ],
   "source": [
    "print(cv_index['ka'])"
   ]
  },
  {
   "cell_type": "code",
   "execution_count": 113,
   "metadata": {},
   "outputs": [
    {
     "name": "stdout",
     "output_type": "stream",
     "text": [
      "True\n"
     ]
    }
   ],
   "source": [
    "print('kasuari' in cv_index['ka'])"
   ]
  },
  {
   "cell_type": "markdown",
   "metadata": {},
   "source": [
    "### Finding Word Stems "
   ]
  },
  {
   "cell_type": "code",
   "execution_count": 127,
   "metadata": {},
   "outputs": [
    {
     "data": {
      "text/plain": [
       "['ing']"
      ]
     },
     "execution_count": 127,
     "metadata": {},
     "output_type": "execute_result"
    }
   ],
   "source": [
    "re.findall(r'^.*(ing|ly|ed|ious|ies|ivs|s|es|ment)$', 'processing')"
   ]
  },
  {
   "cell_type": "code",
   "execution_count": 130,
   "metadata": {},
   "outputs": [
    {
     "data": {
      "text/plain": [
       "['processing']"
      ]
     },
     "execution_count": 130,
     "metadata": {},
     "output_type": "execute_result"
    }
   ],
   "source": [
    "re.findall(r'^.*[ing|ly|ed|ious|ies|ivs|s|es|ment]$', 'processing')"
   ]
  },
  {
   "cell_type": "markdown",
   "metadata": {},
   "source": [
    "Here, re.findall() just gave us the suffix even though the regular expression matched\n",
    "the entire word. This is because the parentheses have a second function, to select substrings\n",
    "to be extracted. If we want to use the parentheses to specify the scope of the\n",
    "disjunction, but not to select the material to be output, we have to add ?:, which is just\n",
    "one of many arcane subtleties of regular expressions."
   ]
  },
  {
   "cell_type": "code",
   "execution_count": 131,
   "metadata": {},
   "outputs": [
    {
     "data": {
      "text/plain": [
       "['processing']"
      ]
     },
     "execution_count": 131,
     "metadata": {},
     "output_type": "execute_result"
    }
   ],
   "source": [
    "re.findall(r'^.*(?:ing|ly|ed|ious|ies|ivs|s|es|ment)$', 'processing')"
   ]
  },
  {
   "cell_type": "markdown",
   "metadata": {},
   "source": [
    "However, we’d actually like to split the word into stem and suffix. So we should just\n",
    "parenthesize both parts of the regular expression"
   ]
  },
  {
   "cell_type": "code",
   "execution_count": 132,
   "metadata": {},
   "outputs": [
    {
     "data": {
      "text/plain": [
       "[('process', 'ing')]"
      ]
     },
     "execution_count": 132,
     "metadata": {},
     "output_type": "execute_result"
    }
   ],
   "source": [
    "re.findall(r'^(.*)(ing|ly|ed|ious|ies|ivs|s|es|ment)$', 'processing')"
   ]
  },
  {
   "cell_type": "markdown",
   "metadata": {},
   "source": [
    "Still has a problem though"
   ]
  },
  {
   "cell_type": "code",
   "execution_count": null,
   "metadata": {
    "collapsed": true
   },
   "outputs": [],
   "source": []
  },
  {
   "cell_type": "markdown",
   "metadata": {},
   "source": [
    "The regular expression incorrectly found an -s suffix instead of an -es suffix. This demonstrates\n",
    "another subtlety: the star operator is “greedy” and so the .* part of the expression\n",
    "tries to consume as much of the input as possible. If we use the “non-greedy”\n",
    "version of the star operator, written *?, we get what we want:')"
   ]
  },
  {
   "cell_type": "code",
   "execution_count": 133,
   "metadata": {},
   "outputs": [
    {
     "data": {
      "text/plain": [
       "[('process', 'es')]"
      ]
     },
     "execution_count": 133,
     "metadata": {},
     "output_type": "execute_result"
    }
   ],
   "source": [
    "re.findall(r'^(.*?)(ing|ly|ed|ious|ies|ivs|s|es|ment)$', 'processes')"
   ]
  },
  {
   "cell_type": "code",
   "execution_count": 134,
   "metadata": {},
   "outputs": [
    {
     "data": {
      "text/plain": [
       "[('language', '')]"
      ]
     },
     "execution_count": 134,
     "metadata": {},
     "output_type": "execute_result"
    }
   ],
   "source": [
    "re.findall(r'^(.*?)(ing|ly|ed|ious|ivs|s|es|ment)?$', 'language')"
   ]
  },
  {
   "cell_type": "code",
   "execution_count": 137,
   "metadata": {
    "collapsed": true
   },
   "outputs": [],
   "source": [
    "def stem(word):\n",
    "    regexp=r'(.*?)(ing|ly|ed|ious|ivs|s|es|ment)?$'\n",
    "    stem, suffix=re.findall(regexp, word)[0Notice that our regular expression removed the s from ponds but also from is and\n",
    "basis. It produced some non-words, such as distribut and deriv, but these are acceptable\n",
    "stems in some applications]\n",
    "    return stem"
   ]
  },
  {
   "cell_type": "code",
   "execution_count": 138,
   "metadata": {},
   "outputs": [
    {
     "name": "stdout",
     "output_type": "stream",
     "text": [
      "['DENNIS', ':', 'Listen', ',', 'strange', 'women', 'ly', 'in', 'pond', 'distribut', 'sword', 'i', 'no', 'basi', 'for', 'a', 'system', 'of', 'govern', '.', 'Supreme', 'executive', 'power', 'deriv', 'from', 'a', 'mandate', 'from', 'the', 'mass', ',', 'not', 'from', 'some', 'farcical', 'aquatic', 'ceremony', '.']\n"
     ]
    }
   ],
   "source": [
    "raw = \"\"\"DENNIS: Listen, strange women lying in ponds distributing swords\n",
    "... is no basis for a system of government. Supreme executive power derives from\n",
    "... a mandate from the masses, not from some farcical aquatic ceremony.\"\"\"\n",
    "tokens=nltk.word_tokenize(raw)\n",
    "print([stem(w) for w in tokens])"
   ]
  },
  {
   "cell_type": "markdown",
   "metadata": {},
   "source": []
  },
  {
   "cell_type": "markdown",
   "metadata": {},
   "source": [
    "Notice that our regular expression removed the s from ponds but also from is and\n",
    "basis. It produced some non-words, such as distribut and deriv, but these are acceptable\n",
    "stems in some applications"
   ]
  },
  {
   "cell_type": "markdown",
   "metadata": {},
   "source": [
    "### Searching Tokenized Text"
   ]
  },
  {
   "cell_type": "markdown",
   "metadata": {},
   "source": [
    "You can use a special kind of regular expression for searching across multiple words in\n",
    "a text (where a text is a list of tokens)."
   ]
  },
  {
   "cell_type": "code",
   "execution_count": 144,
   "metadata": {},
   "outputs": [
    {
     "name": "stdout",
     "output_type": "stream",
     "text": [
      "monied; nervous; dangerous; white; white; white; pious; queer; good;\n",
      "mature; white; Cape; great; wise; wise; butterless; white; fiendish;\n",
      "pale; furious; better; certain; complete; dismasted; younger; brave;\n",
      "brave; brave; brave\n"
     ]
    }
   ],
   "source": [
    "from nltk.corpus import gutenberg, nps_chat\n",
    "mob= nltk.Text(gutenberg.words('melville-moby_dick.txt'))\n",
    "mob.findall(r'<a> (<.*>) <man>')"
   ]
  },
  {
   "cell_type": "code",
   "execution_count": 145,
   "metadata": {},
   "outputs": [
    {
     "name": "stdout",
     "output_type": "stream",
     "text": [
      "you rule bro; telling you bro; u twizted bro\n"
     ]
    }
   ],
   "source": [
    "chat = nltk.Text(nps_chat.words())\n",
    "chat.findall(r'<.*><.*><bro>')"
   ]
  },
  {
   "cell_type": "code",
   "execution_count": 146,
   "metadata": {},
   "outputs": [
    {
     "name": "stdout",
     "output_type": "stream",
     "text": [
      "lol lol lol; lmao lol lol; lol lol lol; la la la la la; la la la; la\n",
      "la la; lovely lol lol love; lol lol lol.; la la la; la la la\n"
     ]
    }
   ],
   "source": [
    "chat.findall(r'<l.*>{3,}')"
   ]
  },
  {
   "cell_type": "code",
   "execution_count": 156,
   "metadata": {},
   "outputs": [
    {
     "name": "stdout",
     "output_type": "stream",
     "text": [
      "process{ing} and think{ing} and paint{ing} and many {ing}'s\n"
     ]
    }
   ],
   "source": [
    "nltk.re_show(r'(ing)', 'processing and thinking and painting and many ing\\'s')"
   ]
  },
  {
   "cell_type": "code",
   "execution_count": 162,
   "metadata": {},
   "outputs": [
    {
     "name": "stdout",
     "output_type": "stream",
     "text": [
      "speed and other activities; water and other liquids; tomb and other\n",
      "landmarks; Statues and other monuments; pearls and other jewels;\n",
      "charts and other items; roads and other features; figures and other\n",
      "objects; military and other areas; demands and other factors;\n",
      "abstracts and other compilations; iron and other metals\n"
     ]
    }
   ],
   "source": [
    "from nltk.corpus import brown\n",
    "hobbies_learned = nltk.Text(brown.words(categories=['hobbies','learned']))\n",
    "hobbies_learned.findall(r'<\\w*> <and><other><\\w*s>')"
   ]
  },
  {
   "cell_type": "code",
   "execution_count": null,
   "metadata": {
    "collapsed": true
   },
   "outputs": [],
   "source": []
  }
 ],
 "metadata": {
  "kernelspec": {
   "display_name": "Python 3",
   "language": "python",
   "name": "python3"
  },
  "language_info": {
   "codemirror_mode": {
    "name": "ipython",
    "version": 3
   },
   "file_extension": ".py",
   "mimetype": "text/x-python",
   "name": "python",
   "nbconvert_exporter": "python",
   "pygments_lexer": "ipython3",
   "version": "3.6.3"
  }
 },
 "nbformat": 4,
 "nbformat_minor": 2
}

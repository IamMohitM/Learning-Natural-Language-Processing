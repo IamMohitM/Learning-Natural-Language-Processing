{
 "cells": [
  {
   "cell_type": "code",
   "execution_count": 16,
   "metadata": {
    "collapsed": true
   },
   "outputs": [],
   "source": [
    "import nltk\n",
    "from nltk import load_parser"
   ]
  },
  {
   "cell_type": "markdown",
   "metadata": {},
   "source": [
    "**Develop a variant of grammar in 1.1 that uses a feature count to make the distinctions shown below:**\n",
    "\n",
    "(54)\t<br>\t\n",
    "a. The boy sings.\n",
    "\n",
    "\n",
    "b. Boy sings.\n",
    "\n",
    "(55)<br>\t\n",
    "a. The boys sing.\n",
    "\n",
    "b. Boys sing.\n",
    "\n",
    "\n",
    "\n",
    "(56)<br>\t\n",
    "a. The boys sing.\n",
    "\n",
    "b. Boys sing.\n",
    "\n",
    "\n",
    "\n",
    "(57)<br>\t\t\n",
    "a. The water is precious.\n",
    "\n",
    "\n",
    "b. Water is precious.\n",
    "\n",
    "\n"
   ]
  },
  {
   "cell_type": "code",
   "execution_count": 4,
   "metadata": {},
   "outputs": [
    {
     "name": "stdout",
     "output_type": "stream",
     "text": [
      "% start S\n",
      "# ###################\n",
      "# Grammar Productions\n",
      "# ###################\n",
      "# S expansion productions\n",
      "S -> NP[NUM=?n] VP[NUM=?n]\n",
      "# NP expansion productions\n",
      "NP[NUM=?n] -> N[NUM=?n] \n",
      "NP[NUM=?n] -> PropN[NUM=?n] \n",
      "NP[NUM=?n] -> Det[NUM=?n] N[NUM=?n]\n",
      "NP[NUM=pl] -> N[NUM=pl] \n",
      "# VP expansion productions\n",
      "VP[TENSE=?t, NUM=?n] -> IV[TENSE=?t, NUM=?n]\n",
      "VP[TENSE=?t, NUM=?n] -> TV[TENSE=?t, NUM=?n] NP\n",
      "# ###################\n",
      "# Lexical Productions\n",
      "# ###################\n",
      "Det[NUM=sg] -> 'this' | 'every'\n",
      "Det[NUM=pl] -> 'these' | 'all'\n",
      "Det -> 'the' | 'some' | 'several'\n",
      "PropN[NUM=sg]-> 'Kim' | 'Jody'\n",
      "N[NUM=sg] -> 'dog' | 'girl' | 'car' | 'child'\n",
      "N[NUM=pl] -> 'dogs' | 'girls' | 'cars' | 'children' \n",
      "IV[TENSE=pres,  NUM=sg] -> 'disappears' | 'walks'\n",
      "TV[TENSE=pres, NUM=sg] -> 'sees' | 'likes'\n",
      "IV[TENSE=pres,  NUM=pl] -> 'disappear' | 'walk'\n",
      "TV[TENSE=pres, NUM=pl] -> 'see' | 'like'\n",
      "IV[TENSE=past] -> 'disappeared' | 'walked'\n",
      "TV[TENSE=past] -> 'saw' | 'liked'\n"
     ]
    }
   ],
   "source": [
    "#Grammar 1.1\n",
    "nltk.data.show_cfg('grammars/book_grammars/feat0.fcfg')"
   ]
  },
  {
   "cell_type": "code",
   "execution_count": 30,
   "metadata": {},
   "outputs": [],
   "source": [
    "gram = nltk.data.load('file:C:/Users/mohit/Desktop/mygrammar.fcfg')"
   ]
  },
  {
   "cell_type": "code",
   "execution_count": 31,
   "metadata": {},
   "outputs": [
    {
     "data": {
      "text/plain": [
       "[S[] -> NP[NUM=?n] VP[NUM=?n],\n",
       " NP[NUM=?n] -> N[NUM=?n],\n",
       " NP[NUM=?n] -> PropN[NUM=?n],\n",
       " NP[NUM=?n] -> Det[NUM=?n] N[NUM=?n],\n",
       " NP[NUM='pl'] -> N[NUM='pl'],\n",
       " VP[NUM=?n, TENSE=?t] -> IV[NUM=?n, TENSE=?t],\n",
       " VP[NUM=?n, TENSE=?t] -> TV[NUM=?n, TENSE=?t] NP[],\n",
       " Det[NUM='sg'] -> 'this',\n",
       " Det[NUM='sg'] -> 'every',\n",
       " Det[NUM='pl'] -> 'these',\n",
       " Det[NUM='pl'] -> 'all',\n",
       " Det[] -> 'the',\n",
       " Det[] -> 'some',\n",
       " Det[] -> 'several',\n",
       " PropN[NUM='sg'] -> 'Kim',\n",
       " PropN[NUM='sg'] -> 'Jody',\n",
       " N[NUM='sg'] -> 'dog',\n",
       " N[NUM='sg'] -> 'girl',\n",
       " N[NUM='sg'] -> 'car',\n",
       " N[NUM='sg'] -> 'child',\n",
       " N[NUM='sg'] -> 'boy',\n",
       " N[NUM='pl'] -> 'dogs',\n",
       " N[NUM='pl'] -> 'girls',\n",
       " N[NUM='pl'] -> 'cars',\n",
       " N[NUM='pl'] -> 'children',\n",
       " N[NUM='pl'] -> 'boys',\n",
       " IV[NUM='sg', TENSE='pres'] -> 'disappears',\n",
       " IV[NUM='sg', TENSE='pres'] -> 'walks',\n",
       " IV[NUM='sg', TENSE='pres'] -> 'sings',\n",
       " TV[NUM='sg', TENSE='pres'] -> 'sees',\n",
       " TV[NUM='sg', TENSE='pres'] -> 'likes',\n",
       " IV[NUM='pl', TENSE='pres'] -> 'disappear',\n",
       " IV[NUM='pl', TENSE='pres'] -> 'walk',\n",
       " IV[NUM='pl', TENSE='pres'] -> 'sing',\n",
       " TV[NUM='pl', TENSE='pres'] -> 'see',\n",
       " TV[NUM='pl', TENSE='pres'] -> 'like',\n",
       " IV[TENSE='past'] -> 'disappeared',\n",
       " IV[TENSE='past'] -> 'walked',\n",
       " TV[TENSE='past'] -> 'saw',\n",
       " TV[TENSE='past'] -> 'liked']"
      ]
     },
     "execution_count": 31,
     "metadata": {},
     "output_type": "execute_result"
    }
   ],
   "source": [
    "gram.productions()"
   ]
  },
  {
   "cell_type": "code",
   "execution_count": 32,
   "metadata": {},
   "outputs": [
    {
     "name": "stdout",
     "output_type": "stream",
     "text": [
      "|.the .boy .sing.|\n",
      "Leaf Init Rule:\n",
      "|[----]    .    .| [0:1] 'the'\n",
      "|.    [----]    .| [1:2] 'boy'\n",
      "|.    .    [----]| [2:3] 'sings'\n",
      "Feature Bottom Up Predict Combine Rule:\n",
      "|[----]    .    .| [0:1] Det[] -> 'the' *\n",
      "Feature Bottom Up Predict Combine Rule:\n",
      "|[---->    .    .| [0:1] NP[NUM=?n] -> Det[NUM=?n] * N[NUM=?n] {}\n",
      "Feature Bottom Up Predict Combine Rule:\n",
      "|.    [----]    .| [1:2] N[NUM='sg'] -> 'boy' *\n",
      "Feature Bottom Up Predict Combine Rule:\n",
      "|.    [----]    .| [1:2] NP[NUM='sg'] -> N[NUM='sg'] *\n",
      "Feature Single Edge Fundamental Rule:\n",
      "|[---------]    .| [0:2] NP[NUM='sg'] -> Det[NUM='sg'] N[NUM='sg'] *\n",
      "Feature Bottom Up Predict Combine Rule:\n",
      "|[--------->    .| [0:2] S[] -> NP[NUM=?n] * VP[NUM=?n] {?n: 'sg'}\n",
      "Feature Bottom Up Predict Combine Rule:\n",
      "|.    [---->    .| [1:2] S[] -> NP[NUM=?n] * VP[NUM=?n] {?n: 'sg'}\n",
      "Feature Bottom Up Predict Combine Rule:\n",
      "|.    .    [----]| [2:3] IV[NUM='sg', TENSE='pres'] -> 'sings' *\n",
      "Feature Bottom Up Predict Combine Rule:\n",
      "|.    .    [----]| [2:3] VP[NUM='sg', TENSE='pres'] -> IV[NUM='sg', TENSE='pres'] *\n",
      "Feature Single Edge Fundamental Rule:\n",
      "|[==============]| [0:3] S[] -> NP[NUM='sg'] VP[NUM='sg'] *\n",
      "|.    [---------]| [1:3] S[] -> NP[NUM='sg'] VP[NUM='sg'] *\n",
      "(S[]\n",
      "  (NP[NUM='sg'] (Det[] the) (N[NUM='sg'] boy))\n",
      "  (VP[NUM='sg', TENSE='pres'] (IV[NUM='sg', TENSE='pres'] sings)))\n"
     ]
    }
   ],
   "source": [
    "sent = 'the boy sings'.split()\n",
    "cp = load_parser('file:C:/Users/mohit/Desktop/mygrammar.fcfg', trace = 2)\n",
    "for tree in cp.parse(sent):\n",
    "    print(tree)"
   ]
  },
  {
   "cell_type": "code",
   "execution_count": 36,
   "metadata": {},
   "outputs": [
    {
     "name": "stdout",
     "output_type": "stream",
     "text": [
      "|.the .boys.sing.|\n",
      "Leaf Init Rule:\n",
      "|[----]    .    .| [0:1] 'the'\n",
      "|.    [----]    .| [1:2] 'boys'\n",
      "|.    .    [----]| [2:3] 'sing'\n",
      "Feature Bottom Up Predict Combine Rule:\n",
      "|[----]    .    .| [0:1] Det[] -> 'the' *\n",
      "Feature Bottom Up Predict Combine Rule:\n",
      "|[---->    .    .| [0:1] NP[NUM=?n] -> Det[NUM=?n] * N[NUM=?n] {}\n",
      "Feature Bottom Up Predict Combine Rule:\n",
      "|.    [----]    .| [1:2] N[NUM='pl'] -> 'boys' *\n",
      "Feature Bottom Up Predict Combine Rule:\n",
      "|.    [----]    .| [1:2] NP[NUM='pl'] -> N[NUM='pl'] *\n",
      "Feature Single Edge Fundamental Rule:\n",
      "|[---------]    .| [0:2] NP[NUM='pl'] -> Det[NUM='pl'] N[NUM='pl'] *\n",
      "Feature Bottom Up Predict Combine Rule:\n",
      "|[--------->    .| [0:2] S[] -> NP[NUM=?n] * VP[NUM=?n] {?n: 'pl'}\n",
      "Feature Bottom Up Predict Combine Rule:\n",
      "|.    [---->    .| [1:2] S[] -> NP[NUM=?n] * VP[NUM=?n] {?n: 'pl'}\n",
      "Feature Bottom Up Predict Combine Rule:\n",
      "|.    .    [----]| [2:3] IV[NUM='pl', TENSE='pres'] -> 'sing' *\n",
      "Feature Bottom Up Predict Combine Rule:\n",
      "|.    .    [----]| [2:3] VP[NUM='pl', TENSE='pres'] -> IV[NUM='pl', TENSE='pres'] *\n",
      "Feature Single Edge Fundamental Rule:\n",
      "|[==============]| [0:3] S[] -> NP[NUM='pl'] VP[NUM='pl'] *\n",
      "|.    [---------]| [1:3] S[] -> NP[NUM='pl'] VP[NUM='pl'] *\n",
      "(S[]\n",
      "  (NP[NUM='pl'] (Det[] the) (N[NUM='pl'] boys))\n",
      "  (VP[NUM='pl', TENSE='pres'] (IV[NUM='pl', TENSE='pres'] sing)))\n"
     ]
    }
   ],
   "source": [
    "sent = 'the boys sing'.split()\n",
    "cp = load_parser('file:C:/Users/mohit/Desktop/mygrammar.fcfg', trace = 2)\n",
    "for tree in cp.parse(sent):\n",
    "    print(tree)"
   ]
  },
  {
   "cell_type": "markdown",
   "metadata": {},
   "source": [
    "**3. Write a function subsumes() which holds of two feature structures fs1 and fs2 just in case fs1 subsumes fs2.**"
   ]
  },
  {
   "cell_type": "code",
   "execution_count": 66,
   "metadata": {},
   "outputs": [],
   "source": [
    "fs1 = nltk.FeatStruct(\"\"\"[SPOUSE = [NAME = 'KIM', ADDRESS = [NUMBER = 74, STREET = 'RUE PASCAL']]]\"\"\")\n",
    "fs0 = nltk.FeatStruct(\"\"\"[NAME = 'LEE', ADDRESS = [NUMBER = 74, STREET = 'RUE PASCAL'],\n",
    "                     AGE = 33, SPOUSE = [NAME = 'KIM', ADDRESS = [NUMBER = 74, STREET = 'RUE PASCAL']]]\"\"\")"
   ]
  },
  {
   "cell_type": "code",
   "execution_count": 67,
   "metadata": {},
   "outputs": [
    {
     "data": {
      "text/plain": [
       "dict_keys(['SPOUSE'])"
      ]
     },
     "execution_count": 67,
     "metadata": {},
     "output_type": "execute_result"
    }
   ],
   "source": [
    "fs1.keys()"
   ]
  },
  {
   "cell_type": "code",
   "execution_count": 68,
   "metadata": {},
   "outputs": [
    {
     "data": {
      "text/plain": [
       "dict_keys(['NAME', 'ADDRESS'])"
      ]
     },
     "execution_count": 68,
     "metadata": {},
     "output_type": "execute_result"
    }
   ],
   "source": [
    "fs1['SPOUSE'].keys()"
   ]
  },
  {
   "cell_type": "code",
   "execution_count": 69,
   "metadata": {},
   "outputs": [],
   "source": [
    "for key in fs1.keys():\n",
    "    if fs1[key] != fs0[key]:\n",
    "        print('lala')"
   ]
  },
  {
   "cell_type": "code",
   "execution_count": 70,
   "metadata": {},
   "outputs": [
    {
     "data": {
      "text/plain": [
       "dict_values([[ADDRESS=[NUMBER=74, STREET='RUE PASCAL'], NAME='KIM']])"
      ]
     },
     "execution_count": 70,
     "metadata": {},
     "output_type": "execute_result"
    }
   ],
   "source": [
    "fs1.values()"
   ]
  },
  {
   "cell_type": "code",
   "execution_count": 74,
   "metadata": {},
   "outputs": [
    {
     "data": {
      "text/plain": [
       "dict_items([('SPOUSE', [ADDRESS=[NUMBER=74, STREET='RUE PASCAL'], NAME='KIM'])])"
      ]
     },
     "execution_count": 74,
     "metadata": {},
     "output_type": "execute_result"
    }
   ],
   "source": [
    "fs1.items()"
   ]
  },
  {
   "cell_type": "code",
   "execution_count": 75,
   "metadata": {},
   "outputs": [
    {
     "data": {
      "text/plain": [
       "dict_items([('NAME', 'LEE'), ('ADDRESS', [NUMBER=74, STREET='RUE PASCAL']), ('AGE', 33), ('SPOUSE', [ADDRESS=[NUMBER=74, STREET='RUE PASCAL'], NAME='KIM'])])"
      ]
     },
     "execution_count": 75,
     "metadata": {},
     "output_type": "execute_result"
    }
   ],
   "source": [
    "fs0.items()"
   ]
  },
  {
   "cell_type": "code",
   "execution_count": 76,
   "metadata": {
    "collapsed": true
   },
   "outputs": [],
   "source": [
    "def subsumes(f1, f2):\n",
    "    items = f2.items()\n",
    "    for item in f1.items():\n",
    "        if item not in items:\n",
    "            return False\n",
    "    return True"
   ]
  },
  {
   "cell_type": "code",
   "execution_count": 80,
   "metadata": {},
   "outputs": [
    {
     "data": {
      "text/plain": [
       "True"
      ]
     },
     "execution_count": 80,
     "metadata": {},
     "output_type": "execute_result"
    }
   ],
   "source": [
    "subsumes(fs1, fs0)"
   ]
  },
  {
   "cell_type": "code",
   "execution_count": 79,
   "metadata": {},
   "outputs": [
    {
     "data": {
      "text/plain": [
       "False"
      ]
     },
     "execution_count": 79,
     "metadata": {},
     "output_type": "execute_result"
    }
   ],
   "source": [
    "subsumes(fs0, fs1)"
   ]
  },
  {
   "cell_type": "code",
   "execution_count": 81,
   "metadata": {
    "collapsed": true
   },
   "outputs": [],
   "source": [
    "fs1 = nltk.FeatStruct(\"\"\"[Try = [SPOUSE = [NAME = 'KIM', ADDRESS = [NUMBER = 74, STREET = 'RUE PASCAL']]]]\"\"\")\n",
    "fs0 = nltk.FeatStruct(\"\"\"[NAME = 'LEE', ADDRESS = [NUMBER = 74, STREET = 'RUE PASCAL'],\n",
    "                     AGE = 33, SPOUSE = [NAME = 'KIM', ADDRESS = [NUMBER = 74, STREET = 'RUE PASCAL']]]\"\"\")"
   ]
  },
  {
   "cell_type": "code",
   "execution_count": 83,
   "metadata": {},
   "outputs": [
    {
     "data": {
      "text/plain": [
       "dict_items([('Try', [SPOUSE=[ADDRESS=[NUMBER=74, STREET='RUE PASCAL'], NAME='KIM']])])"
      ]
     },
     "execution_count": 83,
     "metadata": {},
     "output_type": "execute_result"
    }
   ],
   "source": [
    "fs1.items()"
   ]
  },
  {
   "cell_type": "code",
   "execution_count": 84,
   "metadata": {},
   "outputs": [
    {
     "data": {
      "text/plain": [
       "False"
      ]
     },
     "execution_count": 84,
     "metadata": {},
     "output_type": "execute_result"
    }
   ],
   "source": [
    "subsumes(fs1, fs0)"
   ]
  },
  {
   "cell_type": "markdown",
   "metadata": {},
   "source": [
    "**4. Modify the grammar illustrated in (28) to incorporate a bar feature for dealing with phrasal projections.**"
   ]
  },
  {
   "cell_type": "code",
   "execution_count": 85,
   "metadata": {
    "collapsed": true
   },
   "outputs": [],
   "source": [
    "#Grammar 28\n",
    "# VP[TENSE=?t, NUM=?n] -> V[SUBCAT=intrans, TENSE=?t, NUM=?n]\n",
    "# VP[TENSE=?t, NUM=?n] -> V[SUBCAT=trans, TENSE=?t, NUM=?n] NP\n",
    "# VP[TENSE=?t, NUM=?n] -> V[SUBCAT=clause, TENSE=?t, NUM=?n] SBar\n",
    "\n",
    "# V[SUBCAT=intrans, TENSE=pres, NUM=sg] -> 'disappears' | 'walks'\n",
    "# V[SUBCAT=trans, TENSE=pres, NUM=sg] -> 'sees' | 'likes'\n",
    "# V[SUBCAT=clause, TENSE=pres, NUM=sg] -> 'says' | 'claims'\n",
    "\n",
    "# V[SUBCAT=intrans, TENSE=pres, NUM=pl] -> 'disappear' | 'walk'\n",
    "# V[SUBCAT=trans, TENSE=pres, NUM=pl] -> 'see' | 'like'\n",
    "# V[SUBCAT=clause, TENSE=pres, NUM=pl] -> 'say' | 'claim'\n",
    "\n",
    "# V[SUBCAT=intrans, TENSE=past, NUM=?n] -> 'disappeared' | 'walked'\n",
    "# V[SUBCAT=trans, TENSE=past, NUM=?n] -> 'saw' | 'liked'\n",
    "# V[SUBCAT=clause, TENSE=past, NUM=?n] -> 'said' | 'claimed'"
   ]
  },
  {
   "cell_type": "markdown",
   "metadata": {},
   "source": [
    "**8. Consider the feature structures shown below**"
   ]
  },
  {
   "cell_type": "code",
   "execution_count": 86,
   "metadata": {
    "collapsed": true
   },
   "outputs": [],
   "source": [
    "fs1 = nltk.FeatStruct(\"[A = ?x, B= [C = ?x]]\")\n",
    "fs2 = nltk.FeatStruct(\"[B = [D = d]]\")\n",
    "fs3 = nltk.FeatStruct(\"[B = [C = d]]\")\n",
    "fs4 = nltk.FeatStruct(\"[A = (1)[B = b], C->(1)]\")\n",
    "fs5 = nltk.FeatStruct(\"[A = (1)[D = ?x], C = [E -> (1), F = ?x] ]\")\n",
    "fs6 = nltk.FeatStruct(\"[A = [D = d]]\")\n",
    "fs7 = nltk.FeatStruct(\"[A = [D = d], C = [F = [D = d]]]\")\n",
    "fs8 = nltk.FeatStruct(\"[A = (1)[D = ?x, G = ?x], C = [B = ?x, E -> (1)] ]\")\n",
    "fs9 = nltk.FeatStruct(\"[A = [B = b], C = [E = [G = e]]]\")\n",
    "fs10 = nltk.FeatStruct(\"[A = (1)[B = b], C -> (1)]\")"
   ]
  },
  {
   "cell_type": "markdown",
   "metadata": {},
   "source": [
    "Work out on paper what the result is of the following unifications. (Hint: you might find it useful to draw the graph structures.)\n",
    "\n",
    "a. fs1 and fs2"
   ]
  },
  {
   "cell_type": "code",
   "execution_count": 87,
   "metadata": {},
   "outputs": [
    {
     "data": {
      "text/plain": [
       "[A=?x, B=[C=?x, D='d']]"
      ]
     },
     "execution_count": 87,
     "metadata": {},
     "output_type": "execute_result"
    }
   ],
   "source": [
    "fs1.unify(fs2)"
   ]
  },
  {
   "cell_type": "markdown",
   "metadata": {},
   "source": [
    "b. fs1 and fs3"
   ]
  },
  {
   "cell_type": "code",
   "execution_count": 88,
   "metadata": {},
   "outputs": [
    {
     "data": {
      "text/plain": [
       "[A='d', B=[C='d']]"
      ]
     },
     "execution_count": 88,
     "metadata": {},
     "output_type": "execute_result"
    }
   ],
   "source": [
    "fs1.unify(fs3)"
   ]
  },
  {
   "cell_type": "markdown",
   "metadata": {},
   "source": [
    "c. fs4 and fs5\n"
   ]
  },
  {
   "cell_type": "code",
   "execution_count": 89,
   "metadata": {},
   "outputs": [
    {
     "data": {
      "text/plain": [
       "[A=(1)[B='b', D=?x, E->(1), F=?x], C->(1)]"
      ]
     },
     "execution_count": 89,
     "metadata": {},
     "output_type": "execute_result"
    }
   ],
   "source": [
    "fs4.unify(fs5)"
   ]
  },
  {
   "cell_type": "markdown",
   "metadata": {},
   "source": [
    "d. fs5 and fs6\n"
   ]
  },
  {
   "cell_type": "code",
   "execution_count": 90,
   "metadata": {},
   "outputs": [
    {
     "data": {
      "text/plain": [
       "[A=(1)[D='d'], C=[E->(1), F='d']]"
      ]
     },
     "execution_count": 90,
     "metadata": {},
     "output_type": "execute_result"
    }
   ],
   "source": [
    "fs5.unify(fs6)"
   ]
  },
  {
   "cell_type": "markdown",
   "metadata": {},
   "source": [
    "e. fs5 and fs7\n"
   ]
  },
  {
   "cell_type": "code",
   "execution_count": 92,
   "metadata": {
    "collapsed": true
   },
   "outputs": [],
   "source": [
    "fs5.unify(fs7)"
   ]
  },
  {
   "cell_type": "markdown",
   "metadata": {},
   "source": [
    "f. fs8 and fs9"
   ]
  },
  {
   "cell_type": "code",
   "execution_count": 93,
   "metadata": {},
   "outputs": [
    {
     "data": {
      "text/plain": [
       "[A=(1)[B='b', D='e', G='e'], C=[B='e', E->(1)]]"
      ]
     },
     "execution_count": 93,
     "metadata": {},
     "output_type": "execute_result"
    }
   ],
   "source": [
    "fs8.unify(fs9)"
   ]
  },
  {
   "cell_type": "markdown",
   "metadata": {},
   "source": [
    "g. fs8 and fs10"
   ]
  },
  {
   "cell_type": "code",
   "execution_count": 94,
   "metadata": {},
   "outputs": [
    {
     "data": {
      "text/plain": [
       "[A=(1)[B='b', D='b', E->(1), G='b'], C->(1)]"
      ]
     },
     "execution_count": 94,
     "metadata": {},
     "output_type": "execute_result"
    }
   ],
   "source": [
    "fs8.unify(fs10)"
   ]
  },
  {
   "cell_type": "code",
   "execution_count": null,
   "metadata": {
    "collapsed": true
   },
   "outputs": [],
   "source": []
  }
 ],
 "metadata": {
  "kernelspec": {
   "display_name": "Python 3",
   "language": "python",
   "name": "python3"
  },
  "language_info": {
   "codemirror_mode": {
    "name": "ipython",
    "version": 3
   },
   "file_extension": ".py",
   "mimetype": "text/x-python",
   "name": "python",
   "nbconvert_exporter": "python",
   "pygments_lexer": "ipython3",
   "version": "3.6.3"
  }
 },
 "nbformat": 4,
 "nbformat_minor": 2
}
